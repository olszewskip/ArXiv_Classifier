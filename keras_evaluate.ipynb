{
 "cells": [
  {
   "cell_type": "code",
   "execution_count": 1,
   "metadata": {
    "colab": {
     "base_uri": "https://localhost:8080/",
     "height": 35
    },
    "colab_type": "code",
    "id": "OEzFL4-kmoCE",
    "outputId": "3165ccfb-e63d-487a-dbd6-ae014863b2b0"
   },
   "outputs": [
    {
     "data": {
      "text/plain": [
       "'/device:GPU:0'"
      ]
     },
     "execution_count": 1,
     "metadata": {
      "tags": []
     },
     "output_type": "execute_result"
    }
   ],
   "source": [
    "#from tensorflow import test\n",
    "#test.gpu_device_name()"
   ]
  },
  {
   "cell_type": "code",
   "execution_count": 2,
   "metadata": {
    "colab": {
     "base_uri": "https://localhost:8080/",
     "height": 35
    },
    "colab_type": "code",
    "id": "VxKgBtiKmo8r",
    "outputId": "a80384d9-e181-4f89-cd63-3d1e9bafc27b"
   },
   "outputs": [
    {
     "name": "stdout",
     "output_type": "stream",
     "text": [
      "Drive already mounted at /content/gdrive; to attempt to forcibly remount, call drive.mount(\"/content/gdrive\", force_remount=True).\n"
     ]
    }
   ],
   "source": [
    "#from google.colab import drive\n",
    "#drive.mount('/content/gdrive')"
   ]
  },
  {
   "cell_type": "code",
   "execution_count": 1,
   "metadata": {
    "colab": {},
    "colab_type": "code",
    "id": "4Lrmzm4QmrwM"
   },
   "outputs": [],
   "source": [
    "#path = '/content/gdrive/My Drive/Colab Notebooks/ArXiv_Classifier'\n",
    "path = \"\""
   ]
  },
  {
   "cell_type": "code",
   "execution_count": 2,
   "metadata": {
    "colab": {
     "base_uri": "https://localhost:8080/",
     "height": 35
    },
    "colab_type": "code",
    "id": "lO-kLBfLfPhk",
    "outputId": "bde496a8-b3c7-42ca-8e54-4d18f404b85d"
   },
   "outputs": [
    {
     "name": "stderr",
     "output_type": "stream",
     "text": [
      "Using TensorFlow backend.\n"
     ]
    }
   ],
   "source": [
    "import os\n",
    "import pickle\n",
    "import json\n",
    "from itertools import cycle, product\n",
    "import pandas as pd\n",
    "\n",
    "import numpy as np\n",
    "np.random.seed(123)\n",
    "\n",
    "from tensorflow import set_random_seed\n",
    "set_random_seed(123)\n",
    "\n",
    "from keras.models import Sequential, save_model, load_model\n",
    "from keras.layers import *\n",
    "from keras import backend as K\n",
    "from sklearn.metrics import f1_score\n",
    "\n",
    "from keras.callbacks import ReduceLROnPlateau, EarlyStopping, Callback\n",
    "\n",
    "import matplotlib.pyplot as plt\n",
    "from seaborn import color_palette \n",
    "plt.style.use('seaborn')"
   ]
  },
  {
   "cell_type": "markdown",
   "metadata": {
    "colab_type": "text",
    "id": "EmDxjon7fPhr"
   },
   "source": [
    "# Summary\n",
    "\n",
    "So far the test-data was never used in examining neural nets. Here I'm evaluating the network that proved most promising on this data. This is meant as the final evaluation of the *deep-learning* in the project. The obtained score is:\n",
    "\n",
    "### 81% macro-f1,\n",
    "which is only marginally higher than the score of the shallow classifiers (by less than one percentage point).\n",
    "\n",
    "The above score was achieved by a very simple neural network composed of just three layers: the word-embedding, global average-pooling with flattening, and the final dense six-neuron layer with softmax activation.\n",
    "\n",
    "I have tested also more sophisticated networks, including recurrent nets. But, dissapointingly, the more complicated the network that was used, the worse the learning curves had gotten. So far, my observation is that - for the purpose of maximising the macroF1 score - there is no nuanced, hierarchical, convoluted information is my dataset that would be significant enough to allow the nets to surpass simple classifiers beased on Support-Vector-Machines or Logistical-Regression. Also the nets take much longer to fit.\n",
    "\n",
    "The one intersting observation is that choice of the loss function is one way to excert some influence over final classfication characteristics, like the macro-precision, f1 and recall, which were of particular interest in this project. \n",
    "\n",
    "The steps below are:\n",
    "* Load in the same constants, parameters, custom functions and the keras-wrapper as before when fittig to the train dataset.\n",
    "* Use the embedding weights produced in *keras_GlobalAvg_GridSeearch.ipynb* and stored on disk.\n",
    "* Load in the *train+val* data and, separately the *test* data.\n",
    "* Fit the architecture to *train+val* with an early-stopping callback.\n",
    "* Make the final evaluation on *test*."
   ]
  },
  {
   "cell_type": "markdown",
   "metadata": {
    "colab_type": "text",
    "id": "eASU7MFAfPhs"
   },
   "source": [
    "---\n",
    "Boilerplate"
   ]
  },
  {
   "cell_type": "code",
   "execution_count": 3,
   "metadata": {
    "colab": {},
    "colab_type": "code",
    "id": "c17a0oUcfPht"
   },
   "outputs": [],
   "source": [
    "#! mkdir keras_evaluate_results\n",
    "working_dir = 'keras_evaluate_results'"
   ]
  },
  {
   "cell_type": "code",
   "execution_count": 4,
   "metadata": {
    "colab": {
     "base_uri": "https://localhost:8080/",
     "height": 127
    },
    "colab_type": "code",
    "id": "LIMXIHqRfPhx",
    "outputId": "5b80022e-5305-4707-8297-32e0111db464"
   },
   "outputs": [
    {
     "data": {
      "text/plain": [
       "{'unique_words': 277303,\n",
       " 'num_words': 277304,\n",
       " 'padded_length': 679,\n",
       " 'n_classes': 6,\n",
       " 'class_weights': array([ 1.26825655,  0.72736371,  0.27602776, 13.23801959, 30.29201502,\n",
       "         9.49559404])}"
      ]
     },
     "execution_count": 4,
     "metadata": {},
     "output_type": "execute_result"
    }
   ],
   "source": [
    "global_params = pickle.load(open(os.path.join(path,\"global_params.p\"), \"rb\"))\n",
    "unique_words = global_params['unique_words']\n",
    "num_words = global_params['num_words']\n",
    "padded_length = global_params['padded_length']\n",
    "n_classes = global_params['n_classes']\n",
    "class_weights = global_params['class_weights']\n",
    "\n",
    "global_params"
   ]
  },
  {
   "cell_type": "code",
   "execution_count": 5,
   "metadata": {
    "colab": {
     "base_uri": "https://localhost:8080/",
     "height": 90
    },
    "colab_type": "code",
    "id": "doGIZRnofPh0",
    "outputId": "7911e804-826e-45d8-df0f-a3a9235d09c6"
   },
   "outputs": [
    {
     "data": {
      "text/plain": [
       "['categorical_accuracy',\n",
       " <function __main__.macroPrec(y_true, y_pred)>,\n",
       " <function __main__.macroF1(y_true, y_pred)>,\n",
       " <function __main__.macroRecall(y_true, y_pred)>]"
      ]
     },
     "execution_count": 5,
     "metadata": {},
     "output_type": "execute_result"
    }
   ],
   "source": [
    "%run keras_custom_functions.ipynb\n",
    "\n",
    "# notebook1 = '/content/gdrive/My\\ Drive/Colab\\ Notebooks/ArXiv_Classifier/keras_custom_functions.ipynb'\n",
    "# %run $notebook1\n",
    "\n",
    "#my_metrics = list(CUSTOM_OBJECTS.values())\n",
    "my_metrics = ['categorical_accuracy', macroPrec, macroF1, macroRecall]\n",
    "my_metrics"
   ]
  },
  {
   "cell_type": "code",
   "execution_count": 6,
   "metadata": {
    "colab": {},
    "colab_type": "code",
    "id": "UP-0IUnhfPh4"
   },
   "outputs": [],
   "source": [
    "%run keras_plot_history.ipynb\n",
    "%run keras_blackbox_wrapper.ipynb\n",
    "\n",
    "# notebook2 = '/content/gdrive/My\\ Drive/Colab\\ Notebooks/ArXiv_Classifier/keras_plot_history.ipynb'\n",
    "# %run $notebook2\n",
    "\n",
    "# notebook3 = '/content/gdrive/My\\ Drive/Colab\\ Notebooks/ArXiv_Classifier/keras_blackbox_wrapper.ipynb'\n",
    "# %run $notebook3"
   ]
  },
  {
   "cell_type": "markdown",
   "metadata": {
    "colab_type": "text",
    "id": "49YcnKXKfPh8"
   },
   "source": [
    "---\n",
    "Embedding weights"
   ]
  },
  {
   "cell_type": "code",
   "execution_count": 7,
   "metadata": {
    "colab": {},
    "colab_type": "code",
    "id": "uGR13_94fPh9"
   },
   "outputs": [],
   "source": [
    "embedd_file_crossent = os.path.join(path, 'keras_GlobalAvg_GridSearch_results', 'GlobalAvg_categorical_crossentropy_batch200_nadam_weights.p')\n",
    "embedd_file_myloss = os.path.join(path, 'keras_GlobalAvg_GridSearch_results', 'GlobalAvg_my_loss_batch200_nadam_weights.p')"
   ]
  },
  {
   "cell_type": "markdown",
   "metadata": {
    "colab_type": "text",
    "id": "36Y7DohnfPiA"
   },
   "source": [
    "---\n",
    "Train- and validation-data together"
   ]
  },
  {
   "cell_type": "code",
   "execution_count": 0,
   "metadata": {
    "colab": {},
    "colab_type": "code",
    "id": "JpE74RGwfPiC"
   },
   "outputs": [],
   "source": [
    "X_trainval = np.zeros((700_000, padded_length))\n",
    "y_trainval = np.zeros((700_000, n_classes))\n",
    "\n",
    "X_trainval[:500_000, :] = np.load(os.path.join(path, \"data\", \"Kdata\", \"X_train.npy\"))\n",
    "X_trainval[500_000:, :] = np.load(os.path.join(path, \"data\", \"Kdata\", \"X_val.npy\"))\n",
    "\n",
    "y_trainval[:500_000, :] = np.load(os.path.join(path, \"data\", \"Kdata\", \"y_train.npy\"))\n",
    "y_trainval[500_000:, :] = np.load(os.path.join(path, \"data\", \"Kdata\", \"y_val.npy\"))"
   ]
  },
  {
   "cell_type": "markdown",
   "metadata": {
    "colab_type": "text",
    "id": "_9EzddvwfPiG"
   },
   "source": [
    "---\n",
    "Test data"
   ]
  },
  {
   "cell_type": "code",
   "execution_count": 8,
   "metadata": {
    "colab": {},
    "colab_type": "code",
    "id": "e8TIsTvWfPiI"
   },
   "outputs": [],
   "source": [
    "X_test = np.load(os.path.join(path, \"data\", \"Kdata\", \"X_test.npy\"))\n",
    "y_test = np.load(os.path.join(path, \"data\", \"Kdata\", \"y_test.npy\"))"
   ]
  },
  {
   "cell_type": "markdown",
   "metadata": {
    "colab_type": "text",
    "id": "7bInECIifPiN"
   },
   "source": [
    "---\n",
    "Epochs, callbacks\n",
    "\n",
    "Callbacks are monitoring the increase of val_macroF1 and they kick in when it is small (0.005 points). We're first reducing the learning-rate by an order of magnitude (patience=1), and then early-stop (patience=2)."
   ]
  },
  {
   "cell_type": "code",
   "execution_count": 11,
   "metadata": {
    "colab": {},
    "colab_type": "code",
    "id": "mqSk0MdnfPiN"
   },
   "outputs": [],
   "source": [
    "# let's train for\n",
    "epochs = 10\n",
    "# with\n",
    "callbacks = [ReduceLROnPlateau(factor=0.1, monitor='val_macroF1', mode='max', min_delta=5e-3, patience = 1),\n",
    "            EarlyStopping(monitor='val_macroF1', mode='max', min_delta=5e-3, patience=2)\n",
    "           ]"
   ]
  },
  {
   "cell_type": "markdown",
   "metadata": {
    "colab_type": "text",
    "id": "befmVzjEfPiQ"
   },
   "source": [
    "---\n",
    "## Global averaging directly on top of the embedding\n",
    "Less dropout than when grid-searching and preparing the embedding"
   ]
  },
  {
   "cell_type": "code",
   "execution_count": 12,
   "metadata": {
    "colab": {},
    "colab_type": "code",
    "id": "LcanQtKdfPiR"
   },
   "outputs": [],
   "source": [
    "layers = [Dropout(0.1), GlobalAveragePooling1D()]"
   ]
  },
  {
   "cell_type": "markdown",
   "metadata": {
    "colab_type": "text",
    "id": "BBpZAbkkfPiU"
   },
   "source": [
    "#### loss = *my_loss*"
   ]
  },
  {
   "cell_type": "code",
   "execution_count": 13,
   "metadata": {
    "colab": {
     "base_uri": "https://localhost:8080/",
     "height": 311
    },
    "colab_type": "code",
    "id": "FwkzGU-MfPiW",
    "outputId": "00afb033-4cfe-4ae8-b17a-c2178829c1e1"
   },
   "outputs": [
    {
     "name": "stdout",
     "output_type": "stream",
     "text": [
      "loss=my_loss, batch_size=200, optimizer=nadam, explicit-class-weights: False, embedd-trainable: True\n",
      "_________________________________________________________________\n",
      "Layer (type)                 Output Shape              Param #   \n",
      "=================================================================\n",
      "embedding_1 (Embedding)      (None, 679, 50)           13865200  \n",
      "_________________________________________________________________\n",
      "dropout_2 (Dropout)          (None, 679, 50)           0         \n",
      "_________________________________________________________________\n",
      "global_average_pooling1d_2 ( (None, 50)                0         \n",
      "_________________________________________________________________\n",
      "dense_1 (Dense)              (None, 6)                 306       \n",
      "=================================================================\n",
      "Total params: 13,865,506\n",
      "Trainable params: 13,865,506\n",
      "Non-trainable params: 0\n",
      "_________________________________________________________________\n"
     ]
    }
   ],
   "source": [
    "loss, batch_size, optimizer = my_loss, 200, 'nadam'\n",
    "\n",
    "model_final = BlackBox(tag=\"GlobalAvg\",\\\n",
    "                       layers=layers, loss=loss, batch_size=batch_size, optimizer=optimizer,\\\n",
    "                       epochs=epochs, metrics=my_metrics, callbacks=callbacks)\n",
    "\n",
    "model_final.load_embedd(embedd_file_myloss, trainable=True)\n",
    "model_final.summary()"
   ]
  },
  {
   "cell_type": "code",
   "execution_count": 18,
   "metadata": {
    "colab": {
     "base_uri": "https://localhost:8080/",
     "height": 202
    },
    "colab_type": "code",
    "id": "lsFYlqFTfPiY",
    "outputId": "8867549c-5839-47bb-abd9-48373bbf5b67"
   },
   "outputs": [
    {
     "name": "stdout",
     "output_type": "stream",
     "text": [
      "loss=my_loss, batch_size=200, optimizer=nadam, explicit-class-weights: False, embedd-trainable: True\n",
      "Train on 700000 samples, validate on 138804 samples\n",
      "Epoch 1/10\n",
      "700000/700000 [==============================] - 194s 278us/step - loss: 0.2726 - categorical_accuracy: 0.9339 - macroPrec: 0.7531 - macroF1: 0.7366 - macroRecall: 0.7468 - val_loss: 0.2548 - val_categorical_accuracy: 0.9317 - val_macroPrec: 0.7473 - val_macroF1: 0.7422 - val_macroRecall: 0.7642\n",
      "Epoch 2/10\n",
      "700000/700000 [==============================] - 191s 274us/step - loss: 0.2054 - categorical_accuracy: 0.9455 - macroPrec: 0.7988 - macroF1: 0.7970 - macroRecall: 0.8173 - val_loss: 0.2527 - val_categorical_accuracy: 0.9341 - val_macroPrec: 0.7518 - val_macroF1: 0.7418 - val_macroRecall: 0.7592\n",
      "Epoch 3/10\n",
      "700000/700000 [==============================] - 202s 289us/step - loss: 0.1902 - categorical_accuracy: 0.9497 - macroPrec: 0.8128 - macroF1: 0.8115 - macroRecall: 0.8298 - val_loss: 0.2525 - val_categorical_accuracy: 0.9343 - val_macroPrec: 0.7536 - val_macroF1: 0.7429 - val_macroRecall: 0.7593\n",
      "Last val_macroF1: 0.7428878782652685\n"
     ]
    }
   ],
   "source": [
    "model_final.fit(X_trainval, y_trainval, validate_on=(X_test, y_test))\n",
    "model_final.Ksave()\n",
    "model_final.save_hist()"
   ]
  },
  {
   "cell_type": "markdown",
   "metadata": {
    "colab_type": "text",
    "id": "1t-cbTJyBr7v"
   },
   "source": [
    "*The custom loss function finished in three epochs.*"
   ]
  },
  {
   "cell_type": "code",
   "execution_count": 14,
   "metadata": {
    "colab": {},
    "colab_type": "code",
    "id": "IvmPU08yfPib"
   },
   "outputs": [
    {
     "name": "stdout",
     "output_type": "stream",
     "text": [
      "Ovewriting the model.\n"
     ]
    }
   ],
   "source": [
    "model_final.load_hist()\n",
    "model_final.Kload()"
   ]
  },
  {
   "cell_type": "markdown",
   "metadata": {
    "colab_type": "text",
    "id": "kTyl37dKm2dg"
   },
   "source": [
    "Aside from the metrics and the loss function, I'm also plotting the learning rate."
   ]
  },
  {
   "cell_type": "code",
   "execution_count": 15,
   "metadata": {
    "colab": {
     "base_uri": "https://localhost:8080/",
     "height": 441
    },
    "colab_type": "code",
    "id": "jzVWvhaofPie",
    "outputId": "3d5ceee8-27ae-4e41-add6-0f346a6a4f1d"
   },
   "outputs": [
    {
     "name": "stdout",
     "output_type": "stream",
     "text": [
      "loss=my_loss, batch_size=200, optimizer=nadam, explicit-class-weights: False, embedd-trainable: True\n"
     ]
    },
    {
     "data": {
      "image/png": "[encoded data removed]",
      "text/plain": [
       "<Figure size 1247.08x432 with 3 Axes>"
      ]
     },
     "metadata": {
      "needs_background": "light"
     },
     "output_type": "display_data"
    }
   ],
   "source": [
    "model_final.plot(with_loss=True, with_lr=True)"
   ]
  },
  {
   "cell_type": "code",
   "execution_count": 16,
   "metadata": {
    "colab": {
     "base_uri": "https://localhost:8080/",
     "height": 238
    },
    "colab_type": "code",
    "id": "X48-_P9qfPih",
    "outputId": "00695430-cf45-4042-91a6-4c75a254a1a3"
   },
   "outputs": [
    {
     "data": {
      "text/html": [
       "<div>\n",
       "<style scoped>\n",
       "    .dataframe tbody tr th:only-of-type {\n",
       "        vertical-align: middle;\n",
       "    }\n",
       "\n",
       "    .dataframe tbody tr th {\n",
       "        vertical-align: top;\n",
       "    }\n",
       "\n",
       "    .dataframe thead th {\n",
       "        text-align: right;\n",
       "    }\n",
       "</style>\n",
       "<table border=\"1\" class=\"dataframe\">\n",
       "  <thead>\n",
       "    <tr style=\"text-align: right;\">\n",
       "      <th></th>\n",
       "      <th>GlobalAvg</th>\n",
       "    </tr>\n",
       "  </thead>\n",
       "  <tbody>\n",
       "    <tr>\n",
       "      <th>cat_cross</th>\n",
       "      <td>0.316847</td>\n",
       "    </tr>\n",
       "    <tr>\n",
       "      <th>my_loss</th>\n",
       "      <td>0.194132</td>\n",
       "    </tr>\n",
       "    <tr>\n",
       "      <th>cat_acc</th>\n",
       "      <td>0.934317</td>\n",
       "    </tr>\n",
       "    <tr>\n",
       "      <th>macroPrec</th>\n",
       "      <td>0.804425</td>\n",
       "    </tr>\n",
       "    <tr>\n",
       "      <th>macroF1</th>\n",
       "      <td>0.810802</td>\n",
       "    </tr>\n",
       "    <tr>\n",
       "      <th>macroRecall</th>\n",
       "      <td>0.817515</td>\n",
       "    </tr>\n",
       "  </tbody>\n",
       "</table>\n",
       "</div>"
      ],
      "text/plain": [
       "             GlobalAvg\n",
       "cat_cross     0.316847\n",
       "my_loss       0.194132\n",
       "cat_acc       0.934317\n",
       "macroPrec     0.804425\n",
       "macroF1       0.810802\n",
       "macroRecall   0.817515"
      ]
     },
     "execution_count": 16,
     "metadata": {},
     "output_type": "execute_result"
    }
   ],
   "source": [
    "model_final.evaluate(X_test, y_test)"
   ]
  },
  {
   "cell_type": "markdown",
   "metadata": {
    "colab_type": "text",
    "id": "RSfCMbGtAOKe"
   },
   "source": [
    "---\n",
    "#### loss = categorical_crosentropy"
   ]
  },
  {
   "cell_type": "code",
   "execution_count": 17,
   "metadata": {
    "colab": {
     "base_uri": "https://localhost:8080/",
     "height": 311
    },
    "colab_type": "code",
    "id": "YwwXHPsnANQD",
    "outputId": "e7b9b486-8453-4d37-9936-c52a62df01ee"
   },
   "outputs": [
    {
     "name": "stdout",
     "output_type": "stream",
     "text": [
      "loss=categorical_crossentropy, batch_size=200, optimizer=nadam, explicit-class-weights: True, embedd-trainable: True\n",
      "_________________________________________________________________\n",
      "Layer (type)                 Output Shape              Param #   \n",
      "=================================================================\n",
      "embedding_2 (Embedding)      (None, 679, 50)           13865200  \n",
      "_________________________________________________________________\n",
      "dropout_2 (Dropout)          (None, 679, 50)           0         \n",
      "_________________________________________________________________\n",
      "global_average_pooling1d_2 ( (None, 50)                0         \n",
      "_________________________________________________________________\n",
      "dense_2 (Dense)              (None, 6)                 306       \n",
      "=================================================================\n",
      "Total params: 13,865,506\n",
      "Trainable params: 13,865,506\n",
      "Non-trainable params: 0\n",
      "_________________________________________________________________\n"
     ]
    }
   ],
   "source": [
    "loss, batch_size, optimizer = 'categorical_crossentropy', 200, 'nadam'\n",
    "\n",
    "model_second = BlackBox(tag=\"GlobalAvg\",\\\n",
    "                        layers=layers, loss=loss, batch_size=batch_size, optimizer=optimizer,\\\n",
    "                        epochs=epochs, metrics=my_metrics, callbacks=callbacks)\n",
    "\n",
    "model_second.load_embedd(embedd_file_crossent, trainable=True)\n",
    "model_second.summary()"
   ]
  },
  {
   "cell_type": "code",
   "execution_count": 24,
   "metadata": {
    "colab": {
     "base_uri": "https://localhost:8080/",
     "height": 276
    },
    "colab_type": "code",
    "id": "VcwgVEoZAvRu",
    "outputId": "75df1c7a-e1c9-4079-fbb7-b09a4cdfb18e"
   },
   "outputs": [
    {
     "name": "stdout",
     "output_type": "stream",
     "text": [
      "loss=categorical_crossentropy, batch_size=200, optimizer=nadam, explicit-class-weights: True, embedd-trainable: True\n",
      "Train on 700000 samples, validate on 138804 samples\n",
      "Epoch 1/10\n",
      "700000/700000 [==============================] - 182s 259us/step - loss: 0.2228 - categorical_accuracy: 0.9259 - macroPrec: 0.6738 - macroF1: 0.6230 - macroRecall: 0.6040 - val_loss: 0.1790 - val_categorical_accuracy: 0.9368 - val_macroPrec: 0.7621 - val_macroF1: 0.7180 - val_macroRecall: 0.7063\n",
      "Epoch 2/10\n",
      "700000/700000 [==============================] - 188s 268us/step - loss: 0.1388 - categorical_accuracy: 0.9507 - macroPrec: 0.8051 - macroF1: 0.7675 - macroRecall: 0.7571 - val_loss: 0.1798 - val_categorical_accuracy: 0.9367 - val_macroPrec: 0.7647 - val_macroF1: 0.7202 - val_macroRecall: 0.7091\n",
      "Epoch 3/10\n",
      "700000/700000 [==============================] - 194s 277us/step - loss: 0.1231 - categorical_accuracy: 0.9564 - macroPrec: 0.8273 - macroF1: 0.7915 - macroRecall: 0.7810 - val_loss: 0.1804 - val_categorical_accuracy: 0.9368 - val_macroPrec: 0.7655 - val_macroF1: 0.7249 - val_macroRecall: 0.7160\n",
      "Epoch 4/10\n",
      "700000/700000 [==============================] - 188s 268us/step - loss: 0.1216 - categorical_accuracy: 0.9570 - macroPrec: 0.8258 - macroF1: 0.7927 - macroRecall: 0.7831 - val_loss: 0.1812 - val_categorical_accuracy: 0.9366 - val_macroPrec: 0.7635 - val_macroF1: 0.7257 - val_macroRecall: 0.7182\n",
      "Epoch 5/10\n",
      "700000/700000 [==============================] - 193s 275us/step - loss: 0.1198 - categorical_accuracy: 0.9577 - macroPrec: 0.8260 - macroF1: 0.7944 - macroRecall: 0.7858 - val_loss: 0.1812 - val_categorical_accuracy: 0.9367 - val_macroPrec: 0.7642 - val_macroF1: 0.7256 - val_macroRecall: 0.7177\n",
      "Last val_macroF1: 0.7255540823883901\n"
     ]
    }
   ],
   "source": [
    "model_second.fit(X_trainval, y_trainval, validate_on=(X_test, y_test))\n",
    "model_second.Ksave()\n",
    "model_second.save_hist()"
   ]
  },
  {
   "cell_type": "code",
   "execution_count": 18,
   "metadata": {
    "colab": {
     "base_uri": "https://localhost:8080/",
     "height": 35
    },
    "colab_type": "code",
    "id": "rsJsR0YrAvIj",
    "outputId": "144772fc-ac81-4802-99f3-423a56aeb6c9"
   },
   "outputs": [
    {
     "name": "stdout",
     "output_type": "stream",
     "text": [
      "Ovewriting the model.\n"
     ]
    }
   ],
   "source": [
    "model_second.load_hist()\n",
    "model_second.Kload()"
   ]
  },
  {
   "cell_type": "code",
   "execution_count": 19,
   "metadata": {
    "colab": {
     "base_uri": "https://localhost:8080/",
     "height": 441
    },
    "colab_type": "code",
    "id": "vBMcRaPDAu4d",
    "outputId": "67c0397f-6058-4598-c372-4ab41480888b"
   },
   "outputs": [
    {
     "name": "stdout",
     "output_type": "stream",
     "text": [
      "loss=categorical_crossentropy, batch_size=200, optimizer=nadam, explicit-class-weights: True, embedd-trainable: True\n"
     ]
    },
    {
     "data": {
      "image/png": "[encoded data removed]",
      "text/plain": [
       "<Figure size 1247.08x432 with 3 Axes>"
      ]
     },
     "metadata": {
      "needs_background": "light"
     },
     "output_type": "display_data"
    }
   ],
   "source": [
    "model_second.plot(with_loss=True, with_lr=True)"
   ]
  },
  {
   "cell_type": "code",
   "execution_count": 20,
   "metadata": {
    "colab": {
     "base_uri": "https://localhost:8080/",
     "height": 238
    },
    "colab_type": "code",
    "id": "OhyBnj-DA9r7",
    "outputId": "b9b6a210-84e1-427f-e3d8-df6d47a45bab"
   },
   "outputs": [
    {
     "data": {
      "text/html": [
       "<div>\n",
       "<style scoped>\n",
       "    .dataframe tbody tr th:only-of-type {\n",
       "        vertical-align: middle;\n",
       "    }\n",
       "\n",
       "    .dataframe tbody tr th {\n",
       "        vertical-align: top;\n",
       "    }\n",
       "\n",
       "    .dataframe thead th {\n",
       "        text-align: right;\n",
       "    }\n",
       "</style>\n",
       "<table border=\"1\" class=\"dataframe\">\n",
       "  <thead>\n",
       "    <tr style=\"text-align: right;\">\n",
       "      <th></th>\n",
       "      <th>GlobalAvg</th>\n",
       "    </tr>\n",
       "  </thead>\n",
       "  <tbody>\n",
       "    <tr>\n",
       "      <th>cat_cross</th>\n",
       "      <td>0.181215</td>\n",
       "    </tr>\n",
       "    <tr>\n",
       "      <th>my_loss</th>\n",
       "      <td>0.234182</td>\n",
       "    </tr>\n",
       "    <tr>\n",
       "      <th>cat_acc</th>\n",
       "      <td>0.936724</td>\n",
       "    </tr>\n",
       "    <tr>\n",
       "      <th>macroPrec</th>\n",
       "      <td>0.838194</td>\n",
       "    </tr>\n",
       "    <tr>\n",
       "      <th>macroF1</th>\n",
       "      <td>0.798081</td>\n",
       "    </tr>\n",
       "    <tr>\n",
       "      <th>macroRecall</th>\n",
       "      <td>0.765180</td>\n",
       "    </tr>\n",
       "  </tbody>\n",
       "</table>\n",
       "</div>"
      ],
      "text/plain": [
       "             GlobalAvg\n",
       "cat_cross     0.181215\n",
       "my_loss       0.234182\n",
       "cat_acc       0.936724\n",
       "macroPrec     0.838194\n",
       "macroF1       0.798081\n",
       "macroRecall   0.765180"
      ]
     },
     "execution_count": 20,
     "metadata": {},
     "output_type": "execute_result"
    }
   ],
   "source": [
    "model_second.evaluate(X_test, y_test)"
   ]
  },
  {
   "cell_type": "markdown",
   "metadata": {
    "colab_type": "text",
    "id": "IxJA9gC0AAKS"
   },
   "source": [
    "---\n",
    "### End"
   ]
  }
 ],
 "metadata": {
  "accelerator": "GPU",
  "colab": {
   "collapsed_sections": [],
   "name": "keras_evaluate.ipynb",
   "provenance": [],
   "version": "0.3.2"
  },
  "kernelspec": {
   "display_name": "Python 3",
   "language": "python",
   "name": "python3"
  },
  "language_info": {
   "codemirror_mode": {
    "name": "ipython",
    "version": 3
   },
   "file_extension": ".py",
   "mimetype": "text/x-python",
   "name": "python",
   "nbconvert_exporter": "python",
   "pygments_lexer": "ipython3",
   "version": "3.6.7"
  }
 },
 "nbformat": 4,
 "nbformat_minor": 1
}
