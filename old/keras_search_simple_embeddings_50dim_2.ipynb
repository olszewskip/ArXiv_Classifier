{
 "cells": [
  {
   "cell_type": "code",
   "execution_count": 2,
   "metadata": {},
   "outputs": [
    {
     "name": "stderr",
     "output_type": "stream",
     "text": [
      "Using TensorFlow backend.\n"
     ]
    }
   ],
   "source": [
    "import os\n",
    "import pandas as pd\n",
    "import numpy as np\n",
    "import pickle\n",
    "import json\n",
    "from itertools import product\n",
    "\n",
    "from keras.models import Sequential, load_model\n",
    "from keras.layers import *\n",
    "\n",
    "from keras.callbacks import ReduceLROnPlateau, EarlyStopping, Callback\n",
    "\n",
    "import matplotlib.pyplot as plt\n",
    "plt.style.use('seaborn')"
   ]
  },
  {
   "cell_type": "markdown",
   "metadata": {},
   "source": [
    "# Summary\n",
    "I'm fitting the keras' embedding layer for a few epochs within the possibly simplest imaginable setup, namely with global averaging and softmax on top. This examinations in meant to be fairly inexpensive but broad, and serve to produce reasonable starting embeddings for more complicated net architectures and to compare various loss-functions/batch-sizes/optimizers. The choice of loss function is a somewhat non-trivial matter due to the class imbalance of our dataset and the stated objective of maximazing the macroF1 score.\n",
    "\n",
    "* Results land in the directory defined in the *working_dir* variable below.\n",
    "* Weights are stores as *blabla_weights.p* and they may be directly depickled into the *weights* argument of the Embedding layer (see the *Embedding* within *init* of the *BlackBox* class). \n",
    "* There are some nice plots below.\n",
    "\n",
    "We manage to establish an interesting benchmark for our dataset: the simple setup described above is almost enough to reproduce the perfomarmance of shallow classifiers, *macroF1*=80%. For other net architectures to carry their weight, they'll have to go beyond that."
   ]
  },
  {
   "cell_type": "markdown",
   "metadata": {},
   "source": [
    "---"
   ]
  },
  {
   "cell_type": "markdown",
   "metadata": {},
   "source": [
    "### Load the data in\n",
    "The test data is not used"
   ]
  },
  {
   "cell_type": "code",
   "execution_count": 3,
   "metadata": {},
   "outputs": [
    {
     "data": {
      "text/plain": [
       "{'unique_words': 277303,\n",
       " 'num_words': 277304,\n",
       " 'padded_length': 679,\n",
       " 'n_classes': 6,\n",
       " 'class_weights': array([ 1.26825655,  0.72736371,  0.27602776, 13.23801959, 30.29201502,\n",
       "         9.49559404])}"
      ]
     },
     "execution_count": 3,
     "metadata": {},
     "output_type": "execute_result"
    }
   ],
   "source": [
    "global_params = pickle.load(open(\"global_params.p\", \"rb\"))\n",
    "unique_words = global_params['unique_words']\n",
    "num_words = global_params['num_words']\n",
    "padded_length = global_params['padded_length']\n",
    "n_classes = global_params['n_classes']\n",
    "class_weights = global_params['class_weights']\n",
    "\n",
    "global_params"
   ]
  },
  {
   "cell_type": "code",
   "execution_count": 4,
   "metadata": {},
   "outputs": [],
   "source": [
    "X_train = np.load(os.path.join(\"data\", \"Kdata\", \"X_train.npy\"))\n",
    "y_train = np.load(os.path.join(\"data\", \"Kdata\", \"y_train.npy\"))\n",
    "X_val = np.load(os.path.join(\"data\", \"Kdata\", \"X_val.npy\"))\n",
    "y_val = np.load(os.path.join(\"data\", \"Kdata\", \"y_val.npy\"))"
   ]
  },
  {
   "cell_type": "markdown",
   "metadata": {},
   "source": [
    "---"
   ]
  },
  {
   "cell_type": "markdown",
   "metadata": {},
   "source": [
    "## Start of boilerplate"
   ]
  },
  {
   "cell_type": "markdown",
   "metadata": {},
   "source": [
    "### Some custom definitions\n",
    "* metrics\n",
    "* loss functions\n",
    "* choice of learning parameters and settings"
   ]
  },
  {
   "cell_type": "code",
   "execution_count": 5,
   "metadata": {},
   "outputs": [],
   "source": [
    "from keras import backend as K\n",
    "\n",
    "# Custom metrics.\n",
    "# Note that any metric is computed per batch during training\n",
    "# (hence one needs large batches for it to make sense).\n",
    "# Also, there is the implicit 0.5 treshold in the K.round function below\n",
    "\n",
    "def macroPrec(y_true, y_pred):\n",
    "    \n",
    "    true_positives = K.sum(K.round(K.clip(y_true * y_pred, 0, 1)), axis=0)\n",
    "    positives = K.sum(K.round(y_pred), axis=0)\n",
    "    precision = true_positives / (positives + K.epsilon())\n",
    "\n",
    "    macroPrec = K.mean( precision )\n",
    "    \n",
    "    return macroPrec\n",
    "\n",
    "\n",
    "def macroRecall(y_true, y_pred):\n",
    "    \n",
    "    true_positives = K.sum(K.round(K.clip(y_true * y_pred, 0, 1)), axis=0)\n",
    "    actual_ones = K.sum(K.round(K.clip(y_true, 0, 1)), axis=0)\n",
    "    recall = true_positives / (actual_ones + K.epsilon())\n",
    "\n",
    "    macroRecall = K.mean( recall )\n",
    "    \n",
    "    return macroRecall\n",
    "\n",
    "\n",
    "def macroF1(y_true, y_pred):\n",
    "\n",
    "    true_positives = K.sum(K.round(K.clip(y_true * y_pred, 0, 1)), axis=0)\n",
    "    \n",
    "    actual_ones = K.sum(K.round(K.clip(y_true, 0, 1)), axis=0)\n",
    "    recall = true_positives / (actual_ones + K.epsilon())\n",
    "\n",
    "    positives = K.sum(K.round(K.clip(y_pred, 0, 1)), axis=0)\n",
    "    precision = true_positives / (positives + K.epsilon())\n",
    "    \n",
    "    macroF1 = 2 * K.mean( precision*recall / (precision + recall + K.epsilon()) )\n",
    "    \n",
    "    return macroF1\n",
    "\n",
    "\n",
    "\n",
    "# Custom loss functions\n",
    "# No clippping or rounding as those are not differentiable\n",
    "# Note to self: these functions are already taking into account class imbalances, so remeber\n",
    "# not to set the class_weight argument in fitting method when using them as the loss \n",
    "\n",
    "# semi macroF1\n",
    "def fuzzy_macroF1_flip(y_true, y_pred):\n",
    "\n",
    "    true_positives = K.sum(y_true * y_pred, axis=0)\n",
    "    \n",
    "    actual_ones = K.sum(y_true, axis=0)\n",
    "    recall = true_positives / (actual_ones + K.epsilon())\n",
    "\n",
    "    positives = K.sum(y_pred, axis=0)\n",
    "    precision = true_positives / (positives + K.epsilon())\n",
    "    \n",
    "    macroF1 = 2 * K.mean( precision*recall / (precision + recall + K.epsilon()) ) \n",
    "    \n",
    "    return 1-macroF1\n",
    "\n",
    "\n",
    "# weighted categorical crossentropy\n",
    "def my_crossE(y_true, y_pred):\n",
    "    \n",
    "    class_entropy = K.sum(y_true * K.log(y_pred+K.epsilon()), axis=0)\n",
    "    weighted_entropy = K.mean(class_weights * class_entropy)\n",
    "    return -4E-4 * weighted_entropy  # arbitrary coefficient to make it close to [0-1] interval\n",
    "\n",
    "\n",
    "# take average of the last two, because why not\n",
    "def my_loss(y_true, y_pred):\n",
    "    # return 0.5*(fuzzy_macroF1_flip(y_true, y_pred) + my_crossE(y_true, y_pred))\n",
    "    \n",
    "    true_positives = K.sum(y_true * y_pred, axis=0)\n",
    "    \n",
    "    actual_ones = K.sum(y_true, axis=0)\n",
    "    recall = true_positives / (actual_ones + K.epsilon())\n",
    "\n",
    "    positives = K.sum(y_pred, axis=0)\n",
    "    precision = true_positives / (positives + K.epsilon())\n",
    "    \n",
    "    macroF1p2 = K.mean( precision*recall / (precision + recall + K.epsilon()) )\n",
    "    \n",
    "    class_entropy = K.sum(y_true * K.log(y_pred+K.epsilon()), axis=0)\n",
    "    weighted_entropy = K.mean(class_weights * class_entropy)\n",
    "    \n",
    "    return 0.5 - macroF1p2 - 2E-4 * weighted_entropy"
   ]
  },
  {
   "cell_type": "code",
   "execution_count": 6,
   "metadata": {},
   "outputs": [],
   "source": [
    "my_metrics = [macroPrec, macroF1, macroRecall] #, my_crossE, fuzzy_macroF1_flip, my_loss]\n",
    "\n",
    "custom_objects={'macroPrec': macroPrec,\\\n",
    "                'macroF1': macroF1,\\\n",
    "                'macroRecall': macroRecall,\\\n",
    "                'my_crossE': my_crossE,\\\n",
    "                'fuzzy_macroF1_flip': fuzzy_macroF1_flip,\\\n",
    "                'my_loss': my_loss\n",
    "               }"
   ]
  },
  {
   "cell_type": "code",
   "execution_count": 7,
   "metadata": {},
   "outputs": [],
   "source": [
    "# auxiliary function\n",
    "# to plot the learning history,\n",
    "# i.e. loss and metrics on each train_batch and validation_batch\n",
    "def plot_history(history, with_lr=False):\n",
    "    \n",
    "    n_plots = 3 if with_lr else 2\n",
    "    plt.figure(figsize=(6*n_plots, 5))\n",
    "    \n",
    "    loss = history['loss']\n",
    "    val_loss = history['val_loss']\n",
    "    x = range(1, len(loss) + 1)\n",
    "    \n",
    "    plt.subplot(1, n_plots, 1)    \n",
    "    plt.plot(x, loss, 'ob', label='Training loss')\n",
    "    plt.plot(x, val_loss, '-b', label='Validation loss')\n",
    "    plt.title('Training and val losses') \n",
    "    plt.legend()\n",
    "    \n",
    "    all_metrics = np.array(list(set(history.keys()) - set(['loss', 'val_loss', 'lr'])))\n",
    "    metrics = all_metrics[[not metric.startswith('val_') for metric in all_metrics]]\n",
    "    plt.subplot(1, n_plots, 2)\n",
    "    markers = ['b', 'r',  'g', 'y', 'm', 'c', 'k']\n",
    "    marker = zip(markers, markers)\n",
    "    for metric in metrics:\n",
    "        results = history[metric]\n",
    "        val_results = history['val_'+metric]\n",
    "        mark1, mark2 = next(marker)\n",
    "        plt.plot(x, results, 'o'+mark1, label=metric)\n",
    "        plt.plot(x, val_results, '-'+mark2, label='Validation '+metric)\n",
    "        plt.title('Training and val metrics')\n",
    "    plt.legend()\n",
    "    \n",
    "    if with_lr:\n",
    "        plt.subplot(1, 3, 3)\n",
    "        lr = history['lr'] # learning rate\n",
    "        plt.plot(x, lr, 'k', label='Learning rate')\n",
    "        plt.title('Learning rate')  \n",
    "        plt.legend()\n",
    "    "
   ]
  },
  {
   "cell_type": "markdown",
   "metadata": {},
   "source": [
    "### Define a wrapper class for creating the classification model with embedding, fitting, etc.\n",
    "It creates an useful object using a list of intermediate layers as the main argument.\n",
    "Makes it easier to consistently use the chosen metrics, loss function, class_weights, embedding etc."
   ]
  },
  {
   "cell_type": "code",
   "execution_count": 8,
   "metadata": {},
   "outputs": [
    {
     "name": "stderr",
     "output_type": "stream",
     "text": [
      "A subdirectory or file simple_tests_2 already exists.\n"
     ]
    }
   ],
   "source": [
    "working_dir = \"simple_tests_2\"\n",
    "! mkdir simple_tests_2"
   ]
  },
  {
   "cell_type": "code",
   "execution_count": 22,
   "metadata": {},
   "outputs": [],
   "source": [
    "# the workhorse\n",
    "class BlackBox():\n",
    "    \n",
    "    def __init__(self, layers, loss, batch_size, optimizer, epochs,\\\n",
    "                 metrics=my_metrics,\\\n",
    "                 verbose=0,\\\n",
    "                 callbacks=None,\\\n",
    "                 embedd = None, embedd_dims=[None]*3, train_weights=True,\\\n",
    "                 mask_zeros=True\n",
    "                ):\n",
    "        \n",
    "        self.layers = layers\n",
    "        self.loss = loss\n",
    "        self.loss_name = self.loss.__name__ if self.loss != 'categorical_crossentropy' else 'cat-cross'\n",
    "        self.batch_size = batch_size\n",
    "        self.epochs = epochs\n",
    "        self.optimizer = optimizer\n",
    "        self.metrics = metrics\n",
    "        self.verbose = verbose\n",
    "        self.callbacks = callbacks\n",
    "        if loss == 'categorical_crossentropy':\n",
    "            self.class_weight = class_weights\n",
    "        else:\n",
    "            self.class_weight = None\n",
    "        self.train_weigts = train_weights\n",
    "        self.mask_zeros = mask_zeros\n",
    "        \n",
    "        self.history = None\n",
    "        self.test_results = None\n",
    "        self.val_score = None\n",
    "                \n",
    "        self.model = Sequential()\n",
    "        if embedd:\n",
    "            self.input_dim = embedd_dims[0] # num_words\n",
    "            self.output_dim = embedd_dims[1] # dimension of the embedding space\n",
    "            self.input_length = embedd_dims[2] # padded_length\n",
    "            with open(embedd, \"rb\") as f:\n",
    "                self.embedd_weights = pickle.load(f)\n",
    "            \n",
    "            self.model.add(Embedding(input_dim=self.input_dim,\\\n",
    "                                     output_dim=self.output_dim,\\\n",
    "                                     input_length=self.input_length,\\\n",
    "                                     weights=self.embedd_weights,\\\n",
    "                                     trainable=self.train_weigts,\\\n",
    "                                     mask_zero=self.mask_zeros))\n",
    "            self.model.layers[0].trainable = self.train_weigts  # szczeżonego panbug szczeże\n",
    "            \n",
    "        for layer in layers:\n",
    "            self.model.add(layer)\n",
    "            \n",
    "        self.model.add(Dense(n_classes, activation='softmax'))\n",
    "        self.model.compile(loss=self.loss, optimizer=self.optimizer, metrics=self.metrics)\n",
    "        \n",
    "        self.name = f\"{self.loss_name}_batch{self.batch_size}_{self.optimizer}\"\n",
    "        self.describe = f\"loss={self.loss_name}, batch_size={self.batch_size}, optimizer={self.optimizer}, explicit-class-weights: {type(self.class_weight)==np.ndarray}, embedd-trainable: {self.model.layers[0].trainable}\"\n",
    "\n",
    "    \n",
    "    def summary(self):\n",
    "        print(self.describe)\n",
    "        return self.model.summary()\n",
    "    \n",
    "    def fit(self):\n",
    "        print(self.describe)\n",
    "              \n",
    "        self.history = self.model.fit(\n",
    "            X_train, y_train,\n",
    "            class_weight=self.class_weight,\n",
    "            epochs=self.epochs,\n",
    "            batch_size=self.batch_size,\n",
    "            #validation_split=0.1,\n",
    "            validation_data=(X_val, y_val),\n",
    "            callbacks=self.callbacks,\n",
    "            verbose = self.verbose        \n",
    "            ).history\n",
    "        self.val_score = self.history['val_macroF1'][-1]\n",
    "        print(f\"Last val_macroF1: {self.val_score}\")\n",
    "\n",
    "        \n",
    "    def evaluate(self, X_test, y_test):\n",
    "        \n",
    "        print(f'Loss function: {self.loss_name}. Metrics: {[metric.__name__ if callable(metric) else metric for metric in self.metrics]}')\n",
    "        print(\"Predicting for X_test, comparing with y_test\")\n",
    "        return self.model.evaluate(X_test, y_test)\n",
    "    \n",
    "    def plot(self, with_lr=False, from_file=False):\n",
    "        print(self.describe)\n",
    "        try:\n",
    "            if not from_file:\n",
    "                plot_history(self.history, with_lr=with_lr)\n",
    "            else:\n",
    "                hist = json.load(open(os.path.join(working_dir, f\"{self.name}_history.p\"), \"r\"))\n",
    "                plot_history(hist, with_lr=with_lr)\n",
    "        except:\n",
    "            print(\"nope!\")\n",
    "        \n",
    "    def save_embedd(self):\n",
    "        file = os.path.join(working_dir, f\"{self.name}_weights.p\")\n",
    "        with open(file, 'wb') as f:\n",
    "            pickle.dump(self.model.layers[0].get_weights(), f)\n",
    "        \n",
    "    def Ksave(self):\n",
    "        file = os.path.join(working_dir, f\"{self.name}_Kmodel.h5\")\n",
    "        self.model.save(file)\n",
    "        \n",
    "    def discard(self):\n",
    "        self.model = None\n",
    "    \n",
    "    def save_hist(self):\n",
    "        file = os.path.join(working_dir, f\"{self.name}_history.p\")\n",
    "        with open(file, 'w') as f:\n",
    "            json.dump(self.history, f)\n"
   ]
  },
  {
   "cell_type": "code",
   "execution_count": 23,
   "metadata": {},
   "outputs": [],
   "source": [
    "# # choose callbacks to be given in model.fit(...)\n",
    "\n",
    "\n",
    "# # If the embedding layer is given to BlackBox from a file\n",
    "# # and it is set to not be trainable,\n",
    "# # it may yet be unfrozen by a callback piggybacking on the ReducLROnPlateau callback\n",
    "\n",
    "# class WakeEmbedding(Callback):\n",
    "    \n",
    "#     def __init__(self, rel_lr_treshold):\n",
    "#         self.rel_lr_treshold = rel_lr_treshold\n",
    "    \n",
    "#     def on_train_begin(self, logs={}):\n",
    "#         self.init_lr =  K.eval(self.model.optimizer.lr)\n",
    "        \n",
    "#     def on_epoch_begin(self, epoch, logs={}):\n",
    "#         lr =  K.eval(self.model.optimizer.lr)\n",
    "#         if (lr / self.init_lr) <= self.rel_lr_treshold:\n",
    "#             self.model.layers[0].trainable = True\n",
    "#         print(\"Embedding trainable:\", self.model.layers[0].trainable)\n",
    "\n",
    "        \n",
    "# # the early-stopping is monitoring the batchwise-macroF1 (which is risky)\n",
    "\n",
    "# def callbacks(plateau_factor=0.1, plateau_patience=1,\\\n",
    "#               early_s_patience = 2,\\\n",
    "#               wake_embedd=False, wake_treshold = 0.1\n",
    "#              ):\n",
    "    \n",
    "#     callbacks = [ReduceLROnPlateau(factor=plateau_factor,\\\n",
    "#                                    monitor='val_macroF1', mode='max', patience = plateau_patience),\n",
    "#                 EarlyStopping(monitor='val_macroF1', mode='max', patience=early_s_patience)\n",
    "#                ]\n",
    "    \n",
    "#     return callbacks + [WakeEmbedding(wake_treshold)] if wake_embedd else callbacks\n"
   ]
  },
  {
   "cell_type": "markdown",
   "metadata": {},
   "source": [
    "## End of boilerplate"
   ]
  },
  {
   "cell_type": "markdown",
   "metadata": {},
   "source": [
    "---\n",
    "---"
   ]
  },
  {
   "cell_type": "markdown",
   "metadata": {},
   "source": [
    "# Quasi-grid-search that optimizes the BlackBox\n",
    "* Define the sequential setup by specifiying the layers, and parameter scopes to search through.\n",
    "* Train for a fixed number of epochs.\n",
    "* Examine how different parameter combinations influence quality of the classification (measured by the resulting model's macro-F1 on the validation set)."
   ]
  },
  {
   "cell_type": "markdown",
   "metadata": {},
   "source": [
    "---"
   ]
  },
  {
   "cell_type": "code",
   "execution_count": 24,
   "metadata": {},
   "outputs": [],
   "source": [
    "layers = [Embedding(input_dim=num_words, output_dim=50, input_length=padded_length, mask_zero=True),\n",
    "          Dropout(0.3),\n",
    "          GlobalAveragePooling1D()\n",
    "         ]"
   ]
  },
  {
   "cell_type": "code",
   "execution_count": 25,
   "metadata": {},
   "outputs": [
    {
     "name": "stdout",
     "output_type": "stream",
     "text": [
      "36 options in the cross-search, e.g. ('categorical_crossentropy', 300, 'adamax')\n"
     ]
    }
   ],
   "source": [
    "losses = ['categorical_crossentropy', fuzzy_macroF1_flip, my_loss]\n",
    "batch_sizes = [300, 500, 800, 1300]\n",
    "optimizers = ['adamax', 'adam', 'nadam']\n",
    "\n",
    "options = list(product(losses, batch_sizes, optimizers))\n",
    "n_options = len(options)\n",
    "print(f\"{n_options} options in the cross-search, e.g. {options[0]}\")"
   ]
  },
  {
   "cell_type": "markdown",
   "metadata": {},
   "source": [
    "---"
   ]
  },
  {
   "cell_type": "code",
   "execution_count": 26,
   "metadata": {},
   "outputs": [],
   "source": [
    "# # A single test, e.g.\n",
    "\n",
    "# k = 0\n",
    "\n",
    "# loss, batch_size, optimizer = options[k]\n",
    "# print(f\"Option {k+1}/{n_options}\")\n",
    "\n",
    "# model = BlackBox(layers=layers, loss=loss, batch_size=batch_size, optimizer=optimizer, epochs=1, verbose=1)\n",
    "# model.summary()\n",
    "# model.fit()\n",
    "\n",
    "# model.save_embedd()\n",
    "# model.Ksave()\n",
    "# model.save_hist()\n",
    "# model.discard()\n",
    "\n",
    "# model.plot()"
   ]
  },
  {
   "cell_type": "code",
   "execution_count": 27,
   "metadata": {},
   "outputs": [],
   "source": [
    "# model.val_score, k, model.loss_name, model.batch_size, model.optimizer"
   ]
  },
  {
   "cell_type": "markdown",
   "metadata": {},
   "source": [
    "---"
   ]
  },
  {
   "cell_type": "code",
   "execution_count": 28,
   "metadata": {
    "scrolled": false
   },
   "outputs": [
    {
     "name": "stdout",
     "output_type": "stream",
     "text": [
      "\n",
      "1/36\n",
      "loss=categorical_crossentropy, batch_size=300, optimizer=adamax, explicit-class-weights: True, embedd-trainable: True\n",
      "Train on 500000 samples, validate on 200000 samples\n",
      "Epoch 1/1\n",
      "500000/500000 [==============================] - 610s 1ms/step - loss: 0.5099 - macroPrec: 0.3806 - macroF1: 0.3525 - macroRecall: 0.3438 - val_loss: 0.3030 - val_macroPrec: 0.4450 - val_macroF1: 0.4412 - val_macroRecall: 0.4385\n",
      "Last val_macroF1: 0.4412118990123272\n",
      "\n",
      "2/36\n",
      "loss=categorical_crossentropy, batch_size=300, optimizer=adam, explicit-class-weights: True, embedd-trainable: True\n",
      "Train on 500000 samples, validate on 200000 samples\n",
      "Epoch 1/1\n",
      "500000/500000 [==============================] - 635s 1ms/step - loss: 0.4375 - macroPrec: 0.4149 - macroF1: 0.3867 - macroRecall: 0.3751 - val_loss: 0.2627 - val_macroPrec: 0.4606 - val_macroF1: 0.4515 - val_macroRecall: 0.4467\n",
      "Last val_macroF1: 0.4515499181300402\n",
      "\n",
      "3/36\n",
      "loss=categorical_crossentropy, batch_size=300, optimizer=nadam, explicit-class-weights: True, embedd-trainable: True\n",
      "Train on 500000 samples, validate on 200000 samples\n",
      "Epoch 1/1\n",
      "500000/500000 [==============================] - 686s 1ms/step - loss: 0.3132 - macroPrec: 0.5392 - macroF1: 0.4802 - macroRecall: 0.4594 - val_loss: 0.2102 - val_macroPrec: 0.7207 - val_macroF1: 0.6273 - val_macroRecall: 0.5929\n",
      "Last val_macroF1: 0.6273187753409147\n",
      "\n",
      "4/36\n",
      "loss=categorical_crossentropy, batch_size=500, optimizer=adamax, explicit-class-weights: True, embedd-trainable: True\n",
      "Train on 500000 samples, validate on 200000 samples\n",
      "Epoch 1/1\n",
      "500000/500000 [==============================] - 476s 952us/step - loss: 0.3569 - macroPrec: 0.4534 - macroF1: 0.4191 - macroRecall: 0.4049 - val_loss: 0.2453 - val_macroPrec: 0.5011 - val_macroF1: 0.4636 - val_macroRecall: 0.4549\n",
      "Last val_macroF1: 0.4636353435367346\n",
      "\n",
      "5/36\n",
      "loss=categorical_crossentropy, batch_size=500, optimizer=adam, explicit-class-weights: True, embedd-trainable: True\n",
      "Train on 500000 samples, validate on 200000 samples\n",
      "Epoch 1/1\n",
      "500000/500000 [==============================] - 495s 990us/step - loss: 0.4006 - macroPrec: 0.4546 - macroF1: 0.4012 - macroRecall: 0.3843 - val_loss: 0.2415 - val_macroPrec: 0.6145 - val_macroF1: 0.5036 - val_macroRecall: 0.4794\n",
      "Last val_macroF1: 0.503559206277132\n",
      "\n",
      "6/36\n",
      "loss=categorical_crossentropy, batch_size=500, optimizer=nadam, explicit-class-weights: True, embedd-trainable: True\n",
      "Train on 500000 samples, validate on 200000 samples\n",
      "Epoch 1/1\n",
      "500000/500000 [==============================] - 534s 1ms/step - loss: 0.2785 - macroPrec: 0.6032 - macroF1: 0.5101 - macroRecall: 0.4817 - val_loss: 0.2078 - val_macroPrec: 0.7996 - val_macroF1: 0.6619 - val_macroRecall: 0.6132\n",
      "Last val_macroF1: 0.6618601344525814\n",
      "\n",
      "7/36\n",
      "loss=categorical_crossentropy, batch_size=800, optimizer=adamax, explicit-class-weights: True, embedd-trainable: True\n",
      "Train on 500000 samples, validate on 200000 samples\n",
      "Epoch 1/1\n",
      "500000/500000 [==============================] - 414s 827us/step - loss: 0.3569 - macroPrec: 0.4584 - macroF1: 0.4244 - macroRecall: 0.4094 - val_loss: 0.2512 - val_macroPrec: 0.4736 - val_macroF1: 0.4566 - val_macroRecall: 0.4512\n",
      "Last val_macroF1: 0.45657781314849855\n",
      "\n",
      "8/36\n",
      "loss=categorical_crossentropy, batch_size=800, optimizer=adam, explicit-class-weights: True, embedd-trainable: True\n",
      "Train on 500000 samples, validate on 200000 samples\n",
      "Epoch 1/1\n",
      "500000/500000 [==============================] - 427s 854us/step - loss: 0.4146 - macroPrec: 0.4652 - macroF1: 0.4022 - macroRecall: 0.3832 - val_loss: 0.2479 - val_macroPrec: 0.5511 - val_macroF1: 0.4726 - val_macroRecall: 0.4592\n",
      "Last val_macroF1: 0.4726407903432846\n",
      "\n",
      "9/36\n",
      "loss=categorical_crossentropy, batch_size=800, optimizer=nadam, explicit-class-weights: True, embedd-trainable: True\n",
      "Train on 500000 samples, validate on 200000 samples\n",
      "Epoch 1/1\n",
      "500000/500000 [==============================] - 450s 900us/step - loss: 0.3376 - macroPrec: 0.5499 - macroF1: 0.4581 - macroRecall: 0.4349 - val_loss: 0.2172 - val_macroPrec: 0.8170 - val_macroF1: 0.6073 - val_macroRecall: 0.5553\n",
      "Last val_macroF1: 0.6073151731491089\n",
      "\n",
      "10/36\n",
      "loss=categorical_crossentropy, batch_size=1300, optimizer=adamax, explicit-class-weights: True, embedd-trainable: True\n",
      "Train on 500000 samples, validate on 200000 samples\n",
      "Epoch 1/1\n",
      "500000/500000 [==============================] - 374s 748us/step - loss: 0.5122 - macroPrec: 0.4109 - macroF1: 0.3598 - macroRecall: 0.3395 - val_loss: 0.2867 - val_macroPrec: 0.4638 - val_macroF1: 0.4507 - val_macroRecall: 0.4397\n",
      "Last val_macroF1: 0.4507425877898931\n",
      "\n",
      "11/36\n",
      "loss=categorical_crossentropy, batch_size=1300, optimizer=adam, explicit-class-weights: True, embedd-trainable: True\n",
      "Train on 500000 samples, validate on 200000 samples\n",
      "Epoch 1/1\n",
      "500000/500000 [==============================] - 381s 762us/step - loss: 0.5978 - macroPrec: 0.4047 - macroF1: 0.3412 - macroRecall: 0.3203 - val_loss: 0.2905 - val_macroPrec: 0.4624 - val_macroF1: 0.4507 - val_macroRecall: 0.4417\n",
      "Last val_macroF1: 0.4507186250835657\n",
      "\n",
      "12/36\n",
      "loss=categorical_crossentropy, batch_size=1300, optimizer=nadam, explicit-class-weights: True, embedd-trainable: True\n",
      "Train on 500000 samples, validate on 200000 samples\n",
      "Epoch 1/1\n",
      "500000/500000 [==============================] - 396s 793us/step - loss: 0.3688 - macroPrec: 0.5495 - macroF1: 0.4318 - macroRecall: 0.4079 - val_loss: 0.2272 - val_macroPrec: 0.7932 - val_macroF1: 0.5718 - val_macroRecall: 0.5246\n",
      "Last val_macroF1: 0.5717889282107353\n",
      "\n",
      "13/36\n",
      "loss=fuzzy_macroF1_flip, batch_size=300, optimizer=adamax, explicit-class-weights: False, embedd-trainable: True\n",
      "Train on 500000 samples, validate on 200000 samples\n",
      "Epoch 1/1\n",
      "500000/500000 [==============================] - 588s 1ms/step - loss: 0.3926 - macroPrec: 0.6838 - macroF1: 0.6318 - macroRecall: 0.6165 - val_loss: 0.3069 - val_macroPrec: 0.7569 - val_macroF1: 0.7231 - val_macroRecall: 0.7192\n",
      "Last val_macroF1: 0.7231147224903107\n",
      "\n",
      "14/36\n",
      "loss=fuzzy_macroF1_flip, batch_size=300, optimizer=adam, explicit-class-weights: False, embedd-trainable: True\n",
      "Train on 500000 samples, validate on 200000 samples\n",
      "Epoch 1/1\n",
      "500000/500000 [==============================] - 620s 1ms/step - loss: 0.3636 - macroPrec: 0.7138 - macroF1: 0.6680 - macroRecall: 0.6575 - val_loss: 0.2851 - val_macroPrec: 0.7604 - val_macroF1: 0.7377 - val_macroRecall: 0.7426\n",
      "Last val_macroF1: 0.7376713759154081\n",
      "\n",
      "15/36\n",
      "loss=fuzzy_macroF1_flip, batch_size=300, optimizer=nadam, explicit-class-weights: False, embedd-trainable: True\n",
      "Train on 500000 samples, validate on 200000 samples\n",
      "Epoch 1/1\n",
      "500000/500000 [==============================] - 686s 1ms/step - loss: 0.3127 - macroPrec: 0.7374 - macroF1: 0.7105 - macroRecall: 0.7128 - val_loss: 0.2615 - val_macroPrec: 0.7616 - val_macroF1: 0.7507 - val_macroRecall: 0.7654\n",
      "Last val_macroF1: 0.7506551199555397\n",
      "\n",
      "16/36\n",
      "loss=fuzzy_macroF1_flip, batch_size=500, optimizer=adamax, explicit-class-weights: False, embedd-trainable: True\n",
      "Train on 500000 samples, validate on 200000 samples\n",
      "Epoch 1/1\n",
      "500000/500000 [==============================] - 477s 954us/step - loss: 0.3694 - macroPrec: 0.7289 - macroF1: 0.6679 - macroRecall: 0.6469 - val_loss: 0.2745 - val_macroPrec: 0.7879 - val_macroF1: 0.7561 - val_macroRecall: 0.7494\n",
      "Last val_macroF1: 0.7560889784991741\n",
      "\n",
      "17/36\n",
      "loss=fuzzy_macroF1_flip, batch_size=500, optimizer=adam, explicit-class-weights: False, embedd-trainable: True\n",
      "Train on 500000 samples, validate on 200000 samples\n",
      "Epoch 1/1\n",
      "500000/500000 [==============================] - 497s 993us/step - loss: 0.3682 - macroPrec: 0.7325 - macroF1: 0.6707 - macroRecall: 0.6493 - val_loss: 0.2672 - val_macroPrec: 0.7890 - val_macroF1: 0.7615 - val_macroRecall: 0.7572\n",
      "Last val_macroF1: 0.7615042695403099\n",
      "\n",
      "18/36\n",
      "loss=fuzzy_macroF1_flip, batch_size=500, optimizer=nadam, explicit-class-weights: False, embedd-trainable: True\n",
      "Train on 500000 samples, validate on 200000 samples\n",
      "Epoch 1/1\n",
      "500000/500000 [==============================] - 535s 1ms/step - loss: 0.2906 - macroPrec: 0.7891 - macroF1: 0.7448 - macroRecall: 0.7364 - val_loss: 0.2451 - val_macroPrec: 0.7865 - val_macroF1: 0.7709 - val_macroRecall: 0.7767\n",
      "Last val_macroF1: 0.7708858877420426\n",
      "\n",
      "19/36\n",
      "loss=fuzzy_macroF1_flip, batch_size=800, optimizer=adamax, explicit-class-weights: False, embedd-trainable: True\n"
     ]
    },
    {
     "name": "stdout",
     "output_type": "stream",
     "text": [
      "Train on 500000 samples, validate on 200000 samples\n",
      "Epoch 1/1\n",
      "500000/500000 [==============================] - 413s 825us/step - loss: 0.3711 - macroPrec: 0.7493 - macroF1: 0.6718 - macroRecall: 0.6423 - val_loss: 0.2719 - val_macroPrec: 0.8069 - val_macroF1: 0.7655 - val_macroRecall: 0.7476\n",
      "Last val_macroF1: 0.7654735436439514\n",
      "\n",
      "20/36\n",
      "loss=fuzzy_macroF1_flip, batch_size=800, optimizer=adam, explicit-class-weights: False, embedd-trainable: True\n",
      "Train on 500000 samples, validate on 200000 samples\n",
      "Epoch 1/1\n",
      "500000/500000 [==============================] - 426s 851us/step - loss: 0.3860 - macroPrec: 0.7505 - macroF1: 0.6590 - macroRecall: 0.6254 - val_loss: 0.2684 - val_macroPrec: 0.8054 - val_macroF1: 0.7699 - val_macroRecall: 0.7548\n",
      "Last val_macroF1: 0.7698554668426514\n",
      "\n",
      "21/36\n",
      "loss=fuzzy_macroF1_flip, batch_size=800, optimizer=nadam, explicit-class-weights: False, embedd-trainable: True\n",
      "Train on 500000 samples, validate on 200000 samples\n",
      "Epoch 1/1\n",
      "500000/500000 [==============================] - 449s 897us/step - loss: 0.3166 - macroPrec: 0.7690 - macroF1: 0.7195 - macroRecall: 0.7025 - val_loss: 0.2412 - val_macroPrec: 0.7999 - val_macroF1: 0.7811 - val_macroRecall: 0.7790\n",
      "Last val_macroF1: 0.7810611670017242\n",
      "\n",
      "22/36\n",
      "loss=fuzzy_macroF1_flip, batch_size=1300, optimizer=adamax, explicit-class-weights: False, embedd-trainable: True\n",
      "Train on 500000 samples, validate on 200000 samples\n",
      "Epoch 1/1\n",
      "500000/500000 [==============================] - 373s 746us/step - loss: 0.3902 - macroPrec: 0.7706 - macroF1: 0.6605 - macroRecall: 0.6194 - val_loss: 0.2786 - val_macroPrec: 0.8145 - val_macroF1: 0.7689 - val_macroRecall: 0.7450\n",
      "Last val_macroF1: 0.7688893550634384\n",
      "\n",
      "23/36\n",
      "loss=fuzzy_macroF1_flip, batch_size=1300, optimizer=adam, explicit-class-weights: False, embedd-trainable: True\n",
      "Train on 500000 samples, validate on 200000 samples\n",
      "Epoch 1/1\n",
      "500000/500000 [==============================] - 381s 762us/step - loss: 0.4269 - macroPrec: 0.7305 - macroF1: 0.6164 - macroRecall: 0.5750 - val_loss: 0.2818 - val_macroPrec: 0.8195 - val_macroF1: 0.7677 - val_macroRecall: 0.7386\n",
      "Last val_macroF1: 0.7677173560261726\n",
      "\n",
      "24/36\n",
      "loss=fuzzy_macroF1_flip, batch_size=1300, optimizer=nadam, explicit-class-weights: False, embedd-trainable: True\n",
      "Train on 500000 samples, validate on 200000 samples\n",
      "Epoch 1/1\n",
      "500000/500000 [==============================] - 395s 791us/step - loss: 0.3326 - macroPrec: 0.7845 - macroF1: 0.7106 - macroRecall: 0.6808 - val_loss: 0.2474 - val_macroPrec: 0.8036 - val_macroF1: 0.7794 - val_macroRecall: 0.7690\n",
      "Last val_macroF1: 0.7793939271271229\n",
      "\n",
      "25/36\n",
      "loss=my_loss, batch_size=300, optimizer=adamax, explicit-class-weights: False, embedd-trainable: True\n",
      "Train on 500000 samples, validate on 200000 samples\n",
      "Epoch 1/1\n",
      "500000/500000 [==============================] - 586s 1ms/step - loss: 0.1581 - macroPrec: 0.7655 - macroF1: 0.7324 - macroRecall: 0.7298 - val_loss: 0.1410 - val_macroPrec: 0.7678 - val_macroF1: 0.7514 - val_macroRecall: 0.7606\n",
      "Last val_macroF1: 0.7514216828197241\n",
      "\n",
      "26/36\n",
      "loss=my_loss, batch_size=300, optimizer=adam, explicit-class-weights: False, embedd-trainable: True\n",
      "Train on 500000 samples, validate on 200000 samples\n",
      "Epoch 1/1\n",
      "500000/500000 [==============================] - 618s 1ms/step - loss: 0.1596 - macroPrec: 0.7591 - macroF1: 0.7281 - macroRecall: 0.7289 - val_loss: 0.1383 - val_macroPrec: 0.7648 - val_macroF1: 0.7535 - val_macroRecall: 0.7675\n",
      "Last val_macroF1: 0.7534637702256441\n",
      "\n",
      "27/36\n",
      "loss=my_loss, batch_size=300, optimizer=nadam, explicit-class-weights: False, embedd-trainable: True\n",
      "Train on 500000 samples, validate on 200000 samples\n",
      "Epoch 1/1\n",
      "500000/500000 [==============================] - 684s 1ms/step - loss: 0.1421 - macroPrec: 0.7727 - macroF1: 0.7550 - macroRecall: 0.7652 - val_loss: 0.1340 - val_macroPrec: 0.7635 - val_macroF1: 0.7588 - val_macroRecall: 0.7791\n",
      "Last val_macroF1: 0.7587850683033467\n",
      "\n",
      "28/36\n",
      "loss=my_loss, batch_size=500, optimizer=adamax, explicit-class-weights: False, embedd-trainable: True\n",
      "Train on 500000 samples, validate on 200000 samples\n",
      "Epoch 1/1\n",
      "500000/500000 [==============================] - 476s 952us/step - loss: 0.1648 - macroPrec: 0.7844 - macroF1: 0.7382 - macroRecall: 0.7277 - val_loss: 0.1375 - val_macroPrec: 0.7893 - val_macroF1: 0.7722 - val_macroRecall: 0.7767\n",
      "Last val_macroF1: 0.7722386835515499\n",
      "\n",
      "29/36\n",
      "loss=my_loss, batch_size=500, optimizer=adam, explicit-class-weights: False, embedd-trainable: True\n",
      "Train on 500000 samples, validate on 200000 samples\n",
      "Epoch 1/1\n",
      "500000/500000 [==============================] - 495s 991us/step - loss: 0.1716 - macroPrec: 0.7691 - macroF1: 0.7266 - macroRecall: 0.7174 - val_loss: 0.1362 - val_macroPrec: 0.7870 - val_macroF1: 0.7751 - val_macroRecall: 0.7841\n",
      "Last val_macroF1: 0.7751490314304829\n",
      "\n",
      "30/36\n",
      "loss=my_loss, batch_size=500, optimizer=nadam, explicit-class-weights: False, embedd-trainable: True\n",
      "Train on 500000 samples, validate on 200000 samples\n",
      "Epoch 1/1\n",
      "500000/500000 [==============================] - 533s 1ms/step - loss: 0.1458 - macroPrec: 0.7828 - macroF1: 0.7631 - macroRecall: 0.7676 - val_loss: 0.1305 - val_macroPrec: 0.7841 - val_macroF1: 0.7804 - val_macroRecall: 0.7974\n",
      "Last val_macroF1: 0.7804499100148677\n",
      "\n",
      "31/36\n",
      "loss=my_loss, batch_size=800, optimizer=adamax, explicit-class-weights: False, embedd-trainable: True\n",
      "Train on 500000 samples, validate on 200000 samples\n",
      "Epoch 1/1\n",
      "500000/500000 [==============================] - 414s 828us/step - loss: 0.1920 - macroPrec: 0.7677 - macroF1: 0.7079 - macroRecall: 0.6873 - val_loss: 0.1439 - val_macroPrec: 0.7998 - val_macroF1: 0.7818 - val_macroRecall: 0.7814\n",
      "Last val_macroF1: 0.7817738289833069\n",
      "\n",
      "32/36\n",
      "loss=my_loss, batch_size=800, optimizer=adam, explicit-class-weights: False, embedd-trainable: True\n",
      "Train on 500000 samples, validate on 200000 samples\n",
      "Epoch 1/1\n",
      "500000/500000 [==============================] - 427s 854us/step - loss: 0.1921 - macroPrec: 0.7657 - macroF1: 0.7079 - macroRecall: 0.6890 - val_loss: 0.1425 - val_macroPrec: 0.8007 - val_macroF1: 0.7835 - val_macroRecall: 0.7829\n",
      "Last val_macroF1: 0.7834563896656036\n",
      "\n",
      "33/36\n",
      "loss=my_loss, batch_size=800, optimizer=nadam, explicit-class-weights: False, embedd-trainable: True\n",
      "Train on 500000 samples, validate on 200000 samples\n",
      "Epoch 1/1\n",
      "500000/500000 [==============================] - 450s 900us/step - loss: 0.1548 - macroPrec: 0.7998 - macroF1: 0.7683 - macroRecall: 0.7641 - val_loss: 0.1347 - val_macroPrec: 0.7922 - val_macroF1: 0.7883 - val_macroRecall: 0.8001\n",
      "Last val_macroF1: 0.7883273792266846\n",
      "\n",
      "34/36\n",
      "loss=my_loss, batch_size=1300, optimizer=adamax, explicit-class-weights: False, embedd-trainable: True\n",
      "Train on 500000 samples, validate on 200000 samples\n",
      "Epoch 1/1\n",
      "500000/500000 [==============================] - 374s 748us/step - loss: 0.2149 - macroPrec: 0.7764 - macroF1: 0.7025 - macroRecall: 0.6737 - val_loss: 0.1592 - val_macroPrec: 0.8015 - val_macroF1: 0.7821 - val_macroRecall: 0.7767\n",
      "Last val_macroF1: 0.7820526918172837\n",
      "\n",
      "35/36\n",
      "loss=my_loss, batch_size=1300, optimizer=adam, explicit-class-weights: False, embedd-trainable: True\n",
      "Train on 500000 samples, validate on 200000 samples\n",
      "Epoch 1/1\n",
      "500000/500000 [==============================] - 382s 763us/step - loss: 0.2079 - macroPrec: 0.8088 - macroF1: 0.7276 - macroRecall: 0.6931 - val_loss: 0.1585 - val_macroPrec: 0.8025 - val_macroF1: 0.7827 - val_macroRecall: 0.7753\n",
      "Last val_macroF1: 0.7826843253076077\n",
      "\n",
      "36/36\n",
      "loss=my_loss, batch_size=1300, optimizer=nadam, explicit-class-weights: False, embedd-trainable: True\n",
      "Train on 500000 samples, validate on 200000 samples\n",
      "Epoch 1/1\n",
      "500000/500000 [==============================] - 398s 796us/step - loss: 0.1895 - macroPrec: 0.7875 - macroF1: 0.7361 - macroRecall: 0.7213 - val_loss: 0.1475 - val_macroPrec: 0.7893 - val_macroF1: 0.7877 - val_macroRecall: 0.7978\n",
      "Last val_macroF1: 0.7877453363239765\n"
     ]
    }
   ],
   "source": [
    "# run in a loop\n",
    "\n",
    "epochs = 1\n",
    "results = {}\n",
    "\n",
    "def run_test(k):\n",
    "\n",
    "    loss, batch_size, optimizer = options[k]\n",
    "    print(f\"\\n{k+1}/{n_options}\")    \n",
    "\n",
    "    model = BlackBox(layers=layers, loss=loss, batch_size=batch_size, optimizer=optimizer, epochs=epochs, verbose=1)\n",
    "    model.fit()\n",
    "    model.discard()\n",
    "     \n",
    "    results[k] = model\n",
    "\n",
    "    \n",
    "for k in range(n_options):\n",
    "    run_test(k)"
   ]
  },
  {
   "cell_type": "code",
   "execution_count": 39,
   "metadata": {},
   "outputs": [],
   "source": [
    "results_list = [(k+1, model.val_score, model.loss_name, model.batch_size, model.optimizer) for (k, model) in results.items()]\n",
    "ranking_list = sorted(results_list, key=lambda item: item[1], reverse = True)"
   ]
  },
  {
   "cell_type": "code",
   "execution_count": 40,
   "metadata": {},
   "outputs": [
    {
     "data": {
      "text/plain": [
       "[(33, 0.7883273792266846, 'my_loss', 800, 'nadam'),\n",
       " (36, 0.7877453363239765, 'my_loss', 1300, 'nadam'),\n",
       " (32, 0.7834563896656036, 'my_loss', 800, 'adam'),\n",
       " (35, 0.7826843253076077, 'my_loss', 1300, 'adam'),\n",
       " (34, 0.7820526918172837, 'my_loss', 1300, 'adamax'),\n",
       " (31, 0.7817738289833069, 'my_loss', 800, 'adamax'),\n",
       " (21, 0.7810611670017242, 'fuzzy_macroF1_flip', 800, 'nadam'),\n",
       " (30, 0.7804499100148677, 'my_loss', 500, 'nadam'),\n",
       " (24, 0.7793939271271229, 'fuzzy_macroF1_flip', 1300, 'nadam'),\n",
       " (29, 0.7751490314304829, 'my_loss', 500, 'adam'),\n",
       " (28, 0.7722386835515499, 'my_loss', 500, 'adamax'),\n",
       " (18, 0.7708858877420426, 'fuzzy_macroF1_flip', 500, 'nadam'),\n",
       " (20, 0.7698554668426514, 'fuzzy_macroF1_flip', 800, 'adam'),\n",
       " (22, 0.7688893550634384, 'fuzzy_macroF1_flip', 1300, 'adamax'),\n",
       " (23, 0.7677173560261726, 'fuzzy_macroF1_flip', 1300, 'adam'),\n",
       " (19, 0.7654735436439514, 'fuzzy_macroF1_flip', 800, 'adamax'),\n",
       " (17, 0.7615042695403099, 'fuzzy_macroF1_flip', 500, 'adam'),\n",
       " (27, 0.7587850683033467, 'my_loss', 300, 'nadam'),\n",
       " (16, 0.7560889784991741, 'fuzzy_macroF1_flip', 500, 'adamax'),\n",
       " (26, 0.7534637702256441, 'my_loss', 300, 'adam'),\n",
       " (25, 0.7514216828197241, 'my_loss', 300, 'adamax'),\n",
       " (15, 0.7506551199555397, 'fuzzy_macroF1_flip', 300, 'nadam'),\n",
       " (14, 0.7376713759154081, 'fuzzy_macroF1_flip', 300, 'adam'),\n",
       " (13, 0.7231147224903107, 'fuzzy_macroF1_flip', 300, 'adamax'),\n",
       " (6, 0.6618601344525814, 'categorical_crossentropy', 500, 'nadam'),\n",
       " (3, 0.6273187753409147, 'categorical_crossentropy', 300, 'nadam'),\n",
       " (9, 0.6073151731491089, 'categorical_crossentropy', 800, 'nadam'),\n",
       " (12, 0.5717889282107353, 'categorical_crossentropy', 1300, 'nadam'),\n",
       " (5, 0.503559206277132, 'categorical_crossentropy', 500, 'adam'),\n",
       " (8, 0.4726407903432846, 'categorical_crossentropy', 800, 'adam'),\n",
       " (4, 0.4636353435367346, 'categorical_crossentropy', 500, 'adamax'),\n",
       " (7, 0.45657781314849855, 'categorical_crossentropy', 800, 'adamax'),\n",
       " (2, 0.4515499181300402, 'categorical_crossentropy', 300, 'adam'),\n",
       " (10, 0.4507425877898931, 'categorical_crossentropy', 1300, 'adamax'),\n",
       " (11, 0.4507186250835657, 'categorical_crossentropy', 1300, 'adam'),\n",
       " (1, 0.4412118990123272, 'categorical_crossentropy', 300, 'adamax')]"
      ]
     },
     "execution_count": 40,
     "metadata": {},
     "output_type": "execute_result"
    }
   ],
   "source": [
    "ranking_list"
   ]
  },
  {
   "cell_type": "code",
   "execution_count": 41,
   "metadata": {},
   "outputs": [
    {
     "name": "stderr",
     "output_type": "stream",
     "text": [
      "A subdirectory or file keras_GS_results already exists.\n"
     ]
    }
   ],
   "source": [
    "working_dir = \"keras_GS_results\"\n",
    "! mkdir keras_GS_results"
   ]
  },
  {
   "cell_type": "code",
   "execution_count": 46,
   "metadata": {},
   "outputs": [
    {
     "name": "stdout",
     "output_type": "stream",
     "text": [
      "loss=my_loss, batch_size=800, optimizer=nadam, explicit-class-weights: False, embedd-trainable: True\n",
      "Train on 500000 samples, validate on 200000 samples\n",
      "Epoch 1/5\n",
      "500000/500000 [==============================] - 475s 949us/step - loss: 0.1581 - macroPrec: 0.7872 - macroF1: 0.7604 - macroRecall: 0.7574 - val_loss: 0.1340 - val_macroPrec: 0.7910 - val_macroF1: 0.7895 - val_macroRecall: 0.8036\n",
      "Epoch 2/5\n",
      "500000/500000 [==============================] - 464s 928us/step - loss: 0.1128 - macroPrec: 0.8204 - macroF1: 0.8274 - macroRecall: 0.8472 - val_loss: 0.1303 - val_macroPrec: 0.7877 - val_macroF1: 0.7936 - val_macroRecall: 0.8154\n",
      "Epoch 3/5\n",
      "500000/500000 [==============================] - 460s 920us/step - loss: 0.1090 - macroPrec: 0.8217 - macroF1: 0.8319 - macroRecall: 0.8553 - val_loss: 0.1291 - val_macroPrec: 0.7883 - val_macroF1: 0.7952 - val_macroRecall: 0.8172\n",
      "Epoch 4/5\n",
      "500000/500000 [==============================] - 474s 948us/step - loss: 0.1064 - macroPrec: 0.8246 - macroF1: 0.8353 - macroRecall: 0.8601 - val_loss: 0.1282 - val_macroPrec: 0.7897 - val_macroF1: 0.7971 - val_macroRecall: 0.8194\n",
      "Epoch 5/5\n",
      "500000/500000 [==============================] - 491s 982us/step - loss: 0.1031 - macroPrec: 0.8314 - macroF1: 0.8417 - macroRecall: 0.8649 - val_loss: 0.1276 - val_macroPrec: 0.7916 - val_macroF1: 0.7988 - val_macroRecall: 0.8205\n",
      "Last val_macroF1: 0.798782344341278\n",
      "loss=my_loss, batch_size=800, optimizer=nadam, explicit-class-weights: False, embedd-trainable: True\n"
     ]
    },
    {
     "data": {
      "image/png": "[encoded data removed]",
      "text/plain": [
       "<matplotlib.figure.Figure at 0x1de691ef630>"
      ]
     },
     "metadata": {},
     "output_type": "display_data"
    }
   ],
   "source": [
    "place=0\n",
    "\n",
    "k, *_ = ranking_list[place]\n",
    "loss, batch_size, optimizer = options[k-1]\n",
    "\n",
    "model = BlackBox(layers=layers, loss=loss, batch_size=batch_size, optimizer=optimizer, epochs=5, verbose=1)\n",
    "model.fit()\n",
    "model.save_embedd()\n",
    "model.Ksave()\n",
    "model.save_hist()\n",
    "model.discard()\n",
    "model.plot()"
   ]
  },
  {
   "cell_type": "code",
   "execution_count": 47,
   "metadata": {},
   "outputs": [
    {
     "name": "stdout",
     "output_type": "stream",
     "text": [
      "loss=categorical_crossentropy, batch_size=500, optimizer=nadam, explicit-class-weights: True, embedd-trainable: True\n",
      "Train on 500000 samples, validate on 200000 samples\n",
      "Epoch 1/5\n",
      "500000/500000 [==============================] - 589s 1ms/step - loss: 0.2156 - macroPrec: 0.7903 - macroF1: 0.7089 - macroRecall: 0.6762 - val_loss: 0.1957 - val_macroPrec: 0.8226 - val_macroF1: 0.7565 - val_macroRecall: 0.7279\n",
      "Epoch 2/5\n",
      "500000/500000 [==============================] - 579s 1ms/step - loss: 0.1752 - macroPrec: 0.8558 - macroF1: 0.8049 - macroRecall: 0.7820 - val_loss: 0.1909 - val_macroPrec: 0.8236 - val_macroF1: 0.7630 - val_macroRecall: 0.7369\n",
      "Epoch 3/5\n",
      "500000/500000 [==============================] - 566s 1ms/step - loss: 0.1683 - macroPrec: 0.8642 - macroF1: 0.8163 - macroRecall: 0.7952 - val_loss: 0.1883 - val_macroPrec: 0.8207 - val_macroF1: 0.7673 - val_macroRecall: 0.7440\n",
      "Epoch 4/5\n",
      "500000/500000 [==============================] - 563s 1ms/step - loss: 0.1626 - macroPrec: 0.8655 - macroF1: 0.8191 - macroRecall: 0.7991 - val_loss: 0.1863 - val_macroPrec: 0.8191 - val_macroF1: 0.7722 - val_macroRecall: 0.7535\n",
      "Epoch 5/5\n",
      "500000/500000 [==============================] - 576s 1ms/step - loss: 0.1572 - macroPrec: 0.8705 - macroF1: 0.8262 - macroRecall: 0.8070 - val_loss: 0.1855 - val_macroPrec: 0.8236 - val_macroF1: 0.7702 - val_macroRecall: 0.7488\n",
      "Last val_macroF1: 0.7702479106187821\n",
      "loss=categorical_crossentropy, batch_size=500, optimizer=nadam, explicit-class-weights: True, embedd-trainable: True\n"
     ]
    },
    {
     "data": {
      "image/png": "[encoded data removed]",
      "text/plain": [
       "<matplotlib.figure.Figure at 0x1e038b4cd68>"
      ]
     },
     "metadata": {},
     "output_type": "display_data"
    }
   ],
   "source": [
    "loss, batch_size, optimizer = 'categorical_crossentropy', 500, 'nadam'\n",
    "\n",
    "model2 = BlackBox(layers=layers, loss=loss, batch_size=batch_size, optimizer=optimizer, epochs=5, verbose=1)\n",
    "model2.fit()\n",
    "model2.save_embedd\n",
    "model2.Ksave()\n",
    "model2.save_hist()\n",
    "model2.discard()\n",
    "model2.plot()"
   ]
  },
  {
   "cell_type": "code",
   "execution_count": 54,
   "metadata": {},
   "outputs": [
    {
     "name": "stdout",
     "output_type": "stream",
     "text": [
      "loss=categorical_crossentropy, batch_size=500, optimizer=nadam, explicit-class-weights: True, embedd-trainable: True\n",
      "Train on 500000 samples, validate on 200000 samples\n",
      "Epoch 1/5\n",
      "500000/500000 [==============================] - 557s 1ms/step - loss: 0.2178 - macroPrec: 0.7983 - macroF1: 0.7119 - macroRecall: 0.6761 - val_loss: 0.1894 - val_macroPrec: 0.8252 - val_macroF1: 0.7610 - val_macroRecall: 0.7326\n",
      "Epoch 2/5\n",
      "500000/500000 [==============================] - 551s 1ms/step - loss: 0.1612 - macroPrec: 0.8660 - macroF1: 0.8201 - macroRecall: 0.7991 - val_loss: 0.1858 - val_macroPrec: 0.8243 - val_macroF1: 0.7688 - val_macroRecall: 0.7455\n",
      "Epoch 3/5\n",
      " 54500/500000 [==>...........................] - ETA: 7:57 - loss: 0.1539 - macroPrec: 0.8728 - macroF1: 0.8350 - macroRecall: 0.8188"
     ]
    },
    {
     "ename": "KeyboardInterrupt",
     "evalue": "",
     "output_type": "error",
     "traceback": [
      "\u001b[1;31m---------------------------------------------------------------------------\u001b[0m",
      "\u001b[1;31mKeyboardInterrupt\u001b[0m                         Traceback (most recent call last)",
      "\u001b[1;32m<ipython-input-54-32812d3fb4d7>\u001b[0m in \u001b[0;36m<module>\u001b[1;34m()\u001b[0m\n\u001b[0;32m      2\u001b[0m \u001b[1;33m\u001b[0m\u001b[0m\n\u001b[0;32m      3\u001b[0m \u001b[0mmodel2\u001b[0m \u001b[1;33m=\u001b[0m \u001b[0mBlackBox\u001b[0m\u001b[1;33m(\u001b[0m\u001b[0mlayers\u001b[0m\u001b[1;33m=\u001b[0m\u001b[0mlayers\u001b[0m\u001b[1;33m,\u001b[0m \u001b[0mloss\u001b[0m\u001b[1;33m=\u001b[0m\u001b[0mloss\u001b[0m\u001b[1;33m,\u001b[0m \u001b[0mbatch_size\u001b[0m\u001b[1;33m=\u001b[0m\u001b[0mbatch_size\u001b[0m\u001b[1;33m,\u001b[0m \u001b[0moptimizer\u001b[0m\u001b[1;33m=\u001b[0m\u001b[0moptimizer\u001b[0m\u001b[1;33m,\u001b[0m \u001b[0mepochs\u001b[0m\u001b[1;33m=\u001b[0m\u001b[1;36m5\u001b[0m\u001b[1;33m,\u001b[0m \u001b[0mverbose\u001b[0m\u001b[1;33m=\u001b[0m\u001b[1;36m1\u001b[0m\u001b[1;33m)\u001b[0m\u001b[1;33m\u001b[0m\u001b[1;33m\u001b[0m\u001b[0m\n\u001b[1;32m----> 4\u001b[1;33m \u001b[0mmodel2\u001b[0m\u001b[1;33m.\u001b[0m\u001b[0mfit\u001b[0m\u001b[1;33m(\u001b[0m\u001b[1;33m)\u001b[0m\u001b[1;33m\u001b[0m\u001b[1;33m\u001b[0m\u001b[0m\n\u001b[0m\u001b[0;32m      5\u001b[0m \u001b[0mmodel2\u001b[0m\u001b[1;33m.\u001b[0m\u001b[0msave_embedd\u001b[0m\u001b[1;33m\u001b[0m\u001b[1;33m\u001b[0m\u001b[0m\n\u001b[0;32m      6\u001b[0m \u001b[0mmodel2\u001b[0m\u001b[1;33m.\u001b[0m\u001b[0mKsave\u001b[0m\u001b[1;33m(\u001b[0m\u001b[1;33m)\u001b[0m\u001b[1;33m\u001b[0m\u001b[1;33m\u001b[0m\u001b[0m\n",
      "\u001b[1;32m<ipython-input-22-9955802dd07c>\u001b[0m in \u001b[0;36mfit\u001b[1;34m(self)\u001b[0m\n\u001b[0;32m     61\u001b[0m             \u001b[0mvalidation_data\u001b[0m\u001b[1;33m=\u001b[0m\u001b[1;33m(\u001b[0m\u001b[0mX_val\u001b[0m\u001b[1;33m,\u001b[0m \u001b[0my_val\u001b[0m\u001b[1;33m)\u001b[0m\u001b[1;33m,\u001b[0m\u001b[1;33m\u001b[0m\u001b[1;33m\u001b[0m\u001b[0m\n\u001b[0;32m     62\u001b[0m             \u001b[0mcallbacks\u001b[0m\u001b[1;33m=\u001b[0m\u001b[0mself\u001b[0m\u001b[1;33m.\u001b[0m\u001b[0mcallbacks\u001b[0m\u001b[1;33m,\u001b[0m\u001b[1;33m\u001b[0m\u001b[1;33m\u001b[0m\u001b[0m\n\u001b[1;32m---> 63\u001b[1;33m             \u001b[0mverbose\u001b[0m \u001b[1;33m=\u001b[0m \u001b[0mself\u001b[0m\u001b[1;33m.\u001b[0m\u001b[0mverbose\u001b[0m\u001b[1;33m\u001b[0m\u001b[1;33m\u001b[0m\u001b[0m\n\u001b[0m\u001b[0;32m     64\u001b[0m             ).history\n\u001b[0;32m     65\u001b[0m         \u001b[0mself\u001b[0m\u001b[1;33m.\u001b[0m\u001b[0mval_score\u001b[0m \u001b[1;33m=\u001b[0m \u001b[0mself\u001b[0m\u001b[1;33m.\u001b[0m\u001b[0mhistory\u001b[0m\u001b[1;33m[\u001b[0m\u001b[1;34m'val_macroF1'\u001b[0m\u001b[1;33m]\u001b[0m\u001b[1;33m[\u001b[0m\u001b[1;33m-\u001b[0m\u001b[1;36m1\u001b[0m\u001b[1;33m]\u001b[0m\u001b[1;33m\u001b[0m\u001b[1;33m\u001b[0m\u001b[0m\n",
      "\u001b[1;32mC:\\Anaconda3\\lib\\site-packages\\keras\\engine\\training.py\u001b[0m in \u001b[0;36mfit\u001b[1;34m(self, x, y, batch_size, epochs, verbose, callbacks, validation_split, validation_data, shuffle, class_weight, sample_weight, initial_epoch, steps_per_epoch, validation_steps, **kwargs)\u001b[0m\n\u001b[0;32m   1037\u001b[0m                                         \u001b[0minitial_epoch\u001b[0m\u001b[1;33m=\u001b[0m\u001b[0minitial_epoch\u001b[0m\u001b[1;33m,\u001b[0m\u001b[1;33m\u001b[0m\u001b[1;33m\u001b[0m\u001b[0m\n\u001b[0;32m   1038\u001b[0m                                         \u001b[0msteps_per_epoch\u001b[0m\u001b[1;33m=\u001b[0m\u001b[0msteps_per_epoch\u001b[0m\u001b[1;33m,\u001b[0m\u001b[1;33m\u001b[0m\u001b[1;33m\u001b[0m\u001b[0m\n\u001b[1;32m-> 1039\u001b[1;33m                                         validation_steps=validation_steps)\n\u001b[0m\u001b[0;32m   1040\u001b[0m \u001b[1;33m\u001b[0m\u001b[0m\n\u001b[0;32m   1041\u001b[0m     def evaluate(self, x=None, y=None,\n",
      "\u001b[1;32mC:\\Anaconda3\\lib\\site-packages\\keras\\engine\\training_arrays.py\u001b[0m in \u001b[0;36mfit_loop\u001b[1;34m(model, f, ins, out_labels, batch_size, epochs, verbose, callbacks, val_f, val_ins, shuffle, callback_metrics, initial_epoch, steps_per_epoch, validation_steps)\u001b[0m\n\u001b[0;32m    197\u001b[0m                     \u001b[0mins_batch\u001b[0m\u001b[1;33m[\u001b[0m\u001b[0mi\u001b[0m\u001b[1;33m]\u001b[0m \u001b[1;33m=\u001b[0m \u001b[0mins_batch\u001b[0m\u001b[1;33m[\u001b[0m\u001b[0mi\u001b[0m\u001b[1;33m]\u001b[0m\u001b[1;33m.\u001b[0m\u001b[0mtoarray\u001b[0m\u001b[1;33m(\u001b[0m\u001b[1;33m)\u001b[0m\u001b[1;33m\u001b[0m\u001b[1;33m\u001b[0m\u001b[0m\n\u001b[0;32m    198\u001b[0m \u001b[1;33m\u001b[0m\u001b[0m\n\u001b[1;32m--> 199\u001b[1;33m                 \u001b[0mouts\u001b[0m \u001b[1;33m=\u001b[0m \u001b[0mf\u001b[0m\u001b[1;33m(\u001b[0m\u001b[0mins_batch\u001b[0m\u001b[1;33m)\u001b[0m\u001b[1;33m\u001b[0m\u001b[1;33m\u001b[0m\u001b[0m\n\u001b[0m\u001b[0;32m    200\u001b[0m                 \u001b[0mouts\u001b[0m \u001b[1;33m=\u001b[0m \u001b[0mto_list\u001b[0m\u001b[1;33m(\u001b[0m\u001b[0mouts\u001b[0m\u001b[1;33m)\u001b[0m\u001b[1;33m\u001b[0m\u001b[1;33m\u001b[0m\u001b[0m\n\u001b[0;32m    201\u001b[0m                 \u001b[1;32mfor\u001b[0m \u001b[0ml\u001b[0m\u001b[1;33m,\u001b[0m \u001b[0mo\u001b[0m \u001b[1;32min\u001b[0m \u001b[0mzip\u001b[0m\u001b[1;33m(\u001b[0m\u001b[0mout_labels\u001b[0m\u001b[1;33m,\u001b[0m \u001b[0mouts\u001b[0m\u001b[1;33m)\u001b[0m\u001b[1;33m:\u001b[0m\u001b[1;33m\u001b[0m\u001b[1;33m\u001b[0m\u001b[0m\n",
      "\u001b[1;32mC:\\Anaconda3\\lib\\site-packages\\keras\\backend\\tensorflow_backend.py\u001b[0m in \u001b[0;36m__call__\u001b[1;34m(self, inputs)\u001b[0m\n\u001b[0;32m   2713\u001b[0m                 \u001b[1;32mreturn\u001b[0m \u001b[0mself\u001b[0m\u001b[1;33m.\u001b[0m\u001b[0m_legacy_call\u001b[0m\u001b[1;33m(\u001b[0m\u001b[0minputs\u001b[0m\u001b[1;33m)\u001b[0m\u001b[1;33m\u001b[0m\u001b[1;33m\u001b[0m\u001b[0m\n\u001b[0;32m   2714\u001b[0m \u001b[1;33m\u001b[0m\u001b[0m\n\u001b[1;32m-> 2715\u001b[1;33m             \u001b[1;32mreturn\u001b[0m \u001b[0mself\u001b[0m\u001b[1;33m.\u001b[0m\u001b[0m_call\u001b[0m\u001b[1;33m(\u001b[0m\u001b[0minputs\u001b[0m\u001b[1;33m)\u001b[0m\u001b[1;33m\u001b[0m\u001b[1;33m\u001b[0m\u001b[0m\n\u001b[0m\u001b[0;32m   2716\u001b[0m         \u001b[1;32melse\u001b[0m\u001b[1;33m:\u001b[0m\u001b[1;33m\u001b[0m\u001b[1;33m\u001b[0m\u001b[0m\n\u001b[0;32m   2717\u001b[0m             \u001b[1;32mif\u001b[0m \u001b[0mpy_any\u001b[0m\u001b[1;33m(\u001b[0m\u001b[0mis_tensor\u001b[0m\u001b[1;33m(\u001b[0m\u001b[0mx\u001b[0m\u001b[1;33m)\u001b[0m \u001b[1;32mfor\u001b[0m \u001b[0mx\u001b[0m \u001b[1;32min\u001b[0m \u001b[0minputs\u001b[0m\u001b[1;33m)\u001b[0m\u001b[1;33m:\u001b[0m\u001b[1;33m\u001b[0m\u001b[1;33m\u001b[0m\u001b[0m\n",
      "\u001b[1;32mC:\\Anaconda3\\lib\\site-packages\\keras\\backend\\tensorflow_backend.py\u001b[0m in \u001b[0;36m_call\u001b[1;34m(self, inputs)\u001b[0m\n\u001b[0;32m   2673\u001b[0m             \u001b[0mfetched\u001b[0m \u001b[1;33m=\u001b[0m \u001b[0mself\u001b[0m\u001b[1;33m.\u001b[0m\u001b[0m_callable_fn\u001b[0m\u001b[1;33m(\u001b[0m\u001b[1;33m*\u001b[0m\u001b[0marray_vals\u001b[0m\u001b[1;33m,\u001b[0m \u001b[0mrun_metadata\u001b[0m\u001b[1;33m=\u001b[0m\u001b[0mself\u001b[0m\u001b[1;33m.\u001b[0m\u001b[0mrun_metadata\u001b[0m\u001b[1;33m)\u001b[0m\u001b[1;33m\u001b[0m\u001b[1;33m\u001b[0m\u001b[0m\n\u001b[0;32m   2674\u001b[0m         \u001b[1;32melse\u001b[0m\u001b[1;33m:\u001b[0m\u001b[1;33m\u001b[0m\u001b[1;33m\u001b[0m\u001b[0m\n\u001b[1;32m-> 2675\u001b[1;33m             \u001b[0mfetched\u001b[0m \u001b[1;33m=\u001b[0m \u001b[0mself\u001b[0m\u001b[1;33m.\u001b[0m\u001b[0m_callable_fn\u001b[0m\u001b[1;33m(\u001b[0m\u001b[1;33m*\u001b[0m\u001b[0marray_vals\u001b[0m\u001b[1;33m)\u001b[0m\u001b[1;33m\u001b[0m\u001b[1;33m\u001b[0m\u001b[0m\n\u001b[0m\u001b[0;32m   2676\u001b[0m         \u001b[1;32mreturn\u001b[0m \u001b[0mfetched\u001b[0m\u001b[1;33m[\u001b[0m\u001b[1;33m:\u001b[0m\u001b[0mlen\u001b[0m\u001b[1;33m(\u001b[0m\u001b[0mself\u001b[0m\u001b[1;33m.\u001b[0m\u001b[0moutputs\u001b[0m\u001b[1;33m)\u001b[0m\u001b[1;33m]\u001b[0m\u001b[1;33m\u001b[0m\u001b[1;33m\u001b[0m\u001b[0m\n\u001b[0;32m   2677\u001b[0m \u001b[1;33m\u001b[0m\u001b[0m\n",
      "\u001b[1;32mC:\\Anaconda3\\lib\\site-packages\\tensorflow\\python\\client\\session.py\u001b[0m in \u001b[0;36m__call__\u001b[1;34m(self, *args, **kwargs)\u001b[0m\n\u001b[0;32m   1437\u001b[0m           ret = tf_session.TF_SessionRunCallable(\n\u001b[0;32m   1438\u001b[0m               \u001b[0mself\u001b[0m\u001b[1;33m.\u001b[0m\u001b[0m_session\u001b[0m\u001b[1;33m.\u001b[0m\u001b[0m_session\u001b[0m\u001b[1;33m,\u001b[0m \u001b[0mself\u001b[0m\u001b[1;33m.\u001b[0m\u001b[0m_handle\u001b[0m\u001b[1;33m,\u001b[0m \u001b[0margs\u001b[0m\u001b[1;33m,\u001b[0m \u001b[0mstatus\u001b[0m\u001b[1;33m,\u001b[0m\u001b[1;33m\u001b[0m\u001b[1;33m\u001b[0m\u001b[0m\n\u001b[1;32m-> 1439\u001b[1;33m               run_metadata_ptr)\n\u001b[0m\u001b[0;32m   1440\u001b[0m         \u001b[1;32mif\u001b[0m \u001b[0mrun_metadata\u001b[0m\u001b[1;33m:\u001b[0m\u001b[1;33m\u001b[0m\u001b[1;33m\u001b[0m\u001b[0m\n\u001b[0;32m   1441\u001b[0m           \u001b[0mproto_data\u001b[0m \u001b[1;33m=\u001b[0m \u001b[0mtf_session\u001b[0m\u001b[1;33m.\u001b[0m\u001b[0mTF_GetBuffer\u001b[0m\u001b[1;33m(\u001b[0m\u001b[0mrun_metadata_ptr\u001b[0m\u001b[1;33m)\u001b[0m\u001b[1;33m\u001b[0m\u001b[1;33m\u001b[0m\u001b[0m\n",
      "\u001b[1;31mKeyboardInterrupt\u001b[0m: "
     ]
    }
   ],
   "source": [
    "loss, batch_size, optimizer = 'categorical_crossentropy', 500, 'nadam'\n",
    "\n",
    "model2 = BlackBox(layers=layers, loss=loss, batch_size=batch_size, optimizer=optimizer, epochs=5, verbose=1)\n",
    "model2.fit()\n",
    "model2.save_embedd\n",
    "model2.Ksave()\n",
    "model2.save_hist()\n",
    "model2.discard()\n",
    "model2.plot()"
   ]
  },
  {
   "cell_type": "code",
   "execution_count": null,
   "metadata": {},
   "outputs": [],
   "source": []
  },
  {
   "cell_type": "code",
   "execution_count": null,
   "metadata": {},
   "outputs": [],
   "source": []
  },
  {
   "cell_type": "code",
   "execution_count": null,
   "metadata": {},
   "outputs": [],
   "source": []
  },
  {
   "cell_type": "code",
   "execution_count": null,
   "metadata": {},
   "outputs": [],
   "source": []
  },
  {
   "cell_type": "markdown",
   "metadata": {},
   "source": [
    "---\n",
    "---"
   ]
  },
  {
   "cell_type": "markdown",
   "metadata": {},
   "source": [
    "## Training a keras-layer embedding\n",
    "### (naively, not CBOW or skipgram)\n",
    "* using only global-average-pooling before softmax\n",
    "* training for a fixed, short number of epochs: the goal is not to train the dense classification layer but to pretrain the embedding\n",
    "* mask zeros in input\n",
    "* use class_weights with default keras loss functions\n",
    "* do not use class_weights with fuzzy_macroF1 or my_crossE\n",
    "* save weights to files\n",
    "* see which loss function got the best val_macroF1 at the last epoch"
   ]
  },
  {
   "cell_type": "markdown",
   "metadata": {},
   "source": [
    "### loss=*categorical_crossentropy*, class_weight"
   ]
  },
  {
   "cell_type": "code",
   "execution_count": 21,
   "metadata": {},
   "outputs": [
    {
     "name": "stdout",
     "output_type": "stream",
     "text": [
      "_________________________________________________________________\n",
      "Layer (type)                 Output Shape              Param #   \n",
      "=================================================================\n",
      "embedding_2 (Embedding)      (None, 679, 50)           13865200  \n",
      "_________________________________________________________________\n",
      "global_average_pooling1d_2 ( (None, 50)                0         \n",
      "_________________________________________________________________\n",
      "dense_2 (Dense)              (None, 6)                 306       \n",
      "=================================================================\n",
      "Total params: 13,865,506\n",
      "Trainable params: 13,865,506\n",
      "Non-trainable params: 0\n",
      "_________________________________________________________________\n"
     ]
    }
   ],
   "source": [
    "# dimension of the embedding space = output_dim\n",
    "\n",
    "layers1 = [Embedding(input_dim=num_words, output_dim=50, input_length=padded_length, mask_zero=True),\n",
    "           GlobalAveragePooling1D()]\n",
    "\n",
    "model1 = BlackBox(layers=layers1, loss='categorical_crossentropy', class_weight=class_weights, metrics=my_metrics)\n",
    "model1.summary()"
   ]
  },
  {
   "cell_type": "code",
   "execution_count": 22,
   "metadata": {},
   "outputs": [
    {
     "name": "stdout",
     "output_type": "stream",
     "text": [
      "Train on 500000 samples, validate on 200000 samples\n",
      "Epoch 1/10\n",
      "500000/500000 [==============================] - 938s 2ms/step - loss: 0.3990 - macroPrec: 0.4242 - macroF1: 0.4030 - macroRecall: 0.3952 - val_loss: 0.2286 - val_macroPrec: 0.5334 - val_macroF1: 0.4942 - val_macroRecall: 0.4807\n",
      "Epoch 2/10\n",
      "500000/500000 [==============================] - 1073s 2ms/step - loss: 0.1983 - macroPrec: 0.6673 - macroF1: 0.6019 - macroRecall: 0.5775 - val_loss: 0.1935 - val_macroPrec: 0.7296 - val_macroF1: 0.6666 - val_macroRecall: 0.6438\n",
      "Epoch 3/10\n",
      "500000/500000 [==============================] - 875s 2ms/step - loss: 0.1686 - macroPrec: 0.7617 - macroF1: 0.7071 - macroRecall: 0.6878 - val_loss: 0.1851 - val_macroPrec: 0.7532 - val_macroF1: 0.7006 - val_macroRecall: 0.6833\n",
      "Epoch 4/10\n",
      "500000/500000 [==============================] - 650s 1ms/step - loss: 0.1524 - macroPrec: 0.7869 - macroF1: 0.7401 - macroRecall: 0.7250 - val_loss: 0.1822 - val_macroPrec: 0.7607 - val_macroF1: 0.7142 - val_macroRecall: 0.7010\n",
      "Epoch 5/10\n",
      "500000/500000 [==============================] - 649s 1ms/step - loss: 0.1400 - macroPrec: 0.8002 - macroF1: 0.7585 - macroRecall: 0.7454 - val_loss: 0.1818 - val_macroPrec: 0.7623 - val_macroF1: 0.7185 - val_macroRecall: 0.7069\n",
      "Epoch 6/10\n",
      " 60800/500000 [==>...........................] - ETA: 9:20 - loss: 0.1286 - macroPrec: 0.8234 - macroF1: 0.7852 - macroRecall: 0.7756"
     ]
    },
    {
     "ename": "KeyboardInterrupt",
     "evalue": "",
     "output_type": "error",
     "traceback": [
      "\u001b[1;31m---------------------------------------------------------------------------\u001b[0m",
      "\u001b[1;31mKeyboardInterrupt\u001b[0m                         Traceback (most recent call last)",
      "\u001b[1;32m<ipython-input-22-0ca5283eb478>\u001b[0m in \u001b[0;36m<module>\u001b[1;34m()\u001b[0m\n\u001b[1;32m----> 1\u001b[1;33m \u001b[0mmodel1\u001b[0m\u001b[1;33m.\u001b[0m\u001b[0mfit\u001b[0m\u001b[1;33m(\u001b[0m\u001b[1;33m)\u001b[0m \u001b[1;31m# batch_size=500\u001b[0m\u001b[1;33m\u001b[0m\u001b[1;33m\u001b[0m\u001b[0m\n\u001b[0m",
      "\u001b[1;32m<ipython-input-20-3a867b24da1b>\u001b[0m in \u001b[0;36mfit\u001b[1;34m(self, epochs)\u001b[0m\n\u001b[0;32m     44\u001b[0m             \u001b[0mvalidation_data\u001b[0m\u001b[1;33m=\u001b[0m\u001b[1;33m(\u001b[0m\u001b[0mX_val\u001b[0m\u001b[1;33m,\u001b[0m \u001b[0my_val\u001b[0m\u001b[1;33m)\u001b[0m\u001b[1;33m,\u001b[0m\u001b[1;33m\u001b[0m\u001b[1;33m\u001b[0m\u001b[0m\n\u001b[0;32m     45\u001b[0m             \u001b[0mcallbacks\u001b[0m\u001b[1;33m=\u001b[0m\u001b[0mself\u001b[0m\u001b[1;33m.\u001b[0m\u001b[0mcallbacks\u001b[0m\u001b[1;33m,\u001b[0m\u001b[1;33m\u001b[0m\u001b[1;33m\u001b[0m\u001b[0m\n\u001b[1;32m---> 46\u001b[1;33m             \u001b[0mverbose\u001b[0m \u001b[1;33m=\u001b[0m \u001b[1;36m1\u001b[0m\u001b[1;33m\u001b[0m\u001b[1;33m\u001b[0m\u001b[0m\n\u001b[0m\u001b[0;32m     47\u001b[0m             )\n\u001b[0;32m     48\u001b[0m \u001b[1;33m\u001b[0m\u001b[0m\n",
      "\u001b[1;32mC:\\Anaconda3\\lib\\site-packages\\keras\\engine\\training.py\u001b[0m in \u001b[0;36mfit\u001b[1;34m(self, x, y, batch_size, epochs, verbose, callbacks, validation_split, validation_data, shuffle, class_weight, sample_weight, initial_epoch, steps_per_epoch, validation_steps, **kwargs)\u001b[0m\n\u001b[0;32m   1037\u001b[0m                                         \u001b[0minitial_epoch\u001b[0m\u001b[1;33m=\u001b[0m\u001b[0minitial_epoch\u001b[0m\u001b[1;33m,\u001b[0m\u001b[1;33m\u001b[0m\u001b[1;33m\u001b[0m\u001b[0m\n\u001b[0;32m   1038\u001b[0m                                         \u001b[0msteps_per_epoch\u001b[0m\u001b[1;33m=\u001b[0m\u001b[0msteps_per_epoch\u001b[0m\u001b[1;33m,\u001b[0m\u001b[1;33m\u001b[0m\u001b[1;33m\u001b[0m\u001b[0m\n\u001b[1;32m-> 1039\u001b[1;33m                                         validation_steps=validation_steps)\n\u001b[0m\u001b[0;32m   1040\u001b[0m \u001b[1;33m\u001b[0m\u001b[0m\n\u001b[0;32m   1041\u001b[0m     def evaluate(self, x=None, y=None,\n",
      "\u001b[1;32mC:\\Anaconda3\\lib\\site-packages\\keras\\engine\\training_arrays.py\u001b[0m in \u001b[0;36mfit_loop\u001b[1;34m(model, f, ins, out_labels, batch_size, epochs, verbose, callbacks, val_f, val_ins, shuffle, callback_metrics, initial_epoch, steps_per_epoch, validation_steps)\u001b[0m\n\u001b[0;32m    197\u001b[0m                     \u001b[0mins_batch\u001b[0m\u001b[1;33m[\u001b[0m\u001b[0mi\u001b[0m\u001b[1;33m]\u001b[0m \u001b[1;33m=\u001b[0m \u001b[0mins_batch\u001b[0m\u001b[1;33m[\u001b[0m\u001b[0mi\u001b[0m\u001b[1;33m]\u001b[0m\u001b[1;33m.\u001b[0m\u001b[0mtoarray\u001b[0m\u001b[1;33m(\u001b[0m\u001b[1;33m)\u001b[0m\u001b[1;33m\u001b[0m\u001b[1;33m\u001b[0m\u001b[0m\n\u001b[0;32m    198\u001b[0m \u001b[1;33m\u001b[0m\u001b[0m\n\u001b[1;32m--> 199\u001b[1;33m                 \u001b[0mouts\u001b[0m \u001b[1;33m=\u001b[0m \u001b[0mf\u001b[0m\u001b[1;33m(\u001b[0m\u001b[0mins_batch\u001b[0m\u001b[1;33m)\u001b[0m\u001b[1;33m\u001b[0m\u001b[1;33m\u001b[0m\u001b[0m\n\u001b[0m\u001b[0;32m    200\u001b[0m                 \u001b[0mouts\u001b[0m \u001b[1;33m=\u001b[0m \u001b[0mto_list\u001b[0m\u001b[1;33m(\u001b[0m\u001b[0mouts\u001b[0m\u001b[1;33m)\u001b[0m\u001b[1;33m\u001b[0m\u001b[1;33m\u001b[0m\u001b[0m\n\u001b[0;32m    201\u001b[0m                 \u001b[1;32mfor\u001b[0m \u001b[0ml\u001b[0m\u001b[1;33m,\u001b[0m \u001b[0mo\u001b[0m \u001b[1;32min\u001b[0m \u001b[0mzip\u001b[0m\u001b[1;33m(\u001b[0m\u001b[0mout_labels\u001b[0m\u001b[1;33m,\u001b[0m \u001b[0mouts\u001b[0m\u001b[1;33m)\u001b[0m\u001b[1;33m:\u001b[0m\u001b[1;33m\u001b[0m\u001b[1;33m\u001b[0m\u001b[0m\n",
      "\u001b[1;32mC:\\Anaconda3\\lib\\site-packages\\keras\\backend\\tensorflow_backend.py\u001b[0m in \u001b[0;36m__call__\u001b[1;34m(self, inputs)\u001b[0m\n\u001b[0;32m   2713\u001b[0m                 \u001b[1;32mreturn\u001b[0m \u001b[0mself\u001b[0m\u001b[1;33m.\u001b[0m\u001b[0m_legacy_call\u001b[0m\u001b[1;33m(\u001b[0m\u001b[0minputs\u001b[0m\u001b[1;33m)\u001b[0m\u001b[1;33m\u001b[0m\u001b[1;33m\u001b[0m\u001b[0m\n\u001b[0;32m   2714\u001b[0m \u001b[1;33m\u001b[0m\u001b[0m\n\u001b[1;32m-> 2715\u001b[1;33m             \u001b[1;32mreturn\u001b[0m \u001b[0mself\u001b[0m\u001b[1;33m.\u001b[0m\u001b[0m_call\u001b[0m\u001b[1;33m(\u001b[0m\u001b[0minputs\u001b[0m\u001b[1;33m)\u001b[0m\u001b[1;33m\u001b[0m\u001b[1;33m\u001b[0m\u001b[0m\n\u001b[0m\u001b[0;32m   2716\u001b[0m         \u001b[1;32melse\u001b[0m\u001b[1;33m:\u001b[0m\u001b[1;33m\u001b[0m\u001b[1;33m\u001b[0m\u001b[0m\n\u001b[0;32m   2717\u001b[0m             \u001b[1;32mif\u001b[0m \u001b[0mpy_any\u001b[0m\u001b[1;33m(\u001b[0m\u001b[0mis_tensor\u001b[0m\u001b[1;33m(\u001b[0m\u001b[0mx\u001b[0m\u001b[1;33m)\u001b[0m \u001b[1;32mfor\u001b[0m \u001b[0mx\u001b[0m \u001b[1;32min\u001b[0m \u001b[0minputs\u001b[0m\u001b[1;33m)\u001b[0m\u001b[1;33m:\u001b[0m\u001b[1;33m\u001b[0m\u001b[1;33m\u001b[0m\u001b[0m\n",
      "\u001b[1;32mC:\\Anaconda3\\lib\\site-packages\\keras\\backend\\tensorflow_backend.py\u001b[0m in \u001b[0;36m_call\u001b[1;34m(self, inputs)\u001b[0m\n\u001b[0;32m   2673\u001b[0m             \u001b[0mfetched\u001b[0m \u001b[1;33m=\u001b[0m \u001b[0mself\u001b[0m\u001b[1;33m.\u001b[0m\u001b[0m_callable_fn\u001b[0m\u001b[1;33m(\u001b[0m\u001b[1;33m*\u001b[0m\u001b[0marray_vals\u001b[0m\u001b[1;33m,\u001b[0m \u001b[0mrun_metadata\u001b[0m\u001b[1;33m=\u001b[0m\u001b[0mself\u001b[0m\u001b[1;33m.\u001b[0m\u001b[0mrun_metadata\u001b[0m\u001b[1;33m)\u001b[0m\u001b[1;33m\u001b[0m\u001b[1;33m\u001b[0m\u001b[0m\n\u001b[0;32m   2674\u001b[0m         \u001b[1;32melse\u001b[0m\u001b[1;33m:\u001b[0m\u001b[1;33m\u001b[0m\u001b[1;33m\u001b[0m\u001b[0m\n\u001b[1;32m-> 2675\u001b[1;33m             \u001b[0mfetched\u001b[0m \u001b[1;33m=\u001b[0m \u001b[0mself\u001b[0m\u001b[1;33m.\u001b[0m\u001b[0m_callable_fn\u001b[0m\u001b[1;33m(\u001b[0m\u001b[1;33m*\u001b[0m\u001b[0marray_vals\u001b[0m\u001b[1;33m)\u001b[0m\u001b[1;33m\u001b[0m\u001b[1;33m\u001b[0m\u001b[0m\n\u001b[0m\u001b[0;32m   2676\u001b[0m         \u001b[1;32mreturn\u001b[0m \u001b[0mfetched\u001b[0m\u001b[1;33m[\u001b[0m\u001b[1;33m:\u001b[0m\u001b[0mlen\u001b[0m\u001b[1;33m(\u001b[0m\u001b[0mself\u001b[0m\u001b[1;33m.\u001b[0m\u001b[0moutputs\u001b[0m\u001b[1;33m)\u001b[0m\u001b[1;33m]\u001b[0m\u001b[1;33m\u001b[0m\u001b[1;33m\u001b[0m\u001b[0m\n\u001b[0;32m   2677\u001b[0m \u001b[1;33m\u001b[0m\u001b[0m\n",
      "\u001b[1;32mC:\\Anaconda3\\lib\\site-packages\\tensorflow\\python\\client\\session.py\u001b[0m in \u001b[0;36m__call__\u001b[1;34m(self, *args, **kwargs)\u001b[0m\n\u001b[0;32m   1437\u001b[0m           ret = tf_session.TF_SessionRunCallable(\n\u001b[0;32m   1438\u001b[0m               \u001b[0mself\u001b[0m\u001b[1;33m.\u001b[0m\u001b[0m_session\u001b[0m\u001b[1;33m.\u001b[0m\u001b[0m_session\u001b[0m\u001b[1;33m,\u001b[0m \u001b[0mself\u001b[0m\u001b[1;33m.\u001b[0m\u001b[0m_handle\u001b[0m\u001b[1;33m,\u001b[0m \u001b[0margs\u001b[0m\u001b[1;33m,\u001b[0m \u001b[0mstatus\u001b[0m\u001b[1;33m,\u001b[0m\u001b[1;33m\u001b[0m\u001b[1;33m\u001b[0m\u001b[0m\n\u001b[1;32m-> 1439\u001b[1;33m               run_metadata_ptr)\n\u001b[0m\u001b[0;32m   1440\u001b[0m         \u001b[1;32mif\u001b[0m \u001b[0mrun_metadata\u001b[0m\u001b[1;33m:\u001b[0m\u001b[1;33m\u001b[0m\u001b[1;33m\u001b[0m\u001b[0m\n\u001b[0;32m   1441\u001b[0m           \u001b[0mproto_data\u001b[0m \u001b[1;33m=\u001b[0m \u001b[0mtf_session\u001b[0m\u001b[1;33m.\u001b[0m\u001b[0mTF_GetBuffer\u001b[0m\u001b[1;33m(\u001b[0m\u001b[0mrun_metadata_ptr\u001b[0m\u001b[1;33m)\u001b[0m\u001b[1;33m\u001b[0m\u001b[1;33m\u001b[0m\u001b[0m\n",
      "\u001b[1;31mKeyboardInterrupt\u001b[0m: "
     ]
    }
   ],
   "source": [
    "model1.fit() # batch_size=200"
   ]
  },
  {
   "cell_type": "code",
   "execution_count": 15,
   "metadata": {},
   "outputs": [
    {
     "name": "stdout",
     "output_type": "stream",
     "text": [
      "Train on 500000 samples, validate on 200000 samples\n",
      "Epoch 1/10\n",
      "500000/500000 [==============================] - 427s 853us/step - loss: 0.5665 - macroPrec: 0.3705 - macroF1: 0.3378 - macroRecall: 0.3264 - val_loss: 0.2873 - val_macroPrec: 0.4508 - val_macroF1: 0.4466 - val_macroRecall: 0.4430\n",
      "Epoch 2/10\n",
      "500000/500000 [==============================] - 463s 926us/step - loss: 0.2470 - macroPrec: 0.5027 - macroF1: 0.4689 - macroRecall: 0.4600 - val_loss: 0.2251 - val_macroPrec: 0.6133 - val_macroF1: 0.5140 - val_macroRecall: 0.4918\n",
      "Epoch 3/10\n",
      "500000/500000 [==============================] - 490s 981us/step - loss: 0.2015 - macroPrec: 0.7088 - macroF1: 0.5896 - macroRecall: 0.5519 - val_loss: 0.2018 - val_macroPrec: 0.7685 - val_macroF1: 0.6446 - val_macroRecall: 0.6003\n",
      "Epoch 4/10\n",
      "500000/500000 [==============================] - 498s 995us/step - loss: 0.1782 - macroPrec: 0.8220 - macroF1: 0.7109 - macroRecall: 0.6646 - val_loss: 0.1911 - val_macroPrec: 0.8153 - val_macroF1: 0.7166 - val_macroRecall: 0.6742\n",
      "Epoch 5/10\n",
      "500000/500000 [==============================] - 500s 1ms/step - loss: 0.1636 - macroPrec: 0.8464 - macroF1: 0.7631 - macroRecall: 0.7255 - val_loss: 0.1862 - val_macroPrec: 0.8207 - val_macroF1: 0.7389 - val_macroRecall: 0.7025\n",
      "Epoch 6/10\n",
      "500000/500000 [==============================] - 506s 1ms/step - loss: 0.1527 - macroPrec: 0.8544 - macroF1: 0.7846 - macroRecall: 0.7523 - val_loss: 0.1842 - val_macroPrec: 0.8220 - val_macroF1: 0.7548 - val_macroRecall: 0.7249\n",
      "Epoch 7/10\n",
      "500000/500000 [==============================] - 512s 1ms/step - loss: 0.1436 - macroPrec: 0.8620 - macroF1: 0.8024 - macroRecall: 0.7752 - val_loss: 0.1828 - val_macroPrec: 0.8225 - val_macroF1: 0.7606 - val_macroRecall: 0.7340\n",
      "Epoch 8/10\n",
      "500000/500000 [==============================] - 520s 1ms/step - loss: 0.1355 - macroPrec: 0.8729 - macroF1: 0.8183 - macroRecall: 0.7928 - val_loss: 0.1830 - val_macroPrec: 0.8249 - val_macroF1: 0.7653 - val_macroRecall: 0.7398\n",
      "Epoch 9/10\n",
      "500000/500000 [==============================] - 532s 1ms/step - loss: 0.1282 - macroPrec: 0.8824 - macroF1: 0.8320 - macroRecall: 0.8090 - val_loss: 0.1839 - val_macroPrec: 0.8237 - val_macroF1: 0.7657 - val_macroRecall: 0.7411\n",
      "Epoch 10/10\n",
      "500000/500000 [==============================] - 513s 1ms/step - loss: 0.1214 - macroPrec: 0.8872 - macroF1: 0.8417 - macroRecall: 0.8202 - val_loss: 0.1856 - val_macroPrec: 0.8222 - val_macroF1: 0.7677 - val_macroRecall: 0.7454\n"
     ]
    }
   ],
   "source": [
    "model1.fit() # batch_size=500"
   ]
  },
  {
   "cell_type": "code",
   "execution_count": 14,
   "metadata": {},
   "outputs": [
    {
     "name": "stdout",
     "output_type": "stream",
     "text": [
      "Train on 500000 samples, validate on 200000 samples\n",
      "Epoch 1/10\n",
      "500000/500000 [==============================] - 376s 752us/step - loss: 1.2462 - macroPrec: 0.0799 - macroF1: 0.0651 - macroRecall: 0.0673 - val_loss: 0.8324 - val_macroPrec: 0.3054 - val_macroF1: 0.1558 - val_macroRecall: 0.1668\n",
      "Epoch 2/10\n",
      "500000/500000 [==============================] - 385s 770us/step - loss: 0.6297 - macroPrec: 0.3990 - macroF1: 0.2788 - macroRecall: 0.2583 - val_loss: 0.4733 - val_macroPrec: 0.4670 - val_macroF1: 0.3881 - val_macroRecall: 0.3508\n",
      "Epoch 3/10\n",
      "500000/500000 [==============================] - 381s 762us/step - loss: 0.4003 - macroPrec: 0.4579 - macroF1: 0.4231 - macroRecall: 0.3991 - val_loss: 0.3513 - val_macroPrec: 0.4526 - val_macroF1: 0.4371 - val_macroRecall: 0.4232\n",
      "Epoch 4/10\n",
      "500000/500000 [==============================] - 380s 760us/step - loss: 0.3222 - macroPrec: 0.4526 - macroF1: 0.4423 - macroRecall: 0.4327 - val_loss: 0.3027 - val_macroPrec: 0.4525 - val_macroF1: 0.4450 - val_macroRecall: 0.4380\n",
      "Epoch 5/10\n",
      "500000/500000 [==============================] - 379s 757us/step - loss: 0.2835 - macroPrec: 0.4549 - macroF1: 0.4489 - macroRecall: 0.4432 - val_loss: 0.2739 - val_macroPrec: 0.4576 - val_macroF1: 0.4498 - val_macroRecall: 0.4447\n",
      "Epoch 6/10\n",
      "500000/500000 [==============================] - 381s 763us/step - loss: 0.2575 - macroPrec: 0.4736 - macroF1: 0.4538 - macroRecall: 0.4488 - val_loss: 0.2535 - val_macroPrec: 0.5037 - val_macroF1: 0.4550 - val_macroRecall: 0.4496\n",
      "Epoch 7/10\n",
      "500000/500000 [==============================] - 384s 768us/step - loss: 0.2379 - macroPrec: 0.5708 - macroF1: 0.4660 - macroRecall: 0.4570 - val_loss: 0.2383 - val_macroPrec: 0.6125 - val_macroF1: 0.4732 - val_macroRecall: 0.4604\n",
      "Epoch 8/10\n",
      "500000/500000 [==============================] - 383s 766us/step - loss: 0.2226 - macroPrec: 0.6446 - macroF1: 0.4957 - macroRecall: 0.4758 - val_loss: 0.2268 - val_macroPrec: 0.6892 - val_macroF1: 0.5049 - val_macroRecall: 0.4807\n",
      "Epoch 9/10\n",
      "500000/500000 [==============================] - 379s 758us/step - loss: 0.2103 - macroPrec: 0.7673 - macroF1: 0.5344 - macroRecall: 0.5016 - val_loss: 0.2178 - val_macroPrec: 0.8082 - val_macroF1: 0.5472 - val_macroRecall: 0.5091\n",
      "Epoch 10/10\n",
      "500000/500000 [==============================] - 386s 771us/step - loss: 0.2001 - macroPrec: 0.8420 - macroF1: 0.5840 - macroRecall: 0.5357 - val_loss: 0.2107 - val_macroPrec: 0.8530 - val_macroF1: 0.5956 - val_macroRecall: 0.5431\n"
     ]
    }
   ],
   "source": [
    "model1.fit() # batch_size=3000"
   ]
  },
  {
   "cell_type": "code",
   "execution_count": 16,
   "metadata": {},
   "outputs": [],
   "source": [
    "name = f\"50dim_GlblAvg_CatCrossE_{epochs}epochs\"\n",
    "model1.save_embedd(name)\n",
    "model1.Ksave(name)\n",
    "model1.save_hist(name)"
   ]
  },
  {
   "cell_type": "code",
   "execution_count": 17,
   "metadata": {},
   "outputs": [
    {
     "data": {
      "image/png": "[encoded data removed]",
      "text/plain": [
       "<matplotlib.figure.Figure at 0x1e62a423e48>"
      ]
     },
     "metadata": {},
     "output_type": "display_data"
    }
   ],
   "source": [
    "model1.plot()"
   ]
  },
  {
   "cell_type": "markdown",
   "metadata": {},
   "source": [
    "### Comment\n",
    "For all measurements the results on test and validation data were very close.\n",
    "At first the macro precision, recall and F1 (per batch) rose together and plateaued around 0.45 for about four epochs. Then the precision picked up visibly but the recall was much slower to pick up, and consequently the final F1 after 10 epoch had reached a meager 0.60%."
   ]
  },
  {
   "cell_type": "code",
   "execution_count": 17,
   "metadata": {},
   "outputs": [],
   "source": [
    "# # the history may be loaded from file and played with later \n",
    "# hist = json.load(open(os.path.join(\"my_embeddings\", \"history_of_50dim_GlblAvg_CatCrossE_10epochs.p\"), \"r\"))\n",
    "# plot_history(hist)"
   ]
  },
  {
   "cell_type": "markdown",
   "metadata": {},
   "source": [
    "---"
   ]
  },
  {
   "cell_type": "markdown",
   "metadata": {},
   "source": [
    "### loss=*fuzzy_macroF1_flip*, class_weight=*None*"
   ]
  },
  {
   "cell_type": "code",
   "execution_count": 18,
   "metadata": {},
   "outputs": [
    {
     "name": "stdout",
     "output_type": "stream",
     "text": [
      "_________________________________________________________________\n",
      "Layer (type)                 Output Shape              Param #   \n",
      "=================================================================\n",
      "embedding_3 (Embedding)      (None, 679, 50)           13865200  \n",
      "_________________________________________________________________\n",
      "global_average_pooling1d_3 ( (None, 50)                0         \n",
      "_________________________________________________________________\n",
      "dense_2 (Dense)              (None, 6)                 306       \n",
      "=================================================================\n",
      "Total params: 13,865,506\n",
      "Trainable params: 13,865,506\n",
      "Non-trainable params: 0\n",
      "_________________________________________________________________\n"
     ]
    }
   ],
   "source": [
    "layers2 = [Embedding(input_dim=num_words, output_dim=50, input_length=padded_length, mask_zero=True),\n",
    "           GlobalAveragePooling1D()]\n",
    "\n",
    "model2 = BlackBox(layers=layers2, loss=fuzzy_macroF1_flip, class_weight=None, metrics=my_metrics)\n",
    "model2.summary()"
   ]
  },
  {
   "cell_type": "code",
   "execution_count": 19,
   "metadata": {},
   "outputs": [
    {
     "name": "stdout",
     "output_type": "stream",
     "text": [
      "Train on 500000 samples, validate on 200000 samples\n",
      "Epoch 1/10\n",
      "500000/500000 [==============================] - 381s 762us/step - loss: 0.8385 - macroPrec: 0.0905 - macroF1: 0.0593 - macroRecall: 0.0573 - val_loss: 0.7678 - val_macroPrec: 0.3185 - val_macroF1: 0.1842 - val_macroRecall: 0.1753\n",
      "Epoch 2/10\n",
      "500000/500000 [==============================] - 381s 762us/step - loss: 0.6736 - macroPrec: 0.4316 - macroF1: 0.3548 - macroRecall: 0.3281 - val_loss: 0.6005 - val_macroPrec: 0.4414 - val_macroF1: 0.4290 - val_macroRecall: 0.4176\n",
      "Epoch 3/10\n",
      "500000/500000 [==============================] - 425s 850us/step - loss: 0.5587 - macroPrec: 0.4945 - macroF1: 0.4449 - macroRecall: 0.4339 - val_loss: 0.5172 - val_macroPrec: 0.5597 - val_macroF1: 0.4856 - val_macroRecall: 0.4628\n",
      "Epoch 4/10\n",
      "500000/500000 [==============================] - 403s 805us/step - loss: 0.4638 - macroPrec: 0.6996 - macroF1: 0.5553 - macroRecall: 0.5200 - val_loss: 0.4103 - val_macroPrec: 0.8509 - val_macroF1: 0.6500 - val_macroRecall: 0.5928\n",
      "Epoch 5/10\n",
      "500000/500000 [==============================] - 380s 759us/step - loss: 0.3523 - macroPrec: 0.8360 - macroF1: 0.7185 - macroRecall: 0.6656 - val_loss: 0.3232 - val_macroPrec: 0.8133 - val_macroF1: 0.7411 - val_macroRecall: 0.6992\n",
      "Epoch 6/10\n",
      "500000/500000 [==============================] - 382s 764us/step - loss: 0.2900 - macroPrec: 0.8200 - macroF1: 0.7668 - macroRecall: 0.7325 - val_loss: 0.2862 - val_macroPrec: 0.8042 - val_macroF1: 0.7614 - val_macroRecall: 0.7339\n",
      "Epoch 7/10\n",
      "500000/500000 [==============================] - 389s 779us/step - loss: 0.2591 - macroPrec: 0.8183 - macroF1: 0.7860 - macroRecall: 0.7635 - val_loss: 0.2671 - val_macroPrec: 0.8046 - val_macroF1: 0.7687 - val_macroRecall: 0.7447\n",
      "Epoch 8/10\n",
      "500000/500000 [==============================] - 381s 761us/step - loss: 0.2408 - macroPrec: 0.8206 - macroF1: 0.7966 - macroRecall: 0.7800 - val_loss: 0.2548 - val_macroPrec: 0.8011 - val_macroF1: 0.7766 - val_macroRecall: 0.7605\n",
      "Epoch 9/10\n",
      "500000/500000 [==============================] - 382s 764us/step - loss: 0.2267 - macroPrec: 0.8244 - macroF1: 0.8065 - macroRecall: 0.7941 - val_loss: 0.2463 - val_macroPrec: 0.8026 - val_macroF1: 0.7809 - val_macroRecall: 0.7663\n",
      "Epoch 10/10\n",
      "500000/500000 [==============================] - 384s 768us/step - loss: 0.2162 - macroPrec: 0.8288 - macroF1: 0.8138 - macroRecall: 0.8035 - val_loss: 0.2396 - val_macroPrec: 0.8012 - val_macroF1: 0.7862 - val_macroRecall: 0.7768\n"
     ]
    }
   ],
   "source": [
    "model2.fit()"
   ]
  },
  {
   "cell_type": "code",
   "execution_count": 20,
   "metadata": {},
   "outputs": [],
   "source": [
    "name = f\"50dim_GlblAvg_F1flip_{epochs}epochs\"\n",
    "model2.save_embedd(name)\n",
    "model2.Ksave(name)\n",
    "model2.save_hist(name)"
   ]
  },
  {
   "cell_type": "code",
   "execution_count": 21,
   "metadata": {},
   "outputs": [
    {
     "data": {
      "image/png": "[encoded data removed]",
      "text/plain": [
       "<Figure size 864x360 with 2 Axes>"
      ]
     },
     "metadata": {
      "needs_background": "light"
     },
     "output_type": "display_data"
    }
   ],
   "source": [
    "model2.plot()"
   ]
  },
  {
   "cell_type": "markdown",
   "metadata": {},
   "source": [
    "### Comment\n",
    "Again the validation data followed the test data during the 10 epochs. This time there is no notable plateau of the three metrics, precision/recall/F1, around 0.45. They comfortably rise together up to about 0.79% and stay there at practically the same value."
   ]
  },
  {
   "cell_type": "code",
   "execution_count": 22,
   "metadata": {},
   "outputs": [],
   "source": [
    "# # the history may be loaded from file and played with later \n",
    "# hist = json.load(open(os.path.join(\"my_embeddings\", \"history_of_50dim_GlblAvg_CatCrossE_10epochs.p\"), \"r\"))\n",
    "# plot_history(hist)"
   ]
  },
  {
   "cell_type": "markdown",
   "metadata": {},
   "source": [
    "---"
   ]
  },
  {
   "cell_type": "markdown",
   "metadata": {},
   "source": [
    "### loss=*my_crossE*, class_weight=*None*"
   ]
  },
  {
   "cell_type": "code",
   "execution_count": 23,
   "metadata": {},
   "outputs": [
    {
     "name": "stdout",
     "output_type": "stream",
     "text": [
      "_________________________________________________________________\n",
      "Layer (type)                 Output Shape              Param #   \n",
      "=================================================================\n",
      "embedding_4 (Embedding)      (None, 679, 50)           13865200  \n",
      "_________________________________________________________________\n",
      "global_average_pooling1d_4 ( (None, 50)                0         \n",
      "_________________________________________________________________\n",
      "dense_3 (Dense)              (None, 6)                 306       \n",
      "=================================================================\n",
      "Total params: 13,865,506\n",
      "Trainable params: 13,865,506\n",
      "Non-trainable params: 0\n",
      "_________________________________________________________________\n"
     ]
    }
   ],
   "source": [
    "# dimension of the embedding space, output_dim\n",
    "# custom loss_2\n",
    "\n",
    "layers3 = [Embedding(input_dim=num_words, output_dim=50, input_length=padded_length, mask_zero=True),\n",
    "           GlobalAveragePooling1D()]\n",
    "\n",
    "model3 = BlackBox(layers=layers3, loss=my_crossE, class_weight=None, metrics=my_metrics)\n",
    "model3.summary()"
   ]
  },
  {
   "cell_type": "code",
   "execution_count": 24,
   "metadata": {},
   "outputs": [
    {
     "name": "stdout",
     "output_type": "stream",
     "text": [
      "Train on 500000 samples, validate on 200000 samples\n",
      "Epoch 1/10\n",
      "500000/500000 [==============================] - 381s 762us/step - loss: 0.3309 - macroPrec: 0.0311 - macroF1: 6.6715e-04 - macroRecall: 3.4139e-04 - val_loss: 0.2848 - val_macroPrec: 0.2997 - val_macroF1: 0.0142 - val_macroRecall: 0.0074\n",
      "Epoch 2/10\n",
      "500000/500000 [==============================] - 379s 758us/step - loss: 0.2291 - macroPrec: 0.5606 - macroF1: 0.2101 - macroRecall: 0.1514 - val_loss: 0.1796 - val_macroPrec: 0.8687 - val_macroF1: 0.4651 - val_macroRecall: 0.3530\n",
      "Epoch 3/10\n",
      "500000/500000 [==============================] - 381s 762us/step - loss: 0.1472 - macroPrec: 0.8192 - macroF1: 0.6275 - macroRecall: 0.5403 - val_loss: 0.1257 - val_macroPrec: 0.7606 - val_macroF1: 0.6904 - val_macroRecall: 0.6535\n",
      "Epoch 4/10\n",
      "500000/500000 [==============================] - 381s 763us/step - loss: 0.1085 - macroPrec: 0.7512 - macroF1: 0.7242 - macroRecall: 0.7279 - val_loss: 0.1018 - val_macroPrec: 0.7288 - val_macroF1: 0.7247 - val_macroRecall: 0.7507\n",
      "Epoch 5/10\n",
      "500000/500000 [==============================] - 384s 767us/step - loss: 0.0899 - macroPrec: 0.7302 - macroF1: 0.7425 - macroRecall: 0.7932 - val_loss: 0.0900 - val_macroPrec: 0.7182 - val_macroF1: 0.7366 - val_macroRecall: 0.7930\n",
      "Epoch 6/10\n",
      "500000/500000 [==============================] - 381s 761us/step - loss: 0.0793 - macroPrec: 0.7209 - macroF1: 0.7494 - macroRecall: 0.8239 - val_loss: 0.0830 - val_macroPrec: 0.7095 - val_macroF1: 0.7395 - val_macroRecall: 0.8157\n",
      "Epoch 7/10\n",
      "500000/500000 [==============================] - 387s 774us/step - loss: 0.0723 - macroPrec: 0.7200 - macroF1: 0.7571 - macroRecall: 0.8446 - val_loss: 0.0788 - val_macroPrec: 0.7087 - val_macroF1: 0.7447 - val_macroRecall: 0.8289\n",
      "Epoch 8/10\n",
      "500000/500000 [==============================] - 383s 765us/step - loss: 0.0672 - macroPrec: 0.7213 - macroF1: 0.7632 - macroRecall: 0.8578 - val_loss: 0.0757 - val_macroPrec: 0.7093 - val_macroF1: 0.7488 - val_macroRecall: 0.8381\n",
      "Epoch 9/10\n",
      "500000/500000 [==============================] - 418s 835us/step - loss: 0.0632 - macroPrec: 0.7227 - macroF1: 0.7682 - macroRecall: 0.8683 - val_loss: 0.0737 - val_macroPrec: 0.7106 - val_macroF1: 0.7530 - val_macroRecall: 0.8436\n",
      "Epoch 10/10\n",
      "500000/500000 [==============================] - 402s 804us/step - loss: 0.0598 - macroPrec: 0.7271 - macroF1: 0.7752 - macroRecall: 0.8776 - val_loss: 0.0720 - val_macroPrec: 0.7116 - val_macroF1: 0.7556 - val_macroRecall: 0.8484\n"
     ]
    }
   ],
   "source": [
    "model3.fit()"
   ]
  },
  {
   "cell_type": "code",
   "execution_count": 25,
   "metadata": {},
   "outputs": [],
   "source": [
    "name = f\"50dim_GlblAvg_MyCrossE_{epochs}epochs\"\n",
    "model3.save_embedd(name)\n",
    "model3.Ksave(name)\n",
    "model3.save_hist(name)"
   ]
  },
  {
   "cell_type": "code",
   "execution_count": 26,
   "metadata": {},
   "outputs": [
    {
     "data": {
      "image/png": "[encoded data removed]",
      "text/plain": [
       "<Figure size 864x360 with 2 Axes>"
      ]
     },
     "metadata": {
      "needs_background": "light"
     },
     "output_type": "display_data"
    }
   ],
   "source": [
    "model3.plot()"
   ]
  },
  {
   "cell_type": "markdown",
   "metadata": {},
   "source": [
    "### Comment\n",
    "This loss function (*my_crossE*) puts larger emphasis on misclassified records - via *log*, like the usual crossentropy - so that recall is prioritized over precision and those are now in reversed order. The macro F1 raises monotonically up to 0.76% which is over two points less than the previous loss function (*fuzzy_macroF1_flip*)."
   ]
  },
  {
   "cell_type": "code",
   "execution_count": 27,
   "metadata": {},
   "outputs": [],
   "source": [
    "# # the history may be loaded from file and played with later \n",
    "# hist = json.load(open(os.path.join(\"my_embeddings\", \"history_of_50dim_GlblAvg_CatCrossE_10epochs.p\"), \"r\"))\n",
    "# plot_history(hist)"
   ]
  },
  {
   "cell_type": "markdown",
   "metadata": {},
   "source": [
    "---"
   ]
  },
  {
   "cell_type": "markdown",
   "metadata": {},
   "source": [
    "### loss=*my_loss*, class_weight=*None*"
   ]
  },
  {
   "cell_type": "code",
   "execution_count": 28,
   "metadata": {},
   "outputs": [
    {
     "name": "stdout",
     "output_type": "stream",
     "text": [
      "_________________________________________________________________\n",
      "Layer (type)                 Output Shape              Param #   \n",
      "=================================================================\n",
      "embedding_5 (Embedding)      (None, 679, 50)           13865200  \n",
      "_________________________________________________________________\n",
      "global_average_pooling1d_5 ( (None, 50)                0         \n",
      "_________________________________________________________________\n",
      "dense_4 (Dense)              (None, 6)                 306       \n",
      "=================================================================\n",
      "Total params: 13,865,506\n",
      "Trainable params: 13,865,506\n",
      "Non-trainable params: 0\n",
      "_________________________________________________________________\n"
     ]
    }
   ],
   "source": [
    "# dimension of the embedding space, output_dim\n",
    "# custom loss_3\n",
    "\n",
    "layers4 = [Embedding(input_dim=num_words, output_dim=50, input_length=padded_length, mask_zero=True),\n",
    "           GlobalAveragePooling1D()]\n",
    "\n",
    "model4 = BlackBox(layers=layers4, loss=my_loss, class_weight=None, metrics=my_metrics)\n",
    "model4.summary()"
   ]
  },
  {
   "cell_type": "code",
   "execution_count": 29,
   "metadata": {},
   "outputs": [
    {
     "name": "stdout",
     "output_type": "stream",
     "text": [
      "Train on 500000 samples, validate on 200000 samples\n",
      "Epoch 1/10\n",
      "500000/500000 [==============================] - 384s 769us/step - loss: 0.5904 - macroPrec: 0.0809 - macroF1: 0.0135 - macroRecall: 0.0082 - val_loss: 0.5346 - val_macroPrec: 0.3303 - val_macroF1: 0.1525 - val_macroRecall: 0.1021\n",
      "Epoch 2/10\n",
      "500000/500000 [==============================] - 386s 773us/step - loss: 0.4613 - macroPrec: 0.4607 - macroF1: 0.3153 - macroRecall: 0.2653 - val_loss: 0.3976 - val_macroPrec: 0.6165 - val_macroF1: 0.4276 - val_macroRecall: 0.3776\n",
      "Epoch 3/10\n",
      "500000/500000 [==============================] - 381s 763us/step - loss: 0.3495 - macroPrec: 0.8375 - macroF1: 0.5751 - macroRecall: 0.5015 - val_loss: 0.3087 - val_macroPrec: 0.8302 - val_macroF1: 0.6911 - val_macroRecall: 0.6166\n",
      "Epoch 4/10\n",
      "500000/500000 [==============================] - 377s 755us/step - loss: 0.2703 - macroPrec: 0.8152 - macroF1: 0.7400 - macroRecall: 0.6905 - val_loss: 0.2488 - val_macroPrec: 0.7879 - val_macroF1: 0.7489 - val_macroRecall: 0.7205\n",
      "Epoch 5/10\n",
      "500000/500000 [==============================] - 389s 777us/step - loss: 0.2221 - macroPrec: 0.7934 - macroF1: 0.7741 - macroRecall: 0.7613 - val_loss: 0.2189 - val_macroPrec: 0.7788 - val_macroF1: 0.7658 - val_macroRecall: 0.7596\n",
      "Epoch 6/10\n",
      "500000/500000 [==============================] - 380s 760us/step - loss: 0.1967 - macroPrec: 0.7887 - macroF1: 0.7893 - macroRecall: 0.7959 - val_loss: 0.2026 - val_macroPrec: 0.7721 - val_macroF1: 0.7743 - val_macroRecall: 0.7828\n",
      "Epoch 7/10\n",
      "500000/500000 [==============================] - 383s 767us/step - loss: 0.1810 - macroPrec: 0.7905 - macroF1: 0.8008 - macroRecall: 0.8179 - val_loss: 0.1930 - val_macroPrec: 0.7731 - val_macroF1: 0.7800 - val_macroRecall: 0.7931\n",
      "Epoch 8/10\n",
      "500000/500000 [==============================] - 387s 775us/step - loss: 0.1701 - macroPrec: 0.7923 - macroF1: 0.8085 - macroRecall: 0.8323 - val_loss: 0.1863 - val_macroPrec: 0.7733 - val_macroF1: 0.7849 - val_macroRecall: 0.8036\n",
      "Epoch 9/10\n",
      "500000/500000 [==============================] - 376s 752us/step - loss: 0.1615 - macroPrec: 0.7960 - macroF1: 0.8158 - macroRecall: 0.8442 - val_loss: 0.1813 - val_macroPrec: 0.7730 - val_macroF1: 0.7878 - val_macroRecall: 0.8100\n",
      "Epoch 10/10\n",
      "500000/500000 [==============================] - 384s 767us/step - loss: 0.1544 - macroPrec: 0.8000 - macroF1: 0.8225 - macroRecall: 0.8539 - val_loss: 0.1774 - val_macroPrec: 0.7719 - val_macroF1: 0.7899 - val_macroRecall: 0.8161\n"
     ]
    }
   ],
   "source": [
    "model4.fit()"
   ]
  },
  {
   "cell_type": "code",
   "execution_count": 30,
   "metadata": {},
   "outputs": [],
   "source": [
    "name = f\"50dim_GlblAvg_MyLoss_{epochs}epochs\"\n",
    "model4.save_embedd(name)\n",
    "model4.Ksave(name)\n",
    "model4.save_hist(name)"
   ]
  },
  {
   "cell_type": "code",
   "execution_count": 31,
   "metadata": {},
   "outputs": [
    {
     "data": {
      "image/png": "[encoded data removed]",
      "text/plain": [
       "<Figure size 864x360 with 2 Axes>"
      ]
     },
     "metadata": {
      "needs_background": "light"
     },
     "output_type": "display_data"
    }
   ],
   "source": [
    "model4.plot()"
   ]
  },
  {
   "cell_type": "markdown",
   "metadata": {},
   "source": [
    "### Comment\n",
    "And the winner (marginally) is the average of the previous two loss functions, which is better than any of the two. At least on the 10-epoch stretch. It still goes up to almost 70% macro F1 on the validation set after just 3 epochs, and reaches 79% after the 10th epoch. Recall that our final macro-F1 on test data reached by the SVM was 80%. We do not want to look at test data just yet, but it seems that we have reproduced the result of a shallow classifier with a 50dim embedding, global averaging, and a single softmax-layer."
   ]
  },
  {
   "cell_type": "code",
   "execution_count": null,
   "metadata": {},
   "outputs": [],
   "source": [
    "# the history may be loaded from file and played with later \n",
    "# hist = json.load(open(os.path.join(\"my_embeddings\", \"history_of_50dim_GlblAvg_MyLoss_10epochs.p\"), \"r\"))\n",
    "# plot_history(hist)"
   ]
  },
  {
   "cell_type": "markdown",
   "metadata": {},
   "source": [
    "---"
   ]
  },
  {
   "cell_type": "markdown",
   "metadata": {},
   "source": [
    "\n",
    "### End"
   ]
  }
 ],
 "metadata": {
  "kernelspec": {
   "display_name": "Python 3",
   "language": "python",
   "name": "python3"
  },
  "language_info": {
   "codemirror_mode": {
    "name": "ipython",
    "version": 3
   },
   "file_extension": ".py",
   "mimetype": "text/x-python",
   "name": "python",
   "nbconvert_exporter": "python",
   "pygments_lexer": "ipython3",
   "version": "3.6.7"
  }
 },
 "nbformat": 4,
 "nbformat_minor": 2
}
