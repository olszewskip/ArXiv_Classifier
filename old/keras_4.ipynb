{
 "cells": [
  {
   "cell_type": "code",
   "execution_count": 1,
   "metadata": {},
   "outputs": [
    {
     "name": "stderr",
     "output_type": "stream",
     "text": [
      "Using TensorFlow backend.\n"
     ]
    }
   ],
   "source": [
    "import os\n",
    "import pandas as pd\n",
    "import numpy as np\n",
    "import pickle\n",
    "\n",
    "from sklearn.utils.class_weight import compute_class_weight\n",
    "from keras.utils import to_categorical\n",
    "\n",
    "from keras.models import Sequential\n",
    "from keras.layers import *\n",
    "\n",
    "from keras.callbacks import ReduceLROnPlateau, EarlyStopping, ModelCheckpoint\n",
    "\n",
    "import matplotlib.pyplot as plt\n",
    "plt.style.use('seaborn')"
   ]
  },
  {
   "cell_type": "code",
   "execution_count": 2,
   "metadata": {},
   "outputs": [],
   "source": [
    "EMBEDD_FILE = os.path.join(\"gensim\", \"embedd_weights.npy\")\n",
    "X_FILE_BIN =  os.path.join(\"gensim\", \"embedded_X.npy\")\n",
    "Y_FILE_BIN =  os.path.join(\"gensim\", \"encoded_Y.npy\")"
   ]
  },
  {
   "cell_type": "code",
   "execution_count": 3,
   "metadata": {},
   "outputs": [],
   "source": [
    "gensim_weights = np.matrix(np.load(EMBEDD_FILE))"
   ]
  },
  {
   "cell_type": "code",
   "execution_count": 4,
   "metadata": {},
   "outputs": [
    {
     "data": {
      "text/plain": [
       "dtype('float32')"
      ]
     },
     "execution_count": 4,
     "metadata": {},
     "output_type": "execute_result"
    }
   ],
   "source": [
    "gensim_weights.dtype"
   ]
  },
  {
   "cell_type": "code",
   "execution_count": 5,
   "metadata": {},
   "outputs": [],
   "source": [
    "X = np.load(X_FILE_BIN)\n",
    "Y = np.load(Y_FILE_BIN)"
   ]
  },
  {
   "cell_type": "code",
   "execution_count": 6,
   "metadata": {},
   "outputs": [
    {
     "data": {
      "text/plain": [
       "dtype('int32')"
      ]
     },
     "execution_count": 6,
     "metadata": {},
     "output_type": "execute_result"
    }
   ],
   "source": [
    "X.dtype"
   ]
  },
  {
   "cell_type": "code",
   "execution_count": 7,
   "metadata": {},
   "outputs": [
    {
     "data": {
      "text/plain": [
       "((59717, 300), (838804, 679), (838804,))"
      ]
     },
     "execution_count": 7,
     "metadata": {},
     "output_type": "execute_result"
    }
   ],
   "source": [
    "gensim_weights.shape, X.shape, Y.shape"
   ]
  },
  {
   "cell_type": "code",
   "execution_count": 8,
   "metadata": {},
   "outputs": [],
   "source": [
    "NUM_WORDS = gensim_weights.shape[0]\n",
    "EMBEDD_DIM = gensim_weights.shape[1]\n",
    "PADDED_LEN = X.shape[1]"
   ]
  },
  {
   "cell_type": "code",
   "execution_count": 9,
   "metadata": {},
   "outputs": [],
   "source": [
    "n_total = X.shape[0]\n",
    "n_skip = 450_000 # 0\n",
    "n_train = 500_000\n",
    "n_val = 10_000 # 200_000\n",
    "n_test = n_total - n_train - n_val\n",
    "\n",
    "X_train = X[n_skip:n_train]\n",
    "Y_train = to_categorical(Y[n_skip:n_train])\n",
    "\n",
    "X_val = X[n_train:n_train+n_val]\n",
    "Y_val = to_categorical(Y[n_train:n_train+n_val])\n",
    "\n",
    "X_test = X[-n_test:]\n",
    "Y_test = to_categorical(Y[-n_test:])"
   ]
  },
  {
   "cell_type": "code",
   "execution_count": 10,
   "metadata": {},
   "outputs": [
    {
     "data": {
      "text/plain": [
       "array([ 0.27602776,  0.72736371, 13.23801959,  9.49559404, 30.29201502,\n",
       "        1.26825655])"
      ]
     },
     "execution_count": 10,
     "metadata": {},
     "output_type": "execute_result"
    }
   ],
   "source": [
    "# compute class weights for keras (obtained from the whole of train sample)\n",
    "\n",
    "classes = np.unique(Y[:n_train])\n",
    "n_classes = len(classes)\n",
    "\n",
    "class_weights = compute_class_weight('balanced', classes, Y[:n_train])  # ~ 1 / np.unique(Y, return_counts=True)[1]\n",
    "class_weights"
   ]
  },
  {
   "cell_type": "code",
   "execution_count": 11,
   "metadata": {},
   "outputs": [],
   "source": [
    "from keras import backend as K\n",
    "\n",
    "# Custom metrics.\n",
    "# Note that any metric is computed per batch during training\n",
    "# (hence one needs large batches for it to make sense).\n",
    "# Also, there is the implicit 0.5 treshold in the K.round function below\n",
    "\n",
    "def macroPrec(y_true, y_pred):\n",
    "    \n",
    "    true_positives = K.sum(K.round(K.clip(y_true * y_pred, 0, 1)), axis=0)\n",
    "    positives = K.sum(K.round(y_pred), axis=0)\n",
    "    precision = true_positives / (positives + K.epsilon())\n",
    "\n",
    "    macroPrec = K.mean( precision )\n",
    "    \n",
    "    return macroPrec\n",
    "\n",
    "\n",
    "def macroRecall(y_true, y_pred):\n",
    "    \n",
    "    true_positives = K.sum(K.round(K.clip(y_true * y_pred, 0, 1)), axis=0)\n",
    "    actual_ones = K.sum(K.round(K.clip(y_true, 0, 1)), axis=0)\n",
    "    recall = true_positives / (actual_ones + K.epsilon())\n",
    "\n",
    "    macroRecall = K.mean( recall )\n",
    "    \n",
    "    return macroRecall\n",
    "\n",
    "\n",
    "def macroF1(y_true, y_pred):\n",
    "    \n",
    "    def recall(y_true, y_pred):\n",
    "\n",
    "        true_positives = K.sum(K.round(K.clip(y_true * y_pred, 0, 1)), axis=0)\n",
    "        actual_ones = K.sum(K.round(K.clip(y_true, 0, 1)), axis=0)\n",
    "        recall = true_positives / (actual_ones + K.epsilon())\n",
    "        return recall\n",
    "\n",
    "    \n",
    "    def precision(y_true, y_pred):\n",
    "        \n",
    "        true_positives = K.sum(K.round(K.clip(y_true * y_pred, 0, 1)), axis=0)\n",
    "        positives = K.sum(K.round(K.clip(y_pred, 0, 1)), axis=0)\n",
    "        precision = true_positives / (positives + K.epsilon())\n",
    "        return precision\n",
    "    \n",
    "    precision = precision(y_true, y_pred)\n",
    "    recall = recall(y_true, y_pred)\n",
    "    macroF1 = K.mean( 2*((precision*recall)/(precision+recall+K.epsilon())) )\n",
    "    \n",
    "    return macroF1\n",
    "\n",
    "\n",
    "\n",
    "# Custom loss functions\n",
    "# No clippping or rounding as those are not differentiable\n",
    "# Note to self: these functions are already taking into account class imbalances, so remeber\n",
    "# not to set the class_weight argument in fitting method when using them as the loss \n",
    "\n",
    "# semi macroF1\n",
    "def fuzzy_macroF1_flip(y_true, y_pred):\n",
    "    \n",
    "    def recall(y_true, y_pred):\n",
    "\n",
    "        true_positives = K.sum(y_true * y_pred, axis=0)\n",
    "        actual_ones = K.sum(y_true, axis=0)\n",
    "        recall = true_positives / (actual_ones + K.epsilon())\n",
    "        return recall\n",
    "\n",
    "    \n",
    "    def precision(y_true, y_pred):\n",
    "        \n",
    "        true_positives = K.sum(y_true * y_pred, axis=0)\n",
    "        positives = K.sum(y_pred, axis=0)\n",
    "        precision = true_positives / (positives + K.epsilon())\n",
    "        return precision\n",
    "    \n",
    "    precision = precision(y_true, y_pred)\n",
    "    recall = recall(y_true, y_pred)\n",
    "    macroF1 = K.mean( 2*((precision*recall)/(precision+recall+K.epsilon())) ) \n",
    "    \n",
    "    return 1-macroF1\n",
    "\n",
    "# weighted categorical crossentropy\n",
    "def w_cat_crossE(y_true, y_pred):\n",
    "    \n",
    "    class_entropy = K.sum(y_true * K.log(y_pred+K.epsilon()), axis=0)\n",
    "    weighted_entropy = class_weights * class_entropy\n",
    "    return -K.mean(weighted_entropy)/100"
   ]
  },
  {
   "cell_type": "code",
   "execution_count": 12,
   "metadata": {},
   "outputs": [],
   "source": [
    "# some other global learning settings\n",
    "\n",
    "batch_size = 2000\n",
    "patience = 4\n",
    "optimizer = 'adam' # 'rmsprop'\n",
    "my_loss = fuzzy_macroF1_flip\n",
    "my_metrics = ['categorical_accuracy', macroF1, w_cat_crossE,] # macroPrec, macroRecall,"
   ]
  },
  {
   "cell_type": "code",
   "execution_count": 13,
   "metadata": {},
   "outputs": [],
   "source": [
    "# auxiliary functions\n",
    "    \n",
    "# to plot the learning history,\n",
    "# i.e. loss and metrics on each train_batch and validation_batch\n",
    "def plot_history(history):\n",
    "    \n",
    "    plt.figure(figsize=(18, 5))\n",
    "    \n",
    "    loss = history.history['loss']\n",
    "    val_loss = history.history['val_loss']\n",
    "    x = range(1, len(loss) + 1)\n",
    "    \n",
    "    plt.subplot(1, 3, 1)    \n",
    "    plt.plot(x, loss, 'ob', label='Training loss')\n",
    "    plt.plot(x, val_loss, '-b', label='Validation loss')\n",
    "    plt.title('Training and val losses') \n",
    "    plt.legend()\n",
    "    \n",
    "    all_metrics = np.array(list(set(history.history.keys()) - set(['loss', 'val_loss', 'lr'])))\n",
    "    metrics = all_metrics[[not metric.startswith('val_') for metric in all_metrics]]\n",
    "    plt.subplot(1, 3, 2)\n",
    "    markers = ['b', 'r', 'g', 'y', 'c', 'm', 'k']\n",
    "    marker = zip(markers, markers)\n",
    "    for metric in metrics:\n",
    "        results = history.history[metric]\n",
    "        val_results = history.history['val_'+metric]\n",
    "        mark1, mark2 = next(marker)\n",
    "        plt.plot(x, results, 'o'+mark1, label=metric)\n",
    "        plt.plot(x, val_results, '-'+mark2, label='Validation '+metric)\n",
    "        plt.title('Training and val metrics')\n",
    "    plt.legend()\n",
    "    \n",
    "    plt.subplot(1, 3, 3)\n",
    "    lr = history.history['lr'] # learning rate\n",
    "    plt.plot(x, lr, 'k', label='Learning rate')\n",
    "    plt.title('Learning rate')  \n",
    "    plt.legend()\n",
    "    \n",
    "    \n",
    "# choose callback functions to be given in model.fit(...)\n",
    "# the EarlyStoppping maybe set to monitor different things, like the batchwise macroF1 of ours\n",
    "def callbacks(LRfactor=0.8):\n",
    "    return [ReduceLROnPlateau(factor=LRfactor, patience = patience//2),\n",
    "            #EarlyStopping(monitor='val_macroF1', mode='max', patience=patience)\n",
    "            EarlyStopping(monitor='val_loss', patience=patience)\n",
    "           ]"
   ]
  },
  {
   "cell_type": "markdown",
   "metadata": {},
   "source": [
    "---"
   ]
  },
  {
   "cell_type": "code",
   "execution_count": 15,
   "metadata": {},
   "outputs": [
    {
     "name": "stdout",
     "output_type": "stream",
     "text": [
      "_________________________________________________________________\n",
      "Layer (type)                 Output Shape              Param #   \n",
      "=================================================================\n",
      "embedding_1 (Embedding)      (None, 679, 300)          17915100  \n",
      "_________________________________________________________________\n",
      "conv1d_1 (Conv1D)            (None, 677, 48)           43248     \n",
      "_________________________________________________________________\n",
      "max_pooling1d_1 (MaxPooling1 (None, 168, 48)           0         \n",
      "_________________________________________________________________\n",
      "conv1d_2 (Conv1D)            (None, 165, 12)           2316      \n",
      "_________________________________________________________________\n",
      "flatten_1 (Flatten)          (None, 1980)              0         \n",
      "_________________________________________________________________\n",
      "dense_1 (Dense)              (None, 6)                 11886     \n",
      "=================================================================\n",
      "Total params: 17,972,550\n",
      "Trainable params: 17,972,550\n",
      "Non-trainable params: 0\n",
      "_________________________________________________________________\n"
     ]
    }
   ],
   "source": [
    "model = Sequential()\n",
    "model.add(Embedding(input_dim=NUM_WORDS, output_dim=EMBEDD_DIM, input_length=PADDED_LEN))\n",
    "model.add(Conv1D(48, 3))\n",
    "model.add(MaxPooling1D(8, 4))\n",
    "model.add(Conv1D(12, 4))\n",
    "model.add(Flatten())\n",
    "model.add(Dense(n_classes, activation='softmax'))\n",
    "model.summary()"
   ]
  },
  {
   "cell_type": "code",
   "execution_count": 19,
   "metadata": {},
   "outputs": [],
   "source": [
    "model.compile(loss='categorical_crossentropy', optimizer=optimizer, metrics=my_metrics)"
   ]
  },
  {
   "cell_type": "code",
   "execution_count": 20,
   "metadata": {},
   "outputs": [
    {
     "name": "stdout",
     "output_type": "stream",
     "text": [
      "Train on 50000 samples, validate on 10000 samples\n",
      "Epoch 1/30\n",
      "50000/50000 [==============================] - 320s 6ms/step - loss: 1.0839 - categorical_accuracy: 0.6038 - macroF1: 0.1315 - macroPrec: 0.1528 - macroRecall: 0.1413 - w_cat_crossE: 9.8601 - val_loss: 0.8594 - val_categorical_accuracy: 0.6567 - val_macroF1: 0.1887 - val_macroPrec: 0.2353 - val_macroRecall: 0.1936 - val_w_cat_crossE: 8.9958\n",
      "Epoch 2/30\n",
      "50000/50000 [==============================] - 314s 6ms/step - loss: 0.6018 - categorical_accuracy: 0.7887 - macroF1: 0.2881 - macroPrec: 0.3582 - macroRecall: 0.2789 - w_cat_crossE: 7.9962 - val_loss: 0.4363 - val_categorical_accuracy: 0.8544 - val_macroF1: 0.3853 - val_macroPrec: 0.4152 - val_macroRecall: 0.3708 - val_w_cat_crossE: 6.9855\n",
      "Epoch 3/30\n",
      "50000/50000 [==============================] - 319s 6ms/step - loss: 0.3605 - categorical_accuracy: 0.8831 - macroF1: 0.4187 - macroPrec: 0.4274 - macroRecall: 0.4119 - w_cat_crossE: 6.0735 - val_loss: 0.3338 - val_categorical_accuracy: 0.8954 - val_macroF1: 0.4319 - val_macroPrec: 0.4343 - val_macroRecall: 0.4300 - val_w_cat_crossE: 5.9520\n",
      "Epoch 4/30\n",
      "50000/50000 [==============================] - 338s 7ms/step - loss: 0.2499 - categorical_accuracy: 0.9191 - macroF1: 0.4520 - macroPrec: 0.4582 - macroRecall: 0.4519 - w_cat_crossE: 5.0878 - val_loss: 0.2999 - val_categorical_accuracy: 0.9046 - val_macroF1: 0.4433 - val_macroPrec: 0.4459 - val_macroRecall: 0.4412 - val_w_cat_crossE: 5.1506\n",
      "Epoch 5/30\n",
      "50000/50000 [==============================] - 341s 7ms/step - loss: 0.1895 - categorical_accuracy: 0.9367 - macroF1: 0.4895 - macroPrec: 0.5721 - macroRecall: 0.4816 - w_cat_crossE: 4.2480 - val_loss: 0.2999 - val_categorical_accuracy: 0.9070 - val_macroF1: 0.4608 - val_macroPrec: 0.4975 - val_macroRecall: 0.4494 - val_w_cat_crossE: 4.7267\n",
      "Epoch 6/30\n",
      "50000/50000 [==============================] - 359s 7ms/step - loss: 0.1408 - categorical_accuracy: 0.9537 - macroF1: 0.5549 - macroPrec: 0.6863 - macroRecall: 0.5286 - w_cat_crossE: 3.3283 - val_loss: 0.3109 - val_categorical_accuracy: 0.9079 - val_macroF1: 0.4791 - val_macroPrec: 0.5252 - val_macroRecall: 0.4672 - val_w_cat_crossE: 4.7429\n",
      "Epoch 7/30\n",
      "50000/50000 [==============================] - 357s 7ms/step - loss: 0.0995 - categorical_accuracy: 0.9694 - macroF1: 0.6308 - macroPrec: 0.7818 - macroRecall: 0.5925 - w_cat_crossE: 2.5261 - val_loss: 0.3332 - val_categorical_accuracy: 0.9054 - val_macroF1: 0.4904 - val_macroPrec: 0.5608 - val_macroRecall: 0.4713 - val_w_cat_crossE: 4.7575\n",
      "Epoch 8/30\n",
      "50000/50000 [==============================] - 361s 7ms/step - loss: 0.0711 - categorical_accuracy: 0.9819 - macroF1: 0.7520 - macroPrec: 0.9186 - macroRecall: 0.6930 - w_cat_crossE: 1.8416 - val_loss: 0.3627 - val_categorical_accuracy: 0.9041 - val_macroF1: 0.4993 - val_macroPrec: 0.5658 - val_macroRecall: 0.4777 - val_w_cat_crossE: 4.8811\n",
      "Epoch 9/30\n",
      "50000/50000 [==============================] - 373s 7ms/step - loss: 0.0487 - categorical_accuracy: 0.9898 - macroF1: 0.8546 - macroPrec: 0.9829 - macroRecall: 0.7966 - w_cat_crossE: 1.3022 - val_loss: 0.3836 - val_categorical_accuracy: 0.9039 - val_macroF1: 0.5225 - val_macroPrec: 0.6433 - val_macroRecall: 0.4962 - val_w_cat_crossE: 4.5612\n",
      "Epoch 10/30\n",
      "50000/50000 [==============================] - 336s 7ms/step - loss: 0.0339 - categorical_accuracy: 0.9940 - macroF1: 0.9323 - macroPrec: 0.9937 - macroRecall: 0.8891 - w_cat_crossE: 0.8891 - val_loss: 0.4075 - val_categorical_accuracy: 0.9045 - val_macroF1: 0.5698 - val_macroPrec: 0.7298 - val_macroRecall: 0.5299 - val_w_cat_crossE: 4.7414\n",
      "Epoch 11/30\n",
      "50000/50000 [==============================] - 341s 7ms/step - loss: 0.0237 - categorical_accuracy: 0.9968 - macroF1: 0.9581 - macroPrec: 0.9965 - macroRecall: 0.9279 - w_cat_crossE: 0.6242 - val_loss: 0.4273 - val_categorical_accuracy: 0.9041 - val_macroF1: 0.5917 - val_macroPrec: 0.7365 - val_macroRecall: 0.5505 - val_w_cat_crossE: 4.9359\n",
      "Epoch 12/30\n",
      "50000/50000 [==============================] - 344s 7ms/step - loss: 0.0176 - categorical_accuracy: 0.9982 - macroF1: 0.9737 - macroPrec: 0.9979 - macroRecall: 0.9534 - w_cat_crossE: 0.4703 - val_loss: 0.4461 - val_categorical_accuracy: 0.9035 - val_macroF1: 0.6019 - val_macroPrec: 0.7345 - val_macroRecall: 0.5625 - val_w_cat_crossE: 4.9977\n",
      "Epoch 13/30\n",
      "50000/50000 [==============================] - 340s 7ms/step - loss: 0.0135 - categorical_accuracy: 0.9989 - macroF1: 0.9818 - macroPrec: 0.9983 - macroRecall: 0.9677 - w_cat_crossE: 0.3545 - val_loss: 0.4602 - val_categorical_accuracy: 0.9039 - val_macroF1: 0.6078 - val_macroPrec: 0.7358 - val_macroRecall: 0.5691 - val_w_cat_crossE: 5.1622\n",
      "Epoch 14/30\n",
      "50000/50000 [==============================] - 339s 7ms/step - loss: 0.0108 - categorical_accuracy: 0.9994 - macroF1: 0.9881 - macroPrec: 0.9994 - macroRecall: 0.9782 - w_cat_crossE: 0.2859 - val_loss: 0.4732 - val_categorical_accuracy: 0.9042 - val_macroF1: 0.6103 - val_macroPrec: 0.7033 - val_macroRecall: 0.5768 - val_w_cat_crossE: 5.1678\n",
      "Epoch 15/30\n",
      "50000/50000 [==============================] - 351s 7ms/step - loss: 0.0090 - categorical_accuracy: 0.9996 - macroF1: 0.9931 - macroPrec: 0.9996 - macroRecall: 0.9871 - w_cat_crossE: 0.2388 - val_loss: 0.4835 - val_categorical_accuracy: 0.9037 - val_macroF1: 0.6152 - val_macroPrec: 0.6976 - val_macroRecall: 0.5826 - val_w_cat_crossE: 5.2746\n",
      "Epoch 16/30\n",
      "50000/50000 [==============================] - 361s 7ms/step - loss: 0.0077 - categorical_accuracy: 0.9997 - macroF1: 0.9941 - macroPrec: 0.9998 - macroRecall: 0.9890 - w_cat_crossE: 0.2043 - val_loss: 0.4942 - val_categorical_accuracy: 0.9035 - val_macroF1: 0.6153 - val_macroPrec: 0.6982 - val_macroRecall: 0.5827 - val_w_cat_crossE: 5.4208\n",
      "Epoch 17/30\n",
      "24000/50000 [=============>................] - ETA: 2:45 - loss: 0.0066 - categorical_accuracy: 0.9997 - macroF1: 0.9963 - macroPrec: 0.9996 - macroRecall: 0.9933 - w_cat_crossE: 0.1706"
     ]
    },
    {
     "ename": "KeyboardInterrupt",
     "evalue": "",
     "output_type": "error",
     "traceback": [
      "\u001b[1;31m---------------------------------------------------------------------------\u001b[0m",
      "\u001b[1;31mKeyboardInterrupt\u001b[0m                         Traceback (most recent call last)",
      "\u001b[1;32m<ipython-input-20-c2e747cf865c>\u001b[0m in \u001b[0;36m<module>\u001b[1;34m\u001b[0m\n\u001b[0;32m      4\u001b[0m                     \u001b[0mbatch_size\u001b[0m\u001b[1;33m=\u001b[0m\u001b[0mbatch_size\u001b[0m\u001b[1;33m,\u001b[0m\u001b[1;33m\u001b[0m\u001b[1;33m\u001b[0m\u001b[0m\n\u001b[0;32m      5\u001b[0m                     \u001b[0mvalidation_data\u001b[0m\u001b[1;33m=\u001b[0m\u001b[1;33m(\u001b[0m\u001b[0mX_val\u001b[0m\u001b[1;33m,\u001b[0m \u001b[0mY_val\u001b[0m\u001b[1;33m)\u001b[0m\u001b[1;33m,\u001b[0m\u001b[1;33m\u001b[0m\u001b[1;33m\u001b[0m\u001b[0m\n\u001b[1;32m----> 6\u001b[1;33m                     callbacks=callbacks())\n\u001b[0m",
      "\u001b[1;32m~\\Anaconda3\\envs\\py36data\\lib\\site-packages\\keras\\engine\\training.py\u001b[0m in \u001b[0;36mfit\u001b[1;34m(self, x, y, batch_size, epochs, verbose, callbacks, validation_split, validation_data, shuffle, class_weight, sample_weight, initial_epoch, steps_per_epoch, validation_steps, **kwargs)\u001b[0m\n\u001b[0;32m   1037\u001b[0m                                         \u001b[0minitial_epoch\u001b[0m\u001b[1;33m=\u001b[0m\u001b[0minitial_epoch\u001b[0m\u001b[1;33m,\u001b[0m\u001b[1;33m\u001b[0m\u001b[1;33m\u001b[0m\u001b[0m\n\u001b[0;32m   1038\u001b[0m                                         \u001b[0msteps_per_epoch\u001b[0m\u001b[1;33m=\u001b[0m\u001b[0msteps_per_epoch\u001b[0m\u001b[1;33m,\u001b[0m\u001b[1;33m\u001b[0m\u001b[1;33m\u001b[0m\u001b[0m\n\u001b[1;32m-> 1039\u001b[1;33m                                         validation_steps=validation_steps)\n\u001b[0m\u001b[0;32m   1040\u001b[0m \u001b[1;33m\u001b[0m\u001b[0m\n\u001b[0;32m   1041\u001b[0m     def evaluate(self, x=None, y=None,\n",
      "\u001b[1;32m~\\Anaconda3\\envs\\py36data\\lib\\site-packages\\keras\\engine\\training_arrays.py\u001b[0m in \u001b[0;36mfit_loop\u001b[1;34m(model, f, ins, out_labels, batch_size, epochs, verbose, callbacks, val_f, val_ins, shuffle, callback_metrics, initial_epoch, steps_per_epoch, validation_steps)\u001b[0m\n\u001b[0;32m    197\u001b[0m                     \u001b[0mins_batch\u001b[0m\u001b[1;33m[\u001b[0m\u001b[0mi\u001b[0m\u001b[1;33m]\u001b[0m \u001b[1;33m=\u001b[0m \u001b[0mins_batch\u001b[0m\u001b[1;33m[\u001b[0m\u001b[0mi\u001b[0m\u001b[1;33m]\u001b[0m\u001b[1;33m.\u001b[0m\u001b[0mtoarray\u001b[0m\u001b[1;33m(\u001b[0m\u001b[1;33m)\u001b[0m\u001b[1;33m\u001b[0m\u001b[1;33m\u001b[0m\u001b[0m\n\u001b[0;32m    198\u001b[0m \u001b[1;33m\u001b[0m\u001b[0m\n\u001b[1;32m--> 199\u001b[1;33m                 \u001b[0mouts\u001b[0m \u001b[1;33m=\u001b[0m \u001b[0mf\u001b[0m\u001b[1;33m(\u001b[0m\u001b[0mins_batch\u001b[0m\u001b[1;33m)\u001b[0m\u001b[1;33m\u001b[0m\u001b[1;33m\u001b[0m\u001b[0m\n\u001b[0m\u001b[0;32m    200\u001b[0m                 \u001b[0mouts\u001b[0m \u001b[1;33m=\u001b[0m \u001b[0mto_list\u001b[0m\u001b[1;33m(\u001b[0m\u001b[0mouts\u001b[0m\u001b[1;33m)\u001b[0m\u001b[1;33m\u001b[0m\u001b[1;33m\u001b[0m\u001b[0m\n\u001b[0;32m    201\u001b[0m                 \u001b[1;32mfor\u001b[0m \u001b[0ml\u001b[0m\u001b[1;33m,\u001b[0m \u001b[0mo\u001b[0m \u001b[1;32min\u001b[0m \u001b[0mzip\u001b[0m\u001b[1;33m(\u001b[0m\u001b[0mout_labels\u001b[0m\u001b[1;33m,\u001b[0m \u001b[0mouts\u001b[0m\u001b[1;33m)\u001b[0m\u001b[1;33m:\u001b[0m\u001b[1;33m\u001b[0m\u001b[1;33m\u001b[0m\u001b[0m\n",
      "\u001b[1;32m~\\Anaconda3\\envs\\py36data\\lib\\site-packages\\keras\\backend\\tensorflow_backend.py\u001b[0m in \u001b[0;36m__call__\u001b[1;34m(self, inputs)\u001b[0m\n\u001b[0;32m   2713\u001b[0m                 \u001b[1;32mreturn\u001b[0m \u001b[0mself\u001b[0m\u001b[1;33m.\u001b[0m\u001b[0m_legacy_call\u001b[0m\u001b[1;33m(\u001b[0m\u001b[0minputs\u001b[0m\u001b[1;33m)\u001b[0m\u001b[1;33m\u001b[0m\u001b[1;33m\u001b[0m\u001b[0m\n\u001b[0;32m   2714\u001b[0m \u001b[1;33m\u001b[0m\u001b[0m\n\u001b[1;32m-> 2715\u001b[1;33m             \u001b[1;32mreturn\u001b[0m \u001b[0mself\u001b[0m\u001b[1;33m.\u001b[0m\u001b[0m_call\u001b[0m\u001b[1;33m(\u001b[0m\u001b[0minputs\u001b[0m\u001b[1;33m)\u001b[0m\u001b[1;33m\u001b[0m\u001b[1;33m\u001b[0m\u001b[0m\n\u001b[0m\u001b[0;32m   2716\u001b[0m         \u001b[1;32melse\u001b[0m\u001b[1;33m:\u001b[0m\u001b[1;33m\u001b[0m\u001b[1;33m\u001b[0m\u001b[0m\n\u001b[0;32m   2717\u001b[0m             \u001b[1;32mif\u001b[0m \u001b[0mpy_any\u001b[0m\u001b[1;33m(\u001b[0m\u001b[0mis_tensor\u001b[0m\u001b[1;33m(\u001b[0m\u001b[0mx\u001b[0m\u001b[1;33m)\u001b[0m \u001b[1;32mfor\u001b[0m \u001b[0mx\u001b[0m \u001b[1;32min\u001b[0m \u001b[0minputs\u001b[0m\u001b[1;33m)\u001b[0m\u001b[1;33m:\u001b[0m\u001b[1;33m\u001b[0m\u001b[1;33m\u001b[0m\u001b[0m\n",
      "\u001b[1;32m~\\Anaconda3\\envs\\py36data\\lib\\site-packages\\keras\\backend\\tensorflow_backend.py\u001b[0m in \u001b[0;36m_call\u001b[1;34m(self, inputs)\u001b[0m\n\u001b[0;32m   2673\u001b[0m             \u001b[0mfetched\u001b[0m \u001b[1;33m=\u001b[0m \u001b[0mself\u001b[0m\u001b[1;33m.\u001b[0m\u001b[0m_callable_fn\u001b[0m\u001b[1;33m(\u001b[0m\u001b[1;33m*\u001b[0m\u001b[0marray_vals\u001b[0m\u001b[1;33m,\u001b[0m \u001b[0mrun_metadata\u001b[0m\u001b[1;33m=\u001b[0m\u001b[0mself\u001b[0m\u001b[1;33m.\u001b[0m\u001b[0mrun_metadata\u001b[0m\u001b[1;33m)\u001b[0m\u001b[1;33m\u001b[0m\u001b[1;33m\u001b[0m\u001b[0m\n\u001b[0;32m   2674\u001b[0m         \u001b[1;32melse\u001b[0m\u001b[1;33m:\u001b[0m\u001b[1;33m\u001b[0m\u001b[1;33m\u001b[0m\u001b[0m\n\u001b[1;32m-> 2675\u001b[1;33m             \u001b[0mfetched\u001b[0m \u001b[1;33m=\u001b[0m \u001b[0mself\u001b[0m\u001b[1;33m.\u001b[0m\u001b[0m_callable_fn\u001b[0m\u001b[1;33m(\u001b[0m\u001b[1;33m*\u001b[0m\u001b[0marray_vals\u001b[0m\u001b[1;33m)\u001b[0m\u001b[1;33m\u001b[0m\u001b[1;33m\u001b[0m\u001b[0m\n\u001b[0m\u001b[0;32m   2676\u001b[0m         \u001b[1;32mreturn\u001b[0m \u001b[0mfetched\u001b[0m\u001b[1;33m[\u001b[0m\u001b[1;33m:\u001b[0m\u001b[0mlen\u001b[0m\u001b[1;33m(\u001b[0m\u001b[0mself\u001b[0m\u001b[1;33m.\u001b[0m\u001b[0moutputs\u001b[0m\u001b[1;33m)\u001b[0m\u001b[1;33m]\u001b[0m\u001b[1;33m\u001b[0m\u001b[1;33m\u001b[0m\u001b[0m\n\u001b[0;32m   2677\u001b[0m \u001b[1;33m\u001b[0m\u001b[0m\n",
      "\u001b[1;32m~\\Anaconda3\\envs\\py36data\\lib\\site-packages\\tensorflow\\python\\client\\session.py\u001b[0m in \u001b[0;36m__call__\u001b[1;34m(self, *args, **kwargs)\u001b[0m\n\u001b[0;32m   1437\u001b[0m           ret = tf_session.TF_SessionRunCallable(\n\u001b[0;32m   1438\u001b[0m               \u001b[0mself\u001b[0m\u001b[1;33m.\u001b[0m\u001b[0m_session\u001b[0m\u001b[1;33m.\u001b[0m\u001b[0m_session\u001b[0m\u001b[1;33m,\u001b[0m \u001b[0mself\u001b[0m\u001b[1;33m.\u001b[0m\u001b[0m_handle\u001b[0m\u001b[1;33m,\u001b[0m \u001b[0margs\u001b[0m\u001b[1;33m,\u001b[0m \u001b[0mstatus\u001b[0m\u001b[1;33m,\u001b[0m\u001b[1;33m\u001b[0m\u001b[1;33m\u001b[0m\u001b[0m\n\u001b[1;32m-> 1439\u001b[1;33m               run_metadata_ptr)\n\u001b[0m\u001b[0;32m   1440\u001b[0m         \u001b[1;32mif\u001b[0m \u001b[0mrun_metadata\u001b[0m\u001b[1;33m:\u001b[0m\u001b[1;33m\u001b[0m\u001b[1;33m\u001b[0m\u001b[0m\n\u001b[0;32m   1441\u001b[0m           \u001b[0mproto_data\u001b[0m \u001b[1;33m=\u001b[0m \u001b[0mtf_session\u001b[0m\u001b[1;33m.\u001b[0m\u001b[0mTF_GetBuffer\u001b[0m\u001b[1;33m(\u001b[0m\u001b[0mrun_metadata_ptr\u001b[0m\u001b[1;33m)\u001b[0m\u001b[1;33m\u001b[0m\u001b[1;33m\u001b[0m\u001b[0m\n",
      "\u001b[1;31mKeyboardInterrupt\u001b[0m: "
     ]
    }
   ],
   "source": [
    "history = model.fit(X_train,Y_train,\n",
    "                    class_weight=class_weights,\n",
    "                    epochs=30,\n",
    "                    batch_size=batch_size,\n",
    "                    validation_data=(X_val, Y_val),\n",
    "                    callbacks=callbacks())"
   ]
  },
  {
   "cell_type": "markdown",
   "metadata": {},
   "source": [
    "---"
   ]
  },
  {
   "cell_type": "code",
   "execution_count": 24,
   "metadata": {},
   "outputs": [
    {
     "name": "stdout",
     "output_type": "stream",
     "text": [
      "_________________________________________________________________\n",
      "Layer (type)                 Output Shape              Param #   \n",
      "=================================================================\n",
      "embedding_4 (Embedding)      (None, 679, 300)          17915100  \n",
      "_________________________________________________________________\n",
      "conv1d_7 (Conv1D)            (None, 677, 48)           43248     \n",
      "_________________________________________________________________\n",
      "max_pooling1d_4 (MaxPooling1 (None, 168, 48)           0         \n",
      "_________________________________________________________________\n",
      "conv1d_8 (Conv1D)            (None, 165, 12)           2316      \n",
      "_________________________________________________________________\n",
      "flatten_4 (Flatten)          (None, 1980)              0         \n",
      "_________________________________________________________________\n",
      "dense_4 (Dense)              (None, 6)                 11886     \n",
      "=================================================================\n",
      "Total params: 17,972,550\n",
      "Trainable params: 57,450\n",
      "Non-trainable params: 17,915,100\n",
      "_________________________________________________________________\n"
     ]
    }
   ],
   "source": [
    "model2 = Sequential()\n",
    "model2.add(Embedding(input_dim=NUM_WORDS, output_dim=EMBEDD_DIM, input_length=PADDED_LEN,\\\n",
    "                     weights=[gensim_weights], trainable=True))\n",
    "model2.add(Conv1D(48, 3))\n",
    "model2.add(MaxPooling1D(8, 4))\n",
    "model2.add(Conv1D(12, 4))\n",
    "model2.add(Flatten())\n",
    "model2.add(Dense(n_classes, activation='softmax'))\n",
    "model2.summary()"
   ]
  },
  {
   "cell_type": "code",
   "execution_count": 25,
   "metadata": {},
   "outputs": [],
   "source": [
    "model2.compile(loss='categorical_crossentropy', optimizer=optimizer, metrics=my_metrics)"
   ]
  },
  {
   "cell_type": "code",
   "execution_count": 26,
   "metadata": {},
   "outputs": [
    {
     "name": "stdout",
     "output_type": "stream",
     "text": [
      "Train on 50000 samples, validate on 10000 samples\n",
      "Epoch 1/30\n",
      "50000/50000 [==============================] - 150s 3ms/step - loss: 1.3390 - categorical_accuracy: 0.5838 - macroF1: 0.0602 - w_cat_crossE: 8.3672 - val_loss: 1.0983 - val_categorical_accuracy: 0.5967 - val_macroF1: 0.1257 - val_w_cat_crossE: 10.6121\n",
      "Epoch 2/30\n",
      "50000/50000 [==============================] - 149s 3ms/step - loss: 1.0736 - categorical_accuracy: 0.6024 - macroF1: 0.1254 - w_cat_crossE: 10.0598 - val_loss: 1.0647 - val_categorical_accuracy: 0.5967 - val_macroF1: 0.1245 - val_w_cat_crossE: 9.2511\n",
      "Epoch 3/30\n",
      "50000/50000 [==============================] - 148s 3ms/step - loss: 1.0587 - categorical_accuracy: 0.6024 - macroF1: 0.1253 - w_cat_crossE: 9.9541 - val_loss: 1.0527 - val_categorical_accuracy: 0.5967 - val_macroF1: 0.1245 - val_w_cat_crossE: 9.6521\n",
      "Epoch 4/30\n",
      "50000/50000 [==============================] - 148s 3ms/step - loss: 1.0415 - categorical_accuracy: 0.6024 - macroF1: 0.1253 - w_cat_crossE: 9.8550 - val_loss: 1.0247 - val_categorical_accuracy: 0.5967 - val_macroF1: 0.1246 - val_w_cat_crossE: 9.5963\n",
      "Epoch 5/30\n",
      "50000/50000 [==============================] - 148s 3ms/step - loss: 1.0052 - categorical_accuracy: 0.6091 - macroF1: 0.1262 - w_cat_crossE: 9.7691 - val_loss: 0.9810 - val_categorical_accuracy: 0.6298 - val_macroF1: 0.1235 - val_w_cat_crossE: 9.2902\n"
     ]
    },
    {
     "data": {
      "text/plain": [
       "<keras.callbacks.History at 0x21285e0ff98>"
      ]
     },
     "execution_count": 26,
     "metadata": {},
     "output_type": "execute_result"
    }
   ],
   "source": [
    "model2.fit(X_train, Y_train,\\\n",
    "           class_weight=class_weights,\n",
    "           epochs=30,\n",
    "           batch_size=batch_size,\n",
    "           validation_data=(X_val, Y_val),\n",
    "           callbacks=callbacks())"
   ]
  },
  {
   "cell_type": "markdown",
   "metadata": {},
   "source": [
    "---"
   ]
  },
  {
   "cell_type": "markdown",
   "metadata": {},
   "source": [
    "---"
   ]
  },
  {
   "cell_type": "code",
   "execution_count": 14,
   "metadata": {},
   "outputs": [],
   "source": [
    "# the workhorse\n",
    "\n",
    "class BlackBox():\n",
    "    \n",
    "    def __init__(self, layers, loss, metrics, class_weight=class_weights, callbacks=callbacks(),\\\n",
    "                 custom_embedd=False, embedd_weights = [gensim_weights],\\\n",
    "                 embedd_dims=[NUM_WORDS, EMBEDD_DIM, PADDED_LEN], train_weights=False):\n",
    "        \n",
    "        self.layers = layers\n",
    "        self.loss = loss\n",
    "        self.metrics = metrics\n",
    "        self.class_weight = class_weight\n",
    "        self.callbacks = callbacks\n",
    "        self.input_dim = embedd_dims[0] # num_words\n",
    "        self.output_dim = embedd_dims[1] # dimension of the embedding space\n",
    "        self.input_length = embedd_dims[2] # padded_length\n",
    "        self.train_weigts = train_weights\n",
    "        self.history = None\n",
    "        self.results = None\n",
    "        \n",
    "        self.model = Sequential()\n",
    "        \n",
    "        if custom_embedd:\n",
    "            self.embedd_weights = embedd_weights\n",
    "            self.model.add(Embedding(input_dim=self.input_dim,\\\n",
    "                                     output_dim=self.output_dim,\\\n",
    "                                     input_length=self.input_length,\\\n",
    "                                     weights=self.embedd_weights,\\\n",
    "                                     trainable=self.train_weigts))\n",
    "            self.model.layers[0].trainable = False  # szczeżonego panbug szczeże\n",
    "        else:\n",
    "            self.model.add(Embedding(input_dim=self.input_dim,\\\n",
    "                                     output_dim=self.output_dim,\\\n",
    "                                     input_length=self.input_length,\\\n",
    "                                     trainable=True))            \n",
    "            \n",
    "        for layer in layers:\n",
    "            self.model.add(layer)\n",
    "            \n",
    "        self.model.add(Dense(n_classes, activation='softmax'))\n",
    "        self.model.compile(loss=self.loss, optimizer=optimizer, metrics=self.metrics)\n",
    "    \n",
    "    def summary(self):\n",
    "        return self.model.summary()\n",
    "    \n",
    "    def fit(self, epochs=50):\n",
    "        self.history = self.model.fit(\n",
    "            X_train, Y_train,\n",
    "            class_weight=self.class_weight,\n",
    "            epochs=epochs,\n",
    "            batch_size=batch_size,\n",
    "            validation_data=(X_val, Y_val),\n",
    "            callbacks=self.callbacks,\n",
    "            verbose = 1        \n",
    "            )\n",
    "        \n",
    "    def reset(self):\n",
    "        \n",
    "        self.history = None\n",
    "        self.results = None\n",
    "        self.model.compile(loss=self.loss, optimizer=optimizer, metrics=self.metrics)\n",
    "        \n",
    "    def evaluate(self):\n",
    "        print(f'Loss function: {self.loss.__name__ if callable(self.loss) else self.loss}. Metrics: {[metric.__name__ if callable(metric) else metric for metric in self.metrics]}')\n",
    "        print(\"Predicting for X_test, comparing with y_test\")\n",
    "        return self.results\n",
    "    \n",
    "    def plot(self):\n",
    "        plot_history(self.history)\n",
    "        \n",
    "    def Ksave(self, file):\n",
    "        self.model.save(file)\n",
    "        \n",
    "    def save(self, file):\n",
    "        pickle.dump(self, file)\n",
    " \n"
   ]
  },
  {
   "cell_type": "markdown",
   "metadata": {},
   "source": [
    "---\n",
    "---"
   ]
  },
  {
   "cell_type": "markdown",
   "metadata": {},
   "source": [
    "# Loss = *categorical_crossentropy*"
   ]
  },
  {
   "cell_type": "markdown",
   "metadata": {},
   "source": [
    "---"
   ]
  },
  {
   "cell_type": "markdown",
   "metadata": {},
   "source": [
    "### Dense nets"
   ]
  },
  {
   "cell_type": "code",
   "execution_count": 15,
   "metadata": {},
   "outputs": [
    {
     "name": "stdout",
     "output_type": "stream",
     "text": [
      "_________________________________________________________________\n",
      "Layer (type)                 Output Shape              Param #   \n",
      "=================================================================\n",
      "embedding_1 (Embedding)      (None, 679, 300)          17915100  \n",
      "_________________________________________________________________\n",
      "dropout_1 (Dropout)          (None, 679, 300)          0         \n",
      "_________________________________________________________________\n",
      "dense_1 (Dense)              (None, 679, 144)          43344     \n",
      "_________________________________________________________________\n",
      "max_pooling1d_1 (MaxPooling1 (None, 168, 144)          0         \n",
      "_________________________________________________________________\n",
      "dropout_2 (Dropout)          (None, 168, 144)          0         \n",
      "_________________________________________________________________\n",
      "dense_2 (Dense)              (None, 168, 96)           13920     \n",
      "_________________________________________________________________\n",
      "flatten_1 (Flatten)          (None, 16128)             0         \n",
      "_________________________________________________________________\n",
      "dense_3 (Dense)              (None, 6)                 96774     \n",
      "=================================================================\n",
      "Total params: 18,069,138\n",
      "Trainable params: 18,069,138\n",
      "Non-trainable params: 0\n",
      "_________________________________________________________________\n"
     ]
    }
   ],
   "source": [
    "# embedding: keras layer, trained\n",
    "# structure: dense layers\n",
    "\n",
    "layers1a = [Dropout(0.1),\n",
    "           Dense(144, activation='relu'),\n",
    "           MaxPooling1D(8, 4),\n",
    "           Dropout(0.1),\n",
    "           Dense(96, activation='relu'),\n",
    "            Flatten()\n",
    "          ]\n",
    "\n",
    "model1a = BlackBox(layers=layers1a, loss='categorical_crossentropy', metrics=my_metrics)\n",
    "model1a.summary()"
   ]
  },
  {
   "cell_type": "code",
   "execution_count": 16,
   "metadata": {},
   "outputs": [
    {
     "name": "stdout",
     "output_type": "stream",
     "text": [
      "Train on 50000 samples, validate on 10000 samples\n",
      "Epoch 1/50\n",
      "50000/50000 [==============================] - 568s 11ms/step - loss: 1.0612 - categorical_accuracy: 0.6120 - macroF1: 0.1174 - w_cat_crossE: 9.7652 - val_loss: 0.8007 - val_categorical_accuracy: 0.7099 - val_macroF1: 0.2115 - val_w_cat_crossE: 8.0099\n",
      "Epoch 2/50\n",
      "50000/50000 [==============================] - 621s 12ms/step - loss: 0.5063 - categorical_accuracy: 0.8310 - macroF1: 0.3573 - w_cat_crossE: 7.5247 - val_loss: 0.3304 - val_categorical_accuracy: 0.8990 - val_macroF1: 0.4364 - val_w_cat_crossE: 5.3409\n",
      "Epoch 3/50\n",
      "50000/50000 [==============================] - 638s 13ms/step - loss: 0.2713 - categorical_accuracy: 0.9129 - macroF1: 0.4520 - w_cat_crossE: 5.2618 - val_loss: 0.2848 - val_categorical_accuracy: 0.9112 - val_macroF1: 0.4663 - val_w_cat_crossE: 4.3533\n",
      "Epoch 4/50\n",
      "50000/50000 [==============================] - 643s 13ms/step - loss: 0.1920 - categorical_accuracy: 0.9361 - macroF1: 0.4970 - w_cat_crossE: 4.0851 - val_loss: 0.2680 - val_categorical_accuracy: 0.9163 - val_macroF1: 0.4811 - val_w_cat_crossE: 4.1462\n",
      "Epoch 5/50\n",
      "50000/50000 [==============================] - 645s 13ms/step - loss: 0.1274 - categorical_accuracy: 0.9586 - macroF1: 0.6203 - w_cat_crossE: 2.8872 - val_loss: 0.2732 - val_categorical_accuracy: 0.9166 - val_macroF1: 0.5632 - val_w_cat_crossE: 3.5918\n",
      "Epoch 6/50\n",
      "50000/50000 [==============================] - 661s 13ms/step - loss: 0.0771 - categorical_accuracy: 0.9775 - macroF1: 0.7831 - w_cat_crossE: 1.7614 - val_loss: 0.3075 - val_categorical_accuracy: 0.9154 - val_macroF1: 0.6462 - val_w_cat_crossE: 3.9264\n",
      "Epoch 7/50\n",
      "50000/50000 [==============================] - 654s 13ms/step - loss: 0.0417 - categorical_accuracy: 0.9904 - macroF1: 0.9205 - w_cat_crossE: 0.9453 - val_loss: 0.3393 - val_categorical_accuracy: 0.9145 - val_macroF1: 0.6748 - val_w_cat_crossE: 4.0013\n",
      "Epoch 8/50\n",
      "50000/50000 [==============================] - 654s 13ms/step - loss: 0.0240 - categorical_accuracy: 0.9956 - macroF1: 0.9607 - w_cat_crossE: 0.5342 - val_loss: 0.3755 - val_categorical_accuracy: 0.9137 - val_macroF1: 0.6907 - val_w_cat_crossE: 4.0735\n"
     ]
    }
   ],
   "source": [
    "model1a.fit()"
   ]
  },
  {
   "cell_type": "code",
   "execution_count": 22,
   "metadata": {},
   "outputs": [
    {
     "data": {
      "image/png": "[encoded data removed]",
      "text/plain": [
       "<Figure size 1296x360 with 3 Axes>"
      ]
     },
     "metadata": {
      "needs_background": "light"
     },
     "output_type": "display_data"
    }
   ],
   "source": [
    "model1a.plot()"
   ]
  },
  {
   "cell_type": "markdown",
   "metadata": {},
   "source": [
    "---"
   ]
  },
  {
   "cell_type": "code",
   "execution_count": 17,
   "metadata": {},
   "outputs": [
    {
     "name": "stdout",
     "output_type": "stream",
     "text": [
      "_________________________________________________________________\n",
      "Layer (type)                 Output Shape              Param #   \n",
      "=================================================================\n",
      "embedding_2 (Embedding)      (None, 679, 300)          17915100  \n",
      "_________________________________________________________________\n",
      "dropout_3 (Dropout)          (None, 679, 300)          0         \n",
      "_________________________________________________________________\n",
      "dense_4 (Dense)              (None, 679, 144)          43344     \n",
      "_________________________________________________________________\n",
      "max_pooling1d_2 (MaxPooling1 (None, 168, 144)          0         \n",
      "_________________________________________________________________\n",
      "dropout_4 (Dropout)          (None, 168, 144)          0         \n",
      "_________________________________________________________________\n",
      "dense_5 (Dense)              (None, 168, 96)           13920     \n",
      "_________________________________________________________________\n",
      "flatten_2 (Flatten)          (None, 16128)             0         \n",
      "_________________________________________________________________\n",
      "dense_6 (Dense)              (None, 6)                 96774     \n",
      "=================================================================\n",
      "Total params: 18,069,138\n",
      "Trainable params: 154,038\n",
      "Non-trainable params: 17,915,100\n",
      "_________________________________________________________________\n"
     ]
    }
   ],
   "source": [
    "# embedding: gensim weights, re-trained\n",
    "# structure: dense layers\n",
    "\n",
    "layers1b = [Dropout(0.1),\n",
    "           Dense(144, activation='relu'),\n",
    "           MaxPooling1D(8, 4),\n",
    "           Dropout(0.1),\n",
    "           Dense(96, activation='relu'),\n",
    "            Flatten()\n",
    "          ]\n",
    "\n",
    "model1b = BlackBox(layers=layers1b, loss='categorical_crossentropy', metrics=my_metrics, custom_embedd=True, train_weights=True)\n",
    "model1b.summary()"
   ]
  },
  {
   "cell_type": "code",
   "execution_count": 18,
   "metadata": {},
   "outputs": [
    {
     "name": "stdout",
     "output_type": "stream",
     "text": [
      "Train on 50000 samples, validate on 10000 samples\n",
      "Epoch 1/50\n",
      "50000/50000 [==============================] - 409s 8ms/step - loss: 1.2852 - categorical_accuracy: 0.5840 - macroF1: 0.0712 - w_cat_crossE: 9.2552 - val_loss: 1.0751 - val_categorical_accuracy: 0.5967 - val_macroF1: 0.1245 - val_w_cat_crossE: 10.6364\n",
      "Epoch 2/50\n",
      "50000/50000 [==============================] - 411s 8ms/step - loss: 1.0683 - categorical_accuracy: 0.6024 - macroF1: 0.1253 - w_cat_crossE: 9.8765 - val_loss: 1.0614 - val_categorical_accuracy: 0.5967 - val_macroF1: 0.1245 - val_w_cat_crossE: 9.5040\n",
      "Epoch 3/50\n",
      "50000/50000 [==============================] - 415s 8ms/step - loss: 1.0550 - categorical_accuracy: 0.6024 - macroF1: 0.1253 - w_cat_crossE: 9.9660 - val_loss: 1.0426 - val_categorical_accuracy: 0.5967 - val_macroF1: 0.1245 - val_w_cat_crossE: 9.4981\n",
      "Epoch 4/50\n",
      "50000/50000 [==============================] - 409s 8ms/step - loss: 1.0216 - categorical_accuracy: 0.6047 - macroF1: 0.1256 - w_cat_crossE: 9.8854 - val_loss: 0.9950 - val_categorical_accuracy: 0.6066 - val_macroF1: 0.1246 - val_w_cat_crossE: 9.7381\n",
      "Epoch 5/50\n",
      "50000/50000 [==============================] - 410s 8ms/step - loss: 0.9818 - categorical_accuracy: 0.6322 - macroF1: 0.1572 - w_cat_crossE: 9.7140 - val_loss: 0.9632 - val_categorical_accuracy: 0.6305 - val_macroF1: 0.1891 - val_w_cat_crossE: 9.2926\n",
      "Epoch 6/50\n",
      "50000/50000 [==============================] - 417s 8ms/step - loss: 0.9546 - categorical_accuracy: 0.6398 - macroF1: 0.1903 - w_cat_crossE: 9.5218 - val_loss: 0.9427 - val_categorical_accuracy: 0.6401 - val_macroF1: 0.1859 - val_w_cat_crossE: 9.1988\n",
      "Epoch 7/50\n",
      "50000/50000 [==============================] - 409s 8ms/step - loss: 0.9234 - categorical_accuracy: 0.6543 - macroF1: 0.2004 - w_cat_crossE: 9.3203 - val_loss: 0.9008 - val_categorical_accuracy: 0.6621 - val_macroF1: 0.2122 - val_w_cat_crossE: 8.8884\n",
      "Epoch 8/50\n",
      "50000/50000 [==============================] - 409s 8ms/step - loss: 0.8800 - categorical_accuracy: 0.6736 - macroF1: 0.2157 - w_cat_crossE: 9.2377 - val_loss: 0.8498 - val_categorical_accuracy: 0.6820 - val_macroF1: 0.2196 - val_w_cat_crossE: 8.5314\n",
      "Epoch 9/50\n",
      "50000/50000 [==============================] - 415s 8ms/step - loss: 0.8306 - categorical_accuracy: 0.6904 - macroF1: 0.2280 - w_cat_crossE: 8.9640 - val_loss: 0.8015 - val_categorical_accuracy: 0.6958 - val_macroF1: 0.2318 - val_w_cat_crossE: 8.7134\n",
      "Epoch 10/50\n",
      "50000/50000 [==============================] - 409s 8ms/step - loss: 0.7847 - categorical_accuracy: 0.7098 - macroF1: 0.2411 - w_cat_crossE: 8.7792 - val_loss: 0.7562 - val_categorical_accuracy: 0.7268 - val_macroF1: 0.2517 - val_w_cat_crossE: 8.3867\n",
      "Epoch 11/50\n",
      "50000/50000 [==============================] - 409s 8ms/step - loss: 0.7407 - categorical_accuracy: 0.7312 - macroF1: 0.2545 - w_cat_crossE: 8.6315 - val_loss: 0.7195 - val_categorical_accuracy: 0.7557 - val_macroF1: 0.2799 - val_w_cat_crossE: 8.3205\n",
      "Epoch 12/50\n",
      "50000/50000 [==============================] - 416s 8ms/step - loss: 0.6987 - categorical_accuracy: 0.7518 - macroF1: 0.2701 - w_cat_crossE: 8.3537 - val_loss: 0.6757 - val_categorical_accuracy: 0.7719 - val_macroF1: 0.2869 - val_w_cat_crossE: 7.7364\n",
      "Epoch 13/50\n",
      "50000/50000 [==============================] - 409s 8ms/step - loss: 0.6620 - categorical_accuracy: 0.7683 - macroF1: 0.2887 - w_cat_crossE: 8.1226 - val_loss: 0.6370 - val_categorical_accuracy: 0.7895 - val_macroF1: 0.3187 - val_w_cat_crossE: 7.8468\n",
      "Epoch 14/50\n",
      "50000/50000 [==============================] - 410s 8ms/step - loss: 0.6308 - categorical_accuracy: 0.7824 - macroF1: 0.3045 - w_cat_crossE: 7.9936 - val_loss: 0.6141 - val_categorical_accuracy: 0.7984 - val_macroF1: 0.3317 - val_w_cat_crossE: 7.7261\n",
      "Epoch 15/50\n",
      "50000/50000 [==============================] - 415s 8ms/step - loss: 0.6037 - categorical_accuracy: 0.7941 - macroF1: 0.3196 - w_cat_crossE: 7.7699 - val_loss: 0.5987 - val_categorical_accuracy: 0.8024 - val_macroF1: 0.3435 - val_w_cat_crossE: 7.4006\n",
      "Epoch 16/50\n",
      "50000/50000 [==============================] - 409s 8ms/step - loss: 0.5852 - categorical_accuracy: 0.8026 - macroF1: 0.3323 - w_cat_crossE: 7.6871 - val_loss: 0.5705 - val_categorical_accuracy: 0.8154 - val_macroF1: 0.3541 - val_w_cat_crossE: 7.2236\n",
      "Epoch 17/50\n",
      "50000/50000 [==============================] - 413s 8ms/step - loss: 0.5650 - categorical_accuracy: 0.8103 - macroF1: 0.3423 - w_cat_crossE: 7.5569 - val_loss: 0.5567 - val_categorical_accuracy: 0.8171 - val_macroF1: 0.3518 - val_w_cat_crossE: 7.4700\n",
      "Epoch 18/50\n",
      "50000/50000 [==============================] - 413s 8ms/step - loss: 0.5499 - categorical_accuracy: 0.8157 - macroF1: 0.3486 - w_cat_crossE: 7.4725 - val_loss: 0.5423 - val_categorical_accuracy: 0.8220 - val_macroF1: 0.3703 - val_w_cat_crossE: 6.9315\n",
      "Epoch 19/50\n",
      "50000/50000 [==============================] - 410s 8ms/step - loss: 0.5356 - categorical_accuracy: 0.8222 - macroF1: 0.3561 - w_cat_crossE: 7.3309 - val_loss: 0.5582 - val_categorical_accuracy: 0.8123 - val_macroF1: 0.3711 - val_w_cat_crossE: 7.0528\n",
      "Epoch 20/50\n",
      "50000/50000 [==============================] - 418s 8ms/step - loss: 0.5244 - categorical_accuracy: 0.8252 - macroF1: 0.3614 - w_cat_crossE: 7.3252 - val_loss: 0.5071 - val_categorical_accuracy: 0.8356 - val_macroF1: 0.3709 - val_w_cat_crossE: 6.9845\n",
      "Epoch 21/50\n",
      "50000/50000 [==============================] - 409s 8ms/step - loss: 0.5128 - categorical_accuracy: 0.8303 - macroF1: 0.3654 - w_cat_crossE: 7.2036 - val_loss: 0.5073 - val_categorical_accuracy: 0.8364 - val_macroF1: 0.3787 - val_w_cat_crossE: 6.7043\n",
      "Epoch 22/50\n",
      "50000/50000 [==============================] - 417s 8ms/step - loss: 0.5042 - categorical_accuracy: 0.8337 - macroF1: 0.3689 - w_cat_crossE: 7.0699 - val_loss: 0.4913 - val_categorical_accuracy: 0.8418 - val_macroF1: 0.3802 - val_w_cat_crossE: 6.9682\n",
      "Epoch 23/50\n",
      "50000/50000 [==============================] - 410s 8ms/step - loss: 0.4928 - categorical_accuracy: 0.8373 - macroF1: 0.3735 - w_cat_crossE: 7.0510 - val_loss: 0.4847 - val_categorical_accuracy: 0.8433 - val_macroF1: 0.3871 - val_w_cat_crossE: 6.7619\n",
      "Epoch 24/50\n",
      "50000/50000 [==============================] - 410s 8ms/step - loss: 0.4870 - categorical_accuracy: 0.8380 - macroF1: 0.3754 - w_cat_crossE: 6.9980 - val_loss: 0.5178 - val_categorical_accuracy: 0.8278 - val_macroF1: 0.3890 - val_w_cat_crossE: 7.0546\n",
      "Epoch 25/50\n",
      "50000/50000 [==============================] - 412s 8ms/step - loss: 0.4780 - categorical_accuracy: 0.8424 - macroF1: 0.3801 - w_cat_crossE: 6.9518 - val_loss: 0.5094 - val_categorical_accuracy: 0.8306 - val_macroF1: 0.3883 - val_w_cat_crossE: 7.0726\n",
      "Epoch 26/50\n",
      "50000/50000 [==============================] - 414s 8ms/step - loss: 0.4700 - categorical_accuracy: 0.8440 - macroF1: 0.3840 - w_cat_crossE: 6.9194 - val_loss: 0.4670 - val_categorical_accuracy: 0.8507 - val_macroF1: 0.3937 - val_w_cat_crossE: 6.4438\n",
      "Epoch 27/50\n",
      "50000/50000 [==============================] - 409s 8ms/step - loss: 0.4624 - categorical_accuracy: 0.8478 - macroF1: 0.3854 - w_cat_crossE: 6.8191 - val_loss: 0.4755 - val_categorical_accuracy: 0.8450 - val_macroF1: 0.3933 - val_w_cat_crossE: 6.5833\n",
      "Epoch 28/50\n",
      "50000/50000 [==============================] - 408s 8ms/step - loss: 0.4571 - categorical_accuracy: 0.8490 - macroF1: 0.3871 - w_cat_crossE: 6.7188 - val_loss: 0.4688 - val_categorical_accuracy: 0.8488 - val_macroF1: 0.3976 - val_w_cat_crossE: 6.6089\n",
      "Epoch 29/50\n",
      "50000/50000 [==============================] - 408s 8ms/step - loss: 0.4542 - categorical_accuracy: 0.8506 - macroF1: 0.3884 - w_cat_crossE: 6.7869 - val_loss: 0.4687 - val_categorical_accuracy: 0.8466 - val_macroF1: 0.3957 - val_w_cat_crossE: 6.7068\n",
      "Epoch 30/50\n",
      "50000/50000 [==============================] - 409s 8ms/step - loss: 0.4519 - categorical_accuracy: 0.8505 - macroF1: 0.3892 - w_cat_crossE: 6.7206 - val_loss: 0.4953 - val_categorical_accuracy: 0.8354 - val_macroF1: 0.3958 - val_w_cat_crossE: 6.7587\n"
     ]
    }
   ],
   "source": [
    "model1b.fit()"
   ]
  },
  {
   "cell_type": "code",
   "execution_count": 21,
   "metadata": {},
   "outputs": [
    {
     "data": {
      "image/png": "[encoded data removed]",
      "text/plain": [
       "<Figure size 1296x360 with 3 Axes>"
      ]
     },
     "metadata": {
      "needs_background": "light"
     },
     "output_type": "display_data"
    }
   ],
   "source": [
    "model1b.plot()"
   ]
  },
  {
   "cell_type": "markdown",
   "metadata": {},
   "source": [
    "---"
   ]
  },
  {
   "cell_type": "code",
   "execution_count": 19,
   "metadata": {},
   "outputs": [
    {
     "name": "stdout",
     "output_type": "stream",
     "text": [
      "_________________________________________________________________\n",
      "Layer (type)                 Output Shape              Param #   \n",
      "=================================================================\n",
      "embedding_3 (Embedding)      (None, 679, 300)          17915100  \n",
      "_________________________________________________________________\n",
      "dropout_5 (Dropout)          (None, 679, 300)          0         \n",
      "_________________________________________________________________\n",
      "dense_7 (Dense)              (None, 679, 144)          43344     \n",
      "_________________________________________________________________\n",
      "max_pooling1d_3 (MaxPooling1 (None, 168, 144)          0         \n",
      "_________________________________________________________________\n",
      "dropout_6 (Dropout)          (None, 168, 144)          0         \n",
      "_________________________________________________________________\n",
      "dense_8 (Dense)              (None, 168, 96)           13920     \n",
      "_________________________________________________________________\n",
      "flatten_3 (Flatten)          (None, 16128)             0         \n",
      "_________________________________________________________________\n",
      "dense_9 (Dense)              (None, 6)                 96774     \n",
      "=================================================================\n",
      "Total params: 18,069,138\n",
      "Trainable params: 154,038\n",
      "Non-trainable params: 17,915,100\n",
      "_________________________________________________________________\n"
     ]
    }
   ],
   "source": [
    "# embedding: gensim weights, not-trained\n",
    "# structure: dense layers\n",
    "\n",
    "layers1c = [Dropout(0.1),\n",
    "           Dense(144, activation='relu'),\n",
    "           MaxPooling1D(8, 4),\n",
    "           Dropout(0.1),\n",
    "           Dense(96, activation='relu'),\n",
    "            Flatten()\n",
    "          ]\n",
    "\n",
    "model1c = BlackBox(layers=layers1c, loss='categorical_crossentropy', metrics=my_metrics, custom_embedd=True, train_weights=False)\n",
    "model1c.summary()"
   ]
  },
  {
   "cell_type": "code",
   "execution_count": 20,
   "metadata": {},
   "outputs": [
    {
     "name": "stdout",
     "output_type": "stream",
     "text": [
      "Train on 50000 samples, validate on 10000 samples\n",
      "Epoch 1/50\n",
      "50000/50000 [==============================] - 412s 8ms/step - loss: 1.2806 - categorical_accuracy: 0.5817 - macroF1: 0.0620 - w_cat_crossE: 9.1097 - val_loss: 1.0755 - val_categorical_accuracy: 0.5967 - val_macroF1: 0.1245 - val_w_cat_crossE: 10.2968\n",
      "Epoch 2/50\n",
      "50000/50000 [==============================] - 416s 8ms/step - loss: 1.0689 - categorical_accuracy: 0.6024 - macroF1: 0.1253 - w_cat_crossE: 9.8449 - val_loss: 1.0624 - val_categorical_accuracy: 0.5967 - val_macroF1: 0.1245 - val_w_cat_crossE: 9.7787\n",
      "Epoch 3/50\n",
      "50000/50000 [==============================] - 408s 8ms/step - loss: 1.0572 - categorical_accuracy: 0.6024 - macroF1: 0.1253 - w_cat_crossE: 10.0294 - val_loss: 1.0488 - val_categorical_accuracy: 0.5967 - val_macroF1: 0.1245 - val_w_cat_crossE: 9.4307\n",
      "Epoch 4/50\n",
      "50000/50000 [==============================] - 409s 8ms/step - loss: 1.0274 - categorical_accuracy: 0.6025 - macroF1: 0.1255 - w_cat_crossE: 9.8897 - val_loss: 0.9948 - val_categorical_accuracy: 0.6056 - val_macroF1: 0.1243 - val_w_cat_crossE: 9.5424\n",
      "Epoch 5/50\n",
      "50000/50000 [==============================] - 410s 8ms/step - loss: 0.9814 - categorical_accuracy: 0.6316 - macroF1: 0.1576 - w_cat_crossE: 9.6165 - val_loss: 0.9668 - val_categorical_accuracy: 0.6280 - val_macroF1: 0.1773 - val_w_cat_crossE: 9.4010\n",
      "Epoch 6/50\n",
      "50000/50000 [==============================] - 413s 8ms/step - loss: 0.9575 - categorical_accuracy: 0.6367 - macroF1: 0.1872 - w_cat_crossE: 9.4900 - val_loss: 0.9439 - val_categorical_accuracy: 0.6341 - val_macroF1: 0.1876 - val_w_cat_crossE: 9.3249\n",
      "Epoch 7/50\n",
      "50000/50000 [==============================] - 411s 8ms/step - loss: 0.9311 - categorical_accuracy: 0.6439 - macroF1: 0.1940 - w_cat_crossE: 9.4207 - val_loss: 0.9123 - val_categorical_accuracy: 0.6470 - val_macroF1: 0.1904 - val_w_cat_crossE: 8.9851\n",
      "Epoch 8/50\n",
      "50000/50000 [==============================] - 409s 8ms/step - loss: 0.8908 - categorical_accuracy: 0.6613 - macroF1: 0.2030 - w_cat_crossE: 9.1949 - val_loss: 0.8687 - val_categorical_accuracy: 0.6787 - val_macroF1: 0.2183 - val_w_cat_crossE: 8.8216\n",
      "Epoch 9/50\n",
      "50000/50000 [==============================] - 408s 8ms/step - loss: 0.8360 - categorical_accuracy: 0.6853 - macroF1: 0.2182 - w_cat_crossE: 8.9983 - val_loss: 0.8019 - val_categorical_accuracy: 0.7143 - val_macroF1: 0.2381 - val_w_cat_crossE: 8.5154\n",
      "Epoch 10/50\n",
      "50000/50000 [==============================] - 408s 8ms/step - loss: 0.7767 - categorical_accuracy: 0.7151 - macroF1: 0.2376 - w_cat_crossE: 8.8112 - val_loss: 0.7450 - val_categorical_accuracy: 0.7449 - val_macroF1: 0.2594 - val_w_cat_crossE: 8.2021\n",
      "Epoch 11/50\n",
      "50000/50000 [==============================] - 414s 8ms/step - loss: 0.7263 - categorical_accuracy: 0.7410 - macroF1: 0.2563 - w_cat_crossE: 8.5188 - val_loss: 0.6995 - val_categorical_accuracy: 0.7666 - val_macroF1: 0.2872 - val_w_cat_crossE: 7.9193\n",
      "Epoch 12/50\n",
      "50000/50000 [==============================] - 412s 8ms/step - loss: 0.6829 - categorical_accuracy: 0.7622 - macroF1: 0.2768 - w_cat_crossE: 8.2716 - val_loss: 0.6683 - val_categorical_accuracy: 0.7807 - val_macroF1: 0.3076 - val_w_cat_crossE: 7.8241\n",
      "Epoch 13/50\n",
      "50000/50000 [==============================] - 412s 8ms/step - loss: 0.6550 - categorical_accuracy: 0.7731 - macroF1: 0.2922 - w_cat_crossE: 8.1459 - val_loss: 0.6588 - val_categorical_accuracy: 0.7805 - val_macroF1: 0.3179 - val_w_cat_crossE: 7.8843\n",
      "Epoch 14/50\n",
      "50000/50000 [==============================] - 411s 8ms/step - loss: 0.6283 - categorical_accuracy: 0.7838 - macroF1: 0.3060 - w_cat_crossE: 7.9936 - val_loss: 0.6088 - val_categorical_accuracy: 0.8007 - val_macroF1: 0.3361 - val_w_cat_crossE: 7.4071\n",
      "Epoch 15/50\n",
      "50000/50000 [==============================] - 409s 8ms/step - loss: 0.6038 - categorical_accuracy: 0.7937 - macroF1: 0.3187 - w_cat_crossE: 7.8518 - val_loss: 0.5991 - val_categorical_accuracy: 0.8036 - val_macroF1: 0.3406 - val_w_cat_crossE: 7.5307\n",
      "Epoch 16/50\n",
      "50000/50000 [==============================] - 408s 8ms/step - loss: 0.5884 - categorical_accuracy: 0.7995 - macroF1: 0.3275 - w_cat_crossE: 7.7169 - val_loss: 0.5672 - val_categorical_accuracy: 0.8124 - val_macroF1: 0.3494 - val_w_cat_crossE: 7.3117\n",
      "Epoch 17/50\n",
      "50000/50000 [==============================] - 411s 8ms/step - loss: 0.5695 - categorical_accuracy: 0.8069 - macroF1: 0.3374 - w_cat_crossE: 7.6411 - val_loss: 0.5521 - val_categorical_accuracy: 0.8170 - val_macroF1: 0.3533 - val_w_cat_crossE: 7.2652\n",
      "Epoch 18/50\n",
      "50000/50000 [==============================] - 411s 8ms/step - loss: 0.5527 - categorical_accuracy: 0.8138 - macroF1: 0.3445 - w_cat_crossE: 7.4532 - val_loss: 0.5455 - val_categorical_accuracy: 0.8196 - val_macroF1: 0.3616 - val_w_cat_crossE: 7.2464\n",
      "Epoch 19/50\n",
      "50000/50000 [==============================] - 416s 8ms/step - loss: 0.5380 - categorical_accuracy: 0.8195 - macroF1: 0.3549 - w_cat_crossE: 7.4335 - val_loss: 0.5290 - val_categorical_accuracy: 0.8249 - val_macroF1: 0.3625 - val_w_cat_crossE: 7.1484\n",
      "Epoch 20/50\n",
      "50000/50000 [==============================] - 410s 8ms/step - loss: 0.5242 - categorical_accuracy: 0.8254 - macroF1: 0.3582 - w_cat_crossE: 7.2707 - val_loss: 0.5332 - val_categorical_accuracy: 0.8225 - val_macroF1: 0.3736 - val_w_cat_crossE: 7.1897\n",
      "Epoch 21/50\n",
      "50000/50000 [==============================] - 408s 8ms/step - loss: 0.5158 - categorical_accuracy: 0.8274 - macroF1: 0.3655 - w_cat_crossE: 7.2446 - val_loss: 0.5267 - val_categorical_accuracy: 0.8253 - val_macroF1: 0.3755 - val_w_cat_crossE: 7.0085\n",
      "Epoch 22/50\n",
      "50000/50000 [==============================] - 409s 8ms/step - loss: 0.5043 - categorical_accuracy: 0.8323 - macroF1: 0.3679 - w_cat_crossE: 7.1250 - val_loss: 0.5172 - val_categorical_accuracy: 0.8292 - val_macroF1: 0.3799 - val_w_cat_crossE: 6.9193\n",
      "Epoch 23/50\n",
      "50000/50000 [==============================] - 413s 8ms/step - loss: 0.4937 - categorical_accuracy: 0.8352 - macroF1: 0.3735 - w_cat_crossE: 7.0631 - val_loss: 0.4931 - val_categorical_accuracy: 0.8382 - val_macroF1: 0.3865 - val_w_cat_crossE: 6.8733\n",
      "Epoch 24/50\n",
      "50000/50000 [==============================] - 436s 9ms/step - loss: 0.4866 - categorical_accuracy: 0.8397 - macroF1: 0.3760 - w_cat_crossE: 7.0074 - val_loss: 0.5290 - val_categorical_accuracy: 0.8223 - val_macroF1: 0.3837 - val_w_cat_crossE: 6.8351\n",
      "Epoch 25/50\n",
      "50000/50000 [==============================] - 432s 9ms/step - loss: 0.4856 - categorical_accuracy: 0.8376 - macroF1: 0.3774 - w_cat_crossE: 6.9582 - val_loss: 0.4969 - val_categorical_accuracy: 0.8354 - val_macroF1: 0.3903 - val_w_cat_crossE: 6.5572\n",
      "Epoch 26/50\n",
      "50000/50000 [==============================] - 429s 9ms/step - loss: 0.4754 - categorical_accuracy: 0.8408 - macroF1: 0.3804 - w_cat_crossE: 6.9000 - val_loss: 0.4745 - val_categorical_accuracy: 0.8444 - val_macroF1: 0.3944 - val_w_cat_crossE: 6.8641\n",
      "Epoch 27/50\n",
      "12000/50000 [======>.......................] - ETA: 4:50 - loss: 0.4719 - categorical_accuracy: 0.8435 - macroF1: 0.3837 - w_cat_crossE: 6.6602"
     ]
    },
    {
     "ename": "KeyboardInterrupt",
     "evalue": "",
     "output_type": "error",
     "traceback": [
      "\u001b[1;31m---------------------------------------------------------------------------\u001b[0m",
      "\u001b[1;31mKeyboardInterrupt\u001b[0m                         Traceback (most recent call last)",
      "\u001b[1;32m<ipython-input-20-80f126018fab>\u001b[0m in \u001b[0;36m<module>\u001b[1;34m\u001b[0m\n\u001b[1;32m----> 1\u001b[1;33m \u001b[0mmodel1c\u001b[0m\u001b[1;33m.\u001b[0m\u001b[0mfit\u001b[0m\u001b[1;33m(\u001b[0m\u001b[1;33m)\u001b[0m\u001b[1;33m\u001b[0m\u001b[1;33m\u001b[0m\u001b[0m\n\u001b[0m",
      "\u001b[1;32m<ipython-input-14-719e3e5544dd>\u001b[0m in \u001b[0;36mfit\u001b[1;34m(self, epochs)\u001b[0m\n\u001b[0;32m     52\u001b[0m             \u001b[0mvalidation_data\u001b[0m\u001b[1;33m=\u001b[0m\u001b[1;33m(\u001b[0m\u001b[0mX_val\u001b[0m\u001b[1;33m,\u001b[0m \u001b[0mY_val\u001b[0m\u001b[1;33m)\u001b[0m\u001b[1;33m,\u001b[0m\u001b[1;33m\u001b[0m\u001b[1;33m\u001b[0m\u001b[0m\n\u001b[0;32m     53\u001b[0m             \u001b[0mcallbacks\u001b[0m\u001b[1;33m=\u001b[0m\u001b[0mself\u001b[0m\u001b[1;33m.\u001b[0m\u001b[0mcallbacks\u001b[0m\u001b[1;33m,\u001b[0m\u001b[1;33m\u001b[0m\u001b[1;33m\u001b[0m\u001b[0m\n\u001b[1;32m---> 54\u001b[1;33m             \u001b[0mverbose\u001b[0m \u001b[1;33m=\u001b[0m \u001b[1;36m1\u001b[0m\u001b[1;33m\u001b[0m\u001b[1;33m\u001b[0m\u001b[0m\n\u001b[0m\u001b[0;32m     55\u001b[0m             )\n\u001b[0;32m     56\u001b[0m \u001b[1;33m\u001b[0m\u001b[0m\n",
      "\u001b[1;32m~\\Anaconda3\\envs\\py36data\\lib\\site-packages\\keras\\engine\\training.py\u001b[0m in \u001b[0;36mfit\u001b[1;34m(self, x, y, batch_size, epochs, verbose, callbacks, validation_split, validation_data, shuffle, class_weight, sample_weight, initial_epoch, steps_per_epoch, validation_steps, **kwargs)\u001b[0m\n\u001b[0;32m   1037\u001b[0m                                         \u001b[0minitial_epoch\u001b[0m\u001b[1;33m=\u001b[0m\u001b[0minitial_epoch\u001b[0m\u001b[1;33m,\u001b[0m\u001b[1;33m\u001b[0m\u001b[1;33m\u001b[0m\u001b[0m\n\u001b[0;32m   1038\u001b[0m                                         \u001b[0msteps_per_epoch\u001b[0m\u001b[1;33m=\u001b[0m\u001b[0msteps_per_epoch\u001b[0m\u001b[1;33m,\u001b[0m\u001b[1;33m\u001b[0m\u001b[1;33m\u001b[0m\u001b[0m\n\u001b[1;32m-> 1039\u001b[1;33m                                         validation_steps=validation_steps)\n\u001b[0m\u001b[0;32m   1040\u001b[0m \u001b[1;33m\u001b[0m\u001b[0m\n\u001b[0;32m   1041\u001b[0m     def evaluate(self, x=None, y=None,\n",
      "\u001b[1;32m~\\Anaconda3\\envs\\py36data\\lib\\site-packages\\keras\\engine\\training_arrays.py\u001b[0m in \u001b[0;36mfit_loop\u001b[1;34m(model, f, ins, out_labels, batch_size, epochs, verbose, callbacks, val_f, val_ins, shuffle, callback_metrics, initial_epoch, steps_per_epoch, validation_steps)\u001b[0m\n\u001b[0;32m    197\u001b[0m                     \u001b[0mins_batch\u001b[0m\u001b[1;33m[\u001b[0m\u001b[0mi\u001b[0m\u001b[1;33m]\u001b[0m \u001b[1;33m=\u001b[0m \u001b[0mins_batch\u001b[0m\u001b[1;33m[\u001b[0m\u001b[0mi\u001b[0m\u001b[1;33m]\u001b[0m\u001b[1;33m.\u001b[0m\u001b[0mtoarray\u001b[0m\u001b[1;33m(\u001b[0m\u001b[1;33m)\u001b[0m\u001b[1;33m\u001b[0m\u001b[1;33m\u001b[0m\u001b[0m\n\u001b[0;32m    198\u001b[0m \u001b[1;33m\u001b[0m\u001b[0m\n\u001b[1;32m--> 199\u001b[1;33m                 \u001b[0mouts\u001b[0m \u001b[1;33m=\u001b[0m \u001b[0mf\u001b[0m\u001b[1;33m(\u001b[0m\u001b[0mins_batch\u001b[0m\u001b[1;33m)\u001b[0m\u001b[1;33m\u001b[0m\u001b[1;33m\u001b[0m\u001b[0m\n\u001b[0m\u001b[0;32m    200\u001b[0m                 \u001b[0mouts\u001b[0m \u001b[1;33m=\u001b[0m \u001b[0mto_list\u001b[0m\u001b[1;33m(\u001b[0m\u001b[0mouts\u001b[0m\u001b[1;33m)\u001b[0m\u001b[1;33m\u001b[0m\u001b[1;33m\u001b[0m\u001b[0m\n\u001b[0;32m    201\u001b[0m                 \u001b[1;32mfor\u001b[0m \u001b[0ml\u001b[0m\u001b[1;33m,\u001b[0m \u001b[0mo\u001b[0m \u001b[1;32min\u001b[0m \u001b[0mzip\u001b[0m\u001b[1;33m(\u001b[0m\u001b[0mout_labels\u001b[0m\u001b[1;33m,\u001b[0m \u001b[0mouts\u001b[0m\u001b[1;33m)\u001b[0m\u001b[1;33m:\u001b[0m\u001b[1;33m\u001b[0m\u001b[1;33m\u001b[0m\u001b[0m\n",
      "\u001b[1;32m~\\Anaconda3\\envs\\py36data\\lib\\site-packages\\keras\\backend\\tensorflow_backend.py\u001b[0m in \u001b[0;36m__call__\u001b[1;34m(self, inputs)\u001b[0m\n\u001b[0;32m   2713\u001b[0m                 \u001b[1;32mreturn\u001b[0m \u001b[0mself\u001b[0m\u001b[1;33m.\u001b[0m\u001b[0m_legacy_call\u001b[0m\u001b[1;33m(\u001b[0m\u001b[0minputs\u001b[0m\u001b[1;33m)\u001b[0m\u001b[1;33m\u001b[0m\u001b[1;33m\u001b[0m\u001b[0m\n\u001b[0;32m   2714\u001b[0m \u001b[1;33m\u001b[0m\u001b[0m\n\u001b[1;32m-> 2715\u001b[1;33m             \u001b[1;32mreturn\u001b[0m \u001b[0mself\u001b[0m\u001b[1;33m.\u001b[0m\u001b[0m_call\u001b[0m\u001b[1;33m(\u001b[0m\u001b[0minputs\u001b[0m\u001b[1;33m)\u001b[0m\u001b[1;33m\u001b[0m\u001b[1;33m\u001b[0m\u001b[0m\n\u001b[0m\u001b[0;32m   2716\u001b[0m         \u001b[1;32melse\u001b[0m\u001b[1;33m:\u001b[0m\u001b[1;33m\u001b[0m\u001b[1;33m\u001b[0m\u001b[0m\n\u001b[0;32m   2717\u001b[0m             \u001b[1;32mif\u001b[0m \u001b[0mpy_any\u001b[0m\u001b[1;33m(\u001b[0m\u001b[0mis_tensor\u001b[0m\u001b[1;33m(\u001b[0m\u001b[0mx\u001b[0m\u001b[1;33m)\u001b[0m \u001b[1;32mfor\u001b[0m \u001b[0mx\u001b[0m \u001b[1;32min\u001b[0m \u001b[0minputs\u001b[0m\u001b[1;33m)\u001b[0m\u001b[1;33m:\u001b[0m\u001b[1;33m\u001b[0m\u001b[1;33m\u001b[0m\u001b[0m\n",
      "\u001b[1;32m~\\Anaconda3\\envs\\py36data\\lib\\site-packages\\keras\\backend\\tensorflow_backend.py\u001b[0m in \u001b[0;36m_call\u001b[1;34m(self, inputs)\u001b[0m\n\u001b[0;32m   2673\u001b[0m             \u001b[0mfetched\u001b[0m \u001b[1;33m=\u001b[0m \u001b[0mself\u001b[0m\u001b[1;33m.\u001b[0m\u001b[0m_callable_fn\u001b[0m\u001b[1;33m(\u001b[0m\u001b[1;33m*\u001b[0m\u001b[0marray_vals\u001b[0m\u001b[1;33m,\u001b[0m \u001b[0mrun_metadata\u001b[0m\u001b[1;33m=\u001b[0m\u001b[0mself\u001b[0m\u001b[1;33m.\u001b[0m\u001b[0mrun_metadata\u001b[0m\u001b[1;33m)\u001b[0m\u001b[1;33m\u001b[0m\u001b[1;33m\u001b[0m\u001b[0m\n\u001b[0;32m   2674\u001b[0m         \u001b[1;32melse\u001b[0m\u001b[1;33m:\u001b[0m\u001b[1;33m\u001b[0m\u001b[1;33m\u001b[0m\u001b[0m\n\u001b[1;32m-> 2675\u001b[1;33m             \u001b[0mfetched\u001b[0m \u001b[1;33m=\u001b[0m \u001b[0mself\u001b[0m\u001b[1;33m.\u001b[0m\u001b[0m_callable_fn\u001b[0m\u001b[1;33m(\u001b[0m\u001b[1;33m*\u001b[0m\u001b[0marray_vals\u001b[0m\u001b[1;33m)\u001b[0m\u001b[1;33m\u001b[0m\u001b[1;33m\u001b[0m\u001b[0m\n\u001b[0m\u001b[0;32m   2676\u001b[0m         \u001b[1;32mreturn\u001b[0m \u001b[0mfetched\u001b[0m\u001b[1;33m[\u001b[0m\u001b[1;33m:\u001b[0m\u001b[0mlen\u001b[0m\u001b[1;33m(\u001b[0m\u001b[0mself\u001b[0m\u001b[1;33m.\u001b[0m\u001b[0moutputs\u001b[0m\u001b[1;33m)\u001b[0m\u001b[1;33m]\u001b[0m\u001b[1;33m\u001b[0m\u001b[1;33m\u001b[0m\u001b[0m\n\u001b[0;32m   2677\u001b[0m \u001b[1;33m\u001b[0m\u001b[0m\n",
      "\u001b[1;32m~\\Anaconda3\\envs\\py36data\\lib\\site-packages\\tensorflow\\python\\client\\session.py\u001b[0m in \u001b[0;36m__call__\u001b[1;34m(self, *args, **kwargs)\u001b[0m\n\u001b[0;32m   1437\u001b[0m           ret = tf_session.TF_SessionRunCallable(\n\u001b[0;32m   1438\u001b[0m               \u001b[0mself\u001b[0m\u001b[1;33m.\u001b[0m\u001b[0m_session\u001b[0m\u001b[1;33m.\u001b[0m\u001b[0m_session\u001b[0m\u001b[1;33m,\u001b[0m \u001b[0mself\u001b[0m\u001b[1;33m.\u001b[0m\u001b[0m_handle\u001b[0m\u001b[1;33m,\u001b[0m \u001b[0margs\u001b[0m\u001b[1;33m,\u001b[0m \u001b[0mstatus\u001b[0m\u001b[1;33m,\u001b[0m\u001b[1;33m\u001b[0m\u001b[1;33m\u001b[0m\u001b[0m\n\u001b[1;32m-> 1439\u001b[1;33m               run_metadata_ptr)\n\u001b[0m\u001b[0;32m   1440\u001b[0m         \u001b[1;32mif\u001b[0m \u001b[0mrun_metadata\u001b[0m\u001b[1;33m:\u001b[0m\u001b[1;33m\u001b[0m\u001b[1;33m\u001b[0m\u001b[0m\n\u001b[0;32m   1441\u001b[0m           \u001b[0mproto_data\u001b[0m \u001b[1;33m=\u001b[0m \u001b[0mtf_session\u001b[0m\u001b[1;33m.\u001b[0m\u001b[0mTF_GetBuffer\u001b[0m\u001b[1;33m(\u001b[0m\u001b[0mrun_metadata_ptr\u001b[0m\u001b[1;33m)\u001b[0m\u001b[1;33m\u001b[0m\u001b[1;33m\u001b[0m\u001b[0m\n",
      "\u001b[1;31mKeyboardInterrupt\u001b[0m: "
     ]
    }
   ],
   "source": [
    "model1c.fit()"
   ]
  },
  {
   "cell_type": "markdown",
   "metadata": {},
   "source": [
    "---"
   ]
  },
  {
   "cell_type": "markdown",
   "metadata": {},
   "source": [
    "### Convolutions"
   ]
  },
  {
   "cell_type": "code",
   "execution_count": null,
   "metadata": {},
   "outputs": [],
   "source": [
    "# embedding: keras layer, trained\n",
    "# structure: convolution layers\n",
    "\n",
    "layers2a = [Dropout(0.1),\n",
    "            Conv1D(48, 3),\n",
    "            MaxPooling1D(8, 4),\n",
    "            Dropout(0.1),\n",
    "            Conv1D(12, 4),\n",
    "            Flatten()\n",
    "           ]\n",
    "\n",
    "model2a = BlackBox(layers=layers2a, loss='categorical_crossentropy', metrics=my_metrics)\n",
    "model2a.summary()"
   ]
  },
  {
   "cell_type": "code",
   "execution_count": null,
   "metadata": {},
   "outputs": [],
   "source": [
    "model2a.fit()"
   ]
  },
  {
   "cell_type": "markdown",
   "metadata": {},
   "source": [
    "---"
   ]
  },
  {
   "cell_type": "code",
   "execution_count": null,
   "metadata": {},
   "outputs": [],
   "source": [
    "# embedding: gensim weights, re-trained\n",
    "# structure: convolution layers\n",
    "\n",
    "layers2b = [Dropout(0.1),\n",
    "            Conv1D(48, 3),\n",
    "            MaxPooling1D(8, 4),\n",
    "            Dropout(0.1),\n",
    "            Conv1D(12, 4),\n",
    "            Flatten()\n",
    "           ]\n",
    "\n",
    "model2b = BlackBox(layers=layers2b, loss='categorical_crossentropy', metrics=my_metrics, custom_embedd=True, train_weights=True)\n",
    "model2b.summary()"
   ]
  },
  {
   "cell_type": "code",
   "execution_count": null,
   "metadata": {},
   "outputs": [],
   "source": [
    "model2b.fit()"
   ]
  },
  {
   "cell_type": "markdown",
   "metadata": {},
   "source": [
    "---"
   ]
  },
  {
   "cell_type": "code",
   "execution_count": 20,
   "metadata": {},
   "outputs": [
    {
     "name": "stdout",
     "output_type": "stream",
     "text": [
      "_________________________________________________________________\n",
      "Layer (type)                 Output Shape              Param #   \n",
      "=================================================================\n",
      "embedding_4 (Embedding)      (None, 679, 300)          17915100  \n",
      "_________________________________________________________________\n",
      "dropout_5 (Dropout)          (None, 679, 300)          0         \n",
      "_________________________________________________________________\n",
      "conv1d_3 (Conv1D)            (None, 677, 48)           43248     \n",
      "_________________________________________________________________\n",
      "max_pooling1d_4 (MaxPooling1 (None, 168, 48)           0         \n",
      "_________________________________________________________________\n",
      "dropout_6 (Dropout)          (None, 168, 48)           0         \n",
      "_________________________________________________________________\n",
      "conv1d_4 (Conv1D)            (None, 165, 12)           2316      \n",
      "_________________________________________________________________\n",
      "flatten_4 (Flatten)          (None, 1980)              0         \n",
      "_________________________________________________________________\n",
      "dense_8 (Dense)              (None, 6)                 11886     \n",
      "=================================================================\n",
      "Total params: 17,972,550\n",
      "Trainable params: 57,450\n",
      "Non-trainable params: 17,915,100\n",
      "_________________________________________________________________\n"
     ]
    }
   ],
   "source": [
    "# embedding: gensim weights, not-trained\n",
    "# structure: convolution layers\n",
    "\n",
    "layers2c = [Dropout(0.1),\n",
    "            Conv1D(48, 3),\n",
    "            MaxPooling1D(8, 4),\n",
    "            Dropout(0.1),\n",
    "            Conv1D(12, 4),\n",
    "            Flatten()\n",
    "           ]\n",
    "\n",
    "model2c = BlackBox(layers=layers2c, loss='categorical_crossentropy', metrics=my_metrics, custom_embedd=True, train_weights=False)\n",
    "model2c.summary()"
   ]
  },
  {
   "cell_type": "code",
   "execution_count": 21,
   "metadata": {},
   "outputs": [
    {
     "name": "stdout",
     "output_type": "stream",
     "text": [
      "Train on 50000 samples, validate on 10000 samples\n",
      "Epoch 1/50\n",
      " 2000/50000 [>.............................] - ETA: 5:44 - loss: 1.7919 - categorical_accuracy: 0.0870 - macroF1: 0.0000e+00 - w_cat_crossE: 6.6601"
     ]
    },
    {
     "ename": "KeyboardInterrupt",
     "evalue": "",
     "output_type": "error",
     "traceback": [
      "\u001b[1;31m---------------------------------------------------------------------------\u001b[0m",
      "\u001b[1;31mKeyboardInterrupt\u001b[0m                         Traceback (most recent call last)",
      "\u001b[1;32m<ipython-input-21-e76005380d1b>\u001b[0m in \u001b[0;36m<module>\u001b[1;34m\u001b[0m\n\u001b[1;32m----> 1\u001b[1;33m \u001b[0mmodel2c\u001b[0m\u001b[1;33m.\u001b[0m\u001b[0mfit\u001b[0m\u001b[1;33m(\u001b[0m\u001b[1;33m)\u001b[0m\u001b[1;33m\u001b[0m\u001b[1;33m\u001b[0m\u001b[0m\n\u001b[0m",
      "\u001b[1;32m<ipython-input-16-719e3e5544dd>\u001b[0m in \u001b[0;36mfit\u001b[1;34m(self, epochs)\u001b[0m\n\u001b[0;32m     52\u001b[0m             \u001b[0mvalidation_data\u001b[0m\u001b[1;33m=\u001b[0m\u001b[1;33m(\u001b[0m\u001b[0mX_val\u001b[0m\u001b[1;33m,\u001b[0m \u001b[0mY_val\u001b[0m\u001b[1;33m)\u001b[0m\u001b[1;33m,\u001b[0m\u001b[1;33m\u001b[0m\u001b[1;33m\u001b[0m\u001b[0m\n\u001b[0;32m     53\u001b[0m             \u001b[0mcallbacks\u001b[0m\u001b[1;33m=\u001b[0m\u001b[0mself\u001b[0m\u001b[1;33m.\u001b[0m\u001b[0mcallbacks\u001b[0m\u001b[1;33m,\u001b[0m\u001b[1;33m\u001b[0m\u001b[1;33m\u001b[0m\u001b[0m\n\u001b[1;32m---> 54\u001b[1;33m             \u001b[0mverbose\u001b[0m \u001b[1;33m=\u001b[0m \u001b[1;36m1\u001b[0m\u001b[1;33m\u001b[0m\u001b[1;33m\u001b[0m\u001b[0m\n\u001b[0m\u001b[0;32m     55\u001b[0m             )\n\u001b[0;32m     56\u001b[0m \u001b[1;33m\u001b[0m\u001b[0m\n",
      "\u001b[1;32m~\\Anaconda3\\envs\\py36data\\lib\\site-packages\\keras\\engine\\training.py\u001b[0m in \u001b[0;36mfit\u001b[1;34m(self, x, y, batch_size, epochs, verbose, callbacks, validation_split, validation_data, shuffle, class_weight, sample_weight, initial_epoch, steps_per_epoch, validation_steps, **kwargs)\u001b[0m\n\u001b[0;32m   1037\u001b[0m                                         \u001b[0minitial_epoch\u001b[0m\u001b[1;33m=\u001b[0m\u001b[0minitial_epoch\u001b[0m\u001b[1;33m,\u001b[0m\u001b[1;33m\u001b[0m\u001b[1;33m\u001b[0m\u001b[0m\n\u001b[0;32m   1038\u001b[0m                                         \u001b[0msteps_per_epoch\u001b[0m\u001b[1;33m=\u001b[0m\u001b[0msteps_per_epoch\u001b[0m\u001b[1;33m,\u001b[0m\u001b[1;33m\u001b[0m\u001b[1;33m\u001b[0m\u001b[0m\n\u001b[1;32m-> 1039\u001b[1;33m                                         validation_steps=validation_steps)\n\u001b[0m\u001b[0;32m   1040\u001b[0m \u001b[1;33m\u001b[0m\u001b[0m\n\u001b[0;32m   1041\u001b[0m     def evaluate(self, x=None, y=None,\n",
      "\u001b[1;32m~\\Anaconda3\\envs\\py36data\\lib\\site-packages\\keras\\engine\\training_arrays.py\u001b[0m in \u001b[0;36mfit_loop\u001b[1;34m(model, f, ins, out_labels, batch_size, epochs, verbose, callbacks, val_f, val_ins, shuffle, callback_metrics, initial_epoch, steps_per_epoch, validation_steps)\u001b[0m\n\u001b[0;32m    197\u001b[0m                     \u001b[0mins_batch\u001b[0m\u001b[1;33m[\u001b[0m\u001b[0mi\u001b[0m\u001b[1;33m]\u001b[0m \u001b[1;33m=\u001b[0m \u001b[0mins_batch\u001b[0m\u001b[1;33m[\u001b[0m\u001b[0mi\u001b[0m\u001b[1;33m]\u001b[0m\u001b[1;33m.\u001b[0m\u001b[0mtoarray\u001b[0m\u001b[1;33m(\u001b[0m\u001b[1;33m)\u001b[0m\u001b[1;33m\u001b[0m\u001b[1;33m\u001b[0m\u001b[0m\n\u001b[0;32m    198\u001b[0m \u001b[1;33m\u001b[0m\u001b[0m\n\u001b[1;32m--> 199\u001b[1;33m                 \u001b[0mouts\u001b[0m \u001b[1;33m=\u001b[0m \u001b[0mf\u001b[0m\u001b[1;33m(\u001b[0m\u001b[0mins_batch\u001b[0m\u001b[1;33m)\u001b[0m\u001b[1;33m\u001b[0m\u001b[1;33m\u001b[0m\u001b[0m\n\u001b[0m\u001b[0;32m    200\u001b[0m                 \u001b[0mouts\u001b[0m \u001b[1;33m=\u001b[0m \u001b[0mto_list\u001b[0m\u001b[1;33m(\u001b[0m\u001b[0mouts\u001b[0m\u001b[1;33m)\u001b[0m\u001b[1;33m\u001b[0m\u001b[1;33m\u001b[0m\u001b[0m\n\u001b[0;32m    201\u001b[0m                 \u001b[1;32mfor\u001b[0m \u001b[0ml\u001b[0m\u001b[1;33m,\u001b[0m \u001b[0mo\u001b[0m \u001b[1;32min\u001b[0m \u001b[0mzip\u001b[0m\u001b[1;33m(\u001b[0m\u001b[0mout_labels\u001b[0m\u001b[1;33m,\u001b[0m \u001b[0mouts\u001b[0m\u001b[1;33m)\u001b[0m\u001b[1;33m:\u001b[0m\u001b[1;33m\u001b[0m\u001b[1;33m\u001b[0m\u001b[0m\n",
      "\u001b[1;32m~\\Anaconda3\\envs\\py36data\\lib\\site-packages\\keras\\backend\\tensorflow_backend.py\u001b[0m in \u001b[0;36m__call__\u001b[1;34m(self, inputs)\u001b[0m\n\u001b[0;32m   2713\u001b[0m                 \u001b[1;32mreturn\u001b[0m \u001b[0mself\u001b[0m\u001b[1;33m.\u001b[0m\u001b[0m_legacy_call\u001b[0m\u001b[1;33m(\u001b[0m\u001b[0minputs\u001b[0m\u001b[1;33m)\u001b[0m\u001b[1;33m\u001b[0m\u001b[1;33m\u001b[0m\u001b[0m\n\u001b[0;32m   2714\u001b[0m \u001b[1;33m\u001b[0m\u001b[0m\n\u001b[1;32m-> 2715\u001b[1;33m             \u001b[1;32mreturn\u001b[0m \u001b[0mself\u001b[0m\u001b[1;33m.\u001b[0m\u001b[0m_call\u001b[0m\u001b[1;33m(\u001b[0m\u001b[0minputs\u001b[0m\u001b[1;33m)\u001b[0m\u001b[1;33m\u001b[0m\u001b[1;33m\u001b[0m\u001b[0m\n\u001b[0m\u001b[0;32m   2716\u001b[0m         \u001b[1;32melse\u001b[0m\u001b[1;33m:\u001b[0m\u001b[1;33m\u001b[0m\u001b[1;33m\u001b[0m\u001b[0m\n\u001b[0;32m   2717\u001b[0m             \u001b[1;32mif\u001b[0m \u001b[0mpy_any\u001b[0m\u001b[1;33m(\u001b[0m\u001b[0mis_tensor\u001b[0m\u001b[1;33m(\u001b[0m\u001b[0mx\u001b[0m\u001b[1;33m)\u001b[0m \u001b[1;32mfor\u001b[0m \u001b[0mx\u001b[0m \u001b[1;32min\u001b[0m \u001b[0minputs\u001b[0m\u001b[1;33m)\u001b[0m\u001b[1;33m:\u001b[0m\u001b[1;33m\u001b[0m\u001b[1;33m\u001b[0m\u001b[0m\n",
      "\u001b[1;32m~\\Anaconda3\\envs\\py36data\\lib\\site-packages\\keras\\backend\\tensorflow_backend.py\u001b[0m in \u001b[0;36m_call\u001b[1;34m(self, inputs)\u001b[0m\n\u001b[0;32m   2673\u001b[0m             \u001b[0mfetched\u001b[0m \u001b[1;33m=\u001b[0m \u001b[0mself\u001b[0m\u001b[1;33m.\u001b[0m\u001b[0m_callable_fn\u001b[0m\u001b[1;33m(\u001b[0m\u001b[1;33m*\u001b[0m\u001b[0marray_vals\u001b[0m\u001b[1;33m,\u001b[0m \u001b[0mrun_metadata\u001b[0m\u001b[1;33m=\u001b[0m\u001b[0mself\u001b[0m\u001b[1;33m.\u001b[0m\u001b[0mrun_metadata\u001b[0m\u001b[1;33m)\u001b[0m\u001b[1;33m\u001b[0m\u001b[1;33m\u001b[0m\u001b[0m\n\u001b[0;32m   2674\u001b[0m         \u001b[1;32melse\u001b[0m\u001b[1;33m:\u001b[0m\u001b[1;33m\u001b[0m\u001b[1;33m\u001b[0m\u001b[0m\n\u001b[1;32m-> 2675\u001b[1;33m             \u001b[0mfetched\u001b[0m \u001b[1;33m=\u001b[0m \u001b[0mself\u001b[0m\u001b[1;33m.\u001b[0m\u001b[0m_callable_fn\u001b[0m\u001b[1;33m(\u001b[0m\u001b[1;33m*\u001b[0m\u001b[0marray_vals\u001b[0m\u001b[1;33m)\u001b[0m\u001b[1;33m\u001b[0m\u001b[1;33m\u001b[0m\u001b[0m\n\u001b[0m\u001b[0;32m   2676\u001b[0m         \u001b[1;32mreturn\u001b[0m \u001b[0mfetched\u001b[0m\u001b[1;33m[\u001b[0m\u001b[1;33m:\u001b[0m\u001b[0mlen\u001b[0m\u001b[1;33m(\u001b[0m\u001b[0mself\u001b[0m\u001b[1;33m.\u001b[0m\u001b[0moutputs\u001b[0m\u001b[1;33m)\u001b[0m\u001b[1;33m]\u001b[0m\u001b[1;33m\u001b[0m\u001b[1;33m\u001b[0m\u001b[0m\n\u001b[0;32m   2677\u001b[0m \u001b[1;33m\u001b[0m\u001b[0m\n",
      "\u001b[1;32m~\\Anaconda3\\envs\\py36data\\lib\\site-packages\\tensorflow\\python\\client\\session.py\u001b[0m in \u001b[0;36m__call__\u001b[1;34m(self, *args, **kwargs)\u001b[0m\n\u001b[0;32m   1437\u001b[0m           ret = tf_session.TF_SessionRunCallable(\n\u001b[0;32m   1438\u001b[0m               \u001b[0mself\u001b[0m\u001b[1;33m.\u001b[0m\u001b[0m_session\u001b[0m\u001b[1;33m.\u001b[0m\u001b[0m_session\u001b[0m\u001b[1;33m,\u001b[0m \u001b[0mself\u001b[0m\u001b[1;33m.\u001b[0m\u001b[0m_handle\u001b[0m\u001b[1;33m,\u001b[0m \u001b[0margs\u001b[0m\u001b[1;33m,\u001b[0m \u001b[0mstatus\u001b[0m\u001b[1;33m,\u001b[0m\u001b[1;33m\u001b[0m\u001b[1;33m\u001b[0m\u001b[0m\n\u001b[1;32m-> 1439\u001b[1;33m               run_metadata_ptr)\n\u001b[0m\u001b[0;32m   1440\u001b[0m         \u001b[1;32mif\u001b[0m \u001b[0mrun_metadata\u001b[0m\u001b[1;33m:\u001b[0m\u001b[1;33m\u001b[0m\u001b[1;33m\u001b[0m\u001b[0m\n\u001b[0;32m   1441\u001b[0m           \u001b[0mproto_data\u001b[0m \u001b[1;33m=\u001b[0m \u001b[0mtf_session\u001b[0m\u001b[1;33m.\u001b[0m\u001b[0mTF_GetBuffer\u001b[0m\u001b[1;33m(\u001b[0m\u001b[0mrun_metadata_ptr\u001b[0m\u001b[1;33m)\u001b[0m\u001b[1;33m\u001b[0m\u001b[1;33m\u001b[0m\u001b[0m\n",
      "\u001b[1;31mKeyboardInterrupt\u001b[0m: "
     ]
    }
   ],
   "source": [
    "model2c.fit()"
   ]
  },
  {
   "cell_type": "markdown",
   "metadata": {},
   "source": [
    "---"
   ]
  },
  {
   "cell_type": "markdown",
   "metadata": {},
   "source": [
    "### Recurrent NNEts"
   ]
  },
  {
   "cell_type": "code",
   "execution_count": 46,
   "metadata": {},
   "outputs": [
    {
     "name": "stdout",
     "output_type": "stream",
     "text": [
      "_________________________________________________________________\n",
      "Layer (type)                 Output Shape              Param #   \n",
      "=================================================================\n",
      "embedding_21 (Embedding)     (None, 679, 300)          17915100  \n",
      "_________________________________________________________________\n",
      "bidirectional_7 (Bidirection (None, 140)               51940     \n",
      "_________________________________________________________________\n",
      "dense_49 (Dense)             (None, 30)                4230      \n",
      "_________________________________________________________________\n",
      "dense_50 (Dense)             (None, 6)                 186       \n",
      "=================================================================\n",
      "Total params: 17,971,456\n",
      "Trainable params: 17,971,456\n",
      "Non-trainable params: 0\n",
      "_________________________________________________________________\n"
     ]
    }
   ],
   "source": [
    "# embedding: keras layer, trained\n",
    "# structure: birectional fully connected RNN layer + dense\n",
    "\n",
    "layers3a = [Bidirectional(SimpleRNN(70, dropout=0.1, recurrent_dropout=0.1)),\n",
    "            Dense(30, activation='relu')\n",
    "           ]\n",
    "\n",
    "model3a = BlackBox(layers=layers3a, loss='categorical_crossentropy', metrics=my_metrics)\n",
    "model3a.summary()"
   ]
  },
  {
   "cell_type": "markdown",
   "metadata": {},
   "source": [
    "---"
   ]
  },
  {
   "cell_type": "code",
   "execution_count": 45,
   "metadata": {},
   "outputs": [
    {
     "name": "stdout",
     "output_type": "stream",
     "text": [
      "_________________________________________________________________\n",
      "Layer (type)                 Output Shape              Param #   \n",
      "=================================================================\n",
      "embedding_20 (Embedding)     (None, 679, 300)          17915100  \n",
      "_________________________________________________________________\n",
      "bidirectional_6 (Bidirection (None, 140)               51940     \n",
      "_________________________________________________________________\n",
      "dense_47 (Dense)             (None, 30)                4230      \n",
      "_________________________________________________________________\n",
      "dense_48 (Dense)             (None, 6)                 186       \n",
      "=================================================================\n",
      "Total params: 17,971,456\n",
      "Trainable params: 56,356\n",
      "Non-trainable params: 17,915,100\n",
      "_________________________________________________________________\n"
     ]
    }
   ],
   "source": [
    "# embedding: gensim weights, re-trained\n",
    "# structure: birectional fully connected RNN layer + dense\n",
    "\n",
    "layers3b = [Bidirectional(SimpleRNN(70, dropout=0.1, recurrent_dropout=0.1)),\n",
    "            Dense(30, activation='relu')\n",
    "           ]\n",
    "\n",
    "model3b = BlackBox(layers=layers3b, loss='categorical_crossentropy', metrics=my_metrics, custom_embedd=True, train_weights=True)\n",
    "model3b.summary()"
   ]
  },
  {
   "cell_type": "markdown",
   "metadata": {},
   "source": [
    "---"
   ]
  },
  {
   "cell_type": "code",
   "execution_count": 22,
   "metadata": {},
   "outputs": [
    {
     "name": "stdout",
     "output_type": "stream",
     "text": [
      "_________________________________________________________________\n",
      "Layer (type)                 Output Shape              Param #   \n",
      "=================================================================\n",
      "embedding_5 (Embedding)      (None, 679, 300)          17915100  \n",
      "_________________________________________________________________\n",
      "bidirectional_1 (Bidirection (None, 140)               51940     \n",
      "_________________________________________________________________\n",
      "dense_9 (Dense)              (None, 30)                4230      \n",
      "_________________________________________________________________\n",
      "dense_10 (Dense)             (None, 6)                 186       \n",
      "=================================================================\n",
      "Total params: 17,971,456\n",
      "Trainable params: 56,356\n",
      "Non-trainable params: 17,915,100\n",
      "_________________________________________________________________\n"
     ]
    }
   ],
   "source": [
    "# embedding: gensim weights, not-trained\n",
    "# structure: birectional fully connected RNN layer + dense\n",
    "\n",
    "layers3c = [Bidirectional(SimpleRNN(70, dropout=0.1, recurrent_dropout=0.1)),\n",
    "            Dense(30, activation='relu')\n",
    "           ]\n",
    "\n",
    "model3c = BlackBox(layers=layers3c, loss='categorical_crossentropy', metrics=my_metrics, custom_embedd=True, train_weights=False)\n",
    "model3c.summary()"
   ]
  },
  {
   "cell_type": "code",
   "execution_count": 23,
   "metadata": {},
   "outputs": [
    {
     "name": "stdout",
     "output_type": "stream",
     "text": [
      "Train on 50000 samples, validate on 10000 samples\n",
      "Epoch 1/50\n"
     ]
    },
    {
     "ename": "KeyboardInterrupt",
     "evalue": "",
     "output_type": "error",
     "traceback": [
      "\u001b[1;31m---------------------------------------------------------------------------\u001b[0m",
      "\u001b[1;31mKeyboardInterrupt\u001b[0m                         Traceback (most recent call last)",
      "\u001b[1;32m<ipython-input-23-b79edeb0a033>\u001b[0m in \u001b[0;36m<module>\u001b[1;34m\u001b[0m\n\u001b[1;32m----> 1\u001b[1;33m \u001b[0mmodel3c\u001b[0m\u001b[1;33m.\u001b[0m\u001b[0mfit\u001b[0m\u001b[1;33m(\u001b[0m\u001b[1;33m)\u001b[0m\u001b[1;33m\u001b[0m\u001b[1;33m\u001b[0m\u001b[0m\n\u001b[0m",
      "\u001b[1;32m<ipython-input-16-719e3e5544dd>\u001b[0m in \u001b[0;36mfit\u001b[1;34m(self, epochs)\u001b[0m\n\u001b[0;32m     52\u001b[0m             \u001b[0mvalidation_data\u001b[0m\u001b[1;33m=\u001b[0m\u001b[1;33m(\u001b[0m\u001b[0mX_val\u001b[0m\u001b[1;33m,\u001b[0m \u001b[0mY_val\u001b[0m\u001b[1;33m)\u001b[0m\u001b[1;33m,\u001b[0m\u001b[1;33m\u001b[0m\u001b[1;33m\u001b[0m\u001b[0m\n\u001b[0;32m     53\u001b[0m             \u001b[0mcallbacks\u001b[0m\u001b[1;33m=\u001b[0m\u001b[0mself\u001b[0m\u001b[1;33m.\u001b[0m\u001b[0mcallbacks\u001b[0m\u001b[1;33m,\u001b[0m\u001b[1;33m\u001b[0m\u001b[1;33m\u001b[0m\u001b[0m\n\u001b[1;32m---> 54\u001b[1;33m             \u001b[0mverbose\u001b[0m \u001b[1;33m=\u001b[0m \u001b[1;36m1\u001b[0m\u001b[1;33m\u001b[0m\u001b[1;33m\u001b[0m\u001b[0m\n\u001b[0m\u001b[0;32m     55\u001b[0m             )\n\u001b[0;32m     56\u001b[0m \u001b[1;33m\u001b[0m\u001b[0m\n",
      "\u001b[1;32m~\\Anaconda3\\envs\\py36data\\lib\\site-packages\\keras\\engine\\training.py\u001b[0m in \u001b[0;36mfit\u001b[1;34m(self, x, y, batch_size, epochs, verbose, callbacks, validation_split, validation_data, shuffle, class_weight, sample_weight, initial_epoch, steps_per_epoch, validation_steps, **kwargs)\u001b[0m\n\u001b[0;32m   1037\u001b[0m                                         \u001b[0minitial_epoch\u001b[0m\u001b[1;33m=\u001b[0m\u001b[0minitial_epoch\u001b[0m\u001b[1;33m,\u001b[0m\u001b[1;33m\u001b[0m\u001b[1;33m\u001b[0m\u001b[0m\n\u001b[0;32m   1038\u001b[0m                                         \u001b[0msteps_per_epoch\u001b[0m\u001b[1;33m=\u001b[0m\u001b[0msteps_per_epoch\u001b[0m\u001b[1;33m,\u001b[0m\u001b[1;33m\u001b[0m\u001b[1;33m\u001b[0m\u001b[0m\n\u001b[1;32m-> 1039\u001b[1;33m                                         validation_steps=validation_steps)\n\u001b[0m\u001b[0;32m   1040\u001b[0m \u001b[1;33m\u001b[0m\u001b[0m\n\u001b[0;32m   1041\u001b[0m     def evaluate(self, x=None, y=None,\n",
      "\u001b[1;32m~\\Anaconda3\\envs\\py36data\\lib\\site-packages\\keras\\engine\\training_arrays.py\u001b[0m in \u001b[0;36mfit_loop\u001b[1;34m(model, f, ins, out_labels, batch_size, epochs, verbose, callbacks, val_f, val_ins, shuffle, callback_metrics, initial_epoch, steps_per_epoch, validation_steps)\u001b[0m\n\u001b[0;32m    197\u001b[0m                     \u001b[0mins_batch\u001b[0m\u001b[1;33m[\u001b[0m\u001b[0mi\u001b[0m\u001b[1;33m]\u001b[0m \u001b[1;33m=\u001b[0m \u001b[0mins_batch\u001b[0m\u001b[1;33m[\u001b[0m\u001b[0mi\u001b[0m\u001b[1;33m]\u001b[0m\u001b[1;33m.\u001b[0m\u001b[0mtoarray\u001b[0m\u001b[1;33m(\u001b[0m\u001b[1;33m)\u001b[0m\u001b[1;33m\u001b[0m\u001b[1;33m\u001b[0m\u001b[0m\n\u001b[0;32m    198\u001b[0m \u001b[1;33m\u001b[0m\u001b[0m\n\u001b[1;32m--> 199\u001b[1;33m                 \u001b[0mouts\u001b[0m \u001b[1;33m=\u001b[0m \u001b[0mf\u001b[0m\u001b[1;33m(\u001b[0m\u001b[0mins_batch\u001b[0m\u001b[1;33m)\u001b[0m\u001b[1;33m\u001b[0m\u001b[1;33m\u001b[0m\u001b[0m\n\u001b[0m\u001b[0;32m    200\u001b[0m                 \u001b[0mouts\u001b[0m \u001b[1;33m=\u001b[0m \u001b[0mto_list\u001b[0m\u001b[1;33m(\u001b[0m\u001b[0mouts\u001b[0m\u001b[1;33m)\u001b[0m\u001b[1;33m\u001b[0m\u001b[1;33m\u001b[0m\u001b[0m\n\u001b[0;32m    201\u001b[0m                 \u001b[1;32mfor\u001b[0m \u001b[0ml\u001b[0m\u001b[1;33m,\u001b[0m \u001b[0mo\u001b[0m \u001b[1;32min\u001b[0m \u001b[0mzip\u001b[0m\u001b[1;33m(\u001b[0m\u001b[0mout_labels\u001b[0m\u001b[1;33m,\u001b[0m \u001b[0mouts\u001b[0m\u001b[1;33m)\u001b[0m\u001b[1;33m:\u001b[0m\u001b[1;33m\u001b[0m\u001b[1;33m\u001b[0m\u001b[0m\n",
      "\u001b[1;32m~\\Anaconda3\\envs\\py36data\\lib\\site-packages\\keras\\backend\\tensorflow_backend.py\u001b[0m in \u001b[0;36m__call__\u001b[1;34m(self, inputs)\u001b[0m\n\u001b[0;32m   2713\u001b[0m                 \u001b[1;32mreturn\u001b[0m \u001b[0mself\u001b[0m\u001b[1;33m.\u001b[0m\u001b[0m_legacy_call\u001b[0m\u001b[1;33m(\u001b[0m\u001b[0minputs\u001b[0m\u001b[1;33m)\u001b[0m\u001b[1;33m\u001b[0m\u001b[1;33m\u001b[0m\u001b[0m\n\u001b[0;32m   2714\u001b[0m \u001b[1;33m\u001b[0m\u001b[0m\n\u001b[1;32m-> 2715\u001b[1;33m             \u001b[1;32mreturn\u001b[0m \u001b[0mself\u001b[0m\u001b[1;33m.\u001b[0m\u001b[0m_call\u001b[0m\u001b[1;33m(\u001b[0m\u001b[0minputs\u001b[0m\u001b[1;33m)\u001b[0m\u001b[1;33m\u001b[0m\u001b[1;33m\u001b[0m\u001b[0m\n\u001b[0m\u001b[0;32m   2716\u001b[0m         \u001b[1;32melse\u001b[0m\u001b[1;33m:\u001b[0m\u001b[1;33m\u001b[0m\u001b[1;33m\u001b[0m\u001b[0m\n\u001b[0;32m   2717\u001b[0m             \u001b[1;32mif\u001b[0m \u001b[0mpy_any\u001b[0m\u001b[1;33m(\u001b[0m\u001b[0mis_tensor\u001b[0m\u001b[1;33m(\u001b[0m\u001b[0mx\u001b[0m\u001b[1;33m)\u001b[0m \u001b[1;32mfor\u001b[0m \u001b[0mx\u001b[0m \u001b[1;32min\u001b[0m \u001b[0minputs\u001b[0m\u001b[1;33m)\u001b[0m\u001b[1;33m:\u001b[0m\u001b[1;33m\u001b[0m\u001b[1;33m\u001b[0m\u001b[0m\n",
      "\u001b[1;32m~\\Anaconda3\\envs\\py36data\\lib\\site-packages\\keras\\backend\\tensorflow_backend.py\u001b[0m in \u001b[0;36m_call\u001b[1;34m(self, inputs)\u001b[0m\n\u001b[0;32m   2673\u001b[0m             \u001b[0mfetched\u001b[0m \u001b[1;33m=\u001b[0m \u001b[0mself\u001b[0m\u001b[1;33m.\u001b[0m\u001b[0m_callable_fn\u001b[0m\u001b[1;33m(\u001b[0m\u001b[1;33m*\u001b[0m\u001b[0marray_vals\u001b[0m\u001b[1;33m,\u001b[0m \u001b[0mrun_metadata\u001b[0m\u001b[1;33m=\u001b[0m\u001b[0mself\u001b[0m\u001b[1;33m.\u001b[0m\u001b[0mrun_metadata\u001b[0m\u001b[1;33m)\u001b[0m\u001b[1;33m\u001b[0m\u001b[1;33m\u001b[0m\u001b[0m\n\u001b[0;32m   2674\u001b[0m         \u001b[1;32melse\u001b[0m\u001b[1;33m:\u001b[0m\u001b[1;33m\u001b[0m\u001b[1;33m\u001b[0m\u001b[0m\n\u001b[1;32m-> 2675\u001b[1;33m             \u001b[0mfetched\u001b[0m \u001b[1;33m=\u001b[0m \u001b[0mself\u001b[0m\u001b[1;33m.\u001b[0m\u001b[0m_callable_fn\u001b[0m\u001b[1;33m(\u001b[0m\u001b[1;33m*\u001b[0m\u001b[0marray_vals\u001b[0m\u001b[1;33m)\u001b[0m\u001b[1;33m\u001b[0m\u001b[1;33m\u001b[0m\u001b[0m\n\u001b[0m\u001b[0;32m   2676\u001b[0m         \u001b[1;32mreturn\u001b[0m \u001b[0mfetched\u001b[0m\u001b[1;33m[\u001b[0m\u001b[1;33m:\u001b[0m\u001b[0mlen\u001b[0m\u001b[1;33m(\u001b[0m\u001b[0mself\u001b[0m\u001b[1;33m.\u001b[0m\u001b[0moutputs\u001b[0m\u001b[1;33m)\u001b[0m\u001b[1;33m]\u001b[0m\u001b[1;33m\u001b[0m\u001b[1;33m\u001b[0m\u001b[0m\n\u001b[0;32m   2677\u001b[0m \u001b[1;33m\u001b[0m\u001b[0m\n",
      "\u001b[1;32m~\\Anaconda3\\envs\\py36data\\lib\\site-packages\\tensorflow\\python\\client\\session.py\u001b[0m in \u001b[0;36m__call__\u001b[1;34m(self, *args, **kwargs)\u001b[0m\n\u001b[0;32m   1437\u001b[0m           ret = tf_session.TF_SessionRunCallable(\n\u001b[0;32m   1438\u001b[0m               \u001b[0mself\u001b[0m\u001b[1;33m.\u001b[0m\u001b[0m_session\u001b[0m\u001b[1;33m.\u001b[0m\u001b[0m_session\u001b[0m\u001b[1;33m,\u001b[0m \u001b[0mself\u001b[0m\u001b[1;33m.\u001b[0m\u001b[0m_handle\u001b[0m\u001b[1;33m,\u001b[0m \u001b[0margs\u001b[0m\u001b[1;33m,\u001b[0m \u001b[0mstatus\u001b[0m\u001b[1;33m,\u001b[0m\u001b[1;33m\u001b[0m\u001b[1;33m\u001b[0m\u001b[0m\n\u001b[1;32m-> 1439\u001b[1;33m               run_metadata_ptr)\n\u001b[0m\u001b[0;32m   1440\u001b[0m         \u001b[1;32mif\u001b[0m \u001b[0mrun_metadata\u001b[0m\u001b[1;33m:\u001b[0m\u001b[1;33m\u001b[0m\u001b[1;33m\u001b[0m\u001b[0m\n\u001b[0;32m   1441\u001b[0m           \u001b[0mproto_data\u001b[0m \u001b[1;33m=\u001b[0m \u001b[0mtf_session\u001b[0m\u001b[1;33m.\u001b[0m\u001b[0mTF_GetBuffer\u001b[0m\u001b[1;33m(\u001b[0m\u001b[0mrun_metadata_ptr\u001b[0m\u001b[1;33m)\u001b[0m\u001b[1;33m\u001b[0m\u001b[1;33m\u001b[0m\u001b[0m\n",
      "\u001b[1;31mKeyboardInterrupt\u001b[0m: "
     ]
    }
   ],
   "source": [
    "model3c.fit()"
   ]
  },
  {
   "cell_type": "markdown",
   "metadata": {},
   "source": [
    "---"
   ]
  },
  {
   "cell_type": "markdown",
   "metadata": {},
   "source": [
    "### Short-Long-Term-Memory"
   ]
  },
  {
   "cell_type": "code",
   "execution_count": null,
   "metadata": {},
   "outputs": [],
   "source": [
    "# embedding: keras layer, trained\n",
    "# structure: birectional fully connected RNN layer + dense\n",
    "\n",
    "layers4a = [Bidirectional(LSTM(70, dropout=0.1, recurrent_dropout=0.1)),\n",
    "            Dense(30, activation='relu')\n",
    "           ]\n",
    "\n",
    "model4a = BlackBox(layers=layers4a, loss='categorical_crossentropy', metrics=my_metrics)\n",
    "model4a.summary()"
   ]
  },
  {
   "cell_type": "markdown",
   "metadata": {},
   "source": [
    "---"
   ]
  },
  {
   "cell_type": "code",
   "execution_count": 56,
   "metadata": {},
   "outputs": [
    {
     "name": "stdout",
     "output_type": "stream",
     "text": [
      "_________________________________________________________________\n",
      "Layer (type)                 Output Shape              Param #   \n",
      "=================================================================\n",
      "embedding_29 (Embedding)     (None, 679, 300)          17915100  \n",
      "_________________________________________________________________\n",
      "bidirectional_16 (Bidirectio (None, 44)                56848     \n",
      "_________________________________________________________________\n",
      "dense_61 (Dense)             (None, 6)                 270       \n",
      "=================================================================\n",
      "Total params: 17,972,218\n",
      "Trainable params: 57,118\n",
      "Non-trainable params: 17,915,100\n",
      "_________________________________________________________________\n"
     ]
    }
   ],
   "source": [
    "# embedding: gensim weights, re-trained\n",
    "# structure: birectional fully connected RNN layer + dense\n",
    "\n",
    "layers4b = [Bidirectional(LSTM(22, dropout=0.1, recurrent_dropout=0.1))\n",
    "           ]\n",
    "\n",
    "model4b = BlackBox(layers=layers4b, loss='categorical_crossentropy', metrics=my_metrics, custom_embedd=True, train_weights=True)\n",
    "model4b.summary()"
   ]
  },
  {
   "cell_type": "markdown",
   "metadata": {},
   "source": [
    "---"
   ]
  },
  {
   "cell_type": "code",
   "execution_count": 24,
   "metadata": {},
   "outputs": [
    {
     "name": "stdout",
     "output_type": "stream",
     "text": [
      "_________________________________________________________________\n",
      "Layer (type)                 Output Shape              Param #   \n",
      "=================================================================\n",
      "embedding_6 (Embedding)      (None, 679, 300)          17915100  \n",
      "_________________________________________________________________\n",
      "bidirectional_2 (Bidirection (None, 44)                56848     \n",
      "_________________________________________________________________\n",
      "dense_11 (Dense)             (None, 6)                 270       \n",
      "=================================================================\n",
      "Total params: 17,972,218\n",
      "Trainable params: 57,118\n",
      "Non-trainable params: 17,915,100\n",
      "_________________________________________________________________\n"
     ]
    }
   ],
   "source": [
    "# embedding: gensim weights, not-trained\n",
    "# structure: birectional fully connected RNN layer + dense\n",
    "\n",
    "layers4c = [Bidirectional(LSTM(22, dropout=0.1, recurrent_dropout=0.1))\n",
    "           ]\n",
    "\n",
    "model4c = BlackBox(layers=layers4c, loss='categorical_crossentropy', metrics=my_metrics, custom_embedd=True, train_weights=False)\n",
    "model4c.summary()"
   ]
  },
  {
   "cell_type": "code",
   "execution_count": null,
   "metadata": {},
   "outputs": [
    {
     "name": "stdout",
     "output_type": "stream",
     "text": [
      "Train on 50000 samples, validate on 10000 samples\n",
      "Epoch 1/50\n"
     ]
    }
   ],
   "source": [
    "model4c.fit()"
   ]
  },
  {
   "cell_type": "markdown",
   "metadata": {},
   "source": [
    "---\n",
    "---"
   ]
  },
  {
   "cell_type": "markdown",
   "metadata": {},
   "source": [
    "# Loss = fuzzy_macroF1_flip"
   ]
  },
  {
   "cell_type": "markdown",
   "metadata": {},
   "source": [
    "---"
   ]
  },
  {
   "cell_type": "markdown",
   "metadata": {},
   "source": [
    "### Dense nets"
   ]
  },
  {
   "cell_type": "code",
   "execution_count": 58,
   "metadata": {},
   "outputs": [
    {
     "name": "stdout",
     "output_type": "stream",
     "text": [
      "_________________________________________________________________\n",
      "Layer (type)                 Output Shape              Param #   \n",
      "=================================================================\n",
      "embedding_31 (Embedding)     (None, 679, 300)          17915100  \n",
      "_________________________________________________________________\n",
      "dropout_32 (Dropout)         (None, 679, 300)          0         \n",
      "_________________________________________________________________\n",
      "dense_63 (Dense)             (None, 679, 144)          43344     \n",
      "_________________________________________________________________\n",
      "max_pooling1d_18 (MaxPooling (None, 168, 144)          0         \n",
      "_________________________________________________________________\n",
      "dropout_33 (Dropout)         (None, 168, 144)          0         \n",
      "_________________________________________________________________\n",
      "dense_64 (Dense)             (None, 168, 96)           13920     \n",
      "_________________________________________________________________\n",
      "dense_65 (Dense)             (None, 168, 6)            582       \n",
      "=================================================================\n",
      "Total params: 17,972,946\n",
      "Trainable params: 17,972,946\n",
      "Non-trainable params: 0\n",
      "_________________________________________________________________\n"
     ]
    }
   ],
   "source": [
    "# embedding: keras layer, trained\n",
    "# structure: dense layers\n",
    "\n",
    "layers5a = [Dropout(0.1),\n",
    "           Dense(144, activation='relu'),\n",
    "           MaxPooling1D(8, 4),\n",
    "           Dropout(0.1),\n",
    "           Dense(96, activation='relu')\n",
    "          ]\n",
    "\n",
    "model5a = BlackBox(layers=layers5a, loss=fuzzy_macroF1_flip, metrics=my_metrics, class_weight=None)\n",
    "model5a.summary()"
   ]
  },
  {
   "cell_type": "markdown",
   "metadata": {},
   "source": [
    "---"
   ]
  },
  {
   "cell_type": "code",
   "execution_count": 59,
   "metadata": {},
   "outputs": [
    {
     "name": "stdout",
     "output_type": "stream",
     "text": [
      "_________________________________________________________________\n",
      "Layer (type)                 Output Shape              Param #   \n",
      "=================================================================\n",
      "embedding_32 (Embedding)     (None, 679, 300)          17915100  \n",
      "_________________________________________________________________\n",
      "dropout_34 (Dropout)         (None, 679, 300)          0         \n",
      "_________________________________________________________________\n",
      "dense_66 (Dense)             (None, 679, 144)          43344     \n",
      "_________________________________________________________________\n",
      "max_pooling1d_19 (MaxPooling (None, 168, 144)          0         \n",
      "_________________________________________________________________\n",
      "dropout_35 (Dropout)         (None, 168, 144)          0         \n",
      "_________________________________________________________________\n",
      "dense_67 (Dense)             (None, 168, 96)           13920     \n",
      "_________________________________________________________________\n",
      "dense_68 (Dense)             (None, 168, 6)            582       \n",
      "=================================================================\n",
      "Total params: 17,972,946\n",
      "Trainable params: 57,846\n",
      "Non-trainable params: 17,915,100\n",
      "_________________________________________________________________\n"
     ]
    }
   ],
   "source": [
    "# embedding: gensim weights, re-trained\n",
    "# structure: dense layers\n",
    "\n",
    "layers5b = [Dropout(0.1),\n",
    "           Dense(144, activation='relu'),\n",
    "           MaxPooling1D(8, 4),\n",
    "           Dropout(0.1),\n",
    "           Dense(96, activation='relu')\n",
    "          ]\n",
    "\n",
    "model5b = BlackBox(layers=layers5b, loss=fuzzy_macroF1_flip, metrics=my_metrics, class_weight=None,\\\n",
    "                   custom_embedd=True, train_weights=True)\n",
    "model5b.summary()"
   ]
  },
  {
   "cell_type": "markdown",
   "metadata": {},
   "source": [
    "---"
   ]
  },
  {
   "cell_type": "code",
   "execution_count": 60,
   "metadata": {},
   "outputs": [
    {
     "name": "stdout",
     "output_type": "stream",
     "text": [
      "_________________________________________________________________\n",
      "Layer (type)                 Output Shape              Param #   \n",
      "=================================================================\n",
      "embedding_33 (Embedding)     (None, 679, 300)          17915100  \n",
      "_________________________________________________________________\n",
      "dropout_36 (Dropout)         (None, 679, 300)          0         \n",
      "_________________________________________________________________\n",
      "dense_69 (Dense)             (None, 679, 144)          43344     \n",
      "_________________________________________________________________\n",
      "max_pooling1d_20 (MaxPooling (None, 168, 144)          0         \n",
      "_________________________________________________________________\n",
      "dropout_37 (Dropout)         (None, 168, 144)          0         \n",
      "_________________________________________________________________\n",
      "dense_70 (Dense)             (None, 168, 96)           13920     \n",
      "_________________________________________________________________\n",
      "dense_71 (Dense)             (None, 168, 6)            582       \n",
      "=================================================================\n",
      "Total params: 17,972,946\n",
      "Trainable params: 57,846\n",
      "Non-trainable params: 17,915,100\n",
      "_________________________________________________________________\n"
     ]
    }
   ],
   "source": [
    "# embedding: gensim weights, not-trained\n",
    "# structure: dense layers\n",
    "\n",
    "layers5c = [Dropout(0.1),\n",
    "           Dense(144, activation='relu'),\n",
    "           MaxPooling1D(8, 4),\n",
    "           Dropout(0.1),\n",
    "           Dense(96, activation='relu')\n",
    "          ]\n",
    "\n",
    "model5c = BlackBox(layers=layers5c, loss=fuzzy_macroF1_flip, metrics=my_metrics, class_weight=None,\\\n",
    "                   custom_embedd=True, train_weights=False)\n",
    "model5c.summary()"
   ]
  },
  {
   "cell_type": "markdown",
   "metadata": {},
   "source": [
    "---"
   ]
  },
  {
   "cell_type": "code",
   "execution_count": null,
   "metadata": {},
   "outputs": [],
   "source": []
  },
  {
   "cell_type": "code",
   "execution_count": null,
   "metadata": {},
   "outputs": [],
   "source": []
  }
 ],
 "metadata": {
  "kernelspec": {
   "display_name": "Python 3",
   "language": "python",
   "name": "python3"
  },
  "language_info": {
   "codemirror_mode": {
    "name": "ipython",
    "version": 3
   },
   "file_extension": ".py",
   "mimetype": "text/x-python",
   "name": "python",
   "nbconvert_exporter": "python",
   "pygments_lexer": "ipython3",
   "version": "3.6.7"
  }
 },
 "nbformat": 4,
 "nbformat_minor": 2
}
