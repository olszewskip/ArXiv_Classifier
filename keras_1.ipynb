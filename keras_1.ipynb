{
 "cells": [
  {
   "cell_type": "code",
   "execution_count": 248,
   "metadata": {},
   "outputs": [],
   "source": [
    "import os\n",
    "import pandas as pd\n",
    "import numpy as np\n",
    "\n",
    "from sklearn.feature_extraction.text import CountVectorizer\n",
    "from sklearn.preprocessing import LabelEncoder\n",
    "from sklearn \n",
    "from keras.utils import to_categorical"
   ]
  },
  {
   "cell_type": "code",
   "execution_count": 10,
   "metadata": {},
   "outputs": [],
   "source": [
    "file = os.path.join(\"data\", \"notex_all.csv\")\n",
    "\n",
    "data = pd.read_csv(file, delimiter='\\t')"
   ]
  },
  {
   "cell_type": "code",
   "execution_count": 303,
   "metadata": {},
   "outputs": [],
   "source": [
    "# take a sample of records to play with\n",
    "small_num = 50_000\n",
    "sample = data[:small_num]\n",
    "\n",
    "text = sample.text\n",
    "label = sample.label\n",
    "\n",
    "text_train = text[:small_num//2]\n",
    "text_test = text[small_num//2:]\n",
    "\n",
    "label_e = LabelEncoder()\n",
    "y_train = to_categorical(label_e.fit_transform(label[:small_num//2]))\n",
    "y_test = to_categorical(label_e.transform(label[small_num//2:]))"
   ]
  },
  {
   "cell_type": "code",
   "execution_count": 258,
   "metadata": {},
   "outputs": [
    {
     "data": {
      "text/plain": [
       "0    On the interplay between star formation and fe...\n",
       "1    Transversal Homotopy Monoids of Complex Projec...\n",
       "2    Remarks on some typical assumptions in dynamo ...\n",
       "Name: text, dtype: object"
      ]
     },
     "execution_count": 258,
     "metadata": {},
     "output_type": "execute_result"
    }
   ],
   "source": [
    "text_train[:3]"
   ]
  },
  {
   "cell_type": "code",
   "execution_count": 257,
   "metadata": {},
   "outputs": [
    {
     "data": {
      "text/plain": [
       "array([[0., 0., 1., 0., 0., 0.],\n",
       "       [0., 1., 0., 0., 0., 0.],\n",
       "       [0., 0., 1., 0., 0., 0.]], dtype=float32)"
      ]
     },
     "execution_count": 257,
     "metadata": {},
     "output_type": "execute_result"
    }
   ],
   "source": [
    "y_train[:3]"
   ]
  },
  {
   "cell_type": "code",
   "execution_count": 115,
   "metadata": {},
   "outputs": [
    {
     "data": {
      "text/plain": [
       "array([ 1.24415248,  0.72824725,  0.27688252, 12.91989664, 32.05128205,\n",
       "        9.72384286])"
      ]
     },
     "execution_count": 115,
     "metadata": {},
     "output_type": "execute_result"
    }
   ],
   "source": [
    "# compute class weights for keras (obtained from the whole of train sample)\n",
    "\n",
    "n_classes = len(np.unique(label_train))\n",
    "\n",
    "from sklearn.utils.class_weight import compute_class_weight\n",
    "class_weights = compute_class_weight('balanced', np.unique(label), label)  # ~ 1 / np.unique(label, return_counts=True)[1]\n",
    "class_weights"
   ]
  },
  {
   "cell_type": "code",
   "execution_count": 118,
   "metadata": {},
   "outputs": [
    {
     "name": "stdout",
     "output_type": "stream",
     "text": [
      "Counted 25685 unique words in the whole train dataset.\n",
      "Take numbers 1 to 'num_words'=25686 as numerical labels for the unique words, and 0 for 'silence'.\n",
      "A single record has at most 434 words.\n",
      "The text will be tokenized into sequences of numerical labels and put into arrays of length 'padded_length'=455 left-padded with zeros. The extra 5% of length is there in case a longer text would need to be tokenized and classified later (e.g. from a test dataset).\n"
     ]
    }
   ],
   "source": [
    "# see how many unique words are there globally (unique_words)\n",
    "# and how many words are in the longest text (max_word_count)\n",
    "# save the annoyingly confusing integers to feed later into keras\n",
    "\n",
    "count_v = CountVectorizer(min_df = 1, strip_accents='unicode')\n",
    "word_counts_train = count_v.fit_transform(notex_text_train)\n",
    "\n",
    "unique_words = word_counts_train.shape[1]\n",
    "num_words = unique_words + 1\n",
    "max_word_count = np.max(np.sum(word_counts_train, axis=1))\n",
    "padded_length = int(1.05*max_word_count)\n",
    "\n",
    "print(f\"Counted {unique_words} unique words in the whole train dataset.\")\n",
    "print(f\"Take numbers 1 to 'num_words'={num_words} as numerical labels for the unique words, and 0 for 'silence'.\")\n",
    "print(f\"A single record has at most {max_word_count} words.\")\n",
    "print(f\"The text will be tokenized into sequences of numerical labels and put into arrays of length \\\n",
    "'padded_length'={padded_length} left-padded with zeros. The extra 5% of length is there in case a longer text \\\n",
    "would need to be tokenized and classified later (e.g. from a test dataset).\")"
   ]
  },
  {
   "cell_type": "code",
   "execution_count": 119,
   "metadata": {},
   "outputs": [],
   "source": [
    "from keras.preprocessing.text import Tokenizer\n",
    "from keras.preprocessing.sequence import pad_sequences"
   ]
  },
  {
   "cell_type": "code",
   "execution_count": 301,
   "metadata": {},
   "outputs": [],
   "source": [
    "tokenizer = Tokenizer(num_words=unique_words, lower=True)\n",
    "tokenizer.fit_on_texts(text_train)\n",
    "\n",
    "sequences_train = tokenizer.texts_to_sequences(text_train)\n",
    "sequences_test = tokenizer.texts_to_sequences(text_test)"
   ]
  },
  {
   "cell_type": "code",
   "execution_count": 121,
   "metadata": {},
   "outputs": [
    {
     "data": {
      "text/plain": [
       "'On the interplay between star formation and feedback in galaxy formation simulations.  We investigate the star formation-feedback cycle in cosmological galaxy formation simulations, focusing on progenitors of Milky Way (MW)-sized galaxies. We find that in order to reproduce key properties of the MW progenitors, such as semi-empirically derived star formation histories and the shape of rotation curves, our implementation of star formation and stellar feedback requires 1) a combination of local early momentum feedback via radiation pressure and stellar winds and subsequent efficient supernovae feedback, and 2) efficacy of feedback that results in self-regulation of the global star formation rate on kiloparsec scales. We show that such feedback-driven self-regulation is achieved globally for a local star formation efficiency per free fall time of  _LATEX_ . Although this value is larger that the  _LATEX_  value usually inferred from the Kennicutt-Schmidt (KS) relation, we show that it is consistent with direct observational estimates of  _LATEX_  in molecular clouds. Moreover, we show that simulations with local efficiency of  _LATEX_  reproduce the global observed KS relation. Such simulations also reproduce the cosmic star formation history of the Milky Way sized galaxies and satisfy a number of other observational constraints. Conversely, we find that simulations that a priori assume an inefficient mode of star formation, instead of achieving it via stellar feedback regulation, fail to produce sufficiently vigorous outflows and do not reproduce observations. This illustrates the importance of understanding the complex interplay between star formation and feedback and the detailed processes that contribute to the feedback-regulated formation of galaxies. '"
      ]
     },
     "execution_count": 121,
     "metadata": {},
     "output_type": "execute_result"
    }
   ],
   "source": [
    "text_train[0]"
   ]
  },
  {
   "cell_type": "code",
   "execution_count": 122,
   "metadata": {},
   "outputs": [
    {
     "data": {
      "text/plain": [
       "[13,\n",
       " 1,\n",
       " 2232,\n",
       " 39,\n",
       " 155,\n",
       " 198,\n",
       " 3,\n",
       " 955,\n",
       " 5,\n",
       " 257,\n",
       " 198,\n",
       " 202,\n",
       " 7,\n",
       " 232,\n",
       " 1,\n",
       " 155,\n",
       " 198,\n",
       " 955,\n",
       " 1312,\n",
       " 5,\n",
       " 541,\n",
       " 257,\n",
       " 198,\n",
       " 202,\n",
       " 1919,\n",
       " 13,\n",
       " 3229,\n",
       " 2,\n",
       " 1967,\n",
       " 294,\n",
       " 4961,\n",
       " 2981,\n",
       " 154,\n",
       " 7,\n",
       " 82,\n",
       " 11,\n",
       " 5,\n",
       " 54,\n",
       " 6,\n",
       " 1929,\n",
       " 543,\n",
       " 77,\n",
       " 2,\n",
       " 1,\n",
       " 4961,\n",
       " 3229,\n",
       " 45,\n",
       " 17,\n",
       " 769,\n",
       " 3676,\n",
       " 303,\n",
       " 155,\n",
       " 198,\n",
       " 4433,\n",
       " 3,\n",
       " 1,\n",
       " 653,\n",
       " 2,\n",
       " 791,\n",
       " 695,\n",
       " 27,\n",
       " 975,\n",
       " 2,\n",
       " 155,\n",
       " 198,\n",
       " 3,\n",
       " 271,\n",
       " 955,\n",
       " 1136,\n",
       " 33,\n",
       " 4,\n",
       " 1000,\n",
       " 2,\n",
       " 120,\n",
       " 781,\n",
       " 345,\n",
       " 955,\n",
       " 266,\n",
       " 531,\n",
       " 643,\n",
       " 3,\n",
       " 271,\n",
       " 2863,\n",
       " 3,\n",
       " 2484,\n",
       " 352,\n",
       " 1950,\n",
       " 955,\n",
       " 3,\n",
       " 44,\n",
       " 5711,\n",
       " 2,\n",
       " 955,\n",
       " 11,\n",
       " 29,\n",
       " 5,\n",
       " 269,\n",
       " 5712,\n",
       " 2,\n",
       " 1,\n",
       " 408,\n",
       " 155,\n",
       " 198,\n",
       " 175,\n",
       " 13,\n",
       " 10605,\n",
       " 647,\n",
       " 7,\n",
       " 30,\n",
       " 11,\n",
       " 45,\n",
       " 955,\n",
       " 585,\n",
       " 269,\n",
       " 5712,\n",
       " 8,\n",
       " 1004,\n",
       " 2708,\n",
       " 9,\n",
       " 4,\n",
       " 120,\n",
       " 155,\n",
       " 198,\n",
       " 635,\n",
       " 1025,\n",
       " 212,\n",
       " 3051,\n",
       " 37,\n",
       " 2,\n",
       " 10,\n",
       " 728,\n",
       " 16,\n",
       " 249,\n",
       " 8,\n",
       " 532,\n",
       " 11,\n",
       " 1,\n",
       " 10,\n",
       " 249,\n",
       " 1538,\n",
       " 2296,\n",
       " 19,\n",
       " 1,\n",
       " 13267,\n",
       " 5386,\n",
       " 3351,\n",
       " 376,\n",
       " 7,\n",
       " 30,\n",
       " 11,\n",
       " 26,\n",
       " 8,\n",
       " 301,\n",
       " 12,\n",
       " 437,\n",
       " 1116,\n",
       " 587,\n",
       " 2,\n",
       " 10,\n",
       " 5,\n",
       " 435,\n",
       " 1334,\n",
       " 546,\n",
       " 7,\n",
       " 30,\n",
       " 11,\n",
       " 202,\n",
       " 12,\n",
       " 120,\n",
       " 635,\n",
       " 2,\n",
       " 10,\n",
       " 1929,\n",
       " 1,\n",
       " 408,\n",
       " 116,\n",
       " 3351,\n",
       " 376,\n",
       " 45,\n",
       " 202,\n",
       " 32,\n",
       " 1929,\n",
       " 1,\n",
       " 536,\n",
       " 155,\n",
       " 198,\n",
       " 1601,\n",
       " 2,\n",
       " 1,\n",
       " 1967,\n",
       " 294,\n",
       " 2981,\n",
       " 154,\n",
       " 3,\n",
       " 1615,\n",
       " 4,\n",
       " 78,\n",
       " 2,\n",
       " 106,\n",
       " 1116,\n",
       " 343,\n",
       " 5278,\n",
       " 7,\n",
       " 82,\n",
       " 11,\n",
       " 202,\n",
       " 11,\n",
       " 4,\n",
       " 2960,\n",
       " 1771,\n",
       " 18,\n",
       " 6109,\n",
       " 426,\n",
       " 2,\n",
       " 155,\n",
       " 198,\n",
       " 1222,\n",
       " 2,\n",
       " 3077,\n",
       " 26,\n",
       " 266,\n",
       " 271,\n",
       " 955,\n",
       " 5712,\n",
       " 3253,\n",
       " 6,\n",
       " 1037,\n",
       " 1526,\n",
       " 15073,\n",
       " 2809,\n",
       " 3,\n",
       " 451,\n",
       " 52,\n",
       " 1929,\n",
       " 192,\n",
       " 16,\n",
       " 6110,\n",
       " 1,\n",
       " 1323,\n",
       " 2,\n",
       " 673,\n",
       " 1,\n",
       " 233,\n",
       " 2232,\n",
       " 39,\n",
       " 155,\n",
       " 198,\n",
       " 3,\n",
       " 955,\n",
       " 3,\n",
       " 1,\n",
       " 784,\n",
       " 311,\n",
       " 11,\n",
       " 2582,\n",
       " 6,\n",
       " 1,\n",
       " 955,\n",
       " 6194,\n",
       " 198,\n",
       " 2,\n",
       " 154]"
      ]
     },
     "execution_count": 122,
     "metadata": {},
     "output_type": "execute_result"
    }
   ],
   "source": [
    "sequences_train[0]"
   ]
  },
  {
   "cell_type": "code",
   "execution_count": 313,
   "metadata": {},
   "outputs": [],
   "source": [
    "X_train = pad_sequences(sequences_train, maxlen=padded_length)\n",
    "X_test = pad_sequences(sequences_test, maxlen=padded_length)"
   ]
  },
  {
   "cell_type": "code",
   "execution_count": 124,
   "metadata": {},
   "outputs": [
    {
     "data": {
      "text/plain": [
       "array([   0,    0,    0,    0,    0,    0,    0,    0,    0,    0,    0,\n",
       "          0,    0,    0,    0,    0,    0,    0,    0,    0,    0,    0,\n",
       "          0,    0,    0,    0,    0,    0,    0,    0,    0,    0,    0,\n",
       "          0,    0,    0,    0,    0,    0,    0,    0,    0,    0,    0,\n",
       "          0,    0,    0,    0,    0,    0,    0,    0,    0,    0,    0,\n",
       "          0,    0,    0,    0,    0,    0,    0,    0,    0,    0,    0,\n",
       "          0,    0,    0,    0,    0,    0,    0,    0,    0,    0,    0,\n",
       "          0,    0,    0,    0,    0,    0,    0,    0,    0,    0,    0,\n",
       "          0,    0,    0,    0,    0,    0,    0,    0,    0,    0,    0,\n",
       "          0,    0,    0,    0,    0,    0,    0,    0,    0,    0,    0,\n",
       "          0,    0,    0,    0,    0,    0,    0,    0,    0,    0,    0,\n",
       "          0,    0,    0,    0,    0,    0,    0,    0,    0,    0,    0,\n",
       "          0,    0,    0,    0,    0,    0,    0,    0,    0,    0,    0,\n",
       "          0,    0,    0,    0,    0,    0,    0,    0,    0,    0,    0,\n",
       "          0,    0,    0,    0,    0,    0,    0,    0,    0,    0,    0,\n",
       "          0,    0,    0,    0,    0,    0,    0,    0,    0,    0,    0,\n",
       "          0,    0,    0,    0,    0,    0,    0,    0,    0,    0,    0,\n",
       "          0,    0,    0,    0,    0,    0,   13,    1, 2232,   39,  155,\n",
       "        198,    3,  955,    5,  257,  198,  202,    7,  232,    1,  155,\n",
       "        198,  955, 1312,    5,  541,  257,  198,  202, 1919,   13, 3229,\n",
       "          2, 1967,  294, 4961, 2981,  154,    7,   82,   11,    5,   54,\n",
       "          6, 1929,  543,   77,    2,    1, 4961, 3229,   45,   17,  769,\n",
       "       3676,  303,  155,  198, 4433,    3,    1,  653])"
      ]
     },
     "execution_count": 124,
     "metadata": {},
     "output_type": "execute_result"
    }
   ],
   "source": [
    "X_train[0][:250]"
   ]
  },
  {
   "cell_type": "code",
   "execution_count": 125,
   "metadata": {},
   "outputs": [],
   "source": [
    "from keras.models import Sequential\n",
    "from keras.layers import Embedding, Dropout, GlobalAveragePooling1D, Dense"
   ]
  },
  {
   "cell_type": "code",
   "execution_count": 295,
   "metadata": {},
   "outputs": [],
   "source": [
    "from keras import backend as K\n",
    "\n",
    "def macroF1(y_true, y_pred):\n",
    "    \n",
    "    def recall(y_true, y_pred):\n",
    "\n",
    "        true_positives = K.sum(K.round(K.clip(y_true * y_pred, 0, 1)), axis=0)\n",
    "        actual_ones = K.sum(K.round(K.clip(y_true, 0, 1)), axis=0)\n",
    "        recall = true_positives / (actual_ones + K.epsilon())\n",
    "        return recall\n",
    "\n",
    "    \n",
    "    def precision(y_true, y_pred):\n",
    "        \n",
    "        true_positives = K.sum(K.round(K.clip(y_true * y_pred, 0, 1)), axis=0)\n",
    "        positives = K.sum(K.round(K.clip(y_pred, 0, 1)), axis=0)\n",
    "        precision = true_positives / (positives + K.epsilon())\n",
    "        return precision\n",
    "    \n",
    "    precision = precision(y_true, y_pred)\n",
    "    recall = recall(y_true, y_pred)\n",
    "    macroF1 = K.mean( 2*((precision*recall)/(precision+recall+K.epsilon())) )\n",
    "    \n",
    "    return macroF1\n",
    "\n",
    "def macroF1_flip(y_true, y_pred):\n",
    "    # a custom loss function\n",
    "    # no clippping or rounding as those are not differentiable\n",
    "    \n",
    "    def recall(y_true, y_pred):\n",
    "\n",
    "        true_positives = K.sum(y_true * y_pred, axis=0)\n",
    "        actual_ones = K.sum(y_true, axis=0)\n",
    "        recall = true_positives / (actual_ones + K.epsilon())\n",
    "        return recall\n",
    "\n",
    "    \n",
    "    def precision(y_true, y_pred):\n",
    "        \n",
    "        true_positives = K.sum(y_true * y_pred, axis=0)\n",
    "        positives = K.sum(y_pred, axis=0)\n",
    "        precision = true_positives / (positives + K.epsilon())\n",
    "        return precision\n",
    "    \n",
    "    precision = precision(y_true, y_pred)\n",
    "    recall = recall(y_true, y_pred)\n",
    "    macroF1 = K.mean( 2*((precision*recall)/(precision+recall+K.epsilon())) ) \n",
    "    \n",
    "    return 1-macroF1"
   ]
  },
  {
   "cell_type": "code",
   "execution_count": 296,
   "metadata": {},
   "outputs": [],
   "source": [
    "# https://stackoverflow.com/questions/43547402/how-to-calculate-f1-macro-in-keras\n",
    "from keras import backend as K\n",
    "\n",
    "def microF1(y_true, y_pred):\n",
    "    \n",
    "    def recall(y_true, y_pred):\n",
    "\n",
    "        true_positives = K.sum(K.round(K.clip(y_true * y_pred, 0, 1)))\n",
    "        possible_positives = K.sum(K.round(K.clip(y_true, 0, 1)))\n",
    "        recall = true_positives / (possible_positives + K.epsilon())\n",
    "        return recall\n",
    "\n",
    "    def precision(y_true, y_pred):\n",
    "        \n",
    "        true_positives = K.sum(K.round(K.clip(y_true * y_pred, 0, 1)))\n",
    "        predicted_positives = K.sum(K.round(K.clip(y_pred, 0, 1)))\n",
    "        precision = true_positives / (predicted_positives + K.epsilon())\n",
    "        return precision\n",
    "    \n",
    "    precision = precision(y_true, y_pred)\n",
    "    recall = recall(y_true, y_pred)\n",
    "    microF1 = 2*((precision*recall)/(precision+recall+K.epsilon()))\n",
    "    \n",
    "    return microF1"
   ]
  },
  {
   "cell_type": "code",
   "execution_count": 297,
   "metadata": {},
   "outputs": [
    {
     "name": "stdout",
     "output_type": "stream",
     "text": [
      "_________________________________________________________________\n",
      "Layer (type)                 Output Shape              Param #   \n",
      "=================================================================\n",
      "embedding_16 (Embedding)     (None, 455, 300)          7705800   \n",
      "_________________________________________________________________\n",
      "global_average_pooling1d_15  (None, 300)               0         \n",
      "_________________________________________________________________\n",
      "dense_15 (Dense)             (None, 6)                 1806      \n",
      "=================================================================\n",
      "Total params: 7,707,606\n",
      "Trainable params: 7,707,606\n",
      "Non-trainable params: 0\n",
      "_________________________________________________________________\n"
     ]
    }
   ],
   "source": [
    "model = Sequential()\n",
    "model.add(Embedding(input_dim=num_words, output_dim=300, input_length=padded_length))\n",
    "model.add(GlobalAveragePooling1D())\n",
    "model.add(Dense(n_classes, activation='softmax'))\n",
    "\n",
    "model.compile(loss=macroF1_flip, optimizer='adam', metrics=[microF1, macroF1]) # 'categorical_accuracy', \n",
    "model.summary()"
   ]
  },
  {
   "cell_type": "code",
   "execution_count": 298,
   "metadata": {},
   "outputs": [],
   "source": [
    "from keras.callbacks import Callback, ReduceLROnPlateau, EarlyStopping"
   ]
  },
  {
   "cell_type": "code",
   "execution_count": 299,
   "metadata": {
    "scrolled": false
   },
   "outputs": [
    {
     "name": "stdout",
     "output_type": "stream",
     "text": [
      "Train on 22500 samples, validate on 2500 samples\n",
      "Epoch 1/100\n",
      "22500/22500 [==============================] - 22s 969us/step - loss: 0.8791 - microF1: 0.0000e+00 - macroF1: 0.0000e+00 - val_loss: 0.8683 - val_microF1: 0.0000e+00 - val_macroF1: 0.0000e+00\n",
      "Epoch 2/100\n",
      "22500/22500 [==============================] - 20s 896us/step - loss: 0.8545 - microF1: 0.0000e+00 - macroF1: 0.0000e+00 - val_loss: 0.8434 - val_microF1: 0.0000e+00 - val_macroF1: 0.0000e+00\n",
      "Epoch 3/100\n",
      "22500/22500 [==============================] - 21s 927us/step - loss: 0.8344 - microF1: 0.3619 - macroF1: 0.0782 - val_loss: 0.8295 - val_microF1: 0.6035 - val_macroF1: 0.1257\n",
      "Epoch 4/100\n",
      "22500/22500 [==============================] - 20s 903us/step - loss: 0.8244 - microF1: 0.6090 - macroF1: 0.1269 - val_loss: 0.8211 - val_microF1: 0.6177 - val_macroF1: 0.1283\n",
      "Epoch 5/100\n",
      "22500/22500 [==============================] - 20s 903us/step - loss: 0.8153 - microF1: 0.6205 - macroF1: 0.1298 - val_loss: 0.8101 - val_microF1: 0.6616 - val_macroF1: 0.1411\n",
      "Epoch 6/100\n",
      "22500/22500 [==============================] - 20s 906us/step - loss: 0.8022 - microF1: 0.6586 - macroF1: 0.1547 - val_loss: 0.7948 - val_microF1: 0.6895 - val_macroF1: 0.2099\n",
      "Epoch 7/100\n",
      "22500/22500 [==============================] - 21s 916us/step - loss: 0.7847 - microF1: 0.6999 - macroF1: 0.2315 - val_loss: 0.7753 - val_microF1: 0.7231 - val_macroF1: 0.2485\n",
      "Epoch 8/100\n",
      "22500/22500 [==============================] - 20s 909us/step - loss: 0.7633 - microF1: 0.7264 - macroF1: 0.2588 - val_loss: 0.7521 - val_microF1: 0.7492 - val_macroF1: 0.2819\n",
      "Epoch 9/100\n",
      "22500/22500 [==============================] - 20s 907us/step - loss: 0.7387 - microF1: 0.7593 - macroF1: 0.3023 - val_loss: 0.7269 - val_microF1: 0.7811 - val_macroF1: 0.3274\n",
      "Epoch 10/100\n",
      "22500/22500 [==============================] - 20s 910us/step - loss: 0.7131 - microF1: 0.7925 - macroF1: 0.3471 - val_loss: 0.7023 - val_microF1: 0.8017 - val_macroF1: 0.3545\n",
      "Epoch 11/100\n",
      "22500/22500 [==============================] - 21s 927us/step - loss: 0.6896 - microF1: 0.8123 - macroF1: 0.3686 - val_loss: 0.6811 - val_microF1: 0.8165 - val_macroF1: 0.3755\n",
      "Epoch 12/100\n",
      "22500/22500 [==============================] - 21s 934us/step - loss: 0.6694 - microF1: 0.8289 - macroF1: 0.3849 - val_loss: 0.6632 - val_microF1: 0.8338 - val_macroF1: 0.3843\n",
      "Epoch 13/100\n",
      "22500/22500 [==============================] - 22s 981us/step - loss: 0.6525 - microF1: 0.8414 - macroF1: 0.3956 - val_loss: 0.6483 - val_microF1: 0.8429 - val_macroF1: 0.3924\n",
      "Epoch 14/100\n",
      "22500/22500 [==============================] - 22s 972us/step - loss: 0.6382 - microF1: 0.8498 - macroF1: 0.4012 - val_loss: 0.6357 - val_microF1: 0.8555 - val_macroF1: 0.4033\n",
      "Epoch 15/100\n",
      "22500/22500 [==============================] - 22s 991us/step - loss: 0.6256 - microF1: 0.8574 - macroF1: 0.4077 - val_loss: 0.6246 - val_microF1: 0.8612 - val_macroF1: 0.4074\n",
      "Epoch 16/100\n",
      "22500/22500 [==============================] - 21s 925us/step - loss: 0.6137 - microF1: 0.8649 - macroF1: 0.4132 - val_loss: 0.6144 - val_microF1: 0.8651 - val_macroF1: 0.4103\n",
      "Epoch 17/100\n",
      "22500/22500 [==============================] - 21s 941us/step - loss: 0.6029 - microF1: 0.8695 - macroF1: 0.4168 - val_loss: 0.6048 - val_microF1: 0.8706 - val_macroF1: 0.4163\n",
      "Epoch 18/100\n",
      "22500/22500 [==============================] - 21s 953us/step - loss: 0.5911 - microF1: 0.8753 - macroF1: 0.4215 - val_loss: 0.5953 - val_microF1: 0.8739 - val_macroF1: 0.4184\n",
      "Epoch 19/100\n",
      "22500/22500 [==============================] - 22s 973us/step - loss: 0.5790 - microF1: 0.8791 - macroF1: 0.4270 - val_loss: 0.5851 - val_microF1: 0.8788 - val_macroF1: 0.4217\n",
      "Epoch 20/100\n",
      "22500/22500 [==============================] - 21s 943us/step - loss: 0.5656 - microF1: 0.8840 - macroF1: 0.4340 - val_loss: 0.5748 - val_microF1: 0.8829 - val_macroF1: 0.4358\n",
      "Epoch 21/100\n",
      "22500/22500 [==============================] - 21s 943us/step - loss: 0.5516 - microF1: 0.8876 - macroF1: 0.4491 - val_loss: 0.5639 - val_microF1: 0.8858 - val_macroF1: 0.4388\n",
      "Epoch 22/100\n",
      "22500/22500 [==============================] - 21s 937us/step - loss: 0.5366 - microF1: 0.8913 - macroF1: 0.4741 - val_loss: 0.5534 - val_microF1: 0.8921 - val_macroF1: 0.4761\n",
      "Epoch 23/100\n",
      "22500/22500 [==============================] - 21s 954us/step - loss: 0.5205 - microF1: 0.8945 - macroF1: 0.4997 - val_loss: 0.5434 - val_microF1: 0.8987 - val_macroF1: 0.4840\n",
      "Epoch 24/100\n",
      "22500/22500 [==============================] - 21s 953us/step - loss: 0.5032 - microF1: 0.8989 - macroF1: 0.5240 - val_loss: 0.5319 - val_microF1: 0.8976 - val_macroF1: 0.4956\n",
      "Epoch 25/100\n",
      "22500/22500 [==============================] - 22s 981us/step - loss: 0.4859 - microF1: 0.9012 - macroF1: 0.5557 - val_loss: 0.5208 - val_microF1: 0.8972 - val_macroF1: 0.5025\n",
      "Epoch 26/100\n",
      "22500/22500 [==============================] - 21s 924us/step - loss: 0.4638 - microF1: 0.9044 - macroF1: 0.5872 - val_loss: 0.5106 - val_microF1: 0.8989 - val_macroF1: 0.5031\n",
      "Epoch 27/100\n",
      "22500/22500 [==============================] - 21s 925us/step - loss: 0.4436 - microF1: 0.9069 - macroF1: 0.5979 - val_loss: 0.4988 - val_microF1: 0.9043 - val_macroF1: 0.5050\n",
      "Epoch 28/100\n",
      "22500/22500 [==============================] - 21s 925us/step - loss: 0.4203 - microF1: 0.9095 - macroF1: 0.6310 - val_loss: 0.4895 - val_microF1: 0.9025 - val_macroF1: 0.5048\n",
      "Epoch 29/100\n",
      "22500/22500 [==============================] - 21s 922us/step - loss: 0.3979 - microF1: 0.9111 - macroF1: 0.6604 - val_loss: 0.4759 - val_microF1: 0.9063 - val_macroF1: 0.5560\n",
      "Epoch 30/100\n",
      "22500/22500 [==============================] - 21s 919us/step - loss: 0.3723 - microF1: 0.9126 - macroF1: 0.6989 - val_loss: 0.4628 - val_microF1: 0.9061 - val_macroF1: 0.5561\n",
      "Epoch 31/100\n",
      "22500/22500 [==============================] - 21s 936us/step - loss: 0.3563 - microF1: 0.9156 - macroF1: 0.7203 - val_loss: 0.4552 - val_microF1: 0.9079 - val_macroF1: 0.5574\n",
      "Epoch 32/100\n",
      "22500/22500 [==============================] - 21s 948us/step - loss: 0.3351 - microF1: 0.9169 - macroF1: 0.7288 - val_loss: 0.4419 - val_microF1: 0.9088 - val_macroF1: 0.5858\n",
      "Epoch 33/100\n",
      "22500/22500 [==============================] - 21s 924us/step - loss: 0.3165 - microF1: 0.9183 - macroF1: 0.7446 - val_loss: 0.4297 - val_microF1: 0.9101 - val_macroF1: 0.6257\n",
      "Epoch 34/100\n",
      "22500/22500 [==============================] - 21s 915us/step - loss: 0.2977 - microF1: 0.9194 - macroF1: 0.7648 - val_loss: 0.4265 - val_microF1: 0.9104 - val_macroF1: 0.6095\n",
      "Epoch 35/100\n",
      "22500/22500 [==============================] - 21s 916us/step - loss: 0.2851 - microF1: 0.9210 - macroF1: 0.7776 - val_loss: 0.4140 - val_microF1: 0.9105 - val_macroF1: 0.6470\n",
      "Epoch 36/100\n",
      "22500/22500 [==============================] - 23s 1ms/step - loss: 0.2650 - microF1: 0.9225 - macroF1: 0.7936 - val_loss: 0.4086 - val_microF1: 0.9108 - val_macroF1: 0.6462\n",
      "Epoch 37/100\n",
      "22500/22500 [==============================] - 21s 925us/step - loss: 0.2562 - microF1: 0.9237 - macroF1: 0.7982 - val_loss: 0.4041 - val_microF1: 0.9114 - val_macroF1: 0.6469\n",
      "Epoch 38/100\n",
      "22500/22500 [==============================] - 21s 915us/step - loss: 0.2443 - microF1: 0.9247 - macroF1: 0.8112 - val_loss: 0.4017 - val_microF1: 0.9124 - val_macroF1: 0.6448\n",
      "Epoch 39/100\n",
      "22500/22500 [==============================] - 21s 918us/step - loss: 0.2389 - microF1: 0.9253 - macroF1: 0.8085 - val_loss: 0.3903 - val_microF1: 0.9138 - val_macroF1: 0.6596\n",
      "Epoch 40/100\n",
      "22500/22500 [==============================] - 21s 928us/step - loss: 0.2261 - microF1: 0.9267 - macroF1: 0.8219 - val_loss: 0.3884 - val_microF1: 0.9123 - val_macroF1: 0.6523\n",
      "Epoch 41/100\n",
      "22500/22500 [==============================] - 21s 921us/step - loss: 0.2197 - microF1: 0.9279 - macroF1: 0.8261 - val_loss: 0.3857 - val_microF1: 0.9106 - val_macroF1: 0.6520\n",
      "Epoch 42/100\n",
      "22500/22500 [==============================] - 21s 923us/step - loss: 0.2129 - microF1: 0.9283 - macroF1: 0.8357 - val_loss: 0.3829 - val_microF1: 0.9143 - val_macroF1: 0.6540\n",
      "Epoch 43/100\n",
      "22500/22500 [==============================] - 22s 956us/step - loss: 0.2042 - microF1: 0.9292 - macroF1: 0.8408 - val_loss: 0.3790 - val_microF1: 0.9140 - val_macroF1: 0.6536\n"
     ]
    },
    {
     "name": "stdout",
     "output_type": "stream",
     "text": [
      "Epoch 44/100\n",
      "22500/22500 [==============================] - 22s 967us/step - loss: 0.2029 - microF1: 0.9305 - macroF1: 0.8421 - val_loss: 0.3730 - val_microF1: 0.9143 - val_macroF1: 0.6629\n",
      "Epoch 45/100\n",
      "22500/22500 [==============================] - 22s 968us/step - loss: 0.1922 - microF1: 0.9317 - macroF1: 0.8504 - val_loss: 0.3720 - val_microF1: 0.9144 - val_macroF1: 0.6634\n",
      "Epoch 46/100\n",
      "22500/22500 [==============================] - 23s 1ms/step - loss: 0.1874 - microF1: 0.9324 - macroF1: 0.8573 - val_loss: 0.3712 - val_microF1: 0.9142 - val_macroF1: 0.6633\n",
      "Epoch 47/100\n",
      "22500/22500 [==============================] - 22s 994us/step - loss: 0.1792 - microF1: 0.9332 - macroF1: 0.8639 - val_loss: 0.3657 - val_microF1: 0.9143 - val_macroF1: 0.6741\n",
      "Epoch 48/100\n",
      "22500/22500 [==============================] - 22s 958us/step - loss: 0.1737 - microF1: 0.9341 - macroF1: 0.8688 - val_loss: 0.3701 - val_microF1: 0.9141 - val_macroF1: 0.6589\n",
      "Epoch 49/100\n",
      "22500/22500 [==============================] - 22s 966us/step - loss: 0.1706 - microF1: 0.9352 - macroF1: 0.8657 - val_loss: 0.3624 - val_microF1: 0.9148 - val_macroF1: 0.6714\n",
      "Epoch 50/100\n",
      "22500/22500 [==============================] - 22s 965us/step - loss: 0.1708 - microF1: 0.9350 - macroF1: 0.8668 - val_loss: 0.3661 - val_microF1: 0.9148 - val_macroF1: 0.6676\n",
      "Epoch 51/100\n",
      "22500/22500 [==============================] - 22s 975us/step - loss: 0.1686 - microF1: 0.9358 - macroF1: 0.8650 - val_loss: 0.3632 - val_microF1: 0.9148 - val_macroF1: 0.6672\n"
     ]
    }
   ],
   "source": [
    "callbacks = [\n",
    "    ReduceLROnPlateau(),\n",
    "    EarlyStopping(patience=2)\n",
    "#     ModelCheckpoint(filepath='model-simple.h5', save_best_only=True)\n",
    "]\n",
    "\n",
    "history = model.fit(\n",
    "    X_train, y_train,\n",
    "    class_weight=class_weights,\n",
    "    epochs=100,\n",
    "    batch_size=1000,\n",
    "    validation_split=0.1,\n",
    "    callbacks=callbacks,\n",
    "    verbose = 1\n",
    ")"
   ]
  },
  {
   "cell_type": "code",
   "execution_count": 314,
   "metadata": {},
   "outputs": [
    {
     "data": {
      "text/plain": [
       "(25000, 455)"
      ]
     },
     "execution_count": 314,
     "metadata": {},
     "output_type": "execute_result"
    }
   ],
   "source": [
    "np.shape(X_test)"
   ]
  },
  {
   "cell_type": "code",
   "execution_count": 315,
   "metadata": {},
   "outputs": [
    {
     "name": "stdout",
     "output_type": "stream",
     "text": [
      "25000/25000 [==============================] - 6s 254us/step\n"
     ]
    },
    {
     "data": {
      "text/plain": [
       "[0.5094182186126709, 0.9034493243217468, 0.49392583874702456]"
      ]
     },
     "execution_count": 315,
     "metadata": {},
     "output_type": "execute_result"
    }
   ],
   "source": [
    "model.evaluate(X_test, y_test)"
   ]
  },
  {
   "cell_type": "code",
   "execution_count": 54,
   "metadata": {},
   "outputs": [
    {
     "data": {
      "text/plain": [
       "array(['cs', 'math', 'phys', 'q-bio', 'stat'], dtype=object)"
      ]
     },
     "execution_count": 54,
     "metadata": {},
     "output_type": "execute_result"
    }
   ],
   "source": [
    "np.unique(predicted_label_test)"
   ]
  },
  {
   "cell_type": "code",
   "execution_count": 48,
   "metadata": {},
   "outputs": [
    {
     "data": {
      "text/plain": [
       "array(['q-fin', 'phys', 'cs', ..., 'phys', 'phys', 'math'], dtype=object)"
      ]
     },
     "execution_count": 48,
     "metadata": {},
     "output_type": "execute_result"
    }
   ],
   "source": [
    "np.array(label_test)"
   ]
  },
  {
   "cell_type": "code",
   "execution_count": 39,
   "metadata": {},
   "outputs": [],
   "source": [
    "from sklearn.metrics import classification_report, confusion_matrix, f1_score"
   ]
  },
  {
   "cell_type": "code",
   "execution_count": 113,
   "metadata": {},
   "outputs": [
    {
     "name": "stderr",
     "output_type": "stream",
     "text": [
      "C:\\Anaconda3\\lib\\site-packages\\sklearn\\metrics\\classification.py:1143: UndefinedMetricWarning: F-score is ill-defined and being set to 0.0 in labels with no predicted samples.\n",
      "  'precision', 'predicted', average, warn_for)\n"
     ]
    },
    {
     "data": {
      "text/plain": [
       "0.42252345213456693"
      ]
     },
     "execution_count": 113,
     "metadata": {},
     "output_type": "execute_result"
    }
   ],
   "source": [
    "f1_score(np.array(label_test), predicted_label_test, average='macro')"
   ]
  },
  {
   "cell_type": "code",
   "execution_count": 351,
   "metadata": {},
   "outputs": [
    {
     "data": {
      "text/plain": [
       "array(['val_macroF1', 'microF1', 'macroF1', 'val_microF1'], dtype='<U11')"
      ]
     },
     "execution_count": 351,
     "metadata": {},
     "output_type": "execute_result"
    }
   ],
   "source": [
    "all_metrics = np.array(list(set(history.history.keys()) - set(['loss', 'val_loss', 'lr'])))  # WTF is lr?\n",
    "metrics"
   ]
  },
  {
   "cell_type": "code",
   "execution_count": 352,
   "metadata": {},
   "outputs": [
    {
     "data": {
      "text/plain": [
       "array(['microF1', 'macroF1'], dtype='<U11')"
      ]
     },
     "execution_count": 352,
     "metadata": {},
     "output_type": "execute_result"
    }
   ],
   "source": [
    "metrics[[not metric.startswith('val_') for metric in metrics]]"
   ]
  },
  {
   "cell_type": "code",
   "execution_count": 359,
   "metadata": {},
   "outputs": [
    {
     "data": {
      "text/plain": [
       "['*', 'o', 'd', '*', 'o', 'd']"
      ]
     },
     "execution_count": 359,
     "metadata": {},
     "output_type": "execute_result"
    }
   ],
   "source": [
    "['*',  'o', 'd']"
   ]
  },
  {
   "cell_type": "code",
   "execution_count": 361,
   "metadata": {},
   "outputs": [
    {
     "data": {
      "text/plain": [
       "[('*', '*'), ('o', 'o'), ('d', 'd')]"
      ]
     },
     "execution_count": 361,
     "metadata": {},
     "output_type": "execute_result"
    }
   ],
   "source": [
    "markers = ['*',  'o', 'd']\n",
    "marker = zip(markers, markers)\n",
    "list(marker)"
   ]
  },
  {
   "cell_type": "code",
   "execution_count": 362,
   "metadata": {},
   "outputs": [],
   "source": [
    "import matplotlib.pyplot as plt\n",
    "\n",
    "def plot_history(history):\n",
    "    \n",
    "    plt.figure(figsize=(12, 5))\n",
    "    \n",
    "    loss = history.history['loss']\n",
    "    x = range(1, len(loss) + 1)\n",
    "    val_loss = history.history['val_loss']\n",
    "    plt.subplot(1, 2, 1)    \n",
    "    plt.plot(x, loss, 'b', label='Training loss')\n",
    "    plt.plot(x, val_loss, 'r', label='Validation loss')\n",
    "    plt.title('Training and validation loss')  \n",
    "    plt.legend()\n",
    "    \n",
    "    all_metrics = np.array(list(set(history.history.keys()) - set(['loss', 'val_loss', 'lr'])))\n",
    "    metrics = all_metrics[[not metric.startswith('val_') for metric in all_metrics]]\n",
    "    plt.subplot(1, 2, 2)\n",
    "    markers = ['*',  'o', 'd']\n",
    "    marker = zip(markers, markers)\n",
    "    for metric in metrics:\n",
    "        results = history.history[metric]\n",
    "        val_results = history.history['val_'+metric]\n",
    "        mark1, mark2 = next(marker)\n",
    "        plt.plot(x, results, 'b'+mark1, label=metric)\n",
    "        plt.plot(x, val_results, 'r'+mark2, label='Validation '+metric)\n",
    "        plt.title('Training and validation metrics')\n",
    "        \n",
    "    plt.legend()"
   ]
  },
  {
   "cell_type": "code",
   "execution_count": 363,
   "metadata": {},
   "outputs": [
    {
     "data": {
      "image/png": "[encoded data removed]",
      "text/plain": [
       "<matplotlib.figure.Figure at 0x1f601340a58>"
      ]
     },
     "metadata": {},
     "output_type": "display_data"
    }
   ],
   "source": [
    "plt.style.use('ggplot')\n",
    "plot_history(history)"
   ]
  },
  {
   "cell_type": "code",
   "execution_count": null,
   "metadata": {},
   "outputs": [],
   "source": []
  },
  {
   "cell_type": "code",
   "execution_count": null,
   "metadata": {},
   "outputs": [],
   "source": []
  },
  {
   "cell_type": "code",
   "execution_count": null,
   "metadata": {},
   "outputs": [],
   "source": []
  }
 ],
 "metadata": {
  "kernelspec": {
   "display_name": "Python 3",
   "language": "python",
   "name": "python3"
  },
  "language_info": {
   "codemirror_mode": {
    "name": "ipython",
    "version": 3
   },
   "file_extension": ".py",
   "mimetype": "text/x-python",
   "name": "python",
   "nbconvert_exporter": "python",
   "pygments_lexer": "ipython3",
   "version": "3.6.7"
  }
 },
 "nbformat": 4,
 "nbformat_minor": 2
}
