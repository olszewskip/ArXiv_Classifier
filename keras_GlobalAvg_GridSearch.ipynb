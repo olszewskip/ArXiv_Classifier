{
 "cells": [
  {
   "cell_type": "code",
   "execution_count": 1,
   "metadata": {
    "colab": {
     "base_uri": "https://localhost:8080/",
     "height": 34
    },
    "colab_type": "code",
    "id": "X3aSyV_Gt3Ze",
    "outputId": "60083bff-94d1-46c2-fc5b-35a3b2a30d41"
   },
   "outputs": [
    {
     "data": {
      "text/plain": [
       "'/device:GPU:0'"
      ]
     },
     "execution_count": 1,
     "metadata": {
      "tags": []
     },
     "output_type": "execute_result"
    }
   ],
   "source": [
    "#from tensorflow import test\n",
    "#test.gpu_device_name()"
   ]
  },
  {
   "cell_type": "code",
   "execution_count": 2,
   "metadata": {
    "colab": {
     "base_uri": "https://localhost:8080/",
     "height": 34
    },
    "colab_type": "code",
    "id": "gCJcpOcZhju8",
    "outputId": "65f006cf-3bd9-4f97-890b-06f74a4a7b17"
   },
   "outputs": [
    {
     "name": "stdout",
     "output_type": "stream",
     "text": [
      "Drive already mounted at /content/gdrive; to attempt to forcibly remount, call drive.mount(\"/content/gdrive\", force_remount=True).\n"
     ]
    }
   ],
   "source": [
    "#from google.colab import drive\n",
    "#drive.mount('/content/gdrive')"
   ]
  },
  {
   "cell_type": "code",
   "execution_count": 0,
   "metadata": {
    "colab": {},
    "colab_type": "code",
    "id": "LNEzj3hshmwz"
   },
   "outputs": [],
   "source": [
    "#path = '/content/gdrive/My Drive/Colab Notebooks/ArXiv_Classifier'\n",
    "path = \"\""
   ]
  },
  {
   "cell_type": "code",
   "execution_count": 4,
   "metadata": {
    "colab": {
     "base_uri": "https://localhost:8080/",
     "height": 34
    },
    "colab_type": "code",
    "id": "dLEQ9p4ghaWn",
    "outputId": "ddab1579-4c7b-4532-b5e2-6a50ac128cfe"
   },
   "outputs": [
    {
     "name": "stderr",
     "output_type": "stream",
     "text": [
      "Using TensorFlow backend.\n"
     ]
    }
   ],
   "source": [
    "import os\n",
    "import pickle\n",
    "import json\n",
    "from itertools import cycle, product\n",
    "import pandas as pd\n",
    "\n",
    "import numpy as np\n",
    "np.random.seed(123)\n",
    "\n",
    "from tensorflow import set_random_seed\n",
    "set_random_seed(123)\n",
    "\n",
    "from keras.models import Sequential, save_model, load_model\n",
    "from keras.layers import *\n",
    "from keras import backend as K\n",
    "from sklearn.metrics import f1_score\n",
    "\n",
    "from keras.callbacks import ReduceLROnPlateau, EarlyStopping, Callback\n",
    "\n",
    "import matplotlib.pyplot as plt\n",
    "from seaborn import color_palette \n",
    "plt.style.use('seaborn')"
   ]
  },
  {
   "cell_type": "markdown",
   "metadata": {
    "colab_type": "text",
    "id": "IHJUPFYehaWw"
   },
   "source": [
    "# Summary\n",
    "I'm fitting the keras' embedding layer for a few epochs within the possibly simplest imaginable setup, namely with global averaging and softmax on top. This examinations in meant to be fairly inexpensive but broad, and serve to produce reasonable starting embeddings for more complicated net architectures and to compare various loss-functions/batch-sizes/optimizers. The choice of loss function is a somewhat non-trivial matter due to the class imbalance of our dataset and the stated objective of maximazing the macroF1 score.\n",
    "\n",
    "* Results land in the directory defined in the *working_dir* variable below.\n",
    "* Weights are stores as *blabla_weights.p* and they may be directly depickled into the *weights* argument of the Embedding layer (see the *load_embedd* method of the *BlackBox* class). \n",
    "* There are some nice plots below.\n",
    "\n",
    "We manage to establish an interesting benchmark for our dataset: the simple setup described above reproduces the performance of shallow classifiers, *macroF1*=80% on validation-data. Thus, at least neural nets are no-worse than SVMs and LogisticRegression. For other net architectures to carry their weight, they'll have to go beyond that."
   ]
  },
  {
   "cell_type": "markdown",
   "metadata": {
    "colab_type": "text",
    "id": "PzlhClNNhaWy"
   },
   "source": [
    "### Choose the directory where to store the results"
   ]
  },
  {
   "cell_type": "code",
   "execution_count": 0,
   "metadata": {
    "colab": {},
    "colab_type": "code",
    "id": "YWjlhAknhaWz"
   },
   "outputs": [],
   "source": [
    "#! mkdir keras_GlobalAvg_GridSearch_results\n",
    "working_dir = os.path.join(path, 'keras_GlobalAvg_GridSearch_results')"
   ]
  },
  {
   "cell_type": "markdown",
   "metadata": {
    "colab_type": "text",
    "id": "I8KJ8DkOhaW3"
   },
   "source": [
    "### Load in the test- and validation-data\n",
    "The test data is not used"
   ]
  },
  {
   "cell_type": "code",
   "execution_count": 0,
   "metadata": {
    "colab": {},
    "colab_type": "code",
    "id": "8x_xHtXchaW7"
   },
   "outputs": [],
   "source": [
    "#n_sample=30_000"
   ]
  },
  {
   "cell_type": "code",
   "execution_count": 0,
   "metadata": {
    "colab": {},
    "colab_type": "code",
    "id": "S5lybgsfhaW-"
   },
   "outputs": [],
   "source": [
    "X_train = np.load(os.path.join(path, \"data\", \"Kdata\", \"X_train.npy\"))#[-n_sample:]\n",
    "y_train = np.load(os.path.join(path, \"data\", \"Kdata\", \"y_train.npy\"))#[-n_sample:]\n",
    "X_val = np.load(os.path.join(path, \"data\", \"Kdata\", \"X_val.npy\"))#[-n_sample:]\n",
    "y_val = np.load(os.path.join(path, \"data\", \"Kdata\", \"y_val.npy\"))#[-n_sample:]"
   ]
  },
  {
   "cell_type": "code",
   "execution_count": 7,
   "metadata": {
    "colab": {
     "base_uri": "https://localhost:8080/",
     "height": 34
    },
    "colab_type": "code",
    "id": "woim5_YisPlY",
    "outputId": "ad45a058-59e4-4144-c0b2-0ed1efdc6973"
   },
   "outputs": [
    {
     "data": {
      "text/plain": [
       "((500000, 679), (500000, 6), (200000, 679), (200000, 6))"
      ]
     },
     "execution_count": 7,
     "metadata": {
      "tags": []
     },
     "output_type": "execute_result"
    }
   ],
   "source": [
    "X_train.shape, y_train.shape, X_val.shape, y_val.shape "
   ]
  },
  {
   "cell_type": "markdown",
   "metadata": {
    "colab_type": "text",
    "id": "spWBinP2haXJ"
   },
   "source": [
    "### Load in global parameters describing the data prepared in *keras_preprocessing.ipynb*\n",
    "* dimensions needed for the word embedding\n",
    "* number of classes\n",
    "* class-weights"
   ]
  },
  {
   "cell_type": "code",
   "execution_count": 8,
   "metadata": {
    "colab": {
     "base_uri": "https://localhost:8080/",
     "height": 119
    },
    "colab_type": "code",
    "id": "LWErJfOUhaXK",
    "outputId": "7068a5ac-a6c1-4389-b268-ea52141d8a44"
   },
   "outputs": [
    {
     "data": {
      "text/plain": [
       "{'class_weights': array([ 1.26825655,  0.72736371,  0.27602776, 13.23801959, 30.29201502,\n",
       "         9.49559404]),\n",
       " 'n_classes': 6,\n",
       " 'num_words': 277304,\n",
       " 'padded_length': 679,\n",
       " 'unique_words': 277303}"
      ]
     },
     "execution_count": 8,
     "metadata": {
      "tags": []
     },
     "output_type": "execute_result"
    }
   ],
   "source": [
    "global_params = pickle.load(open(os.path.join(path, \"global_params.p\"), \"rb\"))\n",
    "unique_words = global_params['unique_words']\n",
    "num_words = global_params['num_words']\n",
    "padded_length = global_params['padded_length']\n",
    "n_classes = global_params['n_classes']\n",
    "class_weights = global_params['class_weights']\n",
    "\n",
    "global_params"
   ]
  },
  {
   "cell_type": "markdown",
   "metadata": {
    "colab_type": "text",
    "id": "AtQeHC0ahaXS"
   },
   "source": [
    "### Load in custom loss functions and metrics\n",
    "* cat.-accuracy\n",
    "* macro-precision, macro-f1, macro-recall\n",
    "* cat.-crossentropy\n",
    "* a custom loss function, my_loss"
   ]
  },
  {
   "cell_type": "code",
   "execution_count": 9,
   "metadata": {
    "colab": {
     "base_uri": "https://localhost:8080/",
     "height": 153
    },
    "colab_type": "code",
    "id": "3B_Bgo4NhaXU",
    "outputId": "d0c4caff-8b87-46d4-e895-c056a03a1208"
   },
   "outputs": [
    {
     "data": {
      "text/plain": [
       "[<function __main__.cat_acc>,\n",
       " <function __main__.macroPrec>,\n",
       " <function __main__.macroF1>,\n",
       " <function __main__.macroRecall>,\n",
       " <function __main__.cat_cross>,\n",
       " <function __main__.fuzzy_macroF1_flip>,\n",
       " <function __main__.my_cross>,\n",
       " <function __main__.my_loss>]"
      ]
     },
     "execution_count": 9,
     "metadata": {
      "tags": []
     },
     "output_type": "execute_result"
    }
   ],
   "source": [
    "%run keras_custom_functions.ipynb\n",
    "\n",
    "#notebook1 = '/content/gdrive/My\\ Drive/Colab\\ Notebooks/ArXiv_Classifier/keras_custom_functions.ipynb'\n",
    "#%run $notebook1\n",
    "\n",
    "my_metrics = list(CUSTOM_OBJECTS.values())\n",
    "#my_metrics = ['categorical_accuracy', macroPrec, macroF1, macroRecall]\n",
    "my_metrics"
   ]
  },
  {
   "cell_type": "markdown",
   "metadata": {
    "colab_type": "text",
    "id": "K9ntiBiBhaXZ"
   },
   "source": [
    "### Load in wrappers for keras' sequential-model functionality"
   ]
  },
  {
   "cell_type": "code",
   "execution_count": 0,
   "metadata": {
    "colab": {},
    "colab_type": "code",
    "id": "VXt4mN08haXZ"
   },
   "outputs": [],
   "source": [
    "%run keras_plot_history.ipynb\n",
    "%run keras_blackbox_wrapper.ipynb\n",
    "\n",
    "# notebook2 = '/content/gdrive/My\\ Drive/Colab\\ Notebooks/ArXiv_Classifier/keras_plot_history.ipynb'\n",
    "# %run $notebook2\n",
    "\n",
    "# notebook3 = '/content/gdrive/My\\ Drive/Colab\\ Notebooks/ArXiv_Classifier/keras_blackbox_wrapper.ipynb'\n",
    "# %run $notebook3"
   ]
  },
  {
   "cell_type": "markdown",
   "metadata": {
    "colab_type": "text",
    "id": "8KEoCw0_haXc"
   },
   "source": [
    "---\n",
    "#### Define the model by specifying *layers* that go between Embedding() and Dense(n_classes, activation='softmax')"
   ]
  },
  {
   "cell_type": "code",
   "execution_count": 0,
   "metadata": {
    "colab": {},
    "colab_type": "code",
    "id": "1xocG0N4haXe"
   },
   "outputs": [],
   "source": [
    "layers = [Dropout(0.5),\n",
    "          GlobalAveragePooling1D()\n",
    "         ]"
   ]
  },
  {
   "cell_type": "markdown",
   "metadata": {
    "colab_type": "text",
    "id": "-G4kcOgVhaXf"
   },
   "source": [
    "---"
   ]
  },
  {
   "cell_type": "markdown",
   "metadata": {
    "colab_type": "text",
    "id": "GhSUFiGohaXh"
   },
   "source": [
    "# Quasi-grid-search\n",
    "* Define the sequential setup by specifiying the layers, and parameter scopes to search through.\n",
    "* Train for a fixed number of epochs.\n",
    "* Examine how different parameter combinations influence quality of the classification (measured by the resulting model's macro-F1 on the validation set)."
   ]
  },
  {
   "cell_type": "code",
   "execution_count": 12,
   "metadata": {
    "colab": {
     "base_uri": "https://localhost:8080/",
     "height": 34
    },
    "colab_type": "code",
    "id": "z0JpL_VEhaXh",
    "outputId": "82a8b203-d539-4ce1-ebcd-11794fae61dc"
   },
   "outputs": [
    {
     "name": "stdout",
     "output_type": "stream",
     "text": [
      "12 options in the cross-search, e.g. ('categorical_crossentropy', 100, 'adam')\n"
     ]
    }
   ],
   "source": [
    "# the options\n",
    "\n",
    "losses = ['categorical_crossentropy', my_loss]\n",
    "batch_sizes = [100, 200, 500]\n",
    "optimizers = ['adam', 'nadam']\n",
    "\n",
    "options = list(product(losses, batch_sizes, optimizers))\n",
    "n_options = len(options)\n",
    "print(f\"{n_options} options in the cross-search, e.g. {options[0]}\")"
   ]
  },
  {
   "cell_type": "code",
   "execution_count": 27,
   "metadata": {
    "colab": {
     "base_uri": "https://localhost:8080/",
     "height": 1445
    },
    "colab_type": "code",
    "id": "oDMLWtw2haXk",
    "outputId": "8f86d39f-0869-4fc6-f0b7-be995372ad51",
    "scrolled": false
   },
   "outputs": [
    {
     "name": "stdout",
     "output_type": "stream",
     "text": [
      "\n",
      "1/12\n",
      "loss=categorical_crossentropy, batch_size=100, optimizer=adam, explicit-class-weights: True, embedd-trainable: True\n",
      "Epoch 1/2\n",
      "500000/500000 [==============================] - 123s 245us/step - loss: 0.3358\n",
      "Epoch 2/2\n",
      "500000/500000 [==============================] - 122s 244us/step - loss: 0.1862\n",
      "\n",
      "2/12\n",
      "loss=categorical_crossentropy, batch_size=100, optimizer=nadam, explicit-class-weights: True, embedd-trainable: True\n",
      "Epoch 1/2\n",
      "500000/500000 [==============================] - 151s 301us/step - loss: 0.2703\n",
      "Epoch 2/2\n",
      "500000/500000 [==============================] - 150s 300us/step - loss: 0.1684\n",
      "\n",
      "3/12\n",
      "loss=categorical_crossentropy, batch_size=200, optimizer=adam, explicit-class-weights: True, embedd-trainable: True\n",
      "Epoch 1/2\n",
      "500000/500000 [==============================] - 77s 154us/step - loss: 0.4108\n",
      "Epoch 2/2\n",
      "500000/500000 [==============================] - 76s 153us/step - loss: 0.2063\n",
      "\n",
      "4/12\n",
      "loss=categorical_crossentropy, batch_size=200, optimizer=nadam, explicit-class-weights: True, embedd-trainable: True\n",
      "Epoch 1/2\n",
      "500000/500000 [==============================] - 90s 180us/step - loss: 0.3148\n",
      "Epoch 2/2\n",
      "500000/500000 [==============================] - 89s 179us/step - loss: 0.1774\n",
      "\n",
      "5/12\n",
      "loss=categorical_crossentropy, batch_size=500, optimizer=adam, explicit-class-weights: True, embedd-trainable: True\n",
      "Epoch 1/2\n",
      "500000/500000 [==============================] - 50s 100us/step - loss: 0.5812\n",
      "Epoch 2/2\n",
      "500000/500000 [==============================] - 49s 99us/step - loss: 0.2565\n",
      "\n",
      "6/12\n",
      "loss=categorical_crossentropy, batch_size=500, optimizer=nadam, explicit-class-weights: True, embedd-trainable: True\n",
      "Epoch 1/2\n",
      "500000/500000 [==============================] - 56s 112us/step - loss: 0.4223\n",
      "Epoch 2/2\n",
      "500000/500000 [==============================] - 55s 111us/step - loss: 0.2046\n",
      "\n",
      "7/12\n",
      "loss=my_loss, batch_size=100, optimizer=adam, explicit-class-weights: False, embedd-trainable: True\n",
      "Epoch 1/2\n",
      "500000/500000 [==============================] - 126s 252us/step - loss: 0.4338\n",
      "Epoch 2/2\n",
      "500000/500000 [==============================] - 125s 250us/step - loss: 0.3151\n",
      "\n",
      "8/12\n",
      "loss=my_loss, batch_size=100, optimizer=nadam, explicit-class-weights: False, embedd-trainable: True\n",
      "Epoch 1/2\n",
      "500000/500000 [==============================] - 153s 305us/step - loss: 0.3788\n",
      "Epoch 2/2\n",
      "500000/500000 [==============================] - 152s 304us/step - loss: 0.2950\n",
      "\n",
      "9/12\n",
      "loss=my_loss, batch_size=200, optimizer=adam, explicit-class-weights: False, embedd-trainable: True\n",
      "Epoch 1/2\n",
      "500000/500000 [==============================] - 78s 157us/step - loss: 0.4620\n",
      "Epoch 2/2\n",
      "500000/500000 [==============================] - 77s 154us/step - loss: 0.2819\n",
      "\n",
      "10/12\n",
      "loss=my_loss, batch_size=200, optimizer=nadam, explicit-class-weights: False, embedd-trainable: True\n",
      "Epoch 1/2\n",
      "500000/500000 [==============================] - 91s 182us/step - loss: 0.3739\n",
      "Epoch 2/2\n",
      "500000/500000 [==============================] - 90s 180us/step - loss: 0.2498\n",
      "\n",
      "11/12\n",
      "loss=my_loss, batch_size=500, optimizer=adam, explicit-class-weights: False, embedd-trainable: True\n",
      "Epoch 1/2\n",
      "500000/500000 [==============================] - 51s 102us/step - loss: 0.5612\n",
      "Epoch 2/2\n",
      "500000/500000 [==============================] - 50s 100us/step - loss: 0.2997\n",
      "\n",
      "12/12\n",
      "loss=my_loss, batch_size=500, optimizer=nadam, explicit-class-weights: False, embedd-trainable: True\n",
      "Epoch 1/2\n",
      "500000/500000 [==============================] - 57s 113us/step - loss: 0.4316\n",
      "Epoch 2/2\n",
      "500000/500000 [==============================] - 56s 111us/step - loss: 0.2308\n"
     ]
    }
   ],
   "source": [
    "# fit and evaluate on the validation data, loop through the options\n",
    "\n",
    "epochs = 2\n",
    "results = []\n",
    "\n",
    "def run_test(k):\n",
    "\n",
    "    loss, batch_size, optimizer = options[k-1]\n",
    "    print(f\"\\n{k}/{n_options}\")    \n",
    "\n",
    "    model = BlackBox(tag=f\"GS_{k}\",\\\n",
    "                     layers=layers, loss=loss, batch_size=batch_size, optimizer=optimizer,\\\n",
    "                     epochs=epochs, metrics=None)\n",
    "    model.fit(X_train, y_train, validate_on=None)\n",
    "    model.evaluate(X_val, y_val)\n",
    "    \n",
    "    result = (model.eval_df, model.loss_name, model.batch_size, model.optimizer)\n",
    "    results.append(result)\n",
    "    \n",
    "    #model.discard()\n",
    "    del model\n",
    "    #%reset_selective -f \"^model$\"\n",
    "    \n",
    "for k in range(1, n_options+1):\n",
    "    run_test(k)"
   ]
  },
  {
   "cell_type": "code",
   "execution_count": 28,
   "metadata": {
    "colab": {
     "base_uri": "https://localhost:8080/",
     "height": 452
    },
    "colab_type": "code",
    "id": "v3a9hWaHhaXo",
    "outputId": "7261ff04-933e-49d3-c8b7-914ca3317145"
   },
   "outputs": [
    {
     "data": {
      "text/html": [
       "<div>\n",
       "<style scoped>\n",
       "    .dataframe tbody tr th:only-of-type {\n",
       "        vertical-align: middle;\n",
       "    }\n",
       "\n",
       "    .dataframe tbody tr th {\n",
       "        vertical-align: top;\n",
       "    }\n",
       "\n",
       "    .dataframe thead th {\n",
       "        text-align: right;\n",
       "    }\n",
       "</style>\n",
       "<table border=\"1\" class=\"dataframe\">\n",
       "  <thead>\n",
       "    <tr style=\"text-align: right;\">\n",
       "      <th></th>\n",
       "      <th>macF1 on val</th>\n",
       "      <th>loss</th>\n",
       "      <th>batch</th>\n",
       "      <th>optimizer</th>\n",
       "    </tr>\n",
       "    <tr>\n",
       "      <th>GS_</th>\n",
       "      <th></th>\n",
       "      <th></th>\n",
       "      <th></th>\n",
       "      <th></th>\n",
       "    </tr>\n",
       "  </thead>\n",
       "  <tbody>\n",
       "    <tr>\n",
       "      <th>10</th>\n",
       "      <td>0.801137</td>\n",
       "      <td>my_loss</td>\n",
       "      <td>200</td>\n",
       "      <td>nadam</td>\n",
       "    </tr>\n",
       "    <tr>\n",
       "      <th>8</th>\n",
       "      <td>0.799744</td>\n",
       "      <td>my_loss</td>\n",
       "      <td>100</td>\n",
       "      <td>nadam</td>\n",
       "    </tr>\n",
       "    <tr>\n",
       "      <th>12</th>\n",
       "      <td>0.794556</td>\n",
       "      <td>my_loss</td>\n",
       "      <td>500</td>\n",
       "      <td>nadam</td>\n",
       "    </tr>\n",
       "    <tr>\n",
       "      <th>7</th>\n",
       "      <td>0.793317</td>\n",
       "      <td>my_loss</td>\n",
       "      <td>100</td>\n",
       "      <td>adam</td>\n",
       "    </tr>\n",
       "    <tr>\n",
       "      <th>9</th>\n",
       "      <td>0.790656</td>\n",
       "      <td>my_loss</td>\n",
       "      <td>200</td>\n",
       "      <td>adam</td>\n",
       "    </tr>\n",
       "    <tr>\n",
       "      <th>2</th>\n",
       "      <td>0.790513</td>\n",
       "      <td>categorical_crossentropy</td>\n",
       "      <td>100</td>\n",
       "      <td>nadam</td>\n",
       "    </tr>\n",
       "    <tr>\n",
       "      <th>4</th>\n",
       "      <td>0.776568</td>\n",
       "      <td>categorical_crossentropy</td>\n",
       "      <td>200</td>\n",
       "      <td>nadam</td>\n",
       "    </tr>\n",
       "    <tr>\n",
       "      <th>11</th>\n",
       "      <td>0.774886</td>\n",
       "      <td>my_loss</td>\n",
       "      <td>500</td>\n",
       "      <td>adam</td>\n",
       "    </tr>\n",
       "    <tr>\n",
       "      <th>1</th>\n",
       "      <td>0.767178</td>\n",
       "      <td>categorical_crossentropy</td>\n",
       "      <td>100</td>\n",
       "      <td>adam</td>\n",
       "    </tr>\n",
       "    <tr>\n",
       "      <th>6</th>\n",
       "      <td>0.719695</td>\n",
       "      <td>categorical_crossentropy</td>\n",
       "      <td>500</td>\n",
       "      <td>nadam</td>\n",
       "    </tr>\n",
       "    <tr>\n",
       "      <th>3</th>\n",
       "      <td>0.718796</td>\n",
       "      <td>categorical_crossentropy</td>\n",
       "      <td>200</td>\n",
       "      <td>adam</td>\n",
       "    </tr>\n",
       "    <tr>\n",
       "      <th>5</th>\n",
       "      <td>0.493419</td>\n",
       "      <td>categorical_crossentropy</td>\n",
       "      <td>500</td>\n",
       "      <td>adam</td>\n",
       "    </tr>\n",
       "  </tbody>\n",
       "</table>\n",
       "</div>"
      ],
      "text/plain": [
       "     macF1 on val                      loss  batch optimizer\n",
       "GS_                                                         \n",
       "10       0.801137                   my_loss    200     nadam\n",
       "8        0.799744                   my_loss    100     nadam\n",
       "12       0.794556                   my_loss    500     nadam\n",
       "7        0.793317                   my_loss    100      adam\n",
       "9        0.790656                   my_loss    200      adam\n",
       "2        0.790513  categorical_crossentropy    100     nadam\n",
       "4        0.776568  categorical_crossentropy    200     nadam\n",
       "11       0.774886                   my_loss    500      adam\n",
       "1        0.767178  categorical_crossentropy    100      adam\n",
       "6        0.719695  categorical_crossentropy    500     nadam\n",
       "3        0.718796  categorical_crossentropy    200      adam\n",
       "5        0.493419  categorical_crossentropy    500      adam"
      ]
     },
     "execution_count": 28,
     "metadata": {
      "tags": []
     },
     "output_type": "execute_result"
    }
   ],
   "source": [
    "# take macroF1 from the *results* list\n",
    "F1s = [[result[0].loc['macroF1'].iloc[0], *result[1:]] for result in results]\n",
    "F1s_df = pd.DataFrame(F1s, columns = ['macF1 on val', 'loss', 'batch', 'optimizer'])\n",
    "F1s_df.sort_values(by='macF1 on val', ascending=False, inplace=True)\n",
    "ranking = F1s_df.index\n",
    "\n",
    "F1s_df.index = F1s_df.index + 1\n",
    "F1s_df.index.name = \"GS_\"\n",
    "F1s_df"
   ]
  },
  {
   "cell_type": "markdown",
   "metadata": {
    "colab_type": "text",
    "id": "zzx2N_YbhaXt"
   },
   "source": [
    "### Commentary\n",
    "Remember that I have let the model fit for only two epochs. The differences are subject to statistical fluctuations due to shuffling of the data done by keras plus a hard-to-gauge bias introduced by initial embedding weights. Seeing as our simple neural network is not necessarilly very representative of more complicated nets it is not guaranteed that the winner of our search will always be best. Nonetheless the above results tell a fairly consistent story in the context of our data. **my_loss** is better than **cat-cross**. **nadam** is better than **adam**. And, in the range of the order of few hundreds, the smaller the batch_size the better but the gain from that is the least significant. The **batch_size=100 or =200** already seems small seeing as it will often not contain the least frequent classes (see the *arXiv_cleanup.ipynb*)."
   ]
  },
  {
   "cell_type": "code",
   "execution_count": 29,
   "metadata": {
    "colab": {
     "base_uri": "https://localhost:8080/",
     "height": 235
    },
    "colab_type": "code",
    "id": "C6X4fLtnhaXu",
    "outputId": "6f9ea24c-5b61-4769-b0e1-a4655ff09a75"
   },
   "outputs": [
    {
     "data": {
      "text/html": [
       "<div>\n",
       "<style scoped>\n",
       "    .dataframe tbody tr th:only-of-type {\n",
       "        vertical-align: middle;\n",
       "    }\n",
       "\n",
       "    .dataframe tbody tr th {\n",
       "        vertical-align: top;\n",
       "    }\n",
       "\n",
       "    .dataframe thead th {\n",
       "        text-align: right;\n",
       "    }\n",
       "</style>\n",
       "<table border=\"1\" class=\"dataframe\">\n",
       "  <thead>\n",
       "    <tr style=\"text-align: right;\">\n",
       "      <th></th>\n",
       "      <th>GS_10</th>\n",
       "      <th>GS_8</th>\n",
       "      <th>GS_12</th>\n",
       "      <th>GS_7</th>\n",
       "      <th>GS_9</th>\n",
       "      <th>GS_2</th>\n",
       "      <th>GS_4</th>\n",
       "      <th>GS_11</th>\n",
       "      <th>GS_1</th>\n",
       "      <th>GS_6</th>\n",
       "      <th>GS_3</th>\n",
       "      <th>GS_5</th>\n",
       "    </tr>\n",
       "  </thead>\n",
       "  <tbody>\n",
       "    <tr>\n",
       "      <th>cat_acc</th>\n",
       "      <td>0.928645</td>\n",
       "      <td>0.929175</td>\n",
       "      <td>0.924735</td>\n",
       "      <td>0.926030</td>\n",
       "      <td>0.922780</td>\n",
       "      <td>0.935075</td>\n",
       "      <td>0.934550</td>\n",
       "      <td>0.918125</td>\n",
       "      <td>0.933400</td>\n",
       "      <td>0.931410</td>\n",
       "      <td>0.930940</td>\n",
       "      <td>0.920445</td>\n",
       "    </tr>\n",
       "    <tr>\n",
       "      <th>cat_cross</th>\n",
       "      <td>0.302139</td>\n",
       "      <td>0.323016</td>\n",
       "      <td>0.284789</td>\n",
       "      <td>0.301734</td>\n",
       "      <td>0.294535</td>\n",
       "      <td>0.182009</td>\n",
       "      <td>0.183276</td>\n",
       "      <td>0.271817</td>\n",
       "      <td>0.187213</td>\n",
       "      <td>0.195858</td>\n",
       "      <td>0.197272</td>\n",
       "      <td>0.231377</td>\n",
       "    </tr>\n",
       "    <tr>\n",
       "      <th>macroF1</th>\n",
       "      <td>0.801137</td>\n",
       "      <td>0.799744</td>\n",
       "      <td>0.794556</td>\n",
       "      <td>0.793317</td>\n",
       "      <td>0.790656</td>\n",
       "      <td>0.790513</td>\n",
       "      <td>0.776568</td>\n",
       "      <td>0.774886</td>\n",
       "      <td>0.767178</td>\n",
       "      <td>0.719695</td>\n",
       "      <td>0.718796</td>\n",
       "      <td>0.493419</td>\n",
       "    </tr>\n",
       "    <tr>\n",
       "      <th>macroPrec</th>\n",
       "      <td>0.786658</td>\n",
       "      <td>0.766867</td>\n",
       "      <td>0.790672</td>\n",
       "      <td>0.765948</td>\n",
       "      <td>0.777611</td>\n",
       "      <td>0.841552</td>\n",
       "      <td>0.844071</td>\n",
       "      <td>0.786323</td>\n",
       "      <td>0.845496</td>\n",
       "      <td>0.856456</td>\n",
       "      <td>0.853158</td>\n",
       "      <td>0.741899</td>\n",
       "    </tr>\n",
       "    <tr>\n",
       "      <th>macroRecall</th>\n",
       "      <td>0.817406</td>\n",
       "      <td>0.842443</td>\n",
       "      <td>0.798639</td>\n",
       "      <td>0.827023</td>\n",
       "      <td>0.805166</td>\n",
       "      <td>0.751020</td>\n",
       "      <td>0.728225</td>\n",
       "      <td>0.764755</td>\n",
       "      <td>0.714007</td>\n",
       "      <td>0.650959</td>\n",
       "      <td>0.651315</td>\n",
       "      <td>0.472980</td>\n",
       "    </tr>\n",
       "    <tr>\n",
       "      <th>my_loss</th>\n",
       "      <td>0.206165</td>\n",
       "      <td>0.206528</td>\n",
       "      <td>0.216361</td>\n",
       "      <td>0.219055</td>\n",
       "      <td>0.225314</td>\n",
       "      <td>0.252615</td>\n",
       "      <td>0.267321</td>\n",
       "      <td>0.251682</td>\n",
       "      <td>0.279300</td>\n",
       "      <td>0.328928</td>\n",
       "      <td>0.330821</td>\n",
       "      <td>0.448973</td>\n",
       "    </tr>\n",
       "  </tbody>\n",
       "</table>\n",
       "</div>"
      ],
      "text/plain": [
       "                GS_10      GS_8     GS_12      GS_7      GS_9      GS_2  \\\n",
       "cat_acc      0.928645  0.929175  0.924735  0.926030  0.922780  0.935075   \n",
       "cat_cross    0.302139  0.323016  0.284789  0.301734  0.294535  0.182009   \n",
       "macroF1      0.801137  0.799744  0.794556  0.793317  0.790656  0.790513   \n",
       "macroPrec    0.786658  0.766867  0.790672  0.765948  0.777611  0.841552   \n",
       "macroRecall  0.817406  0.842443  0.798639  0.827023  0.805166  0.751020   \n",
       "my_loss      0.206165  0.206528  0.216361  0.219055  0.225314  0.252615   \n",
       "\n",
       "                 GS_4     GS_11      GS_1      GS_6      GS_3      GS_5  \n",
       "cat_acc      0.934550  0.918125  0.933400  0.931410  0.930940  0.920445  \n",
       "cat_cross    0.183276  0.271817  0.187213  0.195858  0.197272  0.231377  \n",
       "macroF1      0.776568  0.774886  0.767178  0.719695  0.718796  0.493419  \n",
       "macroPrec    0.844071  0.786323  0.845496  0.856456  0.853158  0.741899  \n",
       "macroRecall  0.728225  0.764755  0.714007  0.650959  0.651315  0.472980  \n",
       "my_loss      0.267321  0.251682  0.279300  0.328928  0.330821  0.448973  "
      ]
     },
     "execution_count": 29,
     "metadata": {
      "tags": []
     },
     "output_type": "execute_result"
    }
   ],
   "source": [
    "# see the other metrics as well\n",
    "eval_results = pd.concat([result[0] for result in results], axis=1)\n",
    "ordered_columns = eval_results.columns.values[ranking]\n",
    "eval_results[ordered_columns]"
   ]
  },
  {
   "cell_type": "markdown",
   "metadata": {
    "colab_type": "text",
    "id": "En-Kp0FUhaX1"
   },
   "source": [
    "### Commentary\n",
    "As we see, in order to boost the F1 score, it pays to have the precision and recall scores close. The best scoring model above does not have the highest precision or recall, it does not have the lowest cross-entropy either. \n"
   ]
  },
  {
   "cell_type": "markdown",
   "metadata": {
    "colab_type": "text",
    "id": "FAegVDGwhaX3"
   },
   "source": [
    "---\n",
    "(Kernel restart)"
   ]
  },
  {
   "cell_type": "markdown",
   "metadata": {
    "colab_type": "text",
    "id": "IuEI4k2chaX3"
   },
   "source": [
    "---"
   ]
  },
  {
   "cell_type": "markdown",
   "metadata": {
    "colab_type": "text",
    "id": "Ug5qcTP1haX4"
   },
   "source": [
    "## Longer fit of the two loss functions\n",
    "* Settle on *optimizer*=nadam and *batch_size*=200 (in this range of values the smaller the batch the longer it takes to fit the whole set, and the difference in perfmormance between 200 and 100 seems already small enough).\n",
    "* Compare the results obtained on a stretch of a few more epochs with different loss functions. Train with epoch-by-epoch validation-data passed to the fit method, and apply various metrics along the way.\n",
    "* Save embedding layers to files for later use."
   ]
  },
  {
   "cell_type": "code",
   "execution_count": 0,
   "metadata": {
    "colab": {},
    "colab_type": "code",
    "id": "hkpkRyadhaX5"
   },
   "outputs": [],
   "source": [
    "epochs=6"
   ]
  },
  {
   "cell_type": "markdown",
   "metadata": {
    "colab_type": "text",
    "id": "s2BkRlM2haX7"
   },
   "source": [
    "#### cat. crossentropy"
   ]
  },
  {
   "cell_type": "code",
   "execution_count": 0,
   "metadata": {
    "colab": {},
    "colab_type": "code",
    "id": "7CpFiD4ohaX8"
   },
   "outputs": [],
   "source": [
    "loss, batch_size, optimizer = 'categorical_crossentropy', 200, 'nadam'\n",
    "\n",
    "model1 = BlackBox(tag=\"GlobalAvg\",\\\n",
    "                  layers=layers, loss=loss, batch_size=batch_size, optimizer=optimizer,\\\n",
    "                  epochs=epochs, metrics=my_metrics)"
   ]
  },
  {
   "cell_type": "code",
   "execution_count": 26,
   "metadata": {
    "colab": {
     "base_uri": "https://localhost:8080/",
     "height": 292
    },
    "colab_type": "code",
    "id": "ctTvftIHhaX_",
    "outputId": "0895b742-edd4-4cae-c4bb-ecf065581b51"
   },
   "outputs": [
    {
     "name": "stdout",
     "output_type": "stream",
     "text": [
      "loss=categorical_crossentropy, batch_size=200, optimizer=nadam, explicit-class-weights: True, embedd-trainable: True\n",
      "Train on 500000 samples, validate on 200000 samples\n",
      "Epoch 1/6\n",
      "500000/500000 [==============================] - 96s 191us/step - loss: 0.3168 - cat_acc: 0.8946 - macroPrec: 0.5104 - macroF1: 0.4716 - macroRecall: 0.4577 - cat_cross: 0.3168 - fuzzy_macroF1_flip: 0.5270 - my_cross: 0.2193 - my_loss: 0.4962 - val_loss: 0.2008 - val_cat_acc: 0.9301 - val_macroPrec: 0.6936 - val_macroF1: 0.6230 - val_macroRecall: 0.5964 - val_cat_cross: 0.2008 - val_fuzzy_macroF1_flip: 0.4061 - val_my_cross: 0.1400 - val_my_loss: 0.3795\n",
      "Epoch 2/6\n",
      "500000/500000 [==============================] - 95s 190us/step - loss: 0.1782 - cat_acc: 0.9375 - macroPrec: 0.7518 - macroF1: 0.6935 - macroRecall: 0.6730 - cat_cross: 0.1782 - fuzzy_macroF1_flip: 0.3521 - my_cross: 0.1087 - my_loss: 0.3278 - val_loss: 0.1837 - val_cat_acc: 0.9345 - val_macroPrec: 0.7541 - val_macroF1: 0.7038 - val_macroRecall: 0.6875 - val_cat_cross: 0.1837 - val_fuzzy_macroF1_flip: 0.3394 - val_my_cross: 0.1071 - val_my_loss: 0.3162\n",
      "Epoch 3/6\n",
      "500000/500000 [==============================] - 95s 190us/step - loss: 0.1554 - cat_acc: 0.9447 - macroPrec: 0.7832 - macroF1: 0.7379 - macroRecall: 0.7237 - cat_cross: 0.1554 - fuzzy_macroF1_flip: 0.3081 - my_cross: 0.0866 - my_loss: 0.2860 - val_loss: 0.1811 - val_cat_acc: 0.9357 - val_macroPrec: 0.7643 - val_macroF1: 0.7141 - val_macroRecall: 0.6992 - val_cat_cross: 0.1811 - val_fuzzy_macroF1_flip: 0.3219 - val_my_cross: 0.1047 - val_my_loss: 0.3002\n",
      "Epoch 4/6\n",
      "500000/500000 [==============================] - 95s 190us/step - loss: 0.1409 - cat_acc: 0.9500 - macroPrec: 0.8059 - macroF1: 0.7662 - macroRecall: 0.7544 - cat_cross: 0.1409 - fuzzy_macroF1_flip: 0.2815 - my_cross: 0.0750 - my_loss: 0.2609 - val_loss: 0.1817 - val_cat_acc: 0.9360 - val_macroPrec: 0.7654 - val_macroF1: 0.7241 - val_macroRecall: 0.7137 - val_cat_cross: 0.1817 - val_fuzzy_macroF1_flip: 0.3134 - val_my_cross: 0.0996 - val_my_loss: 0.2920\n",
      "Epoch 5/6\n",
      "500000/500000 [==============================] - 95s 190us/step - loss: 0.1293 - cat_acc: 0.9541 - macroPrec: 0.8224 - macroF1: 0.7866 - macroRecall: 0.7760 - cat_cross: 0.1293 - fuzzy_macroF1_flip: 0.2618 - my_cross: 0.0656 - my_loss: 0.2422 - val_loss: 0.1847 - val_cat_acc: 0.9354 - val_macroPrec: 0.7647 - val_macroF1: 0.7241 - val_macroRecall: 0.7135 - val_cat_cross: 0.1847 - val_fuzzy_macroF1_flip: 0.3089 - val_my_cross: 0.1042 - val_my_loss: 0.2885\n",
      "Epoch 6/6\n",
      "500000/500000 [==============================] - 95s 190us/step - loss: 0.1199 - cat_acc: 0.9571 - macroPrec: 0.8321 - macroF1: 0.8014 - macroRecall: 0.7933 - cat_cross: 0.1199 - fuzzy_macroF1_flip: 0.2450 - my_cross: 0.0587 - my_loss: 0.2263 - val_loss: 0.1894 - val_cat_acc: 0.9347 - val_macroPrec: 0.7615 - val_macroF1: 0.7252 - val_macroRecall: 0.7186 - val_cat_cross: 0.1894 - val_fuzzy_macroF1_flip: 0.3051 - val_my_cross: 0.1039 - val_my_loss: 0.2850\n",
      "Last val_macroF1: 0.725174817353487\n"
     ]
    }
   ],
   "source": [
    "model1.fit(X_train, y_train, validate_on=(X_val, y_val))\n",
    "model1.save_embedd()\n",
    "model1.Ksave()\n",
    "model1.save_hist()"
   ]
  },
  {
   "cell_type": "code",
   "execution_count": 27,
   "metadata": {
    "colab": {
     "base_uri": "https://localhost:8080/",
     "height": 51
    },
    "colab_type": "code",
    "id": "KoLeDT6VhaYD",
    "outputId": "4a8d976b-2c33-482d-945c-6d4e27aa424b"
   },
   "outputs": [
    {
     "name": "stdout",
     "output_type": "stream",
     "text": [
      "Ovewriting the model.\n",
      "Overwriting the history.\n"
     ]
    }
   ],
   "source": [
    "# loading from file, in case the model was already saved\n",
    "model1.Kload()\n",
    "model1.load_hist()"
   ]
  },
  {
   "cell_type": "markdown",
   "metadata": {
    "colab_type": "text",
    "id": "UJ4ccf0ThaYK"
   },
   "source": [
    "Plot the learning history of the model. Only the train-data was used for fitting."
   ]
  },
  {
   "cell_type": "code",
   "execution_count": 28,
   "metadata": {
    "colab": {
     "base_uri": "https://localhost:8080/",
     "height": 420
    },
    "colab_type": "code",
    "id": "-uKQWblshaYM",
    "outputId": "e90af84f-7594-4897-aa86-f62cf32a2978"
   },
   "outputs": [
    {
     "name": "stdout",
     "output_type": "stream",
     "text": [
      "loss=categorical_crossentropy, batch_size=200, optimizer=nadam, explicit-class-weights: True, embedd-trainable: True\n"
     ]
    },
    {
     "data": {
      "image/png": "[encoded data removed]",
      "text/plain": [
       "<matplotlib.figure.Figure at 0x7fef776c90f0>"
      ]
     },
     "metadata": {
      "tags": []
     },
     "output_type": "display_data"
    }
   ],
   "source": [
    "model1.plot(with_loss=True)"
   ]
  },
  {
   "cell_type": "markdown",
   "metadata": {
    "colab_type": "text",
    "id": "ImPS-vkAhaYR"
   },
   "source": [
    "Predict classes for X's in validation data, and compute the interesting metrics using the validation y's.\n",
    "(see the *BlackBox().evaluate()* method)"
   ]
  },
  {
   "cell_type": "code",
   "execution_count": 29,
   "metadata": {
    "colab": {
     "base_uri": "https://localhost:8080/",
     "height": 235
    },
    "colab_type": "code",
    "id": "GMIibNqHhaYR",
    "outputId": "30a5544c-a8dc-4747-da2e-893f7668d7e0"
   },
   "outputs": [
    {
     "data": {
      "text/html": [
       "<div>\n",
       "<style scoped>\n",
       "    .dataframe tbody tr th:only-of-type {\n",
       "        vertical-align: middle;\n",
       "    }\n",
       "\n",
       "    .dataframe tbody tr th {\n",
       "        vertical-align: top;\n",
       "    }\n",
       "\n",
       "    .dataframe thead th {\n",
       "        text-align: right;\n",
       "    }\n",
       "</style>\n",
       "<table border=\"1\" class=\"dataframe\">\n",
       "  <thead>\n",
       "    <tr style=\"text-align: right;\">\n",
       "      <th></th>\n",
       "      <th>GlobalAvg</th>\n",
       "    </tr>\n",
       "  </thead>\n",
       "  <tbody>\n",
       "    <tr>\n",
       "      <th>cat_acc</th>\n",
       "      <td>0.934660</td>\n",
       "    </tr>\n",
       "    <tr>\n",
       "      <th>cat_cross</th>\n",
       "      <td>0.189407</td>\n",
       "    </tr>\n",
       "    <tr>\n",
       "      <th>macroF1</th>\n",
       "      <td>0.796605</td>\n",
       "    </tr>\n",
       "    <tr>\n",
       "      <th>macroPrec</th>\n",
       "      <td>0.832014</td>\n",
       "    </tr>\n",
       "    <tr>\n",
       "      <th>macroRecall</th>\n",
       "      <td>0.767818</td>\n",
       "    </tr>\n",
       "    <tr>\n",
       "      <th>my_loss</th>\n",
       "      <td>0.233137</td>\n",
       "    </tr>\n",
       "  </tbody>\n",
       "</table>\n",
       "</div>"
      ],
      "text/plain": [
       "             GlobalAvg\n",
       "cat_acc       0.934660\n",
       "cat_cross     0.189407\n",
       "macroF1       0.796605\n",
       "macroPrec     0.832014\n",
       "macroRecall   0.767818\n",
       "my_loss       0.233137"
      ]
     },
     "execution_count": 29,
     "metadata": {
      "tags": []
     },
     "output_type": "execute_result"
    }
   ],
   "source": [
    "model1.evaluate(X_val, y_val)"
   ]
  },
  {
   "cell_type": "markdown",
   "metadata": {
    "colab_type": "text",
    "id": "_nhQ8dANhaYU"
   },
   "source": [
    "#### custom loss function"
   ]
  },
  {
   "cell_type": "code",
   "execution_count": 0,
   "metadata": {
    "colab": {},
    "colab_type": "code",
    "id": "HD7M7CnOhaYV"
   },
   "outputs": [],
   "source": [
    "loss, batch_size, optimizer = my_loss, 200, 'nadam'\n",
    "\n",
    "model2 = BlackBox(tag=\"GlobalAvg\",\\\n",
    "                  layers=layers, loss=loss, batch_size=batch_size, optimizer=optimizer,\\\n",
    "                  epochs=epochs, metrics=my_metrics)"
   ]
  },
  {
   "cell_type": "code",
   "execution_count": 18,
   "metadata": {
    "colab": {
     "base_uri": "https://localhost:8080/",
     "height": 292
    },
    "colab_type": "code",
    "id": "UHNpexG0haYW",
    "outputId": "0bfac9d4-8708-4ee0-e326-d679e81676c4"
   },
   "outputs": [
    {
     "name": "stdout",
     "output_type": "stream",
     "text": [
      "loss=my_loss, batch_size=200, optimizer=nadam, explicit-class-weights: False, embedd-trainable: True\n",
      "Train on 500000 samples, validate on 200000 samples\n",
      "Epoch 1/6\n",
      "500000/500000 [==============================] - 96s 192us/step - loss: 0.3752 - cat_acc: 0.9010 - macroPrec: 0.6451 - macroF1: 0.6214 - macroRecall: 0.6255 - cat_cross: 0.3428 - fuzzy_macroF1_flip: 0.4005 - my_cross: 0.1477 - my_loss: 0.3752 - val_loss: 0.2750 - val_cat_acc: 0.9233 - val_macroPrec: 0.7291 - val_macroF1: 0.7254 - val_macroRecall: 0.7498 - val_cat_cross: 0.2891 - val_fuzzy_macroF1_flip: 0.2929 - val_my_cross: 0.1140 - val_my_loss: 0.2750\n",
      "Epoch 2/6\n",
      "500000/500000 [==============================] - 95s 191us/step - loss: 0.2488 - cat_acc: 0.9302 - macroPrec: 0.7547 - macroF1: 0.7521 - macroRecall: 0.7757 - cat_cross: 0.2850 - fuzzy_macroF1_flip: 0.2645 - my_cross: 0.1078 - my_loss: 0.2488 - val_loss: 0.2587 - val_cat_acc: 0.9287 - val_macroPrec: 0.7440 - val_macroF1: 0.7373 - val_macroRecall: 0.7577 - val_cat_cross: 0.3024 - val_fuzzy_macroF1_flip: 0.2731 - val_my_cross: 0.1286 - val_my_loss: 0.2587\n",
      "Epoch 3/6\n",
      "500000/500000 [==============================] - 95s 191us/step - loss: 0.2264 - cat_acc: 0.9376 - macroPrec: 0.7747 - macroF1: 0.7740 - macroRecall: 0.7981 - cat_cross: 0.2826 - fuzzy_macroF1_flip: 0.2401 - my_cross: 0.1028 - my_loss: 0.2264 - val_loss: 0.2535 - val_cat_acc: 0.9312 - val_macroPrec: 0.7475 - val_macroF1: 0.7403 - val_macroRecall: 0.7603 - val_cat_cross: 0.3120 - val_fuzzy_macroF1_flip: 0.2665 - val_my_cross: 0.1358 - val_my_loss: 0.2535\n",
      "Epoch 4/6\n",
      "500000/500000 [==============================] - 95s 191us/step - loss: 0.2094 - cat_acc: 0.9425 - macroPrec: 0.7927 - macroF1: 0.7915 - macroRecall: 0.8138 - cat_cross: 0.2778 - fuzzy_macroF1_flip: 0.2217 - my_cross: 0.0980 - my_loss: 0.2094 - val_loss: 0.2535 - val_cat_acc: 0.9325 - val_macroPrec: 0.7496 - val_macroF1: 0.7409 - val_macroRecall: 0.7598 - val_cat_cross: 0.3212 - val_fuzzy_macroF1_flip: 0.2653 - val_my_cross: 0.1469 - val_my_loss: 0.2535\n",
      "Epoch 5/6\n",
      "500000/500000 [==============================] - 95s 191us/step - loss: 0.1954 - cat_acc: 0.9465 - macroPrec: 0.8079 - macroF1: 0.8065 - macroRecall: 0.8265 - cat_cross: 0.2740 - fuzzy_macroF1_flip: 0.2065 - my_cross: 0.0953 - my_loss: 0.1954 - val_loss: 0.2524 - val_cat_acc: 0.9334 - val_macroPrec: 0.7536 - val_macroF1: 0.7428 - val_macroRecall: 0.7590 - val_cat_cross: 0.3277 - val_fuzzy_macroF1_flip: 0.2633 - val_my_cross: 0.1543 - val_my_loss: 0.2524\n",
      "Epoch 6/6\n",
      "500000/500000 [==============================] - 95s 190us/step - loss: 0.1882 - cat_acc: 0.9496 - macroPrec: 0.8135 - macroF1: 0.8128 - macroRecall: 0.8319 - cat_cross: 0.2695 - fuzzy_macroF1_flip: 0.1991 - my_cross: 0.0904 - my_loss: 0.1882 - val_loss: 0.2520 - val_cat_acc: 0.9333 - val_macroPrec: 0.7493 - val_macroF1: 0.7432 - val_macroRecall: 0.7638 - val_cat_cross: 0.3395 - val_fuzzy_macroF1_flip: 0.2627 - val_my_cross: 0.1560 - val_my_loss: 0.2520\n",
      "Last val_macroF1: 0.7432321557998657\n"
     ]
    }
   ],
   "source": [
    "model2.fit(X_train, y_train, validate_on=(X_val, y_val))\n",
    "model2.save_embedd()\n",
    "model2.Ksave()\n",
    "model2.save_hist()"
   ]
  },
  {
   "cell_type": "code",
   "execution_count": 21,
   "metadata": {
    "colab": {
     "base_uri": "https://localhost:8080/",
     "height": 51
    },
    "colab_type": "code",
    "id": "YO9RkhB5haYa",
    "outputId": "15b0a636-b057-492c-9f0e-12d4e97a981d"
   },
   "outputs": [
    {
     "name": "stdout",
     "output_type": "stream",
     "text": [
      "Ovewriting the model.\n",
      "Overwriting the history.\n"
     ]
    }
   ],
   "source": [
    "# loading from file, in case the model was already saved\n",
    "model2.Kload()\n",
    "model2.load_hist()"
   ]
  },
  {
   "cell_type": "markdown",
   "metadata": {
    "colab_type": "text",
    "id": "gH_xAHYGhaYc"
   },
   "source": [
    "Plot the learning history of the model. Only the train-data was used for fitting."
   ]
  },
  {
   "cell_type": "code",
   "execution_count": 22,
   "metadata": {
    "colab": {
     "base_uri": "https://localhost:8080/",
     "height": 420
    },
    "colab_type": "code",
    "id": "g75_-UvOhaYd",
    "outputId": "3f56002c-3176-447c-b131-bcbf45535e75"
   },
   "outputs": [
    {
     "name": "stdout",
     "output_type": "stream",
     "text": [
      "loss=my_loss, batch_size=200, optimizer=nadam, explicit-class-weights: False, embedd-trainable: True\n"
     ]
    },
    {
     "data": {
      "image/png": "[encoded data removed]",
      "text/plain": [
       "<matplotlib.figure.Figure at 0x7fef78702278>"
      ]
     },
     "metadata": {
      "tags": []
     },
     "output_type": "display_data"
    }
   ],
   "source": [
    "model2.plot(with_loss=True)"
   ]
  },
  {
   "cell_type": "markdown",
   "metadata": {
    "colab_type": "text",
    "id": "7wFFk11ihaYh"
   },
   "source": [
    "Predict classes for X's in validation data, and compute the interesting metrics using the validation y's.\n",
    "(see the *BlackBox().evaluate()* method)"
   ]
  },
  {
   "cell_type": "code",
   "execution_count": 23,
   "metadata": {
    "colab": {
     "base_uri": "https://localhost:8080/",
     "height": 235
    },
    "colab_type": "code",
    "id": "0gTGslB8haYh",
    "outputId": "c92ef64b-ad93-4684-b7f4-55584f7b42ee"
   },
   "outputs": [
    {
     "data": {
      "text/html": [
       "<div>\n",
       "<style scoped>\n",
       "    .dataframe tbody tr th:only-of-type {\n",
       "        vertical-align: middle;\n",
       "    }\n",
       "\n",
       "    .dataframe tbody tr th {\n",
       "        vertical-align: top;\n",
       "    }\n",
       "\n",
       "    .dataframe thead th {\n",
       "        text-align: right;\n",
       "    }\n",
       "</style>\n",
       "<table border=\"1\" class=\"dataframe\">\n",
       "  <thead>\n",
       "    <tr style=\"text-align: right;\">\n",
       "      <th></th>\n",
       "      <th>GlobalAvg</th>\n",
       "    </tr>\n",
       "  </thead>\n",
       "  <tbody>\n",
       "    <tr>\n",
       "      <th>cat_acc</th>\n",
       "      <td>0.933350</td>\n",
       "    </tr>\n",
       "    <tr>\n",
       "      <th>cat_cross</th>\n",
       "      <td>0.339455</td>\n",
       "    </tr>\n",
       "    <tr>\n",
       "      <th>macroF1</th>\n",
       "      <td>0.807053</td>\n",
       "    </tr>\n",
       "    <tr>\n",
       "      <th>macroPrec</th>\n",
       "      <td>0.795369</td>\n",
       "    </tr>\n",
       "    <tr>\n",
       "      <th>macroRecall</th>\n",
       "      <td>0.819668</td>\n",
       "    </tr>\n",
       "    <tr>\n",
       "      <th>my_loss</th>\n",
       "      <td>0.197296</td>\n",
       "    </tr>\n",
       "  </tbody>\n",
       "</table>\n",
       "</div>"
      ],
      "text/plain": [
       "             GlobalAvg\n",
       "cat_acc       0.933350\n",
       "cat_cross     0.339455\n",
       "macroF1       0.807053\n",
       "macroPrec     0.795369\n",
       "macroRecall   0.819668\n",
       "my_loss       0.197296"
      ]
     },
     "execution_count": 23,
     "metadata": {
      "tags": []
     },
     "output_type": "execute_result"
    }
   ],
   "source": [
    "model2.evaluate(X_val, y_val)"
   ]
  },
  {
   "cell_type": "markdown",
   "metadata": {
    "colab_type": "text",
    "id": "ZuVNptfahaYk"
   },
   "source": [
    "Metrics obtained with the two loss functions"
   ]
  },
  {
   "cell_type": "code",
   "execution_count": 31,
   "metadata": {
    "colab": {
     "base_uri": "https://localhost:8080/",
     "height": 111
    },
    "colab_type": "code",
    "id": "p7f25WtRhaYl",
    "outputId": "eee3483b-92be-4c88-d762-64ae1a294c8d"
   },
   "outputs": [
    {
     "data": {
      "text/html": [
       "<div>\n",
       "<style scoped>\n",
       "    .dataframe tbody tr th:only-of-type {\n",
       "        vertical-align: middle;\n",
       "    }\n",
       "\n",
       "    .dataframe tbody tr th {\n",
       "        vertical-align: top;\n",
       "    }\n",
       "\n",
       "    .dataframe thead th {\n",
       "        text-align: right;\n",
       "    }\n",
       "</style>\n",
       "<table border=\"1\" class=\"dataframe\">\n",
       "  <thead>\n",
       "    <tr style=\"text-align: right;\">\n",
       "      <th></th>\n",
       "      <th>cat_acc</th>\n",
       "      <th>cat_cross</th>\n",
       "      <th>macroF1</th>\n",
       "      <th>macroPrec</th>\n",
       "      <th>macroRecall</th>\n",
       "      <th>my_loss</th>\n",
       "    </tr>\n",
       "  </thead>\n",
       "  <tbody>\n",
       "    <tr>\n",
       "      <th>loss: cat. cross.</th>\n",
       "      <td>0.93466</td>\n",
       "      <td>0.189407</td>\n",
       "      <td>0.796605</td>\n",
       "      <td>0.832014</td>\n",
       "      <td>0.767818</td>\n",
       "      <td>0.233137</td>\n",
       "    </tr>\n",
       "    <tr>\n",
       "      <th>loss: my_loss</th>\n",
       "      <td>0.93335</td>\n",
       "      <td>0.339455</td>\n",
       "      <td>0.807053</td>\n",
       "      <td>0.795369</td>\n",
       "      <td>0.819668</td>\n",
       "      <td>0.197296</td>\n",
       "    </tr>\n",
       "  </tbody>\n",
       "</table>\n",
       "</div>"
      ],
      "text/plain": [
       "                   cat_acc  cat_cross   macroF1  macroPrec  macroRecall  \\\n",
       "loss: cat. cross.  0.93466   0.189407  0.796605   0.832014     0.767818   \n",
       "loss: my_loss      0.93335   0.339455  0.807053   0.795369     0.819668   \n",
       "\n",
       "                    my_loss  \n",
       "loss: cat. cross.  0.233137  \n",
       "loss: my_loss      0.197296  "
      ]
     },
     "execution_count": 31,
     "metadata": {
      "tags": []
     },
     "output_type": "execute_result"
    }
   ],
   "source": [
    "eval_together = pd.concat([model1.eval_df, model2.eval_df], axis=1)\n",
    "eval_together.columns = ['loss: cat. cross.', 'loss: my_loss']\n",
    "eval_together.T"
   ]
  },
  {
   "cell_type": "markdown",
   "metadata": {
    "colab_type": "text",
    "id": "5xCQRE65haYp"
   },
   "source": [
    "### Commentary\n",
    "* Looking at the validation scores: The *my_loss* function is better than *categorical crossentropy* at keeping the precision and recall equal. It actually emphasizes the recall more, so that it scores slightly better than precision. It is also faster in terms of increasing the F1 at starting epochs, which seems like an advantegous property of a loss function to be used on more complicated architectures. Still the difference in final F1 scores on validation data is not significant\n",
    "\n",
    "* On the other hand minimizing the categorical crossentropy is better at lowering *my_loss* than minimizing the *my_loss* is at lowering crossentropy.\n",
    "\n",
    "* Starting from about the 3rd epoch we see overfitting: the scores obtained directly on train-data are higher than on validation-data.\n",
    "\n",
    "* Recall that our final macro-F1 on test-data reached by the SVM was 80%. Here we have not yet looked at the test-data,  but, judging by the score on the validation-data, it seems that we have reproduced the result of a shallow classifier with a 50-dimensional embedding, global averaging, and a single softmax-layer. While the model had pretty quickly gotten close to this level, the 80% seems hard to go beyond. We will yet use the knowledge gained by our grid-search and the embeddings produced by the neural networks trained above in further modelling."
   ]
  },
  {
   "cell_type": "markdown",
   "metadata": {
    "colab_type": "text",
    "id": "n7kV41eohaYp"
   },
   "source": [
    "---\n",
    "### End"
   ]
  }
 ],
 "metadata": {
  "accelerator": "GPU",
  "colab": {
   "collapsed_sections": [],
   "name": "keras_GlobalAvg_GridSearch.ipynb",
   "provenance": [],
   "version": "0.3.2"
  },
  "kernelspec": {
   "display_name": "Python 3",
   "language": "python",
   "name": "python3"
  },
  "language_info": {
   "codemirror_mode": {
    "name": "ipython",
    "version": 3
   },
   "file_extension": ".py",
   "mimetype": "text/x-python",
   "name": "python",
   "nbconvert_exporter": "python",
   "pygments_lexer": "ipython3",
   "version": "3.6.7"
  }
 },
 "nbformat": 4,
 "nbformat_minor": 1
}
