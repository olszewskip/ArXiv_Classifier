{
 "cells": [
  {
   "cell_type": "code",
   "execution_count": 1,
   "metadata": {},
   "outputs": [
    {
     "name": "stderr",
     "output_type": "stream",
     "text": [
      "Using TensorFlow backend.\n"
     ]
    }
   ],
   "source": [
    "import os\n",
    "import pandas as pd\n",
    "import numpy as np\n",
    "import pickle\n",
    "import json\n",
    "from itertools import product\n",
    "\n",
    "from keras.models import Sequential, load_model\n",
    "from keras.layers import *\n",
    "\n",
    "from keras.callbacks import ReduceLROnPlateau, EarlyStopping, Callback\n",
    "\n",
    "import matplotlib.pyplot as plt\n",
    "plt.style.use('seaborn')"
   ]
  },
  {
   "cell_type": "markdown",
   "metadata": {},
   "source": [
    "# Summary\n",
    "I'm fitting the keras' embedding layer for a few epochs within the possibly simplest imaginable setup, namely with global averaging and softmax on top. This examinations in meant to be fairly inexpensive but broad, and serve to produce reasonable starting embeddings for more complicated net architectures and to compare various loss-functions/batch-sizes/optimizers. The choice of loss function is a somewhat non-trivial matter due to the class imbalance of our dataset and the stated objective of maximazing the macroF1 score.\n",
    "\n",
    "* Results land in the directory defined in the *working_dir* variable below.\n",
    "* Weights are stores as *blabla_weights.p* and they may be directly depickled into the *weights* argument of the Embedding layer (see the *Embedding* within *init* of the *BlackBox* class). \n",
    "* There are some nice plots below.\n",
    "\n",
    "We manage to establish an interesting benchmark for our dataset: the simple setup described above is almost manages to reproduce the performance of shallow classifiers, *macroF1*=80%. For other net architectures to carry their weight, they'll have to go beyond that."
   ]
  },
  {
   "cell_type": "markdown",
   "metadata": {},
   "source": [
    "---"
   ]
  },
  {
   "cell_type": "markdown",
   "metadata": {},
   "source": [
    "### Load the data in\n",
    "The test data is not used"
   ]
  },
  {
   "cell_type": "code",
   "execution_count": 2,
   "metadata": {},
   "outputs": [
    {
     "data": {
      "text/plain": [
       "{'unique_words': 277303,\n",
       " 'num_words': 277304,\n",
       " 'padded_length': 679,\n",
       " 'n_classes': 6,\n",
       " 'class_weights': array([ 1.26825655,  0.72736371,  0.27602776, 13.23801959, 30.29201502,\n",
       "         9.49559404])}"
      ]
     },
     "execution_count": 2,
     "metadata": {},
     "output_type": "execute_result"
    }
   ],
   "source": [
    "global_params = pickle.load(open(\"global_params.p\", \"rb\"))\n",
    "unique_words = global_params['unique_words']\n",
    "num_words = global_params['num_words']\n",
    "padded_length = global_params['padded_length']\n",
    "n_classes = global_params['n_classes']\n",
    "class_weights = global_params['class_weights']\n",
    "\n",
    "global_params"
   ]
  },
  {
   "cell_type": "code",
   "execution_count": 3,
   "metadata": {},
   "outputs": [],
   "source": [
    "X_train = np.load(os.path.join(\"data\", \"Kdata\", \"X_train.npy\"))\n",
    "y_train = np.load(os.path.join(\"data\", \"Kdata\", \"y_train.npy\"))\n",
    "X_val = np.load(os.path.join(\"data\", \"Kdata\", \"X_val.npy\"))\n",
    "y_val = np.load(os.path.join(\"data\", \"Kdata\", \"y_val.npy\"))"
   ]
  },
  {
   "cell_type": "markdown",
   "metadata": {},
   "source": [
    "---"
   ]
  },
  {
   "cell_type": "markdown",
   "metadata": {},
   "source": [
    "## Start of boilerplate"
   ]
  },
  {
   "cell_type": "markdown",
   "metadata": {},
   "source": [
    "### Some custom definitions\n",
    "* metrics\n",
    "* loss functions\n",
    "* learning hyper-parameters and settings"
   ]
  },
  {
   "cell_type": "code",
   "execution_count": 4,
   "metadata": {},
   "outputs": [],
   "source": [
    "from keras import backend as K\n",
    "\n",
    "# Custom metrics.\n",
    "# Note that any metric is computed per batch during training\n",
    "# (hence one needs large batches for it to make sense).\n",
    "# Also, there is the implicit 0.5 treshold in the K.round function below\n",
    "\n",
    "def macroPrec(y_true, y_pred):\n",
    "    \n",
    "    true_positives = K.sum(K.round(K.clip(y_true * y_pred, 0, 1)), axis=0)\n",
    "    positives = K.sum(K.round(y_pred), axis=0)\n",
    "    precision = true_positives / (positives + K.epsilon())\n",
    "\n",
    "    macroPrec = K.mean( precision )\n",
    "    \n",
    "    return macroPrec\n",
    "\n",
    "\n",
    "def macroRecall(y_true, y_pred):\n",
    "    \n",
    "    true_positives = K.sum(K.round(K.clip(y_true * y_pred, 0, 1)), axis=0)\n",
    "    actual_ones = K.sum(K.round(K.clip(y_true, 0, 1)), axis=0)\n",
    "    recall = true_positives / (actual_ones + K.epsilon())\n",
    "\n",
    "    macroRecall = K.mean( recall )\n",
    "    \n",
    "    return macroRecall\n",
    "\n",
    "\n",
    "def macroF1(y_true, y_pred):\n",
    "\n",
    "    true_positives = K.sum(K.round(K.clip(y_true * y_pred, 0, 1)), axis=0)\n",
    "    \n",
    "    actual_ones = K.sum(K.round(K.clip(y_true, 0, 1)), axis=0)\n",
    "    recall = true_positives / (actual_ones + K.epsilon())\n",
    "\n",
    "    positives = K.sum(K.round(K.clip(y_pred, 0, 1)), axis=0)\n",
    "    precision = true_positives / (positives + K.epsilon())\n",
    "    \n",
    "    macroF1 = 2 * K.mean( precision*recall / (precision + recall + K.epsilon()) )\n",
    "    \n",
    "    return macroF1\n",
    "\n",
    "\n",
    "\n",
    "# Custom loss functions\n",
    "# No clippping or rounding as those are not differentiable\n",
    "# Note to self: these functions are already taking into account class imbalances, so remeber\n",
    "# not to set the class_weight argument in fitting method when using them as the loss \n",
    "\n",
    "# semi macroF1\n",
    "def fuzzy_macroF1_flip(y_true, y_pred):\n",
    "\n",
    "    true_positives = K.sum(y_true * y_pred, axis=0)\n",
    "    \n",
    "    actual_ones = K.sum(y_true, axis=0)\n",
    "    recall = true_positives / (actual_ones + K.epsilon())\n",
    "\n",
    "    positives = K.sum(y_pred, axis=0)\n",
    "    precision = true_positives / (positives + K.epsilon())\n",
    "    \n",
    "    macroF1 = 2 * K.mean( precision*recall / (precision + recall + K.epsilon()) ) \n",
    "    \n",
    "    return 1-macroF1\n",
    "\n",
    "\n",
    "# weighted categorical crossentropy\n",
    "def my_crossE(y_true, y_pred):\n",
    "    \n",
    "    class_entropy = K.sum(y_true * K.log(y_pred+K.epsilon()), axis=0)\n",
    "    weighted_entropy = K.mean(class_weights * class_entropy)\n",
    "    return -4E-4 * weighted_entropy  # arbitrary coefficient to make it close to [0-1] interval\n",
    "\n",
    "\n",
    "# take average of the last two, because why not\n",
    "def my_loss(y_true, y_pred):\n",
    "    # return 0.5*(fuzzy_macroF1_flip(y_true, y_pred) + my_crossE(y_true, y_pred))\n",
    "    \n",
    "    true_positives = K.sum(y_true * y_pred, axis=0)\n",
    "    \n",
    "    actual_ones = K.sum(y_true, axis=0)\n",
    "    recall = true_positives / (actual_ones + K.epsilon())\n",
    "\n",
    "    positives = K.sum(y_pred, axis=0)\n",
    "    precision = true_positives / (positives + K.epsilon())\n",
    "    \n",
    "    macroF1p2 = K.mean( precision*recall / (precision + recall + K.epsilon()) )\n",
    "    \n",
    "    class_entropy = K.sum(y_true * K.log(y_pred+K.epsilon()), axis=0)\n",
    "    weighted_entropy = K.mean(class_weights * class_entropy)\n",
    "    \n",
    "    return 0.5 - macroF1p2 - 2E-4 * weighted_entropy"
   ]
  },
  {
   "cell_type": "code",
   "execution_count": 5,
   "metadata": {},
   "outputs": [],
   "source": [
    "my_metrics = [macroPrec, macroF1, macroRecall] #, my_crossE, fuzzy_macroF1_flip, my_loss]\n",
    "\n",
    "custom_objects={'macroPrec': macroPrec,\\\n",
    "                'macroF1': macroF1,\\\n",
    "                'macroRecall': macroRecall,\\\n",
    "                'my_crossE': my_crossE,\\\n",
    "                'fuzzy_macroF1_flip': fuzzy_macroF1_flip,\\\n",
    "                'my_loss': my_loss\n",
    "               }"
   ]
  },
  {
   "cell_type": "code",
   "execution_count": 6,
   "metadata": {},
   "outputs": [],
   "source": [
    "# auxiliary function\n",
    "# to plot the learning history,\n",
    "# i.e. loss and metrics on each train_batch and validation_batch\n",
    "def plot_history(history, with_lr=False):\n",
    "    \n",
    "    n_plots = 3 if with_lr else 2\n",
    "    plt.figure(figsize=(6*n_plots, 5))\n",
    "    \n",
    "    loss = history['loss']\n",
    "    val_loss = history['val_loss']\n",
    "    x = range(1, len(loss) + 1)\n",
    "    \n",
    "    plt.subplot(1, n_plots, 1)    \n",
    "    plt.plot(x, loss, 'ob', label='Training loss')\n",
    "    plt.plot(x, val_loss, '-b', label='Validation loss')\n",
    "    plt.title('Training and val losses') \n",
    "    plt.legend()\n",
    "    \n",
    "    all_metrics = np.array(list(set(history.keys()) - set(['loss', 'val_loss', 'lr'])))\n",
    "    metrics = all_metrics[[not metric.startswith('val_') for metric in all_metrics]]\n",
    "    plt.subplot(1, n_plots, 2)\n",
    "    markers = ['b', 'r',  'g', 'y', 'm', 'c', 'k']\n",
    "    marker = zip(markers, markers)\n",
    "    for metric in metrics:\n",
    "        results = history[metric]\n",
    "        val_results = history['val_'+metric]\n",
    "        mark1, mark2 = next(marker)\n",
    "        plt.plot(x, results, 'o'+mark1, label=metric)\n",
    "        plt.plot(x, val_results, '-'+mark2, label='Validation '+metric)\n",
    "        plt.title('Training and val metrics')\n",
    "    plt.legend()\n",
    "    \n",
    "    if with_lr:\n",
    "        plt.subplot(1, 3, 3)\n",
    "        lr = history['lr'] # learning rate\n",
    "        plt.plot(x, lr, 'k', label='Learning rate')\n",
    "        plt.title('Learning rate')  \n",
    "        plt.legend()\n",
    "    "
   ]
  },
  {
   "cell_type": "markdown",
   "metadata": {},
   "source": [
    "### Define a wrapper class for creating the classification model with embedding, fitting, etc.\n",
    "It creates an useful object using a list of intermediate layers as the main argument.\n",
    "Makes it easier to consistently use the chosen metrics, loss function, class_weights, embedding etc."
   ]
  },
  {
   "cell_type": "code",
   "execution_count": 7,
   "metadata": {},
   "outputs": [
    {
     "name": "stdout",
     "output_type": "stream",
     "text": [
      "mkdir: cannot create directory ‘keras_simpleGS_results’: File exists\r\n"
     ]
    }
   ],
   "source": [
    "working_dir = \"keras_simpleGS_results\"\n",
    "! mkdir keras_simpleGS_results"
   ]
  },
  {
   "cell_type": "code",
   "execution_count": 8,
   "metadata": {},
   "outputs": [],
   "source": [
    "# the workhorse\n",
    "class BlackBox():\n",
    "    \n",
    "    def __init__(self, layers, loss, batch_size, optimizer, epochs,\\\n",
    "                 metrics=my_metrics,\\\n",
    "                 verbose=0,\\\n",
    "                 callbacks=None,\\\n",
    "                 embedd = None, embedd_dims=[None]*3, train_weights=True,\\\n",
    "                 mask_zeros=True\n",
    "                ):\n",
    "        \n",
    "        self.layers = layers\n",
    "        self.loss = loss\n",
    "        self.loss_name = self.loss.__name__ if self.loss != 'categorical_crossentropy' else 'cat-cross'\n",
    "        self.batch_size = batch_size\n",
    "        self.epochs = epochs\n",
    "        self.optimizer = optimizer\n",
    "        self.metrics = metrics\n",
    "        self.verbose = verbose\n",
    "        self.callbacks = callbacks\n",
    "        if loss == 'categorical_crossentropy':\n",
    "            self.class_weight = class_weights\n",
    "        else:\n",
    "            self.class_weight = None\n",
    "        self.train_weigts = train_weights\n",
    "        self.mask_zeros = mask_zeros\n",
    "        \n",
    "        self.history = None\n",
    "        self.test_results = None\n",
    "        self.val_score = None\n",
    "                \n",
    "        self.model = Sequential()\n",
    "        if embedd:\n",
    "            self.input_dim = embedd_dims[0] # num_words\n",
    "            self.output_dim = embedd_dims[1] # dimension of the embedding space\n",
    "            self.input_length = embedd_dims[2] # padded_length\n",
    "            with open(embedd, \"rb\") as f:\n",
    "                self.embedd_weights = pickle.load(f)\n",
    "            \n",
    "            self.model.add(Embedding(input_dim=self.input_dim,\\\n",
    "                                     output_dim=self.output_dim,\\\n",
    "                                     input_length=self.input_length,\\\n",
    "                                     weights=self.embedd_weights,\\\n",
    "                                     trainable=self.train_weigts,\\\n",
    "                                     mask_zero=self.mask_zeros))\n",
    "            self.model.layers[0].trainable = self.train_weigts  # szczeżonego panbug szczeże\n",
    "            \n",
    "        for layer in layers:\n",
    "            self.model.add(layer)\n",
    "            \n",
    "        self.model.add(Dense(n_classes, activation='softmax'))\n",
    "        self.model.compile(loss=self.loss, optimizer=self.optimizer, metrics=self.metrics)\n",
    "        \n",
    "        self.name = f\"{self.loss_name}_batch{self.batch_size}_{self.optimizer}\"\n",
    "        self.describe = f\"loss={self.loss_name}, batch_size={self.batch_size}, optimizer={self.optimizer}, explicit-class-weights: {type(self.class_weight)==np.ndarray}, embedd-trainable: {self.model.layers[0].trainable}\"\n",
    "\n",
    "    \n",
    "    def summary(self):\n",
    "        print(self.describe)\n",
    "        return self.model.summary()\n",
    "    \n",
    "    def fit(self):\n",
    "        print(self.describe)\n",
    "              \n",
    "        self.history = self.model.fit(\n",
    "            X_train, y_train,\n",
    "            class_weight=self.class_weight,\n",
    "            epochs=self.epochs,\n",
    "            batch_size=self.batch_size,\n",
    "            #validation_split=0.1,\n",
    "            validation_data=(X_val, y_val),\n",
    "            callbacks=self.callbacks,\n",
    "            verbose = self.verbose        \n",
    "            ).history\n",
    "        self.val_score = self.history['val_macroF1'][-1]\n",
    "        print(f\"Last val_macroF1: {self.val_score}\")\n",
    "\n",
    "        \n",
    "    def evaluate(self, X_test, y_test):\n",
    "        \n",
    "        print(f'Loss function: {self.loss_name}. Metrics: {[metric.__name__ if callable(metric) else metric for metric in self.metrics]}')\n",
    "        print(\"Predicting for X_test, comparing with y_test\")\n",
    "        return self.model.evaluate(X_test, y_test)\n",
    "    \n",
    "    def plot(self, with_lr=False, from_file=False):\n",
    "        print(self.describe)\n",
    "        try:\n",
    "            if not from_file:\n",
    "                plot_history(self.history, with_lr=with_lr)\n",
    "            else:\n",
    "                hist = json.load(open(os.path.join(working_dir, f\"{self.name}_history.p\"), \"r\"))\n",
    "                plot_history(hist, with_lr=with_lr)\n",
    "        except:\n",
    "            print(\"nope!\")\n",
    "        \n",
    "    def save_embedd(self):\n",
    "        file = os.path.join(working_dir, f\"{self.name}_weights.p\")\n",
    "        with open(file, 'wb') as f:\n",
    "            pickle.dump(self.model.layers[0].get_weights(), f)\n",
    "        \n",
    "    def Ksave(self):\n",
    "        file = os.path.join(working_dir, f\"{self.name}_Kmodel.h5\")\n",
    "        self.model.save(file)\n",
    "        \n",
    "    def discard(self):\n",
    "        self.model = None\n",
    "    \n",
    "    def save_hist(self):\n",
    "        file = os.path.join(working_dir, f\"{self.name}_history.p\")\n",
    "        with open(file, 'w') as f:\n",
    "            json.dump(self.history, f)\n"
   ]
  },
  {
   "cell_type": "code",
   "execution_count": 9,
   "metadata": {},
   "outputs": [],
   "source": [
    "# # choose callbacks to be given in model.fit(...)\n",
    "\n",
    "\n",
    "# # If the embedding layer is given to BlackBox from a file\n",
    "# # and it is set to not be trainable,\n",
    "# # it may yet be unfrozen at a fixed epoch or by piggybacking on the ReducLROnPlateau callback\n",
    "\n",
    "# class WakeEmbedding(Callback):\n",
    "    \n",
    "#     def __init__(self, alarm_epoch, rel_lr_treshold=None):\n",
    "#         self.alarm_epoch\n",
    "#         self.rel_lr_treshold = rel_lr_treshold\n",
    "    \n",
    "#     def on_train_begin(self, logs={}):\n",
    "#         self.init_lr =  K.eval(self.model.optimizer.lr)\n",
    "        \n",
    "#     def on_epoch_begin(self, epoch, logs={}):\n",
    "#         if self.alam_epoch and epoch >= self.alam_epoch:\n",
    "#             self.model.layers[0].trainable = True\n",
    "#         if self.rel_lr_treshold:\n",
    "#             lr =  K.eval(self.model.optimizer.lr)\n",
    "#             if (lr / self.init_lr) <= self.rel_lr_treshold:\n",
    "#                 self.model.layers[0].trainable = True\n",
    "#         print(\"embedd-trainable:\", self.model.layers[0].trainable)\n",
    "\n",
    "        \n",
    "# # the early-stopping is monitoring the batchwise-macroF1 (which is risky)\n",
    "\n",
    "# def callbacks(wake_embedd=False):\n",
    "    \n",
    "#     callbacks = [ReduceLROnPlateau(factor=0.1,\\\n",
    "#                                    monitor='val_macroF1', mode='max', patience = 1),\n",
    "#                 EarlyStopping(monitor='val_macroF1', mode='max', patience=2)\n",
    "#                ]\n",
    "    \n",
    "#     return callbacks + [WakeEmbedding()] if wake_embedd else callbacks\n"
   ]
  },
  {
   "cell_type": "markdown",
   "metadata": {},
   "source": [
    "## End of boilerplate"
   ]
  },
  {
   "cell_type": "markdown",
   "metadata": {},
   "source": [
    "---\n",
    "---"
   ]
  },
  {
   "cell_type": "markdown",
   "metadata": {},
   "source": [
    "# Quasi-grid-search that optimizes the BlackBox\n",
    "* Define the sequential setup by specifiying the layers, and parameter scopes to search through.\n",
    "* Train for a fixed number of epochs.\n",
    "* Examine how different parameter combinations influence quality of the classification (measured by the resulting model's macro-F1 on the validation set)."
   ]
  },
  {
   "cell_type": "markdown",
   "metadata": {},
   "source": [
    "---"
   ]
  },
  {
   "cell_type": "code",
   "execution_count": 10,
   "metadata": {},
   "outputs": [],
   "source": [
    "# the setup\n",
    "\n",
    "layers = [Embedding(input_dim=num_words, output_dim=50, input_length=padded_length, mask_zero=True),\n",
    "          Dropout(0.5),\n",
    "          GlobalAveragePooling1D()\n",
    "         ]"
   ]
  },
  {
   "cell_type": "code",
   "execution_count": 13,
   "metadata": {},
   "outputs": [
    {
     "name": "stdout",
     "output_type": "stream",
     "text": [
      "12 options in the cross-search, e.g. (<function my_loss at 0x7f4d29db61e0>, 500, 'adam')\n"
     ]
    }
   ],
   "source": [
    "# the options\n",
    "\n",
    "losses = [my_loss, 'categorical_crossentropy']\n",
    "batch_sizes = [500, 800, 1000]\n",
    "optimizers = ['adam', 'nadam']\n",
    "\n",
    "options = list(product(losses, batch_sizes, optimizers))\n",
    "n_options = len(options)\n",
    "print(f\"{n_options} options in the cross-search, e.g. {options[0]}\")"
   ]
  },
  {
   "cell_type": "code",
   "execution_count": 16,
   "metadata": {
    "scrolled": false
   },
   "outputs": [
    {
     "name": "stdout",
     "output_type": "stream",
     "text": [
      "\n",
      "1/12\n",
      "loss=my_loss, batch_size=500, optimizer=adam, explicit-class-weights: False, embedd-trainable: True\n",
      "Train on 500000 samples, validate on 200000 samples\n",
      "Epoch 1/2\n",
      "500000/500000 [==============================] - 736s 1ms/step - loss: 0.3257 - macroPrec: 0.4501 - macroF1: 0.3849 - macroRecall: 0.3620 - val_loss: 0.2205 - val_macroPrec: 0.7746 - val_macroF1: 0.6613 - val_macroRecall: 0.6200\n",
      "Epoch 2/2\n",
      "500000/500000 [==============================] - 718s 1ms/step - loss: 0.1737 - macroPrec: 0.7841 - macroF1: 0.7364 - macroRecall: 0.7218 - val_loss: 0.1554 - val_macroPrec: 0.7747 - val_macroF1: 0.7500 - val_macroRecall: 0.7491\n",
      "Last val_macroF1: 0.7500360867381096\n",
      "\n",
      "2/12\n",
      "loss=my_loss, batch_size=500, optimizer=nadam, explicit-class-weights: False, embedd-trainable: True\n",
      "Train on 500000 samples, validate on 200000 samples\n",
      "Epoch 1/2\n",
      "500000/500000 [==============================] - 780s 2ms/step - loss: 0.2078 - macroPrec: 0.7081 - macroF1: 0.6522 - macroRecall: 0.6359 - val_loss: 0.1471 - val_macroPrec: 0.7733 - val_macroF1: 0.7601 - val_macroRecall: 0.7683\n",
      "Epoch 2/2\n",
      "500000/500000 [==============================] - 813s 2ms/step - loss: 0.1300 - macroPrec: 0.7941 - macroF1: 0.7898 - macroRecall: 0.8052 - val_loss: 0.1351 - val_macroPrec: 0.7793 - val_macroF1: 0.7735 - val_macroRecall: 0.7886\n",
      "Last val_macroF1: 0.7735363245010376\n",
      "\n",
      "3/12\n",
      "loss=my_loss, batch_size=800, optimizer=adam, explicit-class-weights: False, embedd-trainable: True\n",
      "Train on 500000 samples, validate on 200000 samples\n",
      "Epoch 1/2\n",
      "500000/500000 [==============================] - 626s 1ms/step - loss: 0.2779 - macroPrec: 0.6705 - macroF1: 0.5440 - macroRecall: 0.4984 - val_loss: 0.1783 - val_macroPrec: 0.8113 - val_macroF1: 0.7538 - val_macroRecall: 0.7239\n",
      "Epoch 2/2\n",
      "500000/500000 [==============================] - 615s 1ms/step - loss: 0.1471 - macroPrec: 0.8218 - macroF1: 0.7979 - macroRecall: 0.7908 - val_loss: 0.1494 - val_macroPrec: 0.7926 - val_macroF1: 0.7740 - val_macroRecall: 0.7728\n",
      "Last val_macroF1: 0.7740461661815643\n",
      "\n",
      "4/12\n",
      "loss=my_loss, batch_size=800, optimizer=nadam, explicit-class-weights: False, embedd-trainable: True\n",
      "Train on 500000 samples, validate on 200000 samples\n",
      "Epoch 1/2\n",
      "500000/500000 [==============================] - 663s 1ms/step - loss: 0.2019 - macroPrec: 0.7576 - macroF1: 0.6903 - macroRecall: 0.6684 - val_loss: 0.1467 - val_macroPrec: 0.7888 - val_macroF1: 0.7765 - val_macroRecall: 0.7803\n",
      "Epoch 2/2\n",
      "500000/500000 [==============================] - 730s 1ms/step - loss: 0.1259 - macroPrec: 0.8096 - macroF1: 0.8109 - macroRecall: 0.8266 - val_loss: 0.1366 - val_macroPrec: 0.7873 - val_macroF1: 0.7858 - val_macroRecall: 0.7995\n",
      "Last val_macroF1: 0.7857791392803192\n",
      "\n",
      "5/12\n",
      "loss=my_loss, batch_size=1000, optimizer=adam, explicit-class-weights: False, embedd-trainable: True\n",
      "Train on 500000 samples, validate on 200000 samples\n",
      "Epoch 1/2\n",
      "500000/500000 [==============================] - 614s 1ms/step - loss: 0.2774 - macroPrec: 0.6897 - macroF1: 0.5617 - macroRecall: 0.5163 - val_loss: 0.1757 - val_macroPrec: 0.8162 - val_macroF1: 0.7659 - val_macroRecall: 0.7380\n",
      "Epoch 2/2\n",
      "500000/500000 [==============================] - 586s 1ms/step - loss: 0.1446 - macroPrec: 0.8270 - macroF1: 0.8081 - macroRecall: 0.8021 - val_loss: 0.1496 - val_macroPrec: 0.7929 - val_macroF1: 0.7815 - val_macroRecall: 0.7840\n",
      "Last val_macroF1: 0.7814671802520752\n",
      "\n",
      "6/12\n",
      "loss=my_loss, batch_size=1000, optimizer=nadam, explicit-class-weights: False, embedd-trainable: True\n",
      "Train on 500000 samples, validate on 200000 samples\n",
      "Epoch 1/2\n",
      "500000/500000 [==============================] - 611s 1ms/step - loss: 0.2101 - macroPrec: 0.7516 - macroF1: 0.6846 - macroRecall: 0.6626 - val_loss: 0.1487 - val_macroPrec: 0.7893 - val_macroF1: 0.7815 - val_macroRecall: 0.7869\n",
      "Epoch 2/2\n",
      "500000/500000 [==============================] - 626s 1ms/step - loss: 0.1264 - macroPrec: 0.8127 - macroF1: 0.8180 - macroRecall: 0.8350 - val_loss: 0.1395 - val_macroPrec: 0.7842 - val_macroF1: 0.7876 - val_macroRecall: 0.8045\n",
      "Last val_macroF1: 0.7876001408696175\n",
      "\n",
      "7/12\n",
      "loss=cat-cross, batch_size=500, optimizer=adam, explicit-class-weights: True, embedd-trainable: True\n",
      "Train on 500000 samples, validate on 200000 samples\n",
      "Epoch 1/2\n",
      "500000/500000 [==============================] - 688s 1ms/step - loss: 0.3141 - macroPrec: 0.6458 - macroF1: 0.5331 - macroRecall: 0.4960 - val_loss: 0.2168 - val_macroPrec: 0.8192 - val_macroF1: 0.6853 - val_macroRecall: 0.6345\n",
      "Epoch 2/2\n",
      "500000/500000 [==============================] - 696s 1ms/step - loss: 0.2001 - macroPrec: 0.8452 - macroF1: 0.7532 - macroRecall: 0.7114 - val_loss: 0.2037 - val_macroPrec: 0.8220 - val_macroF1: 0.7411 - val_macroRecall: 0.7049\n",
      "Last val_macroF1: 0.7411315003037453\n",
      "\n",
      "8/12\n",
      "loss=cat-cross, batch_size=500, optimizer=nadam, explicit-class-weights: True, embedd-trainable: True\n",
      "Train on 500000 samples, validate on 200000 samples\n",
      "Epoch 1/2\n",
      "500000/500000 [==============================] - 758s 2ms/step - loss: 0.2957 - macroPrec: 0.6906 - macroF1: 0.5914 - macroRecall: 0.5553 - val_loss: 0.2028 - val_macroPrec: 0.8266 - val_macroF1: 0.7352 - val_macroRecall: 0.6948\n",
      "Epoch 2/2\n",
      "500000/500000 [==============================] - 780s 2ms/step - loss: 0.1862 - macroPrec: 0.8480 - macroF1: 0.7811 - macroRecall: 0.7518 - val_loss: 0.1943 - val_macroPrec: 0.8203 - val_macroF1: 0.7586 - val_macroRecall: 0.7307\n",
      "Last val_macroF1: 0.7585610404610634\n",
      "\n",
      "9/12\n",
      "loss=cat-cross, batch_size=800, optimizer=adam, explicit-class-weights: True, embedd-trainable: True\n",
      "Train on 500000 samples, validate on 200000 samples\n",
      "Epoch 1/2\n",
      "500000/500000 [==============================] - 624s 1ms/step - loss: 0.3209 - macroPrec: 0.6978 - macroF1: 0.5267 - macroRecall: 0.4792 - val_loss: 0.2120 - val_macroPrec: 0.8299 - val_macroF1: 0.6725 - val_macroRecall: 0.6139\n",
      "Epoch 2/2\n",
      "500000/500000 [==============================] - 613s 1ms/step - loss: 0.1902 - macroPrec: 0.8615 - macroF1: 0.7507 - macroRecall: 0.6982 - val_loss: 0.1968 - val_macroPrec: 0.8390 - val_macroF1: 0.7505 - val_macroRecall: 0.7050\n",
      "Last val_macroF1: 0.7505354590415955\n",
      "\n",
      "10/12\n",
      "loss=cat-cross, batch_size=800, optimizer=nadam, explicit-class-weights: True, embedd-trainable: True\n",
      "Train on 500000 samples, validate on 200000 samples\n",
      "Epoch 1/2\n",
      "500000/500000 [==============================] - 651s 1ms/step - loss: 0.3303 - macroPrec: 0.6839 - macroF1: 0.5532 - macroRecall: 0.5118 - val_loss: 0.2020 - val_macroPrec: 0.8517 - val_macroF1: 0.7167 - val_macroRecall: 0.6605\n",
      "Epoch 2/2\n",
      "500000/500000 [==============================] - 645s 1ms/step - loss: 0.1822 - macroPrec: 0.8688 - macroF1: 0.7823 - macroRecall: 0.7384 - val_loss: 0.1924 - val_macroPrec: 0.8367 - val_macroF1: 0.7641 - val_macroRecall: 0.7257\n",
      "Last val_macroF1: 0.7640703551769257\n",
      "\n",
      "11/12\n",
      "loss=cat-cross, batch_size=1000, optimizer=adam, explicit-class-weights: True, embedd-trainable: True\n",
      "Train on 500000 samples, validate on 200000 samples\n",
      "Epoch 1/2\n",
      "500000/500000 [==============================] - 587s 1ms/step - loss: 0.4643 - macroPrec: 0.5213 - macroF1: 0.3964 - macroRecall: 0.3688 - val_loss: 0.2362 - val_macroPrec: 0.8261 - val_macroF1: 0.5807 - val_macroRecall: 0.5275\n",
      "Epoch 2/2\n",
      "500000/500000 [==============================] - 601s 1ms/step - loss: 0.2034 - macroPrec: 0.8717 - macroF1: 0.6932 - macroRecall: 0.6286 - val_loss: 0.2022 - val_macroPrec: 0.8526 - val_macroF1: 0.7234 - val_macroRecall: 0.6647\n",
      "Last val_macroF1: 0.7233834239840508\n",
      "\n",
      "12/12\n",
      "loss=cat-cross, batch_size=1000, optimizer=nadam, explicit-class-weights: True, embedd-trainable: True\n",
      "Train on 500000 samples, validate on 200000 samples\n",
      "Epoch 1/2\n",
      "500000/500000 [==============================] - 609s 1ms/step - loss: 0.3044 - macroPrec: 0.7405 - macroF1: 0.5786 - macroRecall: 0.5277 - val_loss: 0.2002 - val_macroPrec: 0.8466 - val_macroF1: 0.7271 - val_macroRecall: 0.6706\n",
      "Epoch 2/2\n",
      "500000/500000 [==============================] - 612s 1ms/step - loss: 0.1794 - macroPrec: 0.8683 - macroF1: 0.7860 - macroRecall: 0.7400 - val_loss: 0.1915 - val_macroPrec: 0.8402 - val_macroF1: 0.7675 - val_macroRecall: 0.7277\n",
      "Last val_macroF1: 0.7674658605456353\n"
     ]
    }
   ],
   "source": [
    "# fit and validate for the epochs, loop through the options\n",
    "\n",
    "epochs = 2\n",
    "results = {}\n",
    "\n",
    "def run_test(k):\n",
    "\n",
    "    loss, batch_size, optimizer = options[k]\n",
    "    print(f\"\\n{k+1}/{n_options}\")    \n",
    "\n",
    "    model = BlackBox(layers=layers, loss=loss, batch_size=batch_size, optimizer=optimizer, epochs=epochs, verbose=1)\n",
    "    model.fit()\n",
    "    model.discard()\n",
    "     \n",
    "    results[k] = model\n",
    "\n",
    "    \n",
    "for k in range(n_options):\n",
    "    run_test(k)"
   ]
  },
  {
   "cell_type": "code",
   "execution_count": 17,
   "metadata": {},
   "outputs": [
    {
     "data": {
      "text/plain": [
       "[(6, 0.7876001408696175, 'my_loss', 1000, 'nadam'),\n",
       " (4, 0.7857791392803192, 'my_loss', 800, 'nadam'),\n",
       " (5, 0.7814671802520752, 'my_loss', 1000, 'adam'),\n",
       " (3, 0.7740461661815643, 'my_loss', 800, 'adam'),\n",
       " (2, 0.7735363245010376, 'my_loss', 500, 'nadam'),\n",
       " (12, 0.7674658605456353, 'cat-cross', 1000, 'nadam'),\n",
       " (10, 0.7640703551769257, 'cat-cross', 800, 'nadam'),\n",
       " (8, 0.7585610404610634, 'cat-cross', 500, 'nadam'),\n",
       " (9, 0.7505354590415955, 'cat-cross', 800, 'adam'),\n",
       " (1, 0.7500360867381096, 'my_loss', 500, 'adam'),\n",
       " (7, 0.7411315003037453, 'cat-cross', 500, 'adam'),\n",
       " (11, 0.7233834239840508, 'cat-cross', 1000, 'adam')]"
      ]
     },
     "execution_count": 17,
     "metadata": {},
     "output_type": "execute_result"
    }
   ],
   "source": [
    "# display results ordered by the macro-F1 on validation set obtained after the second epoch\n",
    "\n",
    "results_list = [(k+1, model.val_score, model.loss_name, model.batch_size, model.optimizer) for (k, model) in results.items()]\n",
    "ranking_list = sorted(results_list, key=lambda item: item[1], reverse = True)\n",
    "ranking_list"
   ]
  },
  {
   "cell_type": "markdown",
   "metadata": {},
   "source": [
    "### Commentary\n",
    "The differences are marginal. They are also subject to statistical fluctuations due to shuffling of the data done by keras plus a hard-to-gauge bias introduced by initial embedding weights. Seeing as our simple neural network is not necessarilly very representative of more complicated nets it is not guaranteed that the winner of our search will always be best. Nonetheless the above results tell a fairly consistent story in the context of our data. **my_loss** is better than **cat-cross**. **nadam** is better than **adam**. And, in the range of the order of few hundreds, the bigger the batch_size the better but the gain from that is the least significant and **batch_size=800** seems good enough. \n"
   ]
  },
  {
   "cell_type": "markdown",
   "metadata": {},
   "source": [
    "---"
   ]
  },
  {
   "cell_type": "markdown",
   "metadata": {},
   "source": [
    "Note: I did a kernel-reset here, reloaded the data, and consequently the keras session was restarted with a new seed (I guess) so that the starting weights below are different than above. (Which is not the best practice but at least we can check that the two runs give consistent results.) \n",
    "\n",
    "---"
   ]
  },
  {
   "cell_type": "markdown",
   "metadata": {},
   "source": [
    "### Longer fit of the two loss functions\n",
    "Let's settle on *optimizer*=nadam, *batch_size*=800, and compare the results obtained on a stretch of a few more epochs with different loss functions. "
   ]
  },
  {
   "cell_type": "code",
   "execution_count": 12,
   "metadata": {},
   "outputs": [
    {
     "name": "stdout",
     "output_type": "stream",
     "text": [
      "loss=my_loss, batch_size=800, optimizer=nadam, explicit-class-weights: False, embedd-trainable: True\n",
      "Train on 500000 samples, validate on 200000 samples\n",
      "Epoch 1/8\n",
      "500000/500000 [==============================] - 646s 1ms/step - loss: 0.2390 - macroPrec: 0.7000 - macroF1: 0.6118 - macroRecall: 0.5798 - val_loss: 0.1505 - val_macroPrec: 0.8024 - val_macroF1: 0.7803 - val_macroRecall: 0.7747\n",
      "Epoch 2/8\n",
      "500000/500000 [==============================] - 651s 1ms/step - loss: 0.1198 - macroPrec: 0.8328 - macroF1: 0.8271 - macroRecall: 0.8343 - val_loss: 0.1335 - val_macroPrec: 0.8012 - val_macroF1: 0.7934 - val_macroRecall: 0.8000\n",
      "Epoch 3/8\n",
      "500000/500000 [==============================] - 649s 1ms/step - loss: 0.1048 - macroPrec: 0.8416 - macroF1: 0.8437 - macroRecall: 0.8584 - val_loss: 0.1285 - val_macroPrec: 0.8035 - val_macroF1: 0.7992 - val_macroRecall: 0.8091\n",
      "Epoch 4/8\n",
      "500000/500000 [==============================] - 619s 1ms/step - loss: 0.0959 - macroPrec: 0.8515 - macroF1: 0.8560 - macroRecall: 0.8726 - val_loss: 0.1260 - val_macroPrec: 0.8074 - val_macroF1: 0.8032 - val_macroRecall: 0.8126\n",
      "Epoch 5/8\n",
      "500000/500000 [==============================] - 632s 1ms/step - loss: 0.0889 - macroPrec: 0.8623 - macroF1: 0.8670 - macroRecall: 0.8819 - val_loss: 0.1250 - val_macroPrec: 0.8053 - val_macroF1: 0.8047 - val_macroRecall: 0.8191\n",
      "Epoch 6/8\n",
      "500000/500000 [==============================] - 667s 1ms/step - loss: 0.0826 - macroPrec: 0.8729 - macroF1: 0.8777 - macroRecall: 0.8924 - val_loss: 0.1244 - val_macroPrec: 0.8061 - val_macroF1: 0.8054 - val_macroRecall: 0.8185\n",
      "Epoch 7/8\n",
      "500000/500000 [==============================] - 652s 1ms/step - loss: 0.0785 - macroPrec: 0.8777 - macroF1: 0.8832 - macroRecall: 0.8986 - val_loss: 0.1252 - val_macroPrec: 0.8095 - val_macroF1: 0.8060 - val_macroRecall: 0.8164\n",
      "Epoch 8/8\n",
      "500000/500000 [==============================] - 655s 1ms/step - loss: 0.0729 - macroPrec: 0.8872 - macroF1: 0.8933 - macroRecall: 0.9086 - val_loss: 0.1261 - val_macroPrec: 0.8120 - val_macroF1: 0.8045 - val_macroRecall: 0.8111\n",
      "Last val_macroF1: 0.8045273661613465\n",
      "loss=my_loss, batch_size=800, optimizer=nadam, explicit-class-weights: False, embedd-trainable: True\n"
     ]
    },
    {
     "data": {
      "image/png": "[encoded data removed]",
      "text/plain": [
       "<Figure size 864x360 with 2 Axes>"
      ]
     },
     "metadata": {
      "needs_background": "light"
     },
     "output_type": "display_data"
    }
   ],
   "source": [
    "loss, batch_size, optimizer = my_loss, 800, 'nadam'\n",
    "\n",
    "model = BlackBox(layers=layers, loss=loss, batch_size=batch_size, optimizer=optimizer, epochs=8, verbose=1)\n",
    "model.fit()\n",
    "model.save_embedd()\n",
    "model.Ksave()\n",
    "model.save_hist()\n",
    "model.discard()\n",
    "model.plot()"
   ]
  },
  {
   "cell_type": "markdown",
   "metadata": {},
   "source": [
    "(The macroF1 should be strictly between macroPrec and macroRecall. I'm not sure what sort of numerical inaccuracies are causing this, but this inequality doesn't seem to be necesarrily respected when the three values are close.)"
   ]
  },
  {
   "cell_type": "code",
   "execution_count": 11,
   "metadata": {},
   "outputs": [
    {
     "name": "stdout",
     "output_type": "stream",
     "text": [
      "loss=cat-cross, batch_size=800, optimizer=nadam, explicit-class-weights: True, embedd-trainable: True\n",
      "Train on 500000 samples, validate on 200000 samples\n",
      "Epoch 1/8\n",
      "500000/500000 [==============================] - 668s 1ms/step - loss: 0.5122 - macroPrec: 0.3870 - macroF1: 0.3580 - macroRecall: 0.3480 - val_loss: 0.2634 - val_macroPrec: 0.4557 - val_macroF1: 0.4510 - val_macroRecall: 0.4473\n",
      "Epoch 2/8\n",
      "500000/500000 [==============================] - 680s 1ms/step - loss: 0.2282 - macroPrec: 0.6095 - macroF1: 0.5077 - macroRecall: 0.4858 - val_loss: 0.2109 - val_macroPrec: 0.7663 - val_macroF1: 0.5922 - val_macroRecall: 0.5461\n",
      "Epoch 3/8\n",
      "500000/500000 [==============================] - 640s 1ms/step - loss: 0.1892 - macroPrec: 0.8330 - macroF1: 0.6816 - macroRecall: 0.6253 - val_loss: 0.1931 - val_macroPrec: 0.8371 - val_macroF1: 0.7173 - val_macroRecall: 0.6638\n",
      "Epoch 4/8\n",
      "500000/500000 [==============================] - 644s 1ms/step - loss: 0.1697 - macroPrec: 0.8583 - macroF1: 0.7626 - macroRecall: 0.7143 - val_loss: 0.1861 - val_macroPrec: 0.8357 - val_macroF1: 0.7523 - val_macroRecall: 0.7099\n",
      "Epoch 5/8\n",
      "500000/500000 [==============================] - 651s 1ms/step - loss: 0.1572 - macroPrec: 0.8651 - macroF1: 0.7924 - macroRecall: 0.7541 - val_loss: 0.1832 - val_macroPrec: 0.8387 - val_macroF1: 0.7647 - val_macroRecall: 0.7261\n",
      "Epoch 6/8\n",
      "500000/500000 [==============================] - 719s 1ms/step - loss: 0.1468 - macroPrec: 0.8756 - macroF1: 0.8134 - macroRecall: 0.7785 - val_loss: 0.1821 - val_macroPrec: 0.8390 - val_macroF1: 0.7726 - val_macroRecall: 0.7386\n",
      "Epoch 7/8\n",
      "500000/500000 [==============================] - 728s 1ms/step - loss: 0.1382 - macroPrec: 0.8821 - macroF1: 0.8280 - macroRecall: 0.7976 - val_loss: 0.1823 - val_macroPrec: 0.8371 - val_macroF1: 0.7799 - val_macroRecall: 0.7504\n",
      "Epoch 8/8\n",
      "500000/500000 [==============================] - 735s 1ms/step - loss: 0.1303 - macroPrec: 0.8891 - macroF1: 0.8406 - macroRecall: 0.8140 - val_loss: 0.1832 - val_macroPrec: 0.8373 - val_macroF1: 0.7815 - val_macroRecall: 0.7526\n",
      "Last val_macroF1: 0.781508514881134\n",
      "loss=cat-cross, batch_size=800, optimizer=nadam, explicit-class-weights: True, embedd-trainable: True\n"
     ]
    },
    {
     "data": {
      "image/png": "[encoded data removed]",
      "text/plain": [
       "<Figure size 864x360 with 2 Axes>"
      ]
     },
     "metadata": {
      "needs_background": "light"
     },
     "output_type": "display_data"
    }
   ],
   "source": [
    "loss, batch_size, optimizer = 'categorical_crossentropy', 800, 'nadam'\n",
    "\n",
    "model2 = BlackBox(layers=layers, loss=loss, batch_size=batch_size, optimizer=optimizer, epochs=8, verbose=1)\n",
    "model2.fit()\n",
    "model2.save_embedd()\n",
    "model2.Ksave()\n",
    "model2.save_hist()\n",
    "model2.discard()\n",
    "model2.plot()"
   ]
  },
  {
   "cell_type": "markdown",
   "metadata": {},
   "source": [
    "### Commentary\n",
    "* Looking at the validation scores: The *my_loss* function is better than *categorical crossentropy* at keeping the precision and recall equal. It actually emphasizes the recall more, so that - after 3rd epoch - it scores slightly better than precision. It also faster in terms of increasing the F1 at first epoch. The *cat-cross* on the other hand is able to quickly launch the precision beyond 80%, but the recall is not able to keep up and it then pulls the precision down at later epochs.\n",
    "\n",
    "* Starting from between 2nd and 4th epoch we see overfitting: the scores obtained directly on train-data are higher. Interestingly, here the cross-entropy seems more promising than on the validation set: it is able to overfit the recall without sacrificing the precision. Still, what matters is the validation score.\n",
    "\n",
    "* Recall that our final macro-F1 on test data reached by the SVM was 80%. Here we do not want to look at the test data just yet, but it seems that we have reproduced the result of a shallow classifier with a 50-dimensional embedding, global averaging, and a single softmax-layer."
   ]
  },
  {
   "cell_type": "markdown",
   "metadata": {},
   "source": [
    "---"
   ]
  },
  {
   "cell_type": "markdown",
   "metadata": {},
   "source": [
    "\n",
    "### End"
   ]
  }
 ],
 "metadata": {
  "kernelspec": {
   "display_name": "Python 3",
   "language": "python",
   "name": "python3"
  },
  "language_info": {
   "codemirror_mode": {
    "name": "ipython",
    "version": 3
   },
   "file_extension": ".py",
   "mimetype": "text/x-python",
   "name": "python",
   "nbconvert_exporter": "python",
   "pygments_lexer": "ipython3",
   "version": "3.6.7"
  }
 },
 "nbformat": 4,
 "nbformat_minor": 2
}
