{
 "cells": [
  {
   "cell_type": "code",
   "execution_count": 1,
   "metadata": {},
   "outputs": [
    {
     "name": "stderr",
     "output_type": "stream",
     "text": [
      "Using TensorFlow backend.\n"
     ]
    }
   ],
   "source": [
    "import os\n",
    "import pandas as pd\n",
    "import numpy as np\n",
    "import pickle\n",
    "\n",
    "from sklearn.utils.class_weight import compute_class_weight\n",
    "from keras.utils import to_categorical\n",
    "\n",
    "from keras.models import Sequential\n",
    "from keras.layers import *\n",
    "\n",
    "from keras.callbacks import ReduceLROnPlateau, EarlyStopping, ModelCheckpoint\n",
    "\n",
    "import matplotlib.pyplot as plt\n",
    "plt.style.use('seaborn')"
   ]
  },
  {
   "cell_type": "code",
   "execution_count": 2,
   "metadata": {},
   "outputs": [],
   "source": [
    "EMBEDD_FILE = os.path.join(\"gensim\", \"embedd_weights.npy\")\n",
    "X_FILE_BIN =  os.path.join(\"gensim\", \"embedded_X.npy\")\n",
    "Y_FILE_BIN =  os.path.join(\"gensim\", \"encoded_Y.npy\")"
   ]
  },
  {
   "cell_type": "code",
   "execution_count": 3,
   "metadata": {},
   "outputs": [],
   "source": [
    "embedd_weights = np.matrix(np.load(EMBEDD_FILE))"
   ]
  },
  {
   "cell_type": "code",
   "execution_count": 4,
   "metadata": {},
   "outputs": [
    {
     "data": {
      "text/plain": [
       "dtype('float32')"
      ]
     },
     "execution_count": 4,
     "metadata": {},
     "output_type": "execute_result"
    }
   ],
   "source": [
    "embedd_weights.dtype"
   ]
  },
  {
   "cell_type": "code",
   "execution_count": 5,
   "metadata": {},
   "outputs": [],
   "source": [
    "X = np.load(X_FILE_BIN)\n",
    "Y = np.load(Y_FILE_BIN)"
   ]
  },
  {
   "cell_type": "code",
   "execution_count": 6,
   "metadata": {},
   "outputs": [
    {
     "data": {
      "text/plain": [
       "dtype('int32')"
      ]
     },
     "execution_count": 6,
     "metadata": {},
     "output_type": "execute_result"
    }
   ],
   "source": [
    "X.dtype"
   ]
  },
  {
   "cell_type": "code",
   "execution_count": 7,
   "metadata": {},
   "outputs": [
    {
     "data": {
      "text/plain": [
       "((59717, 300), (838804, 679), (838804,))"
      ]
     },
     "execution_count": 7,
     "metadata": {},
     "output_type": "execute_result"
    }
   ],
   "source": [
    "embedd_weights.shape, X.shape, Y.shape"
   ]
  },
  {
   "cell_type": "code",
   "execution_count": 8,
   "metadata": {},
   "outputs": [],
   "source": [
    "NUM_WORDS = embedd_weights.shape[0]\n",
    "EMBEDD_DIM = embedd_weights.shape[1]\n",
    "PADDED_LEN = X.shape[1]"
   ]
  },
  {
   "cell_type": "code",
   "execution_count": 9,
   "metadata": {},
   "outputs": [],
   "source": [
    "n_total = X.shape[0]\n",
    "n_skip = 450_000 # 0\n",
    "n_train = 500_000\n",
    "n_val = 10_000 # 200_000\n",
    "n_test = n_total - n_train - n_val\n",
    "\n",
    "X_train = X[n_skip:n_train]\n",
    "Y_train = to_categorical(Y[n_skip:n_train])\n",
    "\n",
    "X_val = X[n_train:n_train+n_val]\n",
    "Y_val = to_categorical(Y[n_train:n_train+n_val])\n",
    "\n",
    "X_test = X[-n_test:]\n",
    "Y_test = to_categorical(Y[-n_test:])"
   ]
  },
  {
   "cell_type": "code",
   "execution_count": 10,
   "metadata": {},
   "outputs": [
    {
     "data": {
      "text/plain": [
       "array([ 0.27602776,  0.72736371, 13.23801959,  9.49559404, 30.29201502,\n",
       "        1.26825655])"
      ]
     },
     "execution_count": 10,
     "metadata": {},
     "output_type": "execute_result"
    }
   ],
   "source": [
    "# compute class weights for keras (obtained from the whole of train sample)\n",
    "\n",
    "classes = np.unique(Y[:n_train])\n",
    "n_classes = len(classes)\n",
    "\n",
    "class_weights = compute_class_weight('balanced', classes, Y[:n_train])  # ~ 1 / np.unique(Y, return_counts=True)[1]\n",
    "class_weights"
   ]
  },
  {
   "cell_type": "code",
   "execution_count": null,
   "metadata": {},
   "outputs": [],
   "source": []
  },
  {
   "cell_type": "code",
   "execution_count": 11,
   "metadata": {},
   "outputs": [],
   "source": [
    "from keras import backend as K\n",
    "\n",
    "# Custom metrics.\n",
    "# Note that any metric is computed per batch during training\n",
    "# (hence one needs large batches for it to make sense).\n",
    "# Also, there is the implicit 0.5 treshold in the K.round function below\n",
    "\n",
    "def macroPrec(y_true, y_pred):\n",
    "    \n",
    "    true_positives = K.sum(K.round(K.clip(y_true * y_pred, 0, 1)), axis=0)\n",
    "    positives = K.sum(K.round(y_pred), axis=0)\n",
    "    precision = true_positives / (positives + K.epsilon())\n",
    "\n",
    "    macroPrec = K.mean( precision )\n",
    "    \n",
    "    return macroPrec\n",
    "\n",
    "\n",
    "def macroRecall(y_true, y_pred):\n",
    "    \n",
    "    true_positives = K.sum(K.round(K.clip(y_true * y_pred, 0, 1)), axis=0)\n",
    "    actual_ones = K.sum(K.round(K.clip(y_true, 0, 1)), axis=0)\n",
    "    recall = true_positives / (actual_ones + K.epsilon())\n",
    "\n",
    "    macroRecall = K.mean( recall )\n",
    "    \n",
    "    return macroRecall\n",
    "\n",
    "\n",
    "def macroF1(y_true, y_pred):\n",
    "    \n",
    "    def recall(y_true, y_pred):\n",
    "\n",
    "        true_positives = K.sum(K.round(K.clip(y_true * y_pred, 0, 1)), axis=0)\n",
    "        actual_ones = K.sum(K.round(K.clip(y_true, 0, 1)), axis=0)\n",
    "        recall = true_positives / (actual_ones + K.epsilon())\n",
    "        return recall\n",
    "\n",
    "    \n",
    "    def precision(y_true, y_pred):\n",
    "        \n",
    "        true_positives = K.sum(K.round(K.clip(y_true * y_pred, 0, 1)), axis=0)\n",
    "        positives = K.sum(K.round(K.clip(y_pred, 0, 1)), axis=0)\n",
    "        precision = true_positives / (positives + K.epsilon())\n",
    "        return precision\n",
    "    \n",
    "    precision = precision(y_true, y_pred)\n",
    "    recall = recall(y_true, y_pred)\n",
    "    macroF1 = K.mean( 2*((precision*recall)/(precision+recall+K.epsilon())) )\n",
    "    \n",
    "    return macroF1\n",
    "\n",
    "\n",
    "\n",
    "# Custom loss functions\n",
    "# No clippping or rounding as those are not differentiable\n",
    "# These functions are already taking into account class imbalances, so remeber\n",
    "# not to set the class_weight argument in fitting method when using them as the loss \n",
    "\n",
    "def fuzzy_macroF1_flip(y_true, y_pred):\n",
    "    \n",
    "    def recall(y_true, y_pred):\n",
    "\n",
    "        true_positives = K.sum(y_true * y_pred, axis=0)\n",
    "        actual_ones = K.sum(y_true, axis=0)\n",
    "        recall = true_positives / (actual_ones + K.epsilon())\n",
    "        return recall\n",
    "\n",
    "    \n",
    "    def precision(y_true, y_pred):\n",
    "        \n",
    "        true_positives = K.sum(y_true * y_pred, axis=0)\n",
    "        positives = K.sum(y_pred, axis=0)\n",
    "        precision = true_positives / (positives + K.epsilon())\n",
    "        return precision\n",
    "    \n",
    "    precision = precision(y_true, y_pred)\n",
    "    recall = recall(y_true, y_pred)\n",
    "    macroF1 = K.mean( 2*((precision*recall)/(precision+recall+K.epsilon())) ) \n",
    "    \n",
    "    return 1-macroF1\n",
    "\n",
    "def w_cat_crossE(y_true, y_pred):\n",
    "    \n",
    "    class_entropy = K.sum(y_true * K.log(y_pred+K.epsilon()), axis=0)\n",
    "    weighted_entropy = class_weights * class_entropy\n",
    "    return -K.mean(weighted_entropy)/100"
   ]
  },
  {
   "cell_type": "code",
   "execution_count": 19,
   "metadata": {},
   "outputs": [],
   "source": [
    "# some other global learning settings\n",
    "\n",
    "batch_size = 2000\n",
    "patience = 4\n",
    "optimizer = 'adam' # 'rmsprop'\n",
    "my_loss = fuzzy_macroF1_flip\n",
    "my_metrics = ['categorical_accuracy', macroF1, w_cat_crossE] #, macroPrec, macroRecall]"
   ]
  },
  {
   "cell_type": "code",
   "execution_count": 20,
   "metadata": {},
   "outputs": [],
   "source": [
    "# auxiliary functions\n",
    "    \n",
    "# to plot the learning history,\n",
    "# i.e. loss and metrics on each train_batch and validation_batch\n",
    "def plot_history(history):\n",
    "    \n",
    "    plt.figure(figsize=(18, 5))\n",
    "    \n",
    "    loss = history.history['loss']\n",
    "    val_loss = history.history['val_loss']\n",
    "    x = range(1, len(loss) + 1)\n",
    "    \n",
    "    plt.subplot(1, 3, 1)    \n",
    "    plt.plot(x, loss, 'ob', label='Training loss')\n",
    "    plt.plot(x, val_loss, '-b', label='Validation loss')\n",
    "    plt.title('Training and val losses') \n",
    "    plt.legend()\n",
    "    \n",
    "    all_metrics = np.array(list(set(history.history.keys()) - set(['loss', 'val_loss', 'lr'])))\n",
    "    metrics = all_metrics[[not metric.startswith('val_') for metric in all_metrics]]\n",
    "    plt.subplot(1, 3, 2)\n",
    "    markers = ['b', 'r', 'g', 'y', 'c', 'm', 'k']\n",
    "    marker = zip(markers, markers)\n",
    "    for metric in metrics:\n",
    "        results = history.history[metric]\n",
    "        val_results = history.history['val_'+metric]\n",
    "        mark1, mark2 = next(marker)\n",
    "        plt.plot(x, results, 'o'+mark1, label=metric)\n",
    "        plt.plot(x, val_results, '-'+mark2, label='Validation '+metric)\n",
    "        plt.title('Training and val metrics')\n",
    "    plt.legend()\n",
    "    \n",
    "    plt.subplot(1, 3, 3)\n",
    "    lr = history.history['lr'] # learning rate\n",
    "    plt.plot(x, lr, 'k', label='Learning rate')\n",
    "    plt.title('Learning rate')  \n",
    "    plt.legend()\n",
    "    \n",
    "    \n",
    "# choose callback functions to be given in model.fit(...)\n",
    "def callbacks(LRfactor=0.8):\n",
    "    return [ReduceLROnPlateau(factor=LRfactor, patience = patience//2),\n",
    "            EarlyStopping(monitor='val_macroF1', mode='max', patience=patience)\n",
    "           ]"
   ]
  },
  {
   "cell_type": "markdown",
   "metadata": {},
   "source": [
    "---"
   ]
  },
  {
   "cell_type": "code",
   "execution_count": 45,
   "metadata": {},
   "outputs": [
    {
     "name": "stdout",
     "output_type": "stream",
     "text": [
      "_________________________________________________________________\n",
      "Layer (type)                 Output Shape              Param #   \n",
      "=================================================================\n",
      "embedding_6 (Embedding)      (None, 679, 300)          17915100  \n",
      "_________________________________________________________________\n",
      "conv1d_11 (Conv1D)           (None, 677, 48)           43248     \n",
      "_________________________________________________________________\n",
      "max_pooling1d_6 (MaxPooling1 (None, 168, 48)           0         \n",
      "_________________________________________________________________\n",
      "conv1d_12 (Conv1D)           (None, 165, 12)           2316      \n",
      "_________________________________________________________________\n",
      "flatten_6 (Flatten)          (None, 1980)              0         \n",
      "_________________________________________________________________\n",
      "dense_6 (Dense)              (None, 6)                 11886     \n",
      "=================================================================\n",
      "Total params: 17,972,550\n",
      "Trainable params: 17,972,550\n",
      "Non-trainable params: 0\n",
      "_________________________________________________________________\n"
     ]
    }
   ],
   "source": [
    "model = Sequential()\n",
    "model.add(Embedding(input_dim=NUM_WORDS, output_dim=EMBEDD_DIM, input_length=PADDED_LEN))\n",
    "model.add(Conv1D(48, 3))\n",
    "model.add(MaxPooling1D(8, 4))\n",
    "model.add(Conv1D(12, 4))\n",
    "model.add(Flatten())\n",
    "model.add(Dense(n_classes, activation='softmax'))\n",
    "model.summary()"
   ]
  },
  {
   "cell_type": "code",
   "execution_count": 49,
   "metadata": {},
   "outputs": [],
   "source": [
    "model.compile(loss='categorical_crossentropy', optimizer=optimizer, metrics=my_metrics)"
   ]
  },
  {
   "cell_type": "code",
   "execution_count": 50,
   "metadata": {},
   "outputs": [
    {
     "name": "stdout",
     "output_type": "stream",
     "text": [
      "Train on 50000 samples, validate on 50000 samples\n",
      "Epoch 1/30\n",
      "50000/50000 [==============================] - 290s 6ms/step - loss: 0.6016 - categorical_accuracy: 0.7940 - macroF1: 0.3117 - val_loss: 0.3832 - val_categorical_accuracy: 0.8792 - val_macroF1: 0.4184\n",
      "Epoch 2/30\n",
      "50000/50000 [==============================] - 263s 5ms/step - loss: 0.3092 - categorical_accuracy: 0.9005 - macroF1: 0.4376 - val_loss: 0.3036 - val_categorical_accuracy: 0.9019 - val_macroF1: 0.4419\n",
      "Epoch 3/30\n",
      "50000/50000 [==============================] - 270s 5ms/step - loss: 0.2225 - categorical_accuracy: 0.9272 - macroF1: 0.4651 - val_loss: 0.2901 - val_categorical_accuracy: 0.9072 - val_macroF1: 0.4509\n",
      "Epoch 4/30\n",
      "50000/50000 [==============================] - 265s 5ms/step - loss: 0.1621 - categorical_accuracy: 0.9474 - macroF1: 0.5415 - val_loss: 0.2968 - val_categorical_accuracy: 0.9086 - val_macroF1: 0.4730\n",
      "Epoch 5/30\n",
      "50000/50000 [==============================] - 269s 5ms/step - loss: 0.1081 - categorical_accuracy: 0.9657 - macroF1: 0.6675 - val_loss: 0.3135 - val_categorical_accuracy: 0.9098 - val_macroF1: 0.5569\n",
      "Epoch 6/30\n",
      "50000/50000 [==============================] - 275s 5ms/step - loss: 0.0643 - categorical_accuracy: 0.9824 - macroF1: 0.8298 - val_loss: 0.3434 - val_categorical_accuracy: 0.9092 - val_macroF1: 0.5836\n",
      "Epoch 7/30\n",
      "50000/50000 [==============================] - 280s 6ms/step - loss: 0.0388 - categorical_accuracy: 0.9911 - macroF1: 0.9185 - val_loss: 0.3768 - val_categorical_accuracy: 0.9091 - val_macroF1: 0.6274\n",
      "Epoch 8/30\n",
      "50000/50000 [==============================] - 262s 5ms/step - loss: 0.0224 - categorical_accuracy: 0.9961 - macroF1: 0.9599 - val_loss: 0.4080 - val_categorical_accuracy: 0.9087 - val_macroF1: 0.6405\n",
      "Epoch 9/30\n",
      "50000/50000 [==============================] - 263s 5ms/step - loss: 0.0140 - categorical_accuracy: 0.9981 - macroF1: 0.9815 - val_loss: 0.4369 - val_categorical_accuracy: 0.9086 - val_macroF1: 0.6548\n",
      "Epoch 10/30\n",
      "50000/50000 [==============================] - 260s 5ms/step - loss: 0.0093 - categorical_accuracy: 0.9992 - macroF1: 0.9883 - val_loss: 0.4586 - val_categorical_accuracy: 0.9083 - val_macroF1: 0.6586\n",
      "Epoch 11/30\n",
      "50000/50000 [==============================] - 263s 5ms/step - loss: 0.0068 - categorical_accuracy: 0.9995 - macroF1: 0.9939 - val_loss: 0.4780 - val_categorical_accuracy: 0.9078 - val_macroF1: 0.6650\n",
      "Epoch 12/30\n",
      "50000/50000 [==============================] - 269s 5ms/step - loss: 0.0052 - categorical_accuracy: 0.9998 - macroF1: 0.9955 - val_loss: 0.4916 - val_categorical_accuracy: 0.9080 - val_macroF1: 0.6662\n",
      "Epoch 13/30\n",
      "50000/50000 [==============================] - 268s 5ms/step - loss: 0.0043 - categorical_accuracy: 0.9998 - macroF1: 0.9963 - val_loss: 0.5047 - val_categorical_accuracy: 0.9077 - val_macroF1: 0.6695\n",
      "Epoch 14/30\n",
      "50000/50000 [==============================] - 260s 5ms/step - loss: 0.0036 - categorical_accuracy: 0.9998 - macroF1: 0.9968 - val_loss: 0.5128 - val_categorical_accuracy: 0.9076 - val_macroF1: 0.6740\n",
      "Epoch 15/30\n",
      "50000/50000 [==============================] - 260s 5ms/step - loss: 0.0032 - categorical_accuracy: 0.9999 - macroF1: 0.9970 - val_loss: 0.5218 - val_categorical_accuracy: 0.9073 - val_macroF1: 0.6740\n",
      "Epoch 16/30\n",
      "50000/50000 [==============================] - 260s 5ms/step - loss: 0.0028 - categorical_accuracy: 0.9999 - macroF1: 0.9969 - val_loss: 0.5290 - val_categorical_accuracy: 0.9075 - val_macroF1: 0.6733\n",
      "Epoch 17/30\n",
      "50000/50000 [==============================] - 256s 5ms/step - loss: 0.0025 - categorical_accuracy: 0.9999 - macroF1: 0.9976 - val_loss: 0.5355 - val_categorical_accuracy: 0.9075 - val_macroF1: 0.6738\n",
      "Epoch 18/30\n",
      "50000/50000 [==============================] - 255s 5ms/step - loss: 0.0023 - categorical_accuracy: 0.9999 - macroF1: 0.9981 - val_loss: 0.5400 - val_categorical_accuracy: 0.9074 - val_macroF1: 0.6738\n"
     ]
    }
   ],
   "source": [
    "history = model.fit(X_train,Y_train,\n",
    "                    class_weight=class_weights,\n",
    "                    epochs=30,\n",
    "                    batch_size=batch_size,\n",
    "                    validation_data=(X_val, Y_val),\n",
    "                    callbacks=callbacks())"
   ]
  },
  {
   "cell_type": "markdown",
   "metadata": {},
   "source": [
    "---"
   ]
  },
  {
   "cell_type": "code",
   "execution_count": 24,
   "metadata": {},
   "outputs": [
    {
     "name": "stdout",
     "output_type": "stream",
     "text": [
      "_________________________________________________________________\n",
      "Layer (type)                 Output Shape              Param #   \n",
      "=================================================================\n",
      "embedding_4 (Embedding)      (None, 679, 300)          17915100  \n",
      "_________________________________________________________________\n",
      "conv1d_7 (Conv1D)            (None, 677, 48)           43248     \n",
      "_________________________________________________________________\n",
      "max_pooling1d_4 (MaxPooling1 (None, 168, 48)           0         \n",
      "_________________________________________________________________\n",
      "conv1d_8 (Conv1D)            (None, 165, 12)           2316      \n",
      "_________________________________________________________________\n",
      "flatten_4 (Flatten)          (None, 1980)              0         \n",
      "_________________________________________________________________\n",
      "dense_4 (Dense)              (None, 6)                 11886     \n",
      "=================================================================\n",
      "Total params: 17,972,550\n",
      "Trainable params: 57,450\n",
      "Non-trainable params: 17,915,100\n",
      "_________________________________________________________________\n"
     ]
    }
   ],
   "source": [
    "model2 = Sequential()\n",
    "model2.add(Embedding(input_dim=NUM_WORDS, output_dim=EMBEDD_DIM, input_length=PADDED_LEN,\\\n",
    "                     weights=[embedd_weights], trainable=False))\n",
    "model2.add(Conv1D(48, 3))\n",
    "model2.add(MaxPooling1D(8, 4))\n",
    "model2.add(Conv1D(12, 4))\n",
    "model2.add(Flatten())\n",
    "model2.add(Dense(n_classes, activation='softmax'))\n",
    "model2.summary()"
   ]
  },
  {
   "cell_type": "code",
   "execution_count": 25,
   "metadata": {},
   "outputs": [],
   "source": [
    "model2.compile(loss='categorical_crossentropy', optimizer=optimizer, metrics=my_metrics)"
   ]
  },
  {
   "cell_type": "code",
   "execution_count": 26,
   "metadata": {},
   "outputs": [
    {
     "name": "stdout",
     "output_type": "stream",
     "text": [
      "Train on 50000 samples, validate on 10000 samples\n",
      "Epoch 1/30\n",
      "50000/50000 [==============================] - 150s 3ms/step - loss: 1.3390 - categorical_accuracy: 0.5838 - macroF1: 0.0602 - w_cat_crossE: 8.3672 - val_loss: 1.0983 - val_categorical_accuracy: 0.5967 - val_macroF1: 0.1257 - val_w_cat_crossE: 10.6121\n",
      "Epoch 2/30\n",
      "50000/50000 [==============================] - 149s 3ms/step - loss: 1.0736 - categorical_accuracy: 0.6024 - macroF1: 0.1254 - w_cat_crossE: 10.0598 - val_loss: 1.0647 - val_categorical_accuracy: 0.5967 - val_macroF1: 0.1245 - val_w_cat_crossE: 9.2511\n",
      "Epoch 3/30\n",
      "50000/50000 [==============================] - 148s 3ms/step - loss: 1.0587 - categorical_accuracy: 0.6024 - macroF1: 0.1253 - w_cat_crossE: 9.9541 - val_loss: 1.0527 - val_categorical_accuracy: 0.5967 - val_macroF1: 0.1245 - val_w_cat_crossE: 9.6521\n",
      "Epoch 4/30\n",
      "50000/50000 [==============================] - 148s 3ms/step - loss: 1.0415 - categorical_accuracy: 0.6024 - macroF1: 0.1253 - w_cat_crossE: 9.8550 - val_loss: 1.0247 - val_categorical_accuracy: 0.5967 - val_macroF1: 0.1246 - val_w_cat_crossE: 9.5963\n",
      "Epoch 5/30\n",
      "50000/50000 [==============================] - 148s 3ms/step - loss: 1.0052 - categorical_accuracy: 0.6091 - macroF1: 0.1262 - w_cat_crossE: 9.7691 - val_loss: 0.9810 - val_categorical_accuracy: 0.6298 - val_macroF1: 0.1235 - val_w_cat_crossE: 9.2902\n"
     ]
    },
    {
     "data": {
      "text/plain": [
       "<keras.callbacks.History at 0x21285e0ff98>"
      ]
     },
     "execution_count": 26,
     "metadata": {},
     "output_type": "execute_result"
    }
   ],
   "source": [
    "model2.fit(X_train, Y_train,\\\n",
    "           class_weight=class_weights,\n",
    "           epochs=30,\n",
    "           batch_size=batch_size,\n",
    "           validation_data=(X_val, Y_val),\n",
    "           callbacks=callbacks())"
   ]
  },
  {
   "cell_type": "markdown",
   "metadata": {},
   "source": [
    "---"
   ]
  },
  {
   "cell_type": "code",
   "execution_count": 27,
   "metadata": {},
   "outputs": [
    {
     "name": "stdout",
     "output_type": "stream",
     "text": [
      "_________________________________________________________________\n",
      "Layer (type)                 Output Shape              Param #   \n",
      "=================================================================\n",
      "embedding_5 (Embedding)      (None, 679, 300)          17915100  \n",
      "_________________________________________________________________\n",
      "conv1d_9 (Conv1D)            (None, 677, 48)           43248     \n",
      "_________________________________________________________________\n",
      "max_pooling1d_5 (MaxPooling1 (None, 168, 48)           0         \n",
      "_________________________________________________________________\n",
      "conv1d_10 (Conv1D)           (None, 165, 12)           2316      \n",
      "_________________________________________________________________\n",
      "flatten_5 (Flatten)          (None, 1980)              0         \n",
      "_________________________________________________________________\n",
      "dense_5 (Dense)              (None, 6)                 11886     \n",
      "=================================================================\n",
      "Total params: 17,972,550\n",
      "Trainable params: 17,972,550\n",
      "Non-trainable params: 0\n",
      "_________________________________________________________________\n"
     ]
    }
   ],
   "source": [
    "model3 = Sequential()\n",
    "model3.add(Embedding(input_dim=NUM_WORDS, output_dim=EMBEDD_DIM, input_length=PADDED_LEN,\\\n",
    "                     weights=[embedd_weights], trainable=True))\n",
    "model3.add(Conv1D(48, 3))\n",
    "model3.add(MaxPooling1D(8, 4))\n",
    "model3.add(Conv1D(12, 4))\n",
    "model3.add(Flatten())\n",
    "model3.add(Dense(n_classes, activation='softmax'))\n",
    "model3.summary()"
   ]
  },
  {
   "cell_type": "code",
   "execution_count": 28,
   "metadata": {},
   "outputs": [],
   "source": [
    "model3.compile(loss='categorical_crossentropy', optimizer=optimizer, metrics=my_metrics)"
   ]
  },
  {
   "cell_type": "code",
   "execution_count": 29,
   "metadata": {},
   "outputs": [
    {
     "name": "stdout",
     "output_type": "stream",
     "text": [
      "Train on 50000 samples, validate on 10000 samples\n",
      "Epoch 1/30\n",
      "50000/50000 [==============================] - 204s 4ms/step - loss: 1.1816 - categorical_accuracy: 0.5808 - macroF1: 0.0970 - w_cat_crossE: 9.1866 - val_loss: 0.8964 - val_categorical_accuracy: 0.5967 - val_macroF1: 0.1274 - val_w_cat_crossE: 8.7560\n",
      "Epoch 2/30\n",
      "50000/50000 [==============================] - 201s 4ms/step - loss: 0.5857 - categorical_accuracy: 0.7916 - macroF1: 0.3040 - w_cat_crossE: 7.5080 - val_loss: 0.4086 - val_categorical_accuracy: 0.8652 - val_macroF1: 0.4010 - val_w_cat_crossE: 6.1841\n",
      "Epoch 3/30\n",
      "14000/50000 [=======>......................] - ETA: 2:15 - loss: 0.3547 - categorical_accuracy: 0.8800 - macroF1: 0.4131 - w_cat_crossE: 5.7338"
     ]
    },
    {
     "ename": "KeyboardInterrupt",
     "evalue": "",
     "output_type": "error",
     "traceback": [
      "\u001b[1;31m---------------------------------------------------------------------------\u001b[0m",
      "\u001b[1;31mKeyboardInterrupt\u001b[0m                         Traceback (most recent call last)",
      "\u001b[1;32m<ipython-input-29-733d997fccbd>\u001b[0m in \u001b[0;36m<module>\u001b[1;34m()\u001b[0m\n\u001b[0;32m      3\u001b[0m            \u001b[0mbatch_size\u001b[0m\u001b[1;33m=\u001b[0m\u001b[0mbatch_size\u001b[0m\u001b[1;33m,\u001b[0m\u001b[1;33m\u001b[0m\u001b[1;33m\u001b[0m\u001b[0m\n\u001b[0;32m      4\u001b[0m            \u001b[0mvalidation_data\u001b[0m\u001b[1;33m=\u001b[0m\u001b[1;33m(\u001b[0m\u001b[0mX_val\u001b[0m\u001b[1;33m,\u001b[0m \u001b[0mY_val\u001b[0m\u001b[1;33m)\u001b[0m\u001b[1;33m,\u001b[0m\u001b[1;33m\u001b[0m\u001b[1;33m\u001b[0m\u001b[0m\n\u001b[1;32m----> 5\u001b[1;33m            callbacks=callbacks())\n\u001b[0m",
      "\u001b[1;32mC:\\Anaconda3\\lib\\site-packages\\keras\\engine\\training.py\u001b[0m in \u001b[0;36mfit\u001b[1;34m(self, x, y, batch_size, epochs, verbose, callbacks, validation_split, validation_data, shuffle, class_weight, sample_weight, initial_epoch, steps_per_epoch, validation_steps, **kwargs)\u001b[0m\n\u001b[0;32m   1037\u001b[0m                                         \u001b[0minitial_epoch\u001b[0m\u001b[1;33m=\u001b[0m\u001b[0minitial_epoch\u001b[0m\u001b[1;33m,\u001b[0m\u001b[1;33m\u001b[0m\u001b[1;33m\u001b[0m\u001b[0m\n\u001b[0;32m   1038\u001b[0m                                         \u001b[0msteps_per_epoch\u001b[0m\u001b[1;33m=\u001b[0m\u001b[0msteps_per_epoch\u001b[0m\u001b[1;33m,\u001b[0m\u001b[1;33m\u001b[0m\u001b[1;33m\u001b[0m\u001b[0m\n\u001b[1;32m-> 1039\u001b[1;33m                                         validation_steps=validation_steps)\n\u001b[0m\u001b[0;32m   1040\u001b[0m \u001b[1;33m\u001b[0m\u001b[0m\n\u001b[0;32m   1041\u001b[0m     def evaluate(self, x=None, y=None,\n",
      "\u001b[1;32mC:\\Anaconda3\\lib\\site-packages\\keras\\engine\\training_arrays.py\u001b[0m in \u001b[0;36mfit_loop\u001b[1;34m(model, f, ins, out_labels, batch_size, epochs, verbose, callbacks, val_f, val_ins, shuffle, callback_metrics, initial_epoch, steps_per_epoch, validation_steps)\u001b[0m\n\u001b[0;32m    197\u001b[0m                     \u001b[0mins_batch\u001b[0m\u001b[1;33m[\u001b[0m\u001b[0mi\u001b[0m\u001b[1;33m]\u001b[0m \u001b[1;33m=\u001b[0m \u001b[0mins_batch\u001b[0m\u001b[1;33m[\u001b[0m\u001b[0mi\u001b[0m\u001b[1;33m]\u001b[0m\u001b[1;33m.\u001b[0m\u001b[0mtoarray\u001b[0m\u001b[1;33m(\u001b[0m\u001b[1;33m)\u001b[0m\u001b[1;33m\u001b[0m\u001b[1;33m\u001b[0m\u001b[0m\n\u001b[0;32m    198\u001b[0m \u001b[1;33m\u001b[0m\u001b[0m\n\u001b[1;32m--> 199\u001b[1;33m                 \u001b[0mouts\u001b[0m \u001b[1;33m=\u001b[0m \u001b[0mf\u001b[0m\u001b[1;33m(\u001b[0m\u001b[0mins_batch\u001b[0m\u001b[1;33m)\u001b[0m\u001b[1;33m\u001b[0m\u001b[1;33m\u001b[0m\u001b[0m\n\u001b[0m\u001b[0;32m    200\u001b[0m                 \u001b[0mouts\u001b[0m \u001b[1;33m=\u001b[0m \u001b[0mto_list\u001b[0m\u001b[1;33m(\u001b[0m\u001b[0mouts\u001b[0m\u001b[1;33m)\u001b[0m\u001b[1;33m\u001b[0m\u001b[1;33m\u001b[0m\u001b[0m\n\u001b[0;32m    201\u001b[0m                 \u001b[1;32mfor\u001b[0m \u001b[0ml\u001b[0m\u001b[1;33m,\u001b[0m \u001b[0mo\u001b[0m \u001b[1;32min\u001b[0m \u001b[0mzip\u001b[0m\u001b[1;33m(\u001b[0m\u001b[0mout_labels\u001b[0m\u001b[1;33m,\u001b[0m \u001b[0mouts\u001b[0m\u001b[1;33m)\u001b[0m\u001b[1;33m:\u001b[0m\u001b[1;33m\u001b[0m\u001b[1;33m\u001b[0m\u001b[0m\n",
      "\u001b[1;32mC:\\Anaconda3\\lib\\site-packages\\keras\\backend\\tensorflow_backend.py\u001b[0m in \u001b[0;36m__call__\u001b[1;34m(self, inputs)\u001b[0m\n\u001b[0;32m   2713\u001b[0m                 \u001b[1;32mreturn\u001b[0m \u001b[0mself\u001b[0m\u001b[1;33m.\u001b[0m\u001b[0m_legacy_call\u001b[0m\u001b[1;33m(\u001b[0m\u001b[0minputs\u001b[0m\u001b[1;33m)\u001b[0m\u001b[1;33m\u001b[0m\u001b[1;33m\u001b[0m\u001b[0m\n\u001b[0;32m   2714\u001b[0m \u001b[1;33m\u001b[0m\u001b[0m\n\u001b[1;32m-> 2715\u001b[1;33m             \u001b[1;32mreturn\u001b[0m \u001b[0mself\u001b[0m\u001b[1;33m.\u001b[0m\u001b[0m_call\u001b[0m\u001b[1;33m(\u001b[0m\u001b[0minputs\u001b[0m\u001b[1;33m)\u001b[0m\u001b[1;33m\u001b[0m\u001b[1;33m\u001b[0m\u001b[0m\n\u001b[0m\u001b[0;32m   2716\u001b[0m         \u001b[1;32melse\u001b[0m\u001b[1;33m:\u001b[0m\u001b[1;33m\u001b[0m\u001b[1;33m\u001b[0m\u001b[0m\n\u001b[0;32m   2717\u001b[0m             \u001b[1;32mif\u001b[0m \u001b[0mpy_any\u001b[0m\u001b[1;33m(\u001b[0m\u001b[0mis_tensor\u001b[0m\u001b[1;33m(\u001b[0m\u001b[0mx\u001b[0m\u001b[1;33m)\u001b[0m \u001b[1;32mfor\u001b[0m \u001b[0mx\u001b[0m \u001b[1;32min\u001b[0m \u001b[0minputs\u001b[0m\u001b[1;33m)\u001b[0m\u001b[1;33m:\u001b[0m\u001b[1;33m\u001b[0m\u001b[1;33m\u001b[0m\u001b[0m\n",
      "\u001b[1;32mC:\\Anaconda3\\lib\\site-packages\\keras\\backend\\tensorflow_backend.py\u001b[0m in \u001b[0;36m_call\u001b[1;34m(self, inputs)\u001b[0m\n\u001b[0;32m   2673\u001b[0m             \u001b[0mfetched\u001b[0m \u001b[1;33m=\u001b[0m \u001b[0mself\u001b[0m\u001b[1;33m.\u001b[0m\u001b[0m_callable_fn\u001b[0m\u001b[1;33m(\u001b[0m\u001b[1;33m*\u001b[0m\u001b[0marray_vals\u001b[0m\u001b[1;33m,\u001b[0m \u001b[0mrun_metadata\u001b[0m\u001b[1;33m=\u001b[0m\u001b[0mself\u001b[0m\u001b[1;33m.\u001b[0m\u001b[0mrun_metadata\u001b[0m\u001b[1;33m)\u001b[0m\u001b[1;33m\u001b[0m\u001b[1;33m\u001b[0m\u001b[0m\n\u001b[0;32m   2674\u001b[0m         \u001b[1;32melse\u001b[0m\u001b[1;33m:\u001b[0m\u001b[1;33m\u001b[0m\u001b[1;33m\u001b[0m\u001b[0m\n\u001b[1;32m-> 2675\u001b[1;33m             \u001b[0mfetched\u001b[0m \u001b[1;33m=\u001b[0m \u001b[0mself\u001b[0m\u001b[1;33m.\u001b[0m\u001b[0m_callable_fn\u001b[0m\u001b[1;33m(\u001b[0m\u001b[1;33m*\u001b[0m\u001b[0marray_vals\u001b[0m\u001b[1;33m)\u001b[0m\u001b[1;33m\u001b[0m\u001b[1;33m\u001b[0m\u001b[0m\n\u001b[0m\u001b[0;32m   2676\u001b[0m         \u001b[1;32mreturn\u001b[0m \u001b[0mfetched\u001b[0m\u001b[1;33m[\u001b[0m\u001b[1;33m:\u001b[0m\u001b[0mlen\u001b[0m\u001b[1;33m(\u001b[0m\u001b[0mself\u001b[0m\u001b[1;33m.\u001b[0m\u001b[0moutputs\u001b[0m\u001b[1;33m)\u001b[0m\u001b[1;33m]\u001b[0m\u001b[1;33m\u001b[0m\u001b[1;33m\u001b[0m\u001b[0m\n\u001b[0;32m   2677\u001b[0m \u001b[1;33m\u001b[0m\u001b[0m\n",
      "\u001b[1;32mC:\\Anaconda3\\lib\\site-packages\\tensorflow\\python\\client\\session.py\u001b[0m in \u001b[0;36m__call__\u001b[1;34m(self, *args, **kwargs)\u001b[0m\n\u001b[0;32m   1437\u001b[0m           ret = tf_session.TF_SessionRunCallable(\n\u001b[0;32m   1438\u001b[0m               \u001b[0mself\u001b[0m\u001b[1;33m.\u001b[0m\u001b[0m_session\u001b[0m\u001b[1;33m.\u001b[0m\u001b[0m_session\u001b[0m\u001b[1;33m,\u001b[0m \u001b[0mself\u001b[0m\u001b[1;33m.\u001b[0m\u001b[0m_handle\u001b[0m\u001b[1;33m,\u001b[0m \u001b[0margs\u001b[0m\u001b[1;33m,\u001b[0m \u001b[0mstatus\u001b[0m\u001b[1;33m,\u001b[0m\u001b[1;33m\u001b[0m\u001b[1;33m\u001b[0m\u001b[0m\n\u001b[1;32m-> 1439\u001b[1;33m               run_metadata_ptr)\n\u001b[0m\u001b[0;32m   1440\u001b[0m         \u001b[1;32mif\u001b[0m \u001b[0mrun_metadata\u001b[0m\u001b[1;33m:\u001b[0m\u001b[1;33m\u001b[0m\u001b[1;33m\u001b[0m\u001b[0m\n\u001b[0;32m   1441\u001b[0m           \u001b[0mproto_data\u001b[0m \u001b[1;33m=\u001b[0m \u001b[0mtf_session\u001b[0m\u001b[1;33m.\u001b[0m\u001b[0mTF_GetBuffer\u001b[0m\u001b[1;33m(\u001b[0m\u001b[0mrun_metadata_ptr\u001b[0m\u001b[1;33m)\u001b[0m\u001b[1;33m\u001b[0m\u001b[1;33m\u001b[0m\u001b[0m\n",
      "\u001b[1;31mKeyboardInterrupt\u001b[0m: "
     ]
    }
   ],
   "source": [
    "model3.fit(X_train, Y_train,\\\n",
    "           class_weight=class_weights,\n",
    "           epochs=30,\n",
    "           batch_size=batch_size,\n",
    "           validation_data=(X_val, Y_val),\n",
    "           callbacks=callbacks())"
   ]
  },
  {
   "cell_type": "markdown",
   "metadata": {},
   "source": [
    "---"
   ]
  },
  {
   "cell_type": "code",
   "execution_count": 26,
   "metadata": {},
   "outputs": [],
   "source": [
    "# the workhorse\n",
    "\n",
    "class BlackBox():\n",
    "    \n",
    "    def __init__(self, layers, loss, metrics, class_weight=None, callbacks=callbacks(), embedd_weights = None, embedd_dims=[None]*3):\n",
    "        \n",
    "        self.layers = layers\n",
    "        self.loss = loss\n",
    "        self.metrics = metrics\n",
    "        self.class_weight = class_weight\n",
    "        self.callbacks = callbacks\n",
    "        self.history = None\n",
    "        self.results = None\n",
    "        \n",
    "        self.model = Sequential()\n",
    "        if embedd_weights.any():\n",
    "            self.input_dim = embedd_dims[0] # num_words\n",
    "            self.output_dim = embedd_dims[1] # dimension of the embedding space\n",
    "            self.input_length = embedd_dims[2] # padded_length\n",
    "            self.embedd_weights = embedd_weights\n",
    "            \n",
    "            self.model.add(Embedding(input_dim=self.input_dim,\\\n",
    "                                     output_dim=self.output_dim,\\\n",
    "                                     input_length=self.input_length,\\\n",
    "                                     weights=self.embedd_weights,\\\n",
    "                                     trainable=False))\n",
    "            self.model.layers[0].trainable = False  # szczeżonego panbug szczeże\n",
    "        for layer in layers:\n",
    "            self.model.add(layer)\n",
    "            \n",
    "        self.model.add(Dense(n_classes, activation='softmax'))\n",
    "        self.model.compile(loss=self.loss, optimizer=optimizer, metrics=self.metrics)\n",
    "    \n",
    "    def summary(self):\n",
    "        return self.model.summary()\n",
    "    \n",
    "    def fit(self, epochs=200):\n",
    "        self.history = self.model.fit(\n",
    "            X_train, Y_train,\n",
    "            class_weight=self.class_weight,\n",
    "            epochs=epochs,\n",
    "            batch_size=batch_size,\n",
    "            validation_data=(X_val, Y_val),\n",
    "            callbacks=self.callbacks,\n",
    "            verbose = 1        \n",
    "            )\n",
    "        \n",
    "    def reset(self):\n",
    "        \n",
    "        self.history = None\n",
    "        self.results = None\n",
    "        self.model.compile(loss=self.loss, optimizer=optimizer, metrics=self.metrics)\n",
    "        \n",
    "    def evaluate(self):\n",
    "        print(f'Loss function: {self.loss.__name__ if callable(self.loss) else self.loss}. Metrics: {[metric.__name__ if callable(metric) else metric for metric in self.metrics]}')\n",
    "        print(\"Predicting for X_test, comparing with y_test\")\n",
    "        return self.results\n",
    "    \n",
    "    def plot(self):\n",
    "        plot_history(self.history)\n",
    "        \n",
    "    def Ksave(self, file):\n",
    "        self.model.save(file)\n",
    "        \n",
    "    def save(self, file):\n",
    "        pickle.dump(self, file)\n",
    " \n"
   ]
  },
  {
   "cell_type": "code",
   "execution_count": 31,
   "metadata": {},
   "outputs": [
    {
     "ename": "ValueError",
     "evalue": "Argument must be a dense tensor: (array([0., 0., 0., 0., 0., 0., 0., 0., 0., 0., 0., 0., 0., 0., 0., 0., 0.,\n       0., 0., 0., 0., 0., 0., 0., 0., 0., 0., 0., 0., 0., 0., 0., 0., 0.,\n       0., 0., 0., 0., 0., 0., 0., 0., 0., 0., 0., 0., 0., 0., 0., 0., 0.,\n       0., 0., 0., 0., 0., 0., 0., 0., 0., 0., 0., 0., 0., 0., 0., 0., 0.,\n       0., 0., 0., 0., 0., 0., 0., 0., 0., 0., 0., 0., 0., 0., 0., 0., 0.,\n       0., 0., 0., 0., 0., 0., 0., 0., 0., 0., 0., 0., 0., 0., 0., 0., 0.,\n       0., 0., 0., 0., 0., 0., 0., 0., 0., 0., 0., 0., 0., 0., 0., 0., 0.,\n       0., 0., 0., 0., 0., 0., 0., 0., 0., 0., 0., 0., 0., 0., 0., 0., 0.,\n       0., 0., 0., 0., 0., 0., 0., 0., 0., 0., 0., 0., 0., 0., 0., 0., 0.,\n       0., 0., 0., 0., 0., 0., 0., 0., 0., 0., 0., 0., 0., 0., 0., 0., 0.,\n       0., 0., 0., 0., 0., 0., 0., 0., 0., 0., 0., 0., 0., 0., 0., 0., 0.,\n       0., 0., 0., 0., 0., 0., 0., 0., 0., 0., 0., 0., 0., 0., 0., 0., 0.,\n       0., 0., 0., 0., 0., 0., 0., 0., 0., 0., 0., 0., 0., 0., 0., 0., 0.,\n       0., 0., 0., 0., 0., 0., 0., 0., 0., 0., 0., 0., 0., 0., 0., 0., 0.,\n       0., 0., 0., 0., 0., 0., 0., 0., 0., 0., 0., 0., 0., 0., 0., 0., 0.,\n       0., 0., 0., 0., 0., 0., 0., 0., 0., 0., 0., 0., 0., 0., 0., 0., 0.,\n       0., 0., 0., 0., 0., 0., 0., 0., 0., 0., 0., 0., 0., 0., 0., 0., 0.,\n       0., 0., 0., 0., 0., 0., 0., 0., 0., 0., 0.]), array([-1.60898035e-03, -1.52038794e-03, -1.10933091e-03, -7.67398276e-04,\n       -4.76854068e-04, -1.32066687e-03, -3.64607768e-05,  5.24082046e-04,\n       -1.09348889e-03, -9.52688977e-04,  1.58644223e-03, -1.47640193e-03,\n        1.24946039e-03, -1.15392741e-03, -5.77126455e-04,  1.30668608e-03,\n        3.98015429e-04, -5.98374987e-04,  1.15968799e-03,  8.16885731e-04,\n        2.60857923e-04, -1.12693349e-03, -9.21725314e-06, -1.60185300e-04,\n       -1.37256618e-04,  1.12894434e-03, -1.31035340e-03,  1.24460098e-03,\n        1.53846527e-03,  6.33214833e-04, -2.74155667e-04,  5.95811696e-04,\n        8.74387100e-04,  1.27034681e-03, -7.89425219e-04,  3.71693575e-04,\n        1.53230067e-05,  1.63376739e-03,  5.56558662e-04,  1.04503555e-03,\n        1.44374999e-03, -3.97537282e-04,  5.85352245e-04, -1.07527315e-03,\n        8.13228311e-04,  3.20632316e-05, -5.96775615e-04,  2.12454688e-04,\n        6.15049794e-04, -1.23639533e-03,  3.54901167e-05, -1.58044032e-03,\n       -2.35013489e-04,  7.77747191e-04, -7.51162763e-04,  9.12950782e-04,\n       -9.24831664e-04,  7.94099877e-04, -3.39813036e-04, -1.55711500e-03,\n       -1.25299237e-04,  1.31499697e-03, -1.07990555e-03, -1.57173641e-03,\n       -9.95508977e-04, -1.31331116e-03, -9.99436830e-04,  1.32224686e-03,\n       -1.19107752e-03,  1.31757720e-03,  1.52445887e-03, -5.07724646e-04,\n        1.08146470e-03,  1.12869765e-03,  4.67235717e-04, -5.31636528e-04,\n       -2.43571150e-04, -5.67581214e-04, -1.61261210e-04,  1.60701585e-03,\n       -1.17927731e-03, -1.29447016e-03,  1.45637791e-03,  9.64233986e-05,\n       -5.74845471e-04,  1.23399356e-03, -9.68343054e-04, -9.39524500e-04,\n       -7.02000223e-04,  5.65679395e-04,  7.15141243e-04,  4.03189733e-05,\n       -1.60276250e-03,  1.11598161e-03, -1.03874772e-03, -6.64652034e-04,\n        1.46818999e-03,  1.42809120e-03, -5.59733831e-04, -3.90343834e-04,\n       -7.05113634e-04, -7.53021232e-05,  2.74322720e-05, -4.92932333e-04,\n       -9.55337717e-04,  6.34255062e-04,  1.29280938e-03, -4.85283497e-04,\n       -1.32880232e-03, -1.41044951e-03, -8.20751186e-04,  4.61015634e-06,\n       -2.71514873e-04, -1.10504997e-03, -9.55768483e-05,  1.12787506e-03,\n        1.45905965e-03,  1.58085104e-03, -1.59685698e-03,  2.18621295e-04,\n        5.09664475e-04, -1.55338945e-04,  1.23669463e-03,  1.96945868e-04,\n        1.41947967e-04,  1.48042850e-03,  1.10943872e-03, -1.14344317e-03,\n        1.65881950e-03,  1.45826279e-03, -9.74185823e-04,  3.52423551e-04,\n       -1.22553622e-03,  1.47468600e-04,  1.35395167e-04,  1.41580682e-03,\n        9.10676317e-04, -1.42582797e-03, -2.87161209e-04,  1.38473010e-03,\n        3.19217012e-04, -4.35483817e-04,  5.82421431e-04, -1.33084517e-03,\n        9.93358481e-05,  1.03049830e-03, -9.15225828e-04,  1.50536152e-03,\n        1.28896895e-03,  1.61419809e-03,  2.01449468e-04,  1.00132369e-03,\n       -1.56998483e-03, -1.34477916e-03,  1.60844123e-04, -1.41050108e-03,\n        3.68407287e-04,  1.24141679e-03,  3.35246179e-04, -1.39729716e-04,\n        1.37440732e-03,  1.54752249e-03,  1.63330382e-03, -4.19510994e-04,\n        5.78496023e-04,  8.90669704e-04,  1.51883753e-03,  1.25596579e-03,\n        1.13689899e-03, -5.06002805e-04,  7.15256494e-04, -1.56985957e-03,\n       -7.52614360e-05,  1.91148574e-04, -1.02225202e-03, -8.63118330e-04,\n       -1.58842769e-03,  9.16173856e-04,  1.45495043e-03,  1.33247185e-03,\n        5.65683295e-04,  5.17761400e-05,  9.08959075e-04,  3.02332483e-04,\n        4.46042046e-04,  1.40330428e-03,  1.17137958e-03, -1.14644936e-04,\n        1.33080955e-03, -1.63942843e-03,  6.22208827e-05,  5.81298431e-04,\n        1.05937535e-03,  1.39693893e-03, -1.09336921e-03, -1.07880204e-03,\n        9.15478508e-04, -6.62800274e-04, -5.66827250e-04, -1.41169119e-03,\n       -1.34438265e-03, -1.08651689e-03,  3.55042575e-04, -1.54243060e-03,\n       -1.80042058e-04, -1.40939653e-03, -1.25757302e-03, -4.48599749e-04,\n       -1.22532609e-03, -1.02149497e-03, -4.14674403e-04,  9.73140763e-04,\n        1.08551187e-03,  7.12205889e-04, -1.13845104e-03,  4.30394313e-04,\n        9.50701593e-04,  1.87309139e-04, -1.30101480e-03, -3.38170968e-04,\n       -2.68863951e-04, -8.46220530e-04, -8.21234207e-05, -7.17866467e-04,\n       -3.67205444e-04, -8.77176935e-04, -6.89649547e-04, -5.99470513e-04,\n        1.36283552e-03, -5.49837714e-04,  3.01873515e-04,  4.51580767e-04,\n       -3.82866536e-04, -7.43020337e-07,  1.23502966e-03, -1.44779088e-03,\n       -6.00819243e-04, -1.02760526e-03,  9.09426366e-04,  1.52316946e-03,\n        8.94674566e-04, -3.95224284e-04,  1.29098748e-03, -9.82875586e-04,\n       -9.83973150e-04, -7.16527691e-04,  1.11102662e-03,  1.64950092e-03,\n        1.60315062e-03,  1.17079879e-03,  1.09600471e-04,  3.74121708e-04,\n       -1.38131436e-03, -2.97997729e-04,  7.60201656e-04, -9.09025621e-05,\n       -1.37156830e-03,  8.39024258e-04,  1.26102613e-03,  2.54095154e-04,\n       -9.35553922e-04,  2.74013903e-04,  2.38458888e-04, -1.39605277e-03,\n        1.41464977e-03, -1.45770190e-03, -5.67707000e-04,  4.64327459e-04,\n        1.45531620e-03,  3.89221183e-04, -1.22344226e-03,  1.62306242e-03,\n        1.16158847e-03,  4.26869810e-04,  7.20058415e-06, -1.42903591e-03,\n        6.68151130e-04, -1.43818895e-03, -9.88423009e-04, -1.17211835e-03,\n       -7.01633689e-04, -1.00185243e-04, -4.02247941e-04,  9.33111587e-04,\n       -4.34284557e-05,  8.71165539e-05, -1.57590001e-03,  1.97194560e-04,\n        9.03506880e-04,  1.19144947e-03,  7.62167387e-04,  6.39694335e-05,\n       -6.20790932e-04,  8.66841365e-05,  6.34230848e-04,  2.49058765e-04,\n       -2.09642138e-04, -1.16257218e-03, -2.82113848e-04,  9.52833099e-04])) - got shape [2, 300], but wanted [2].",
     "output_type": "error",
     "traceback": [
      "\u001b[1;31m---------------------------------------------------------------------------\u001b[0m",
      "\u001b[1;31mValueError\u001b[0m                                Traceback (most recent call last)",
      "\u001b[1;32m<ipython-input-31-8b2e8f8a4587>\u001b[0m in \u001b[0;36m<module>\u001b[1;34m()\u001b[0m\n\u001b[0;32m      3\u001b[0m \u001b[0mlayers1\u001b[0m \u001b[1;33m=\u001b[0m \u001b[1;33m[\u001b[0m\u001b[0mGlobalAveragePooling1D\u001b[0m\u001b[1;33m(\u001b[0m\u001b[1;33m)\u001b[0m\u001b[1;33m]\u001b[0m\u001b[1;33m\u001b[0m\u001b[1;33m\u001b[0m\u001b[0m\n\u001b[0;32m      4\u001b[0m \u001b[1;33m\u001b[0m\u001b[0m\n\u001b[1;32m----> 5\u001b[1;33m \u001b[0mmodel1\u001b[0m \u001b[1;33m=\u001b[0m \u001b[0mBlackBox\u001b[0m\u001b[1;33m(\u001b[0m\u001b[0mlayers\u001b[0m\u001b[1;33m=\u001b[0m\u001b[0mlayers1\u001b[0m\u001b[1;33m,\u001b[0m \u001b[0mloss\u001b[0m\u001b[1;33m=\u001b[0m\u001b[0mmy_loss\u001b[0m\u001b[1;33m,\u001b[0m \u001b[0mmetrics\u001b[0m\u001b[1;33m=\u001b[0m\u001b[0mmy_metrics\u001b[0m\u001b[1;33m,\u001b[0m                  \u001b[0membedd_weights\u001b[0m\u001b[1;33m=\u001b[0m\u001b[0membedd_weights\u001b[0m\u001b[1;33m,\u001b[0m \u001b[0membedd_dims\u001b[0m\u001b[1;33m=\u001b[0m\u001b[1;33m[\u001b[0m\u001b[0mNUM_WORDS\u001b[0m\u001b[1;33m,\u001b[0m \u001b[0mEMBEDD_DIM\u001b[0m\u001b[1;33m,\u001b[0m \u001b[0mPADDED_LEN\u001b[0m\u001b[1;33m]\u001b[0m\u001b[1;33m)\u001b[0m\u001b[1;33m\u001b[0m\u001b[1;33m\u001b[0m\u001b[0m\n\u001b[0m\u001b[0;32m      6\u001b[0m \u001b[0mmodel1\u001b[0m\u001b[1;33m.\u001b[0m\u001b[0msummary\u001b[0m\u001b[1;33m(\u001b[0m\u001b[1;33m)\u001b[0m\u001b[1;33m\u001b[0m\u001b[1;33m\u001b[0m\u001b[0m\n",
      "\u001b[1;32m<ipython-input-26-ba6341fb86d4>\u001b[0m in \u001b[0;36m__init__\u001b[1;34m(self, layers, loss, metrics, callbacks, embedd_weights, embedd_dims)\u001b[0m\n\u001b[0;32m     19\u001b[0m             \u001b[0mself\u001b[0m\u001b[1;33m.\u001b[0m\u001b[0membedd_weights\u001b[0m \u001b[1;33m=\u001b[0m \u001b[0membedd_weights\u001b[0m\u001b[1;33m\u001b[0m\u001b[1;33m\u001b[0m\u001b[0m\n\u001b[0;32m     20\u001b[0m \u001b[1;33m\u001b[0m\u001b[0m\n\u001b[1;32m---> 21\u001b[1;33m             \u001b[0mself\u001b[0m\u001b[1;33m.\u001b[0m\u001b[0mmodel\u001b[0m\u001b[1;33m.\u001b[0m\u001b[0madd\u001b[0m\u001b[1;33m(\u001b[0m\u001b[0mEmbedding\u001b[0m\u001b[1;33m(\u001b[0m\u001b[0minput_dim\u001b[0m\u001b[1;33m=\u001b[0m\u001b[0mself\u001b[0m\u001b[1;33m.\u001b[0m\u001b[0minput_dim\u001b[0m\u001b[1;33m,\u001b[0m                                     \u001b[0moutput_dim\u001b[0m\u001b[1;33m=\u001b[0m\u001b[0mself\u001b[0m\u001b[1;33m.\u001b[0m\u001b[0moutput_dim\u001b[0m\u001b[1;33m,\u001b[0m                                     \u001b[0minput_length\u001b[0m\u001b[1;33m=\u001b[0m\u001b[0mself\u001b[0m\u001b[1;33m.\u001b[0m\u001b[0minput_length\u001b[0m\u001b[1;33m,\u001b[0m                                     \u001b[0mweights\u001b[0m\u001b[1;33m=\u001b[0m\u001b[0mself\u001b[0m\u001b[1;33m.\u001b[0m\u001b[0membedd_weights\u001b[0m\u001b[1;33m,\u001b[0m                                     \u001b[0mtrainable\u001b[0m\u001b[1;33m=\u001b[0m\u001b[1;32mFalse\u001b[0m\u001b[1;33m)\u001b[0m\u001b[1;33m)\u001b[0m\u001b[1;33m\u001b[0m\u001b[1;33m\u001b[0m\u001b[0m\n\u001b[0m\u001b[0;32m     22\u001b[0m             \u001b[0mself\u001b[0m\u001b[1;33m.\u001b[0m\u001b[0mmodel\u001b[0m\u001b[1;33m.\u001b[0m\u001b[0mlayers\u001b[0m\u001b[1;33m[\u001b[0m\u001b[1;36m0\u001b[0m\u001b[1;33m]\u001b[0m\u001b[1;33m.\u001b[0m\u001b[0mtrainable\u001b[0m \u001b[1;33m=\u001b[0m \u001b[1;32mFalse\u001b[0m  \u001b[1;31m# szczeżonego panbug szczeże\u001b[0m\u001b[1;33m\u001b[0m\u001b[1;33m\u001b[0m\u001b[0m\n\u001b[0;32m     23\u001b[0m         \u001b[1;32mfor\u001b[0m \u001b[0mlayer\u001b[0m \u001b[1;32min\u001b[0m \u001b[0mlayers\u001b[0m\u001b[1;33m:\u001b[0m\u001b[1;33m\u001b[0m\u001b[1;33m\u001b[0m\u001b[0m\n",
      "\u001b[1;32mC:\\Anaconda3\\lib\\site-packages\\keras\\engine\\sequential.py\u001b[0m in \u001b[0;36madd\u001b[1;34m(self, layer)\u001b[0m\n\u001b[0;32m    163\u001b[0m                     \u001b[1;31m# and create the node connecting the current layer\u001b[0m\u001b[1;33m\u001b[0m\u001b[1;33m\u001b[0m\u001b[1;33m\u001b[0m\u001b[0m\n\u001b[0;32m    164\u001b[0m                     \u001b[1;31m# to the input layer we just created.\u001b[0m\u001b[1;33m\u001b[0m\u001b[1;33m\u001b[0m\u001b[1;33m\u001b[0m\u001b[0m\n\u001b[1;32m--> 165\u001b[1;33m                     \u001b[0mlayer\u001b[0m\u001b[1;33m(\u001b[0m\u001b[0mx\u001b[0m\u001b[1;33m)\u001b[0m\u001b[1;33m\u001b[0m\u001b[1;33m\u001b[0m\u001b[0m\n\u001b[0m\u001b[0;32m    166\u001b[0m                     \u001b[0mset_inputs\u001b[0m \u001b[1;33m=\u001b[0m \u001b[1;32mTrue\u001b[0m\u001b[1;33m\u001b[0m\u001b[1;33m\u001b[0m\u001b[0m\n\u001b[0;32m    167\u001b[0m             \u001b[1;32melse\u001b[0m\u001b[1;33m:\u001b[0m\u001b[1;33m\u001b[0m\u001b[1;33m\u001b[0m\u001b[0m\n",
      "\u001b[1;32mC:\\Anaconda3\\lib\\site-packages\\keras\\engine\\base_layer.py\u001b[0m in \u001b[0;36m__call__\u001b[1;34m(self, inputs, **kwargs)\u001b[0m\n\u001b[0;32m    429\u001b[0m                                          \u001b[1;34m'You can build it manually via: '\u001b[0m\u001b[1;33m\u001b[0m\u001b[1;33m\u001b[0m\u001b[0m\n\u001b[0;32m    430\u001b[0m                                          '`layer.build(batch_input_shape)`')\n\u001b[1;32m--> 431\u001b[1;33m                 \u001b[0mself\u001b[0m\u001b[1;33m.\u001b[0m\u001b[0mbuild\u001b[0m\u001b[1;33m(\u001b[0m\u001b[0munpack_singleton\u001b[0m\u001b[1;33m(\u001b[0m\u001b[0minput_shapes\u001b[0m\u001b[1;33m)\u001b[0m\u001b[1;33m)\u001b[0m\u001b[1;33m\u001b[0m\u001b[1;33m\u001b[0m\u001b[0m\n\u001b[0m\u001b[0;32m    432\u001b[0m                 \u001b[0mself\u001b[0m\u001b[1;33m.\u001b[0m\u001b[0mbuilt\u001b[0m \u001b[1;33m=\u001b[0m \u001b[1;32mTrue\u001b[0m\u001b[1;33m\u001b[0m\u001b[1;33m\u001b[0m\u001b[0m\n\u001b[0;32m    433\u001b[0m \u001b[1;33m\u001b[0m\u001b[0m\n",
      "\u001b[1;32mC:\\Anaconda3\\lib\\site-packages\\keras\\layers\\embeddings.py\u001b[0m in \u001b[0;36mbuild\u001b[1;34m(self, input_shape)\u001b[0m\n\u001b[0;32m    107\u001b[0m             \u001b[0mregularizer\u001b[0m\u001b[1;33m=\u001b[0m\u001b[0mself\u001b[0m\u001b[1;33m.\u001b[0m\u001b[0membeddings_regularizer\u001b[0m\u001b[1;33m,\u001b[0m\u001b[1;33m\u001b[0m\u001b[1;33m\u001b[0m\u001b[0m\n\u001b[0;32m    108\u001b[0m             \u001b[0mconstraint\u001b[0m\u001b[1;33m=\u001b[0m\u001b[0mself\u001b[0m\u001b[1;33m.\u001b[0m\u001b[0membeddings_constraint\u001b[0m\u001b[1;33m,\u001b[0m\u001b[1;33m\u001b[0m\u001b[1;33m\u001b[0m\u001b[0m\n\u001b[1;32m--> 109\u001b[1;33m             dtype=self.dtype)\n\u001b[0m\u001b[0;32m    110\u001b[0m         \u001b[0mself\u001b[0m\u001b[1;33m.\u001b[0m\u001b[0mbuilt\u001b[0m \u001b[1;33m=\u001b[0m \u001b[1;32mTrue\u001b[0m\u001b[1;33m\u001b[0m\u001b[1;33m\u001b[0m\u001b[0m\n\u001b[0;32m    111\u001b[0m \u001b[1;33m\u001b[0m\u001b[0m\n",
      "\u001b[1;32mC:\\Anaconda3\\lib\\site-packages\\keras\\legacy\\interfaces.py\u001b[0m in \u001b[0;36mwrapper\u001b[1;34m(*args, **kwargs)\u001b[0m\n\u001b[0;32m     89\u001b[0m                 warnings.warn('Update your `' + object_name + '` call to the ' +\n\u001b[0;32m     90\u001b[0m                               'Keras 2 API: ' + signature, stacklevel=2)\n\u001b[1;32m---> 91\u001b[1;33m             \u001b[1;32mreturn\u001b[0m \u001b[0mfunc\u001b[0m\u001b[1;33m(\u001b[0m\u001b[1;33m*\u001b[0m\u001b[0margs\u001b[0m\u001b[1;33m,\u001b[0m \u001b[1;33m**\u001b[0m\u001b[0mkwargs\u001b[0m\u001b[1;33m)\u001b[0m\u001b[1;33m\u001b[0m\u001b[1;33m\u001b[0m\u001b[0m\n\u001b[0m\u001b[0;32m     92\u001b[0m         \u001b[0mwrapper\u001b[0m\u001b[1;33m.\u001b[0m\u001b[0m_original_function\u001b[0m \u001b[1;33m=\u001b[0m \u001b[0mfunc\u001b[0m\u001b[1;33m\u001b[0m\u001b[1;33m\u001b[0m\u001b[0m\n\u001b[0;32m     93\u001b[0m         \u001b[1;32mreturn\u001b[0m \u001b[0mwrapper\u001b[0m\u001b[1;33m\u001b[0m\u001b[1;33m\u001b[0m\u001b[0m\n",
      "\u001b[1;32mC:\\Anaconda3\\lib\\site-packages\\keras\\engine\\base_layer.py\u001b[0m in \u001b[0;36madd_weight\u001b[1;34m(self, name, shape, dtype, initializer, regularizer, trainable, constraint)\u001b[0m\n\u001b[0;32m    247\u001b[0m         \u001b[1;32mif\u001b[0m \u001b[0mdtype\u001b[0m \u001b[1;32mis\u001b[0m \u001b[1;32mNone\u001b[0m\u001b[1;33m:\u001b[0m\u001b[1;33m\u001b[0m\u001b[1;33m\u001b[0m\u001b[0m\n\u001b[0;32m    248\u001b[0m             \u001b[0mdtype\u001b[0m \u001b[1;33m=\u001b[0m \u001b[0mK\u001b[0m\u001b[1;33m.\u001b[0m\u001b[0mfloatx\u001b[0m\u001b[1;33m(\u001b[0m\u001b[1;33m)\u001b[0m\u001b[1;33m\u001b[0m\u001b[1;33m\u001b[0m\u001b[0m\n\u001b[1;32m--> 249\u001b[1;33m         weight = K.variable(initializer(shape),\n\u001b[0m\u001b[0;32m    250\u001b[0m                             \u001b[0mdtype\u001b[0m\u001b[1;33m=\u001b[0m\u001b[0mdtype\u001b[0m\u001b[1;33m,\u001b[0m\u001b[1;33m\u001b[0m\u001b[1;33m\u001b[0m\u001b[0m\n\u001b[0;32m    251\u001b[0m                             \u001b[0mname\u001b[0m\u001b[1;33m=\u001b[0m\u001b[0mname\u001b[0m\u001b[1;33m,\u001b[0m\u001b[1;33m\u001b[0m\u001b[1;33m\u001b[0m\u001b[0m\n",
      "\u001b[1;32mC:\\Anaconda3\\lib\\site-packages\\keras\\initializers.py\u001b[0m in \u001b[0;36m__call__\u001b[1;34m(self, shape, dtype)\u001b[0m\n\u001b[0;32m    110\u001b[0m     \u001b[1;32mdef\u001b[0m \u001b[0m__call__\u001b[0m\u001b[1;33m(\u001b[0m\u001b[0mself\u001b[0m\u001b[1;33m,\u001b[0m \u001b[0mshape\u001b[0m\u001b[1;33m,\u001b[0m \u001b[0mdtype\u001b[0m\u001b[1;33m=\u001b[0m\u001b[1;32mNone\u001b[0m\u001b[1;33m)\u001b[0m\u001b[1;33m:\u001b[0m\u001b[1;33m\u001b[0m\u001b[1;33m\u001b[0m\u001b[0m\n\u001b[0;32m    111\u001b[0m         return K.random_uniform(shape, self.minval, self.maxval,\n\u001b[1;32m--> 112\u001b[1;33m                                 dtype=dtype, seed=self.seed)\n\u001b[0m\u001b[0;32m    113\u001b[0m \u001b[1;33m\u001b[0m\u001b[0m\n\u001b[0;32m    114\u001b[0m     \u001b[1;32mdef\u001b[0m \u001b[0mget_config\u001b[0m\u001b[1;33m(\u001b[0m\u001b[0mself\u001b[0m\u001b[1;33m)\u001b[0m\u001b[1;33m:\u001b[0m\u001b[1;33m\u001b[0m\u001b[1;33m\u001b[0m\u001b[0m\n",
      "\u001b[1;32mC:\\Anaconda3\\lib\\site-packages\\keras\\backend\\tensorflow_backend.py\u001b[0m in \u001b[0;36mrandom_uniform\u001b[1;34m(shape, minval, maxval, dtype, seed)\u001b[0m\n\u001b[0;32m   4137\u001b[0m         \u001b[0mseed\u001b[0m \u001b[1;33m=\u001b[0m \u001b[0mnp\u001b[0m\u001b[1;33m.\u001b[0m\u001b[0mrandom\u001b[0m\u001b[1;33m.\u001b[0m\u001b[0mrandint\u001b[0m\u001b[1;33m(\u001b[0m\u001b[1;36m10e6\u001b[0m\u001b[1;33m)\u001b[0m\u001b[1;33m\u001b[0m\u001b[1;33m\u001b[0m\u001b[0m\n\u001b[0;32m   4138\u001b[0m     return tf.random_uniform(shape, minval=minval, maxval=maxval,\n\u001b[1;32m-> 4139\u001b[1;33m                              dtype=dtype, seed=seed)\n\u001b[0m\u001b[0;32m   4140\u001b[0m \u001b[1;33m\u001b[0m\u001b[0m\n\u001b[0;32m   4141\u001b[0m \u001b[1;33m\u001b[0m\u001b[0m\n",
      "\u001b[1;32mC:\\Anaconda3\\lib\\site-packages\\tensorflow\\python\\ops\\random_ops.py\u001b[0m in \u001b[0;36mrandom_uniform\u001b[1;34m(shape, minval, maxval, dtype, seed, name)\u001b[0m\n\u001b[0;32m    233\u001b[0m     \u001b[0mmaxval\u001b[0m \u001b[1;33m=\u001b[0m \u001b[1;36m1\u001b[0m\u001b[1;33m\u001b[0m\u001b[1;33m\u001b[0m\u001b[0m\n\u001b[0;32m    234\u001b[0m   \u001b[1;32mwith\u001b[0m \u001b[0mops\u001b[0m\u001b[1;33m.\u001b[0m\u001b[0mname_scope\u001b[0m\u001b[1;33m(\u001b[0m\u001b[0mname\u001b[0m\u001b[1;33m,\u001b[0m \u001b[1;34m\"random_uniform\"\u001b[0m\u001b[1;33m,\u001b[0m \u001b[1;33m[\u001b[0m\u001b[0mshape\u001b[0m\u001b[1;33m,\u001b[0m \u001b[0mminval\u001b[0m\u001b[1;33m,\u001b[0m \u001b[0mmaxval\u001b[0m\u001b[1;33m]\u001b[0m\u001b[1;33m)\u001b[0m \u001b[1;32mas\u001b[0m \u001b[0mname\u001b[0m\u001b[1;33m:\u001b[0m\u001b[1;33m\u001b[0m\u001b[1;33m\u001b[0m\u001b[0m\n\u001b[1;32m--> 235\u001b[1;33m     \u001b[0mshape\u001b[0m \u001b[1;33m=\u001b[0m \u001b[0m_ShapeTensor\u001b[0m\u001b[1;33m(\u001b[0m\u001b[0mshape\u001b[0m\u001b[1;33m)\u001b[0m\u001b[1;33m\u001b[0m\u001b[1;33m\u001b[0m\u001b[0m\n\u001b[0m\u001b[0;32m    236\u001b[0m     \u001b[0mminval\u001b[0m \u001b[1;33m=\u001b[0m \u001b[0mops\u001b[0m\u001b[1;33m.\u001b[0m\u001b[0mconvert_to_tensor\u001b[0m\u001b[1;33m(\u001b[0m\u001b[0mminval\u001b[0m\u001b[1;33m,\u001b[0m \u001b[0mdtype\u001b[0m\u001b[1;33m=\u001b[0m\u001b[0mdtype\u001b[0m\u001b[1;33m,\u001b[0m \u001b[0mname\u001b[0m\u001b[1;33m=\u001b[0m\u001b[1;34m\"min\"\u001b[0m\u001b[1;33m)\u001b[0m\u001b[1;33m\u001b[0m\u001b[1;33m\u001b[0m\u001b[0m\n\u001b[0;32m    237\u001b[0m     \u001b[0mmaxval\u001b[0m \u001b[1;33m=\u001b[0m \u001b[0mops\u001b[0m\u001b[1;33m.\u001b[0m\u001b[0mconvert_to_tensor\u001b[0m\u001b[1;33m(\u001b[0m\u001b[0mmaxval\u001b[0m\u001b[1;33m,\u001b[0m \u001b[0mdtype\u001b[0m\u001b[1;33m=\u001b[0m\u001b[0mdtype\u001b[0m\u001b[1;33m,\u001b[0m \u001b[0mname\u001b[0m\u001b[1;33m=\u001b[0m\u001b[1;34m\"max\"\u001b[0m\u001b[1;33m)\u001b[0m\u001b[1;33m\u001b[0m\u001b[1;33m\u001b[0m\u001b[0m\n",
      "\u001b[1;32mC:\\Anaconda3\\lib\\site-packages\\tensorflow\\python\\ops\\random_ops.py\u001b[0m in \u001b[0;36m_ShapeTensor\u001b[1;34m(shape)\u001b[0m\n\u001b[0;32m     42\u001b[0m   \u001b[1;32melse\u001b[0m\u001b[1;33m:\u001b[0m\u001b[1;33m\u001b[0m\u001b[1;33m\u001b[0m\u001b[0m\n\u001b[0;32m     43\u001b[0m     \u001b[0mdtype\u001b[0m \u001b[1;33m=\u001b[0m \u001b[1;32mNone\u001b[0m\u001b[1;33m\u001b[0m\u001b[1;33m\u001b[0m\u001b[0m\n\u001b[1;32m---> 44\u001b[1;33m   \u001b[1;32mreturn\u001b[0m \u001b[0mops\u001b[0m\u001b[1;33m.\u001b[0m\u001b[0mconvert_to_tensor\u001b[0m\u001b[1;33m(\u001b[0m\u001b[0mshape\u001b[0m\u001b[1;33m,\u001b[0m \u001b[0mdtype\u001b[0m\u001b[1;33m=\u001b[0m\u001b[0mdtype\u001b[0m\u001b[1;33m,\u001b[0m \u001b[0mname\u001b[0m\u001b[1;33m=\u001b[0m\u001b[1;34m\"shape\"\u001b[0m\u001b[1;33m)\u001b[0m\u001b[1;33m\u001b[0m\u001b[1;33m\u001b[0m\u001b[0m\n\u001b[0m\u001b[0;32m     45\u001b[0m \u001b[1;33m\u001b[0m\u001b[0m\n\u001b[0;32m     46\u001b[0m \u001b[1;33m\u001b[0m\u001b[0m\n",
      "\u001b[1;32mC:\\Anaconda3\\lib\\site-packages\\tensorflow\\python\\framework\\ops.py\u001b[0m in \u001b[0;36mconvert_to_tensor\u001b[1;34m(value, dtype, name, preferred_dtype)\u001b[0m\n\u001b[0;32m   1048\u001b[0m       \u001b[0mname\u001b[0m\u001b[1;33m=\u001b[0m\u001b[0mname\u001b[0m\u001b[1;33m,\u001b[0m\u001b[1;33m\u001b[0m\u001b[1;33m\u001b[0m\u001b[0m\n\u001b[0;32m   1049\u001b[0m       \u001b[0mpreferred_dtype\u001b[0m\u001b[1;33m=\u001b[0m\u001b[0mpreferred_dtype\u001b[0m\u001b[1;33m,\u001b[0m\u001b[1;33m\u001b[0m\u001b[1;33m\u001b[0m\u001b[0m\n\u001b[1;32m-> 1050\u001b[1;33m       as_ref=False)\n\u001b[0m\u001b[0;32m   1051\u001b[0m \u001b[1;33m\u001b[0m\u001b[0m\n\u001b[0;32m   1052\u001b[0m \u001b[1;33m\u001b[0m\u001b[0m\n",
      "\u001b[1;32mC:\\Anaconda3\\lib\\site-packages\\tensorflow\\python\\framework\\ops.py\u001b[0m in \u001b[0;36minternal_convert_to_tensor\u001b[1;34m(value, dtype, name, as_ref, preferred_dtype, ctx)\u001b[0m\n\u001b[0;32m   1144\u001b[0m \u001b[1;33m\u001b[0m\u001b[0m\n\u001b[0;32m   1145\u001b[0m     \u001b[1;32mif\u001b[0m \u001b[0mret\u001b[0m \u001b[1;32mis\u001b[0m \u001b[1;32mNone\u001b[0m\u001b[1;33m:\u001b[0m\u001b[1;33m\u001b[0m\u001b[1;33m\u001b[0m\u001b[0m\n\u001b[1;32m-> 1146\u001b[1;33m       \u001b[0mret\u001b[0m \u001b[1;33m=\u001b[0m \u001b[0mconversion_func\u001b[0m\u001b[1;33m(\u001b[0m\u001b[0mvalue\u001b[0m\u001b[1;33m,\u001b[0m \u001b[0mdtype\u001b[0m\u001b[1;33m=\u001b[0m\u001b[0mdtype\u001b[0m\u001b[1;33m,\u001b[0m \u001b[0mname\u001b[0m\u001b[1;33m=\u001b[0m\u001b[0mname\u001b[0m\u001b[1;33m,\u001b[0m \u001b[0mas_ref\u001b[0m\u001b[1;33m=\u001b[0m\u001b[0mas_ref\u001b[0m\u001b[1;33m)\u001b[0m\u001b[1;33m\u001b[0m\u001b[1;33m\u001b[0m\u001b[0m\n\u001b[0m\u001b[0;32m   1147\u001b[0m \u001b[1;33m\u001b[0m\u001b[0m\n\u001b[0;32m   1148\u001b[0m     \u001b[1;32mif\u001b[0m \u001b[0mret\u001b[0m \u001b[1;32mis\u001b[0m \u001b[0mNotImplemented\u001b[0m\u001b[1;33m:\u001b[0m\u001b[1;33m\u001b[0m\u001b[1;33m\u001b[0m\u001b[0m\n",
      "\u001b[1;32mC:\\Anaconda3\\lib\\site-packages\\tensorflow\\python\\framework\\constant_op.py\u001b[0m in \u001b[0;36m_constant_tensor_conversion_function\u001b[1;34m(v, dtype, name, as_ref)\u001b[0m\n\u001b[0;32m    227\u001b[0m                                          as_ref=False):\n\u001b[0;32m    228\u001b[0m   \u001b[0m_\u001b[0m \u001b[1;33m=\u001b[0m \u001b[0mas_ref\u001b[0m\u001b[1;33m\u001b[0m\u001b[1;33m\u001b[0m\u001b[0m\n\u001b[1;32m--> 229\u001b[1;33m   \u001b[1;32mreturn\u001b[0m \u001b[0mconstant\u001b[0m\u001b[1;33m(\u001b[0m\u001b[0mv\u001b[0m\u001b[1;33m,\u001b[0m \u001b[0mdtype\u001b[0m\u001b[1;33m=\u001b[0m\u001b[0mdtype\u001b[0m\u001b[1;33m,\u001b[0m \u001b[0mname\u001b[0m\u001b[1;33m=\u001b[0m\u001b[0mname\u001b[0m\u001b[1;33m)\u001b[0m\u001b[1;33m\u001b[0m\u001b[1;33m\u001b[0m\u001b[0m\n\u001b[0m\u001b[0;32m    230\u001b[0m \u001b[1;33m\u001b[0m\u001b[0m\n\u001b[0;32m    231\u001b[0m \u001b[1;33m\u001b[0m\u001b[0m\n",
      "\u001b[1;32mC:\\Anaconda3\\lib\\site-packages\\tensorflow\\python\\framework\\constant_op.py\u001b[0m in \u001b[0;36mconstant\u001b[1;34m(value, dtype, shape, name, verify_shape)\u001b[0m\n\u001b[0;32m    206\u001b[0m   tensor_value.tensor.CopyFrom(\n\u001b[0;32m    207\u001b[0m       tensor_util.make_tensor_proto(\n\u001b[1;32m--> 208\u001b[1;33m           value, dtype=dtype, shape=shape, verify_shape=verify_shape))\n\u001b[0m\u001b[0;32m    209\u001b[0m   \u001b[0mdtype_value\u001b[0m \u001b[1;33m=\u001b[0m \u001b[0mattr_value_pb2\u001b[0m\u001b[1;33m.\u001b[0m\u001b[0mAttrValue\u001b[0m\u001b[1;33m(\u001b[0m\u001b[0mtype\u001b[0m\u001b[1;33m=\u001b[0m\u001b[0mtensor_value\u001b[0m\u001b[1;33m.\u001b[0m\u001b[0mtensor\u001b[0m\u001b[1;33m.\u001b[0m\u001b[0mdtype\u001b[0m\u001b[1;33m)\u001b[0m\u001b[1;33m\u001b[0m\u001b[1;33m\u001b[0m\u001b[0m\n\u001b[0;32m    210\u001b[0m   const_tensor = g.create_op(\n",
      "\u001b[1;32mC:\\Anaconda3\\lib\\site-packages\\tensorflow\\python\\framework\\tensor_util.py\u001b[0m in \u001b[0;36mmake_tensor_proto\u001b[1;34m(values, dtype, shape, verify_shape)\u001b[0m\n\u001b[0;32m    449\u001b[0m                          \u001b[1;34m\"\"\" - got shape %s, but wanted %s.\"\"\"\u001b[0m \u001b[1;33m%\u001b[0m\u001b[1;33m\u001b[0m\u001b[1;33m\u001b[0m\u001b[0m\n\u001b[0;32m    450\u001b[0m                          (values, list(nparray.shape),\n\u001b[1;32m--> 451\u001b[1;33m                           _GetDenseDimensions(values)))\n\u001b[0m\u001b[0;32m    452\u001b[0m \u001b[1;33m\u001b[0m\u001b[0m\n\u001b[0;32m    453\u001b[0m     \u001b[1;31m# python/numpy default float type is float64. We prefer float32 instead.\u001b[0m\u001b[1;33m\u001b[0m\u001b[1;33m\u001b[0m\u001b[1;33m\u001b[0m\u001b[0m\n",
      "\u001b[1;31mValueError\u001b[0m: Argument must be a dense tensor: (array([0., 0., 0., 0., 0., 0., 0., 0., 0., 0., 0., 0., 0., 0., 0., 0., 0.,\n       0., 0., 0., 0., 0., 0., 0., 0., 0., 0., 0., 0., 0., 0., 0., 0., 0.,\n       0., 0., 0., 0., 0., 0., 0., 0., 0., 0., 0., 0., 0., 0., 0., 0., 0.,\n       0., 0., 0., 0., 0., 0., 0., 0., 0., 0., 0., 0., 0., 0., 0., 0., 0.,\n       0., 0., 0., 0., 0., 0., 0., 0., 0., 0., 0., 0., 0., 0., 0., 0., 0.,\n       0., 0., 0., 0., 0., 0., 0., 0., 0., 0., 0., 0., 0., 0., 0., 0., 0.,\n       0., 0., 0., 0., 0., 0., 0., 0., 0., 0., 0., 0., 0., 0., 0., 0., 0.,\n       0., 0., 0., 0., 0., 0., 0., 0., 0., 0., 0., 0., 0., 0., 0., 0., 0.,\n       0., 0., 0., 0., 0., 0., 0., 0., 0., 0., 0., 0., 0., 0., 0., 0., 0.,\n       0., 0., 0., 0., 0., 0., 0., 0., 0., 0., 0., 0., 0., 0., 0., 0., 0.,\n       0., 0., 0., 0., 0., 0., 0., 0., 0., 0., 0., 0., 0., 0., 0., 0., 0.,\n       0., 0., 0., 0., 0., 0., 0., 0., 0., 0., 0., 0., 0., 0., 0., 0., 0.,\n       0., 0., 0., 0., 0., 0., 0., 0., 0., 0., 0., 0., 0., 0., 0., 0., 0.,\n       0., 0., 0., 0., 0., 0., 0., 0., 0., 0., 0., 0., 0., 0., 0., 0., 0.,\n       0., 0., 0., 0., 0., 0., 0., 0., 0., 0., 0., 0., 0., 0., 0., 0., 0.,\n       0., 0., 0., 0., 0., 0., 0., 0., 0., 0., 0., 0., 0., 0., 0., 0., 0.,\n       0., 0., 0., 0., 0., 0., 0., 0., 0., 0., 0., 0., 0., 0., 0., 0., 0.,\n       0., 0., 0., 0., 0., 0., 0., 0., 0., 0., 0.]), array([-1.60898035e-03, -1.52038794e-03, -1.10933091e-03, -7.67398276e-04,\n       -4.76854068e-04, -1.32066687e-03, -3.64607768e-05,  5.24082046e-04,\n       -1.09348889e-03, -9.52688977e-04,  1.58644223e-03, -1.47640193e-03,\n        1.24946039e-03, -1.15392741e-03, -5.77126455e-04,  1.30668608e-03,\n        3.98015429e-04, -5.98374987e-04,  1.15968799e-03,  8.16885731e-04,\n        2.60857923e-04, -1.12693349e-03, -9.21725314e-06, -1.60185300e-04,\n       -1.37256618e-04,  1.12894434e-03, -1.31035340e-03,  1.24460098e-03,\n        1.53846527e-03,  6.33214833e-04, -2.74155667e-04,  5.95811696e-04,\n        8.74387100e-04,  1.27034681e-03, -7.89425219e-04,  3.71693575e-04,\n        1.53230067e-05,  1.63376739e-03,  5.56558662e-04,  1.04503555e-03,\n        1.44374999e-03, -3.97537282e-04,  5.85352245e-04, -1.07527315e-03,\n        8.13228311e-04,  3.20632316e-05, -5.96775615e-04,  2.12454688e-04,\n        6.15049794e-04, -1.23639533e-03,  3.54901167e-05, -1.58044032e-03,\n       -2.35013489e-04,  7.77747191e-04, -7.51162763e-04,  9.12950782e-04,\n       -9.24831664e-04,  7.94099877e-04, -3.39813036e-04, -1.55711500e-03,\n       -1.25299237e-04,  1.31499697e-03, -1.07990555e-03, -1.57173641e-03,\n       -9.95508977e-04, -1.31331116e-03, -9.99436830e-04,  1.32224686e-03,\n       -1.19107752e-03,  1.31757720e-03,  1.52445887e-03, -5.07724646e-04,\n        1.08146470e-03,  1.12869765e-03,  4.67235717e-04, -5.31636528e-04,\n       -2.43571150e-04, -5.67581214e-04, -1.61261210e-04,  1.60701585e-03,\n       -1.17927731e-03, -1.29447016e-03,  1.45637791e-03,  9.64233986e-05,\n       -5.74845471e-04,  1.23399356e-03, -9.68343054e-04, -9.39524500e-04,\n       -7.02000223e-04,  5.65679395e-04,  7.15141243e-04,  4.03189733e-05,\n       -1.60276250e-03,  1.11598161e-03, -1.03874772e-03, -6.64652034e-04,\n        1.46818999e-03,  1.42809120e-03, -5.59733831e-04, -3.90343834e-04,\n       -7.05113634e-04, -7.53021232e-05,  2.74322720e-05, -4.92932333e-04,\n       -9.55337717e-04,  6.34255062e-04,  1.29280938e-03, -4.85283497e-04,\n       -1.32880232e-03, -1.41044951e-03, -8.20751186e-04,  4.61015634e-06,\n       -2.71514873e-04, -1.10504997e-03, -9.55768483e-05,  1.12787506e-03,\n        1.45905965e-03,  1.58085104e-03, -1.59685698e-03,  2.18621295e-04,\n        5.09664475e-04, -1.55338945e-04,  1.23669463e-03,  1.96945868e-04,\n        1.41947967e-04,  1.48042850e-03,  1.10943872e-03, -1.14344317e-03,\n        1.65881950e-03,  1.45826279e-03, -9.74185823e-04,  3.52423551e-04,\n       -1.22553622e-03,  1.47468600e-04,  1.35395167e-04,  1.41580682e-03,\n        9.10676317e-04, -1.42582797e-03, -2.87161209e-04,  1.38473010e-03,\n        3.19217012e-04, -4.35483817e-04,  5.82421431e-04, -1.33084517e-03,\n        9.93358481e-05,  1.03049830e-03, -9.15225828e-04,  1.50536152e-03,\n        1.28896895e-03,  1.61419809e-03,  2.01449468e-04,  1.00132369e-03,\n       -1.56998483e-03, -1.34477916e-03,  1.60844123e-04, -1.41050108e-03,\n        3.68407287e-04,  1.24141679e-03,  3.35246179e-04, -1.39729716e-04,\n        1.37440732e-03,  1.54752249e-03,  1.63330382e-03, -4.19510994e-04,\n        5.78496023e-04,  8.90669704e-04,  1.51883753e-03,  1.25596579e-03,\n        1.13689899e-03, -5.06002805e-04,  7.15256494e-04, -1.56985957e-03,\n       -7.52614360e-05,  1.91148574e-04, -1.02225202e-03, -8.63118330e-04,\n       -1.58842769e-03,  9.16173856e-04,  1.45495043e-03,  1.33247185e-03,\n        5.65683295e-04,  5.17761400e-05,  9.08959075e-04,  3.02332483e-04,\n        4.46042046e-04,  1.40330428e-03,  1.17137958e-03, -1.14644936e-04,\n        1.33080955e-03, -1.63942843e-03,  6.22208827e-05,  5.81298431e-04,\n        1.05937535e-03,  1.39693893e-03, -1.09336921e-03, -1.07880204e-03,\n        9.15478508e-04, -6.62800274e-04, -5.66827250e-04, -1.41169119e-03,\n       -1.34438265e-03, -1.08651689e-03,  3.55042575e-04, -1.54243060e-03,\n       -1.80042058e-04, -1.40939653e-03, -1.25757302e-03, -4.48599749e-04,\n       -1.22532609e-03, -1.02149497e-03, -4.14674403e-04,  9.73140763e-04,\n        1.08551187e-03,  7.12205889e-04, -1.13845104e-03,  4.30394313e-04,\n        9.50701593e-04,  1.87309139e-04, -1.30101480e-03, -3.38170968e-04,\n       -2.68863951e-04, -8.46220530e-04, -8.21234207e-05, -7.17866467e-04,\n       -3.67205444e-04, -8.77176935e-04, -6.89649547e-04, -5.99470513e-04,\n        1.36283552e-03, -5.49837714e-04,  3.01873515e-04,  4.51580767e-04,\n       -3.82866536e-04, -7.43020337e-07,  1.23502966e-03, -1.44779088e-03,\n       -6.00819243e-04, -1.02760526e-03,  9.09426366e-04,  1.52316946e-03,\n        8.94674566e-04, -3.95224284e-04,  1.29098748e-03, -9.82875586e-04,\n       -9.83973150e-04, -7.16527691e-04,  1.11102662e-03,  1.64950092e-03,\n        1.60315062e-03,  1.17079879e-03,  1.09600471e-04,  3.74121708e-04,\n       -1.38131436e-03, -2.97997729e-04,  7.60201656e-04, -9.09025621e-05,\n       -1.37156830e-03,  8.39024258e-04,  1.26102613e-03,  2.54095154e-04,\n       -9.35553922e-04,  2.74013903e-04,  2.38458888e-04, -1.39605277e-03,\n        1.41464977e-03, -1.45770190e-03, -5.67707000e-04,  4.64327459e-04,\n        1.45531620e-03,  3.89221183e-04, -1.22344226e-03,  1.62306242e-03,\n        1.16158847e-03,  4.26869810e-04,  7.20058415e-06, -1.42903591e-03,\n        6.68151130e-04, -1.43818895e-03, -9.88423009e-04, -1.17211835e-03,\n       -7.01633689e-04, -1.00185243e-04, -4.02247941e-04,  9.33111587e-04,\n       -4.34284557e-05,  8.71165539e-05, -1.57590001e-03,  1.97194560e-04,\n        9.03506880e-04,  1.19144947e-03,  7.62167387e-04,  6.39694335e-05,\n       -6.20790932e-04,  8.66841365e-05,  6.34230848e-04,  2.49058765e-04,\n       -2.09642138e-04, -1.16257218e-03, -2.82113848e-04,  9.52833099e-04])) - got shape [2, 300], but wanted [2]."
     ]
    }
   ],
   "source": [
    "# training an embedding, test run\n",
    "\n",
    "layers1 = [GlobalAveragePooling1D()]\n",
    "\n",
    "model1 = BlackBox(layers=layers1, loss=my_loss, metrics=my_metrics,\\\n",
    "                  embedd_weights=embedd_weights, embedd_dims=[NUM_WORDS, EMBEDD_DIM, PADDED_LEN])\n",
    "model1.summary()"
   ]
  },
  {
   "cell_type": "code",
   "execution_count": null,
   "metadata": {},
   "outputs": [],
   "source": []
  },
  {
   "cell_type": "code",
   "execution_count": null,
   "metadata": {},
   "outputs": [],
   "source": []
  },
  {
   "cell_type": "code",
   "execution_count": null,
   "metadata": {},
   "outputs": [],
   "source": []
  },
  {
   "cell_type": "code",
   "execution_count": null,
   "metadata": {},
   "outputs": [],
   "source": []
  },
  {
   "cell_type": "code",
   "execution_count": null,
   "metadata": {},
   "outputs": [],
   "source": []
  },
  {
   "cell_type": "code",
   "execution_count": null,
   "metadata": {},
   "outputs": [],
   "source": []
  },
  {
   "cell_type": "code",
   "execution_count": null,
   "metadata": {},
   "outputs": [],
   "source": []
  }
 ],
 "metadata": {
  "kernelspec": {
   "display_name": "Python 3",
   "language": "python",
   "name": "python3"
  },
  "language_info": {
   "codemirror_mode": {
    "name": "ipython",
    "version": 3
   },
   "file_extension": ".py",
   "mimetype": "text/x-python",
   "name": "python",
   "nbconvert_exporter": "python",
   "pygments_lexer": "ipython3",
   "version": "3.6.7"
  }
 },
 "nbformat": 4,
 "nbformat_minor": 2
}
