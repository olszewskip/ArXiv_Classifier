{
 "cells": [
  {
   "cell_type": "code",
   "execution_count": 18,
   "metadata": {},
   "outputs": [],
   "source": [
    "import os\n",
    "import pandas as pd\n",
    "import numpy as np\n",
    "import pickle\n",
    "\n",
    "from keras.models import Sequential\n",
    "from keras.layers import *\n",
    "\n",
    "from keras.callbacks import ReduceLROnPlateau, EarlyStopping, ModelCheckpoint\n",
    "\n",
    "import matplotlib.pyplot as plt\n",
    "plt.style.use('seaborn')"
   ]
  },
  {
   "cell_type": "code",
   "execution_count": 46,
   "metadata": {},
   "outputs": [
    {
     "data": {
      "text/plain": [
       "{'unique_words': 277303,\n",
       " 'num_words': 277304,\n",
       " 'padded_length': 679,\n",
       " 'n_classes': 6,\n",
       " 'class_weights': array([ 1.26825655,  0.72736371,  0.27602776, 13.23801959, 30.29201502,\n",
       "         9.49559404])}"
      ]
     },
     "execution_count": 46,
     "metadata": {},
     "output_type": "execute_result"
    }
   ],
   "source": [
    "global_params = pickle.load(open(\"global_params.p\", \"rb\"))\n",
    "unique_words = global_params['unique_words']\n",
    "num_words = global_params['num_words']\n",
    "padded_length = global_params['padded_length']\n",
    "n_classes = global_params['n_classes']\n",
    "class_weights = global_params['class_weights']\n",
    "\n",
    "global_params"
   ]
  },
  {
   "cell_type": "code",
   "execution_count": 47,
   "metadata": {},
   "outputs": [],
   "source": [
    "X_train = np.load(os.path.join(\"data\", \"Kdata\", \"X_train.npy\"))\n",
    "y_train = np.load(os.path.join(\"data\", \"Kdata\", \"y_train.npy\"))\n",
    "X_val = np.load(os.path.join(\"data\", \"Kdata\", \"X_val.npy\"))\n",
    "y_val = np.load(os.path.join(\"data\", \"Kdata\", \"y_val.npy\"))"
   ]
  },
  {
   "cell_type": "code",
   "execution_count": 48,
   "metadata": {},
   "outputs": [],
   "source": [
    "from keras import backend as K\n",
    "\n",
    "def macroPrec(y_true, y_pred):\n",
    "    # a custom metric\n",
    "    # note that any metric is computed per batch during training\n",
    "    # (hence one needs large batches for it to make sense)\n",
    "    # also, there is the implicit 0.5 treshold due to the round function\n",
    "    \n",
    "    true_positives = K.sum(K.round(K.clip(y_true * y_pred, 0, 1)), axis=0)\n",
    "    positives = K.sum(K.round(y_pred), axis=0)\n",
    "    precision = true_positives / (positives + K.epsilon())\n",
    "\n",
    "    macroPrec = K.mean( precision )\n",
    "    \n",
    "    return macroPrec\n",
    "\n",
    "def macroRecall(y_true, y_pred):\n",
    "    # a custom metric\n",
    "    # note that any metric is computed per batch during training\n",
    "    # (hence one needs large batches for it to make sense)\n",
    "    # also, there is the implicit 0.5 treshold due to the round function\n",
    "    \n",
    "    true_positives = K.sum(K.round(K.clip(y_true * y_pred, 0, 1)), axis=0)\n",
    "    actual_ones = K.sum(K.round(K.clip(y_true, 0, 1)), axis=0)\n",
    "    recall = true_positives / (actual_ones + K.epsilon())\n",
    "\n",
    "    macroRecall = K.mean( recall )\n",
    "    \n",
    "    return macroRecall\n",
    "\n",
    "\n",
    "def macroF1(y_true, y_pred):\n",
    "    # a custom metric\n",
    "    # note that any metric is computed per batch during training\n",
    "    # (hence one needs large batches for it to make sense)\n",
    "    # also, there is the implicit 0.5 treshold due to the round function\n",
    "    \n",
    "    def recall(y_true, y_pred):\n",
    "\n",
    "        true_positives = K.sum(K.round(K.clip(y_true * y_pred, 0, 1)), axis=0)\n",
    "        actual_ones = K.sum(K.round(K.clip(y_true, 0, 1)), axis=0)\n",
    "        recall = true_positives / (actual_ones + K.epsilon())\n",
    "        return recall\n",
    "\n",
    "    \n",
    "    def precision(y_true, y_pred):\n",
    "        \n",
    "        true_positives = K.sum(K.round(K.clip(y_true * y_pred, 0, 1)), axis=0)\n",
    "        positives = K.sum(K.round(K.clip(y_pred, 0, 1)), axis=0)\n",
    "        precision = true_positives / (positives + K.epsilon())\n",
    "        return precision\n",
    "    \n",
    "    precision = precision(y_true, y_pred)\n",
    "    recall = recall(y_true, y_pred)\n",
    "    macroF1 = K.mean( 2*((precision*recall)/(precision+recall+K.epsilon())) )\n",
    "    \n",
    "    return macroF1\n",
    "\n",
    "\n",
    "def fuzzy_macroF1_flip(y_true, y_pred):\n",
    "    # a custom loss function\n",
    "    # no clippping or rounding as those are not differentiable\n",
    "    \n",
    "    def recall(y_true, y_pred):\n",
    "\n",
    "        true_positives = K.sum(y_true * y_pred, axis=0)\n",
    "        actual_ones = K.sum(y_true, axis=0)\n",
    "        recall = true_positives / (actual_ones + K.epsilon())\n",
    "        return recall\n",
    "\n",
    "    \n",
    "    def precision(y_true, y_pred):\n",
    "        \n",
    "        true_positives = K.sum(y_true * y_pred, axis=0)\n",
    "        positives = K.sum(y_pred, axis=0)\n",
    "        precision = true_positives / (positives + K.epsilon())\n",
    "        return precision\n",
    "    \n",
    "    precision = precision(y_true, y_pred)\n",
    "    recall = recall(y_true, y_pred)\n",
    "    macroF1 = K.mean( 2*((precision*recall)/(precision+recall+K.epsilon())) ) \n",
    "    \n",
    "    return 1-macroF1"
   ]
  },
  {
   "cell_type": "code",
   "execution_count": 49,
   "metadata": {},
   "outputs": [],
   "source": [
    "# auxiliary functions\n",
    "\n",
    "# choose callback functions to be given in model.fit(...)\n",
    "def callbacks(LRfactor=0.8):\n",
    "    return [ReduceLROnPlateau(factor=LRfactor, patience = patience//4),\n",
    "            EarlyStopping(monitor='val_macroF1', mode='max', patience=patience)\n",
    "           ]\n",
    "\n",
    "    \n",
    "# to plot the learning history,\n",
    "# i.e. loss and metrics on each train_batch and validation_batch\n",
    "def plot_history(history):\n",
    "    \n",
    "    plt.figure(figsize=(18, 5))\n",
    "    \n",
    "    loss = history.history['loss']\n",
    "    val_loss = history.history['val_loss']\n",
    "    x = range(1, len(loss) + 1)\n",
    "    \n",
    "    plt.subplot(1, 3, 1)    \n",
    "    plt.plot(x, loss, 'ob', label='Training loss')\n",
    "    plt.plot(x, val_loss, '-b', label='Validation loss')\n",
    "    plt.title('Training and val losses') \n",
    "    plt.legend()\n",
    "    \n",
    "    all_metrics = np.array(list(set(history.history.keys()) - set(['loss', 'val_loss', 'lr'])))\n",
    "    metrics = all_metrics[[not metric.startswith('val_') for metric in all_metrics]]\n",
    "    plt.subplot(1, 3, 2)\n",
    "    markers = ['b', 'r',  'g', 'y']\n",
    "    marker = zip(markers, markers)\n",
    "    for metric in metrics:\n",
    "        results = history.history[metric]\n",
    "        val_results = history.history['val_'+metric]\n",
    "        mark1, mark2 = next(marker)\n",
    "        plt.plot(x, results, 'o'+mark1, label=metric)\n",
    "        plt.plot(x, val_results, '-'+mark2, label='Validation '+metric)\n",
    "        plt.title('Training and val metrics')\n",
    "    plt.legend()\n",
    "    \n",
    "    plt.subplot(1, 3, 3)\n",
    "    lr = history.history['lr'] # learning rate\n",
    "    plt.plot(x, lr, 'k', label='Learning rate')\n",
    "    plt.title('Learning rate')  \n",
    "    plt.legend()"
   ]
  },
  {
   "cell_type": "code",
   "execution_count": 50,
   "metadata": {},
   "outputs": [],
   "source": [
    "# the workhorse\n",
    "\n",
    "class BlackBox():\n",
    "    \n",
    "    def __init__(self, layers, loss, metrics, callbacks=callbacks(), embedd = None, embedd_dims=[None]*3):\n",
    "        \n",
    "        self.layers = layers\n",
    "        self.loss = loss\n",
    "        self.metrics = metrics\n",
    "        self.callbacks = callbacks\n",
    "        self.history = None\n",
    "        self.results = None\n",
    "        \n",
    "        self.model = Sequential()\n",
    "        if embedd:\n",
    "            self.input_dim = embedd_dims[0] # num_words\n",
    "            self.output_dim = embedd_dims[1] # dimension of the embedding space\n",
    "            self.input_length = embedd_dims[2] # padded_length\n",
    "            self.embedd_weights = pickle.load(open(embedd, \"rb\"))\n",
    "            \n",
    "            self.model.add(Embedding(input_dim=self.input_dim,\\\n",
    "                                     output_dim=self.output_dim,\\\n",
    "                                     input_length=self.input_length,\\\n",
    "                                     weights=self.embedd_weights,\\\n",
    "                                     trainable=False))\n",
    "        for layer in layers:\n",
    "            self.model.add(layer)\n",
    "            \n",
    "        self.model.add(Dense(n_classes, activation='softmax'))\n",
    "        self.model.compile(loss=self.loss, optimizer=optimizer, metrics=self.metrics)\n",
    "    \n",
    "    def summary(self):\n",
    "        return self.model.summary()\n",
    "    \n",
    "    def fit(self, epochs=200):\n",
    "        self.history = self.model.fit(\n",
    "            X_train, y_train,\n",
    "            class_weight=class_weights,\n",
    "            epochs=epochs,\n",
    "            batch_size=batch_size,\n",
    "            validation_data=(X_val, y_val),\n",
    "            callbacks=self.callbacks,\n",
    "            verbose = 1        \n",
    "            )\n",
    "        \n",
    "    def reset(self):\n",
    "        \n",
    "        self.history = None\n",
    "        self.results = None\n",
    "        self.model.compile(loss=self.loss, optimizer=optimizer, metrics=self.metrics)\n",
    "        \n",
    "    def evaluate(self):\n",
    "        print(f'Loss function: {self.loss.__name__ if callable(self.loss) else self.loss}. Metrics: {[metric.__name__ if callable(metric) else metric for metric in self.metrics]}')\n",
    "        print(\"Predicting for X_test, comparing with y_test\")\n",
    "        return self.results\n",
    "    \n",
    "    def plot(self):\n",
    "        plot_history(self.history)\n",
    "        \n",
    "    def save(self, file):\n",
    "        self.model.save(file)\n",
    "        \n",
    "    def save_embedd(self, name):\n",
    "        pickle.dump(self.model.layers[0].get_weights(), open(f\"my_embedd_weights_{name}.p\", \"wb\")) \n",
    " \n"
   ]
  },
  {
   "cell_type": "code",
   "execution_count": 51,
   "metadata": {},
   "outputs": [],
   "source": [
    "# some other global learning settings\n",
    "\n",
    "batch_size = 3000\n",
    "patience = 8\n",
    "optimizer = 'adam' # 'rmsprop'\n",
    "my_loss = fuzzy_macroF1_flip\n",
    "my_metrics = [macroPrec, macroF1, macroRecall]"
   ]
  },
  {
   "cell_type": "markdown",
   "metadata": {},
   "source": [
    "---"
   ]
  },
  {
   "cell_type": "code",
   "execution_count": 54,
   "metadata": {},
   "outputs": [
    {
     "name": "stdout",
     "output_type": "stream",
     "text": [
      "_________________________________________________________________\n",
      "Layer (type)                 Output Shape              Param #   \n",
      "=================================================================\n",
      "embedding_5 (Embedding)      (None, 679, 50)           13865200  \n",
      "_________________________________________________________________\n",
      "global_average_pooling1d_5 ( (None, 50)                0         \n",
      "_________________________________________________________________\n",
      "dense_3 (Dense)              (None, 6)                 306       \n",
      "=================================================================\n",
      "Total params: 13,865,506\n",
      "Trainable params: 13,865,506\n",
      "Non-trainable params: 0\n",
      "_________________________________________________________________\n"
     ]
    }
   ],
   "source": [
    "# training an embedding, test run\n",
    "\n",
    "layers1 = [Embedding(input_dim=num_words, output_dim=50, input_length=padded_length, mask_zero=True),\n",
    "           GlobalAveragePooling1D()]\n",
    "\n",
    "model1 = BlackBox(layers=layers1, loss=my_loss, metrics=my_metrics)\n",
    "model1.summary()"
   ]
  },
  {
   "cell_type": "code",
   "execution_count": null,
   "metadata": {},
   "outputs": [
    {
     "name": "stdout",
     "output_type": "stream",
     "text": [
      "Train on 500000 samples, validate on 200000 samples\n",
      "Epoch 1/200\n",
      "500000/500000 [==============================] - 237s 473us/step - loss: 0.8329 - macroPrec: 0.1121 - macroF1: 0.0696 - macroRecall: 0.0639 - val_loss: 0.7470 - val_macroPrec: 0.3222 - val_macroF1: 0.2462 - val_macroRecall: 0.2183\n",
      "Epoch 2/200\n",
      "500000/500000 [==============================] - 235s 471us/step - loss: 0.6560 - macroPrec: 0.4414 - macroF1: 0.3799 - macroRecall: 0.3547 - val_loss: 0.5944 - val_macroPrec: 0.4415 - val_macroF1: 0.4317 - val_macroRecall: 0.4225\n",
      "Epoch 3/200\n",
      "500000/500000 [==============================] - 240s 480us/step - loss: 0.5603 - macroPrec: 0.4438 - macroF1: 0.4368 - macroRecall: 0.4311 - val_loss: 0.5239 - val_macroPrec: 0.4815 - val_macroF1: 0.4424 - val_macroRecall: 0.4363\n",
      "Epoch 4/200\n",
      "435000/500000 [=========================>....] - ETA: 29s - loss: 0.4716 - macroPrec: 0.7459 - macroF1: 0.5281 - macroRecall: 0.4932"
     ]
    }
   ],
   "source": [
    "model1.fit()"
   ]
  },
  {
   "cell_type": "code",
   "execution_count": null,
   "metadata": {},
   "outputs": [],
   "source": [
    "model1.plot()"
   ]
  },
  {
   "cell_type": "code",
   "execution_count": null,
   "metadata": {},
   "outputs": [],
   "source": [
    "model1.save('embedd_model1.h5')"
   ]
  },
  {
   "cell_type": "code",
   "execution_count": null,
   "metadata": {},
   "outputs": [],
   "source": [
    "model1.save_embedd(\"50dim_GlblAvg\")"
   ]
  },
  {
   "cell_type": "markdown",
   "metadata": {},
   "source": [
    "---"
   ]
  },
  {
   "cell_type": "code",
   "execution_count": null,
   "metadata": {},
   "outputs": [],
   "source": [
    "# training an embedding\n",
    "\n",
    "layers2 = [Embedding(input_dim=num_words, output_dim=300, input_length=padded_length, mask_zero=True),\n",
    "           GlobalAveragePooling1D()]\n",
    "\n",
    "model2 = BlackBox(layers=layers1, loss=my_loss, metrics=my_metrics)\n",
    "model2.summary()"
   ]
  },
  {
   "cell_type": "code",
   "execution_count": null,
   "metadata": {},
   "outputs": [],
   "source": [
    "model2.fit()"
   ]
  },
  {
   "cell_type": "code",
   "execution_count": null,
   "metadata": {},
   "outputs": [],
   "source": [
    "model2.plot()"
   ]
  },
  {
   "cell_type": "code",
   "execution_count": null,
   "metadata": {},
   "outputs": [],
   "source": [
    "model2.save('embedd_model2.h5')"
   ]
  },
  {
   "cell_type": "code",
   "execution_count": null,
   "metadata": {},
   "outputs": [],
   "source": [
    "model2.save_embedd(\"300dim_GlblAvg\")"
   ]
  },
  {
   "cell_type": "markdown",
   "metadata": {},
   "source": [
    "---"
   ]
  },
  {
   "cell_type": "code",
   "execution_count": null,
   "metadata": {},
   "outputs": [],
   "source": [
    "# training an embedding\n",
    "\n",
    "layers3 = [Embedding(input_dim=num_words, output_dim=50, input_length=padded_length),\n",
    "           Dropout(rate=0.5, noise_shape=(batch_size, padded_length,  1)),\n",
    "           AveragePooling1D(pool_size=3, strides=1, padding='valid', data_format='channels_last'),\n",
    "           Flatten(),\n",
    "\n",
    "model3 = BlackBox(layers=layers1, loss=my_loss, metrics=my_metrics)\n",
    "model3.summary()"
   ]
  },
  {
   "cell_type": "code",
   "execution_count": null,
   "metadata": {},
   "outputs": [],
   "source": [
    "model3.fit()"
   ]
  },
  {
   "cell_type": "code",
   "execution_count": null,
   "metadata": {},
   "outputs": [],
   "source": [
    "model3.plot()"
   ]
  },
  {
   "cell_type": "code",
   "execution_count": null,
   "metadata": {},
   "outputs": [],
   "source": [
    "model3.save('embedd_model3.h5')"
   ]
  },
  {
   "cell_type": "code",
   "execution_count": null,
   "metadata": {},
   "outputs": [],
   "source": [
    "model3.save_embedd(\"50dim_Drpt05_Avg3\")"
   ]
  },
  {
   "cell_type": "markdown",
   "metadata": {},
   "source": [
    "---"
   ]
  },
  {
   "cell_type": "code",
   "execution_count": null,
   "metadata": {},
   "outputs": [],
   "source": []
  }
 ],
 "metadata": {
  "kernelspec": {
   "display_name": "Python 3",
   "language": "python",
   "name": "python3"
  },
  "language_info": {
   "codemirror_mode": {
    "name": "ipython",
    "version": 3
   },
   "file_extension": ".py",
   "mimetype": "text/x-python",
   "name": "python",
   "nbconvert_exporter": "python",
   "pygments_lexer": "ipython3",
   "version": "3.6.7"
  }
 },
 "nbformat": 4,
 "nbformat_minor": 2
}
