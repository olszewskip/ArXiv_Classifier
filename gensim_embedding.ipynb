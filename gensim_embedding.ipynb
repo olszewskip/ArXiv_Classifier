{
 "cells": [
  {
   "cell_type": "code",
   "execution_count": 1,
   "metadata": {},
   "outputs": [],
   "source": [
    "import re\n",
    "import os\n",
    "import numpy as np\n",
    "from random import randint\n",
    "\n",
    "from gensim.models import Word2Vec"
   ]
  },
  {
   "cell_type": "code",
   "execution_count": 10,
   "metadata": {},
   "outputs": [],
   "source": [
    "n_train = 500_000\n",
    "DATA_FILE = os.path.join(\"data\", \"notex_all.csv\")\n",
    "WORD_PATTERN = re.compile('\\w[\\w\\'`]+')\n",
    "# GENSIM_WORD_VEC_FILE = os.path.join(\"gensim\", f\"w2v_{n_train//1000}k_notex_records.kv\")\n",
    "EMBEDD_FILE = os.path.join(\"gensim\", \"embedd_weights.npy\")\n",
    "EMBEDD_DIM = 300\n",
    "X_FILE = os.path.join(\"gensim\", \"embedded_X.txt\")\n",
    "Y_FILE = os.path.join(\"gensim\", \"encoded_Y.txt\")"
   ]
  },
  {
   "cell_type": "code",
   "execution_count": 25,
   "metadata": {},
   "outputs": [],
   "source": [
    "# A python iterator for gensim's Word2Vec class\n",
    "# It spits out elements that are lists of words\n",
    "# Each list corresponds to one arXiv article\n",
    "# e.g. next(texts_iter) = ['hello', 'world']\n",
    "\n",
    "class texts_iter():\n",
    "    \n",
    "    def __init__(self, filename, nrows=float('inf'), skiprows=1,\\\n",
    "                 prepend_label=True):\n",
    "        \n",
    "        self.idx = 0\n",
    "        self.nrows = nrows\n",
    "        self.records = open(filename, \"r\")\n",
    "        self.maxlen = 0\n",
    "        self.prepend_label = prepend_label\n",
    "        \n",
    "        #skip rows, default = 1-line header\n",
    "        for _ in range(skiprows):\n",
    "            next(self.records)\n",
    "    \n",
    "    def finish(self):\n",
    "        self.records.close()\n",
    "\n",
    "\n",
    "    # the defining method, returns a list\n",
    "    def __next__(self):\n",
    "        \n",
    "        # don't read beyond 'nrows'\n",
    "        if self.idx < self.nrows:  \n",
    "            self.idx += 1\n",
    "            \n",
    "            try:\n",
    "                record, label = next(self.records).split('\\t')\n",
    "            except:\n",
    "                self.finish()\n",
    "                raise StopIteration()\n",
    "            \n",
    "                \n",
    "            text = record.lower()\n",
    "            words = WORD_PATTERN.findall(text)\n",
    "            self.maxlen = max(len(words), self.maxlen)\n",
    "            \n",
    "            if self.prepend_label:\n",
    "                return [label.strip()] + words\n",
    "            else:\n",
    "                return words\n",
    "        \n",
    "        else:\n",
    "            self.finish()\n",
    "            raise StopIteration()\n",
    "    \n",
    "    def __iter__(self):\n",
    "        return self"
   ]
  },
  {
   "cell_type": "code",
   "execution_count": 7,
   "metadata": {},
   "outputs": [
    {
     "name": "stdout",
     "output_type": "stream",
     "text": [
      "Highest wordcount in the train data-set: 647.\n"
     ]
    }
   ],
   "source": [
    "# apply Word2Vec\n",
    "texts_train = texts_iter(DATA_FILE, nrows=n_train, prepend_label=False)\n",
    "word2vec = Word2Vec(texts_train,\\\n",
    "                    size=EMBEDD_DIM,\\\n",
    "                    min_count=1, sorted_vocab=1).wv\n",
    "\n",
    "print(f\"Highest wordcount in the train data-set: {texts_train.maxlen}.\")\n",
    "# word2vec.save(GENSIM_WORD_VEC_FILE)"
   ]
  },
  {
   "cell_type": "code",
   "execution_count": 24,
   "metadata": {},
   "outputs": [
    {
     "data": {
      "text/plain": [
       "679"
      ]
     },
     "execution_count": 24,
     "metadata": {},
     "output_type": "execute_result"
    }
   ],
   "source": [
    "PADDED_LEN = int(1.05 * 647)\n",
    "PADDED_LEN"
   ]
  },
  {
   "cell_type": "code",
   "execution_count": 15,
   "metadata": {},
   "outputs": [],
   "source": [
    "# # load the gensim's \"wv\" object from the file\n",
    "# word2vec = KeyedVectors.load(WORD_VEC_TRAIN_FILE, mmap='r')"
   ]
  },
  {
   "cell_type": "code",
   "execution_count": 17,
   "metadata": {},
   "outputs": [
    {
     "name": "stdout",
     "output_type": "stream",
     "text": [
      "(299304, 300)\n"
     ]
    }
   ],
   "source": [
    "# The resulting embedding and the mapping from words to indeces\n",
    "# are contained in this wod2vec object\n",
    "# Note that one needs the map along with the embedding to properly\n",
    "# tokenize the texts\n",
    "\n",
    "embedding = np.asarray(word2vec.vectors)\n",
    "print(embedding.shape)\n",
    "\n",
    "def word_to_idx(word):\n",
    "    try:\n",
    "        return word2vec.vocab[word].index + 1\n",
    "    except:\n",
    "        return 0"
   ]
  },
  {
   "cell_type": "code",
   "execution_count": 18,
   "metadata": {},
   "outputs": [
    {
     "data": {
      "text/plain": [
       "(1, 0)"
      ]
     },
     "execution_count": 18,
     "metadata": {},
     "output_type": "execute_result"
    }
   ],
   "source": [
    "word_to_idx('the'), word_to_idx('świerszcz')"
   ]
  },
  {
   "cell_type": "code",
   "execution_count": 19,
   "metadata": {},
   "outputs": [],
   "source": [
    "# save the embedding weights to file\n",
    "np.save(EMBEDD_FILE, embedding)"
   ]
  },
  {
   "cell_type": "code",
   "execution_count": 26,
   "metadata": {},
   "outputs": [
    {
     "data": {
      "text/plain": [
       "{'phys': 0, 'math': 1, 'q-bio': 2, 'stat': 3, 'q-fin': 4, 'cs': 5}"
      ]
     },
     "execution_count": 26,
     "metadata": {},
     "output_type": "execute_result"
    }
   ],
   "source": [
    "# create new files:\n",
    "# one with the texts converted to sequences of integer tokens (0-padded)\n",
    "# and the second with integer-encoded labels,\n",
    "# both using the texts_iter class\n",
    "# Note that the tokenization is applied to the whole of data\n",
    "# including test-data (so don't look inside)\n",
    "\n",
    "label_encoding = {}\n",
    "\n",
    "with open(X_FILE, 'w') as x_file:\n",
    "    with open(Y_FILE, 'w') as y_file:\n",
    "\n",
    "        # generate word-lists using the same iterator as for\n",
    "        # creating the embedding\n",
    "        records = texts_iter(DATA_FILE, prepend_label=True)\n",
    "\n",
    "        for list_ in records:\n",
    "            \n",
    "            label, *text = list_\n",
    "            \n",
    "            if label in label_encoding:\n",
    "                y = label_encoding[label.strip()]\n",
    "            else:\n",
    "                y = len(label_encoding)\n",
    "                label_encoding[label] = y\n",
    "                \n",
    "            y_file.write(str(y) + '\\n')\n",
    "            \n",
    "            sequence = [str(word_to_idx(word)) for word in text]\n",
    "            \n",
    "            # add post-padding\n",
    "            sequence += [str(0)] * (PADDED_LEN - len(sequence))\n",
    "            sequence = sequence[:PADDED_LEN]\n",
    "            \n",
    "            x_file.write(\" \".join(sequence) + '\\n')\n",
    "            \n",
    "label_encoding"
   ]
  },
  {
   "cell_type": "code",
   "execution_count": null,
   "metadata": {},
   "outputs": [],
   "source": []
  },
  {
   "cell_type": "code",
   "execution_count": null,
   "metadata": {},
   "outputs": [],
   "source": [
    "# # suboptimal function to randomly insert zeros into a list\n",
    "# # the number of zeros is proportional to the length of the list\n",
    "\n",
    "# def sprinkle_zeros(list_, frac):\n",
    "#     k = int(frac * len(list_))\n",
    "#     for _ in range(k):\n",
    "#         list_.insert(randint(0,len(list_)), 0)\n",
    "\n",
    "# li = list(range(1,20))\n",
    "# sprinkle_zeros(li, 0.1)\n",
    "# li"
   ]
  }
 ],
 "metadata": {
  "kernelspec": {
   "display_name": "Python 3",
   "language": "python",
   "name": "python3"
  },
  "language_info": {
   "codemirror_mode": {
    "name": "ipython",
    "version": 3
   },
   "file_extension": ".py",
   "mimetype": "text/x-python",
   "name": "python",
   "nbconvert_exporter": "python",
   "pygments_lexer": "ipython3",
   "version": "3.6.7"
  }
 },
 "nbformat": 4,
 "nbformat_minor": 2
}
