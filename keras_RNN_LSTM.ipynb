{
 "cells": [
  {
   "cell_type": "code",
   "execution_count": 0,
   "metadata": {
    "colab": {
     "base_uri": "https://localhost:8080/",
     "height": 35
    },
    "colab_type": "code",
    "id": "nXmV9-k0xrzh",
    "outputId": "73292cf8-34c3-46cd-8733-8b21caa5e844"
   },
   "outputs": [
    {
     "data": {
      "text/plain": [
       "'/device:GPU:0'"
      ]
     },
     "execution_count": 2,
     "metadata": {
      "tags": []
     },
     "output_type": "execute_result"
    }
   ],
   "source": [
    "#from tensorflow import test\n",
    "#test.gpu_device_name()"
   ]
  },
  {
   "cell_type": "code",
   "execution_count": 0,
   "metadata": {
    "colab": {
     "base_uri": "https://localhost:8080/",
     "height": 129
    },
    "colab_type": "code",
    "id": "zth9b7oiiatY",
    "outputId": "fd0b4734-9423-48fd-8f46-28b092cc7cd0"
   },
   "outputs": [
    {
     "name": "stdout",
     "output_type": "stream",
     "text": [
      "Go to this URL in a browser: https://accounts.google.com/o/oauth2/auth?client_id=947318989803-6bn6qk8qdgf4n4g3pfee6491hc0brc4i.apps.googleusercontent.com&redirect_uri=urn%3Aietf%3Awg%3Aoauth%3A2.0%3Aoob&scope=email%20https%3A%2F%2Fwww.googleapis.com%2Fauth%2Fdocs.test%20https%3A%2F%2Fwww.googleapis.com%2Fauth%2Fdrive%20https%3A%2F%2Fwww.googleapis.com%2Fauth%2Fdrive.photos.readonly%20https%3A%2F%2Fwww.googleapis.com%2Fauth%2Fpeopleapi.readonly&response_type=code\n",
      "\n",
      "Enter your authorization code:\n",
      "··········\n",
      "Mounted at /content/gdrive\n"
     ]
    }
   ],
   "source": [
    "#from google.colab import drive\n",
    "#drive.mount('/content/gdrive')"
   ]
  },
  {
   "cell_type": "code",
   "execution_count": 1,
   "metadata": {
    "colab": {},
    "colab_type": "code",
    "id": "uAfd7PLeide7"
   },
   "outputs": [],
   "source": [
    "#path = '/content/gdrive/My Drive/Colab Notebooks/ArXiv_Classifier'\n",
    "path=\"\""
   ]
  },
  {
   "cell_type": "code",
   "execution_count": 2,
   "metadata": {
    "colab": {
     "base_uri": "https://localhost:8080/",
     "height": 35
    },
    "colab_type": "code",
    "id": "is9JnCpCiXKV",
    "outputId": "295350d7-d04f-4b99-9f02-8cd0a0551546"
   },
   "outputs": [
    {
     "name": "stderr",
     "output_type": "stream",
     "text": [
      "Using TensorFlow backend.\n"
     ]
    }
   ],
   "source": [
    "import os\n",
    "import pickle\n",
    "import json\n",
    "import pandas as pd\n",
    "from itertools import cycle\n",
    "\n",
    "import numpy as np\n",
    "np.random.seed(123)\n",
    "\n",
    "from tensorflow import set_random_seed\n",
    "set_random_seed(123)\n",
    "\n",
    "from keras.models import Sequential, save_model, load_model\n",
    "from keras.layers import *\n",
    "from keras import backend as K\n",
    "from sklearn.metrics import f1_score\n",
    "\n",
    "from keras.callbacks import ReduceLROnPlateau, EarlyStopping, Callback\n",
    "\n",
    "import matplotlib.pyplot as plt\n",
    "from seaborn import color_palette \n",
    "plt.style.use('seaborn')"
   ]
  },
  {
   "cell_type": "markdown",
   "metadata": {
    "colab_type": "text",
    "id": "PGIeg58wiXKd"
   },
   "source": [
    "# Summary\n",
    "\n",
    "Seeing as the data that I wish to use for classification is medium-sized text in natural language, i.e. inherently a variable-length temporal sequence of tokens, the best candidate for a succesful net-architecture seem to be a **recurrent neural network**. I will fit my data to two such networks, both provided out-of-the-box by keras:\n",
    "* the simple (i.e. fully connected) recurrent network, **SimpleRNN**,\n",
    "* the long-short-term-memory, **LSTM**,\n",
    "\n",
    "both **24-dimensional** and **one-directional** (default: from left to right with left-zero-padded input).\n",
    "\n",
    "The recurrent net will sit between:\n",
    "* a trainable embedding initialized with the weights pre-trained with global-averaging (see *keras_GlobalAvg_GridSearch.ipynb*)\n",
    "* a dense layer with softmax.\n",
    "\n",
    "Those neural-nets allow one to mask the *zeros* (***mask_zero=True***) which is done by default by our wrapper class, and it is used both here and previosly in *keras_GlobalAvg_GridSearch.ipynb*.\n",
    "\n",
    "I will keep on using both loss functions considered earlier: the usual ***categorical crossentropy*** and the custom ***my_loss***. Aside from that we stick to *batch_size=200* and *optimizer=nadam*.\n",
    "\n",
    "This means that the starting embedding layers eployed here were trained with those same loss-functions, batch_sizes, optimizers, and the same train-data, but on a simpler architecture. The rationale is the following: the simple architecture has managed to roughly group together words that belong to the same topic reaching 80% macro-F1 on validation data. Now the more complicated nets are given a chance to find some nuanced but generalizable patterns that would help to better classify the remaining 20%.\n",
    "\n",
    "Also, small amount of *dropout regularization* is used here and there.\n",
    "\n",
    "**A summary of the metrics is at the bottom.**"
   ]
  },
  {
   "cell_type": "markdown",
   "metadata": {
    "colab_type": "text",
    "id": "U8XvdYfOiXKk"
   },
   "source": [
    "---\n",
    "### Boilerplate"
   ]
  },
  {
   "cell_type": "code",
   "execution_count": 3,
   "metadata": {
    "colab": {},
    "colab_type": "code",
    "id": "SeKa6r2AiXKm"
   },
   "outputs": [],
   "source": [
    "#! mkdir keras_RNN_LSTM_results\n",
    "working_dir = 'keras_RNN_LSTM_results'"
   ]
  },
  {
   "cell_type": "code",
   "execution_count": 4,
   "metadata": {
    "colab": {},
    "colab_type": "code",
    "id": "nMXzOwOhiXKr"
   },
   "outputs": [],
   "source": [
    "X_train = np.load(os.path.join(path, \"data\", \"Kdata\", \"X_train.npy\")) #[-n_sample:]\n",
    "y_train = np.load(os.path.join(path, \"data\", \"Kdata\", \"y_train.npy\")) #[-n_sample:]\n",
    "X_val = np.load(os.path.join(path, \"data\", \"Kdata\", \"X_val.npy\")) #[-n_sample:]\n",
    "y_val = np.load(os.path.join(path, \"data\", \"Kdata\", \"y_val.npy\")) #[-n_sample:]"
   ]
  },
  {
   "cell_type": "code",
   "execution_count": 5,
   "metadata": {
    "colab": {
     "base_uri": "https://localhost:8080/",
     "height": 127
    },
    "colab_type": "code",
    "id": "-TUQqC2BiXKu",
    "outputId": "0905e70a-da93-4868-d2e5-24486f972e7c"
   },
   "outputs": [
    {
     "data": {
      "text/plain": [
       "{'unique_words': 277303,\n",
       " 'num_words': 277304,\n",
       " 'padded_length': 679,\n",
       " 'n_classes': 6,\n",
       " 'class_weights': array([ 1.26825655,  0.72736371,  0.27602776, 13.23801959, 30.29201502,\n",
       "         9.49559404])}"
      ]
     },
     "execution_count": 5,
     "metadata": {},
     "output_type": "execute_result"
    }
   ],
   "source": [
    "global_params = pickle.load(open(os.path.join(path, \"global_params.p\"), \"rb\"))\n",
    "unique_words = global_params['unique_words']\n",
    "num_words = global_params['num_words']\n",
    "padded_length = global_params['padded_length']\n",
    "n_classes = global_params['n_classes']\n",
    "class_weights = global_params['class_weights']\n",
    "\n",
    "global_params"
   ]
  },
  {
   "cell_type": "code",
   "execution_count": 6,
   "metadata": {
    "colab": {
     "base_uri": "https://localhost:8080/",
     "height": 90
    },
    "colab_type": "code",
    "id": "NDoqBE46iXKw",
    "outputId": "fa459c49-7106-4636-bbd8-8b79403dd0de"
   },
   "outputs": [
    {
     "data": {
      "text/plain": [
       "['categorical_accuracy',\n",
       " <function __main__.macroPrec(y_true, y_pred)>,\n",
       " <function __main__.macroF1(y_true, y_pred)>,\n",
       " <function __main__.macroRecall(y_true, y_pred)>]"
      ]
     },
     "execution_count": 6,
     "metadata": {},
     "output_type": "execute_result"
    }
   ],
   "source": [
    "%run keras_custom_functions.ipynb\n",
    "\n",
    "# notebook1 = '/content/gdrive/My\\ Drive/Colab\\ Notebooks/ArXiv_Classifier/keras_custom_functions.ipynb'\n",
    "# %run $notebook1\n",
    "\n",
    "#my_metrics = list(CUSTOM_OBJECTS.values())\n",
    "my_metrics = ['categorical_accuracy', macroPrec, macroF1, macroRecall]\n",
    "my_metrics"
   ]
  },
  {
   "cell_type": "code",
   "execution_count": 7,
   "metadata": {
    "colab": {},
    "colab_type": "code",
    "id": "2JhNEBKjiXKz"
   },
   "outputs": [],
   "source": [
    "%run keras_plot_history.ipynb\n",
    "%run keras_blackbox_wrapper.ipynb\n",
    "\n",
    "# notebook2 = '/content/gdrive/My\\ Drive/Colab\\ Notebooks/ArXiv_Classifier/keras_plot_history.ipynb'\n",
    "# %run $notebook2\n",
    "\n",
    "# notebook3 = '/content/gdrive/My\\ Drive/Colab\\ Notebooks/ArXiv_Classifier/keras_blackbox_wrapper.ipynb'\n",
    "# %run $notebook3"
   ]
  },
  {
   "cell_type": "markdown",
   "metadata": {
    "colab_type": "text",
    "id": "QR0x0ae7iXK3"
   },
   "source": [
    "---"
   ]
  },
  {
   "cell_type": "code",
   "execution_count": 8,
   "metadata": {
    "colab": {},
    "colab_type": "code",
    "id": "mkGGq8n_iXK4"
   },
   "outputs": [],
   "source": [
    "batch_size = 200\n",
    "optimizer = 'nadam'\n",
    "epochs = 5"
   ]
  },
  {
   "cell_type": "code",
   "execution_count": 9,
   "metadata": {
    "colab": {},
    "colab_type": "code",
    "id": "I6hdMg7LiXK8"
   },
   "outputs": [],
   "source": [
    "embedd_file_crossent = os.path.join(path, 'keras_GlobalAvg_GridSearch_results', 'GlobalAvg_categorical_crossentropy_batch200_nadam_weights.p')\n",
    "embedd_file_myloss = os.path.join(path, 'keras_GlobalAvg_GridSearch_results', 'GlobalAvg_my_loss_batch200_nadam_weights.p')"
   ]
  },
  {
   "cell_type": "markdown",
   "metadata": {
    "colab_type": "text",
    "id": "-9DiVHLHiXK_"
   },
   "source": [
    "---\n",
    "## Simple Recurrent Neural Net"
   ]
  },
  {
   "cell_type": "code",
   "execution_count": 10,
   "metadata": {
    "colab": {},
    "colab_type": "code",
    "id": "8c_1PRcyiXK_"
   },
   "outputs": [],
   "source": [
    "layers_rnn = [SimpleRNN(24, dropout=0.1, recurrent_dropout=0.1)]"
   ]
  },
  {
   "cell_type": "markdown",
   "metadata": {},
   "source": [
    "#### loss = categorical_crossentropy"
   ]
  },
  {
   "cell_type": "code",
   "execution_count": 12,
   "metadata": {
    "colab": {
     "base_uri": "https://localhost:8080/",
     "height": 274
    },
    "colab_type": "code",
    "id": "zS6srtLqiXLD",
    "outputId": "52613bee-3a38-41b0-9821-2e3712f1ce77"
   },
   "outputs": [
    {
     "name": "stdout",
     "output_type": "stream",
     "text": [
      "loss=categorical_crossentropy, batch_size=200, optimizer=nadam, explicit-class-weights: True, embedd-trainable: True\n",
      "_________________________________________________________________\n",
      "Layer (type)                 Output Shape              Param #   \n",
      "=================================================================\n",
      "embedding_2 (Embedding)      (None, 679, 50)           13865200  \n",
      "_________________________________________________________________\n",
      "simple_rnn_1 (SimpleRNN)     (None, 24)                1800      \n",
      "_________________________________________________________________\n",
      "dense_2 (Dense)              (None, 6)                 150       \n",
      "=================================================================\n",
      "Total params: 13,867,150\n",
      "Trainable params: 13,867,150\n",
      "Non-trainable params: 0\n",
      "_________________________________________________________________\n"
     ]
    }
   ],
   "source": [
    "# 1\n",
    "\n",
    "loss='categorical_crossentropy'\n",
    "\n",
    "model_rnn1 = BlackBox(tag=\"SRNN\",\\\n",
    "                      layers=layers_rnn, loss=loss, batch_size=batch_size, optimizer=optimizer,\\\n",
    "                      epochs=epochs, metrics=my_metrics)\n",
    "\n",
    "model_rnn1.load_embedd(embedd_file_crossent, trainable=True)\n",
    "model_rnn1.summary()"
   ]
  },
  {
   "cell_type": "code",
   "execution_count": 0,
   "metadata": {
    "colab": {
     "base_uri": "https://localhost:8080/",
     "height": 276
    },
    "colab_type": "code",
    "id": "QZr6IKIWiXLF",
    "outputId": "a59e8899-5838-484e-afc2-8ae799cb7850"
   },
   "outputs": [
    {
     "name": "stdout",
     "output_type": "stream",
     "text": [
      "loss=categorical_crossentropy, batch_size=200, optimizer=nadam, explicit-class-weights: True, embedd-trainable: True\n",
      "Train on 500000 samples, validate on 200000 samples\n",
      "Epoch 1/5\n",
      "500000/500000 [==============================] - 2924s 6ms/step - loss: 0.4743 - categorical_accuracy: 0.8558 - macroPrec: 0.4269 - macroF1: 0.4135 - macroRecall: 0.4125 - val_loss: 0.3950 - val_categorical_accuracy: 0.8886 - val_macroPrec: 0.4794 - val_macroF1: 0.4588 - val_macroRecall: 0.4576\n",
      "Epoch 2/5\n",
      "500000/500000 [==============================] - 2926s 6ms/step - loss: 0.4398 - categorical_accuracy: 0.8615 - macroPrec: 0.4514 - macroF1: 0.4274 - macroRecall: 0.4184 - val_loss: 0.4556 - val_categorical_accuracy: 0.8609 - val_macroPrec: 0.4302 - val_macroF1: 0.4209 - val_macroRecall: 0.4189\n",
      "Epoch 3/5\n",
      "500000/500000 [==============================] - 2922s 6ms/step - loss: 0.4685 - categorical_accuracy: 0.8513 - macroPrec: 0.4440 - macroF1: 0.4139 - macroRecall: 0.4034 - val_loss: 0.4847 - val_categorical_accuracy: 0.8586 - val_macroPrec: 0.4262 - val_macroF1: 0.4135 - val_macroRecall: 0.4092\n",
      "Epoch 4/5\n",
      "500000/500000 [==============================] - 2898s 6ms/step - loss: 0.4807 - categorical_accuracy: 0.8430 - macroPrec: 0.4526 - macroF1: 0.4266 - macroRecall: 0.4170 - val_loss: 0.4346 - val_categorical_accuracy: 0.8720 - val_macroPrec: 0.4821 - val_macroF1: 0.4538 - val_macroRecall: 0.4452\n",
      "Epoch 5/5\n",
      "500000/500000 [==============================] - 2911s 6ms/step - loss: 0.4259 - categorical_accuracy: 0.8691 - macroPrec: 0.5053 - macroF1: 0.4683 - macroRecall: 0.4576 - val_loss: 0.4183 - val_categorical_accuracy: 0.8612 - val_macroPrec: 0.4638 - val_macroF1: 0.4385 - val_macroRecall: 0.4296\n",
      "Last val_macroF1: 0.438505267560482\n"
     ]
    }
   ],
   "source": [
    "model_rnn1.fit(X_train, y_train, validate_on=(X_val, y_val))\n",
    "model_rnn1.Ksave()\n",
    "model_rnn1.save_hist()"
   ]
  },
  {
   "cell_type": "code",
   "execution_count": 13,
   "metadata": {
    "colab": {
     "base_uri": "https://localhost:8080/",
     "height": 35
    },
    "colab_type": "code",
    "id": "PP1tJZAziXLH",
    "outputId": "87ca036f-55d0-47bd-df00-8fdd6234a7a0"
   },
   "outputs": [
    {
     "name": "stdout",
     "output_type": "stream",
     "text": [
      "Ovewriting the model.\n"
     ]
    }
   ],
   "source": [
    "model_rnn1.load_hist()\n",
    "model_rnn1.Kload()"
   ]
  },
  {
   "cell_type": "code",
   "execution_count": 14,
   "metadata": {
    "colab": {
     "base_uri": "https://localhost:8080/",
     "height": 421
    },
    "colab_type": "code",
    "id": "dnLFaKeqiXLK",
    "outputId": "27d2f4a9-f80c-4a42-88c2-c83a4d396ad6"
   },
   "outputs": [
    {
     "name": "stdout",
     "output_type": "stream",
     "text": [
      "loss=categorical_crossentropy, batch_size=200, optimizer=nadam, explicit-class-weights: True, embedd-trainable: True\n"
     ]
    },
    {
     "data": {
      "image/png": "[encoded data removed]",
      "text/plain": [
       "<Figure size 1018.23x432 with 2 Axes>"
      ]
     },
     "metadata": {
      "needs_background": "light"
     },
     "output_type": "display_data"
    }
   ],
   "source": [
    "model_rnn1.plot(with_loss=True)"
   ]
  },
  {
   "cell_type": "code",
   "execution_count": 15,
   "metadata": {
    "colab": {
     "base_uri": "https://localhost:8080/",
     "height": 944
    },
    "colab_type": "code",
    "id": "bqYba5U5iXLN",
    "outputId": "93ec8747-a1a0-4195-8ea0-6bc0784d76d7"
   },
   "outputs": [],
   "source": [
    "eval_rnn1 = model_rnn1.evaluate(X_val, y_val)"
   ]
  },
  {
   "cell_type": "code",
   "execution_count": 16,
   "metadata": {
    "colab": {},
    "colab_type": "code",
    "id": "N7fL92aTiXLQ"
   },
   "outputs": [
    {
     "data": {
      "text/html": [
       "<div>\n",
       "<style scoped>\n",
       "    .dataframe tbody tr th:only-of-type {\n",
       "        vertical-align: middle;\n",
       "    }\n",
       "\n",
       "    .dataframe tbody tr th {\n",
       "        vertical-align: top;\n",
       "    }\n",
       "\n",
       "    .dataframe thead th {\n",
       "        text-align: right;\n",
       "    }\n",
       "</style>\n",
       "<table border=\"1\" class=\"dataframe\">\n",
       "  <thead>\n",
       "    <tr style=\"text-align: right;\">\n",
       "      <th></th>\n",
       "      <th>SRNN</th>\n",
       "    </tr>\n",
       "  </thead>\n",
       "  <tbody>\n",
       "    <tr>\n",
       "      <th>cat_cross</th>\n",
       "      <td>0.418292</td>\n",
       "    </tr>\n",
       "    <tr>\n",
       "      <th>my_loss</th>\n",
       "      <td>0.534548</td>\n",
       "    </tr>\n",
       "    <tr>\n",
       "      <th>cat_acc</th>\n",
       "      <td>0.861245</td>\n",
       "    </tr>\n",
       "    <tr>\n",
       "      <th>macroPrec</th>\n",
       "      <td>0.714560</td>\n",
       "    </tr>\n",
       "    <tr>\n",
       "      <th>macroF1</th>\n",
       "      <td>0.464040</td>\n",
       "    </tr>\n",
       "    <tr>\n",
       "      <th>macroRecall</th>\n",
       "      <td>0.437254</td>\n",
       "    </tr>\n",
       "  </tbody>\n",
       "</table>\n",
       "</div>"
      ],
      "text/plain": [
       "                 SRNN\n",
       "cat_cross    0.418292\n",
       "my_loss      0.534548\n",
       "cat_acc      0.861245\n",
       "macroPrec    0.714560\n",
       "macroF1      0.464040\n",
       "macroRecall  0.437254"
      ]
     },
     "execution_count": 16,
     "metadata": {},
     "output_type": "execute_result"
    }
   ],
   "source": [
    "eval_rnn1"
   ]
  },
  {
   "cell_type": "markdown",
   "metadata": {},
   "source": [
    "#### loss = *my_loss*"
   ]
  },
  {
   "cell_type": "code",
   "execution_count": 24,
   "metadata": {
    "colab": {
     "base_uri": "https://localhost:8080/",
     "height": 274
    },
    "colab_type": "code",
    "id": "6Opgty5ZiXLT",
    "outputId": "5ba7c5b7-18b4-4450-c1d2-3a662b95c1e9"
   },
   "outputs": [
    {
     "name": "stdout",
     "output_type": "stream",
     "text": [
      "loss=my_loss, batch_size=200, optimizer=nadam, explicit-class-weights: False, embedd-trainable: True\n",
      "_________________________________________________________________\n",
      "Layer (type)                 Output Shape              Param #   \n",
      "=================================================================\n",
      "embedding_4 (Embedding)      (None, 679, 50)           13865200  \n",
      "_________________________________________________________________\n",
      "simple_rnn_1 (SimpleRNN)     (None, 24)                1800      \n",
      "_________________________________________________________________\n",
      "dense_4 (Dense)              (None, 6)                 150       \n",
      "=================================================================\n",
      "Total params: 13,867,150\n",
      "Trainable params: 13,867,150\n",
      "Non-trainable params: 0\n",
      "_________________________________________________________________\n"
     ]
    }
   ],
   "source": [
    "# 2\n",
    "\n",
    "loss = my_loss\n",
    "\n",
    "model_rnn2 = BlackBox(tag=\"SRNN\",\\\n",
    "                      layers=layers_rnn, loss=loss, batch_size=batch_size, optimizer=optimizer,\\\n",
    "                      epochs=epochs, metrics=my_metrics)\n",
    "\n",
    "model_rnn2.load_embedd(embedd_file_myloss, trainable=True)\n",
    "model_rnn2.summary()"
   ]
  },
  {
   "cell_type": "code",
   "execution_count": 0,
   "metadata": {
    "colab": {
     "base_uri": "https://localhost:8080/",
     "height": 276
    },
    "colab_type": "code",
    "id": "Vw1zwsIWrJJ_",
    "outputId": "c3ce3321-6244-48dd-d848-53627e5470a1"
   },
   "outputs": [
    {
     "name": "stdout",
     "output_type": "stream",
     "text": [
      "loss=my_loss, batch_size=200, optimizer=nadam, explicit-class-weights: False, embedd-trainable: True\n",
      "Train on 500000 samples, validate on 200000 samples\n",
      "Epoch 1/5\n",
      "500000/500000 [==============================] - 2979s 6ms/step - loss: 0.5207 - categorical_accuracy: 0.8173 - macroPrec: 0.5068 - macroF1: 0.4770 - macroRecall: 0.4796 - val_loss: 0.4577 - val_categorical_accuracy: 0.8623 - val_macroPrec: 0.5692 - val_macroF1: 0.5459 - val_macroRecall: 0.5511\n",
      "Epoch 2/5\n",
      "500000/500000 [==============================] - 2982s 6ms/step - loss: 0.4807 - categorical_accuracy: 0.8147 - macroPrec: 0.5514 - macroF1: 0.5229 - macroRecall: 0.5329 - val_loss: 0.4931 - val_categorical_accuracy: 0.7948 - val_macroPrec: 0.5343 - val_macroF1: 0.5100 - val_macroRecall: 0.5144\n",
      "Epoch 3/5\n",
      "500000/500000 [==============================] - 2944s 6ms/step - loss: 0.4537 - categorical_accuracy: 0.8213 - macroPrec: 0.5590 - macroF1: 0.5481 - macroRecall: 0.5736 - val_loss: 0.4783 - val_categorical_accuracy: 0.8115 - val_macroPrec: 0.5359 - val_macroF1: 0.5286 - val_macroRecall: 0.5504\n",
      "Epoch 4/5\n",
      "500000/500000 [==============================] - 2957s 6ms/step - loss: 0.4337 - categorical_accuracy: 0.8324 - macroPrec: 0.5735 - macroF1: 0.5681 - macroRecall: 0.5989 - val_loss: 0.4069 - val_categorical_accuracy: 0.8775 - val_macroPrec: 0.6109 - val_macroF1: 0.5962 - val_macroRecall: 0.6194\n",
      "Epoch 5/5\n",
      "500000/500000 [==============================] - 2976s 6ms/step - loss: 0.4352 - categorical_accuracy: 0.8312 - macroPrec: 0.5735 - macroF1: 0.5663 - macroRecall: 0.6017 - val_loss: 0.4768 - val_categorical_accuracy: 0.8262 - val_macroPrec: 0.5418 - val_macroF1: 0.5322 - val_macroRecall: 0.5497\n",
      "Last val_macroF1: 0.5321547012329102\n"
     ]
    }
   ],
   "source": [
    "model_rnn2.fit(X_train, y_train, validate_on=(X_val, y_val))\n",
    "model_rnn2.Ksave()\n",
    "model_rnn2.save_hist()"
   ]
  },
  {
   "cell_type": "code",
   "execution_count": 25,
   "metadata": {
    "colab": {},
    "colab_type": "code",
    "id": "kZrRQAxIiXLg"
   },
   "outputs": [
    {
     "name": "stdout",
     "output_type": "stream",
     "text": [
      "Ovewriting the model.\n"
     ]
    }
   ],
   "source": [
    "model_rnn2.load_hist()\n",
    "model_rnn2.Kload()"
   ]
  },
  {
   "cell_type": "code",
   "execution_count": 27,
   "metadata": {
    "colab": {
     "base_uri": "https://localhost:8080/",
     "height": 421
    },
    "colab_type": "code",
    "id": "uUFZZ5OCiXLi",
    "outputId": "0c7720d7-0e66-4237-943f-9976361199d0"
   },
   "outputs": [
    {
     "name": "stdout",
     "output_type": "stream",
     "text": [
      "loss=my_loss, batch_size=200, optimizer=nadam, explicit-class-weights: False, embedd-trainable: True\n"
     ]
    },
    {
     "data": {
      "image/png": "[encoded data removed]",
      "text/plain": [
       "<Figure size 1018.23x432 with 2 Axes>"
      ]
     },
     "metadata": {
      "needs_background": "light"
     },
     "output_type": "display_data"
    }
   ],
   "source": [
    "model_rnn2.plot(with_loss=True)"
   ]
  },
  {
   "cell_type": "code",
   "execution_count": 29,
   "metadata": {
    "colab": {},
    "colab_type": "code",
    "id": "WgPCrmMziXLl"
   },
   "outputs": [],
   "source": [
    "eval_rnn2 = model_rnn2.evaluate(X_val, y_val)"
   ]
  },
  {
   "cell_type": "code",
   "execution_count": 31,
   "metadata": {
    "colab": {},
    "colab_type": "code",
    "id": "siK0HaIniXLq"
   },
   "outputs": [
    {
     "data": {
      "text/html": [
       "<div>\n",
       "<style scoped>\n",
       "    .dataframe tbody tr th:only-of-type {\n",
       "        vertical-align: middle;\n",
       "    }\n",
       "\n",
       "    .dataframe tbody tr th {\n",
       "        vertical-align: top;\n",
       "    }\n",
       "\n",
       "    .dataframe thead th {\n",
       "        text-align: right;\n",
       "    }\n",
       "</style>\n",
       "<table border=\"1\" class=\"dataframe\">\n",
       "  <thead>\n",
       "    <tr style=\"text-align: right;\">\n",
       "      <th></th>\n",
       "      <th>loss: cat. crossent.</th>\n",
       "      <th>loss: my_loss</th>\n",
       "    </tr>\n",
       "  </thead>\n",
       "  <tbody>\n",
       "    <tr>\n",
       "      <th>cat_cross</th>\n",
       "      <td>0.418292</td>\n",
       "      <td>1.060286</td>\n",
       "    </tr>\n",
       "    <tr>\n",
       "      <th>my_loss</th>\n",
       "      <td>0.534548</td>\n",
       "      <td>0.445170</td>\n",
       "    </tr>\n",
       "    <tr>\n",
       "      <th>cat_acc</th>\n",
       "      <td>0.861245</td>\n",
       "      <td>0.826225</td>\n",
       "    </tr>\n",
       "    <tr>\n",
       "      <th>macroPrec</th>\n",
       "      <td>0.714560</td>\n",
       "      <td>0.566758</td>\n",
       "    </tr>\n",
       "    <tr>\n",
       "      <th>macroF1</th>\n",
       "      <td>0.464040</td>\n",
       "      <td>0.572104</td>\n",
       "    </tr>\n",
       "    <tr>\n",
       "      <th>macroRecall</th>\n",
       "      <td>0.437254</td>\n",
       "      <td>0.579033</td>\n",
       "    </tr>\n",
       "  </tbody>\n",
       "</table>\n",
       "</div>"
      ],
      "text/plain": [
       "             loss: cat. crossent.  loss: my_loss\n",
       "cat_cross                0.418292       1.060286\n",
       "my_loss                  0.534548       0.445170\n",
       "cat_acc                  0.861245       0.826225\n",
       "macroPrec                0.714560       0.566758\n",
       "macroF1                  0.464040       0.572104\n",
       "macroRecall              0.437254       0.579033"
      ]
     },
     "execution_count": 31,
     "metadata": {},
     "output_type": "execute_result"
    }
   ],
   "source": [
    "# 1 + 2\n",
    "\n",
    "eval_rnn12 = pd.concat([eval_rnn1, eval_rnn2], axis=1)\n",
    "eval_rnn12.columns = ['loss: cat. crossent.', 'loss: my_loss']\n",
    "eval_rnn12"
   ]
  },
  {
   "cell_type": "markdown",
   "metadata": {
    "colab_type": "text",
    "id": "l-uLhVvkiXLs"
   },
   "source": [
    "---\n",
    "# LSTM"
   ]
  },
  {
   "cell_type": "code",
   "execution_count": 32,
   "metadata": {
    "colab": {},
    "colab_type": "code",
    "id": "QcgSeHDWiXLt"
   },
   "outputs": [],
   "source": [
    "layers_lstm = [LSTM(24, dropout=0.1, recurrent_dropout=0.1)]"
   ]
  },
  {
   "cell_type": "markdown",
   "metadata": {},
   "source": [
    "#### loss = categorical_crossentropy"
   ]
  },
  {
   "cell_type": "code",
   "execution_count": 33,
   "metadata": {
    "colab": {
     "base_uri": "https://localhost:8080/",
     "height": 274
    },
    "colab_type": "code",
    "id": "rr9chD8hiXLv",
    "outputId": "75055f43-e6d7-4af4-c93c-f42975f9a231"
   },
   "outputs": [
    {
     "name": "stdout",
     "output_type": "stream",
     "text": [
      "loss=categorical_crossentropy, batch_size=200, optimizer=nadam, explicit-class-weights: True, embedd-trainable: False\n",
      "_________________________________________________________________\n",
      "Layer (type)                 Output Shape              Param #   \n",
      "=================================================================\n",
      "embedding_5 (Embedding)      (None, 679, 50)           13865200  \n",
      "_________________________________________________________________\n",
      "simple_rnn_1 (SimpleRNN)     (None, 24)                1800      \n",
      "_________________________________________________________________\n",
      "dense_5 (Dense)              (None, 6)                 150       \n",
      "=================================================================\n",
      "Total params: 13,867,150\n",
      "Trainable params: 1,950\n",
      "Non-trainable params: 13,865,200\n",
      "_________________________________________________________________\n"
     ]
    }
   ],
   "source": [
    "# 1\n",
    "\n",
    "loss='categorical_crossentropy'\n",
    "\n",
    "model_lstm1 = BlackBox(tag=\"LSTM\",\\\n",
    "                       layers=layers_rnn, loss=loss, batch_size=batch_size, optimizer=optimizer,\\\n",
    "                       epochs=epochs, metrics=my_metrics)\n",
    "\n",
    "model_lstm1.load_embedd(embedd_file_crossent)\n",
    "model_lstm1.summary()"
   ]
  },
  {
   "cell_type": "code",
   "execution_count": 0,
   "metadata": {
    "colab": {
     "base_uri": "https://localhost:8080/",
     "height": 276
    },
    "colab_type": "code",
    "id": "lTh4aKvHiXLx",
    "outputId": "55a5926c-d6ab-4926-cb0a-3bb6e5575b3a"
   },
   "outputs": [
    {
     "name": "stdout",
     "output_type": "stream",
     "text": [
      "loss=categorical_crossentropy, batch_size=200, optimizer=nadam, explicit-class-weights: True, embedd-trainable: False\n",
      "Train on 500000 samples, validate on 200000 samples\n",
      "Epoch 1/5\n",
      "500000/500000 [==============================] - 2697s 5ms/step - loss: 0.6657 - categorical_accuracy: 0.7763 - macroPrec: 0.3740 - macroF1: 0.3135 - macroRecall: 0.2906 - val_loss: 0.5580 - val_categorical_accuracy: 0.8216 - val_macroPrec: 0.3909 - val_macroF1: 0.3705 - val_macroRecall: 0.3599\n",
      "Epoch 2/5\n",
      "500000/500000 [==============================] - 2521s 5ms/step - loss: 0.5635 - categorical_accuracy: 0.8234 - macroPrec: 0.3969 - macroF1: 0.3740 - macroRecall: 0.3615 - val_loss: 0.5108 - val_categorical_accuracy: 0.8528 - val_macroPrec: 0.4122 - val_macroF1: 0.4011 - val_macroRecall: 0.3947\n",
      "Epoch 3/5\n",
      "500000/500000 [==============================] - 2470s 5ms/step - loss: 0.5574 - categorical_accuracy: 0.8133 - macroPrec: 0.3900 - macroF1: 0.3674 - macroRecall: 0.3534 - val_loss: 0.6156 - val_categorical_accuracy: 0.7994 - val_macroPrec: 0.3855 - val_macroF1: 0.3586 - val_macroRecall: 0.3425\n",
      "Epoch 4/5\n",
      "500000/500000 [==============================] - 2490s 5ms/step - loss: 0.5526 - categorical_accuracy: 0.8193 - macroPrec: 0.3975 - macroF1: 0.3779 - macroRecall: 0.3657 - val_loss: 0.5724 - val_categorical_accuracy: 0.8121 - val_macroPrec: 0.3982 - val_macroF1: 0.3803 - val_macroRecall: 0.3699\n",
      "Epoch 5/5\n",
      "500000/500000 [==============================] - 2721s 5ms/step - loss: 0.5329 - categorical_accuracy: 0.8224 - macroPrec: 0.3975 - macroF1: 0.3803 - macroRecall: 0.3693 - val_loss: 0.5067 - val_categorical_accuracy: 0.8228 - val_macroPrec: 0.3993 - val_macroF1: 0.3845 - val_macroRecall: 0.3736\n",
      "Last val_macroF1: 0.384506321310997\n"
     ]
    }
   ],
   "source": [
    "model_lstm1.fit(X_train, y_train, validate_on=(X_val, y_val))\n",
    "model_lstm1.Ksave()\n",
    "model_lstm1.save_hist()"
   ]
  },
  {
   "cell_type": "code",
   "execution_count": 34,
   "metadata": {},
   "outputs": [
    {
     "name": "stdout",
     "output_type": "stream",
     "text": [
      "Ovewriting the model.\n"
     ]
    }
   ],
   "source": [
    "model_lstm1.Kload()\n",
    "model_lstm1.load_hist()"
   ]
  },
  {
   "cell_type": "code",
   "execution_count": 35,
   "metadata": {
    "colab": {
     "base_uri": "https://localhost:8080/",
     "height": 421
    },
    "colab_type": "code",
    "id": "jpe2boMiiXLz",
    "outputId": "bd79cb80-6b95-421f-b16d-c3626b4571b6"
   },
   "outputs": [
    {
     "name": "stdout",
     "output_type": "stream",
     "text": [
      "loss=categorical_crossentropy, batch_size=200, optimizer=nadam, explicit-class-weights: True, embedd-trainable: False\n"
     ]
    },
    {
     "data": {
      "image/png": "[encoded data removed]",
      "text/plain": [
       "<Figure size 1018.23x432 with 2 Axes>"
      ]
     },
     "metadata": {
      "needs_background": "light"
     },
     "output_type": "display_data"
    }
   ],
   "source": [
    "model_lstm1.plot(with_loss=True)"
   ]
  },
  {
   "cell_type": "code",
   "execution_count": 36,
   "metadata": {
    "colab": {},
    "colab_type": "code",
    "id": "RLLKmqhaiXL3"
   },
   "outputs": [],
   "source": [
    "eval_lstm1 = model_lstm1.evaluate(X_val, y_val)"
   ]
  },
  {
   "cell_type": "code",
   "execution_count": 37,
   "metadata": {
    "colab": {},
    "colab_type": "code",
    "id": "sXCkxtWhiXL5"
   },
   "outputs": [
    {
     "data": {
      "text/html": [
       "<div>\n",
       "<style scoped>\n",
       "    .dataframe tbody tr th:only-of-type {\n",
       "        vertical-align: middle;\n",
       "    }\n",
       "\n",
       "    .dataframe tbody tr th {\n",
       "        vertical-align: top;\n",
       "    }\n",
       "\n",
       "    .dataframe thead th {\n",
       "        text-align: right;\n",
       "    }\n",
       "</style>\n",
       "<table border=\"1\" class=\"dataframe\">\n",
       "  <thead>\n",
       "    <tr style=\"text-align: right;\">\n",
       "      <th></th>\n",
       "      <th>LSTM</th>\n",
       "    </tr>\n",
       "  </thead>\n",
       "  <tbody>\n",
       "    <tr>\n",
       "      <th>cat_cross</th>\n",
       "      <td>0.506710</td>\n",
       "    </tr>\n",
       "    <tr>\n",
       "      <th>my_loss</th>\n",
       "      <td>0.602793</td>\n",
       "    </tr>\n",
       "    <tr>\n",
       "      <th>cat_acc</th>\n",
       "      <td>0.822845</td>\n",
       "    </tr>\n",
       "    <tr>\n",
       "      <th>macroPrec</th>\n",
       "      <td>0.500520</td>\n",
       "    </tr>\n",
       "    <tr>\n",
       "      <th>macroF1</th>\n",
       "      <td>0.387134</td>\n",
       "    </tr>\n",
       "    <tr>\n",
       "      <th>macroRecall</th>\n",
       "      <td>0.374117</td>\n",
       "    </tr>\n",
       "  </tbody>\n",
       "</table>\n",
       "</div>"
      ],
      "text/plain": [
       "                 LSTM\n",
       "cat_cross    0.506710\n",
       "my_loss      0.602793\n",
       "cat_acc      0.822845\n",
       "macroPrec    0.500520\n",
       "macroF1      0.387134\n",
       "macroRecall  0.374117"
      ]
     },
     "execution_count": 37,
     "metadata": {},
     "output_type": "execute_result"
    }
   ],
   "source": [
    "eval_lstm1"
   ]
  },
  {
   "cell_type": "code",
   "execution_count": 38,
   "metadata": {
    "colab": {
     "base_uri": "https://localhost:8080/",
     "height": 274
    },
    "colab_type": "code",
    "id": "aoKBjtsViXL8",
    "outputId": "2ed26652-1e7f-4b40-c6da-f12cf8a09b7e"
   },
   "outputs": [
    {
     "name": "stdout",
     "output_type": "stream",
     "text": [
      "loss=my_loss, batch_size=200, optimizer=nadam, explicit-class-weights: False, embedd-trainable: False\n",
      "_________________________________________________________________\n",
      "Layer (type)                 Output Shape              Param #   \n",
      "=================================================================\n",
      "embedding_6 (Embedding)      (None, 679, 50)           13865200  \n",
      "_________________________________________________________________\n",
      "lstm_2 (LSTM)                (None, 24)                7200      \n",
      "_________________________________________________________________\n",
      "dense_6 (Dense)              (None, 6)                 150       \n",
      "=================================================================\n",
      "Total params: 13,872,550\n",
      "Trainable params: 7,350\n",
      "Non-trainable params: 13,865,200\n",
      "_________________________________________________________________\n"
     ]
    }
   ],
   "source": [
    "# 2\n",
    "\n",
    "loss=my_loss\n",
    "\n",
    "model_lstm2 = BlackBox(tag=\"LSTM\",\\\n",
    "                       layers=layers_lstm, loss=loss, batch_size=batch_size, optimizer=optimizer,\\\n",
    "                       epochs=epochs, metrics=my_metrics)\n",
    "\n",
    "model_lstm2.load_embedd(embedd_file_myloss)\n",
    "model_lstm2.summary()"
   ]
  },
  {
   "cell_type": "code",
   "execution_count": 15,
   "metadata": {
    "colab": {
     "base_uri": "https://localhost:8080/",
     "height": 276
    },
    "colab_type": "code",
    "id": "4DQ7ME9eiXL9",
    "outputId": "563024e9-f0a1-42d8-9a7b-5e188d90f567"
   },
   "outputs": [
    {
     "name": "stdout",
     "output_type": "stream",
     "text": [
      "loss=my_loss, batch_size=200, optimizer=nadam, explicit-class-weights: False, embedd-trainable: False\n",
      "Train on 500000 samples, validate on 200000 samples\n",
      "Epoch 1/5\n",
      "500000/500000 [==============================] - 6601s 13ms/step - loss: 0.3701 - categorical_accuracy: 0.8781 - macroPrec: 0.6371 - macroF1: 0.6252 - macroRecall: 0.6605 - val_loss: 0.3196 - val_categorical_accuracy: 0.9117 - val_macroPrec: 0.6880 - val_macroF1: 0.6820 - val_macroRecall: 0.7081\n",
      "Epoch 2/5\n",
      "500000/500000 [==============================] - 7612s 15ms/step - loss: 0.3416 - categorical_accuracy: 0.8901 - macroPrec: 0.6831 - macroF1: 0.6594 - macroRecall: 0.6869 - val_loss: 0.4212 - val_categorical_accuracy: 0.8306 - val_macroPrec: 0.6161 - val_macroF1: 0.5752 - val_macroRecall: 0.5905\n",
      "Epoch 3/5\n",
      "500000/500000 [==============================] - 6646s 13ms/step - loss: 0.3083 - categorical_accuracy: 0.8841 - macroPrec: 0.7023 - macroF1: 0.6919 - macroRecall: 0.7191 - val_loss: 0.3265 - val_categorical_accuracy: 0.8913 - val_macroPrec: 0.6599 - val_macroF1: 0.6707 - val_macroRecall: 0.7223\n",
      "Epoch 4/5\n",
      "500000/500000 [==============================] - 6662s 13ms/step - loss: 0.3062 - categorical_accuracy: 0.8830 - macroPrec: 0.7133 - macroF1: 0.6966 - macroRecall: 0.7191 - val_loss: 0.3244 - val_categorical_accuracy: 0.8967 - val_macroPrec: 0.6962 - val_macroF1: 0.6811 - val_macroRecall: 0.6976\n",
      "Epoch 5/5\n",
      "500000/500000 [==============================] - 6674s 13ms/step - loss: 0.2668 - categorical_accuracy: 0.9085 - macroPrec: 0.7327 - macroF1: 0.7315 - macroRecall: 0.7649 - val_loss: 0.3078 - val_categorical_accuracy: 0.9131 - val_macroPrec: 0.7017 - val_macroF1: 0.6940 - val_macroRecall: 0.7181\n",
      "Last val_macroF1: 0.6939903248846531\n"
     ]
    }
   ],
   "source": [
    "model_lstm2.fit(X_train, y_train, validate_on=(X_val, y_val))\n",
    "model_lstm2.Ksave()\n",
    "model_lstm2.save_hist()"
   ]
  },
  {
   "cell_type": "code",
   "execution_count": 39,
   "metadata": {},
   "outputs": [
    {
     "name": "stdout",
     "output_type": "stream",
     "text": [
      "Ovewriting the model.\n"
     ]
    }
   ],
   "source": [
    "model_lstm2.Kload()\n",
    "model_lstm2.load_hist()"
   ]
  },
  {
   "cell_type": "code",
   "execution_count": 43,
   "metadata": {
    "colab": {
     "base_uri": "https://localhost:8080/",
     "height": 421
    },
    "colab_type": "code",
    "id": "1-bCzaYHiXL_",
    "outputId": "13c2e151-7298-4945-c7d6-f7448d5d77dd"
   },
   "outputs": [
    {
     "name": "stdout",
     "output_type": "stream",
     "text": [
      "loss=my_loss, batch_size=200, optimizer=nadam, explicit-class-weights: False, embedd-trainable: False\n"
     ]
    },
    {
     "data": {
      "image/png": "[encoded data removed]",
      "text/plain": [
       "<Figure size 1018.23x432 with 2 Axes>"
      ]
     },
     "metadata": {
      "needs_background": "light"
     },
     "output_type": "display_data"
    }
   ],
   "source": [
    "model_lstm2.plot(with_loss=True)"
   ]
  },
  {
   "cell_type": "code",
   "execution_count": 40,
   "metadata": {
    "colab": {},
    "colab_type": "code",
    "id": "dNyWzFBziXMC"
   },
   "outputs": [],
   "source": [
    "eval_lstm2 = model_lstm2.evaluate(X_val, y_val)"
   ]
  },
  {
   "cell_type": "code",
   "execution_count": 42,
   "metadata": {
    "colab": {},
    "colab_type": "code",
    "id": "MBqcsD5_iXME"
   },
   "outputs": [
    {
     "data": {
      "text/html": [
       "<div>\n",
       "<style scoped>\n",
       "    .dataframe tbody tr th:only-of-type {\n",
       "        vertical-align: middle;\n",
       "    }\n",
       "\n",
       "    .dataframe tbody tr th {\n",
       "        vertical-align: top;\n",
       "    }\n",
       "\n",
       "    .dataframe thead th {\n",
       "        text-align: right;\n",
       "    }\n",
       "</style>\n",
       "<table border=\"1\" class=\"dataframe\">\n",
       "  <thead>\n",
       "    <tr style=\"text-align: right;\">\n",
       "      <th></th>\n",
       "      <th>loss: cat. crossent.</th>\n",
       "      <th>loss: my_loss</th>\n",
       "    </tr>\n",
       "  </thead>\n",
       "  <tbody>\n",
       "    <tr>\n",
       "      <th>cat_cross</th>\n",
       "      <td>0.506710</td>\n",
       "      <td>0.602842</td>\n",
       "    </tr>\n",
       "    <tr>\n",
       "      <th>my_loss</th>\n",
       "      <td>0.602793</td>\n",
       "      <td>0.262010</td>\n",
       "    </tr>\n",
       "    <tr>\n",
       "      <th>cat_acc</th>\n",
       "      <td>0.822845</td>\n",
       "      <td>0.913115</td>\n",
       "    </tr>\n",
       "    <tr>\n",
       "      <th>macroPrec</th>\n",
       "      <td>0.500520</td>\n",
       "      <td>0.729040</td>\n",
       "    </tr>\n",
       "    <tr>\n",
       "      <th>macroF1</th>\n",
       "      <td>0.387134</td>\n",
       "      <td>0.745540</td>\n",
       "    </tr>\n",
       "    <tr>\n",
       "      <th>macroRecall</th>\n",
       "      <td>0.374117</td>\n",
       "      <td>0.767733</td>\n",
       "    </tr>\n",
       "  </tbody>\n",
       "</table>\n",
       "</div>"
      ],
      "text/plain": [
       "             loss: cat. crossent.  loss: my_loss\n",
       "cat_cross                0.506710       0.602842\n",
       "my_loss                  0.602793       0.262010\n",
       "cat_acc                  0.822845       0.913115\n",
       "macroPrec                0.500520       0.729040\n",
       "macroF1                  0.387134       0.745540\n",
       "macroRecall              0.374117       0.767733"
      ]
     },
     "execution_count": 42,
     "metadata": {},
     "output_type": "execute_result"
    }
   ],
   "source": [
    "eval_lstm12 = pd.concat([eval_lstm1, eval_lstm2], axis=1)\n",
    "eval_lstm12.columns = ['loss: cat. crossent.', 'loss: my_loss']\n",
    "eval_lstm12"
   ]
  },
  {
   "cell_type": "markdown",
   "metadata": {
    "colab_type": "text",
    "id": "Du_ajMFRYnMa"
   },
   "source": [
    "---\n",
    "# Gather the four results"
   ]
  },
  {
   "cell_type": "code",
   "execution_count": 44,
   "metadata": {
    "colab": {},
    "colab_type": "code",
    "id": "0CJ2QBQYiXMG"
   },
   "outputs": [
    {
     "data": {
      "text/html": [
       "<div>\n",
       "<style scoped>\n",
       "    .dataframe tbody tr th:only-of-type {\n",
       "        vertical-align: middle;\n",
       "    }\n",
       "\n",
       "    .dataframe tbody tr th {\n",
       "        vertical-align: top;\n",
       "    }\n",
       "\n",
       "    .dataframe thead th {\n",
       "        text-align: right;\n",
       "    }\n",
       "</style>\n",
       "<table border=\"1\" class=\"dataframe\">\n",
       "  <thead>\n",
       "    <tr style=\"text-align: right;\">\n",
       "      <th></th>\n",
       "      <th>cat_cross</th>\n",
       "      <th>my_loss</th>\n",
       "      <th>cat_acc</th>\n",
       "      <th>macroPrec</th>\n",
       "      <th>macroF1</th>\n",
       "      <th>macroRecall</th>\n",
       "    </tr>\n",
       "  </thead>\n",
       "  <tbody>\n",
       "    <tr>\n",
       "      <th>SRNN_crossent</th>\n",
       "      <td>0.418292</td>\n",
       "      <td>0.534548</td>\n",
       "      <td>0.861245</td>\n",
       "      <td>0.714560</td>\n",
       "      <td>0.464040</td>\n",
       "      <td>0.437254</td>\n",
       "    </tr>\n",
       "    <tr>\n",
       "      <th>SRNN_myloss</th>\n",
       "      <td>1.060286</td>\n",
       "      <td>0.445170</td>\n",
       "      <td>0.826225</td>\n",
       "      <td>0.566758</td>\n",
       "      <td>0.572104</td>\n",
       "      <td>0.579033</td>\n",
       "    </tr>\n",
       "    <tr>\n",
       "      <th>LSTM_crossent</th>\n",
       "      <td>0.506710</td>\n",
       "      <td>0.602793</td>\n",
       "      <td>0.822845</td>\n",
       "      <td>0.500520</td>\n",
       "      <td>0.387134</td>\n",
       "      <td>0.374117</td>\n",
       "    </tr>\n",
       "    <tr>\n",
       "      <th>LSTM_myloss</th>\n",
       "      <td>0.602842</td>\n",
       "      <td>0.262010</td>\n",
       "      <td>0.913115</td>\n",
       "      <td>0.729040</td>\n",
       "      <td>0.745540</td>\n",
       "      <td>0.767733</td>\n",
       "    </tr>\n",
       "  </tbody>\n",
       "</table>\n",
       "</div>"
      ],
      "text/plain": [
       "               cat_cross   my_loss   cat_acc  macroPrec   macroF1  macroRecall\n",
       "SRNN_crossent   0.418292  0.534548  0.861245   0.714560  0.464040     0.437254\n",
       "SRNN_myloss     1.060286  0.445170  0.826225   0.566758  0.572104     0.579033\n",
       "LSTM_crossent   0.506710  0.602793  0.822845   0.500520  0.387134     0.374117\n",
       "LSTM_myloss     0.602842  0.262010  0.913115   0.729040  0.745540     0.767733"
      ]
     },
     "execution_count": 44,
     "metadata": {},
     "output_type": "execute_result"
    }
   ],
   "source": [
    "# 1 + 2\n",
    "\n",
    "eval_together = pd.concat([eval_rnn1, eval_rnn2, eval_lstm1, eval_lstm2], axis=1)\n",
    "eval_together.columns = ['SRNN_crossent', 'SRNN_myloss', 'LSTM_crossent', 'LSTM_myloss']\n",
    "eval_together.T"
   ]
  },
  {
   "cell_type": "markdown",
   "metadata": {
    "colab_type": "text",
    "id": "8H66AZ7jiXMI"
   },
   "source": [
    "### Commentary\n",
    "\n",
    "Metrics obtained by the examined neural networks were stable during the fitting and abysmally small when compared with the baseline of 80% macro-F1. The drop in performance is mitigated by using the custom loss function - particularly for the LSTM - but that of course is hardly useful in the end."
   ]
  },
  {
   "cell_type": "markdown",
   "metadata": {
    "colab_type": "text",
    "id": "SNXCLumqX9K3"
   },
   "source": [
    "---\n",
    "### End"
   ]
  }
 ],
 "metadata": {
  "accelerator": "GPU",
  "colab": {
   "collapsed_sections": [],
   "name": "keras_RNN_LSTM.ipynb",
   "provenance": [],
   "version": "0.3.2"
  },
  "kernelspec": {
   "display_name": "Python 3",
   "language": "python",
   "name": "python3"
  },
  "language_info": {
   "codemirror_mode": {
    "name": "ipython",
    "version": 3
   },
   "file_extension": ".py",
   "mimetype": "text/x-python",
   "name": "python",
   "nbconvert_exporter": "python",
   "pygments_lexer": "ipython3",
   "version": "3.6.7"
  }
 },
 "nbformat": 4,
 "nbformat_minor": 1
}
