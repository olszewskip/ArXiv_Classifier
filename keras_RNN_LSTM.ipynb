{
 "cells": [
  {
   "cell_type": "code",
   "execution_count": null,
   "metadata": {},
   "outputs": [],
   "source": [
    "import os\n",
    "import pickle\n",
    "import json\n",
    "import pandas as pd\n",
    "\n",
    "import numpy as np\n",
    "np.random.seed(123)\n",
    "\n",
    "from tensorflow import set_random_seed\n",
    "set_random_seed(123)\n",
    "\n",
    "from keras.models import Sequential, save_model, load_model\n",
    "from keras.layers import *\n",
    "from keras import backend as K\n",
    "from sklearn.metrics import f1_score\n",
    "\n",
    "from keras.callbacks import ReduceLROnPlateau, EarlyStopping, Callback\n",
    "\n",
    "import matplotlib.pyplot as plt\n",
    "from seaborn import color_palette \n",
    "plt.style.use('seaborn')"
   ]
  },
  {
   "cell_type": "markdown",
   "metadata": {},
   "source": [
    "# Summary"
   ]
  },
  {
   "cell_type": "code",
   "execution_count": null,
   "metadata": {},
   "outputs": [],
   "source": []
  },
  {
   "cell_type": "markdown",
   "metadata": {},
   "source": [
    "---\n",
    "### Boilerplate"
   ]
  },
  {
   "cell_type": "code",
   "execution_count": null,
   "metadata": {},
   "outputs": [],
   "source": [
    "! mkdir keras_RNN_LSTM_results\n",
    "working_dir = 'keras_RNN_LSTM_results'"
   ]
  },
  {
   "cell_type": "code",
   "execution_count": null,
   "metadata": {},
   "outputs": [],
   "source": [
    "X_train = np.load(os.path.join(\"data\", \"Kdata\", \"X_train.npy\")) #[-n_sample:]\n",
    "y_train = np.load(os.path.join(\"data\", \"Kdata\", \"y_train.npy\")) #[-n_sample:]\n",
    "X_val = np.load(os.path.join(\"data\", \"Kdata\", \"X_val.npy\")) #[-n_sample:]\n",
    "y_val = np.load(os.path.join(\"data\", \"Kdata\", \"y_val.npy\")) #[-n_sample:]"
   ]
  },
  {
   "cell_type": "code",
   "execution_count": null,
   "metadata": {},
   "outputs": [],
   "source": [
    "global_params = pickle.load(open(\"global_params.p\", \"rb\"))\n",
    "unique_words = global_params['unique_words']\n",
    "num_words = global_params['num_words']\n",
    "padded_length = global_params['padded_length']\n",
    "n_classes = global_params['n_classes']\n",
    "class_weights = global_params['class_weights']\n",
    "\n",
    "global_params"
   ]
  },
  {
   "cell_type": "code",
   "execution_count": null,
   "metadata": {},
   "outputs": [],
   "source": [
    "%run keras_custom_functions.ipynb\n",
    "\n",
    "#my_metrics = list(CUSTOM_OBJECTS.values())\n",
    "my_metrics = ['categorical_accuracy', macroPrec, macroF1, macroRecall]"
   ]
  },
  {
   "cell_type": "code",
   "execution_count": null,
   "metadata": {},
   "outputs": [],
   "source": [
    "%run keras_plot_history.ipynb\n",
    "%run keras_blackbox_wrapper.ipynb"
   ]
  },
  {
   "cell_type": "markdown",
   "metadata": {},
   "source": [
    "---"
   ]
  },
  {
   "cell_type": "code",
   "execution_count": null,
   "metadata": {},
   "outputs": [],
   "source": [
    "batch_size = 200\n",
    "optimizer = 'nadam'"
   ]
  },
  {
   "cell_type": "code",
   "execution_count": null,
   "metadata": {},
   "outputs": [],
   "source": [
    "embedd_file_crossent = os.path.join('keras_GlobalAvg_GridSearch_results', '')\n",
    "embedd_file_myloss = os.path.join('keras_GlobalAvg_GridSearch_results', '')"
   ]
  },
  {
   "cell_type": "markdown",
   "metadata": {},
   "source": [
    "---\n",
    "## Simple Recurrent Neural Net"
   ]
  },
  {
   "cell_type": "code",
   "execution_count": null,
   "metadata": {},
   "outputs": [],
   "source": [
    "layers_rnn = [SimpleRNN(100, dropout=0.1, recurrent_dropout=0.1)]"
   ]
  },
  {
   "cell_type": "code",
   "execution_count": null,
   "metadata": {},
   "outputs": [],
   "source": [
    "# 1\n",
    "\n",
    "loss='categorical_crossentropy'\n",
    "\n",
    "model_rnn1 = BlackBox(tag=\"SRNN\",\\\n",
    "                      layers=layers_rnn, loss=loss, batch_size=batch_size, optimizer=optimizer,\\\n",
    "                      epochs=epochs, metrics=my_metrics)\n",
    "\n",
    "model_rnn1.load_embedd(embedd_file_crossent)\n",
    "model_rnn1.summary()"
   ]
  },
  {
   "cell_type": "code",
   "execution_count": null,
   "metadata": {},
   "outputs": [],
   "source": [
    "model_rnn1.fit()\n",
    "model_rnn1.Ksave()\n",
    "model_rnn1.save_hist()"
   ]
  },
  {
   "cell_type": "code",
   "execution_count": null,
   "metadata": {},
   "outputs": [],
   "source": [
    "# model_rnn1.load_hist()\n",
    "# model_rnn1.Kload()"
   ]
  },
  {
   "cell_type": "code",
   "execution_count": null,
   "metadata": {},
   "outputs": [],
   "source": [
    "model_rnn1.plot()"
   ]
  },
  {
   "cell_type": "code",
   "execution_count": null,
   "metadata": {},
   "outputs": [],
   "source": [
    "eval_rnn1 = model_rnn1.evaluate(X_val, y_val)"
   ]
  },
  {
   "cell_type": "code",
   "execution_count": null,
   "metadata": {},
   "outputs": [],
   "source": [
    "eval1_rnn1"
   ]
  },
  {
   "cell_type": "code",
   "execution_count": null,
   "metadata": {},
   "outputs": [],
   "source": [
    "# 2\n",
    "\n",
    "loss = my_loss\n",
    "\n",
    "model_rnn2 = BlackBox(tag=\"SRNN\",\\\n",
    "                      layers=layers_rnn, loss=loss, batch_size=batch_size, optimizer=optimizer,\\\n",
    "                      epochs=epochs, metrics=my_metrics)\n",
    "\n",
    "model_rnn2.load_embedd(embedd_file_crossent)\n",
    "model_rnn2.summary()"
   ]
  },
  {
   "cell_type": "code",
   "execution_count": null,
   "metadata": {},
   "outputs": [],
   "source": [
    "model_rnn2.fit()\n",
    "model_rnn2.Ksave()\n",
    "model_rnn2.save_hist()"
   ]
  },
  {
   "cell_type": "code",
   "execution_count": null,
   "metadata": {},
   "outputs": [],
   "source": [
    "# model_rnn2.load_hist()\n",
    "# model_rnn2.Kload()"
   ]
  },
  {
   "cell_type": "code",
   "execution_count": null,
   "metadata": {},
   "outputs": [],
   "source": [
    "model_rnn2.plot()"
   ]
  },
  {
   "cell_type": "code",
   "execution_count": null,
   "metadata": {},
   "outputs": [],
   "source": [
    "eval_rnn2 = model_rnn2.evaluate(X_val, y_val)"
   ]
  },
  {
   "cell_type": "code",
   "execution_count": null,
   "metadata": {},
   "outputs": [],
   "source": [
    "eval_rnn2"
   ]
  },
  {
   "cell_type": "code",
   "execution_count": null,
   "metadata": {},
   "outputs": [],
   "source": [
    "# 1 + 2\n",
    "\n",
    "pd.concat([eval_rnn1, eval_rnn2], axis=1)"
   ]
  },
  {
   "cell_type": "markdown",
   "metadata": {},
   "source": [
    "---\n",
    "# LSTM"
   ]
  },
  {
   "cell_type": "code",
   "execution_count": null,
   "metadata": {},
   "outputs": [],
   "source": [
    "layers_lstm = [LSTM(10, dropout=0.1, recurrent_dropout=0.1)]"
   ]
  },
  {
   "cell_type": "code",
   "execution_count": null,
   "metadata": {},
   "outputs": [],
   "source": [
    "# 1\n",
    "\n",
    "loss='categorical_crossentropy'\n",
    "\n",
    "model_lstm1 = BlackBox(tag=\"SRNN\",\\\n",
    "                       layers=layers_rnn, loss=loss, batch_size=batch_size, optimizer=optimizer,\\\n",
    "                       epochs=epochs, metrics=my_metrics)\n",
    "\n",
    "model_lstm1.load_embedd(embedd_file_crossent)\n",
    "model_lstm1.summary()"
   ]
  },
  {
   "cell_type": "code",
   "execution_count": null,
   "metadata": {},
   "outputs": [],
   "source": [
    "model_lstm1.fit()\n",
    "model_lstm1.Ksave()\n",
    "model_lstm1.save_hist()"
   ]
  },
  {
   "cell_type": "code",
   "execution_count": null,
   "metadata": {},
   "outputs": [],
   "source": [
    "model_lstm1.plot()"
   ]
  },
  {
   "cell_type": "code",
   "execution_count": null,
   "metadata": {},
   "outputs": [],
   "source": [
    "eval_lstm1 = model_lstm1.evaluate(X_val, y_val)"
   ]
  },
  {
   "cell_type": "code",
   "execution_count": null,
   "metadata": {},
   "outputs": [],
   "source": [
    "eval_lstm1"
   ]
  },
  {
   "cell_type": "code",
   "execution_count": null,
   "metadata": {},
   "outputs": [],
   "source": [
    "# 2\n",
    "\n",
    "loss=my_loss\n",
    "\n",
    "model_lstm2 = BlackBox(tag=\"SRNN\",\\\n",
    "                       layers=layers_rnn, loss=loss, batch_size=batch_size, optimizer=optimizer,\\\n",
    "                       epochs=epochs, metrics=my_metrics)\n",
    "\n",
    "model_lstm2.load_embedd(embedd_file_crossent)\n",
    "model_lstm2.summary()"
   ]
  },
  {
   "cell_type": "code",
   "execution_count": null,
   "metadata": {},
   "outputs": [],
   "source": [
    "model_lstm2.fit()\n",
    "model_lstm2.Ksave()\n",
    "model_lstm2.save_hist()"
   ]
  },
  {
   "cell_type": "code",
   "execution_count": null,
   "metadata": {},
   "outputs": [],
   "source": [
    "model_lstm2.plot()"
   ]
  },
  {
   "cell_type": "code",
   "execution_count": null,
   "metadata": {},
   "outputs": [],
   "source": [
    "eval_lstm2 = model_lstm2.evaluate(X_val, y_val)"
   ]
  },
  {
   "cell_type": "code",
   "execution_count": null,
   "metadata": {},
   "outputs": [],
   "source": [
    "eval_lstm2"
   ]
  },
  {
   "cell_type": "code",
   "execution_count": null,
   "metadata": {},
   "outputs": [],
   "source": [
    "# 1 + 2\n",
    "\n",
    "pd.concat([eval_rnn1, eval_rnn2], axis=1)"
   ]
  },
  {
   "cell_type": "markdown",
   "metadata": {},
   "source": [
    "---\n",
    "## Commentary\n",
    "\n",
    "..."
   ]
  },
  {
   "cell_type": "code",
   "execution_count": null,
   "metadata": {},
   "outputs": [],
   "source": []
  }
 ],
 "metadata": {
  "kernelspec": {
   "display_name": "Python 3",
   "language": "python",
   "name": "python3"
  },
  "language_info": {
   "codemirror_mode": {
    "name": "ipython",
    "version": 3
   },
   "file_extension": ".py",
   "mimetype": "text/x-python",
   "name": "python",
   "nbconvert_exporter": "python",
   "pygments_lexer": "ipython3",
   "version": "3.6.7"
  }
 },
 "nbformat": 4,
 "nbformat_minor": 2
}
