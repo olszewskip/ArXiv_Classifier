{
 "cells": [
  {
   "cell_type": "markdown",
   "metadata": {},
   "source": [
    "### Function for plotting the history"
   ]
  },
  {
   "cell_type": "code",
   "execution_count": null,
   "metadata": {},
   "outputs": [],
   "source": [
    "from seaborn import color_palette "
   ]
  },
  {
   "cell_type": "code",
   "execution_count": null,
   "metadata": {},
   "outputs": [],
   "source": [
    "# auxiliary function\n",
    "# to plot the learning history,\n",
    "# i.e. loss and metrics after each epoch on test- and validation-data\n",
    "\n",
    "def plot_history(history, with_loss, with_lr):\n",
    "    \n",
    "    n_plots = 1 + int(with_loss) + int(with_lr)\n",
    "    plt.figure(figsize=(10*(np.sqrt(n_plots)), 6))\n",
    "    x = range(1, len(history['loss']) + 1)\n",
    "    \n",
    "    all_metrics = [metric for metric in history.keys() if metric not in ['loss', 'val_loss', 'lr']]\n",
    "    metrics = [metric for metric in all_metrics if not metric.startswith('val_')]\n",
    "    plt.subplot(1, n_plots, 1)\n",
    "    plt.xlabel(\"epochs\")\n",
    "    colors = cycle(color_palette(palette='colorblind'))#['blue', 'red',  'green', 'magenta', 'cyan', 'orange', 'lime', 'olive'])\n",
    "    for metric in metrics:\n",
    "        color = next(colors)\n",
    "        results = history[metric]\n",
    "        plt.plot(x, results, 'o', color=color, label=metric)\n",
    "        if 'val_loss' in history:\n",
    "            val_results = history['val_'+metric]\n",
    "            plt.plot(x, val_results, '-', color=color, label='Validation '+metric)\n",
    "        plt.title('Metrics')\n",
    "    #plt.xlim(-0.5, len(x)+0.5)\n",
    "    plt.legend(bbox_to_anchor=(-.1, 1.0))\n",
    "    \n",
    "    if with_loss:\n",
    "        loss = history['loss']\n",
    "        val_loss = history['val_loss']\n",
    "\n",
    "        plt.subplot(1, n_plots, 2)\n",
    "        plt.xlabel(\"epochs\")\n",
    "        plt.plot(x, loss, 'ob', label='Training loss')\n",
    "        plt.plot(x, val_loss, '-b', label='Validation loss')\n",
    "        plt.title('The loss function') \n",
    "        plt.legend()\n",
    "    \n",
    "    if with_lr:\n",
    "        lr = history['lr'] # learning rate\n",
    "        plt.subplot(1, n_plots, 2+int(with_loss))\n",
    "        plt.xlabel(\"epochs\")\n",
    "        plt.plot(x, lr, 'k', label='Learning rate')\n",
    "        plt.title('Learning rate')  \n",
    "        plt.legend()"
   ]
  }
 ],
 "metadata": {
  "kernelspec": {
   "display_name": "Python 3",
   "language": "python",
   "name": "python3"
  },
  "language_info": {
   "codemirror_mode": {
    "name": "ipython",
    "version": 3
   },
   "file_extension": ".py",
   "mimetype": "text/x-python",
   "name": "python",
   "nbconvert_exporter": "python",
   "pygments_lexer": "ipython3",
   "version": "3.6.7"
  }
 },
 "nbformat": 4,
 "nbformat_minor": 2
}
