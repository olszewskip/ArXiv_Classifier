{
 "cells": [
  {
   "cell_type": "code",
   "execution_count": 1,
   "metadata": {},
   "outputs": [
    {
     "name": "stderr",
     "output_type": "stream",
     "text": [
      "Using TensorFlow backend.\n"
     ]
    }
   ],
   "source": [
    "import os\n",
    "import pandas as pd\n",
    "import numpy as np\n",
    "import pickle\n",
    "\n",
    "from keras.models import Sequential\n",
    "from keras.layers import *\n",
    "\n",
    "from keras.callbacks import ReduceLROnPlateau, EarlyStopping\n",
    "\n",
    "import matplotlib.pyplot as plt\n",
    "plt.style.use('seaborn')"
   ]
  },
  {
   "cell_type": "markdown",
   "metadata": {},
   "source": [
    "# Summary\n",
    "..."
   ]
  },
  {
   "cell_type": "markdown",
   "metadata": {},
   "source": [
    "---"
   ]
  },
  {
   "cell_type": "markdown",
   "metadata": {},
   "source": [
    "### Load the data in\n",
    "The test data is not used"
   ]
  },
  {
   "cell_type": "code",
   "execution_count": 2,
   "metadata": {},
   "outputs": [
    {
     "data": {
      "text/plain": [
       "{'unique_words': 277303,\n",
       " 'num_words': 277304,\n",
       " 'padded_length': 679,\n",
       " 'n_classes': 6,\n",
       " 'class_weights': array([ 1.26825655,  0.72736371,  0.27602776, 13.23801959, 30.29201502,\n",
       "         9.49559404])}"
      ]
     },
     "execution_count": 2,
     "metadata": {},
     "output_type": "execute_result"
    }
   ],
   "source": [
    "global_params = pickle.load(open(\"global_params.p\", \"rb\"))\n",
    "unique_words = global_params['unique_words']\n",
    "num_words = global_params['num_words']\n",
    "padded_length = global_params['padded_length']\n",
    "n_classes = global_params['n_classes']\n",
    "class_weights = global_params['class_weights']\n",
    "\n",
    "global_params"
   ]
  },
  {
   "cell_type": "code",
   "execution_count": 3,
   "metadata": {},
   "outputs": [],
   "source": [
    "X_train = np.load(os.path.join(\"data\", \"Kdata\", \"X_train.npy\"))\n",
    "y_train = np.load(os.path.join(\"data\", \"Kdata\", \"y_train.npy\"))\n",
    "X_val = np.load(os.path.join(\"data\", \"Kdata\", \"X_val.npy\"))\n",
    "y_val = np.load(os.path.join(\"data\", \"Kdata\", \"y_val.npy\"))"
   ]
  },
  {
   "cell_type": "markdown",
   "metadata": {},
   "source": [
    "---"
   ]
  },
  {
   "cell_type": "markdown",
   "metadata": {},
   "source": [
    "### Some custom definitions\n",
    "* metrics\n",
    "* loss functions\n",
    "* choice of learning parameters and settings"
   ]
  },
  {
   "cell_type": "code",
   "execution_count": 32,
   "metadata": {},
   "outputs": [],
   "source": [
    "from keras import backend as K\n",
    "\n",
    "# Custom metrics.\n",
    "# Note that any metric is computed per batch during training\n",
    "# (hence one needs large batches for it to make sense).\n",
    "# Also, there is the implicit 0.5 treshold in the K.round function below\n",
    "\n",
    "def macroPrec(y_true, y_pred):\n",
    "    \n",
    "    true_positives = K.sum(K.round(K.clip(y_true * y_pred, 0, 1)), axis=0)\n",
    "    positives = K.sum(K.round(y_pred), axis=0)\n",
    "    precision = true_positives / (positives + K.epsilon())\n",
    "\n",
    "    macroPrec = K.mean( precision )\n",
    "    \n",
    "    return macroPrec\n",
    "\n",
    "\n",
    "def macroRecall(y_true, y_pred):\n",
    "    \n",
    "    true_positives = K.sum(K.round(K.clip(y_true * y_pred, 0, 1)), axis=0)\n",
    "    actual_ones = K.sum(K.round(K.clip(y_true, 0, 1)), axis=0)\n",
    "    recall = true_positives / (actual_ones + K.epsilon())\n",
    "\n",
    "    macroRecall = K.mean( recall )\n",
    "    \n",
    "    return macroRecall\n",
    "\n",
    "\n",
    "def macroF1(y_true, y_pred):\n",
    "    \n",
    "    def recall(y_true, y_pred):\n",
    "\n",
    "        true_positives = K.sum(K.round(K.clip(y_true * y_pred, 0, 1)), axis=0)\n",
    "        actual_ones = K.sum(K.round(K.clip(y_true, 0, 1)), axis=0)\n",
    "        recall = true_positives / (actual_ones + K.epsilon())\n",
    "        return recall\n",
    "\n",
    "    \n",
    "    def precision(y_true, y_pred):\n",
    "        \n",
    "        true_positives = K.sum(K.round(K.clip(y_true * y_pred, 0, 1)), axis=0)\n",
    "        positives = K.sum(K.round(K.clip(y_pred, 0, 1)), axis=0)\n",
    "        precision = true_positives / (positives + K.epsilon())\n",
    "        return precision\n",
    "    \n",
    "    precision = precision(y_true, y_pred)\n",
    "    recall = recall(y_true, y_pred)\n",
    "    macroF1 = K.mean( 2*((precision*recall)/(precision+recall+K.epsilon())) )\n",
    "    \n",
    "    return macroF1\n",
    "\n",
    "\n",
    "\n",
    "# Custom loss functions\n",
    "# No clippping or rounding as those are not differentiable\n",
    "# Note to self: these functions are already taking into account class imbalances, so remeber\n",
    "# not to set the class_weight argument in fitting method when using them as the loss \n",
    "\n",
    "# semi macroF1\n",
    "def fuzzy_macroF1_flip(y_true, y_pred):\n",
    "    \n",
    "    def recall(y_true, y_pred):\n",
    "\n",
    "        true_positives = K.sum(y_true * y_pred, axis=0)\n",
    "        actual_ones = K.sum(y_true, axis=0)\n",
    "        recall = true_positives / (actual_ones + K.epsilon())\n",
    "        return recall\n",
    "\n",
    "    \n",
    "    def precision(y_true, y_pred):\n",
    "        \n",
    "        true_positives = K.sum(y_true * y_pred, axis=0)\n",
    "        positives = K.sum(y_pred, axis=0)\n",
    "        precision = true_positives / (positives + K.epsilon())\n",
    "        return precision\n",
    "    \n",
    "    precision = precision(y_true, y_pred)\n",
    "    recall = recall(y_true, y_pred)\n",
    "    macroF1 = K.mean( 2*((precision*recall)/(precision+recall+K.epsilon())) ) \n",
    "    \n",
    "    return 1-macroF1\n",
    "\n",
    "# weighted categorical crossentropy\n",
    "def my_crossE(y_true, y_pred):\n",
    "    \n",
    "    class_entropy = K.sum(y_true * K.log(y_pred+K.epsilon()), axis=0)\n",
    "    weighted_entropy = class_weights * class_entropy\n",
    "    return 1-K.mean(weighted_entropy)/2000  # arbitrary numbers to make it close to [0-1] interval"
   ]
  },
  {
   "cell_type": "code",
   "execution_count": 33,
   "metadata": {},
   "outputs": [],
   "source": [
    "# some other global learning settings\n",
    "\n",
    "batch_size = 3000\n",
    "#patience = 4\n",
    "optimizer = 'adam' # 'rmsprop'\n",
    "my_metrics = [macroPrec, macroF1, macroRecall, my_crossE]"
   ]
  },
  {
   "cell_type": "code",
   "execution_count": 34,
   "metadata": {},
   "outputs": [],
   "source": [
    "# auxiliary functions\n",
    "    \n",
    "\n",
    "# to plot the learning history,\n",
    "# i.e. loss and metrics on each train_batch and validation_batch\n",
    "def plot_history(history):\n",
    "    \n",
    "    plt.figure(figsize=(12, 5))\n",
    "    \n",
    "    loss = history.history['loss']\n",
    "    val_loss = history.history['val_loss']\n",
    "    x = range(1, len(loss) + 1)\n",
    "    \n",
    "    plt.subplot(1, 2, 1)    \n",
    "    plt.plot(x, loss, 'ob', label='Training loss')\n",
    "    plt.plot(x, val_loss, '-b', label='Validation loss')\n",
    "    plt.title('Training and val losses') \n",
    "    plt.legend()\n",
    "    \n",
    "    all_metrics = np.array(list(set(history.history.keys()) - set(['loss', 'val_loss', 'lr'])))\n",
    "    metrics = all_metrics[[not metric.startswith('val_') for metric in all_metrics]]\n",
    "    plt.subplot(1, 2, 2)\n",
    "    markers = ['b', 'r',  'g', 'y']\n",
    "    marker = zip(markers, markers)\n",
    "    for metric in metrics:\n",
    "        results = history.history[metric]\n",
    "        val_results = history.history['val_'+metric]\n",
    "        mark1, mark2 = next(marker)\n",
    "        plt.plot(x, results, 'o'+mark1, label=metric)\n",
    "        plt.plot(x, val_results, '-'+mark2, label='Validation '+metric)\n",
    "        plt.title('Training and val metrics')\n",
    "    plt.legend()\n",
    "    \n",
    "#     plt.subplot(1, 3, 3)\n",
    "#     lr = history.history['lr'] # learning rate\n",
    "#     plt.plot(x, lr, 'k', label='Learning rate')\n",
    "#     plt.title('Learning rate')  \n",
    "#     plt.legend()\n",
    "    \n",
    "\n",
    "# choose callback functions to be given in model.fit(...)\n",
    "def callbacks(LRfactor=0.5):\n",
    "    return [ReduceLROnPlateau(factor=LRfactor, patience = patience//2),\n",
    "            EarlyStopping(monitor='val_macroF1', mode='max', patience=patience)\n",
    "           ]"
   ]
  },
  {
   "cell_type": "markdown",
   "metadata": {},
   "source": [
    "---"
   ]
  },
  {
   "cell_type": "markdown",
   "metadata": {},
   "source": [
    "### Define a wrapper class for creating the classification model with embedding, fitting, etc.\n",
    "It creates an useful object using a list of intermediate layers as the main argument.\n",
    "Makes it easier to consistently use the chosen metrics, loss function, class_weights, embedding etc."
   ]
  },
  {
   "cell_type": "code",
   "execution_count": 24,
   "metadata": {},
   "outputs": [],
   "source": [
    "# the workhorse\n",
    "\n",
    "class BlackBox():\n",
    "    \n",
    "    def __init__(self, layers, loss, metrics, callbacks=None, class_weight=class_weights, epochs=10,\\\n",
    "                 embedd = None, embedd_dims=[None]*3):\n",
    "        \n",
    "        self.layers = layers\n",
    "        self.loss = loss\n",
    "        self.metrics = metrics\n",
    "        self.callbacks = callbacks\n",
    "        self.class_weight = class_weight\n",
    "        self.epochs = epochs\n",
    "        self.history = None\n",
    "        self.test_results = None\n",
    "        \n",
    "        self.model = Sequential()\n",
    "        if embedd:\n",
    "            self.input_dim = embedd_dims[0] # num_words\n",
    "            self.output_dim = embedd_dims[1] # dimension of the embedding space\n",
    "            self.input_length = embedd_dims[2] # padded_length\n",
    "            self.embedd_weights = pickle.load(open(embedd, \"rb\"))\n",
    "            \n",
    "            self.model.add(Embedding(input_dim=self.input_dim,\\\n",
    "                                     output_dim=self.output_dim,\\\n",
    "                                     input_length=self.input_length,\\\n",
    "                                     weights=self.embedd_weights,\\\n",
    "                                     trainable=False))\n",
    "        for layer in layers:\n",
    "            self.model.add(layer)\n",
    "            \n",
    "        self.model.add(Dense(n_classes, activation='softmax'))\n",
    "        self.model.compile(loss=self.loss, optimizer=optimizer, metrics=self.metrics)\n",
    "    \n",
    "    def summary(self):\n",
    "        return self.model.summary()\n",
    "    \n",
    "    def fit(self, epochs=50):\n",
    "        self.history = self.model.fit(\n",
    "            X_train, y_train,\n",
    "            class_weight=self.class_weight,\n",
    "            epochs=self.epochs,\n",
    "            batch_size=batch_size,\n",
    "            #validation_split=0.1,\n",
    "            validation_data=(X_val, y_val),\n",
    "            callbacks=self.callbacks,\n",
    "            verbose = 1        \n",
    "            )\n",
    "        \n",
    "    def reset(self):\n",
    "        \n",
    "        self.history = None\n",
    "        self.test_results = None\n",
    "        self.model.compile(loss=self.loss, optimizer=optimizer, metrics=self.metrics)\n",
    "        \n",
    "    def evaluate(self, X_test, y_test):\n",
    "        print(f'Loss function: {self.loss.__name__ if callable(self.loss) else self.loss}. Metrics: {[metric.__name__ if callable(metric) else metric for metric in self.metrics]}')\n",
    "        print(\"Predicting for X_test, comparing with y_test\")\n",
    "        self.test_results = self.model.evaluate(X_test, y_test)\n",
    "        return self.test_results\n",
    "    \n",
    "    def plot(self):\n",
    "        plot_history(self.history)\n",
    "        \n",
    "    def save_embedd(self, name):\n",
    "        pickle.dump(self.model.layers[0].get_weights(), open(f\"embedd_weights_{name}.p\", \"wb\"))\n",
    "        \n",
    "    def Ksave(self, name):\n",
    "        self.model.save(f\"Kmodel_with_embedd_{name}.h5\")\n",
    "    \n",
    "    def save(self, name):\n",
    "        pickle.dump(self, open(f\"blackbox_with_embedd_{name}.p\", \"wb\"))\n",
    " \n"
   ]
  },
  {
   "cell_type": "markdown",
   "metadata": {},
   "source": [
    "---"
   ]
  },
  {
   "cell_type": "markdown",
   "metadata": {},
   "source": [
    "## Training a keras-layer embedding\n",
    "### (naively, not CBOW or skipgram)\n",
    "* using only global-average-pooling before softmax\n",
    "* training for a fixed, short number of epochs: the goal is not to train the dense classification layer but to pretrain the embedding\n",
    "* mask zeros in input\n",
    "* use class_weights with default keras loss functions\n",
    "* do not use class_weights with fuzzy_macroF1 or my_crossE\n",
    "* save weights to files\n",
    "* see which loss function got the best val_macroF1 at the last epoch"
   ]
  },
  {
   "cell_type": "code",
   "execution_count": 25,
   "metadata": {},
   "outputs": [
    {
     "name": "stdout",
     "output_type": "stream",
     "text": [
      "_________________________________________________________________\n",
      "Layer (type)                 Output Shape              Param #   \n",
      "=================================================================\n",
      "embedding_4 (Embedding)      (None, 679, 50)           13865200  \n",
      "_________________________________________________________________\n",
      "global_average_pooling1d_4 ( (None, 50)                0         \n",
      "_________________________________________________________________\n",
      "dense_4 (Dense)              (None, 6)                 306       \n",
      "=================================================================\n",
      "Total params: 13,865,506\n",
      "Trainable params: 13,865,506\n",
      "Non-trainable params: 0\n",
      "_________________________________________________________________\n"
     ]
    }
   ],
   "source": [
    "# dimension of the embedding space = output_dim\n",
    "\n",
    "layers1 = [Embedding(input_dim=num_words, output_dim=50, input_length=padded_length, mask_zero=True),\n",
    "           GlobalAveragePooling1D()]\n",
    "\n",
    "model1 = BlackBox(layers=layers1, loss='categorical_crossentropy', class_weight=class_weights, metrics=my_metrics)\n",
    "model1.summary()"
   ]
  },
  {
   "cell_type": "code",
   "execution_count": 26,
   "metadata": {},
   "outputs": [
    {
     "name": "stdout",
     "output_type": "stream",
     "text": [
      "Train on 500000 samples, validate on 200000 samples\n",
      "Epoch 1/10\n",
      "500000/500000 [==============================] - 165s 329us/step - loss: 1.2475 - macroPrec: 0.0769 - macroF1: 0.0634 - macroRecall: 0.0661 - my_crossE: 1.4776 - val_loss: 0.8456 - val_macroPrec: 0.2997 - val_macroF1: 0.1506 - val_macroRecall: 0.1659 - val_my_crossE: 1.5209\n",
      "Epoch 2/10\n",
      "500000/500000 [==============================] - 173s 345us/step - loss: 0.6427 - macroPrec: 0.4117 - macroF1: 0.2763 - macroRecall: 0.2542 - my_crossE: 1.4935 - val_loss: 0.4797 - val_macroPrec: 0.4649 - val_macroF1: 0.3980 - val_macroRecall: 0.3601 - val_my_crossE: 1.4664\n",
      "Epoch 3/10\n",
      "500000/500000 [==============================] - 172s 344us/step - loss: 0.4043 - macroPrec: 0.4561 - macroF1: 0.4257 - macroRecall: 0.4029 - my_crossE: 1.4460 - val_loss: 0.3539 - val_macroPrec: 0.4513 - val_macroF1: 0.4373 - val_macroRecall: 0.4247 - val_my_crossE: 1.4288\n",
      "Epoch 4/10\n",
      "500000/500000 [==============================] - 167s 333us/step - loss: 0.3243 - macroPrec: 0.4519 - macroF1: 0.4423 - macroRecall: 0.4334 - my_crossE: 1.4073 - val_loss: 0.3043 - val_macroPrec: 0.4521 - val_macroF1: 0.4450 - val_macroRecall: 0.4384 - val_my_crossE: 1.3909\n",
      "Epoch 5/10\n",
      "500000/500000 [==============================] - 164s 329us/step - loss: 0.2848 - macroPrec: 0.4547 - macroF1: 0.4489 - macroRecall: 0.4434 - my_crossE: 1.3684 - val_loss: 0.2750 - val_macroPrec: 0.4575 - val_macroF1: 0.4500 - val_macroRecall: 0.4452 - val_my_crossE: 1.3546\n",
      "Epoch 6/10\n",
      "500000/500000 [==============================] - 166s 333us/step - loss: 0.2585 - macroPrec: 0.4728 - macroF1: 0.4537 - macroRecall: 0.4489 - my_crossE: 1.3332 - val_loss: 0.2545 - val_macroPrec: 0.4976 - val_macroF1: 0.4549 - val_macroRecall: 0.4496 - val_my_crossE: 1.3230\n",
      "Epoch 7/10\n",
      "500000/500000 [==============================] - 169s 338us/step - loss: 0.2388 - macroPrec: 0.5626 - macroF1: 0.4646 - macroRecall: 0.4562 - my_crossE: 1.3026 - val_loss: 0.2393 - val_macroPrec: 0.5998 - val_macroF1: 0.4707 - val_macroRecall: 0.4593 - val_my_crossE: 1.2972\n",
      "Epoch 8/10\n",
      "500000/500000 [==============================] - 166s 332us/step - loss: 0.2235 - macroPrec: 0.6159 - macroF1: 0.4913 - macroRecall: 0.4733 - my_crossE: 1.2781 - val_loss: 0.2278 - val_macroPrec: 0.6538 - val_macroF1: 0.5003 - val_macroRecall: 0.4781 - val_my_crossE: 1.2761\n",
      "Epoch 9/10\n",
      "500000/500000 [==============================] - 164s 327us/step - loss: 0.2111 - macroPrec: 0.7209 - macroF1: 0.5246 - macroRecall: 0.4958 - my_crossE: 1.2565 - val_loss: 0.2188 - val_macroPrec: 0.7522 - val_macroF1: 0.5355 - val_macroRecall: 0.5028 - val_my_crossE: 1.2579\n",
      "Epoch 10/10\n",
      "500000/500000 [==============================] - 165s 329us/step - loss: 0.2009 - macroPrec: 0.8010 - macroF1: 0.5670 - macroRecall: 0.5250 - my_crossE: 1.2381 - val_loss: 0.2117 - val_macroPrec: 0.8185 - val_macroF1: 0.5796 - val_macroRecall: 0.5328 - val_my_crossE: 1.2418\n"
     ]
    }
   ],
   "source": [
    "model1.fit()"
   ]
  },
  {
   "cell_type": "code",
   "execution_count": 27,
   "metadata": {},
   "outputs": [
    {
     "data": {
      "image/png": "[encoded data removed]",
      "text/plain": [
       "<matplotlib.figure.Figure at 0x1a8026ca0b8>"
      ]
     },
     "metadata": {},
     "output_type": "display_data"
    }
   ],
   "source": [
    "model1.plot()"
   ]
  },
  {
   "cell_type": "markdown",
   "metadata": {},
   "source": [
    "For all measurements the results on test and validation data were very close.\n",
    "At first the macro precision, recall and F1 (per batch) rose together and platoed around 0.4 for about three epochs. Then the precision picked up visibly but the recall was much slower to pick up, and consequently the final F1 after 10 epoch had reached a meager 0.58%."
   ]
  },
  {
   "cell_type": "code",
   "execution_count": 28,
   "metadata": {},
   "outputs": [],
   "source": [
    "name = \"50dim_GlblAvg_CatCrossE_10epochs\"\n",
    "model1.save_embedd(name)\n",
    "#model1.Ksave(name)\n",
    "#model1.save(name)"
   ]
  },
  {
   "cell_type": "markdown",
   "metadata": {},
   "source": [
    "---"
   ]
  },
  {
   "cell_type": "code",
   "execution_count": 35,
   "metadata": {},
   "outputs": [
    {
     "name": "stdout",
     "output_type": "stream",
     "text": [
      "_________________________________________________________________\n",
      "Layer (type)                 Output Shape              Param #   \n",
      "=================================================================\n",
      "embedding_7 (Embedding)      (None, 679, 50)           13865200  \n",
      "_________________________________________________________________\n",
      "global_average_pooling1d_7 ( (None, 50)                0         \n",
      "_________________________________________________________________\n",
      "dense_7 (Dense)              (None, 6)                 306       \n",
      "=================================================================\n",
      "Total params: 13,865,506\n",
      "Trainable params: 13,865,506\n",
      "Non-trainable params: 0\n",
      "_________________________________________________________________\n"
     ]
    }
   ],
   "source": [
    "layers2 = [Embedding(input_dim=num_words, output_dim=50, input_length=padded_length, mask_zero=True),\n",
    "           GlobalAveragePooling1D()]\n",
    "\n",
    "model2 = BlackBox(layers=layers2, loss=fuzzy_macroF1_flip, class_weight=None, metrics=my_metrics)\n",
    "model2.summary()"
   ]
  },
  {
   "cell_type": "code",
   "execution_count": 36,
   "metadata": {},
   "outputs": [
    {
     "name": "stdout",
     "output_type": "stream",
     "text": [
      "Train on 500000 samples, validate on 200000 samples\n",
      "Epoch 1/10\n",
      "500000/500000 [==============================] - 176s 351us/step - loss: 0.8381 - macroPrec: 0.0978 - macroF1: 0.0514 - macroRecall: 0.0459 - my_crossE: 1.4616 - val_loss: 0.7616 - val_macroPrec: 0.3272 - val_macroF1: 0.2290 - val_macroRecall: 0.2023 - val_my_crossE: 1.4922\n",
      "Epoch 2/10\n",
      "500000/500000 [==============================] - 168s 335us/step - loss: 0.6667 - macroPrec: 0.4495 - macroF1: 0.3776 - macroRecall: 0.3502 - my_crossE: 1.4626 - val_loss: 0.5969 - val_macroPrec: 0.4430 - val_macroF1: 0.4313 - val_macroRecall: 0.4204 - val_my_crossE: 1.4165\n",
      "Epoch 3/10\n",
      "500000/500000 [==============================] - 172s 344us/step - loss: 0.5551 - macroPrec: 0.4587 - macroF1: 0.4379 - macroRecall: 0.4301 - my_crossE: 1.3448 - val_loss: 0.5124 - val_macroPrec: 0.5847 - val_macroF1: 0.4522 - val_macroRecall: 0.4415 - val_my_crossE: 1.2858\n",
      "Epoch 4/10\n",
      "500000/500000 [==============================] - 173s 345us/step - loss: 0.4531 - macroPrec: 0.7922 - macroF1: 0.5637 - macroRecall: 0.5195 - my_crossE: 1.2467 - val_loss: 0.3965 - val_macroPrec: 0.8386 - val_macroF1: 0.6717 - val_macroRecall: 0.6081 - val_my_crossE: 1.2240\n",
      "Epoch 5/10\n",
      "500000/500000 [==============================] - 166s 331us/step - loss: 0.3431 - macroPrec: 0.8329 - macroF1: 0.7276 - macroRecall: 0.6735 - my_crossE: 1.2015 - val_loss: 0.3187 - val_macroPrec: 0.8138 - val_macroF1: 0.7433 - val_macroRecall: 0.6999 - val_my_crossE: 1.1993\n",
      "Epoch 6/10\n",
      "500000/500000 [==============================] - 165s 330us/step - loss: 0.2865 - macroPrec: 0.8198 - macroF1: 0.7676 - macroRecall: 0.7326 - my_crossE: 1.1851 - val_loss: 0.2852 - val_macroPrec: 0.8036 - val_macroF1: 0.7592 - val_macroRecall: 0.7295 - val_my_crossE: 1.1938\n",
      "Epoch 7/10\n",
      "500000/500000 [==============================] - 168s 335us/step - loss: 0.2585 - macroPrec: 0.8191 - macroF1: 0.7856 - macroRecall: 0.7619 - my_crossE: 1.1782 - val_loss: 0.2671 - val_macroPrec: 0.8045 - val_macroF1: 0.7694 - val_macroRecall: 0.7459 - val_my_crossE: 1.1946\n",
      "Epoch 8/10\n",
      "500000/500000 [==============================] - 172s 344us/step - loss: 0.2401 - macroPrec: 0.8224 - macroF1: 0.7971 - macroRecall: 0.7792 - my_crossE: 1.1759 - val_loss: 0.2551 - val_macroPrec: 0.8010 - val_macroF1: 0.7760 - val_macroRecall: 0.7587 - val_my_crossE: 1.1921\n",
      "Epoch 9/10\n",
      "500000/500000 [==============================] - 173s 345us/step - loss: 0.2269 - macroPrec: 0.8256 - macroF1: 0.8055 - macroRecall: 0.7911 - my_crossE: 1.1745 - val_loss: 0.2466 - val_macroPrec: 0.7997 - val_macroF1: 0.7805 - val_macroRecall: 0.7678 - val_my_crossE: 1.1924\n",
      "Epoch 10/10\n",
      "500000/500000 [==============================] - 164s 328us/step - loss: 0.2164 - macroPrec: 0.8287 - macroF1: 0.8133 - macroRecall: 0.8026 - my_crossE: 1.1729 - val_loss: 0.2405 - val_macroPrec: 0.8033 - val_macroF1: 0.7828 - val_macroRecall: 0.7691 - val_my_crossE: 1.1996\n"
     ]
    }
   ],
   "source": [
    "model2.fit()"
   ]
  },
  {
   "cell_type": "code",
   "execution_count": 37,
   "metadata": {},
   "outputs": [
    {
     "data": {
      "image/png": "[encoded data removed]",
      "text/plain": [
       "<matplotlib.figure.Figure at 0x1a801313630>"
      ]
     },
     "metadata": {},
     "output_type": "display_data"
    }
   ],
   "source": [
    "model2.plot()"
   ]
  },
  {
   "cell_type": "markdown",
   "metadata": {},
   "source": [
    "Again the validation data followed the test data during the 10 epochs. This time there is no notable platoe of the three metrics, precision/recall/F1, around 0.4. They comfortably rise together up to about 0.78 and stay there at practically the same value. Interestingly our other custom metric, the weighted categorical crossentropy (*my_crossE*) was warning us about overfitting starting already from 7th epoch."
   ]
  },
  {
   "cell_type": "code",
   "execution_count": 38,
   "metadata": {},
   "outputs": [],
   "source": [
    "name = \"50dim_GlblAvg_F1flip_5epochs\"\n",
    "model2.save_embedd(name)\n",
    "# model2.Ksave(name)\n",
    "# model2.save(name)"
   ]
  },
  {
   "cell_type": "markdown",
   "metadata": {},
   "source": [
    "---"
   ]
  },
  {
   "cell_type": "code",
   "execution_count": 39,
   "metadata": {},
   "outputs": [
    {
     "name": "stdout",
     "output_type": "stream",
     "text": [
      "_________________________________________________________________\n",
      "Layer (type)                 Output Shape              Param #   \n",
      "=================================================================\n",
      "embedding_8 (Embedding)      (None, 679, 50)           13865200  \n",
      "_________________________________________________________________\n",
      "global_average_pooling1d_8 ( (None, 50)                0         \n",
      "_________________________________________________________________\n",
      "dense_8 (Dense)              (None, 6)                 306       \n",
      "=================================================================\n",
      "Total params: 13,865,506\n",
      "Trainable params: 13,865,506\n",
      "Non-trainable params: 0\n",
      "_________________________________________________________________\n"
     ]
    }
   ],
   "source": [
    "# dimension of the embedding space, output_dim\n",
    "# custom loss_2\n",
    "\n",
    "layers3 = [Embedding(input_dim=num_words, output_dim=50, input_length=padded_length, mask_zero=True),\n",
    "           GlobalAveragePooling1D()]\n",
    "\n",
    "model3 = BlackBox(layers=layers3, loss=my_crossE, class_weight=None, metrics=my_metrics)\n",
    "model3.summary()"
   ]
  },
  {
   "cell_type": "code",
   "execution_count": null,
   "metadata": {},
   "outputs": [],
   "source": [
    "model3.fit()"
   ]
  },
  {
   "cell_type": "code",
   "execution_count": null,
   "metadata": {},
   "outputs": [],
   "source": [
    "model3.plot()"
   ]
  },
  {
   "cell_type": "code",
   "execution_count": null,
   "metadata": {},
   "outputs": [],
   "source": [
    "name = \"50dim_GlblAvg_MyCrossE_5epochs\"\n",
    "model3.save_embedd(name)\n",
    "# model3.Ksave(name)\n",
    "# model3.save(name)"
   ]
  },
  {
   "cell_type": "markdown",
   "metadata": {},
   "source": [
    "---"
   ]
  },
  {
   "cell_type": "code",
   "execution_count": null,
   "metadata": {},
   "outputs": [],
   "source": []
  }
 ],
 "metadata": {
  "kernelspec": {
   "display_name": "Python 3",
   "language": "python",
   "name": "python3"
  },
  "language_info": {
   "codemirror_mode": {
    "name": "ipython",
    "version": 3
   },
   "file_extension": ".py",
   "mimetype": "text/x-python",
   "name": "python",
   "nbconvert_exporter": "python",
   "pygments_lexer": "ipython3",
   "version": "3.6.7"
  }
 },
 "nbformat": 4,
 "nbformat_minor": 2
}
