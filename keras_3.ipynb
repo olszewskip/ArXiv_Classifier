{
 "cells": [
  {
   "cell_type": "code",
   "execution_count": 2,
   "metadata": {},
   "outputs": [
    {
     "name": "stderr",
     "output_type": "stream",
     "text": [
      "Using TensorFlow backend.\n"
     ]
    }
   ],
   "source": [
    "import os\n",
    "import pandas as pd\n",
    "import numpy as np\n",
    "import pickle\n",
    "\n",
    "from keras.models import Sequential\n",
    "from keras.layers import *\n",
    "\n",
    "from keras.callbacks import ReduceLROnPlateau, EarlyStopping, ModelCheckpoint\n",
    "\n",
    "import matplotlib.pyplot as plt\n",
    "plt.style.use('seaborn')"
   ]
  },
  {
   "cell_type": "code",
   "execution_count": 3,
   "metadata": {},
   "outputs": [
    {
     "data": {
      "text/plain": [
       "{'unique_words': 277303,\n",
       " 'num_words': 277304,\n",
       " 'padded_length': 679,\n",
       " 'n_classes': 6,\n",
       " 'class_weights': array([ 1.26825655,  0.72736371,  0.27602776, 13.23801959, 30.29201502,\n",
       "         9.49559404])}"
      ]
     },
     "execution_count": 3,
     "metadata": {},
     "output_type": "execute_result"
    }
   ],
   "source": [
    "global_params = pickle.load(open(\"global_params.p\", \"rb\"))\n",
    "unique_words = global_params['unique_words']\n",
    "num_words = global_params['num_words']\n",
    "padded_length = global_params['padded_length']\n",
    "n_classes = global_params['n_classes']\n",
    "class_weights = global_params['class_weights']\n",
    "\n",
    "global_params"
   ]
  },
  {
   "cell_type": "code",
   "execution_count": 4,
   "metadata": {},
   "outputs": [],
   "source": [
    "X_train = np.load(os.path.join(\"data\", \"Kdata\", \"X_train.npy\"))\n",
    "y_train = np.load(os.path.join(\"data\", \"Kdata\", \"y_train.npy\"))\n",
    "X_val = np.load(os.path.join(\"data\", \"Kdata\", \"X_val.npy\"))\n",
    "y_val = np.load(os.path.join(\"data\", \"Kdata\", \"y_val.npy\"))"
   ]
  },
  {
   "cell_type": "code",
   "execution_count": 5,
   "metadata": {},
   "outputs": [],
   "source": [
    "from keras import backend as K\n",
    "\n",
    "def macroPrec(y_true, y_pred):\n",
    "    # a custom metric\n",
    "    # note that any metric is computed per batch during training\n",
    "    # (hence one needs large batches for it to make sense)\n",
    "    # also, there is the implicit 0.5 treshold due to the round function\n",
    "    \n",
    "    true_positives = K.sum(K.round(K.clip(y_true * y_pred, 0, 1)), axis=0)\n",
    "    positives = K.sum(K.round(y_pred), axis=0)\n",
    "    precision = true_positives / (positives + K.epsilon())\n",
    "\n",
    "    macroPrec = K.mean( precision )\n",
    "    \n",
    "    return macroPrec\n",
    "\n",
    "def macroRecall(y_true, y_pred):\n",
    "    # a custom metric\n",
    "    # note that any metric is computed per batch during training\n",
    "    # (hence one needs large batches for it to make sense)\n",
    "    # also, there is the implicit 0.5 treshold due to the round function\n",
    "    \n",
    "    true_positives = K.sum(K.round(K.clip(y_true * y_pred, 0, 1)), axis=0)\n",
    "    actual_ones = K.sum(K.round(K.clip(y_true, 0, 1)), axis=0)\n",
    "    recall = true_positives / (actual_ones + K.epsilon())\n",
    "\n",
    "    macroRecall = K.mean( recall )\n",
    "    \n",
    "    return macroRecall\n",
    "\n",
    "\n",
    "def macroF1(y_true, y_pred):\n",
    "    # a custom metric\n",
    "    # note that any metric is computed per batch during training\n",
    "    # (hence one needs large batches for it to make sense)\n",
    "    # also, there is the implicit 0.5 treshold due to the round function\n",
    "    \n",
    "    def recall(y_true, y_pred):\n",
    "\n",
    "        true_positives = K.sum(K.round(K.clip(y_true * y_pred, 0, 1)), axis=0)\n",
    "        actual_ones = K.sum(K.round(K.clip(y_true, 0, 1)), axis=0)\n",
    "        recall = true_positives / (actual_ones + K.epsilon())\n",
    "        return recall\n",
    "\n",
    "    \n",
    "    def precision(y_true, y_pred):\n",
    "        \n",
    "        true_positives = K.sum(K.round(K.clip(y_true * y_pred, 0, 1)), axis=0)\n",
    "        positives = K.sum(K.round(K.clip(y_pred, 0, 1)), axis=0)\n",
    "        precision = true_positives / (positives + K.epsilon())\n",
    "        return precision\n",
    "    \n",
    "    precision = precision(y_true, y_pred)\n",
    "    recall = recall(y_true, y_pred)\n",
    "    macroF1 = K.mean( 2*((precision*recall)/(precision+recall+K.epsilon())) )\n",
    "    \n",
    "    return macroF1\n",
    "\n",
    "\n",
    "def fuzzy_macroF1_flip(y_true, y_pred):\n",
    "    # a custom loss function\n",
    "    # no clippping or rounding as those are not differentiable\n",
    "    \n",
    "    def recall(y_true, y_pred):\n",
    "\n",
    "        true_positives = K.sum(y_true * y_pred, axis=0)\n",
    "        actual_ones = K.sum(y_true, axis=0)\n",
    "        recall = true_positives / (actual_ones + K.epsilon())\n",
    "        return recall\n",
    "\n",
    "    \n",
    "    def precision(y_true, y_pred):\n",
    "        \n",
    "        true_positives = K.sum(y_true * y_pred, axis=0)\n",
    "        positives = K.sum(y_pred, axis=0)\n",
    "        precision = true_positives / (positives + K.epsilon())\n",
    "        return precision\n",
    "    \n",
    "    precision = precision(y_true, y_pred)\n",
    "    recall = recall(y_true, y_pred)\n",
    "    macroF1 = K.mean( 2*((precision*recall)/(precision+recall+K.epsilon())) ) \n",
    "    \n",
    "    return 1-macroF1"
   ]
  },
  {
   "cell_type": "code",
   "execution_count": 16,
   "metadata": {},
   "outputs": [],
   "source": [
    "# some other global learning settings\n",
    "\n",
    "batch_size = 3000\n",
    "patience = 4\n",
    "optimizer = 'adam' # 'rmsprop'\n",
    "my_loss = fuzzy_macroF1_flip\n",
    "my_metrics = [macroPrec, macroF1, macroRecall]"
   ]
  },
  {
   "cell_type": "code",
   "execution_count": 6,
   "metadata": {},
   "outputs": [],
   "source": [
    "# auxiliary functions\n",
    "\n",
    "# choose callback functions to be given in model.fit(...)\n",
    "def callbacks(LRfactor=0.8):\n",
    "    return [ReduceLROnPlateau(factor=LRfactor, patience = patience//2),\n",
    "            EarlyStopping(monitor='val_macroF1', mode='max', patience=patience)\n",
    "           ]\n",
    "\n",
    "    \n",
    "# to plot the learning history,\n",
    "# i.e. loss and metrics on each train_batch and validation_batch\n",
    "def plot_history(history):\n",
    "    \n",
    "    plt.figure(figsize=(18, 5))\n",
    "    \n",
    "    loss = history.history['loss']\n",
    "    val_loss = history.history['val_loss']\n",
    "    x = range(1, len(loss) + 1)\n",
    "    \n",
    "    plt.subplot(1, 3, 1)    \n",
    "    plt.plot(x, loss, 'ob', label='Training loss')\n",
    "    plt.plot(x, val_loss, '-b', label='Validation loss')\n",
    "    plt.title('Training and val losses') \n",
    "    plt.legend()\n",
    "    \n",
    "    all_metrics = np.array(list(set(history.history.keys()) - set(['loss', 'val_loss', 'lr'])))\n",
    "    metrics = all_metrics[[not metric.startswith('val_') for metric in all_metrics]]\n",
    "    plt.subplot(1, 3, 2)\n",
    "    markers = ['b', 'r',  'g', 'y']\n",
    "    marker = zip(markers, markers)\n",
    "    for metric in metrics:\n",
    "        results = history.history[metric]\n",
    "        val_results = history.history['val_'+metric]\n",
    "        mark1, mark2 = next(marker)\n",
    "        plt.plot(x, results, 'o'+mark1, label=metric)\n",
    "        plt.plot(x, val_results, '-'+mark2, label='Validation '+metric)\n",
    "        plt.title('Training and val metrics')\n",
    "    plt.legend()\n",
    "    \n",
    "    plt.subplot(1, 3, 3)\n",
    "    lr = history.history['lr'] # learning rate\n",
    "    plt.plot(x, lr, 'k', label='Learning rate')\n",
    "    plt.title('Learning rate')  \n",
    "    plt.legend()"
   ]
  },
  {
   "cell_type": "code",
   "execution_count": 10,
   "metadata": {},
   "outputs": [],
   "source": [
    "# the workhorse\n",
    "\n",
    "class BlackBox():\n",
    "    \n",
    "    def __init__(self, layers, loss, metrics, callbacks=callbacks(), embedd = None, embedd_dims=[None]*3):\n",
    "        \n",
    "        self.layers = layers\n",
    "        self.loss = loss\n",
    "        self.metrics = metrics\n",
    "        self.callbacks = callbacks\n",
    "        self.history = None\n",
    "        self.results = None\n",
    "        \n",
    "        self.model = Sequential()\n",
    "        if embedd:\n",
    "            self.input_dim = embedd_dims[0] # num_words\n",
    "            self.output_dim = embedd_dims[1] # dimension of the embedding space\n",
    "            self.input_length = embedd_dims[2] # padded_length\n",
    "            self.embedd_weights = pickle.load(open(embedd, \"rb\"))\n",
    "            \n",
    "            self.model.add(Embedding(input_dim=self.input_dim,\\\n",
    "                                     output_dim=self.output_dim,\\\n",
    "                                     input_length=self.input_length,\\\n",
    "                                     weights=self.embedd_weights,\\\n",
    "                                     trainable=False))\n",
    "            self.model.layers[0].trainable = False  # szczeżonego panbug szczeże\n",
    "        for layer in layers:\n",
    "            self.model.add(layer)\n",
    "            \n",
    "        self.model.add(Dense(n_classes, activation='softmax'))\n",
    "        self.model.compile(loss=self.loss, optimizer=optimizer, metrics=self.metrics)\n",
    "    \n",
    "    def summary(self):\n",
    "        return self.model.summary()\n",
    "    \n",
    "    def fit(self, epochs=200):\n",
    "        self.history = self.model.fit(\n",
    "            X_train, y_train,\n",
    "            class_weight=class_weights,\n",
    "            epochs=epochs,\n",
    "            batch_size=batch_size,\n",
    "            validation_data=(X_val, y_val),\n",
    "            callbacks=self.callbacks,\n",
    "            verbose = 1        \n",
    "            )\n",
    "        \n",
    "    def reset(self):\n",
    "        \n",
    "        self.history = None\n",
    "        self.results = None\n",
    "        self.model.compile(loss=self.loss, optimizer=optimizer, metrics=self.metrics)\n",
    "        \n",
    "    def evaluate(self):\n",
    "        print(f'Loss function: {self.loss.__name__ if callable(self.loss) else self.loss}. Metrics: {[metric.__name__ if callable(metric) else metric for metric in self.metrics]}')\n",
    "        print(\"Predicting for X_test, comparing with y_test\")\n",
    "        return self.results\n",
    "    \n",
    "    def plot(self):\n",
    "        plot_history(self.history)\n",
    "        \n",
    "    def save(self, file):\n",
    "        self.model.save(file)\n",
    "        \n",
    "    def save_embedd(self, name):\n",
    "        pickle.dump(self.model.layers[0].get_weights(), open(f\"my_embedd_weights_{name}.p\", \"wb\")) \n",
    " \n"
   ]
  },
  {
   "cell_type": "markdown",
   "metadata": {},
   "source": [
    "---"
   ]
  },
  {
   "cell_type": "code",
   "execution_count": 44,
   "metadata": {},
   "outputs": [
    {
     "name": "stdout",
     "output_type": "stream",
     "text": [
      "_________________________________________________________________\n",
      "Layer (type)                 Output Shape              Param #   \n",
      "=================================================================\n",
      "embedding_10 (Embedding)     (None, 679, 50)           13865200  \n",
      "_________________________________________________________________\n",
      "simple_rnn_1 (SimpleRNN)     (None, 10)                610       \n",
      "_________________________________________________________________\n",
      "dense_16 (Dense)             (None, 6)                 66        \n",
      "=================================================================\n",
      "Total params: 13,865,876\n",
      "Trainable params: 676\n",
      "Non-trainable params: 13,865,200\n",
      "_________________________________________________________________\n"
     ]
    }
   ],
   "source": [
    "layers0 = [SimpleRNN(10, dropout=0.0, recurrent_dropout=0.0)\n",
    "          ]\n",
    "\n",
    "model0 = BlackBox(layers=layers0, loss=my_loss, metrics=my_metrics,\\\n",
    "                  embedd=\"my_embedd_weights_50dim_GlblAvg.p\",\\\n",
    "                  embedd_dims=[num_words, 50, padded_length])\n",
    "model0.summary()"
   ]
  },
  {
   "cell_type": "code",
   "execution_count": 46,
   "metadata": {},
   "outputs": [
    {
     "name": "stdout",
     "output_type": "stream",
     "text": [
      "Train on 500000 samples, validate on 200000 samples\n",
      "Epoch 1/200\n",
      "246000/500000 [=============>................] - ETA: 3:12 - loss: 0.8528 - macroPrec: 0.0258 - macroF1: 0.0322 - macroRecall: 0.0427"
     ]
    },
    {
     "ename": "KeyboardInterrupt",
     "evalue": "",
     "output_type": "error",
     "traceback": [
      "\u001b[1;31m---------------------------------------------------------------------------\u001b[0m",
      "\u001b[1;31mKeyboardInterrupt\u001b[0m                         Traceback (most recent call last)",
      "\u001b[1;32m<ipython-input-46-7838e8a94744>\u001b[0m in \u001b[0;36m<module>\u001b[1;34m()\u001b[0m\n\u001b[1;32m----> 1\u001b[1;33m \u001b[0mmodel0\u001b[0m\u001b[1;33m.\u001b[0m\u001b[0mfit\u001b[0m\u001b[1;33m(\u001b[0m\u001b[1;33m)\u001b[0m\u001b[1;33m\u001b[0m\u001b[1;33m\u001b[0m\u001b[0m\n\u001b[0m",
      "\u001b[1;32m<ipython-input-10-b1a98fa339bb>\u001b[0m in \u001b[0;36mfit\u001b[1;34m(self, epochs)\u001b[0m\n\u001b[0;32m     37\u001b[0m             \u001b[0mvalidation_data\u001b[0m\u001b[1;33m=\u001b[0m\u001b[1;33m(\u001b[0m\u001b[0mX_val\u001b[0m\u001b[1;33m,\u001b[0m \u001b[0my_val\u001b[0m\u001b[1;33m)\u001b[0m\u001b[1;33m,\u001b[0m\u001b[1;33m\u001b[0m\u001b[1;33m\u001b[0m\u001b[0m\n\u001b[0;32m     38\u001b[0m             \u001b[0mcallbacks\u001b[0m\u001b[1;33m=\u001b[0m\u001b[0mself\u001b[0m\u001b[1;33m.\u001b[0m\u001b[0mcallbacks\u001b[0m\u001b[1;33m,\u001b[0m\u001b[1;33m\u001b[0m\u001b[1;33m\u001b[0m\u001b[0m\n\u001b[1;32m---> 39\u001b[1;33m             \u001b[0mverbose\u001b[0m \u001b[1;33m=\u001b[0m \u001b[1;36m1\u001b[0m\u001b[1;33m\u001b[0m\u001b[1;33m\u001b[0m\u001b[0m\n\u001b[0m\u001b[0;32m     40\u001b[0m             )\n\u001b[0;32m     41\u001b[0m \u001b[1;33m\u001b[0m\u001b[0m\n",
      "\u001b[1;32mC:\\Anaconda3\\lib\\site-packages\\keras\\engine\\training.py\u001b[0m in \u001b[0;36mfit\u001b[1;34m(self, x, y, batch_size, epochs, verbose, callbacks, validation_split, validation_data, shuffle, class_weight, sample_weight, initial_epoch, steps_per_epoch, validation_steps, **kwargs)\u001b[0m\n\u001b[0;32m   1037\u001b[0m                                         \u001b[0minitial_epoch\u001b[0m\u001b[1;33m=\u001b[0m\u001b[0minitial_epoch\u001b[0m\u001b[1;33m,\u001b[0m\u001b[1;33m\u001b[0m\u001b[1;33m\u001b[0m\u001b[0m\n\u001b[0;32m   1038\u001b[0m                                         \u001b[0msteps_per_epoch\u001b[0m\u001b[1;33m=\u001b[0m\u001b[0msteps_per_epoch\u001b[0m\u001b[1;33m,\u001b[0m\u001b[1;33m\u001b[0m\u001b[1;33m\u001b[0m\u001b[0m\n\u001b[1;32m-> 1039\u001b[1;33m                                         validation_steps=validation_steps)\n\u001b[0m\u001b[0;32m   1040\u001b[0m \u001b[1;33m\u001b[0m\u001b[0m\n\u001b[0;32m   1041\u001b[0m     def evaluate(self, x=None, y=None,\n",
      "\u001b[1;32mC:\\Anaconda3\\lib\\site-packages\\keras\\engine\\training_arrays.py\u001b[0m in \u001b[0;36mfit_loop\u001b[1;34m(model, f, ins, out_labels, batch_size, epochs, verbose, callbacks, val_f, val_ins, shuffle, callback_metrics, initial_epoch, steps_per_epoch, validation_steps)\u001b[0m\n\u001b[0;32m    197\u001b[0m                     \u001b[0mins_batch\u001b[0m\u001b[1;33m[\u001b[0m\u001b[0mi\u001b[0m\u001b[1;33m]\u001b[0m \u001b[1;33m=\u001b[0m \u001b[0mins_batch\u001b[0m\u001b[1;33m[\u001b[0m\u001b[0mi\u001b[0m\u001b[1;33m]\u001b[0m\u001b[1;33m.\u001b[0m\u001b[0mtoarray\u001b[0m\u001b[1;33m(\u001b[0m\u001b[1;33m)\u001b[0m\u001b[1;33m\u001b[0m\u001b[1;33m\u001b[0m\u001b[0m\n\u001b[0;32m    198\u001b[0m \u001b[1;33m\u001b[0m\u001b[0m\n\u001b[1;32m--> 199\u001b[1;33m                 \u001b[0mouts\u001b[0m \u001b[1;33m=\u001b[0m \u001b[0mf\u001b[0m\u001b[1;33m(\u001b[0m\u001b[0mins_batch\u001b[0m\u001b[1;33m)\u001b[0m\u001b[1;33m\u001b[0m\u001b[1;33m\u001b[0m\u001b[0m\n\u001b[0m\u001b[0;32m    200\u001b[0m                 \u001b[0mouts\u001b[0m \u001b[1;33m=\u001b[0m \u001b[0mto_list\u001b[0m\u001b[1;33m(\u001b[0m\u001b[0mouts\u001b[0m\u001b[1;33m)\u001b[0m\u001b[1;33m\u001b[0m\u001b[1;33m\u001b[0m\u001b[0m\n\u001b[0;32m    201\u001b[0m                 \u001b[1;32mfor\u001b[0m \u001b[0ml\u001b[0m\u001b[1;33m,\u001b[0m \u001b[0mo\u001b[0m \u001b[1;32min\u001b[0m \u001b[0mzip\u001b[0m\u001b[1;33m(\u001b[0m\u001b[0mout_labels\u001b[0m\u001b[1;33m,\u001b[0m \u001b[0mouts\u001b[0m\u001b[1;33m)\u001b[0m\u001b[1;33m:\u001b[0m\u001b[1;33m\u001b[0m\u001b[1;33m\u001b[0m\u001b[0m\n",
      "\u001b[1;32mC:\\Anaconda3\\lib\\site-packages\\keras\\backend\\tensorflow_backend.py\u001b[0m in \u001b[0;36m__call__\u001b[1;34m(self, inputs)\u001b[0m\n\u001b[0;32m   2713\u001b[0m                 \u001b[1;32mreturn\u001b[0m \u001b[0mself\u001b[0m\u001b[1;33m.\u001b[0m\u001b[0m_legacy_call\u001b[0m\u001b[1;33m(\u001b[0m\u001b[0minputs\u001b[0m\u001b[1;33m)\u001b[0m\u001b[1;33m\u001b[0m\u001b[1;33m\u001b[0m\u001b[0m\n\u001b[0;32m   2714\u001b[0m \u001b[1;33m\u001b[0m\u001b[0m\n\u001b[1;32m-> 2715\u001b[1;33m             \u001b[1;32mreturn\u001b[0m \u001b[0mself\u001b[0m\u001b[1;33m.\u001b[0m\u001b[0m_call\u001b[0m\u001b[1;33m(\u001b[0m\u001b[0minputs\u001b[0m\u001b[1;33m)\u001b[0m\u001b[1;33m\u001b[0m\u001b[1;33m\u001b[0m\u001b[0m\n\u001b[0m\u001b[0;32m   2716\u001b[0m         \u001b[1;32melse\u001b[0m\u001b[1;33m:\u001b[0m\u001b[1;33m\u001b[0m\u001b[1;33m\u001b[0m\u001b[0m\n\u001b[0;32m   2717\u001b[0m             \u001b[1;32mif\u001b[0m \u001b[0mpy_any\u001b[0m\u001b[1;33m(\u001b[0m\u001b[0mis_tensor\u001b[0m\u001b[1;33m(\u001b[0m\u001b[0mx\u001b[0m\u001b[1;33m)\u001b[0m \u001b[1;32mfor\u001b[0m \u001b[0mx\u001b[0m \u001b[1;32min\u001b[0m \u001b[0minputs\u001b[0m\u001b[1;33m)\u001b[0m\u001b[1;33m:\u001b[0m\u001b[1;33m\u001b[0m\u001b[1;33m\u001b[0m\u001b[0m\n",
      "\u001b[1;32mC:\\Anaconda3\\lib\\site-packages\\keras\\backend\\tensorflow_backend.py\u001b[0m in \u001b[0;36m_call\u001b[1;34m(self, inputs)\u001b[0m\n\u001b[0;32m   2673\u001b[0m             \u001b[0mfetched\u001b[0m \u001b[1;33m=\u001b[0m \u001b[0mself\u001b[0m\u001b[1;33m.\u001b[0m\u001b[0m_callable_fn\u001b[0m\u001b[1;33m(\u001b[0m\u001b[1;33m*\u001b[0m\u001b[0marray_vals\u001b[0m\u001b[1;33m,\u001b[0m \u001b[0mrun_metadata\u001b[0m\u001b[1;33m=\u001b[0m\u001b[0mself\u001b[0m\u001b[1;33m.\u001b[0m\u001b[0mrun_metadata\u001b[0m\u001b[1;33m)\u001b[0m\u001b[1;33m\u001b[0m\u001b[1;33m\u001b[0m\u001b[0m\n\u001b[0;32m   2674\u001b[0m         \u001b[1;32melse\u001b[0m\u001b[1;33m:\u001b[0m\u001b[1;33m\u001b[0m\u001b[1;33m\u001b[0m\u001b[0m\n\u001b[1;32m-> 2675\u001b[1;33m             \u001b[0mfetched\u001b[0m \u001b[1;33m=\u001b[0m \u001b[0mself\u001b[0m\u001b[1;33m.\u001b[0m\u001b[0m_callable_fn\u001b[0m\u001b[1;33m(\u001b[0m\u001b[1;33m*\u001b[0m\u001b[0marray_vals\u001b[0m\u001b[1;33m)\u001b[0m\u001b[1;33m\u001b[0m\u001b[1;33m\u001b[0m\u001b[0m\n\u001b[0m\u001b[0;32m   2676\u001b[0m         \u001b[1;32mreturn\u001b[0m \u001b[0mfetched\u001b[0m\u001b[1;33m[\u001b[0m\u001b[1;33m:\u001b[0m\u001b[0mlen\u001b[0m\u001b[1;33m(\u001b[0m\u001b[0mself\u001b[0m\u001b[1;33m.\u001b[0m\u001b[0moutputs\u001b[0m\u001b[1;33m)\u001b[0m\u001b[1;33m]\u001b[0m\u001b[1;33m\u001b[0m\u001b[1;33m\u001b[0m\u001b[0m\n\u001b[0;32m   2677\u001b[0m \u001b[1;33m\u001b[0m\u001b[0m\n",
      "\u001b[1;32mC:\\Anaconda3\\lib\\site-packages\\tensorflow\\python\\client\\session.py\u001b[0m in \u001b[0;36m__call__\u001b[1;34m(self, *args, **kwargs)\u001b[0m\n\u001b[0;32m   1437\u001b[0m           ret = tf_session.TF_SessionRunCallable(\n\u001b[0;32m   1438\u001b[0m               \u001b[0mself\u001b[0m\u001b[1;33m.\u001b[0m\u001b[0m_session\u001b[0m\u001b[1;33m.\u001b[0m\u001b[0m_session\u001b[0m\u001b[1;33m,\u001b[0m \u001b[0mself\u001b[0m\u001b[1;33m.\u001b[0m\u001b[0m_handle\u001b[0m\u001b[1;33m,\u001b[0m \u001b[0margs\u001b[0m\u001b[1;33m,\u001b[0m \u001b[0mstatus\u001b[0m\u001b[1;33m,\u001b[0m\u001b[1;33m\u001b[0m\u001b[1;33m\u001b[0m\u001b[0m\n\u001b[1;32m-> 1439\u001b[1;33m               run_metadata_ptr)\n\u001b[0m\u001b[0;32m   1440\u001b[0m         \u001b[1;32mif\u001b[0m \u001b[0mrun_metadata\u001b[0m\u001b[1;33m:\u001b[0m\u001b[1;33m\u001b[0m\u001b[1;33m\u001b[0m\u001b[0m\n\u001b[0;32m   1441\u001b[0m           \u001b[0mproto_data\u001b[0m \u001b[1;33m=\u001b[0m \u001b[0mtf_session\u001b[0m\u001b[1;33m.\u001b[0m\u001b[0mTF_GetBuffer\u001b[0m\u001b[1;33m(\u001b[0m\u001b[0mrun_metadata_ptr\u001b[0m\u001b[1;33m)\u001b[0m\u001b[1;33m\u001b[0m\u001b[1;33m\u001b[0m\u001b[0m\n",
      "\u001b[1;31mKeyboardInterrupt\u001b[0m: "
     ]
    }
   ],
   "source": [
    "model0.fit()"
   ]
  },
  {
   "cell_type": "code",
   "execution_count": null,
   "metadata": {},
   "outputs": [],
   "source": []
  },
  {
   "cell_type": "markdown",
   "metadata": {},
   "source": [
    "---"
   ]
  },
  {
   "cell_type": "code",
   "execution_count": null,
   "metadata": {},
   "outputs": [],
   "source": [
    "Bidirectional(LSTM(64))"
   ]
  },
  {
   "cell_type": "code",
   "execution_count": null,
   "metadata": {},
   "outputs": [],
   "source": [
    "... = [Conv1D(96, 2),\n",
    "           MaxPooling1D(4, 2),\n",
    "           Dropout(rate=0.3),\n",
    "           Conv1D(48, 3),\n",
    "           MaxPooling1D(8, 4),\n",
    "           Dropout(rate=0.15),\n",
    "           Conv1D(12, 4),\n",
    "           GlobalMaxPooling1D()\n",
    "          ]"
   ]
  },
  {
   "cell_type": "code",
   "execution_count": null,
   "metadata": {},
   "outputs": [],
   "source": [
    "... = [Conv1D(96, 2),\n",
    "           MaxPooling1D(4, 2),\n",
    "           Dropout(rate=0.3),\n",
    "           Conv1D(48, 3),\n",
    "           MaxPooling1D(8, 4),\n",
    "           Dropout(rate=0.15),\n",
    "           Conv1D(12, 4),\n",
    "           GlobalMaxPooling1D()\n",
    "          ]"
   ]
  },
  {
   "cell_type": "code",
   "execution_count": 49,
   "metadata": {},
   "outputs": [
    {
     "name": "stdout",
     "output_type": "stream",
     "text": [
      "_________________________________________________________________\n",
      "Layer (type)                 Output Shape              Param #   \n",
      "=================================================================\n",
      "embedding_12 (Embedding)     (None, 679, 50)           13865200  \n",
      "_________________________________________________________________\n",
      "conv1d_10 (Conv1D)           (None, 676, 50)           10050     \n",
      "_________________________________________________________________\n",
      "flatten_9 (Flatten)          (None, 33800)             0         \n",
      "_________________________________________________________________\n",
      "dense_18 (Dense)             (None, 6)                 202806    \n",
      "=================================================================\n",
      "Total params: 14,078,056\n",
      "Trainable params: 212,856\n",
      "Non-trainable params: 13,865,200\n",
      "_________________________________________________________________\n"
     ]
    }
   ],
   "source": [
    "layers1 = [Conv1D(50, 4),\n",
    "           Flatten()\n",
    "          ]\n",
    "\n",
    "model1 = BlackBox(layers=layers1, loss=my_loss, metrics=my_metrics,\\\n",
    "                  embedd=\"my_embedd_weights_50dim_GlblAvg.p\",\\\n",
    "                  embedd_dims=[num_words, 50, padded_length])\n",
    "model1.summary()"
   ]
  },
  {
   "cell_type": "code",
   "execution_count": 50,
   "metadata": {},
   "outputs": [
    {
     "name": "stdout",
     "output_type": "stream",
     "text": [
      "Train on 500000 samples, validate on 200000 samples\n",
      "Epoch 1/200\n",
      "500000/500000 [==============================] - 577s 1ms/step - loss: 0.1354 - macroPrec: 0.8879 - macroF1: 0.8723 - macroRecall: 0.8648 - val_loss: 0.2009 - val_macroPrec: 0.8161 - val_macroF1: 0.8022 - val_macroRecall: 0.7935\n",
      "Epoch 2/200\n",
      "500000/500000 [==============================] - 579s 1ms/step - loss: 0.1008 - macroPrec: 0.9083 - macroF1: 0.9012 - macroRecall: 0.8964 - val_loss: 0.2052 - val_macroPrec: 0.8187 - val_macroF1: 0.7963 - val_macroRecall: 0.7815\n",
      "Epoch 3/200\n",
      "500000/500000 [==============================] - 589s 1ms/step - loss: 0.0977 - macroPrec: 0.9117 - macroF1: 0.9036 - macroRecall: 0.8980 - val_loss: 0.2008 - val_macroPrec: 0.8125 - val_macroF1: 0.8001 - val_macroRecall: 0.7922\n",
      "Epoch 4/200\n",
      "500000/500000 [==============================] - 589s 1ms/step - loss: 0.0961 - macroPrec: 0.9123 - macroF1: 0.9050 - macroRecall: 0.9001 - val_loss: 0.2019 - val_macroPrec: 0.8152 - val_macroF1: 0.7996 - val_macroRecall: 0.7891\n",
      "Epoch 5/200\n",
      "500000/500000 [==============================] - 597s 1ms/step - loss: 0.0951 - macroPrec: 0.9138 - macroF1: 0.9059 - macroRecall: 0.9004 - val_loss: 0.2027 - val_macroPrec: 0.8120 - val_macroF1: 0.7981 - val_macroRecall: 0.7891\n"
     ]
    }
   ],
   "source": [
    "model1.fit()"
   ]
  },
  {
   "cell_type": "code",
   "execution_count": 51,
   "metadata": {},
   "outputs": [
    {
     "data": {
      "image/png": "[encoded data removed]",
      "text/plain": [
       "<matplotlib.figure.Figure at 0x1ba895193c8>"
      ]
     },
     "metadata": {},
     "output_type": "display_data"
    }
   ],
   "source": [
    "model1.plot()"
   ]
  },
  {
   "cell_type": "code",
   "execution_count": null,
   "metadata": {},
   "outputs": [],
   "source": []
  },
  {
   "cell_type": "code",
   "execution_count": 28,
   "metadata": {},
   "outputs": [
    {
     "name": "stdout",
     "output_type": "stream",
     "text": [
      "_________________________________________________________________\n",
      "Layer (type)                 Output Shape              Param #   \n",
      "=================================================================\n",
      "embedding_4 (Embedding)      (None, 679, 50)           13865200  \n",
      "_________________________________________________________________\n",
      "conv1d_6 (Conv1D)            (None, 678, 40)           4040      \n",
      "_________________________________________________________________\n",
      "max_pooling1d_5 (MaxPooling1 (None, 339, 40)           0         \n",
      "_________________________________________________________________\n",
      "dropout_11 (Dropout)         (None, 339, 40)           0         \n",
      "_________________________________________________________________\n",
      "conv1d_7 (Conv1D)            (None, 336, 30)           4830      \n",
      "_________________________________________________________________\n",
      "max_pooling1d_6 (MaxPooling1 (None, 84, 30)            0         \n",
      "_________________________________________________________________\n",
      "dropout_12 (Dropout)         (None, 84, 30)            0         \n",
      "_________________________________________________________________\n",
      "conv1d_8 (Conv1D)            (None, 79, 20)            3620      \n",
      "_________________________________________________________________\n",
      "global_max_pooling1d_2 (Glob (None, 20)                0         \n",
      "_________________________________________________________________\n",
      "dense_6 (Dense)              (None, 6)                 126       \n",
      "=================================================================\n",
      "Total params: 13,877,816\n",
      "Trainable params: 12,616\n",
      "Non-trainable params: 13,865,200\n",
      "_________________________________________________________________\n"
     ]
    }
   ],
   "source": [
    "layers1 = [Conv1D(40, 2),\n",
    "           MaxPooling1D(2),\n",
    "           Dropout(rate=0.3),\n",
    "           Conv1D(30, 4),\n",
    "           MaxPooling1D(4),\n",
    "           Dropout(rate=0.1),\n",
    "           Conv1D(20, 6),\n",
    "           GlobalMaxPooling1D()\n",
    "          ]\n",
    "\n",
    "model1 = BlackBox(layers=layers1, loss=my_loss, metrics=my_metrics,\\\n",
    "                  embedd=\"my_embedd_weights_50dim_GlblAvg.p\",\\\n",
    "                  embedd_dims=[num_words, 50, padded_length])\n",
    "model1.summary()"
   ]
  },
  {
   "cell_type": "code",
   "execution_count": 29,
   "metadata": {},
   "outputs": [
    {
     "name": "stdout",
     "output_type": "stream",
     "text": [
      "Train on 500000 samples, validate on 200000 samples\n",
      "Epoch 1/200\n",
      "500000/500000 [==============================] - 854s 2ms/step - loss: 0.3450 - macroPrec: 0.6867 - macroF1: 0.6683 - macroRecall: 0.6682 - val_loss: 0.2195 - val_macroPrec: 0.8016 - val_macroF1: 0.7864 - val_macroRecall: 0.7774\n",
      "Epoch 2/200\n",
      "500000/500000 [==============================] - 850s 2ms/step - loss: 0.1348 - macroPrec: 0.8745 - macroF1: 0.8702 - macroRecall: 0.8691 - val_loss: 0.2098 - val_macroPrec: 0.8036 - val_macroF1: 0.7931 - val_macroRecall: 0.7875\n",
      "Epoch 3/200\n",
      "500000/500000 [==============================] - 802s 2ms/step - loss: 0.1229 - macroPrec: 0.8858 - macroF1: 0.8802 - macroRecall: 0.8774 - val_loss: 0.2080 - val_macroPrec: 0.8070 - val_macroF1: 0.7939 - val_macroRecall: 0.7857\n",
      "Epoch 4/200\n",
      "500000/500000 [==============================] - 808s 2ms/step - loss: 0.1193 - macroPrec: 0.8892 - macroF1: 0.8830 - macroRecall: 0.8802 - val_loss: 0.2062 - val_macroPrec: 0.8026 - val_macroF1: 0.7954 - val_macroRecall: 0.7926\n",
      "Epoch 5/200\n",
      "500000/500000 [==============================] - 716s 1ms/step - loss: 0.1161 - macroPrec: 0.8919 - macroF1: 0.8857 - macroRecall: 0.8823 - val_loss: 0.2083 - val_macroPrec: 0.8058 - val_macroF1: 0.7926 - val_macroRecall: 0.7847\n",
      "Epoch 6/200\n",
      "500000/500000 [==============================] - 692s 1ms/step - loss: 0.1152 - macroPrec: 0.8925 - macroF1: 0.8861 - macroRecall: 0.8823 - val_loss: 0.2062 - val_macroPrec: 0.7981 - val_macroF1: 0.7951 - val_macroRecall: 0.7970\n",
      "Epoch 7/200\n",
      "500000/500000 [==============================] - 666s 1ms/step - loss: 0.1143 - macroPrec: 0.8935 - macroF1: 0.8867 - macroRecall: 0.8826 - val_loss: 0.2066 - val_macroPrec: 0.8026 - val_macroF1: 0.7939 - val_macroRecall: 0.7900\n",
      "Epoch 8/200\n",
      "500000/500000 [==============================] - 713s 1ms/step - loss: 0.1130 - macroPrec: 0.8948 - macroF1: 0.8884 - macroRecall: 0.8844 - val_loss: 0.2054 - val_macroPrec: 0.8047 - val_macroF1: 0.7960 - val_macroRecall: 0.7925\n",
      "Epoch 9/200\n",
      "500000/500000 [==============================] - 723s 1ms/step - loss: 0.1126 - macroPrec: 0.8947 - macroF1: 0.8886 - macroRecall: 0.8854 - val_loss: 0.2062 - val_macroPrec: 0.8104 - val_macroF1: 0.7950 - val_macroRecall: 0.7848\n",
      "Epoch 10/200\n",
      "500000/500000 [==============================] - 724s 1ms/step - loss: 0.1123 - macroPrec: 0.8967 - macroF1: 0.8887 - macroRecall: 0.8834 - val_loss: 0.2058 - val_macroPrec: 0.8090 - val_macroF1: 0.7957 - val_macroRecall: 0.7873\n",
      "Epoch 11/200\n",
      "500000/500000 [==============================] - 738s 1ms/step - loss: 0.1112 - macroPrec: 0.8966 - macroF1: 0.8898 - macroRecall: 0.8856 - val_loss: 0.2055 - val_macroPrec: 0.8073 - val_macroF1: 0.7955 - val_macroRecall: 0.7882\n",
      "Epoch 12/200\n",
      "500000/500000 [==============================] - 705s 1ms/step - loss: 0.1101 - macroPrec: 0.8983 - macroF1: 0.8909 - macroRecall: 0.8861 - val_loss: 0.2043 - val_macroPrec: 0.8032 - val_macroF1: 0.7965 - val_macroRecall: 0.7941\n",
      "Epoch 13/200\n",
      "500000/500000 [==============================] - 713s 1ms/step - loss: 0.1103 - macroPrec: 0.8966 - macroF1: 0.8905 - macroRecall: 0.8866 - val_loss: 0.2050 - val_macroPrec: 0.8060 - val_macroF1: 0.7962 - val_macroRecall: 0.7906\n",
      "Epoch 14/200\n",
      "500000/500000 [==============================] - 706s 1ms/step - loss: 0.1111 - macroPrec: 0.8976 - macroF1: 0.8900 - macroRecall: 0.8852 - val_loss: 0.2041 - val_macroPrec: 0.8027 - val_macroF1: 0.7971 - val_macroRecall: 0.7957\n",
      "Epoch 15/200\n",
      "500000/500000 [==============================] - 713s 1ms/step - loss: 0.1108 - macroPrec: 0.8971 - macroF1: 0.8902 - macroRecall: 0.8857 - val_loss: 0.2051 - val_macroPrec: 0.8054 - val_macroF1: 0.7960 - val_macroRecall: 0.7913\n",
      "Epoch 16/200\n",
      "500000/500000 [==============================] - 671s 1ms/step - loss: 0.1098 - macroPrec: 0.8984 - macroF1: 0.8913 - macroRecall: 0.8866 - val_loss: 0.2056 - val_macroPrec: 0.8077 - val_macroF1: 0.7953 - val_macroRecall: 0.7880\n",
      "Epoch 17/200\n",
      "500000/500000 [==============================] - 657s 1ms/step - loss: 0.1098 - macroPrec: 0.8980 - macroF1: 0.8913 - macroRecall: 0.8871 - val_loss: 0.2061 - val_macroPrec: 0.8073 - val_macroF1: 0.7947 - val_macroRecall: 0.7870\n",
      "Epoch 18/200\n",
      "500000/500000 [==============================] - 651s 1ms/step - loss: 0.1101 - macroPrec: 0.8984 - macroF1: 0.8909 - macroRecall: 0.8859 - val_loss: 0.2054 - val_macroPrec: 0.8081 - val_macroF1: 0.7955 - val_macroRecall: 0.7877\n"
     ]
    }
   ],
   "source": [
    "model1.fit()"
   ]
  },
  {
   "cell_type": "code",
   "execution_count": 30,
   "metadata": {},
   "outputs": [
    {
     "data": {
      "image/png": "[encoded data removed]",
      "text/plain": [
       "<matplotlib.figure.Figure at 0x1b8b78d6cf8>"
      ]
     },
     "metadata": {},
     "output_type": "display_data"
    }
   ],
   "source": [
    "model1.plot()"
   ]
  },
  {
   "cell_type": "code",
   "execution_count": 22,
   "metadata": {},
   "outputs": [
    {
     "data": {
      "text/plain": [
       "False"
      ]
     },
     "execution_count": 22,
     "metadata": {},
     "output_type": "execute_result"
    }
   ],
   "source": [
    "model1.model.layers[0].get_config()['trainable']"
   ]
  },
  {
   "cell_type": "code",
   "execution_count": null,
   "metadata": {},
   "outputs": [],
   "source": []
  }
 ],
 "metadata": {
  "kernelspec": {
   "display_name": "Python 3",
   "language": "python",
   "name": "python3"
  },
  "language_info": {
   "codemirror_mode": {
    "name": "ipython",
    "version": 3
   },
   "file_extension": ".py",
   "mimetype": "text/x-python",
   "name": "python",
   "nbconvert_exporter": "python",
   "pygments_lexer": "ipython3",
   "version": "3.6.7"
  }
 },
 "nbformat": 4,
 "nbformat_minor": 2
}
