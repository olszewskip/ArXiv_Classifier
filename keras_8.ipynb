{
 "cells": [
  {
   "cell_type": "code",
   "execution_count": 10,
   "metadata": {},
   "outputs": [],
   "source": [
    "import os\n",
    "import pandas as pd\n",
    "import numpy as np\n",
    "import pickle\n",
    "import json\n",
    "from itertools import product\n",
    "\n",
    "from keras.models import Sequential, load_model\n",
    "from keras.layers import *\n",
    "\n",
    "from keras.callbacks import ReduceLROnPlateau, EarlyStopping, Callback\n",
    "\n",
    "import matplotlib.pyplot as plt\n",
    "plt.style.use('seaborn')"
   ]
  },
  {
   "cell_type": "markdown",
   "metadata": {},
   "source": [
    "# Summary\n",
    "I'm fitting the keras' embedding layer for a few epochs within the possibly simplest imaginable setup, namely with global averaging and softmax on top. This fairly inexpensive but broad examination serves to produce reasonable starting embeddings for more complicated net architectures and to compare various loss-functions/batch-sizes/optimizers. The choice of loss function is a somewhat non-trivial matter due to the class imbalance of our dataset and the stated objective of maximazing the macroF1 score.\n",
    "\n",
    "* Results land in the directory defined in the *working_dir* variable below.\n",
    "* Weights are stores as *blabla_weights.p* and they may be directly depickled into the *weights* argument of the Embedding layer (see the *Embedding* within *init* of the *BlackBox* class). \n",
    "* There are nice plots below.\n",
    "\n",
    "We manage to establish an interesting benchmark for our dataset: the simple setup described above is almost enough to reproduce the perfomarmance of shallow classifiers, *macroF1*=80%. For other net architectures to carry their weight, they'll have to go beyond that."
   ]
  },
  {
   "cell_type": "markdown",
   "metadata": {},
   "source": [
    "---"
   ]
  },
  {
   "cell_type": "markdown",
   "metadata": {},
   "source": [
    "### Load the data in\n",
    "The test data is not used"
   ]
  },
  {
   "cell_type": "code",
   "execution_count": 11,
   "metadata": {},
   "outputs": [
    {
     "data": {
      "text/plain": [
       "{'unique_words': 277303,\n",
       " 'num_words': 277304,\n",
       " 'padded_length': 679,\n",
       " 'n_classes': 6,\n",
       " 'class_weights': array([ 1.26825655,  0.72736371,  0.27602776, 13.23801959, 30.29201502,\n",
       "         9.49559404])}"
      ]
     },
     "execution_count": 11,
     "metadata": {},
     "output_type": "execute_result"
    }
   ],
   "source": [
    "global_params = pickle.load(open(\"global_params.p\", \"rb\"))\n",
    "unique_words = global_params['unique_words']\n",
    "num_words = global_params['num_words']\n",
    "padded_length = global_params['padded_length']\n",
    "n_classes = global_params['n_classes']\n",
    "class_weights = global_params['class_weights']\n",
    "\n",
    "global_params"
   ]
  },
  {
   "cell_type": "code",
   "execution_count": 12,
   "metadata": {},
   "outputs": [],
   "source": [
    "n_sample = 30_000"
   ]
  },
  {
   "cell_type": "code",
   "execution_count": 13,
   "metadata": {},
   "outputs": [],
   "source": [
    "X_train = np.load(os.path.join(\"data\", \"Kdata\", \"X_train.npy\"))[-n_sample:]\n",
    "y_train = np.load(os.path.join(\"data\", \"Kdata\", \"y_train.npy\"))[-n_sample:]\n",
    "X_val = np.load(os.path.join(\"data\", \"Kdata\", \"X_val.npy\"))[-n_sample:]\n",
    "y_val = np.load(os.path.join(\"data\", \"Kdata\", \"y_val.npy\"))[-n_sample:]"
   ]
  },
  {
   "cell_type": "markdown",
   "metadata": {},
   "source": [
    "---"
   ]
  },
  {
   "cell_type": "markdown",
   "metadata": {},
   "source": [
    "### Some custom definitions\n",
    "* metrics\n",
    "* loss functions\n",
    "* choice of learning parameters and settings"
   ]
  },
  {
   "cell_type": "code",
   "execution_count": 14,
   "metadata": {},
   "outputs": [],
   "source": [
    "from keras import backend as K\n",
    "\n",
    "# Custom metrics.\n",
    "# Note that any metric is computed per batch during training\n",
    "# (hence one needs large batches for it to make sense).\n",
    "# Also, there is the implicit 0.5 treshold in the K.round function below\n",
    "\n",
    "def macroPrec(y_true, y_pred):\n",
    "    \n",
    "    true_positives = K.sum(K.round(K.clip(y_true * y_pred, 0, 1)), axis=0)\n",
    "    positives = K.sum(K.round(y_pred), axis=0)\n",
    "    precision = true_positives / (positives + K.epsilon())\n",
    "\n",
    "    macroPrec = K.mean( precision )\n",
    "    \n",
    "    return macroPrec\n",
    "\n",
    "\n",
    "def macroRecall(y_true, y_pred):\n",
    "    \n",
    "    true_positives = K.sum(K.round(K.clip(y_true * y_pred, 0, 1)), axis=0)\n",
    "    actual_ones = K.sum(K.round(K.clip(y_true, 0, 1)), axis=0)\n",
    "    recall = true_positives / (actual_ones + K.epsilon())\n",
    "\n",
    "    macroRecall = K.mean( recall )\n",
    "    \n",
    "    return macroRecall\n",
    "\n",
    "\n",
    "def macroF1(y_true, y_pred):\n",
    "\n",
    "    true_positives = K.sum(K.round(K.clip(y_true * y_pred, 0, 1)), axis=0)\n",
    "    \n",
    "    actual_ones = K.sum(K.round(K.clip(y_true, 0, 1)), axis=0)\n",
    "    recall = true_positives / (actual_ones + K.epsilon())\n",
    "\n",
    "    positives = K.sum(K.round(K.clip(y_pred, 0, 1)), axis=0)\n",
    "    precision = true_positives / (positives + K.epsilon())\n",
    "    \n",
    "    macroF1 = 2 * K.mean( precision*recall / (precision + recall + K.epsilon()) )\n",
    "    \n",
    "    return macroF1\n",
    "\n",
    "\n",
    "\n",
    "# Custom loss functions\n",
    "# No clippping or rounding as those are not differentiable\n",
    "# Note to self: these functions are already taking into account class imbalances, so remeber\n",
    "# not to set the class_weight argument in fitting method when using them as the loss \n",
    "\n",
    "# semi macroF1\n",
    "def fuzzy_macroF1_flip(y_true, y_pred):\n",
    "\n",
    "    true_positives = K.sum(y_true * y_pred, axis=0)\n",
    "    \n",
    "    actual_ones = K.sum(y_true, axis=0)\n",
    "    recall = true_positives / (actual_ones + K.epsilon())\n",
    "\n",
    "    positives = K.sum(y_pred, axis=0)\n",
    "    precision = true_positives / (positives + K.epsilon())\n",
    "    \n",
    "    macroF1 = 2 * K.mean( precision*recall / (precision + recall + K.epsilon()) ) \n",
    "    \n",
    "    return 1-macroF1\n",
    "\n",
    "\n",
    "# weighted categorical crossentropy\n",
    "def my_crossE(y_true, y_pred):\n",
    "    \n",
    "    class_entropy = K.sum(y_true * K.log(y_pred+K.epsilon()), axis=0)\n",
    "    weighted_entropy = K.mean(class_weights * class_entropy)\n",
    "    return -4E-4 * weighted_entropy  # arbitrary coefficient to make it close to [0-1] interval\n",
    "\n",
    "\n",
    "# take average of the last two, because why not\n",
    "def my_loss(y_true, y_pred):\n",
    "    # return 0.5*(fuzzy_macroF1_flip(y_true, y_pred) + my_crossE(y_true, y_pred))\n",
    "    \n",
    "    true_positives = K.sum(y_true * y_pred, axis=0)\n",
    "    \n",
    "    actual_ones = K.sum(y_true, axis=0)\n",
    "    recall = true_positives / (actual_ones + K.epsilon())\n",
    "\n",
    "    positives = K.sum(y_pred, axis=0)\n",
    "    precision = true_positives / (positives + K.epsilon())\n",
    "    \n",
    "    macroF1p2 = K.mean( precision*recall / (precision + recall + K.epsilon()) )\n",
    "    \n",
    "    class_entropy = K.sum(y_true * K.log(y_pred+K.epsilon()), axis=0)\n",
    "    weighted_entropy = K.mean(class_weights * class_entropy)\n",
    "    \n",
    "    return 0.5 - macroF1p2 - 2E-4 * weighted_entropy"
   ]
  },
  {
   "cell_type": "code",
   "execution_count": 15,
   "metadata": {},
   "outputs": [],
   "source": [
    "my_metrics = [macroPrec, macroF1, macroRecall] #, my_crossE, fuzzy_macroF1_flip, my_loss]\n",
    "\n",
    "custom_objects={'macroPrec': macroPrec,\\\n",
    "                'macroF1': macroF1,\\\n",
    "                'macroRecall': macroRecall,\\\n",
    "                'my_crossE': my_crossE,\\\n",
    "                'fuzzy_macroF1_flip': fuzzy_macroF1_flip,\\\n",
    "                'my_loss': my_loss\n",
    "               }"
   ]
  },
  {
   "cell_type": "code",
   "execution_count": 16,
   "metadata": {},
   "outputs": [],
   "source": [
    "# auxiliary function\n",
    "# to plot the learning history,\n",
    "# i.e. loss and metrics on each train_batch and validation_batch\n",
    "def plot_history(history, with_lr=False):\n",
    "    \n",
    "    n_plots = 3 if with_lr else 2\n",
    "    plt.figure(figsize=(6*n_plots, 5))\n",
    "    \n",
    "    loss = history['loss']\n",
    "    val_loss = history['val_loss']\n",
    "    x = range(1, len(loss) + 1)\n",
    "    \n",
    "    plt.subplot(1, n_plots, 1)    \n",
    "    plt.plot(x, loss, 'ob', label='Training loss')\n",
    "    plt.plot(x, val_loss, '-b', label='Validation loss')\n",
    "    plt.title('Training and val losses') \n",
    "    plt.legend()\n",
    "    \n",
    "    all_metrics = np.array(list(set(history.keys()) - set(['loss', 'val_loss', 'lr'])))\n",
    "    metrics = all_metrics[[not metric.startswith('val_') for metric in all_metrics]]\n",
    "    plt.subplot(1, n_plots, 2)\n",
    "    markers = ['b', 'r',  'g', 'y', 'm', 'c', 'k']\n",
    "    marker = zip(markers, markers)\n",
    "    for metric in metrics:\n",
    "        results = history[metric]\n",
    "        val_results = history['val_'+metric]\n",
    "        mark1, mark2 = next(marker)\n",
    "        plt.plot(x, results, 'o'+mark1, label=metric)\n",
    "        plt.plot(x, val_results, '-'+mark2, label='Validation '+metric)\n",
    "        plt.title('Training and val metrics')\n",
    "    plt.legend()\n",
    "    \n",
    "    if with_lr:\n",
    "        plt.subplot(1, 3, 3)\n",
    "        lr = history['lr'] # learning rate\n",
    "        plt.plot(x, lr, 'k', label='Learning rate')\n",
    "        plt.title('Learning rate')  \n",
    "        plt.legend()\n",
    "    "
   ]
  },
  {
   "cell_type": "markdown",
   "metadata": {},
   "source": [
    "---"
   ]
  },
  {
   "cell_type": "markdown",
   "metadata": {},
   "source": [
    "### Define a wrapper class for creating the classification model with embedding, fitting, etc.\n",
    "It creates an useful object using a list of intermediate layers as the main argument.\n",
    "Makes it easier to consistently use the chosen metrics, loss function, class_weights, embedding etc."
   ]
  },
  {
   "cell_type": "code",
   "execution_count": 17,
   "metadata": {},
   "outputs": [
    {
     "name": "stderr",
     "output_type": "stream",
     "text": [
      "A subdirectory or file simple_tests_3 already exists.\n"
     ]
    }
   ],
   "source": [
    "working_dir = \"simple_tests_3\"\n",
    "! mkdir simple_tests_3"
   ]
  },
  {
   "cell_type": "code",
   "execution_count": 18,
   "metadata": {},
   "outputs": [],
   "source": [
    "# the workhorse\n",
    "class BlackBox():\n",
    "    \n",
    "    def __init__(self, layers, loss, batch_size, optimizer, epochs,\\\n",
    "                 metrics=my_metrics,\\\n",
    "                 verbose=0,\\\n",
    "                 callbacks=None,\\\n",
    "                 embedd = None, embedd_dims=[None]*3, train_weights=True,\\\n",
    "                 mask_zeros=True\n",
    "                ):\n",
    "        \n",
    "        self.layers = layers\n",
    "        self.loss = loss\n",
    "        self.loss_name = self.loss.__name__ if self.loss != 'categorical_crossentropy' else 'cat-cross'\n",
    "        self.batch_size = batch_size\n",
    "        self.epochs = epochs\n",
    "        self.optimizer = optimizer\n",
    "        self.metrics = metrics\n",
    "        self.verbose = verbose\n",
    "        self.callbacks = callbacks\n",
    "        if loss == 'categorical_crossentropy':\n",
    "            self.class_weight = class_weights\n",
    "        else:\n",
    "            self.class_weight = None\n",
    "        self.train_weigts = train_weights\n",
    "        self.mask_zeros = mask_zeros\n",
    "        \n",
    "        self.history = None\n",
    "        self.test_results = None\n",
    "        self.val_score = None\n",
    "                \n",
    "        self.model = Sequential()\n",
    "        if embedd:\n",
    "            self.input_dim = embedd_dims[0] # num_words\n",
    "            self.output_dim = embedd_dims[1] # dimension of the embedding space\n",
    "            self.input_length = embedd_dims[2] # padded_length\n",
    "            with open(embedd, \"rb\") as f:\n",
    "                self.embedd_weights = pickle.load(f)\n",
    "            \n",
    "            self.model.add(Embedding(input_dim=self.input_dim,\\\n",
    "                                     output_dim=self.output_dim,\\\n",
    "                                     input_length=self.input_length,\\\n",
    "                                     weights=self.embedd_weights,\\\n",
    "                                     trainable=self.train_weigts,\\\n",
    "                                     mask_zero=self.mask_zeros))\n",
    "            self.model.layers[0].trainable = self.train_weigts  # szczeżonego panbug szczeże\n",
    "            \n",
    "        for layer in layers:\n",
    "            self.model.add(layer)\n",
    "            \n",
    "        self.model.add(Dense(n_classes, activation='softmax'))\n",
    "        self.model.compile(loss=self.loss, optimizer=self.optimizer, metrics=self.metrics)\n",
    "        \n",
    "        self.name = f\"{self.loss_name}_batch{self.batch_size}_{self.optimizer}\"\n",
    "        self.describe = f\"loss={self.loss_name}, batch_size={self.batch_size}, optimizer={self.optimizer}, explicit-class-weights: {type(self.class_weight)==np.ndarray}, embedd-trainable: {self.model.layers[0].trainable}\"\n",
    "\n",
    "    \n",
    "    def summary(self):\n",
    "        print(self.describe)\n",
    "        return self.model.summary()\n",
    "    \n",
    "    def fit(self):\n",
    "        print(self.describe)\n",
    "              \n",
    "        self.history = self.model.fit(\n",
    "            X_train, y_train,\n",
    "            class_weight=self.class_weight,\n",
    "            epochs=self.epochs,\n",
    "            batch_size=self.batch_size,\n",
    "            #validation_split=0.1,\n",
    "            validation_data=(X_val, y_val),\n",
    "            callbacks=self.callbacks,\n",
    "            verbose = self.verbose        \n",
    "            ).history\n",
    "        self.val_score = self.history['val_macroF1'][-1]\n",
    "        print(f\"Last val_macroF1: {self.val_score}\")\n",
    "\n",
    "        \n",
    "    def evaluate(self, X_test, y_test):\n",
    "        \n",
    "        print(f'Loss function: {self.loss_name}. Metrics: {[metric.__name__ if callable(metric) else metric for metric in self.metrics]}')\n",
    "        print(\"Predicting for X_test, comparing with y_test\")\n",
    "        return self.model.evaluate(X_test, y_test)\n",
    "    \n",
    "    def plot(self, with_lr=False, from_file=False):\n",
    "        print(self.describe)\n",
    "        try:\n",
    "            if not from_file:\n",
    "                plot_history(self.history, with_lr=with_lr)\n",
    "            else:\n",
    "                hist = json.load(open(os.path.join(working_dir, f\"{self.name}_history.p\"), \"r\"))\n",
    "                plot_history(hist, with_lr=with_lr)\n",
    "        except:\n",
    "            print(\"nope!\")\n",
    "        \n",
    "    def save_embedd(self):\n",
    "        file = os.path.join(working_dir, f\"{self.name}_weights.p\")\n",
    "        with open(file, 'wb') as f:\n",
    "            pickle.dump(self.model.layers[0].get_weights(), f)\n",
    "        \n",
    "    def Ksave(self):\n",
    "        file = os.path.join(working_dir, f\"{self.name}_Kmodel.h5\")\n",
    "        self.model.save(file)\n",
    "        \n",
    "    def discard(self):\n",
    "        self.model = None\n",
    "    \n",
    "    def save_hist(self):\n",
    "        file = os.path.join(working_dir, f\"{self.name}_history.p\")\n",
    "        with open(file, 'w') as f:\n",
    "            json.dump(self.history, f)\n"
   ]
  },
  {
   "cell_type": "code",
   "execution_count": 19,
   "metadata": {},
   "outputs": [],
   "source": [
    "# choose callbacks to be given in model.fit(...)\n",
    "\n",
    "\n",
    "# If the embedding layer is given to BlackBox from a file\n",
    "# and it is set to not be trainable,\n",
    "# it may yet be unfrozen by a callback piggybacking on the ReducLROnPlateau callback\n",
    "\n",
    "class WakeEmbedding(Callback):\n",
    "    \n",
    "    def __init__(self, rel_lr_treshold):\n",
    "        self.rel_lr_treshold = rel_lr_treshold\n",
    "    \n",
    "    def on_train_begin(self, logs={}):\n",
    "        self.init_lr =  K.eval(self.model.optimizer.lr)\n",
    "        \n",
    "    def on_epoch_begin(self, epoch, logs={}):\n",
    "        lr =  K.eval(self.model.optimizer.lr)\n",
    "        if (lr / self.init_lr) <= self.rel_lr_treshold:\n",
    "            self.model.layers[0].trainable = True\n",
    "        print(\"embedd-trainable:\", self.model.layers[0].trainable)\n",
    "\n",
    "        \n",
    "# the early-stopping is monitoring the batchwise-macroF1 (which is risky)\n",
    "\n",
    "def callbacks(plateau_factor=0.1, plateau_patience=1,\\\n",
    "              early_s_patience = 2,\\\n",
    "              wake_embedd=False, wake_treshold = 0.1\n",
    "             ):\n",
    "    \n",
    "    callbacks = [ReduceLROnPlateau(factor=plateau_factor,\\\n",
    "                                   monitor='val_macroF1', mode='max', patience = plateau_patience),\n",
    "                EarlyStopping(monitor='val_macroF1', mode='max', patience=early_s_patience)\n",
    "               ]\n",
    "    \n",
    "    return callbacks + [WakeEmbedding(wake_treshold)] if wake_embedd else callbacks\n"
   ]
  },
  {
   "cell_type": "markdown",
   "metadata": {},
   "source": [
    "---"
   ]
  },
  {
   "cell_type": "code",
   "execution_count": 24,
   "metadata": {},
   "outputs": [],
   "source": [
    "epochs = 5\n",
    "loss = my_loss\n",
    "batch_size = 300\n",
    "optimizer = 'nadam'"
   ]
  },
  {
   "cell_type": "code",
   "execution_count": null,
   "metadata": {},
   "outputs": [],
   "source": [
    "embedd_file = os.path.join(\"simple_tests\", \"fuzzy_macroF1_flip_batch300_nadam_weights.p\")"
   ]
  },
  {
   "cell_type": "markdown",
   "metadata": {},
   "source": [
    "---"
   ]
  },
  {
   "cell_type": "code",
   "execution_count": 25,
   "metadata": {},
   "outputs": [],
   "source": [
    "layers = [Dropout(0.5), \n",
    "          Conv1D(20, 4),\n",
    "          Conv1D(20, 4),\n",
    "          Flatten()\n",
    "         ]"
   ]
  },
  {
   "cell_type": "code",
   "execution_count": 29,
   "metadata": {},
   "outputs": [
    {
     "name": "stdout",
     "output_type": "stream",
     "text": [
      "loss=my_loss, batch_size=300, optimizer=nadam, explicit-class-weights: False, embedd-trainable: True\n",
      "Train on 30000 samples, validate on 30000 samples\n",
      "Epoch 1/5\n",
      "30000/30000 [==============================] - 128s 4ms/step - loss: 0.1276 - macroPrec: 0.7891 - macroF1: 0.7699 - macroRecall: 0.7776 - val_loss: 0.1619 - val_macroPrec: 0.7372 - val_macroF1: 0.7296 - val_macroRecall: 0.7558\n",
      "Epoch 2/5\n",
      "30000/30000 [==============================] - 127s 4ms/step - loss: 0.0692 - macroPrec: 0.8785 - macroF1: 0.8784 - macroRecall: 0.8934 - val_loss: 0.1565 - val_macroPrec: 0.7412 - val_macroF1: 0.7403 - val_macroRecall: 0.7712\n",
      "Epoch 3/5\n",
      "30000/30000 [==============================] - 128s 4ms/step - loss: 0.0666 - macroPrec: 0.8899 - macroF1: 0.8847 - macroRecall: 0.8981 - val_loss: 0.1734 - val_macroPrec: 0.7478 - val_macroF1: 0.7220 - val_macroRecall: 0.7285\n",
      "Epoch 4/5\n",
      "30000/30000 [==============================] - 124s 4ms/step - loss: 0.0781 - macroPrec: 0.8591 - macroF1: 0.8610 - macroRecall: 0.8879 - val_loss: 0.1886 - val_macroPrec: 0.7064 - val_macroF1: 0.6980 - val_macroRecall: 0.7214\n",
      "Epoch 5/5\n",
      "30000/30000 [==============================] - 120s 4ms/step - loss: 0.0982 - macroPrec: 0.8189 - macroF1: 0.8263 - macroRecall: 0.8749 - val_loss: 0.1722 - val_macroPrec: 0.7241 - val_macroF1: 0.7209 - val_macroRecall: 0.7489\n",
      "Last val_macroF1: 0.720930219590664\n"
     ]
    }
   ],
   "source": [
    "model = BlackBox(layers=layers, loss=loss, batch_size=batch_size, optimizer=optimizer, epochs=epochs,\\\n",
    "                 verbose=1,\\\n",
    "                 callbacks=None,\\\n",
    "                 embedd=embedd_file, embedd_dims=[num_words, 50, padded_length], train_weights=True,\\\n",
    "                 mask_zeros=False)\n",
    "model.fit()"
   ]
  },
  {
   "cell_type": "code",
   "execution_count": 30,
   "metadata": {},
   "outputs": [],
   "source": [
    "model.Ksave()\n",
    "model.save_hist()"
   ]
  },
  {
   "cell_type": "code",
   "execution_count": 31,
   "metadata": {},
   "outputs": [
    {
     "name": "stdout",
     "output_type": "stream",
     "text": [
      "loss=my_loss, batch_size=300, optimizer=nadam, explicit-class-weights: False, embedd-trainable: True\n"
     ]
    },
    {
     "data": {
      "image/png": "[encoded data removed]",
      "text/plain": [
       "<matplotlib.figure.Figure at 0x15ba1f50fd0>"
      ]
     },
     "metadata": {},
     "output_type": "display_data"
    }
   ],
   "source": [
    "model.plot()"
   ]
  },
  {
   "cell_type": "markdown",
   "metadata": {},
   "source": [
    "---"
   ]
  },
  {
   "cell_type": "code",
   "execution_count": null,
   "metadata": {},
   "outputs": [],
   "source": [
    "layers = [Dropout(0.5), \n",
    "          SimpleRNN(100)\n",
    "         ]"
   ]
  },
  {
   "cell_type": "code",
   "execution_count": null,
   "metadata": {},
   "outputs": [],
   "source": [
    "model = BlackBox(layers=layers, loss=loss, batch_size=batch_size, optimizer=optimizer, epochs=epochs,\\\n",
    "                 verbose=1,\\\n",
    "                 callbacks=None,\\\n",
    "                 embedd=embedd_file, embedd_dims=[num_words, 50, padded_length], train_weights=True,\\\n",
    "                 mask_zeros=True)\n",
    "model.fit()\n",
    "model.Ksave()\n",
    "model.save_hist()"
   ]
  },
  {
   "cell_type": "code",
   "execution_count": null,
   "metadata": {},
   "outputs": [],
   "source": [
    "model.plot()"
   ]
  },
  {
   "cell_type": "markdown",
   "metadata": {},
   "source": [
    "---"
   ]
  },
  {
   "cell_type": "code",
   "execution_count": null,
   "metadata": {},
   "outputs": [],
   "source": [
    "layers = [Dropout(0.5), \n",
    "          LSTM(100)\n",
    "         ]"
   ]
  },
  {
   "cell_type": "code",
   "execution_count": null,
   "metadata": {},
   "outputs": [],
   "source": [
    "model = BlackBox(layers=layers, loss=loss, batch_size=batch_size, optimizer=optimizer, epochs=epochs,\\\n",
    "                 verbose=1,\\\n",
    "                 callbacks=None,\\\n",
    "                 embedd=embedd_file, embedd_dims=[num_words, 50, padded_length], train_weights=True,\\\n",
    "                 mask_zeros=True)\n",
    "model.fit()\n",
    "model.Ksave()\n",
    "model.save_hist()"
   ]
  },
  {
   "cell_type": "code",
   "execution_count": null,
   "metadata": {},
   "outputs": [],
   "source": [
    "model.plot()"
   ]
  },
  {
   "cell_type": "markdown",
   "metadata": {},
   "source": [
    "---"
   ]
  },
  {
   "cell_type": "markdown",
   "metadata": {},
   "source": [
    "\n",
    "### End"
   ]
  }
 ],
 "metadata": {
  "kernelspec": {
   "display_name": "Python 3",
   "language": "python",
   "name": "python3"
  },
  "language_info": {
   "codemirror_mode": {
    "name": "ipython",
    "version": 3
   },
   "file_extension": ".py",
   "mimetype": "text/x-python",
   "name": "python",
   "nbconvert_exporter": "python",
   "pygments_lexer": "ipython3",
   "version": "3.6.7"
  }
 },
 "nbformat": 4,
 "nbformat_minor": 2
}
