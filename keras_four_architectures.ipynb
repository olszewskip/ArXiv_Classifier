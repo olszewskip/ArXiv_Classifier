{
 "cells": [
  {
   "cell_type": "code",
   "execution_count": 1,
   "metadata": {},
   "outputs": [
    {
     "name": "stderr",
     "output_type": "stream",
     "text": [
      "Using TensorFlow backend.\n"
     ]
    }
   ],
   "source": [
    "import os\n",
    "import pandas as pd\n",
    "import numpy as np\n",
    "import pickle\n",
    "import json\n",
    "from itertools import product\n",
    "\n",
    "from keras.models import Sequential, load_model\n",
    "from keras.layers import *\n",
    "\n",
    "from keras.callbacks import ReduceLROnPlateau, EarlyStopping, Callback\n",
    "\n",
    "import matplotlib.pyplot as plt\n",
    "plt.style.use('seaborn')"
   ]
  },
  {
   "cell_type": "code",
   "execution_count": 2,
   "metadata": {},
   "outputs": [
    {
     "data": {
      "text/plain": [
       "{'unique_words': 277303,\n",
       " 'num_words': 277304,\n",
       " 'padded_length': 679,\n",
       " 'n_classes': 6,\n",
       " 'class_weights': array([ 1.26825655,  0.72736371,  0.27602776, 13.23801959, 30.29201502,\n",
       "         9.49559404])}"
      ]
     },
     "execution_count": 2,
     "metadata": {},
     "output_type": "execute_result"
    }
   ],
   "source": [
    "global_params = pickle.load(open(\"global_params.p\", \"rb\"))\n",
    "unique_words = global_params['unique_words']\n",
    "num_words = global_params['num_words']\n",
    "padded_length = global_params['padded_length']\n",
    "n_classes = global_params['n_classes']\n",
    "class_weights = global_params['class_weights']\n",
    "\n",
    "global_params"
   ]
  },
  {
   "cell_type": "code",
   "execution_count": 3,
   "metadata": {},
   "outputs": [],
   "source": [
    "n_sample = 200_000"
   ]
  },
  {
   "cell_type": "code",
   "execution_count": 5,
   "metadata": {},
   "outputs": [],
   "source": [
    "X_train = np.load(os.path.join(\"data\", \"Kdata\", \"X_train.npy\")) #[-n_sample:]\n",
    "y_train = np.load(os.path.join(\"data\", \"Kdata\", \"y_train.npy\")) #[-n_sample:]\n",
    "X_val = np.load(os.path.join(\"data\", \"Kdata\", \"X_val.npy\"))\n",
    "y_val = np.load(os.path.join(\"data\", \"Kdata\", \"y_val.npy\"))"
   ]
  },
  {
   "cell_type": "markdown",
   "metadata": {},
   "source": [
    "---"
   ]
  },
  {
   "cell_type": "markdown",
   "metadata": {},
   "source": [
    "## Start of boilerplate"
   ]
  },
  {
   "cell_type": "markdown",
   "metadata": {},
   "source": [
    "### Some custom definitions\n",
    "* metrics\n",
    "* loss functions\n",
    "* learning hyper-parameters and settings"
   ]
  },
  {
   "cell_type": "code",
   "execution_count": 6,
   "metadata": {},
   "outputs": [],
   "source": [
    "from keras import backend as K\n",
    "\n",
    "# Custom metrics.\n",
    "# Note that any metric is computed per batch during training\n",
    "# (hence one needs large batches for it to make sense).\n",
    "# Also, there is the implicit 0.5 treshold in the K.round function below\n",
    "\n",
    "def macroPrec(y_true, y_pred):\n",
    "    \n",
    "    true_positives = K.sum(K.round(K.clip(y_true * y_pred, 0, 1)), axis=0)\n",
    "    positives = K.sum(K.round(y_pred), axis=0)\n",
    "    precision = true_positives / (positives + K.epsilon())\n",
    "\n",
    "    macroPrec = K.mean( precision )\n",
    "    \n",
    "    return macroPrec\n",
    "\n",
    "\n",
    "def macroRecall(y_true, y_pred):\n",
    "    \n",
    "    true_positives = K.sum(K.round(K.clip(y_true * y_pred, 0, 1)), axis=0)\n",
    "    actual_ones = K.sum(K.round(K.clip(y_true, 0, 1)), axis=0)\n",
    "    recall = true_positives / (actual_ones + K.epsilon())\n",
    "\n",
    "    macroRecall = K.mean( recall )\n",
    "    \n",
    "    return macroRecall\n",
    "\n",
    "\n",
    "def macroF1(y_true, y_pred):\n",
    "\n",
    "    true_positives = K.sum(K.round(K.clip(y_true * y_pred, 0, 1)), axis=0)\n",
    "    \n",
    "    actual_ones = K.sum(K.round(K.clip(y_true, 0, 1)), axis=0)\n",
    "    recall = true_positives / (actual_ones + K.epsilon())\n",
    "\n",
    "    positives = K.sum(K.round(K.clip(y_pred, 0, 1)), axis=0)\n",
    "    precision = true_positives / (positives + K.epsilon())\n",
    "    \n",
    "    macroF1 = 2 * K.mean( precision*recall / (precision + recall + K.epsilon()) )\n",
    "    \n",
    "    return macroF1\n",
    "\n",
    "\n",
    "\n",
    "# Custom loss functions\n",
    "# No clippping or rounding as those are not differentiable\n",
    "# Note to self: these functions are already taking into account class imbalances, so remeber\n",
    "# not to set the class_weight argument in fitting method when using them as the loss \n",
    "\n",
    "# semi macroF1\n",
    "def fuzzy_macroF1_flip(y_true, y_pred):\n",
    "\n",
    "    true_positives = K.sum(y_true * y_pred, axis=0)\n",
    "    \n",
    "    actual_ones = K.sum(y_true, axis=0)\n",
    "    recall = true_positives / (actual_ones + K.epsilon())\n",
    "\n",
    "    positives = K.sum(y_pred, axis=0)\n",
    "    precision = true_positives / (positives + K.epsilon())\n",
    "    \n",
    "    macroF1 = 2 * K.mean( precision*recall / (precision + recall + K.epsilon()) ) \n",
    "    \n",
    "    return 1-macroF1\n",
    "\n",
    "\n",
    "# weighted categorical crossentropy\n",
    "def my_crossE(y_true, y_pred):\n",
    "    \n",
    "    class_entropy = K.sum(y_true * K.log(y_pred+K.epsilon()), axis=0)\n",
    "    weighted_entropy = K.mean(class_weights * class_entropy)\n",
    "    return -4E-4 * weighted_entropy  # arbitrary coefficient to make it close to [0-1] interval\n",
    "\n",
    "\n",
    "# take average of the last two, because why not\n",
    "def my_loss(y_true, y_pred):\n",
    "    # return 0.5*(fuzzy_macroF1_flip(y_true, y_pred) + my_crossE(y_true, y_pred))\n",
    "    \n",
    "    true_positives = K.sum(y_true * y_pred, axis=0)\n",
    "    \n",
    "    actual_ones = K.sum(y_true, axis=0)\n",
    "    recall = true_positives / (actual_ones + K.epsilon())\n",
    "\n",
    "    positives = K.sum(y_pred, axis=0)\n",
    "    precision = true_positives / (positives + K.epsilon())\n",
    "    \n",
    "    macroF1p2 = K.mean( precision*recall / (precision + recall + K.epsilon()) )\n",
    "    \n",
    "    class_entropy = K.sum(y_true * K.log(y_pred+K.epsilon()), axis=0)\n",
    "    weighted_entropy = K.mean(class_weights * class_entropy)\n",
    "    \n",
    "    return 0.5 - macroF1p2 - 2E-4 * weighted_entropy"
   ]
  },
  {
   "cell_type": "code",
   "execution_count": 7,
   "metadata": {},
   "outputs": [],
   "source": [
    "my_metrics = [macroPrec, macroF1, macroRecall] #, my_crossE, fuzzy_macroF1_flip, my_loss]\n",
    "\n",
    "custom_objects={'macroPrec': macroPrec,\\\n",
    "                'macroF1': macroF1,\\\n",
    "                'macroRecall': macroRecall,\\\n",
    "                'my_crossE': my_crossE,\\\n",
    "                'fuzzy_macroF1_flip': fuzzy_macroF1_flip,\\\n",
    "                'my_loss': my_loss\n",
    "               }"
   ]
  },
  {
   "cell_type": "code",
   "execution_count": 8,
   "metadata": {},
   "outputs": [],
   "source": [
    "# auxiliary function\n",
    "# to plot the learning history,\n",
    "# i.e. loss and metrics on each train_batch and validation_batch\n",
    "def plot_history(history, with_lr=False):\n",
    "    \n",
    "    n_plots = 3 if with_lr else 2\n",
    "    plt.figure(figsize=(6*n_plots, 5))\n",
    "    \n",
    "    loss = history['loss']\n",
    "    val_loss = history['val_loss']\n",
    "    x = range(1, len(loss) + 1)\n",
    "    \n",
    "    plt.subplot(1, n_plots, 1)    \n",
    "    plt.plot(x, loss, 'ob', label='Training loss')\n",
    "    plt.plot(x, val_loss, '-b', label='Validation loss')\n",
    "    plt.title('Training and val losses') \n",
    "    plt.legend()\n",
    "    \n",
    "    all_metrics = np.array(list(set(history.keys()) - set(['loss', 'val_loss', 'lr'])))\n",
    "    metrics = all_metrics[[not metric.startswith('val_') for metric in all_metrics]]\n",
    "    plt.subplot(1, n_plots, 2)\n",
    "    markers = ['b', 'r',  'g', 'y', 'm', 'c', 'k']\n",
    "    marker = zip(markers, markers)\n",
    "    for metric in metrics:\n",
    "        results = history[metric]\n",
    "        val_results = history['val_'+metric]\n",
    "        mark1, mark2 = next(marker)\n",
    "        plt.plot(x, results, 'o'+mark1, label=metric)\n",
    "        plt.plot(x, val_results, '-'+mark2, label='Validation '+metric)\n",
    "        plt.title('Training and val metrics')\n",
    "    plt.legend()\n",
    "    \n",
    "    if with_lr:\n",
    "        plt.subplot(1, 3, 3)\n",
    "        lr = history['lr'] # learning rate\n",
    "        plt.plot(x, lr, 'k', label='Learning rate')\n",
    "        plt.title('Learning rate')  \n",
    "        plt.legend()\n",
    "    "
   ]
  },
  {
   "cell_type": "code",
   "execution_count": 9,
   "metadata": {},
   "outputs": [
    {
     "name": "stdout",
     "output_type": "stream",
     "text": [
      "mkdir: cannot create directory ‘results_keras_9’: File exists\r\n"
     ]
    }
   ],
   "source": [
    "working_dir = \"results_keras_9\"\n",
    "! mkdir results_keras_9"
   ]
  },
  {
   "cell_type": "code",
   "execution_count": 10,
   "metadata": {},
   "outputs": [],
   "source": [
    "# the workhorse\n",
    "class BlackBox():\n",
    "    \n",
    "    def __init__(self, layers, loss, batch_size, optimizer, epochs,\\\n",
    "                 metrics=my_metrics,\\\n",
    "                 verbose=0,\\\n",
    "                 callbacks=None,\\\n",
    "                 embedd = None, embedd_dims=[None]*3, train_weights=True,\\\n",
    "                 mask_zeros=True\n",
    "                ):\n",
    "        \n",
    "        self.layers = layers\n",
    "        self.loss = loss\n",
    "        self.loss_name = self.loss.__name__ if self.loss != 'categorical_crossentropy' else 'cat-cross'\n",
    "        self.batch_size = batch_size\n",
    "        self.epochs = epochs\n",
    "        self.optimizer = optimizer\n",
    "        self.metrics = metrics\n",
    "        self.verbose = verbose\n",
    "        self.callbacks = callbacks\n",
    "        if loss == 'categorical_crossentropy':\n",
    "            self.class_weight = class_weights\n",
    "        else:\n",
    "            self.class_weight = None\n",
    "        self.train_weigts = train_weights\n",
    "        self.mask_zeros = mask_zeros\n",
    "        \n",
    "        self.history = None\n",
    "        self.test_results = None\n",
    "        self.val_score = None\n",
    "                \n",
    "        self.model = Sequential()\n",
    "        if embedd:\n",
    "            self.input_dim = embedd_dims[0] # num_words\n",
    "            self.output_dim = embedd_dims[1] # dimension of the embedding space\n",
    "            self.input_length = embedd_dims[2] # padded_length\n",
    "            with open(embedd, \"rb\") as f:\n",
    "                self.embedd_weights = pickle.load(f)\n",
    "            \n",
    "            self.model.add(Embedding(input_dim=self.input_dim,\\\n",
    "                                     output_dim=self.output_dim,\\\n",
    "                                     input_length=self.input_length,\\\n",
    "                                     weights=self.embedd_weights,\\\n",
    "                                     trainable=self.train_weigts,\\\n",
    "                                     mask_zero=self.mask_zeros))\n",
    "            self.model.layers[0].trainable = self.train_weigts  # szczeżonego panbug szczeże\n",
    "            \n",
    "        for layer in layers:\n",
    "            self.model.add(layer)\n",
    "            \n",
    "        self.model.add(Dense(n_classes, activation='softmax'))\n",
    "        self.model.compile(loss=self.loss, optimizer=self.optimizer, metrics=self.metrics)\n",
    "        \n",
    "        self.name = f\"{self.loss_name}_batch{self.batch_size}_{self.optimizer}\"\n",
    "        self.describe = f\"loss={self.loss_name}, batch_size={self.batch_size}, optimizer={self.optimizer}, explicit-class-weights: {type(self.class_weight)==np.ndarray}, embedd-trainable: {self.model.layers[0].trainable}\"\n",
    "\n",
    "    \n",
    "    def summary(self):\n",
    "        print(self.describe)\n",
    "        return self.model.summary()\n",
    "    \n",
    "    def fit(self):\n",
    "        print(self.describe)\n",
    "              \n",
    "        self.history = self.model.fit(\n",
    "            X_train, y_train,\n",
    "            class_weight=self.class_weight,\n",
    "            epochs=self.epochs,\n",
    "            batch_size=self.batch_size,\n",
    "            #validation_split=0.1,\n",
    "            validation_data=(X_val, y_val),\n",
    "            callbacks=self.callbacks,\n",
    "            verbose = self.verbose        \n",
    "            ).history\n",
    "        self.val_score = self.history['val_macroF1'][-1]\n",
    "        print(f\"Last val_macroF1: {self.val_score}\")\n",
    "\n",
    "        \n",
    "    def evaluate(self, X_test, y_test):\n",
    "        \n",
    "        print(f'Loss function: {self.loss_name}. Metrics: {[metric.__name__ if callable(metric) else metric for metric in self.metrics]}')\n",
    "        print(\"Predicting for X_test, comparing with y_test\")\n",
    "        return self.model.evaluate(X_test, y_test)\n",
    "    \n",
    "    def plot(self, with_lr=False, from_file=False):\n",
    "        print(self.describe)\n",
    "        try:\n",
    "            if not from_file:\n",
    "                plot_history(self.history, with_lr=with_lr)\n",
    "            else:\n",
    "                hist = json.load(open(os.path.join(working_dir, f\"{self.name}_history.p\"), \"r\"))\n",
    "                plot_history(hist, with_lr=with_lr)\n",
    "        except:\n",
    "            print(\"nope!\")\n",
    "        \n",
    "    def save_embedd(self):\n",
    "        file = os.path.join(working_dir, f\"{self.name}_weights.p\")\n",
    "        with open(file, 'wb') as f:\n",
    "            pickle.dump(self.model.layers[0].get_weights(), f)\n",
    "        \n",
    "    def Ksave(self):\n",
    "        file = os.path.join(working_dir, f\"{self.name}_Kmodel.h5\")\n",
    "        self.model.save(file)\n",
    "        \n",
    "    def discard(self):\n",
    "        self.model = None # this doesn't seem to free the memory...\n",
    "    \n",
    "    def save_hist(self):\n",
    "        file = os.path.join(working_dir, f\"{self.name}_history.p\")\n",
    "        with open(file, 'w') as f:\n",
    "            json.dump(self.history, f)\n"
   ]
  },
  {
   "cell_type": "code",
   "execution_count": 12,
   "metadata": {},
   "outputs": [],
   "source": [
    "# # choose callbacks to be given in model.fit(...)\n",
    "\n",
    "\n",
    "# # If the embedding layer is given to BlackBox from a file\n",
    "# # and it is set to not be trainable,\n",
    "# # it may yet be unfrozen at a fixed epoch or by piggybacking on the ReducLROnPlateau callback\n",
    "\n",
    "# class WakeEmbedding(Callback):\n",
    "    \n",
    "#     def __init__(self, alarm_epoch=10, rel_lr_treshold=0.9):\n",
    "#         self.alarm_epoch\n",
    "#         self.rel_lr_treshold = rel_lr_treshold\n",
    "    \n",
    "#     def on_train_begin(self, logs={}):\n",
    "#         self.init_lr =  K.eval(self.model.optimizer.lr)\n",
    "        \n",
    "#     def on_epoch_begin(self, epoch, logs={}):\n",
    "#         if self.alam_epoch and epoch >= self.alam_epoch:\n",
    "#             self.model.layers[0].trainable = True\n",
    "#         if self.rel_lr_treshold:\n",
    "#             lr =  K.eval(self.model.optimizer.lr)\n",
    "#             if (lr / self.init_lr) <= self.rel_lr_treshold:\n",
    "#                 self.model.layers[0].trainable = True\n",
    "#         print(\"embedd-trainable:\", self.model.layers[0].trainable)\n",
    "\n",
    "        \n",
    "# # the early-stopping is monitoring the batchwise-macroF1 (which is risky)\n",
    "\n",
    "# def callbacks(wake_embedd=False):\n",
    "    \n",
    "#     callbacks = [ReduceLROnPlateau(factor=0.8,\\\n",
    "#                                    monitor='val_macroF1', mode='max', patience = 1),\n",
    "#                 EarlyStopping(monitor='val_macroF1', mode='max', patience=3)\n",
    "#                ]\n",
    "    \n",
    "#     return callbacks + [WakeEmbedding()] if wake_embedd else callbacks\n"
   ]
  },
  {
   "cell_type": "code",
   "execution_count": 13,
   "metadata": {},
   "outputs": [],
   "source": [
    "epochs = 8\n",
    "loss = my_loss,\n",
    "batch_size = 800\n",
    "optimizer = 'nadam'"
   ]
  },
  {
   "cell_type": "code",
   "execution_count": 14,
   "metadata": {},
   "outputs": [],
   "source": [
    "embedd_file_catcross = os.path.join(\"keras_simpleGS_results\", \"cat-cross_batch800_nadam_weights.p\")\n",
    "embedd_file_myloss = os.path.join(\"keras_simpleGS_results\", \"my_loss_batch800_nadam_weights.p\")"
   ]
  },
  {
   "cell_type": "markdown",
   "metadata": {},
   "source": [
    "---"
   ]
  },
  {
   "cell_type": "markdown",
   "metadata": {},
   "source": [
    "## Dense layers\n",
    "Test a network with dense layers only"
   ]
  },
  {
   "cell_type": "code",
   "execution_count": 15,
   "metadata": {},
   "outputs": [],
   "source": [
    "layers_dense = [Dropout(0.1),\n",
    "                Dense(60, activation='relu'),\n",
    "                Dense(20, activation='relu'),\n",
    "                Dropout(0.1),\n",
    "                Dense(10, activation='relu'),\n",
    "                Dense(60, activation='relu'),\n",
    "                Dropout(0.1),\n",
    "                Flatten()\n",
    "               ]"
   ]
  },
  {
   "cell_type": "code",
   "execution_count": 16,
   "metadata": {},
   "outputs": [
    {
     "name": "stdout",
     "output_type": "stream",
     "text": [
      "loss=cat-cross, batch_size=800, optimizer=nadam, explicit-class-weights: True, embedd-trainable: True\n",
      "_________________________________________________________________\n",
      "Layer (type)                 Output Shape              Param #   \n",
      "=================================================================\n",
      "embedding_1 (Embedding)      (None, 679, 50)           13865200  \n",
      "_________________________________________________________________\n",
      "dropout_1 (Dropout)          (None, 679, 50)           0         \n",
      "_________________________________________________________________\n",
      "dense_1 (Dense)              (None, 679, 60)           3060      \n",
      "_________________________________________________________________\n",
      "dense_2 (Dense)              (None, 679, 20)           1220      \n",
      "_________________________________________________________________\n",
      "dropout_2 (Dropout)          (None, 679, 20)           0         \n",
      "_________________________________________________________________\n",
      "dense_3 (Dense)              (None, 679, 10)           210       \n",
      "_________________________________________________________________\n",
      "dense_4 (Dense)              (None, 679, 60)           660       \n",
      "_________________________________________________________________\n",
      "dropout_3 (Dropout)          (None, 679, 60)           0         \n",
      "_________________________________________________________________\n",
      "flatten_1 (Flatten)          (None, 40740)             0         \n",
      "_________________________________________________________________\n",
      "dense_5 (Dense)              (None, 6)                 244446    \n",
      "=================================================================\n",
      "Total params: 14,114,796\n",
      "Trainable params: 14,114,796\n",
      "Non-trainable params: 0\n",
      "_________________________________________________________________\n"
     ]
    }
   ],
   "source": [
    "model_1a = BlackBox(layers=layers_dense, loss='categorical_crossentropy',\\\n",
    "                    batch_size=batch_size, optimizer=optimizer, epochs=epochs,\\\n",
    "                    verbose=1,\\\n",
    "                    callbacks=None,\n",
    "                    embedd=embedd_file_catcross, embedd_dims=[num_words, 50, padded_length], train_weights=True,\\\n",
    "                    mask_zeros=False\n",
    "                   )\n",
    "\n",
    "model_1a.summary()"
   ]
  },
  {
   "cell_type": "code",
   "execution_count": 17,
   "metadata": {},
   "outputs": [
    {
     "name": "stdout",
     "output_type": "stream",
     "text": [
      "loss=cat-cross, batch_size=800, optimizer=nadam, explicit-class-weights: True, embedd-trainable: True\n",
      "Train on 500000 samples, validate on 200000 samples\n",
      "Epoch 1/8\n",
      "500000/500000 [==============================] - 1477s 3ms/step - loss: 0.1951 - macroPrec: 0.7862 - macroF1: 0.7220 - macroRecall: 0.6957 - val_loss: 0.2103 - val_macroPrec: 0.8202 - val_macroF1: 0.7752 - val_macroRecall: 0.7539\n",
      "Epoch 2/8\n",
      "500000/500000 [==============================] - 1455s 3ms/step - loss: 0.1320 - macroPrec: 0.8884 - macroF1: 0.8417 - macroRecall: 0.8179 - val_loss: 0.2163 - val_macroPrec: 0.8428 - val_macroF1: 0.7482 - val_macroRecall: 0.7052\n",
      "Epoch 3/8\n",
      "500000/500000 [==============================] - 1408s 3ms/step - loss: 0.1126 - macroPrec: 0.9127 - macroF1: 0.8750 - macroRecall: 0.8559 - val_loss: 0.2228 - val_macroPrec: 0.8115 - val_macroF1: 0.7776 - val_macroRecall: 0.7634\n",
      "Epoch 4/8\n",
      "500000/500000 [==============================] - 1368s 3ms/step - loss: 0.0952 - macroPrec: 0.9290 - macroF1: 0.9006 - macroRecall: 0.8863 - val_loss: 0.2450 - val_macroPrec: 0.8068 - val_macroF1: 0.7732 - val_macroRecall: 0.7597\n",
      "Epoch 5/8\n",
      "500000/500000 [==============================] - 1349s 3ms/step - loss: 0.0810 - macroPrec: 0.9394 - macroF1: 0.9187 - macroRecall: 0.9078 - val_loss: 0.2742 - val_macroPrec: 0.8033 - val_macroF1: 0.7633 - val_macroRecall: 0.7491\n",
      "Epoch 6/8\n",
      "500000/500000 [==============================] - 1551s 3ms/step - loss: 0.0701 - macroPrec: 0.9518 - macroF1: 0.9347 - macroRecall: 0.9253 - val_loss: 0.2980 - val_macroPrec: 0.7817 - val_macroF1: 0.7587 - val_macroRecall: 0.7552\n",
      "Epoch 7/8\n",
      "500000/500000 [==============================] - 1427s 3ms/step - loss: 0.0619 - macroPrec: 0.9543 - macroF1: 0.9407 - macroRecall: 0.9333 - val_loss: 0.3326 - val_macroPrec: 0.7945 - val_macroF1: 0.7577 - val_macroRecall: 0.7429\n",
      "Epoch 8/8\n",
      "500000/500000 [==============================] - 1382s 3ms/step - loss: 0.0556 - macroPrec: 0.9614 - macroF1: 0.9503 - macroRecall: 0.9448 - val_loss: 0.3658 - val_macroPrec: 0.7779 - val_macroF1: 0.7516 - val_macroRecall: 0.7450\n",
      "Last val_macroF1: 0.7516271181106567\n"
     ]
    }
   ],
   "source": [
    "model_1a.fit()"
   ]
  },
  {
   "cell_type": "code",
   "execution_count": 18,
   "metadata": {},
   "outputs": [],
   "source": [
    "model_1a.Ksave()\n",
    "model_1a.save_hist()"
   ]
  },
  {
   "cell_type": "code",
   "execution_count": 19,
   "metadata": {},
   "outputs": [
    {
     "name": "stdout",
     "output_type": "stream",
     "text": [
      "loss=cat-cross, batch_size=800, optimizer=nadam, explicit-class-weights: True, embedd-trainable: True\n"
     ]
    },
    {
     "data": {
      "image/png": "[encoded data removed]",
      "text/plain": [
       "<Figure size 864x360 with 2 Axes>"
      ]
     },
     "metadata": {
      "needs_background": "light"
     },
     "output_type": "display_data"
    }
   ],
   "source": [
    "model_1a.plot(from_file=True)"
   ]
  },
  {
   "cell_type": "markdown",
   "metadata": {},
   "source": [
    "The plots speak for themselves. The model does well at overfitting but that's about it. Let's check the custom loss function for comparison."
   ]
  },
  {
   "cell_type": "code",
   "execution_count": 23,
   "metadata": {},
   "outputs": [],
   "source": [
    "model_1b = BlackBox(layers=layers_dense, loss=my_loss,\\\n",
    "                    batch_size=batch_size, optimizer=optimizer, epochs=epochs,\\\n",
    "                    verbose=1,\\\n",
    "                    callbacks=None,\n",
    "                    embedd=embedd_file_myloss, embedd_dims=[num_words, 50, padded_length], train_weights=True,\\\n",
    "                    mask_zeros=False\n",
    "                   )"
   ]
  },
  {
   "cell_type": "code",
   "execution_count": 24,
   "metadata": {},
   "outputs": [
    {
     "name": "stdout",
     "output_type": "stream",
     "text": [
      "loss=my_loss, batch_size=800, optimizer=nadam, explicit-class-weights: False, embedd-trainable: True\n",
      "Train on 500000 samples, validate on 200000 samples\n",
      "Epoch 1/8\n",
      "500000/500000 [==============================] - 1509s 3ms/step - loss: 0.1026 - macroPrec: 0.8360 - macroF1: 0.8415 - macroRecall: 0.8690 - val_loss: 0.1563 - val_macroPrec: 0.7557 - val_macroF1: 0.7656 - val_macroRecall: 0.8211\n",
      "Epoch 2/8\n",
      "500000/500000 [==============================] - 1354s 3ms/step - loss: 0.0743 - macroPrec: 0.8776 - macroF1: 0.8872 - macroRecall: 0.9094 - val_loss: 0.1516 - val_macroPrec: 0.7790 - val_macroF1: 0.7810 - val_macroRecall: 0.8042\n",
      "Epoch 3/8\n",
      "500000/500000 [==============================] - 1314s 3ms/step - loss: 0.0629 - macroPrec: 0.8918 - macroF1: 0.9031 - macroRecall: 0.9248 - val_loss: 0.1570 - val_macroPrec: 0.7981 - val_macroF1: 0.7826 - val_macroRecall: 0.7862\n",
      "Epoch 4/8\n",
      "500000/500000 [==============================] - 1315s 3ms/step - loss: 0.0553 - macroPrec: 0.9042 - macroF1: 0.9150 - macroRecall: 0.9356 - val_loss: 0.1686 - val_macroPrec: 0.7921 - val_macroF1: 0.7728 - val_macroRecall: 0.7716\n",
      "Epoch 5/8\n",
      "500000/500000 [==============================] - 1313s 3ms/step - loss: 0.0490 - macroPrec: 0.9147 - macroF1: 0.9243 - macroRecall: 0.9422 - val_loss: 0.1660 - val_macroPrec: 0.7353 - val_macroF1: 0.7562 - val_macroRecall: 0.8126\n",
      "Epoch 6/8\n",
      "500000/500000 [==============================] - 1313s 3ms/step - loss: 0.0443 - macroPrec: 0.9224 - macroF1: 0.9322 - macroRecall: 0.9491 - val_loss: 0.1653 - val_macroPrec: 0.7823 - val_macroF1: 0.7763 - val_macroRecall: 0.7855\n",
      "Epoch 7/8\n",
      "500000/500000 [==============================] - 1312s 3ms/step - loss: 0.0416 - macroPrec: 0.9261 - macroF1: 0.9362 - macroRecall: 0.9535 - val_loss: 0.1685 - val_macroPrec: 0.7858 - val_macroF1: 0.7756 - val_macroRecall: 0.7828\n",
      "Epoch 8/8\n",
      "500000/500000 [==============================] - 1312s 3ms/step - loss: 0.0393 - macroPrec: 0.9298 - macroF1: 0.9394 - macroRecall: 0.9551 - val_loss: 0.1816 - val_macroPrec: 0.7927 - val_macroF1: 0.7671 - val_macroRecall: 0.7617\n",
      "Last val_macroF1: 0.7671088101863861\n"
     ]
    }
   ],
   "source": [
    "model_1b.fit()"
   ]
  },
  {
   "cell_type": "code",
   "execution_count": 26,
   "metadata": {},
   "outputs": [],
   "source": [
    "model_1b.Ksave()\n",
    "model_1b.save_hist()"
   ]
  },
  {
   "cell_type": "code",
   "execution_count": 28,
   "metadata": {},
   "outputs": [
    {
     "name": "stdout",
     "output_type": "stream",
     "text": [
      "loss=my_loss, batch_size=800, optimizer=nadam, explicit-class-weights: False, embedd-trainable: True\n"
     ]
    },
    {
     "data": {
      "image/png": "[encoded data removed]",
      "text/plain": [
       "<Figure size 864x360 with 2 Axes>"
      ]
     },
     "metadata": {
      "needs_background": "light"
     },
     "output_type": "display_data"
    }
   ],
   "source": [
    "model_1b.plot(from_file=True)"
   ]
  },
  {
   "cell_type": "markdown",
   "metadata": {},
   "source": [
    "## Commentary\n",
    "The dense-network with neither loss function had any succes at extracting information from the data that would generalize to the validation dataset. From the very start of the training, the model overfits: the neural net is capable of memorizing the traindata reaching scores near 95% while the validation-score only fluctuates or slowly degrades near 77%. "
   ]
  },
  {
   "cell_type": "markdown",
   "metadata": {},
   "source": [
    "---"
   ]
  },
  {
   "cell_type": "code",
   "execution_count": null,
   "metadata": {},
   "outputs": [],
   "source": [
    "layers_conv = [Dropout(0.1),\n",
    "               Conv1D(60, 3),\n",
    "               Conv1D(30, 3),\n",
    "               Flatten(),\n",
    "               Dense(40, activation='relu'),\n",
    "               Dropout(0.2)\n",
    "              ]"
   ]
  },
  {
   "cell_type": "code",
   "execution_count": null,
   "metadata": {},
   "outputs": [],
   "source": [
    "model_2a = BlackBox(layers=layers_conc, loss='categorical_crossentropy',\\\n",
    "                    batch_size=batch_size, optimizer=optimizer, epochs=epochs,\\\n",
    "                    verbose=1,\\\n",
    "                    callbacks=None,\n",
    "                    embedd=embedd_file_catcross, embedd_dims=[num_words, 50, padded_length], train_weights=True,\\\n",
    "                    mask_zeros=False\n",
    "                   )\n",
    "\n",
    "model_2a.summary()"
   ]
  },
  {
   "cell_type": "code",
   "execution_count": null,
   "metadata": {},
   "outputs": [],
   "source": [
    "model_2a.fit()"
   ]
  },
  {
   "cell_type": "code",
   "execution_count": null,
   "metadata": {},
   "outputs": [],
   "source": [
    "model_2a.Ksave()\n",
    "model_2a.save_hist()"
   ]
  },
  {
   "cell_type": "code",
   "execution_count": null,
   "metadata": {},
   "outputs": [],
   "source": [
    "model_2a.plot()"
   ]
  },
  {
   "cell_type": "code",
   "execution_count": null,
   "metadata": {},
   "outputs": [],
   "source": [
    "model_2b = BlackBox(layers=layers_conv, loss=my_loss,\\\n",
    "                    batch_size=batch_size, optimizer=optimizer, epochs=epochs,\\\n",
    "                    verbose=1,\\\n",
    "                    callbacks=None,\n",
    "                    embedd=embedd_file_myloss, embedd_dims=[num_words, 50, padded_length], train_weights=True,\\\n",
    "                    mask_zeros=False\n",
    "                   )"
   ]
  },
  {
   "cell_type": "code",
   "execution_count": null,
   "metadata": {},
   "outputs": [],
   "source": []
  },
  {
   "cell_type": "markdown",
   "metadata": {},
   "source": [
    "---"
   ]
  },
  {
   "cell_type": "code",
   "execution_count": null,
   "metadata": {},
   "outputs": [],
   "source": [
    "layers_rnn = [Dropout(0.1), SimpleRNN(100, dropout=0.1, recurrent_dropout=0.1)]"
   ]
  },
  {
   "cell_type": "code",
   "execution_count": null,
   "metadata": {},
   "outputs": [],
   "source": [
    "model_3a = BlackBox(layers=layers_rnn, loss='categorical_crossentropy',\\\n",
    "                    batch_size=batch_size, optimizer=optimizer, epochs=epochs,\\\n",
    "                    verbose=1,\\\n",
    "                    callbacks=None,\\\n",
    "                    embedd=embedd_file_catcross, embedd_dims=[num_words, 50, padded_length], train_weights=True,\\\n",
    "                    mask_zeros=True\n",
    "                   )\n",
    "\n",
    "model_3a.summary()"
   ]
  },
  {
   "cell_type": "code",
   "execution_count": null,
   "metadata": {},
   "outputs": [],
   "source": []
  },
  {
   "cell_type": "code",
   "execution_count": null,
   "metadata": {},
   "outputs": [],
   "source": [
    "model_3b = BlackBox(layers=layers_lstm, loss=my_loss,\\\n",
    "                    batch_size=batch_size, optimizer=optimizer, epochs=epochs,\\\n",
    "                    verbose=1,\\\n",
    "                    callbacks=None,\\\n",
    "                    embedd=embedd_file_myloss, embedd_dims=[num_words, 50, padded_length], train_weights=True,\\\n",
    "                    mask_zeros=True\n",
    "                   )\n",
    "\n",
    "model_3b.summary()"
   ]
  },
  {
   "cell_type": "code",
   "execution_count": null,
   "metadata": {},
   "outputs": [],
   "source": []
  },
  {
   "cell_type": "markdown",
   "metadata": {},
   "source": [
    "---"
   ]
  },
  {
   "cell_type": "code",
   "execution_count": null,
   "metadata": {},
   "outputs": [],
   "source": [
    "layers_lstm = [Dropout(0.1), Birectional(LSTM(100, dropout=0.1, recurrent_dropout=0.1))]"
   ]
  },
  {
   "cell_type": "code",
   "execution_count": null,
   "metadata": {},
   "outputs": [],
   "source": [
    "model_4a = BlackBox(layers=layers_lstm, loss='categorical_crossentropy',\\\n",
    "                    batch_size=batch_size, optimizer=optimizer, epochs=epochs,\\\n",
    "                    verbose=1,\\\n",
    "                    callbacks=None,\\\n",
    "                    embedd=embedd_file_catcross, embedd_dims=[num_words, 50, padded_length], train_weights=True,\\\n",
    "                    mask_zeros=True\n",
    "                   )\n",
    "\n",
    "model_4a.summary()"
   ]
  },
  {
   "cell_type": "code",
   "execution_count": null,
   "metadata": {},
   "outputs": [],
   "source": []
  },
  {
   "cell_type": "code",
   "execution_count": null,
   "metadata": {},
   "outputs": [],
   "source": [
    "model_4b = BlackBox(layers=layers_lstm, loss=my_loss,\\\n",
    "                    batch_size=batch_size, optimizer=optimizer, epochs=epochs,\\\n",
    "                    verbose=1,\\\n",
    "                    callbacks=None,\\\n",
    "                    embedd=embedd_file_myloss, embedd_dims=[num_words, 50, padded_length], train_weights=True,\\\n",
    "                    mask_zeros=True\n",
    "                   )\n",
    "\n",
    "model_4b.summary()"
   ]
  },
  {
   "cell_type": "code",
   "execution_count": null,
   "metadata": {},
   "outputs": [],
   "source": []
  }
 ],
 "metadata": {
  "kernelspec": {
   "display_name": "Python 3",
   "language": "python",
   "name": "python3"
  },
  "language_info": {
   "codemirror_mode": {
    "name": "ipython",
    "version": 3
   },
   "file_extension": ".py",
   "mimetype": "text/x-python",
   "name": "python",
   "nbconvert_exporter": "python",
   "pygments_lexer": "ipython3",
   "version": "3.6.7"
  }
 },
 "nbformat": 4,
 "nbformat_minor": 2
}
