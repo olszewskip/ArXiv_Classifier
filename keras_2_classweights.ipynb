{
 "cells": [
  {
   "cell_type": "code",
   "execution_count": 1,
   "metadata": {},
   "outputs": [
    {
     "name": "stderr",
     "output_type": "stream",
     "text": [
      "Using TensorFlow backend.\n"
     ]
    }
   ],
   "source": [
    "import os\n",
    "import pandas as pd\n",
    "import numpy as np\n",
    "import pickle\n",
    "\n",
    "from keras.models import Sequential\n",
    "from keras.layers import *\n",
    "\n",
    "from keras.callbacks import ReduceLROnPlateau, EarlyStopping, ModelCheckpoint\n",
    "\n",
    "import matplotlib.pyplot as plt\n",
    "plt.style.use('seaborn')"
   ]
  },
  {
   "cell_type": "code",
   "execution_count": 2,
   "metadata": {},
   "outputs": [
    {
     "data": {
      "text/plain": [
       "{'unique_words': 277303,\n",
       " 'num_words': 277304,\n",
       " 'padded_length': 679,\n",
       " 'n_classes': 6,\n",
       " 'class_weights': array([ 1.26825655,  0.72736371,  0.27602776, 13.23801959, 30.29201502,\n",
       "         9.49559404])}"
      ]
     },
     "execution_count": 2,
     "metadata": {},
     "output_type": "execute_result"
    }
   ],
   "source": [
    "global_params = pickle.load(open(\"global_params.p\", \"rb\"))\n",
    "unique_words = global_params['unique_words']\n",
    "num_words = global_params['num_words']\n",
    "padded_length = global_params['padded_length']\n",
    "n_classes = global_params['n_classes']\n",
    "class_weights = global_params['class_weights']\n",
    "\n",
    "global_params"
   ]
  },
  {
   "cell_type": "code",
   "execution_count": 3,
   "metadata": {},
   "outputs": [],
   "source": [
    "X_train = np.load(os.path.join(\"data\", \"Kdata\", \"X_train.npy\"))\n",
    "y_train = np.load(os.path.join(\"data\", \"Kdata\", \"y_train.npy\"))\n",
    "X_val = np.load(os.path.join(\"data\", \"Kdata\", \"X_val.npy\"))\n",
    "y_val = np.load(os.path.join(\"data\", \"Kdata\", \"y_val.npy\"))"
   ]
  },
  {
   "cell_type": "code",
   "execution_count": 7,
   "metadata": {},
   "outputs": [],
   "source": [
    "from keras import backend as K\n",
    "\n",
    "# Custom metrics.\n",
    "# Note that any metric is computed per batch during training\n",
    "# (hence one needs large batches for it to make sense).\n",
    "# Also, there is the implicit 0.5 treshold in the K.round function below\n",
    "\n",
    "def macroPrec(y_true, y_pred):\n",
    "    \n",
    "    true_positives = K.sum(K.round(K.clip(y_true * y_pred, 0, 1)), axis=0)\n",
    "    positives = K.sum(K.round(y_pred), axis=0)\n",
    "    precision = true_positives / (positives + K.epsilon())\n",
    "\n",
    "    macroPrec = K.mean( precision )\n",
    "    \n",
    "    return macroPrec\n",
    "\n",
    "\n",
    "def macroRecall(y_true, y_pred):\n",
    "    \n",
    "    true_positives = K.sum(K.round(K.clip(y_true * y_pred, 0, 1)), axis=0)\n",
    "    actual_ones = K.sum(K.round(K.clip(y_true, 0, 1)), axis=0)\n",
    "    recall = true_positives / (actual_ones + K.epsilon())\n",
    "\n",
    "    macroRecall = K.mean( recall )\n",
    "    \n",
    "    return macroRecall\n",
    "\n",
    "\n",
    "def macroF1(y_true, y_pred):\n",
    "    \n",
    "    def recall(y_true, y_pred):\n",
    "\n",
    "        true_positives = K.sum(K.round(K.clip(y_true * y_pred, 0, 1)), axis=0)\n",
    "        actual_ones = K.sum(K.round(K.clip(y_true, 0, 1)), axis=0)\n",
    "        recall = true_positives / (actual_ones + K.epsilon())\n",
    "        return recall\n",
    "\n",
    "    \n",
    "    def precision(y_true, y_pred):\n",
    "        \n",
    "        true_positives = K.sum(K.round(K.clip(y_true * y_pred, 0, 1)), axis=0)\n",
    "        positives = K.sum(K.round(K.clip(y_pred, 0, 1)), axis=0)\n",
    "        precision = true_positives / (positives + K.epsilon())\n",
    "        return precision\n",
    "    \n",
    "    precision = precision(y_true, y_pred)\n",
    "    recall = recall(y_true, y_pred)\n",
    "    macroF1 = K.mean( 2*((precision*recall)/(precision+recall+K.epsilon())) )\n",
    "    \n",
    "    return macroF1\n",
    "\n",
    "\n",
    "\n",
    "# Custom loss functions\n",
    "# No clippping or rounding as those are not differentiable\n",
    "# Note to self: these functions are already taking into account class imbalances, so remeber\n",
    "# not to set the class_weight argument in fitting method when using them as the loss \n",
    "\n",
    "# semi macroF1\n",
    "def fuzzy_macroF1_flip(y_true, y_pred):\n",
    "    \n",
    "    def recall(y_true, y_pred):\n",
    "\n",
    "        true_positives = K.sum(y_true * y_pred, axis=0)\n",
    "        actual_ones = K.sum(y_true, axis=0)\n",
    "        recall = true_positives / (actual_ones + K.epsilon())\n",
    "        return recall\n",
    "\n",
    "    \n",
    "    def precision(y_true, y_pred):\n",
    "        \n",
    "        true_positives = K.sum(y_true * y_pred, axis=0)\n",
    "        positives = K.sum(y_pred, axis=0)\n",
    "        precision = true_positives / (positives + K.epsilon())\n",
    "        return precision\n",
    "    \n",
    "    precision = precision(y_true, y_pred)\n",
    "    recall = recall(y_true, y_pred)\n",
    "    macroF1 = K.mean( 2*((precision*recall)/(precision+recall+K.epsilon())) ) \n",
    "    \n",
    "    return 1-macroF1\n",
    "\n",
    "# weighted categorical crossentropy\n",
    "def my_crossE(y_true, y_pred):\n",
    "    \n",
    "    class_entropy = K.sum(y_true * K.log(y_pred+K.epsilon()), axis=0)\n",
    "    weighted_entropy = class_weights * class_entropy\n",
    "    return -K.mean(weighted_entropy)/5000  # arbitrary number to make it close to [0-1] interval"
   ]
  },
  {
   "cell_type": "code",
   "execution_count": 8,
   "metadata": {},
   "outputs": [],
   "source": [
    "# some other global learning settings\n",
    "\n",
    "batch_size = 3000\n",
    "patience = 4\n",
    "optimizer = 'adam' # 'rmsprop'\n",
    "my_metrics = [macroPrec, macroF1, macroRecall, my_crossE]"
   ]
  },
  {
   "cell_type": "code",
   "execution_count": 10,
   "metadata": {},
   "outputs": [],
   "source": [
    "# auxiliary functions\n",
    "    \n",
    "\n",
    "# to plot the learning history,\n",
    "# i.e. loss and metrics on each train_batch and validation_batch\n",
    "def plot_history(history):\n",
    "    \n",
    "    plt.figure(figsize=(18, 5))\n",
    "    \n",
    "    loss = history.history['loss']\n",
    "    val_loss = history.history['val_loss']\n",
    "    x = range(1, len(loss) + 1)\n",
    "    \n",
    "    plt.subplot(1, 3, 1)    \n",
    "    plt.plot(x, loss, 'ob', label='Training loss')\n",
    "    plt.plot(x, val_loss, '-b', label='Validation loss')\n",
    "    plt.title('Training and val losses') \n",
    "    plt.legend()\n",
    "    \n",
    "    all_metrics = np.array(list(set(history.history.keys()) - set(['loss', 'val_loss', 'lr'])))\n",
    "    metrics = all_metrics[[not metric.startswith('val_') for metric in all_metrics]]\n",
    "    plt.subplot(1, 3, 2)\n",
    "    markers = ['b', 'r',  'g', 'y']\n",
    "    marker = zip(markers, markers)\n",
    "    for metric in metrics:\n",
    "        results = history.history[metric]\n",
    "        val_results = history.history['val_'+metric]\n",
    "        mark1, mark2 = next(marker)\n",
    "        plt.plot(x, results, 'o'+mark1, label=metric)\n",
    "        plt.plot(x, val_results, '-'+mark2, label='Validation '+metric)\n",
    "        plt.title('Training and val metrics')\n",
    "    plt.legend()\n",
    "    \n",
    "    plt.subplot(1, 3, 3)\n",
    "    lr = history.history['lr'] # learning rate\n",
    "    plt.plot(x, lr, 'k', label='Learning rate')\n",
    "    plt.title('Learning rate')  \n",
    "    plt.legend()\n",
    "    \n",
    "\n",
    "# choose callback functions to be given in model.fit(...)\n",
    "def callbacks(LRfactor=0.5):\n",
    "    return [ReduceLROnPlateau(factor=LRfactor, patience = patience//2),\n",
    "            EarlyStopping(monitor='val_macroF1', mode='max', patience=patience)\n",
    "           ]"
   ]
  },
  {
   "cell_type": "code",
   "execution_count": 15,
   "metadata": {},
   "outputs": [],
   "source": [
    "# the workhorse\n",
    "\n",
    "class BlackBox():\n",
    "    \n",
    "    def __init__(self, layers, loss, metrics, callbacks=callbacks(), class_weight=class_weights,\\\n",
    "                 embedd = None, embedd_dims=[None]*3):\n",
    "        \n",
    "        self.layers = layers\n",
    "        self.loss = loss\n",
    "        self.metrics = metrics\n",
    "        self.callbacks = callbacks\n",
    "        self.class_weight = class_weight\n",
    "        self.history = None\n",
    "        self.test_results = None\n",
    "        \n",
    "        self.model = Sequential()\n",
    "        if embedd:\n",
    "            self.input_dim = embedd_dims[0] # num_words\n",
    "            self.output_dim = embedd_dims[1] # dimension of the embedding space\n",
    "            self.input_length = embedd_dims[2] # padded_length\n",
    "            self.embedd_weights = pickle.load(open(embedd, \"rb\"))\n",
    "            \n",
    "            self.model.add(Embedding(input_dim=self.input_dim,\\\n",
    "                                     output_dim=self.output_dim,\\\n",
    "                                     input_length=self.input_length,\\\n",
    "                                     weights=self.embedd_weights,\\\n",
    "                                     trainable=False))\n",
    "        for layer in layers:\n",
    "            self.model.add(layer)\n",
    "            \n",
    "        self.model.add(Dense(n_classes, activation='softmax'))\n",
    "        self.model.compile(loss=self.loss, optimizer=optimizer, metrics=self.metrics)\n",
    "    \n",
    "    def summary(self):\n",
    "        return self.model.summary()\n",
    "    \n",
    "    def fit(self, epochs=50):\n",
    "        self.history = self.model.fit(\n",
    "            X_train, y_train,\n",
    "            class_weight=self.class_weight,\n",
    "            epochs=epochs,\n",
    "            batch_size=batch_size,\n",
    "            #validation_split=0.1,\n",
    "            validation_data=(X_val, y_val),\n",
    "            callbacks=self.callbacks,\n",
    "            verbose = 1        \n",
    "            )\n",
    "        \n",
    "    def reset(self):\n",
    "        \n",
    "        self.history = None\n",
    "        self.test_results = None\n",
    "        self.model.compile(loss=self.loss, optimizer=optimizer, metrics=self.metrics)\n",
    "        \n",
    "    def evaluate(self, X_test, y_test):\n",
    "        print(f'Loss function: {self.loss.__name__ if callable(self.loss) else self.loss}. Metrics: {[metric.__name__ if callable(metric) else metric for metric in self.metrics]}')\n",
    "        print(\"Predicting for X_test, comparing with y_test\")\n",
    "        self.test_results = self.model.evaluate(X_test, y_test)\n",
    "        return self.test_results\n",
    "    \n",
    "    def plot(self):\n",
    "        plot_history(self.history)\n",
    "        \n",
    "    def save_embedd(self, name):\n",
    "        pickle.dump(self.model.layers[0].get_weights(), open(f\"embedd_weights_{name}.p\", \"wb\"))\n",
    "        \n",
    "    def Ksave(self, name):\n",
    "        self.model.save(f\"Kmodel_with_embedd_{name}.h5\")\n",
    "    \n",
    "    def save(self, name):\n",
    "        pickle.dump(self, open(f\"blackbox_with_embedd_{name}.p\", \"wb\"))\n",
    " \n"
   ]
  },
  {
   "cell_type": "markdown",
   "metadata": {},
   "source": [
    "---"
   ]
  },
  {
   "cell_type": "markdown",
   "metadata": {},
   "source": [
    "## Training a keras-layer embedding\n",
    "### (naively, not CBOW or skipgram)\n",
    "* using only global-average-pooling before softmax\n",
    "* mask zeros in input (is that the best approach, seeing as later that won't always be possible,?)\n",
    "* use class_weights with default keras loss functions\n",
    "* do not use class_weights with fuzzy_macroF1 or my_crossE\n",
    "* save weights to files"
   ]
  },
  {
   "cell_type": "code",
   "execution_count": 16,
   "metadata": {},
   "outputs": [
    {
     "name": "stdout",
     "output_type": "stream",
     "text": [
      "_________________________________________________________________\n",
      "Layer (type)                 Output Shape              Param #   \n",
      "=================================================================\n",
      "embedding_4 (Embedding)      (None, 679, 50)           13865200  \n",
      "_________________________________________________________________\n",
      "global_average_pooling1d_4 ( (None, 50)                0         \n",
      "_________________________________________________________________\n",
      "dense_3 (Dense)              (None, 6)                 306       \n",
      "=================================================================\n",
      "Total params: 13,865,506\n",
      "Trainable params: 13,865,506\n",
      "Non-trainable params: 0\n",
      "_________________________________________________________________\n"
     ]
    }
   ],
   "source": [
    "# dimension of the embedding space, output_dim\n",
    "\n",
    "layers1 = [Embedding(input_dim=num_words, output_dim=50, input_length=padded_length, mask_zero=True),\n",
    "           GlobalAveragePooling1D()]\n",
    "\n",
    "model1 = BlackBox(layers=layers1, loss='categorical_crossentropy', class_weight=class_weights, metrics=my_metrics)\n",
    "model1.summary()"
   ]
  },
  {
   "cell_type": "code",
   "execution_count": null,
   "metadata": {},
   "outputs": [
    {
     "name": "stdout",
     "output_type": "stream",
     "text": [
      "Train on 500000 samples, validate on 200000 samples\n",
      "Epoch 1/50\n",
      "500000/500000 [==============================] - 235s 470us/step - loss: 1.2602 - macroPrec: 0.0764 - macroF1: 0.0638 - macroRecall: 0.0655 - my_crossE: 0.1886 - val_loss: 0.8308 - val_macroPrec: 0.3053 - val_macroF1: 0.1538 - val_macroRecall: 0.1660 - val_my_crossE: 0.2047\n",
      "Epoch 2/50\n",
      "500000/500000 [==============================] - 243s 486us/step - loss: 0.6232 - macroPrec: 0.4236 - macroF1: 0.2903 - macroRecall: 0.2651 - my_crossE: 0.1969 - val_loss: 0.4675 - val_macroPrec: 0.4623 - val_macroF1: 0.4061 - val_macroRecall: 0.3708 - val_my_crossE: 0.1886\n",
      "Epoch 3/50\n",
      "500000/500000 [==============================] - 251s 502us/step - loss: 0.3992 - macroPrec: 0.4553 - macroF1: 0.4277 - macroRecall: 0.4062 - my_crossE: 0.1808 - val_loss: 0.3529 - val_macroPrec: 0.4515 - val_macroF1: 0.4375 - val_macroRecall: 0.4250 - val_my_crossE: 0.1739\n",
      "Epoch 4/50\n",
      "500000/500000 [==============================] - 257s 514us/step - loss: 0.3246 - macroPrec: 0.4517 - macroF1: 0.4423 - macroRecall: 0.4335 - my_crossE: 0.1648 - val_loss: 0.3054 - val_macroPrec: 0.4519 - val_macroF1: 0.4449 - val_macroRecall: 0.4383 - val_my_crossE: 0.1581\n",
      "Epoch 5/50\n",
      "500000/500000 [==============================] - 257s 514us/step - loss: 0.2863 - macroPrec: 0.4544 - macroF1: 0.4486 - macroRecall: 0.4431 - my_crossE: 0.1490 - val_loss: 0.2767 - val_macroPrec: 0.4573 - val_macroF1: 0.4495 - val_macroRecall: 0.4444 - val_my_crossE: 0.1434\n",
      "Epoch 6/50\n",
      "500000/500000 [==============================] - 264s 529us/step - loss: 0.2603 - macroPrec: 0.4604 - macroF1: 0.4529 - macroRecall: 0.4484 - my_crossE: 0.1345 - val_loss: 0.2560 - val_macroPrec: 0.4772 - val_macroF1: 0.4534 - val_macroRecall: 0.4485 - val_my_crossE: 0.1301\n",
      "Epoch 7/50\n",
      "500000/500000 [==============================] - 261s 523us/step - loss: 0.2402 - macroPrec: 0.5275 - macroF1: 0.4592 - macroRecall: 0.4533 - my_crossE: 0.1215 - val_loss: 0.2402 - val_macroPrec: 0.6144 - val_macroF1: 0.4645 - val_macroRecall: 0.4557 - val_my_crossE: 0.1187\n",
      "Epoch 8/50\n",
      "500000/500000 [==============================] - 282s 563us/step - loss: 0.2244 - macroPrec: 0.6745 - macroF1: 0.4840 - macroRecall: 0.4681 - my_crossE: 0.1108 - val_loss: 0.2282 - val_macroPrec: 0.7349 - val_macroF1: 0.4994 - val_macroRecall: 0.4763 - val_my_crossE: 0.1095\n",
      "Epoch 9/50\n",
      "500000/500000 [==============================] - 294s 589us/step - loss: 0.2117 - macroPrec: 0.7759 - macroF1: 0.5320 - macroRecall: 0.4983 - my_crossE: 0.1018 - val_loss: 0.2189 - val_macroPrec: 0.7763 - val_macroF1: 0.5443 - val_macroRecall: 0.5060 - val_my_crossE: 0.1025\n",
      "Epoch 10/50\n",
      "500000/500000 [==============================] - 282s 563us/step - loss: 0.2013 - macroPrec: 0.8253 - macroF1: 0.5798 - macroRecall: 0.5316 - my_crossE: 0.0942 - val_loss: 0.2116 - val_macroPrec: 0.8365 - val_macroF1: 0.5926 - val_macroRecall: 0.5407 - val_my_crossE: 0.0957\n",
      "Epoch 11/50\n",
      "500000/500000 [==============================] - 284s 569us/step - loss: 0.1925 - macroPrec: 0.8613 - macroF1: 0.6283 - macroRecall: 0.5690 - my_crossE: 0.0872 - val_loss: 0.2058 - val_macroPrec: 0.8627 - val_macroF1: 0.6322 - val_macroRecall: 0.5718 - val_my_crossE: 0.0903\n",
      "Epoch 12/50\n",
      "500000/500000 [==============================] - 295s 590us/step - loss: 0.1850 - macroPrec: 0.8847 - macroF1: 0.6704 - macroRecall: 0.6037 - my_crossE: 0.0812 - val_loss: 0.2011 - val_macroPrec: 0.8625 - val_macroF1: 0.6666 - val_macroRecall: 0.6020 - val_my_crossE: 0.0848\n",
      "Epoch 13/50\n",
      "500000/500000 [==============================] - 308s 617us/step - loss: 0.1786 - macroPrec: 0.8821 - macroF1: 0.7058 - macroRecall: 0.6366 - my_crossE: 0.0757 - val_loss: 0.1973 - val_macroPrec: 0.8619 - val_macroF1: 0.6913 - val_macroRecall: 0.6253 - val_my_crossE: 0.0810\n",
      "Epoch 14/50\n",
      "500000/500000 [==============================] - 299s 597us/step - loss: 0.1729 - macroPrec: 0.8813 - macroF1: 0.7311 - macroRecall: 0.6629 - my_crossE: 0.0711 - val_loss: 0.1942 - val_macroPrec: 0.8581 - val_macroF1: 0.7142 - val_macroRecall: 0.6491 - val_my_crossE: 0.0774\n",
      "Epoch 15/50\n",
      "500000/500000 [==============================] - 289s 578us/step - loss: 0.1679 - macroPrec: 0.8788 - macroF1: 0.7515 - macroRecall: 0.6864 - my_crossE: 0.0671 - val_loss: 0.1918 - val_macroPrec: 0.8555 - val_macroF1: 0.7276 - val_macroRecall: 0.6641 - val_my_crossE: 0.0750\n",
      "Epoch 16/50\n",
      "500000/500000 [==============================] - 309s 617us/step - loss: 0.1634 - macroPrec: 0.8793 - macroF1: 0.7685 - macroRecall: 0.7062 - my_crossE: 0.0639 - val_loss: 0.1898 - val_macroPrec: 0.8537 - val_macroF1: 0.7402 - val_macroRecall: 0.6793 - val_my_crossE: 0.0724\n",
      "Epoch 17/50\n",
      "500000/500000 [==============================] - 328s 655us/step - loss: 0.1593 - macroPrec: 0.8790 - macroF1: 0.7801 - macroRecall: 0.7218 - my_crossE: 0.0609 - val_loss: 0.1883 - val_macroPrec: 0.8505 - val_macroF1: 0.7504 - val_macroRecall: 0.6930 - val_my_crossE: 0.0703\n",
      "Epoch 18/50\n",
      "198000/500000 [==========>...................] - ETA: 2:59 - loss: 0.1560 - macroPrec: 0.8797 - macroF1: 0.7875 - macroRecall: 0.7309 - my_crossE: 0.0594"
     ]
    }
   ],
   "source": [
    "model1.fit()"
   ]
  },
  {
   "cell_type": "code",
   "execution_count": null,
   "metadata": {},
   "outputs": [],
   "source": [
    "model1.plot()"
   ]
  },
  {
   "cell_type": "code",
   "execution_count": null,
   "metadata": {},
   "outputs": [],
   "source": [
    "model1.save_embedd(\"50dim_GlblAvg_CatCrossE\")\n",
    "model1.Ksave(\"50dim_GlblAvg_CatCrossE\")\n",
    "model1.save(\"50dim_GlblAvg_CatCrossE\")"
   ]
  },
  {
   "cell_type": "markdown",
   "metadata": {},
   "source": [
    "---"
   ]
  },
  {
   "cell_type": "code",
   "execution_count": null,
   "metadata": {},
   "outputs": [],
   "source": [
    "# dimension of the embedding space, output_dim\n",
    "# custom loss\n",
    "\n",
    "layers2 = [Embedding(input_dim=num_words, output_dim=50, input_length=padded_length, mask_zero=True),\n",
    "           GlobalAveragePooling1D()]\n",
    "\n",
    "model2 = BlackBox(layers=layers1, loss=fuzzy_macroF1_flip, class_weight=None, metrics=my_metrics)\n",
    "model2.summary()"
   ]
  },
  {
   "cell_type": "code",
   "execution_count": null,
   "metadata": {},
   "outputs": [],
   "source": [
    "model2.fit()"
   ]
  },
  {
   "cell_type": "code",
   "execution_count": null,
   "metadata": {},
   "outputs": [],
   "source": [
    "model2.plot()"
   ]
  },
  {
   "cell_type": "code",
   "execution_count": null,
   "metadata": {},
   "outputs": [],
   "source": [
    "model2.save_embedd(\"50dim_GlblAvg_F1flip\")\n",
    "model2.Ksave(\"50dim_GlblAvg_F1flip\")\n",
    "model2.save(\"50dim_GlblAvg_F1flip\")"
   ]
  },
  {
   "cell_type": "markdown",
   "metadata": {},
   "source": [
    "---"
   ]
  },
  {
   "cell_type": "code",
   "execution_count": null,
   "metadata": {},
   "outputs": [],
   "source": [
    "# dimension of the embedding space, output_dim\n",
    "# custom loss_2\n",
    "\n",
    "layers3 = [Embedding(input_dim=num_words, output_dim=50, input_length=padded_length, mask_zero=True),\n",
    "           GlobalAveragePooling1D()]\n",
    "\n",
    "model3 = BlackBox(layers=layers1, loss=my_crossE, class_weight=None, metrics=my_metrics)\n",
    "model3.summary()"
   ]
  },
  {
   "cell_type": "code",
   "execution_count": null,
   "metadata": {},
   "outputs": [],
   "source": [
    "model3.fit()"
   ]
  },
  {
   "cell_type": "code",
   "execution_count": null,
   "metadata": {},
   "outputs": [],
   "source": [
    "model3.plot()"
   ]
  },
  {
   "cell_type": "code",
   "execution_count": null,
   "metadata": {},
   "outputs": [],
   "source": [
    "model3.save_embedd(\"50dim_GlblAvg_MyCrossE\")\n",
    "model3.Ksave(\"50dim_GlblAvg_MyCrossE\")\n",
    "model3.save(\"50dim_GlblAvg_MyCrossE\")"
   ]
  },
  {
   "cell_type": "markdown",
   "metadata": {},
   "source": [
    "---"
   ]
  },
  {
   "cell_type": "code",
   "execution_count": null,
   "metadata": {},
   "outputs": [],
   "source": []
  }
 ],
 "metadata": {
  "kernelspec": {
   "display_name": "Python 3",
   "language": "python",
   "name": "python3"
  },
  "language_info": {
   "codemirror_mode": {
    "name": "ipython",
    "version": 3
   },
   "file_extension": ".py",
   "mimetype": "text/x-python",
   "name": "python",
   "nbconvert_exporter": "python",
   "pygments_lexer": "ipython3",
   "version": "3.6.7"
  }
 },
 "nbformat": 4,
 "nbformat_minor": 2
}
