{
 "cells": [
  {
   "cell_type": "code",
   "execution_count": 3,
   "metadata": {},
   "outputs": [],
   "source": [
    "import os\n",
    "import pandas as pd\n",
    "import numpy as np\n",
    "import pickle\n",
    "\n",
    "from keras.models import Sequential\n",
    "from keras.layers import *\n",
    "\n",
    "from keras.callbacks import ReduceLROnPlateau, EarlyStopping, ModelCheckpoint\n",
    "\n",
    "import matplotlib.pyplot as plt\n",
    "plt.style.use('seaborn')"
   ]
  },
  {
   "cell_type": "code",
   "execution_count": 4,
   "metadata": {},
   "outputs": [
    {
     "data": {
      "text/plain": [
       "{'unique_words': 277303,\n",
       " 'num_words': 277304,\n",
       " 'padded_length': 679,\n",
       " 'n_classes': 6,\n",
       " 'class_weights': array([ 1.26825655,  0.72736371,  0.27602776, 13.23801959, 30.29201502,\n",
       "         9.49559404])}"
      ]
     },
     "execution_count": 4,
     "metadata": {},
     "output_type": "execute_result"
    }
   ],
   "source": [
    "global_params = pickle.load(open(\"global_params.p\", \"rb\"))\n",
    "unique_words = global_params['unique_words']\n",
    "num_words = global_params['num_words']\n",
    "padded_length = global_params['padded_length']\n",
    "n_classes = global_params['n_classes']\n",
    "class_weights = global_params['class_weights']\n",
    "\n",
    "global_params"
   ]
  },
  {
   "cell_type": "code",
   "execution_count": 5,
   "metadata": {},
   "outputs": [],
   "source": [
    "X_train = np.load(os.path.join(\"data\", \"Kdata\", \"X_train.npy\"))\n",
    "y_train = np.load(os.path.join(\"data\", \"Kdata\", \"y_train.npy\"))\n",
    "X_val = np.load(os.path.join(\"data\", \"Kdata\", \"X_val.npy\"))\n",
    "y_val = np.load(os.path.join(\"data\", \"Kdata\", \"y_val.npy\"))"
   ]
  },
  {
   "cell_type": "code",
   "execution_count": 11,
   "metadata": {},
   "outputs": [],
   "source": [
    "# some other global learning settings\n",
    "\n",
    "batch_size = 3000\n",
    "patience = 4\n",
    "optimizer = 'adam' # 'rmsprop'\n",
    "my_metrics = [macroPrec, macroF1, macroRecall, my_crossE]"
   ]
  },
  {
   "cell_type": "code",
   "execution_count": 7,
   "metadata": {},
   "outputs": [],
   "source": [
    "from keras import backend as K\n",
    "\n",
    "# Custom metrics.\n",
    "# Note that any metric is computed per batch during training\n",
    "# (hence one needs large batches for it to make sense).\n",
    "# Also, there is the implicit 0.5 treshold in the K.round function below\n",
    "\n",
    "def macroPrec(y_true, y_pred):\n",
    "    \n",
    "    true_positives = K.sum(K.round(K.clip(y_true * y_pred, 0, 1)), axis=0)\n",
    "    positives = K.sum(K.round(y_pred), axis=0)\n",
    "    precision = true_positives / (positives + K.epsilon())\n",
    "\n",
    "    macroPrec = K.mean( precision )\n",
    "    \n",
    "    return macroPrec\n",
    "\n",
    "\n",
    "def macroRecall(y_true, y_pred):\n",
    "    \n",
    "    true_positives = K.sum(K.round(K.clip(y_true * y_pred, 0, 1)), axis=0)\n",
    "    actual_ones = K.sum(K.round(K.clip(y_true, 0, 1)), axis=0)\n",
    "    recall = true_positives / (actual_ones + K.epsilon())\n",
    "\n",
    "    macroRecall = K.mean( recall )\n",
    "    \n",
    "    return macroRecall\n",
    "\n",
    "\n",
    "def macroF1(y_true, y_pred):\n",
    "    \n",
    "    def recall(y_true, y_pred):\n",
    "\n",
    "        true_positives = K.sum(K.round(K.clip(y_true * y_pred, 0, 1)), axis=0)\n",
    "        actual_ones = K.sum(K.round(K.clip(y_true, 0, 1)), axis=0)\n",
    "        recall = true_positives / (actual_ones + K.epsilon())\n",
    "        return recall\n",
    "\n",
    "    \n",
    "    def precision(y_true, y_pred):\n",
    "        \n",
    "        true_positives = K.sum(K.round(K.clip(y_true * y_pred, 0, 1)), axis=0)\n",
    "        positives = K.sum(K.round(K.clip(y_pred, 0, 1)), axis=0)\n",
    "        precision = true_positives / (positives + K.epsilon())\n",
    "        return precision\n",
    "    \n",
    "    precision = precision(y_true, y_pred)\n",
    "    recall = recall(y_true, y_pred)\n",
    "    macroF1 = K.mean( 2*((precision*recall)/(precision+recall+K.epsilon())) )\n",
    "    \n",
    "    return macroF1\n",
    "\n",
    "\n",
    "\n",
    "# Custom loss functions\n",
    "# No clippping or rounding as those are not differentiable\n",
    "# Note to self: these functions are already taking into account class imbalances, so remeber\n",
    "# not to set the class_weight argument in fitting method when using them as the loss \n",
    "\n",
    "# semi macroF1\n",
    "def fuzzy_macroF1_flip(y_true, y_pred):\n",
    "    \n",
    "    def recall(y_true, y_pred):\n",
    "\n",
    "        true_positives = K.sum(y_true * y_pred, axis=0)\n",
    "        actual_ones = K.sum(y_true, axis=0)\n",
    "        recall = true_positives / (actual_ones + K.epsilon())\n",
    "        return recall\n",
    "\n",
    "    \n",
    "    def precision(y_true, y_pred):\n",
    "        \n",
    "        true_positives = K.sum(y_true * y_pred, axis=0)\n",
    "        positives = K.sum(y_pred, axis=0)\n",
    "        precision = true_positives / (positives + K.epsilon())\n",
    "        return precision\n",
    "    \n",
    "    precision = precision(y_true, y_pred)\n",
    "    recall = recall(y_true, y_pred)\n",
    "    macroF1 = K.mean( 2*((precision*recall)/(precision+recall+K.epsilon())) ) \n",
    "    \n",
    "    return 1-macroF1\n",
    "\n",
    "# weighted categorical crossentropy\n",
    "def my_crossE(y_true, y_pred):\n",
    "    \n",
    "    class_entropy = K.sum(y_true * K.log(y_pred+K.epsilon()), axis=0)\n",
    "    weighted_entropy = class_weights * class_entropy\n",
    "    return -K.mean(weighted_entropy)/5000  # arbitrary number to make it close to [0-1] interval"
   ]
  },
  {
   "cell_type": "code",
   "execution_count": 8,
   "metadata": {},
   "outputs": [],
   "source": [
    "# auxiliary functions\n",
    "    \n",
    "\n",
    "# to plot the learning history,\n",
    "# i.e. loss and metrics on each train_batch and validation_batch\n",
    "def plot_history(history):\n",
    "    \n",
    "    plt.figure(figsize=(18, 5))\n",
    "    \n",
    "    loss = history.history['loss']\n",
    "    val_loss = history.history['val_loss']\n",
    "    x = range(1, len(loss) + 1)\n",
    "    \n",
    "    plt.subplot(1, 3, 1)    \n",
    "    plt.plot(x, loss, 'ob', label='Training loss')\n",
    "    plt.plot(x, val_loss, '-b', label='Validation loss')\n",
    "    plt.title('Training and val losses') \n",
    "    plt.legend()\n",
    "    \n",
    "    all_metrics = np.array(list(set(history.history.keys()) - set(['loss', 'val_loss', 'lr'])))\n",
    "    metrics = all_metrics[[not metric.startswith('val_') for metric in all_metrics]]\n",
    "    plt.subplot(1, 3, 2)\n",
    "    markers = ['b', 'r',  'g', 'y']\n",
    "    marker = zip(markers, markers)\n",
    "    for metric in metrics:\n",
    "        results = history.history[metric]\n",
    "        val_results = history.history['val_'+metric]\n",
    "        mark1, mark2 = next(marker)\n",
    "        plt.plot(x, results, 'o'+mark1, label=metric)\n",
    "        plt.plot(x, val_results, '-'+mark2, label='Validation '+metric)\n",
    "        plt.title('Training and val metrics')\n",
    "    plt.legend()\n",
    "    \n",
    "    plt.subplot(1, 3, 3)\n",
    "    lr = history.history['lr'] # learning rate\n",
    "    plt.plot(x, lr, 'k', label='Learning rate')\n",
    "    plt.title('Learning rate')  \n",
    "    plt.legend()\n",
    "    \n",
    "\n",
    "# choose callback functions to be given in model.fit(...)\n",
    "def callbacks(LRfactor=0.5):\n",
    "    return [ReduceLROnPlateau(factor=LRfactor, patience = patience//2),\n",
    "            EarlyStopping(monitor='val_macroF1', mode='max', patience=patience)\n",
    "           ]"
   ]
  },
  {
   "cell_type": "code",
   "execution_count": 16,
   "metadata": {},
   "outputs": [],
   "source": [
    "# the workhorse\n",
    "\n",
    "class BlackBox():\n",
    "    \n",
    "    def __init__(self, layers, loss, metrics, callbacks=callbacks(), class_weight=class_weights,\\\n",
    "                 embedd = None, embedd_dims=[None]*3):\n",
    "        \n",
    "        self.layers = layers\n",
    "        self.loss = loss\n",
    "        self.metrics = metrics\n",
    "        self.callbacks = callbacks\n",
    "        self.class_weight = class_weight\n",
    "        self.history = None\n",
    "        self.test_results = None\n",
    "        \n",
    "        self.model = Sequential()\n",
    "        if embedd:\n",
    "            self.input_dim = embedd_dims[0] # num_words\n",
    "            self.output_dim = embedd_dims[1] # dimension of the embedding space\n",
    "            self.input_length = embedd_dims[2] # padded_length\n",
    "            self.embedd_weights = pickle.load(open(embedd, \"rb\"))\n",
    "            \n",
    "            self.model.add(Embedding(input_dim=self.input_dim,\\\n",
    "                                     output_dim=self.output_dim,\\\n",
    "                                     input_length=self.input_length,\\\n",
    "                                     weights=self.embedd_weights,\\\n",
    "                                     trainable=False))\n",
    "        for layer in layers:\n",
    "            self.model.add(layer)\n",
    "            \n",
    "        self.model.add(Dense(n_classes, activation='softmax'))\n",
    "        self.model.compile(loss=self.loss, optimizer=optimizer, metrics=self.metrics)\n",
    "    \n",
    "    def summary(self):\n",
    "        return self.model.summary()\n",
    "    \n",
    "    def fit(self, epochs=50):\n",
    "        self.history = self.model.fit(\n",
    "            X_train, y_train,\n",
    "            class_weight=self.class_weights,\n",
    "            epochs=epochs,\n",
    "            batch_size=batch_size,\n",
    "            #validation_split=0.1,\n",
    "            validation_data=(X_val, y_val),\n",
    "            callbacks=self.callbacks,\n",
    "            verbose = 1        \n",
    "            )\n",
    "        \n",
    "    def reset(self):\n",
    "        \n",
    "        self.history = None\n",
    "        self.test_results = None\n",
    "        self.model.compile(loss=self.loss, optimizer=optimizer, metrics=self.metrics)\n",
    "        \n",
    "    def evaluate(self, X_test, y_test):\n",
    "        print(f'Loss function: {self.loss.__name__ if callable(self.loss) else self.loss}. Metrics: {[metric.__name__ if callable(metric) else metric for metric in self.metrics]}')\n",
    "        print(\"Predicting for X_test, comparing with y_test\")\n",
    "        self.test_results = self.model.evaluate(X_test, y_test)\n",
    "        return self.test_results\n",
    "    \n",
    "    def plot(self):\n",
    "        plot_history(self.history)\n",
    "        \n",
    "    def save_embedd(self, name):\n",
    "        pickle.dump(self.model.layers[0].get_weights(), open(f\"embedd_weights_{name}.p\", \"wb\"))\n",
    "        \n",
    "    def Ksave(self, name):\n",
    "        self.model.save(f\"Kmodel_with_embedd_{name}.h5\")\n",
    "    \n",
    "    def save(self, name):\n",
    "        pickle.dump(self, open(f\"blackbox_with_embedd_{name}.p\", \"wb\"))\n",
    " \n"
   ]
  },
  {
   "cell_type": "markdown",
   "metadata": {},
   "source": [
    "---"
   ]
  },
  {
   "cell_type": "markdown",
   "metadata": {},
   "source": [
    "## Training a keras-layer embedding\n",
    "### (naively, not CBOW or skipgram)\n",
    "* using only global-average-pooling before softmax\n",
    "* mask zeros in input (is that the best approach, seeing as later that won't always be possible,?)\n",
    "* use class_weights with default keras loss functions\n",
    "* do not use class_weights with fuzzy_macroF1 or my_crossE\n",
    "* save weights to files"
   ]
  },
  {
   "cell_type": "code",
   "execution_count": 14,
   "metadata": {},
   "outputs": [
    {
     "name": "stdout",
     "output_type": "stream",
     "text": [
      "_________________________________________________________________\n",
      "Layer (type)                 Output Shape              Param #   \n",
      "=================================================================\n",
      "embedding_3 (Embedding)      (None, 679, 50)           13865200  \n",
      "_________________________________________________________________\n",
      "global_average_pooling1d_3 ( (None, 50)                0         \n",
      "_________________________________________________________________\n",
      "dense_3 (Dense)              (None, 6)                 306       \n",
      "=================================================================\n",
      "Total params: 13,865,506\n",
      "Trainable params: 13,865,506\n",
      "Non-trainable params: 0\n",
      "_________________________________________________________________\n"
     ]
    }
   ],
   "source": [
    "# dimension of the embedding space, output_dim\n",
    "\n",
    "layers1 = [Embedding(input_dim=num_words, output_dim=50, input_length=padded_length, mask_zero=True),\n",
    "           GlobalAveragePooling1D()]\n",
    "\n",
    "model1 = BlackBox(layers=layers1, loss='categorical_crossentropy', class_weight=class_weights, metrics=my_metrics)\n",
    "model1.summary()"
   ]
  },
  {
   "cell_type": "code",
   "execution_count": 55,
   "metadata": {},
   "outputs": [
    {
     "name": "stdout",
     "output_type": "stream",
     "text": [
      "Train on 500000 samples, validate on 200000 samples\n",
      "Epoch 1/200\n",
      "500000/500000 [==============================] - 237s 473us/step - loss: 0.8329 - macroPrec: 0.1121 - macroF1: 0.0696 - macroRecall: 0.0639 - val_loss: 0.7470 - val_macroPrec: 0.3222 - val_macroF1: 0.2462 - val_macroRecall: 0.2183\n",
      "Epoch 2/200\n",
      "500000/500000 [==============================] - 235s 471us/step - loss: 0.6560 - macroPrec: 0.4414 - macroF1: 0.3799 - macroRecall: 0.3547 - val_loss: 0.5944 - val_macroPrec: 0.4415 - val_macroF1: 0.4317 - val_macroRecall: 0.4225\n",
      "Epoch 3/200\n",
      "500000/500000 [==============================] - 240s 480us/step - loss: 0.5603 - macroPrec: 0.4438 - macroF1: 0.4368 - macroRecall: 0.4311 - val_loss: 0.5239 - val_macroPrec: 0.4815 - val_macroF1: 0.4424 - val_macroRecall: 0.4363\n",
      "Epoch 4/200\n",
      "500000/500000 [==============================] - 249s 498us/step - loss: 0.4633 - macroPrec: 0.7598 - macroF1: 0.5450 - macroRecall: 0.5064 - val_loss: 0.4021 - val_macroPrec: 0.8405 - val_macroF1: 0.6621 - val_macroRecall: 0.5998\n",
      "Epoch 5/200\n",
      "500000/500000 [==============================] - 259s 518us/step - loss: 0.3463 - macroPrec: 0.8319 - macroF1: 0.7228 - macroRecall: 0.6685 - val_loss: 0.3194 - val_macroPrec: 0.8147 - val_macroF1: 0.7409 - val_macroRecall: 0.6971\n",
      "Epoch 6/200\n",
      "500000/500000 [==============================] - 262s 523us/step - loss: 0.2871 - macroPrec: 0.8200 - macroF1: 0.7669 - macroRecall: 0.7322 - val_loss: 0.2851 - val_macroPrec: 0.8072 - val_macroF1: 0.7582 - val_macroRecall: 0.7261\n",
      "Epoch 7/200\n",
      "500000/500000 [==============================] - 258s 517us/step - loss: 0.2579 - macroPrec: 0.8195 - macroF1: 0.7853 - macroRecall: 0.7615 - val_loss: 0.2664 - val_macroPrec: 0.8033 - val_macroF1: 0.7706 - val_macroRecall: 0.7482\n",
      "Epoch 8/200\n",
      "500000/500000 [==============================] - 268s 536us/step - loss: 0.2399 - macroPrec: 0.8218 - macroF1: 0.7966 - macroRecall: 0.7788 - val_loss: 0.2545 - val_macroPrec: 0.8025 - val_macroF1: 0.7767 - val_macroRecall: 0.7591\n",
      "Epoch 9/200\n",
      "500000/500000 [==============================] - 264s 528us/step - loss: 0.2272 - macroPrec: 0.8244 - macroF1: 0.8056 - macroRecall: 0.7927 - val_loss: 0.2460 - val_macroPrec: 0.8032 - val_macroF1: 0.7813 - val_macroRecall: 0.7665\n",
      "Epoch 10/200\n",
      "500000/500000 [==============================] - 271s 542us/step - loss: 0.2166 - macroPrec: 0.8284 - macroF1: 0.8130 - macroRecall: 0.8024 - val_loss: 0.2395 - val_macroPrec: 0.8040 - val_macroF1: 0.7852 - val_macroRecall: 0.7728\n",
      "Epoch 11/200\n",
      "500000/500000 [==============================] - 266s 531us/step - loss: 0.2075 - macroPrec: 0.8334 - macroF1: 0.8199 - macroRecall: 0.8111 - val_loss: 0.2349 - val_macroPrec: 0.8072 - val_macroF1: 0.7869 - val_macroRecall: 0.7733\n",
      "Epoch 12/200\n",
      "500000/500000 [==============================] - 268s 537us/step - loss: 0.1994 - macroPrec: 0.8383 - macroF1: 0.8265 - macroRecall: 0.8185 - val_loss: 0.2305 - val_macroPrec: 0.8064 - val_macroF1: 0.7895 - val_macroRecall: 0.7783\n",
      "Epoch 13/200\n",
      "500000/500000 [==============================] - 272s 545us/step - loss: 0.1935 - macroPrec: 0.8413 - macroF1: 0.8311 - macroRecall: 0.8245 - val_loss: 0.2270 - val_macroPrec: 0.8070 - val_macroF1: 0.7920 - val_macroRecall: 0.7824\n",
      "Epoch 14/200\n",
      "500000/500000 [==============================] - 271s 542us/step - loss: 0.1867 - macroPrec: 0.8464 - macroF1: 0.8366 - macroRecall: 0.8307 - val_loss: 0.2242 - val_macroPrec: 0.8092 - val_macroF1: 0.7933 - val_macroRecall: 0.7829\n",
      "Epoch 15/200\n",
      "500000/500000 [==============================] - 272s 544us/step - loss: 0.1809 - macroPrec: 0.8501 - macroF1: 0.8413 - macroRecall: 0.8362 - val_loss: 0.2217 - val_macroPrec: 0.8099 - val_macroF1: 0.7955 - val_macroRecall: 0.7862\n",
      "Epoch 16/200\n",
      "500000/500000 [==============================] - 271s 543us/step - loss: 0.1763 - macroPrec: 0.8541 - macroF1: 0.8454 - macroRecall: 0.8403 - val_loss: 0.2197 - val_macroPrec: 0.8100 - val_macroF1: 0.7961 - val_macroRecall: 0.7873\n",
      "Epoch 17/200\n",
      "500000/500000 [==============================] - 271s 543us/step - loss: 0.1712 - macroPrec: 0.8570 - macroF1: 0.8499 - macroRecall: 0.8460 - val_loss: 0.2178 - val_macroPrec: 0.8117 - val_macroF1: 0.7980 - val_macroRecall: 0.7892\n",
      "Epoch 18/200\n",
      "500000/500000 [==============================] - 271s 541us/step - loss: 0.1669 - macroPrec: 0.8605 - macroF1: 0.8534 - macroRecall: 0.8491 - val_loss: 0.2162 - val_macroPrec: 0.8115 - val_macroF1: 0.7988 - val_macroRecall: 0.7909\n",
      "Epoch 19/200\n",
      "500000/500000 [==============================] - 271s 541us/step - loss: 0.1621 - macroPrec: 0.8639 - macroF1: 0.8575 - macroRecall: 0.8539 - val_loss: 0.2152 - val_macroPrec: 0.8135 - val_macroF1: 0.7987 - val_macroRecall: 0.7889\n",
      "Epoch 20/200\n",
      "500000/500000 [==============================] - 271s 543us/step - loss: 0.1589 - macroPrec: 0.8667 - macroF1: 0.8602 - macroRecall: 0.8565 - val_loss: 0.2137 - val_macroPrec: 0.8128 - val_macroF1: 0.7995 - val_macroRecall: 0.7910\n",
      "Epoch 21/200\n",
      "500000/500000 [==============================] - 271s 542us/step - loss: 0.1544 - macroPrec: 0.8710 - macroF1: 0.8641 - macroRecall: 0.8601 - val_loss: 0.2121 - val_macroPrec: 0.8124 - val_macroF1: 0.8009 - val_macroRecall: 0.7939\n",
      "Epoch 22/200\n",
      "500000/500000 [==============================] - 272s 543us/step - loss: 0.1511 - macroPrec: 0.8737 - macroF1: 0.8671 - macroRecall: 0.8633 - val_loss: 0.2112 - val_macroPrec: 0.8124 - val_macroF1: 0.8012 - val_macroRecall: 0.7944\n",
      "Epoch 23/200\n",
      "500000/500000 [==============================] - 273s 547us/step - loss: 0.1475 - macroPrec: 0.8762 - macroF1: 0.8699 - macroRecall: 0.8661 - val_loss: 0.2105 - val_macroPrec: 0.8138 - val_macroF1: 0.8015 - val_macroRecall: 0.7938\n",
      "Epoch 24/200\n",
      "500000/500000 [==============================] - 272s 543us/step - loss: 0.1447 - macroPrec: 0.8786 - macroF1: 0.8718 - macroRecall: 0.8677 - val_loss: 0.2100 - val_macroPrec: 0.8143 - val_macroF1: 0.8017 - val_macroRecall: 0.7935\n",
      "Epoch 25/200\n",
      "500000/500000 [==============================] - 271s 542us/step - loss: 0.1417 - macroPrec: 0.8813 - macroF1: 0.8747 - macroRecall: 0.8706 - val_loss: 0.2093 - val_macroPrec: 0.8149 - val_macroF1: 0.8019 - val_macroRecall: 0.7932\n",
      "Epoch 26/200\n",
      "500000/500000 [==============================] - 272s 544us/step - loss: 0.1386 - macroPrec: 0.8841 - macroF1: 0.8769 - macroRecall: 0.8725 - val_loss: 0.2086 - val_macroPrec: 0.8151 - val_macroF1: 0.8026 - val_macroRecall: 0.7943\n",
      "Epoch 27/200\n",
      "500000/500000 [==============================] - 272s 543us/step - loss: 0.1361 - macroPrec: 0.8861 - macroF1: 0.8792 - macroRecall: 0.8748 - val_loss: 0.2083 - val_macroPrec: 0.8157 - val_macroF1: 0.8023 - val_macroRecall: 0.7935\n",
      "Epoch 28/200\n",
      "500000/500000 [==============================] - 272s 544us/step - loss: 0.1329 - macroPrec: 0.8886 - macroF1: 0.8818 - macroRecall: 0.8776 - val_loss: 0.2077 - val_macroPrec: 0.8169 - val_macroF1: 0.8028 - val_macroRecall: 0.7933\n",
      "Epoch 29/200\n",
      "500000/500000 [==============================] - 273s 545us/step - loss: 0.1306 - macroPrec: 0.8911 - macroF1: 0.8837 - macroRecall: 0.8790 - val_loss: 0.2071 - val_macroPrec: 0.8161 - val_macroF1: 0.8030 - val_macroRecall: 0.7942\n",
      "Epoch 30/200\n",
      "500000/500000 [==============================] - 272s 543us/step - loss: 0.1280 - macroPrec: 0.8926 - macroF1: 0.8856 - macroRecall: 0.8813 - val_loss: 0.2066 - val_macroPrec: 0.8153 - val_macroF1: 0.8031 - val_macroRecall: 0.7952\n",
      "Epoch 31/200\n",
      "500000/500000 [==============================] - 272s 543us/step - loss: 0.1254 - macroPrec: 0.8951 - macroF1: 0.8877 - macroRecall: 0.8828 - val_loss: 0.2061 - val_macroPrec: 0.8155 - val_macroF1: 0.8035 - val_macroRecall: 0.7958\n",
      "Epoch 32/200\n",
      "500000/500000 [==============================] - 272s 544us/step - loss: 0.1231 - macroPrec: 0.8969 - macroF1: 0.8896 - macroRecall: 0.8847 - val_loss: 0.2061 - val_macroPrec: 0.8166 - val_macroF1: 0.8032 - val_macroRecall: 0.7942\n",
      "Epoch 33/200\n",
      "500000/500000 [==============================] - 273s 545us/step - loss: 0.1213 - macroPrec: 0.8983 - macroF1: 0.8911 - macroRecall: 0.8862 - val_loss: 0.2059 - val_macroPrec: 0.8167 - val_macroF1: 0.8031 - val_macroRecall: 0.7939\n",
      "Epoch 34/200\n",
      "500000/500000 [==============================] - 272s 544us/step - loss: 0.1189 - macroPrec: 0.9002 - macroF1: 0.8932 - macroRecall: 0.8886 - val_loss: 0.2059 - val_macroPrec: 0.8179 - val_macroF1: 0.8028 - val_macroRecall: 0.7923\n",
      "Epoch 35/200\n",
      "500000/500000 [==============================] - 272s 543us/step - loss: 0.1168 - macroPrec: 0.9020 - macroF1: 0.8948 - macroRecall: 0.8900 - val_loss: 0.2055 - val_macroPrec: 0.8176 - val_macroF1: 0.8028 - val_macroRecall: 0.7927\n",
      "Epoch 36/200\n",
      "500000/500000 [==============================] - 273s 546us/step - loss: 0.1150 - macroPrec: 0.9038 - macroF1: 0.8960 - macroRecall: 0.8907 - val_loss: 0.2053 - val_macroPrec: 0.8168 - val_macroF1: 0.8028 - val_macroRecall: 0.7934\n",
      "Epoch 37/200\n",
      "500000/500000 [==============================] - 274s 547us/step - loss: 0.1134 - macroPrec: 0.9048 - macroF1: 0.8973 - macroRecall: 0.8923 - val_loss: 0.2052 - val_macroPrec: 0.8179 - val_macroF1: 0.8029 - val_macroRecall: 0.7926\n",
      "Epoch 38/200\n",
      "500000/500000 [==============================] - 273s 547us/step - loss: 0.1116 - macroPrec: 0.9064 - macroF1: 0.8988 - macroRecall: 0.8937 - val_loss: 0.2048 - val_macroPrec: 0.8155 - val_macroF1: 0.8028 - val_macroRecall: 0.7944\n",
      "Epoch 39/200\n",
      "500000/500000 [==============================] - 273s 547us/step - loss: 0.1096 - macroPrec: 0.9079 - macroF1: 0.9005 - macroRecall: 0.8951 - val_loss: 0.2051 - val_macroPrec: 0.8178 - val_macroF1: 0.8026 - val_macroRecall: 0.7923\n"
     ]
    }
   ],
   "source": [
    "model1.fit()"
   ]
  },
  {
   "cell_type": "code",
   "execution_count": 58,
   "metadata": {},
   "outputs": [
    {
     "data": {
      "image/png": "[encoded data removed]",
      "text/plain": [
       "<Figure size 1296x360 with 3 Axes>"
      ]
     },
     "metadata": {
      "needs_background": "light"
     },
     "output_type": "display_data"
    }
   ],
   "source": [
    "model1.plot()"
   ]
  },
  {
   "cell_type": "code",
   "execution_count": null,
   "metadata": {},
   "outputs": [],
   "source": [
    "model1.save_embedd(\"50dim_GlblAvg_CatCrossE\")\n",
    "model1.Ksave(\"50dim_GlblAvg_CatCrossE\")\n",
    "model1.save(\"50dim_GlblAvg_CatCrossE\")"
   ]
  },
  {
   "cell_type": "markdown",
   "metadata": {},
   "source": [
    "---"
   ]
  },
  {
   "cell_type": "code",
   "execution_count": 17,
   "metadata": {},
   "outputs": [
    {
     "name": "stdout",
     "output_type": "stream",
     "text": [
      "_________________________________________________________________\n",
      "Layer (type)                 Output Shape              Param #   \n",
      "=================================================================\n",
      "embedding_3 (Embedding)      (None, 679, 50)           13865200  \n",
      "_________________________________________________________________\n",
      "global_average_pooling1d_3 ( (None, 50)                0         \n",
      "_________________________________________________________________\n",
      "dense_4 (Dense)              (None, 6)                 306       \n",
      "=================================================================\n",
      "Total params: 13,865,506\n",
      "Trainable params: 13,865,506\n",
      "Non-trainable params: 0\n",
      "_________________________________________________________________\n"
     ]
    }
   ],
   "source": [
    "# dimension of the embedding space, output_dim\n",
    "# custom loss\n",
    "\n",
    "layers2 = [Embedding(input_dim=num_words, output_dim=50, input_length=padded_length, mask_zero=True),\n",
    "           GlobalAveragePooling1D()]\n",
    "\n",
    "model2 = BlackBox(layers=layers1, loss=fuzzy_macroF1_flip, class_weight=None, metrics=my_metrics)\n",
    "model2.summary()"
   ]
  },
  {
   "cell_type": "code",
   "execution_count": null,
   "metadata": {},
   "outputs": [],
   "source": [
    "model2.fit()"
   ]
  },
  {
   "cell_type": "markdown",
   "metadata": {},
   "source": [
    "---"
   ]
  },
  {
   "cell_type": "code",
   "execution_count": null,
   "metadata": {},
   "outputs": [],
   "source": [
    "# dimension of the embedding space, output_dim\n",
    "# custom loss_2\n",
    "\n",
    "layers2 = [Embedding(input_dim=num_words, output_dim=50, input_length=padded_length, mask_zero=True),\n",
    "           GlobalAveragePooling1D()]\n",
    "\n",
    "model2 = BlackBox(layers=layers1, loss=my_crossE, class_weight=None, metrics=my_metrics)\n",
    "model2.summary()"
   ]
  },
  {
   "cell_type": "markdown",
   "metadata": {},
   "source": [
    "---"
   ]
  },
  {
   "cell_type": "code",
   "execution_count": null,
   "metadata": {},
   "outputs": [],
   "source": []
  }
 ],
 "metadata": {
  "kernelspec": {
   "display_name": "Python 3",
   "language": "python",
   "name": "python3"
  },
  "language_info": {
   "codemirror_mode": {
    "name": "ipython",
    "version": 3
   },
   "file_extension": ".py",
   "mimetype": "text/x-python",
   "name": "python",
   "nbconvert_exporter": "python",
   "pygments_lexer": "ipython3",
   "version": "3.6.7"
  }
 },
 "nbformat": 4,
 "nbformat_minor": 2
}
