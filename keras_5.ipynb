{
 "cells": [
  {
   "cell_type": "code",
   "execution_count": 1,
   "metadata": {},
   "outputs": [
    {
     "name": "stderr",
     "output_type": "stream",
     "text": [
      "Using TensorFlow backend.\n"
     ]
    }
   ],
   "source": [
    "import os\n",
    "import pandas as pd\n",
    "import numpy as np\n",
    "import pickle\n",
    "\n",
    "from sklearn.utils.class_weight import compute_class_weight\n",
    "from keras.utils import to_categorical\n",
    "\n",
    "from keras.models import Sequential\n",
    "from keras.layers import *\n",
    "\n",
    "from keras import optimizers\n",
    "from keras.callbacks import ReduceLROnPlateau, EarlyStopping, Callback\n",
    "\n",
    "import matplotlib.pyplot as plt\n",
    "plt.style.use('seaborn')"
   ]
  },
  {
   "cell_type": "markdown",
   "metadata": {},
   "source": [
    "---"
   ]
  },
  {
   "cell_type": "markdown",
   "metadata": {},
   "source": [
    "### First, copy-paste the setup from the notebook that produced the pretrained classweights.\n",
    "This time we load also the test-data into memory\n",
    "(Note to self: learn how to make imports from other notebooks...)"
   ]
  },
  {
   "cell_type": "code",
   "execution_count": 2,
   "metadata": {},
   "outputs": [
    {
     "data": {
      "text/plain": [
       "{'unique_words': 277303,\n",
       " 'num_words': 277304,\n",
       " 'padded_length': 679,\n",
       " 'n_classes': 6,\n",
       " 'class_weights': array([ 1.26825655,  0.72736371,  0.27602776, 13.23801959, 30.29201502,\n",
       "         9.49559404])}"
      ]
     },
     "execution_count": 2,
     "metadata": {},
     "output_type": "execute_result"
    }
   ],
   "source": [
    "global_params = pickle.load(open(\"global_params.p\", \"rb\"))\n",
    "unique_words = global_params['unique_words']\n",
    "num_words = global_params['num_words']\n",
    "padded_length = global_params['padded_length']\n",
    "n_classes = global_params['n_classes']\n",
    "class_weights = global_params['class_weights']\n",
    "\n",
    "global_params"
   ]
  },
  {
   "cell_type": "code",
   "execution_count": 5,
   "metadata": {},
   "outputs": [],
   "source": [
    "n_sample=100_000"
   ]
  },
  {
   "cell_type": "code",
   "execution_count": 6,
   "metadata": {},
   "outputs": [],
   "source": [
    "X_train = np.load(os.path.join(\"data\", \"Kdata\", \"X_train.npy\"))[-n_sample:]\n",
    "y_train = np.load(os.path.join(\"data\", \"Kdata\", \"y_train.npy\"))[-n_sample:]\n",
    "X_val = np.load(os.path.join(\"data\", \"Kdata\", \"X_val.npy\"))[-n_sample:]\n",
    "y_val = np.load(os.path.join(\"data\", \"Kdata\", \"y_val.npy\"))[-n_sample:]\n",
    "X_test = np.load(os.path.join(\"data\", \"Kdata\", \"X_test.npy\"))\n",
    "y_test = np.load(os.path.join(\"data\", \"Kdata\", \"y_test.npy\"))"
   ]
  },
  {
   "cell_type": "markdown",
   "metadata": {},
   "source": [
    "### Start of boilerplate"
   ]
  },
  {
   "cell_type": "code",
   "execution_count": 14,
   "metadata": {},
   "outputs": [],
   "source": [
    "from keras import backend as K\n",
    "\n",
    "# Custom metrics.\n",
    "# Note that any metric is computed per batch during training\n",
    "# (hence one needs large batches for it to make sense).\n",
    "# Also, there is the implicit 0.5 treshold in the K.round function below\n",
    "\n",
    "def macroPrec(y_true, y_pred):\n",
    "    \n",
    "    true_positives = K.sum(K.round(K.clip(y_true * y_pred, 0, 1)), axis=0)\n",
    "    positives = K.sum(K.round(y_pred), axis=0)\n",
    "    precision = true_positives / (positives + K.epsilon())\n",
    "\n",
    "    macroPrec = K.mean( precision )\n",
    "    \n",
    "    return macroPrec\n",
    "\n",
    "\n",
    "def macroRecall(y_true, y_pred):\n",
    "    \n",
    "    true_positives = K.sum(K.round(K.clip(y_true * y_pred, 0, 1)), axis=0)\n",
    "    actual_ones = K.sum(K.round(K.clip(y_true, 0, 1)), axis=0)\n",
    "    recall = true_positives / (actual_ones + K.epsilon())\n",
    "\n",
    "    macroRecall = K.mean( recall )\n",
    "    \n",
    "    return macroRecall\n",
    "\n",
    "\n",
    "def macroF1(y_true, y_pred):\n",
    "\n",
    "    true_positives = K.sum(K.round(K.clip(y_true * y_pred, 0, 1)), axis=0)\n",
    "    \n",
    "    actual_ones = K.sum(K.round(K.clip(y_true, 0, 1)), axis=0)\n",
    "    recall = true_positives / (actual_ones + K.epsilon())\n",
    "\n",
    "    positives = K.sum(K.round(K.clip(y_pred, 0, 1)), axis=0)\n",
    "    precision = true_positives / (positives + K.epsilon())\n",
    "    \n",
    "    macroF1 = 2 * K.mean( precision*recall / (precision + recall + K.epsilon()) )\n",
    "    \n",
    "    return macroF1\n",
    "\n",
    "\n",
    "\n",
    "# Custom loss functions\n",
    "# No clippping or rounding as those are not differentiable\n",
    "# Note to self: these functions are already taking into account class imbalances, so remeber\n",
    "# not to set the class_weight argument in fitting method when using them as the loss \n",
    "\n",
    "# semi macroF1\n",
    "def fuzzy_macroF1_flip(y_true, y_pred):\n",
    "\n",
    "    true_positives = K.sum(y_true * y_pred, axis=0)\n",
    "    \n",
    "    actual_ones = K.sum(y_true, axis=0)\n",
    "    recall = true_positives / (actual_ones + K.epsilon())\n",
    "\n",
    "    positives = K.sum(y_pred, axis=0)\n",
    "    precision = true_positives / (positives + K.epsilon())\n",
    "    \n",
    "    macroF1 = 2 * K.mean( precision*recall / (precision + recall + K.epsilon()) ) \n",
    "    \n",
    "    return 1-macroF1\n",
    "\n",
    "\n",
    "# # weighted categorical crossentropy\n",
    "# def my_crossE(y_true, y_pred):\n",
    "    \n",
    "#     class_entropy = K.sum(y_true * K.log(y_pred+K.epsilon()), axis=0)\n",
    "#     weighted_entropy = K.mean(class_weights * class_entropy)\n",
    "#     return -4E-4 * weighted_entropy  # arbitrary coefficient to make it close to [0-1] interval\n",
    "\n",
    "\n",
    "# take average of the last two, because why not\n",
    "def my_loss(y_true, y_pred):\n",
    "    # return 0.5*(fuzzy_macroF1_flip(y_true, y_pred) + my_crossE(y_true, y_pred))\n",
    "    \n",
    "    true_positives = K.sum(y_true * y_pred, axis=0)\n",
    "    \n",
    "    actual_ones = K.sum(y_true, axis=0)\n",
    "    recall = true_positives / (actual_ones + K.epsilon())\n",
    "\n",
    "    positives = K.sum(y_pred, axis=0)\n",
    "    precision = true_positives / (positives + K.epsilon())\n",
    "    \n",
    "    macroF1p2 = K.mean( precision*recall / (precision + recall + K.epsilon()) )\n",
    "    \n",
    "    class_entropy = K.sum(y_true * K.log(y_pred+K.epsilon()), axis=0)\n",
    "    weighted_entropy = K.mean(class_weights * class_entropy)\n",
    "    \n",
    "    return 0.5 - macroF1p2 - 2E-4 * weighted_entropy"
   ]
  },
  {
   "cell_type": "code",
   "execution_count": 41,
   "metadata": {},
   "outputs": [],
   "source": [
    "# auxiliary functions\n",
    "    \n",
    "\n",
    "# to plot the learning history,\n",
    "# i.e. loss and metrics on each train_batch and validation_batch\n",
    "def plot_history(history):\n",
    "    \n",
    "    plt.figure(figsize=(18, 5))\n",
    "    \n",
    "    loss = history['loss']\n",
    "    val_loss = history['val_loss']\n",
    "    x = range(1, len(loss) + 1)\n",
    "    \n",
    "    plt.subplot(1, 3, 1)    \n",
    "    plt.plot(x, loss, 'ob', label='Training loss')\n",
    "    plt.plot(x, val_loss, '-b', label='Validation loss')\n",
    "    plt.title('Training and val losses') \n",
    "    plt.legend()\n",
    "    \n",
    "    all_metrics = np.array(list(set(history.keys()) - set(['loss', 'val_loss', 'lr'])))\n",
    "    metrics = all_metrics[[not metric.startswith('val_') for metric in all_metrics]]\n",
    "    plt.subplot(1, 3, 2)\n",
    "    markers = ['b', 'r',  'g', 'y', 'm', 'c', 'k']\n",
    "    marker = zip(markers, markers)\n",
    "    for metric in metrics:\n",
    "        results = history[metric]\n",
    "        val_results = history['val_'+metric]\n",
    "        mark1, mark2 = next(marker)\n",
    "        plt.plot(x, results, 'o'+mark1, label=metric)\n",
    "        plt.plot(x, val_results, '-'+mark2, label='Validation '+metric)\n",
    "        plt.title('Training and val metrics')\n",
    "    plt.legend()\n",
    "    \n",
    "    plt.subplot(1, 3, 3)\n",
    "    lr = history['lr'] # learning rate\n",
    "    plt.plot(x, lr, 'k', label='Learning rate')\n",
    "    plt.title('Learning rate')  \n",
    "    plt.legend()\n",
    "    \n",
    "\n",
    "# choose callbacks to be given in model.fit(...)\n",
    "class WakeEmbedding(Callback):\n",
    "    \n",
    "    def __init__(self, rel_lr_treshold):\n",
    "        self.rel_lr_treshold = rel_lr_treshold\n",
    "    \n",
    "    def on_train_begin(self, logs={}):\n",
    "        self.init_lr =  K.eval(self.model.optimizer.lr)\n",
    "        \n",
    "    def on_epoch_begin(self, epoch, logs={}):\n",
    "        lr =  K.eval(self.model.optimizer.lr)\n",
    "        if (lr / self.init_lr) <= self.rel_lr_treshold:\n",
    "            self.model.layers[0].trainable = True\n",
    "        print(\"Embedding trainable:\", self.model.layers[0].trainable)\n",
    "\n",
    "\n",
    "def callbacks(plateau_factor=0.5, plateau_patience=1,\\\n",
    "              early_s_patience = 2,\\\n",
    "              waking0th=True, wake_treshold = 0.5\n",
    "             ):\n",
    "    \n",
    "    callbacks = [ReduceLROnPlateau(factor=plateau_factor,\\\n",
    "                                   monitor='val_macroF1', mode='max', patience = plateau_patience),\n",
    "                EarlyStopping(monitor='val_macroF1', mode='max', patience=early_s_patience)\n",
    "               ]\n",
    "    \n",
    "    return callbacks + [WakeEmbedding(wake_treshold)] if waking0th else callbacks\n",
    "\n",
    "\n",
    "# callbacks = [ReduceLROnPlateau(factor=0.5,\\\n",
    "#                                monitor='val_macroF1', mode='max', patience = 1),\n",
    "#              EarlyStopping(monitor='val_macroF1', mode='max', patience=2),\n",
    "#             WakeEmbedding(0.5)\n",
    "#            ]\n",
    "\n",
    "\n",
    "# some other global learning settings\n",
    "\n",
    "batch_size = 3000\n",
    "# defualt lr = 0.001\n",
    "optimizer = optimizers.Adam(lr=0.002, beta_1=0.9, beta_2=0.999,\\\n",
    "                            epsilon=None, decay=0.0, amsgrad=False)\n",
    "my_metrics = [macroPrec, macroF1, macroRecall] #, my_crossE, fuzzy_macroF1_flip, my_loss]"
   ]
  },
  {
   "cell_type": "markdown",
   "metadata": {},
   "source": [
    "Take not of the ***WakeEmbedding()*** callback, which is meant to unfreeze the embedding layer when the *ReduceOnPlateau* drops the learning rate by a certain factor (possibly already directly after the firts intervention of *ReduceOP*)."
   ]
  },
  {
   "cell_type": "markdown",
   "metadata": {},
   "source": [
    "---"
   ]
  },
  {
   "cell_type": "code",
   "execution_count": null,
   "metadata": {},
   "outputs": [],
   "source": [
    "# the workhorse\n",
    "\n",
    "class BlackBox():\n",
    "    \n",
    "    def __init__(self, layers, loss, metrics, callbacks=callbacks(), class_weight=class_weights, epochs=3,\\\n",
    "                 embedd = None, embedd_dims=[None]*3, train_weights=False, mask_zeros=True):\n",
    "        \n",
    "        self.layers = layers\n",
    "        self.loss = loss\n",
    "        self.metrics = metrics\n",
    "        self.callbacks = callbacks\n",
    "        self.class_weight = class_weight\n",
    "        self.epochs = epochs\n",
    "        self.train_weigts = train_weights\n",
    "        self.mask_zeros = mask_zeros\n",
    "        self.history = None\n",
    "        self.test_results = None\n",
    "        \n",
    "        self.model = Sequential()\n",
    "        if embedd:\n",
    "            self.input_dim = embedd_dims[0] # num_words\n",
    "            self.output_dim = embedd_dims[1] # dimension of the embedding space\n",
    "            self.input_length = embedd_dims[2] # padded_length\n",
    "            with open(embedd, \"rb\") as f:\n",
    "                self.embedd_weights = pickle.load(f)\n",
    "            \n",
    "            self.model.add(Embedding(input_dim=self.input_dim,\\\n",
    "                                     output_dim=self.output_dim,\\\n",
    "                                     input_length=self.input_length,\\\n",
    "                                     weights=self.embedd_weights,\\\n",
    "                                     trainable=self.train_weigts,\\\n",
    "                                     mask_zero=self.mask_zeros\n",
    "                                    )\n",
    "                          )\n",
    "            self.model.layers[0].trainable = self.train_weigts  # szczeżonego panbug szczeże\n",
    "            \n",
    "        for layer in layers:\n",
    "            self.model.add(layer)\n",
    "            \n",
    "        self.model.add(Dense(n_classes, activation='softmax'))\n",
    "        self.model.compile(loss=self.loss, optimizer=optimizer, metrics=self.metrics)\n",
    "    \n",
    "    def summary(self):\n",
    "        return self.model.summary()\n",
    "    \n",
    "    def fit(self, epochs=50):\n",
    "        self.history = self.model.fit(\n",
    "            X_train, y_train,\n",
    "            class_weight=self.class_weight,\n",
    "            epochs=self.epochs,\n",
    "            batch_size=batch_size,\n",
    "            #validation_split=0.1,\n",
    "            validation_data=(X_val, y_val),\n",
    "            callbacks=self.callbacks,\n",
    "            verbose = 1        \n",
    "            )\n",
    "        \n",
    "    def reset(self):\n",
    "        \n",
    "        self.history = None\n",
    "        self.test_results = None\n",
    "        self.model.compile(loss=self.loss, optimizer=optimizer, metrics=self.metrics)\n",
    "        \n",
    "    def evaluate(self, X_test, y_test):\n",
    "        print(f'Loss function: {self.loss.__name__ if callable(self.loss) else self.loss}. Metrics: {[metric.__name__ if callable(metric) else metric for metric in self.metrics]}')\n",
    "        print(\"Predicting for X_test, comparing with y_test\")\n",
    "        self.test_results = self.model.evaluate(X_test, y_test)\n",
    "        return self.test_results\n",
    "    \n",
    "    def plot(self):\n",
    "        plot_history(self.history.history)\n",
    "        \n",
    "    def save_embedd(self, name):\n",
    "        file = os.path.join(\"my_embeddings\", f\"weights_{name}.p\")\n",
    "        with open(file, 'wb') as f:\n",
    "            pickle.dump(self.model.layers[0].get_weights(), f)\n",
    "        \n",
    "    def Ksave(self, name):\n",
    "        file = os.path.join(\"my_embeddings\", f\"Kmodel_from_{name}.h5\")\n",
    "        self.model.save(file)\n",
    "    \n",
    "    def save_hist(self, name):\n",
    "        file = os.path.join(\"my_embeddings\", f\"history_of_{name}.p\")\n",
    "        with open(file, 'w') as f:\n",
    "            json.dump(self.history.history, f) \n"
   ]
  },
  {
   "cell_type": "code",
   "execution_count": 31,
   "metadata": {},
   "outputs": [],
   "source": [
    "custom_objects={'macroPrec': macroPrec,\\\n",
    "                'macroF1': macroF1,\\\n",
    "                'macroRecall': macroRecall,\\\n",
    "#                 'my_crossE': my_crossE,\\\n",
    "                 'fuzzy_macroF1_flip': fuzzy_macroF1_flip,\\\n",
    "                'my_loss': my_loss\n",
    "               }"
   ]
  },
  {
   "cell_type": "markdown",
   "metadata": {},
   "source": [
    "### End of boilerplate"
   ]
  },
  {
   "cell_type": "markdown",
   "metadata": {},
   "source": [
    "---\n",
    "---"
   ]
  },
  {
   "cell_type": "code",
   "execution_count": 12,
   "metadata": {},
   "outputs": [],
   "source": [
    "# embedd_file_1 = os.path.join(\"my_embeddings\", \"weights_50dim_GlblAvg_CatCrossE_10epochs.p\")\n",
    "# embedd_file_2 = os.path.join(\"my_embeddings\", \"weights_50dim_GlblAvg_F1flip_10epochs.p\")\n",
    "# embedd_file_3 = os.path.join(\"my_embeddings\", \"weights_50dim_GlblAvg_MyLoss_10epochs.p\")"
   ]
  },
  {
   "cell_type": "markdown",
   "metadata": {},
   "source": [
    "---\n",
    "---"
   ]
  },
  {
   "cell_type": "markdown",
   "metadata": {},
   "source": [
    "# Recurrent NNets"
   ]
  },
  {
   "cell_type": "markdown",
   "metadata": {},
   "source": [
    "### Summary of final *val_macroF1*  obtained by the keras' fully-connected RNNs:\n",
    "* trained on the 100k sample\n",
    "* single-directional (-->) on zero-prepadded sequences (\\[000...0123\\]), 100dim SimpleRNN\n",
    "* the *mask_zero*=True is set (both here and in creating the embedding)\n",
    "* no more than 20 epochs (not counting pretraining the embedding)\n",
    "* large *batch_size* argument\n",
    "\n",
    "Using the *pretrained embedding* should be a considerable boost, since it was trained on the whole train-data (500k)\n",
    "\n",
    "$\\begin{array}{c|cc}\n",
    "   {val\\_macroF1} & \\text{cat. crossentr.} & \\textit{my_loss} \\\\\n",
    "  \\hline\n",
    "  \\text{fresh embedding}   & 0\\% & 49\\% \\\\\n",
    "    \\text{pretrained embedd} & 44\\% & 66\\% \\\\\n",
    "\\end{array}$"
   ]
  },
  {
   "cell_type": "markdown",
   "metadata": {},
   "source": [
    "---"
   ]
  },
  {
   "cell_type": "markdown",
   "metadata": {},
   "source": [
    "### 1a.\n",
    "**No pretrained embedding**. Using the standard loss function, **categorical crossentropy**, with explicit **class_weight** argument. In other cases we will use early-stopping but here let's just let it run for 8 epochs."
   ]
  },
  {
   "cell_type": "code",
   "execution_count": 82,
   "metadata": {},
   "outputs": [
    {
     "name": "stdout",
     "output_type": "stream",
     "text": [
      "_________________________________________________________________\n",
      "Layer (type)                 Output Shape              Param #   \n",
      "=================================================================\n",
      "embedding_18 (Embedding)     (None, 679, 50)           13865200  \n",
      "_________________________________________________________________\n",
      "simple_rnn_19 (SimpleRNN)    (None, 100)               15100     \n",
      "_________________________________________________________________\n",
      "dense_20 (Dense)             (None, 6)                 606       \n",
      "=================================================================\n",
      "Total params: 13,880,906\n",
      "Trainable params: 13,880,906\n",
      "Non-trainable params: 0\n",
      "_________________________________________________________________\n"
     ]
    }
   ],
   "source": [
    "layers1a = [Embedding(input_dim=num_words, output_dim=50, input_length=padded_length, mask_zero=True),\n",
    "           SimpleRNN(100, dropout=0.1, recurrent_dropout=0.1),\n",
    "           ]\n",
    "\n",
    "model1a = BlackBox(layers=layers1a, loss=\"categorical_crossentropy\", class_weight=class_weights,\\\n",
    "                   metrics=my_metrics,\\\n",
    "                   epochs=8,\\\n",
    "                   callbacks=None\n",
    "                 )\n",
    "\n",
    "model1a.summary()"
   ]
  },
  {
   "cell_type": "code",
   "execution_count": 83,
   "metadata": {},
   "outputs": [
    {
     "name": "stdout",
     "output_type": "stream",
     "text": [
      "Train on 100000 samples, validate on 100000 samples\n",
      "Epoch 1/8\n",
      "100000/100000 [==============================] - 671s 7ms/step - loss: 1.8547 - macroPrec: 0.0250 - macroF1: 1.4666e-04 - macroRecall: 7.3631e-05 - val_loss: 1.8139 - val_macroPrec: 0.0000e+00 - val_macroF1: 0.0000e+00 - val_macroRecall: 0.0000e+00\n",
      "Epoch 2/8\n",
      "100000/100000 [==============================] - 728s 7ms/step - loss: 1.8506 - macroPrec: 0.0050 - macroF1: 5.6022e-06 - macroRecall: 2.8027e-06 - val_loss: 1.8128 - val_macroPrec: 0.0000e+00 - val_macroF1: 0.0000e+00 - val_macroRecall: 0.0000e+00\n",
      "Epoch 3/8\n",
      "100000/100000 [==============================] - 767s 8ms/step - loss: 1.8488 - macroPrec: 0.0275 - macroF1: 8.2892e-05 - macroRecall: 4.1567e-05 - val_loss: 1.8120 - val_macroPrec: 0.0000e+00 - val_macroF1: 0.0000e+00 - val_macroRecall: 0.0000e+00\n",
      "Epoch 4/8\n",
      "100000/100000 [==============================] - 734s 7ms/step - loss: 1.8479 - macroPrec: 0.0150 - macroF1: 1.0232e-04 - macroRecall: 5.1358e-05 - val_loss: 1.8112 - val_macroPrec: 0.0000e+00 - val_macroF1: 0.0000e+00 - val_macroRecall: 0.0000e+00\n",
      "Epoch 5/8\n",
      "100000/100000 [==============================] - 717s 7ms/step - loss: 1.8468 - macroPrec: 0.0050 - macroF1: 2.6596e-05 - macroRecall: 1.3333e-05 - val_loss: 1.8106 - val_macroPrec: 0.0000e+00 - val_macroF1: 0.0000e+00 - val_macroRecall: 0.0000e+00\n",
      "Epoch 6/8\n",
      "100000/100000 [==============================] - 848s 8ms/step - loss: 1.8474 - macroPrec: 0.0175 - macroF1: 5.9596e-05 - macroRecall: 2.9889e-05 - val_loss: 1.8099 - val_macroPrec: 0.0000e+00 - val_macroF1: 0.0000e+00 - val_macroRecall: 0.0000e+00\n",
      "Epoch 7/8\n",
      "100000/100000 [==============================] - 812s 8ms/step - loss: 1.8480 - macroPrec: 0.0300 - macroF1: 9.7727e-05 - macroRecall: 4.9024e-05 - val_loss: 1.8094 - val_macroPrec: 0.0000e+00 - val_macroF1: 0.0000e+00 - val_macroRecall: 0.0000e+00\n",
      "Epoch 8/8\n",
      "100000/100000 [==============================] - 755s 8ms/step - loss: 1.8445 - macroPrec: 0.0250 - macroF1: 7.6672e-05 - macroRecall: 3.8414e-05 - val_loss: 1.8088 - val_macroPrec: 0.0000e+00 - val_macroF1: 0.0000e+00 - val_macroRecall: 0.0000e+00\n"
     ]
    }
   ],
   "source": [
    "model1a.fit()"
   ]
  },
  {
   "cell_type": "code",
   "execution_count": 88,
   "metadata": {},
   "outputs": [
    {
     "ename": "KeyError",
     "evalue": "'lr'",
     "output_type": "error",
     "traceback": [
      "\u001b[1;31m---------------------------------------------------------------------------\u001b[0m",
      "\u001b[1;31mKeyError\u001b[0m                                  Traceback (most recent call last)",
      "\u001b[1;32m<ipython-input-88-f9309e56a3aa>\u001b[0m in \u001b[0;36m<module>\u001b[1;34m\u001b[0m\n\u001b[1;32m----> 1\u001b[1;33m \u001b[0mmodel1a\u001b[0m\u001b[1;33m.\u001b[0m\u001b[0mplot\u001b[0m\u001b[1;33m(\u001b[0m\u001b[1;33m)\u001b[0m\u001b[1;33m\u001b[0m\u001b[1;33m\u001b[0m\u001b[0m\n\u001b[0m",
      "\u001b[1;32m<ipython-input-61-8c6c57019289>\u001b[0m in \u001b[0;36mplot\u001b[1;34m(self)\u001b[0m\n\u001b[0;32m     68\u001b[0m \u001b[1;33m\u001b[0m\u001b[0m\n\u001b[0;32m     69\u001b[0m     \u001b[1;32mdef\u001b[0m \u001b[0mplot\u001b[0m\u001b[1;33m(\u001b[0m\u001b[0mself\u001b[0m\u001b[1;33m)\u001b[0m\u001b[1;33m:\u001b[0m\u001b[1;33m\u001b[0m\u001b[1;33m\u001b[0m\u001b[0m\n\u001b[1;32m---> 70\u001b[1;33m         \u001b[0mplot_history\u001b[0m\u001b[1;33m(\u001b[0m\u001b[0mself\u001b[0m\u001b[1;33m.\u001b[0m\u001b[0mhistory\u001b[0m\u001b[1;33m.\u001b[0m\u001b[0mhistory\u001b[0m\u001b[1;33m)\u001b[0m\u001b[1;33m\u001b[0m\u001b[1;33m\u001b[0m\u001b[0m\n\u001b[0m\u001b[0;32m     71\u001b[0m \u001b[1;33m\u001b[0m\u001b[0m\n\u001b[0;32m     72\u001b[0m     \u001b[1;32mdef\u001b[0m \u001b[0msave_embedd\u001b[0m\u001b[1;33m(\u001b[0m\u001b[0mself\u001b[0m\u001b[1;33m,\u001b[0m \u001b[0mname\u001b[0m\u001b[1;33m)\u001b[0m\u001b[1;33m:\u001b[0m\u001b[1;33m\u001b[0m\u001b[1;33m\u001b[0m\u001b[0m\n",
      "\u001b[1;32m<ipython-input-41-d03fe322a935>\u001b[0m in \u001b[0;36mplot_history\u001b[1;34m(history)\u001b[0m\n\u001b[0;32m     33\u001b[0m \u001b[1;33m\u001b[0m\u001b[0m\n\u001b[0;32m     34\u001b[0m     \u001b[0mplt\u001b[0m\u001b[1;33m.\u001b[0m\u001b[0msubplot\u001b[0m\u001b[1;33m(\u001b[0m\u001b[1;36m1\u001b[0m\u001b[1;33m,\u001b[0m \u001b[1;36m3\u001b[0m\u001b[1;33m,\u001b[0m \u001b[1;36m3\u001b[0m\u001b[1;33m)\u001b[0m\u001b[1;33m\u001b[0m\u001b[1;33m\u001b[0m\u001b[0m\n\u001b[1;32m---> 35\u001b[1;33m     \u001b[0mlr\u001b[0m \u001b[1;33m=\u001b[0m \u001b[0mhistory\u001b[0m\u001b[1;33m[\u001b[0m\u001b[1;34m'lr'\u001b[0m\u001b[1;33m]\u001b[0m \u001b[1;31m# learning rate\u001b[0m\u001b[1;33m\u001b[0m\u001b[1;33m\u001b[0m\u001b[0m\n\u001b[0m\u001b[0;32m     36\u001b[0m     \u001b[0mplt\u001b[0m\u001b[1;33m.\u001b[0m\u001b[0mplot\u001b[0m\u001b[1;33m(\u001b[0m\u001b[0mx\u001b[0m\u001b[1;33m,\u001b[0m \u001b[0mlr\u001b[0m\u001b[1;33m,\u001b[0m \u001b[1;34m'k'\u001b[0m\u001b[1;33m,\u001b[0m \u001b[0mlabel\u001b[0m\u001b[1;33m=\u001b[0m\u001b[1;34m'Learning rate'\u001b[0m\u001b[1;33m)\u001b[0m\u001b[1;33m\u001b[0m\u001b[1;33m\u001b[0m\u001b[0m\n\u001b[0;32m     37\u001b[0m     \u001b[0mplt\u001b[0m\u001b[1;33m.\u001b[0m\u001b[0mtitle\u001b[0m\u001b[1;33m(\u001b[0m\u001b[1;34m'Learning rate'\u001b[0m\u001b[1;33m)\u001b[0m\u001b[1;33m\u001b[0m\u001b[1;33m\u001b[0m\u001b[0m\n",
      "\u001b[1;31mKeyError\u001b[0m: 'lr'"
     ]
    },
    {
     "data": {
      "image/png": "[encoded data removed]",
      "text/plain": [
       "<Figure size 1296x360 with 3 Axes>"
      ]
     },
     "metadata": {
      "needs_background": "light"
     },
     "output_type": "display_data"
    }
   ],
   "source": [
    "model1a.plot()"
   ]
  },
  {
   "cell_type": "markdown",
   "metadata": {},
   "source": [
    "### Commentary\n",
    "That's stunningly bad. The categorical cross-entropy goes down slowly and, worst of all, the recall (and consequently the F1 as well) cannot get up at all. "
   ]
  },
  {
   "cell_type": "markdown",
   "metadata": {},
   "source": [
    "---"
   ]
  },
  {
   "cell_type": "markdown",
   "metadata": {},
   "source": [
    "### 1b.\n",
    "Now using the standard loss function, **categorical crossentropy**, with explicit **class_weight** argument,\n",
    "**and the pretrained embedding** (produced by the same loss function)."
   ]
  },
  {
   "cell_type": "code",
   "execution_count": 64,
   "metadata": {},
   "outputs": [
    {
     "name": "stdout",
     "output_type": "stream",
     "text": [
      "_________________________________________________________________\n",
      "Layer (type)                 Output Shape              Param #   \n",
      "=================================================================\n",
      "embedding_13 (Embedding)     (None, 679, 50)           13865200  \n",
      "_________________________________________________________________\n",
      "simple_rnn_14 (SimpleRNN)    (None, 100)               15100     \n",
      "_________________________________________________________________\n",
      "dense_15 (Dense)             (None, 6)                 606       \n",
      "=================================================================\n",
      "Total params: 13,880,906\n",
      "Trainable params: 15,706\n",
      "Non-trainable params: 13,865,200\n",
      "_________________________________________________________________\n"
     ]
    }
   ],
   "source": [
    "embedd_file = os.path.join(\"my_embeddings\", \"weights_50dim_GlblAvg_CatCrossE_10epochs.p\")\n",
    "\n",
    "layers1b = [SimpleRNN(100, dropout=0.1, recurrent_dropout=0.1),\n",
    "           ]\n",
    "\n",
    "model1b = BlackBox(layers=layers1b, loss=\"categorical_crossentropy\", class_weight=class_weights,\\\n",
    "                   metrics=my_metrics,\\\n",
    "                   epochs=20,\\\n",
    "                   embedd = embedd_file,\\\n",
    "                   embedd_dims=[num_words, 50, padded_length]\n",
    "                  )\n",
    "model1b.summary()"
   ]
  },
  {
   "cell_type": "code",
   "execution_count": 65,
   "metadata": {},
   "outputs": [
    {
     "name": "stdout",
     "output_type": "stream",
     "text": [
      "Train on 100000 samples, validate on 100000 samples\n",
      "Epoch 1/20\n",
      "Embedding trainable: False\n",
      "100000/100000 [==============================] - 747s 7ms/step - loss: 1.1372 - macroPrec: 0.3529 - macroF1: 0.1247 - macroRecall: 0.1168 - val_loss: 0.7513 - val_macroPrec: 0.4993 - val_macroF1: 0.2338 - val_macroRecall: 0.2085\n",
      "Epoch 2/20\n",
      "Embedding trainable: False\n",
      "100000/100000 [==============================] - 746s 7ms/step - loss: 0.6897 - macroPrec: 0.5067 - macroF1: 0.2992 - macroRecall: 0.2600 - val_loss: 0.4927 - val_macroPrec: 0.4816 - val_macroF1: 0.3907 - val_macroRecall: 0.3608\n",
      "Epoch 3/20\n",
      "Embedding trainable: False\n",
      "100000/100000 [==============================] - 748s 7ms/step - loss: 0.5430 - macroPrec: 0.5042 - macroF1: 0.3906 - macroRecall: 0.3586 - val_loss: 0.3994 - val_macroPrec: 0.4576 - val_macroF1: 0.4275 - val_macroRecall: 0.4146\n",
      "Epoch 4/20\n",
      "Embedding trainable: False\n",
      "100000/100000 [==============================] - 727s 7ms/step - loss: 0.5216 - macroPrec: 0.4695 - macroF1: 0.4087 - macroRecall: 0.3953 - val_loss: 0.3950 - val_macroPrec: 0.4479 - val_macroF1: 0.4360 - val_macroRecall: 0.4379\n",
      "Epoch 5/20\n",
      "Embedding trainable: False\n",
      "100000/100000 [==============================] - 713s 7ms/step - loss: 0.5002 - macroPrec: 0.4506 - macroF1: 0.4087 - macroRecall: 0.3946 - val_loss: 0.3813 - val_macroPrec: 0.4471 - val_macroF1: 0.4367 - val_macroRecall: 0.4357\n",
      "Epoch 6/20\n",
      "Embedding trainable: False\n",
      "100000/100000 [==============================] - 738s 7ms/step - loss: 0.4764 - macroPrec: 0.4824 - macroF1: 0.4188 - macroRecall: 0.4070 - val_loss: 0.3763 - val_macroPrec: 0.4478 - val_macroF1: 0.4379 - val_macroRecall: 0.4365\n",
      "Epoch 7/20\n",
      "Embedding trainable: False\n",
      "100000/100000 [==============================] - 740s 7ms/step - loss: 0.4704 - macroPrec: 0.4672 - macroF1: 0.4178 - macroRecall: 0.4082 - val_loss: 0.3748 - val_macroPrec: 0.4466 - val_macroF1: 0.4382 - val_macroRecall: 0.4382\n",
      "Epoch 8/20\n",
      "Embedding trainable: False\n",
      "100000/100000 [==============================] - 722s 7ms/step - loss: 0.4638 - macroPrec: 0.4964 - macroF1: 0.4227 - macroRecall: 0.4126 - val_loss: 0.3694 - val_macroPrec: 0.4527 - val_macroF1: 0.4406 - val_macroRecall: 0.4407\n",
      "Epoch 9/20\n",
      "Embedding trainable: False\n",
      "100000/100000 [==============================] - 708s 7ms/step - loss: 0.4603 - macroPrec: 0.4892 - macroF1: 0.4214 - macroRecall: 0.4111 - val_loss: 0.3700 - val_macroPrec: 0.4626 - val_macroF1: 0.4408 - val_macroRecall: 0.4396\n",
      "Epoch 10/20\n",
      "Embedding trainable: False\n",
      "100000/100000 [==============================] - 712s 7ms/step - loss: 0.4505 - macroPrec: 0.4949 - macroF1: 0.4246 - macroRecall: 0.4144 - val_loss: 0.3695 - val_macroPrec: 0.4687 - val_macroF1: 0.4403 - val_macroRecall: 0.4371\n",
      "Epoch 11/20\n",
      "Embedding trainable: True\n",
      "100000/100000 [==============================] - 713s 7ms/step - loss: 0.4509 - macroPrec: 0.5166 - macroF1: 0.4266 - macroRecall: 0.4158 - val_loss: 0.3649 - val_macroPrec: 0.4606 - val_macroF1: 0.4412 - val_macroRecall: 0.4430\n",
      "Epoch 12/20\n",
      "Embedding trainable: True\n",
      "100000/100000 [==============================] - 706s 7ms/step - loss: 0.4558 - macroPrec: 0.4793 - macroF1: 0.4240 - macroRecall: 0.4208 - val_loss: 0.3731 - val_macroPrec: 0.4617 - val_macroF1: 0.4401 - val_macroRecall: 0.4447\n",
      "Epoch 13/20\n",
      "Embedding trainable: True\n",
      "100000/100000 [==============================] - 706s 7ms/step - loss: 0.4496 - macroPrec: 0.4946 - macroF1: 0.4258 - macroRecall: 0.4209 - val_loss: 0.3691 - val_macroPrec: 0.4710 - val_macroF1: 0.4416 - val_macroRecall: 0.4445\n",
      "Epoch 14/20\n",
      "Embedding trainable: True\n",
      "100000/100000 [==============================] - 706s 7ms/step - loss: 0.4470 - macroPrec: 0.5244 - macroF1: 0.4280 - macroRecall: 0.4212 - val_loss: 0.3678 - val_macroPrec: 0.4643 - val_macroF1: 0.4412 - val_macroRecall: 0.4435\n",
      "Epoch 15/20\n",
      "Embedding trainable: True\n",
      "100000/100000 [==============================] - 700s 7ms/step - loss: 0.4459 - macroPrec: 0.4939 - macroF1: 0.4270 - macroRecall: 0.4203 - val_loss: 0.3679 - val_macroPrec: 0.4642 - val_macroF1: 0.4409 - val_macroRecall: 0.4431\n"
     ]
    }
   ],
   "source": [
    "model1b.fit()"
   ]
  },
  {
   "cell_type": "code",
   "execution_count": 69,
   "metadata": {},
   "outputs": [
    {
     "data": {
      "image/png": "[encoded data removed]",
      "text/plain": [
       "<Figure size 1296x360 with 3 Axes>"
      ]
     },
     "metadata": {
      "needs_background": "light"
     },
     "output_type": "display_data"
    }
   ],
   "source": [
    "model1b.plot()"
   ]
  },
  {
   "cell_type": "markdown",
   "metadata": {},
   "source": [
    "### Commentary\n",
    "Usage of the pretrained ambedding has been visibly helpful but definitely not to a satisfactory level. The highest *val_macroF1* was 44%, reached after 4th epoch and never improved upon. We are stuck at the same plateau as during pretraining the embedding."
   ]
  },
  {
   "cell_type": "markdown",
   "metadata": {},
   "source": [
    "---"
   ]
  },
  {
   "cell_type": "markdown",
   "metadata": {},
   "source": [
    "### 1c.\n",
    "Now we'll use our custom loss function, **my_loss**. This function hits harder when the model assigns low probability to the true class. **class_weight=None**.\n",
    "The **embedding was pretrained** with the same loss function."
   ]
  },
  {
   "cell_type": "code",
   "execution_count": 94,
   "metadata": {},
   "outputs": [
    {
     "name": "stdout",
     "output_type": "stream",
     "text": [
      "_________________________________________________________________\n",
      "Layer (type)                 Output Shape              Param #   \n",
      "=================================================================\n",
      "embedding_20 (Embedding)     (None, 679, 50)           13865200  \n",
      "_________________________________________________________________\n",
      "simple_rnn_21 (SimpleRNN)    (None, 100)               15100     \n",
      "_________________________________________________________________\n",
      "dense_22 (Dense)             (None, 6)                 606       \n",
      "=================================================================\n",
      "Total params: 13,880,906\n",
      "Trainable params: 15,706\n",
      "Non-trainable params: 13,865,200\n",
      "_________________________________________________________________\n"
     ]
    }
   ],
   "source": [
    "embedd_file = os.path.join(\"my_embeddings\", \"weights_50dim_GlblAvg_MyLoss_10epochs.p\")\n",
    "\n",
    "layers1c = [SimpleRNN(100, dropout=0.1, recurrent_dropout=0.1),\n",
    "           ]\n",
    "\n",
    "model1c = BlackBox(layers=layers1c, loss=my_loss, class_weight=None,\\\n",
    "                   metrics=my_metrics,\\\n",
    "                   epochs=20,\\\n",
    "                   embedd = embedd_file,\\\n",
    "                   embedd_dims=[num_words, 50, padded_length]\n",
    "                  )\n",
    "model1c.summary()"
   ]
  },
  {
   "cell_type": "code",
   "execution_count": 97,
   "metadata": {},
   "outputs": [
    {
     "data": {
      "text/plain": [
       "1.2207032e-07"
      ]
     },
     "execution_count": 97,
     "metadata": {},
     "output_type": "execute_result"
    }
   ],
   "source": [
    "K.eval(model1c.model.optimizer.lr)"
   ]
  },
  {
   "cell_type": "code",
   "execution_count": 86,
   "metadata": {},
   "outputs": [
    {
     "name": "stdout",
     "output_type": "stream",
     "text": [
      "Train on 100000 samples, validate on 100000 samples\n",
      "Epoch 1/20\n",
      "Embedding trainable: False\n",
      "100000/100000 [==============================] - 701s 7ms/step - loss: 0.6316 - macroPrec: 0.2228 - macroF1: 0.0165 - macroRecall: 0.0104 - val_loss: 0.6284 - val_macroPrec: 0.2061 - val_macroF1: 0.0115 - val_macroRecall: 0.0070\n",
      "Epoch 2/20\n",
      "Embedding trainable: False\n",
      "100000/100000 [==============================] - 692s 7ms/step - loss: 0.6310 - macroPrec: 0.2276 - macroF1: 0.0160 - macroRecall: 0.0101 - val_loss: 0.6277 - val_macroPrec: 0.2065 - val_macroF1: 0.0117 - val_macroRecall: 0.0071\n",
      "Epoch 3/20\n",
      "Embedding trainable: False\n",
      "100000/100000 [==============================] - 731s 7ms/step - loss: 0.6304 - macroPrec: 0.2280 - macroF1: 0.0162 - macroRecall: 0.0099 - val_loss: 0.6272 - val_macroPrec: 0.2074 - val_macroF1: 0.0120 - val_macroRecall: 0.0072\n",
      "Epoch 4/20\n",
      "Embedding trainable: False\n",
      "100000/100000 [==============================] - 731s 7ms/step - loss: 0.6304 - macroPrec: 0.2174 - macroF1: 0.0177 - macroRecall: 0.0112 - val_loss: 0.6268 - val_macroPrec: 0.2085 - val_macroF1: 0.0122 - val_macroRecall: 0.0073\n",
      "Epoch 5/20\n",
      "Embedding trainable: False\n",
      "100000/100000 [==============================] - 731s 7ms/step - loss: 0.6296 - macroPrec: 0.2427 - macroF1: 0.0181 - macroRecall: 0.0111 - val_loss: 0.6264 - val_macroPrec: 0.2091 - val_macroF1: 0.0124 - val_macroRecall: 0.0074\n",
      "Epoch 6/20\n",
      "Embedding trainable: False\n",
      "100000/100000 [==============================] - 733s 7ms/step - loss: 0.6292 - macroPrec: 0.2433 - macroF1: 0.0177 - macroRecall: 0.0108 - val_loss: 0.6261 - val_macroPrec: 0.2104 - val_macroF1: 0.0126 - val_macroRecall: 0.0076\n",
      "Epoch 7/20\n",
      "Embedding trainable: False\n",
      "100000/100000 [==============================] - 729s 7ms/step - loss: 0.6294 - macroPrec: 0.2450 - macroF1: 0.0171 - macroRecall: 0.0105 - val_loss: 0.6258 - val_macroPrec: 0.2115 - val_macroF1: 0.0129 - val_macroRecall: 0.0077\n",
      "Epoch 8/20\n",
      "Embedding trainable: False\n",
      "100000/100000 [==============================] - 731s 7ms/step - loss: 0.6287 - macroPrec: 0.2437 - macroF1: 0.0176 - macroRecall: 0.0109 - val_loss: 0.6255 - val_macroPrec: 0.2121 - val_macroF1: 0.0132 - val_macroRecall: 0.0079\n",
      "Epoch 9/20\n",
      "Embedding trainable: False\n",
      "100000/100000 [==============================] - 738s 7ms/step - loss: 0.6282 - macroPrec: 0.2194 - macroF1: 0.0167 - macroRecall: 0.0101 - val_loss: 0.6252 - val_macroPrec: 0.2123 - val_macroF1: 0.0134 - val_macroRecall: 0.0080\n",
      "Epoch 10/20\n",
      "Embedding trainable: False\n",
      "100000/100000 [==============================] - 736s 7ms/step - loss: 0.6287 - macroPrec: 0.2299 - macroF1: 0.0183 - macroRecall: 0.0114 - val_loss: 0.6249 - val_macroPrec: 0.2107 - val_macroF1: 0.0136 - val_macroRecall: 0.0081\n",
      "Epoch 11/20\n",
      "Embedding trainable: False\n",
      "100000/100000 [==============================] - 732s 7ms/step - loss: 0.6277 - macroPrec: 0.2192 - macroF1: 0.0180 - macroRecall: 0.0112 - val_loss: 0.6247 - val_macroPrec: 0.2113 - val_macroF1: 0.0138 - val_macroRecall: 0.0082\n",
      "Epoch 12/20\n",
      "Embedding trainable: False\n",
      "100000/100000 [==============================] - 731s 7ms/step - loss: 0.6273 - macroPrec: 0.2540 - macroF1: 0.0194 - macroRecall: 0.0122 - val_loss: 0.6244 - val_macroPrec: 0.2116 - val_macroF1: 0.0139 - val_macroRecall: 0.0083\n",
      "Epoch 13/20\n",
      "Embedding trainable: False\n",
      "100000/100000 [==============================] - 730s 7ms/step - loss: 0.6271 - macroPrec: 0.2548 - macroF1: 0.0199 - macroRecall: 0.0122 - val_loss: 0.6242 - val_macroPrec: 0.2118 - val_macroF1: 0.0140 - val_macroRecall: 0.0083\n",
      "Epoch 14/20\n",
      "Embedding trainable: False\n",
      "100000/100000 [==============================] - 731s 7ms/step - loss: 0.6273 - macroPrec: 0.2357 - macroF1: 0.0196 - macroRecall: 0.0120 - val_loss: 0.6239 - val_macroPrec: 0.2118 - val_macroF1: 0.0141 - val_macroRecall: 0.0084\n",
      "Epoch 15/20\n",
      "Embedding trainable: False\n",
      "100000/100000 [==============================] - 737s 7ms/step - loss: 0.6277 - macroPrec: 0.2335 - macroF1: 0.0186 - macroRecall: 0.0115 - val_loss: 0.6237 - val_macroPrec: 0.2136 - val_macroF1: 0.0144 - val_macroRecall: 0.0086\n",
      "Epoch 16/20\n",
      "Embedding trainable: False\n",
      "100000/100000 [==============================] - 735s 7ms/step - loss: 0.6268 - macroPrec: 0.2173 - macroF1: 0.0190 - macroRecall: 0.0116 - val_loss: 0.6235 - val_macroPrec: 0.2139 - val_macroF1: 0.0145 - val_macroRecall: 0.0086\n",
      "Epoch 17/20\n",
      "Embedding trainable: False\n",
      "100000/100000 [==============================] - 738s 7ms/step - loss: 0.6270 - macroPrec: 0.2404 - macroF1: 0.0185 - macroRecall: 0.0112 - val_loss: 0.6233 - val_macroPrec: 0.2151 - val_macroF1: 0.0148 - val_macroRecall: 0.0088\n",
      "Epoch 18/20\n",
      "Embedding trainable: False\n",
      "100000/100000 [==============================] - 735s 7ms/step - loss: 0.6258 - macroPrec: 0.2549 - macroF1: 0.0203 - macroRecall: 0.0124 - val_loss: 0.6230 - val_macroPrec: 0.2161 - val_macroF1: 0.0151 - val_macroRecall: 0.0090\n",
      "Epoch 19/20\n",
      "Embedding trainable: False\n",
      "100000/100000 [==============================] - 740s 7ms/step - loss: 0.6270 - macroPrec: 0.2436 - macroF1: 0.0183 - macroRecall: 0.0110 - val_loss: 0.6228 - val_macroPrec: 0.2162 - val_macroF1: 0.0152 - val_macroRecall: 0.0090\n",
      "Epoch 20/20\n",
      "Embedding trainable: False\n",
      "100000/100000 [==============================] - 736s 7ms/step - loss: 0.6268 - macroPrec: 0.2378 - macroF1: 0.0203 - macroRecall: 0.0126 - val_loss: 0.6226 - val_macroPrec: 0.2166 - val_macroF1: 0.0153 - val_macroRecall: 0.0091\n"
     ]
    }
   ],
   "source": [
    "model1c.fit()"
   ]
  },
  {
   "cell_type": "code",
   "execution_count": 87,
   "metadata": {},
   "outputs": [
    {
     "data": {
      "image/png": "[encoded data removed]",
      "text/plain": [
       "<Figure size 1296x360 with 3 Axes>"
      ]
     },
     "metadata": {
      "needs_background": "light"
     },
     "output_type": "display_data"
    }
   ],
   "source": [
    "model1c.plot()"
   ]
  },
  {
   "cell_type": "markdown",
   "metadata": {},
   "source": [
    "### Commentary\n",
    "Terrifyingly, the validation data is consistently scoring better than the training data, even on the late-time plateau. This shows that the attempts of the test-data to mold the RNN layer are only punishing the performance of the pretrained embedding layer. The val_macroPrec gets glued to 66% very early on, and the other two metrics need about a dozen of epochs to get stuck there as well. After that, our early-stopping (patience=2) kicks in after 5 more epochs. For the first 10 epochs the embedding layer was staying frozen and the RNN was trying very hard to stop encumbering the embedding. After the 10th epoch RNN stopped improving despite the fact that validation data still was performing better that test-data and the embedding unfroze. But the newly gained freedom of adjusting 14 mil. parameters pushed the score less than one percentage point up."
   ]
  },
  {
   "cell_type": "markdown",
   "metadata": {},
   "source": [
    "---"
   ]
  },
  {
   "cell_type": "markdown",
   "metadata": {},
   "source": [
    "### 1d.\n",
    "Seeing as the RNN didn't work well with the embedding in the above run, this time we'll go back to **not using the pretrained embedding**. (Loss function: **my_loss**; **class_weight=None**.)"
   ]
  },
  {
   "cell_type": "code",
   "execution_count": 48,
   "metadata": {},
   "outputs": [
    {
     "name": "stdout",
     "output_type": "stream",
     "text": [
      "_________________________________________________________________\n",
      "Layer (type)                 Output Shape              Param #   \n",
      "=================================================================\n",
      "embedding_11 (Embedding)     (None, 679, 50)           13865200  \n",
      "_________________________________________________________________\n",
      "simple_rnn_12 (SimpleRNN)    (None, 100)               15100     \n",
      "_________________________________________________________________\n",
      "dense_13 (Dense)             (None, 6)                 606       \n",
      "=================================================================\n",
      "Total params: 13,880,906\n",
      "Trainable params: 13,880,906\n",
      "Non-trainable params: 0\n",
      "_________________________________________________________________\n"
     ]
    }
   ],
   "source": [
    "layers1d = [Embedding(input_dim=num_words, output_dim=50, input_length=padded_length, mask_zero=True),\n",
    "           SimpleRNN(100, dropout=0.1, recurrent_dropout=0.1),\n",
    "           ]\n",
    "\n",
    "model1d = BlackBox(layers=layers1d, loss=my_loss, class_weight=None,\\\n",
    "                   metrics=my_metrics,\\\n",
    "                   epochs=20,\n",
    "                   callbacks=callbacks(waking0th=False)\n",
    "                  )\n",
    "model1d.summary()"
   ]
  },
  {
   "cell_type": "code",
   "execution_count": 49,
   "metadata": {},
   "outputs": [
    {
     "name": "stdout",
     "output_type": "stream",
     "text": [
      "Train on 100000 samples, validate on 100000 samples\n",
      "Epoch 1/20\n",
      "100000/100000 [==============================] - 728s 7ms/step - loss: 0.6194 - macroPrec: 0.0385 - macroF1: 1.9794e-04 - macroRecall: 9.9759e-05 - val_loss: 0.6132 - val_macroPrec: 0.0150 - val_macroF1: 1.6514e-05 - val_macroRecall: 8.2618e-06\n",
      "Epoch 2/20\n",
      "100000/100000 [==============================] - 761s 8ms/step - loss: 0.6047 - macroPrec: 0.1799 - macroF1: 0.0134 - macroRecall: 0.0074 - val_loss: 0.5896 - val_macroPrec: 0.2938 - val_macroF1: 0.0884 - val_macroRecall: 0.0580\n",
      "Epoch 3/20\n",
      "100000/100000 [==============================] - 828s 8ms/step - loss: 0.5559 - macroPrec: 0.3169 - macroF1: 0.1682 - macroRecall: 0.1350 - val_loss: 0.5174 - val_macroPrec: 0.4121 - val_macroF1: 0.2499 - val_macroRecall: 0.2142\n",
      "Epoch 4/20\n",
      "100000/100000 [==============================] - 825s 8ms/step - loss: 0.5225 - macroPrec: 0.4063 - macroF1: 0.2332 - macroRecall: 0.1979 - val_loss: 0.5098 - val_macroPrec: 0.4011 - val_macroF1: 0.2653 - val_macroRecall: 0.2451\n",
      "Epoch 5/20\n",
      "100000/100000 [==============================] - 820s 8ms/step - loss: 0.4795 - macroPrec: 0.4556 - macroF1: 0.2958 - macroRecall: 0.2630 - val_loss: 0.4827 - val_macroPrec: 0.4493 - val_macroF1: 0.2969 - val_macroRecall: 0.2481\n",
      "Epoch 6/20\n",
      "100000/100000 [==============================] - 826s 8ms/step - loss: 0.4717 - macroPrec: 0.5096 - macroF1: 0.3686 - macroRecall: 0.3273 - val_loss: 0.5353 - val_macroPrec: 0.4240 - val_macroF1: 0.3621 - val_macroRecall: 0.3491\n",
      "Epoch 7/20\n",
      "100000/100000 [==============================] - 767s 8ms/step - loss: 0.4673 - macroPrec: 0.5267 - macroF1: 0.3460 - macroRecall: 0.2933 - val_loss: 0.4502 - val_macroPrec: 0.5154 - val_macroF1: 0.4007 - val_macroRecall: 0.3683\n",
      "Epoch 8/20\n",
      "100000/100000 [==============================] - 776s 8ms/step - loss: 0.4249 - macroPrec: 0.5166 - macroF1: 0.4322 - macroRecall: 0.4047 - val_loss: 0.4399 - val_macroPrec: 0.4883 - val_macroF1: 0.4252 - val_macroRecall: 0.3919\n",
      "Epoch 9/20\n",
      "100000/100000 [==============================] - 857s 9ms/step - loss: 0.4139 - macroPrec: 0.5759 - macroF1: 0.4639 - macroRecall: 0.4191 - val_loss: 0.4362 - val_macroPrec: 0.5045 - val_macroF1: 0.4260 - val_macroRecall: 0.3900\n",
      "Epoch 10/20\n",
      "100000/100000 [==============================] - 846s 8ms/step - loss: 0.3984 - macroPrec: 0.5773 - macroF1: 0.4960 - macroRecall: 0.4879 - val_loss: 0.4469 - val_macroPrec: 0.5038 - val_macroF1: 0.4199 - val_macroRecall: 0.3720\n",
      "Epoch 11/20\n",
      "100000/100000 [==============================] - 825s 8ms/step - loss: 0.3819 - macroPrec: 0.5976 - macroF1: 0.5381 - macroRecall: 0.5051 - val_loss: 0.4275 - val_macroPrec: 0.5064 - val_macroF1: 0.4651 - val_macroRecall: 0.4455\n",
      "Epoch 12/20\n",
      "100000/100000 [==============================] - 842s 8ms/step - loss: 0.3634 - macroPrec: 0.6062 - macroF1: 0.5750 - macroRecall: 0.5687 - val_loss: 0.4256 - val_macroPrec: 0.5158 - val_macroF1: 0.4804 - val_macroRecall: 0.4716\n",
      "Epoch 13/20\n",
      "100000/100000 [==============================] - 848s 8ms/step - loss: 0.3498 - macroPrec: 0.6058 - macroF1: 0.5907 - macroRecall: 0.6009 - val_loss: 0.4274 - val_macroPrec: 0.5076 - val_macroF1: 0.4814 - val_macroRecall: 0.4702\n",
      "Epoch 14/20\n",
      "100000/100000 [==============================] - 821s 8ms/step - loss: 0.3476 - macroPrec: 0.5968 - macroF1: 0.5907 - macroRecall: 0.6182 - val_loss: 0.4226 - val_macroPrec: 0.5114 - val_macroF1: 0.4947 - val_macroRecall: 0.4897\n",
      "Epoch 15/20\n",
      "100000/100000 [==============================] - 818s 8ms/step - loss: 0.3385 - macroPrec: 0.6121 - macroF1: 0.6102 - macroRecall: 0.6267 - val_loss: 0.4255 - val_macroPrec: 0.5136 - val_macroF1: 0.4907 - val_macroRecall: 0.4767\n",
      "Epoch 16/20\n",
      "100000/100000 [==============================] - 818s 8ms/step - loss: 0.3896 - macroPrec: 0.5802 - macroF1: 0.5690 - macroRecall: 0.5830 - val_loss: 0.4853 - val_macroPrec: 0.4600 - val_macroF1: 0.4626 - val_macroRecall: 0.4808\n"
     ]
    }
   ],
   "source": [
    "model1d.fit()"
   ]
  },
  {
   "cell_type": "code",
   "execution_count": 57,
   "metadata": {},
   "outputs": [
    {
     "data": {
      "image/png": "[encoded data removed]",
      "text/plain": [
       "<Figure size 1296x360 with 3 Axes>"
      ]
     },
     "metadata": {
      "needs_background": "light"
     },
     "output_type": "display_data"
    }
   ],
   "source": [
    "model1d.plot()"
   ]
  },
  {
   "cell_type": "markdown",
   "metadata": {},
   "source": [
    "### Commentary\n",
    "This time at later epochs the test-data reaches higher scores than validation data, as one would expect. It is nice to see that our custom loss function seems better than the customary categorical-crossentropy. But the *val_macroF1* does not even reach 50%. The score maxes out at abysmal 49% and goes down to 46% before the early-stopping kicks in. "
   ]
  },
  {
   "cell_type": "markdown",
   "metadata": {},
   "source": [
    "---\n",
    "---"
   ]
  },
  {
   "cell_type": "markdown",
   "metadata": {},
   "source": [
    "## TODO:\n",
    "* Repeat for Long-Short-Term-Memory\n",
    "* Find a better embedding"
   ]
  },
  {
   "cell_type": "markdown",
   "metadata": {},
   "source": [
    "---"
   ]
  },
  {
   "cell_type": "markdown",
   "metadata": {},
   "source": [
    "### Conv1D"
   ]
  },
  {
   "cell_type": "code",
   "execution_count": null,
   "metadata": {},
   "outputs": [],
   "source": [
    "# fresh embedd\n",
    "# cat_crossentropy\n",
    "\n",
    "layers2a = [Embedding(input_dim=num_words, output_dim=50, input_length=padded_length, mask_zero=False),\\\n",
    "            Dropout(0.5),\n",
    "            Conv1D(20, 4),\n",
    "            Conv1D(20, 4),\n",
    "            Flatten()\n",
    "           ]\n",
    "\n",
    "model2a = BlackBox(layers=layers2a, loss='categorical_crossentropy', metrics=my_metrics, class_weight=class_weights,\\\n",
    "                   epochs=20,\\\n",
    "                   callbacks = callbacks(waking0th=False)\n",
    "                  )\n",
    "model2a.summary()"
   ]
  },
  {
   "cell_type": "code",
   "execution_count": null,
   "metadata": {},
   "outputs": [],
   "source": [
    "model2a.fit()"
   ]
  },
  {
   "cell_type": "code",
   "execution_count": null,
   "metadata": {},
   "outputs": [],
   "source": [
    "model2a.plot()"
   ]
  },
  {
   "cell_type": "markdown",
   "metadata": {},
   "source": [
    "---"
   ]
  },
  {
   "cell_type": "code",
   "execution_count": null,
   "metadata": {},
   "outputs": [],
   "source": [
    "# pretrained, waking embeding\n",
    "# cat_crossentropy\n",
    "\n",
    "embedd_file = os.path.join(\"my_embeddings\", \"weights_50dim_GlblAvg_CatCrossE_10epochs.p\")\n",
    "\n",
    "layers2b = [Dropout(0.5),\n",
    "            Conv1D(20, 4),\n",
    "            Conv1D(20, 4),\n",
    "            Flatten()\n",
    "           ]\n",
    "\n",
    "model2b = BlackBox(layers=layers2b, loss=\"categorical_crossentropy\", class_weight=class_weights,\\\n",
    "                   metrics=my_metrics,\\\n",
    "                   epochs=20,\\\n",
    "                   embedd = embedd_file,\\\n",
    "                   embedd_dims=[num_words, 50, padded_length]\n",
    "                  )\n",
    "model2b.summary()"
   ]
  },
  {
   "cell_type": "code",
   "execution_count": null,
   "metadata": {},
   "outputs": [],
   "source": [
    "model2b.fit()"
   ]
  },
  {
   "cell_type": "code",
   "execution_count": null,
   "metadata": {},
   "outputs": [],
   "source": [
    "model2b.plot()"
   ]
  },
  {
   "cell_type": "markdown",
   "metadata": {},
   "source": [
    "---"
   ]
  },
  {
   "cell_type": "code",
   "execution_count": null,
   "metadata": {},
   "outputs": [],
   "source": [
    "# pretrained, waking embeding\n",
    "# my_loss\n",
    "\n",
    "embedd_file = os.path.join(\"my_embeddings\", \"weights_50dim_GlblAvg_MyLoss_10epochs.p\")\n",
    "\n",
    "layers2c = [Dropout(0.5),\n",
    "            Conv1D(20, 4),\n",
    "            Conv1D(20, 4),\n",
    "            Flatten()\n",
    "           ]\n",
    "\n",
    "model2c = BlackBox(layers=layers2c, loss=my_loss, class_weight=None,\\\n",
    "                   metrics=my_metrics,\\\n",
    "                   epochs=20,\\\n",
    "                   embedd = embedd_file,\\\n",
    "                   embedd_dims=[num_words, 50, padded_length]\n",
    "                  )\n",
    "model2c.summary()"
   ]
  },
  {
   "cell_type": "code",
   "execution_count": null,
   "metadata": {},
   "outputs": [],
   "source": [
    "model2c.fit()"
   ]
  },
  {
   "cell_type": "code",
   "execution_count": null,
   "metadata": {},
   "outputs": [],
   "source": [
    "model2c.plot()"
   ]
  },
  {
   "cell_type": "markdown",
   "metadata": {},
   "source": [
    "---"
   ]
  },
  {
   "cell_type": "code",
   "execution_count": null,
   "metadata": {},
   "outputs": [],
   "source": [
    "# frash embeding\n",
    "# my_loss\n",
    "\n",
    "embedd_file = os.path.join(\"my_embeddings\", \"weights_50dim_GlblAvg_MyLoss_10epochs.p\")\n",
    "\n",
    "layers2d = [Embedding(input_dim=num_words, output_dim=50, input_length=padded_length, mask_zero=False),\\\n",
    "            Dropout(0.5),\n",
    "            Conv1D(20, 4),\n",
    "            Conv1D(20, 4),\n",
    "            Flatten()\n",
    "           ]\n",
    "\n",
    "model2d = BlackBox(layers=layers2d, loss=my_loss, class_weight=None,\\\n",
    "                   metrics=my_metrics,\\\n",
    "                   epochs=20,\\\n",
    "                   callbacks = callbacks(waking0th=False)\n",
    "                  )\n",
    "model2d.summary()"
   ]
  },
  {
   "cell_type": "code",
   "execution_count": null,
   "metadata": {},
   "outputs": [],
   "source": [
    "model2d.fit()"
   ]
  },
  {
   "cell_type": "code",
   "execution_count": null,
   "metadata": {},
   "outputs": [],
   "source": [
    "model2d.plot()"
   ]
  },
  {
   "cell_type": "code",
   "execution_count": null,
   "metadata": {},
   "outputs": [],
   "source": []
  }
 ],
 "metadata": {
  "kernelspec": {
   "display_name": "Python 3",
   "language": "python",
   "name": "python3"
  },
  "language_info": {
   "codemirror_mode": {
    "name": "ipython",
    "version": 3
   },
   "file_extension": ".py",
   "mimetype": "text/x-python",
   "name": "python",
   "nbconvert_exporter": "python",
   "pygments_lexer": "ipython3",
   "version": "3.6.7"
  }
 },
 "nbformat": 4,
 "nbformat_minor": 2
}
