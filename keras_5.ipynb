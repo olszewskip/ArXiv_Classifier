{
 "cells": [
  {
   "cell_type": "code",
   "execution_count": 1,
   "metadata": {},
   "outputs": [
    {
     "name": "stderr",
     "output_type": "stream",
     "text": [
      "Using TensorFlow backend.\n"
     ]
    }
   ],
   "source": [
    "import os\n",
    "import pandas as pd\n",
    "import numpy as np\n",
    "import pickle\n",
    "\n",
    "from sklearn.utils.class_weight import compute_class_weight\n",
    "from keras.utils import to_categorical\n",
    "\n",
    "from keras.models import Sequential\n",
    "from keras.layers import *\n",
    "\n",
    "from keras.callbacks import ReduceLROnPlateau, EarlyStopping, ModelCheckpoint\n",
    "\n",
    "import matplotlib.pyplot as plt\n",
    "plt.style.use('seaborn')"
   ]
  },
  {
   "cell_type": "markdown",
   "metadata": {},
   "source": [
    "---"
   ]
  },
  {
   "cell_type": "markdown",
   "metadata": {},
   "source": [
    "### First, copy-paste the setup from the notebook that produced the pretrained classweights.\n",
    "This time we load also the test-data into memory\n",
    "(Note to self: learn how to make imports from other notebooks...)"
   ]
  },
  {
   "cell_type": "code",
   "execution_count": 2,
   "metadata": {},
   "outputs": [
    {
     "data": {
      "text/plain": [
       "{'unique_words': 277303,\n",
       " 'num_words': 277304,\n",
       " 'padded_length': 679,\n",
       " 'n_classes': 6,\n",
       " 'class_weights': array([ 1.26825655,  0.72736371,  0.27602776, 13.23801959, 30.29201502,\n",
       "         9.49559404])}"
      ]
     },
     "execution_count": 2,
     "metadata": {},
     "output_type": "execute_result"
    }
   ],
   "source": [
    "global_params = pickle.load(open(\"global_params.p\", \"rb\"))\n",
    "unique_words = global_params['unique_words']\n",
    "num_words = global_params['num_words']\n",
    "padded_length = global_params['padded_length']\n",
    "n_classes = global_params['n_classes']\n",
    "class_weights = global_params['class_weights']\n",
    "\n",
    "global_params"
   ]
  },
  {
   "cell_type": "code",
   "execution_count": 9,
   "metadata": {},
   "outputs": [],
   "source": [
    "X_train = np.load(os.path.join(\"data\", \"Kdata\", \"X_train.npy\"))\n",
    "y_train = np.load(os.path.join(\"data\", \"Kdata\", \"y_train.npy\"))\n",
    "X_val = np.load(os.path.join(\"data\", \"Kdata\", \"X_val.npy\"))\n",
    "y_val = np.load(os.path.join(\"data\", \"Kdata\", \"y_val.npy\"))\n",
    "X_test = np.load(os.path.join(\"data\", \"Kdata\", \"X_test.npy\"))\n",
    "y_test = np.load(os.path.join(\"data\", \"Kdata\", \"y_test.npy\"))"
   ]
  },
  {
   "cell_type": "code",
   "execution_count": 5,
   "metadata": {},
   "outputs": [],
   "source": [
    "from keras import backend as K\n",
    "\n",
    "# Custom metrics.\n",
    "# Note that any metric is computed per batch during training\n",
    "# (hence one needs large batches for it to make sense).\n",
    "# Also, there is the implicit 0.5 treshold in the K.round function below\n",
    "\n",
    "def macroPrec(y_true, y_pred):\n",
    "    \n",
    "    true_positives = K.sum(K.round(K.clip(y_true * y_pred, 0, 1)), axis=0)\n",
    "    positives = K.sum(K.round(y_pred), axis=0)\n",
    "    precision = true_positives / (positives + K.epsilon())\n",
    "\n",
    "    macroPrec = K.mean( precision )\n",
    "    \n",
    "    return macroPrec\n",
    "\n",
    "\n",
    "def macroRecall(y_true, y_pred):\n",
    "    \n",
    "    true_positives = K.sum(K.round(K.clip(y_true * y_pred, 0, 1)), axis=0)\n",
    "    actual_ones = K.sum(K.round(K.clip(y_true, 0, 1)), axis=0)\n",
    "    recall = true_positives / (actual_ones + K.epsilon())\n",
    "\n",
    "    macroRecall = K.mean( recall )\n",
    "    \n",
    "    return macroRecall\n",
    "\n",
    "\n",
    "def macroF1(y_true, y_pred):\n",
    "    \n",
    "    def recall(y_true, y_pred):\n",
    "\n",
    "        true_positives = K.sum(K.round(K.clip(y_true * y_pred, 0, 1)), axis=0)\n",
    "        actual_ones = K.sum(K.round(K.clip(y_true, 0, 1)), axis=0)\n",
    "        recall = true_positives / (actual_ones + K.epsilon())\n",
    "        return recall\n",
    "\n",
    "    \n",
    "    def precision(y_true, y_pred):\n",
    "        \n",
    "        true_positives = K.sum(K.round(K.clip(y_true * y_pred, 0, 1)), axis=0)\n",
    "        positives = K.sum(K.round(K.clip(y_pred, 0, 1)), axis=0)\n",
    "        precision = true_positives / (positives + K.epsilon())\n",
    "        return precision\n",
    "    \n",
    "    precision = precision(y_true, y_pred)\n",
    "    recall = recall(y_true, y_pred)\n",
    "    macroF1 = K.mean( 2*((precision*recall)/(precision+recall+K.epsilon())) )\n",
    "    \n",
    "    return macroF1\n",
    "\n",
    "\n",
    "\n",
    "# Custom loss functions\n",
    "# No clippping or rounding as those are not differentiable\n",
    "# Note to self: these functions are already taking into account class imbalances, so remeber\n",
    "# not to set the class_weight argument in fitting method when using them as the loss \n",
    "\n",
    "# semi macroF1\n",
    "def fuzzy_macroF1_flip(y_true, y_pred):\n",
    "    \n",
    "    def recall(y_true, y_pred):\n",
    "\n",
    "        true_positives = K.sum(y_true * y_pred, axis=0)\n",
    "        actual_ones = K.sum(y_true, axis=0)\n",
    "        recall = true_positives / (actual_ones + K.epsilon())\n",
    "        return recall\n",
    "\n",
    "    \n",
    "    def precision(y_true, y_pred):\n",
    "        \n",
    "        true_positives = K.sum(y_true * y_pred, axis=0)\n",
    "        positives = K.sum(y_pred, axis=0)\n",
    "        precision = true_positives / (positives + K.epsilon())\n",
    "        return precision\n",
    "    \n",
    "    precision = precision(y_true, y_pred)\n",
    "    recall = recall(y_true, y_pred)\n",
    "    macroF1 = K.mean( 2*((precision*recall)/(precision+recall+K.epsilon())) ) \n",
    "    \n",
    "    return 1-macroF1\n",
    "\n",
    "\n",
    "# weighted categorical crossentropy\n",
    "def my_crossE(y_true, y_pred):\n",
    "    \n",
    "    class_entropy = K.sum(y_true * K.log(y_pred+K.epsilon()), axis=0)\n",
    "    weighted_entropy = class_weights * class_entropy\n",
    "    return -K.mean(weighted_entropy)/4000  # arbitrary coefficient to make it close to [0-1] interval\n",
    "\n",
    "\n",
    "# take average of the last two, because why not\n",
    "def my_loss(y_true, y_pred):\n",
    "    return 0.5*(fuzzy_macroF1_flip(y_true, y_pred) + my_crossE(y_true, y_pred))"
   ]
  },
  {
   "cell_type": "code",
   "execution_count": 7,
   "metadata": {},
   "outputs": [],
   "source": [
    "# some other global learning settings\n",
    "\n",
    "batch_size = 3000\n",
    "patience = 2\n",
    "optimizer = 'adam' # 'rmsprop'\n",
    "my_metrics = [macroPrec, macroF1, macroRecall, my_crossE, \"categorical_accuracy\"]"
   ]
  },
  {
   "cell_type": "code",
   "execution_count": 8,
   "metadata": {},
   "outputs": [],
   "source": [
    "# auxiliary functions\n",
    "    \n",
    "\n",
    "# to plot the learning history,\n",
    "# i.e. loss and metrics on each train_batch and validation_batch\n",
    "def plot_history(history):\n",
    "    \n",
    "    plt.figure(figsize=(12, 5))\n",
    "    \n",
    "    loss = history.history['loss']\n",
    "    val_loss = history.history['val_loss']\n",
    "    x = range(1, len(loss) + 1)\n",
    "    \n",
    "    plt.subplot(1, 2, 1)    \n",
    "    plt.plot(x, loss, 'ob', label='Training loss')\n",
    "    plt.plot(x, val_loss, '-b', label='Validation loss')\n",
    "    plt.title('Training and val losses') \n",
    "    plt.legend()\n",
    "    \n",
    "    all_metrics = np.array(list(set(history.history.keys()) - set(['loss', 'val_loss', 'lr'])))\n",
    "    metrics = all_metrics[[not metric.startswith('val_') for metric in all_metrics]]\n",
    "    plt.subplot(1, 2, 2)\n",
    "    markers = ['b', 'r',  'g', 'y', 'm', 'c', 'k']\n",
    "    marker = zip(markers, markers)\n",
    "    for metric in metrics:\n",
    "        results = history.history[metric]\n",
    "        val_results = history.history['val_'+metric]\n",
    "        mark1, mark2 = next(marker)\n",
    "        plt.plot(x, results, 'o'+mark1, label=metric)\n",
    "        plt.plot(x, val_results, '-'+mark2, label='Validation '+metric)\n",
    "        plt.title('Training and val metrics')\n",
    "    plt.legend()\n",
    "    \n",
    "#     plt.subplot(1, 3, 3)\n",
    "#     lr = history.history['lr'] # learning rate\n",
    "#     plt.plot(x, lr, 'k', label='Learning rate')\n",
    "#     plt.title('Learning rate')  \n",
    "#     plt.legend()\n",
    "    \n",
    "\n",
    "# choose callback functions to be given in model.fit(...)\n",
    "def callbacks(LRfactor=0.5):\n",
    "    return [ReduceLROnPlateau(factor=LRfactor, patience = patience//2),\n",
    "            EarlyStopping(monitor='val_macroF1', mode='max', patience=patience)\n",
    "           ]"
   ]
  },
  {
   "cell_type": "markdown",
   "metadata": {},
   "source": [
    "---"
   ]
  },
  {
   "cell_type": "code",
   "execution_count": 47,
   "metadata": {},
   "outputs": [],
   "source": [
    "# the workhorse\n",
    "\n",
    "class BlackBox():\n",
    "    \n",
    "    def __init__(self, layers, loss, metrics, callbacks=None, class_weight=class_weights, epochs=10,\\\n",
    "                 embedd = None, embedd_dims=[None]*3, train_weights=False):\n",
    "        \n",
    "        self.layers = layers\n",
    "        self.loss = loss\n",
    "        self.metrics = metrics\n",
    "        self.callbacks = callbacks\n",
    "        self.class_weight = class_weight\n",
    "        self.epochs = epochs\n",
    "        self.train_weigts = train_weights\n",
    "        self.history = None\n",
    "        self.test_results = None\n",
    "        \n",
    "        self.model = Sequential()\n",
    "        if embedd:\n",
    "            self.input_dim = embedd_dims[0] # num_words\n",
    "            self.output_dim = embedd_dims[1] # dimension of the embedding space\n",
    "            self.input_length = embedd_dims[2] # padded_length\n",
    "            with open(embedd, \"rb\") as f:\n",
    "                self.embedd_weights = pickle.load(f)\n",
    "            \n",
    "            self.model.add(Embedding(input_dim=self.input_dim,\\\n",
    "                                     output_dim=self.output_dim,\\\n",
    "                                     input_length=self.input_length,\\\n",
    "                                     weights=self.embedd_weights,\\\n",
    "                                     trainable=self.train_weigts))\n",
    "            self.model.layers[0].trainable = self.train_weigts  # szczeżonego panbug szczeże\n",
    "            \n",
    "        for layer in layers:\n",
    "            self.model.add(layer)\n",
    "            \n",
    "        self.model.add(Dense(n_classes, activation='softmax'))\n",
    "        self.model.compile(loss=self.loss, optimizer=optimizer, metrics=self.metrics)\n",
    "    \n",
    "    def summary(self):\n",
    "        return self.model.summary()\n",
    "    \n",
    "    def fit(self, epochs=50):\n",
    "        self.history = self.model.fit(\n",
    "            X_train, y_train,\n",
    "            class_weight=self.class_weight,\n",
    "            epochs=self.epochs,\n",
    "            batch_size=batch_size,\n",
    "            #validation_split=0.1,\n",
    "            validation_data=(X_val, y_val),\n",
    "            callbacks=self.callbacks,\n",
    "            verbose = 1        \n",
    "            )\n",
    "        \n",
    "    def reset(self):\n",
    "        \n",
    "        self.history = None\n",
    "        self.test_results = None\n",
    "        self.model.compile(loss=self.loss, optimizer=optimizer, metrics=self.metrics)\n",
    "        \n",
    "    def evaluate(self, X_test, y_test):\n",
    "        print(f'Loss function: {self.loss.__name__ if callable(self.loss) else self.loss}. Metrics: {[metric.__name__ if callable(metric) else metric for metric in self.metrics]}')\n",
    "        print(\"Predicting for X_test, comparing with y_test\")\n",
    "        self.test_results = self.model.evaluate(X_test, y_test)\n",
    "        return self.test_results\n",
    "    \n",
    "    def plot(self):\n",
    "        plot_history(self.history)\n",
    "        \n",
    "    def save_embedd(self, name):\n",
    "        file = os.path.join(\"my_embeddings\", f\"weights_{name}.p\")\n",
    "        with open(file, 'wb') as f:\n",
    "            pickle.dump(self.model.layers[0].get_weights(), f)\n",
    "        \n",
    "    def Ksave(self, name):\n",
    "        file = os.path.join(\"my_embeddings\", f\"Kmodel_from_{name}.h5\")\n",
    "        self.model.save(file)\n",
    "    \n",
    "    def save_hist(self, name):\n",
    "        file = os.path.join(\"my_embeddings\", f\"history_of_{name}.p\")\n",
    "        with open(file, 'w') as f:\n",
    "            json.dump(self.history.history, f)\n",
    "\n"
   ]
  },
  {
   "cell_type": "markdown",
   "metadata": {},
   "source": [
    "---\n",
    "---"
   ]
  },
  {
   "cell_type": "markdown",
   "metadata": {},
   "source": [
    "# Loss = *categorical_crossentropy*"
   ]
  },
  {
   "cell_type": "markdown",
   "metadata": {},
   "source": [
    "---"
   ]
  },
  {
   "cell_type": "markdown",
   "metadata": {},
   "source": [
    "### Dense nets"
   ]
  },
  {
   "cell_type": "code",
   "execution_count": 50,
   "metadata": {},
   "outputs": [
    {
     "name": "stdout",
     "output_type": "stream",
     "text": [
      "_________________________________________________________________\n",
      "Layer (type)                 Output Shape              Param #   \n",
      "=================================================================\n",
      "embedding_33 (Embedding)     (None, 679, 50)           13865200  \n",
      "_________________________________________________________________\n",
      "dense_70 (Dense)             (None, 679, 50)           2550      \n",
      "_________________________________________________________________\n",
      "max_pooling1d_28 (MaxPooling (None, 338, 50)           0         \n",
      "_________________________________________________________________\n",
      "dropout_33 (Dropout)         (None, 338, 50)           0         \n",
      "_________________________________________________________________\n",
      "dense_71 (Dense)             (None, 338, 50)           2550      \n",
      "_________________________________________________________________\n",
      "max_pooling1d_29 (MaxPooling (None, 168, 50)           0         \n",
      "_________________________________________________________________\n",
      "dropout_34 (Dropout)         (None, 168, 50)           0         \n",
      "_________________________________________________________________\n",
      "flatten_20 (Flatten)         (None, 8400)              0         \n",
      "_________________________________________________________________\n",
      "dense_72 (Dense)             (None, 6)                 50406     \n",
      "=================================================================\n",
      "Total params: 13,920,706\n",
      "Trainable params: 55,506\n",
      "Non-trainable params: 13,865,200\n",
      "_________________________________________________________________\n"
     ]
    }
   ],
   "source": [
    "# embedding: keras layer, trained\n",
    "# structure: dense layers\n",
    "\n",
    "layers1a = [Dense(50, activation='relu'),\n",
    "           MaxPooling1D(4, 2),\n",
    "           Dropout(0.1),\n",
    "           Dense(50, activation='relu'),\n",
    "            MaxPooling1D(4, 2),\n",
    "           Dropout(0.1),\n",
    "            Flatten()\n",
    "          ]\n",
    "\n",
    "model1a = BlackBox(layers=layers1a, loss='categorical_crossentropy', metrics=my_metrics,\\\n",
    "                   epochs=40, callbacks = callbacks(),\\\n",
    "                   embedd = \"embedd_weights_50dim_GlblAvg_F1flip_10epochs.p\",\\\n",
    "                   embedd_dims=[num_words, 50, padded_length])\n",
    "model1a.summary()"
   ]
  },
  {
   "cell_type": "code",
   "execution_count": 51,
   "metadata": {},
   "outputs": [
    {
     "name": "stdout",
     "output_type": "stream",
     "text": [
      "Train on 500000 samples, validate on 200000 samples\n",
      "Epoch 1/50\n",
      "500000/500000 [==============================] - 635s 1ms/step - loss: 0.2856 - macroPrec: 0.7784 - macroF1: 0.6681 - macroRecall: 0.6264 - my_crossE: 1.5867 - val_loss: 0.2150 - val_macroPrec: 0.8239 - val_macroF1: 0.7790 - val_macroRecall: 0.7464 - val_my_crossE: 1.3139\n",
      "Epoch 2/50\n",
      "500000/500000 [==============================] - 625s 1ms/step - loss: 0.1924 - macroPrec: 0.8805 - macroF1: 0.8248 - macroRecall: 0.7857 - my_crossE: 1.2923 - val_loss: 0.2122 - val_macroPrec: 0.8262 - val_macroF1: 0.7836 - val_macroRecall: 0.7522 - val_my_crossE: 1.3136\n",
      "Epoch 3/50\n",
      "500000/500000 [==============================] - 638s 1ms/step - loss: 0.1875 - macroPrec: 0.8888 - macroF1: 0.8383 - macroRecall: 0.8018 - my_crossE: 1.2795 - val_loss: 0.2102 - val_macroPrec: 0.8230 - val_macroF1: 0.7855 - val_macroRecall: 0.7586 - val_my_crossE: 1.3001\n",
      "Epoch 4/50\n",
      "500000/500000 [==============================] - 641s 1ms/step - loss: 0.1852 - macroPrec: 0.8928 - macroF1: 0.8438 - macroRecall: 0.8087 - my_crossE: 1.2736 - val_loss: 0.2125 - val_macroPrec: 0.8156 - val_macroF1: 0.7913 - val_macroRecall: 0.7722 - val_my_crossE: 1.2805\n",
      "Epoch 5/50\n",
      "500000/500000 [==============================] - 624s 1ms/step - loss: 0.1836 - macroPrec: 0.8947 - macroF1: 0.8472 - macroRecall: 0.8129 - my_crossE: 1.2682 - val_loss: 0.2085 - val_macroPrec: 0.8305 - val_macroF1: 0.7839 - val_macroRecall: 0.7515 - val_my_crossE: 1.3160\n",
      "Epoch 6/50\n",
      " 12000/500000 [..............................] - ETA: 9:08 - loss: 0.1790 - macroPrec: 0.8950 - macroF1: 0.8466 - macroRecall: 0.8106 - my_crossE: 1.2888"
     ]
    },
    {
     "ename": "KeyboardInterrupt",
     "evalue": "",
     "output_type": "error",
     "traceback": [
      "\u001b[1;31m---------------------------------------------------------------------------\u001b[0m",
      "\u001b[1;31mKeyboardInterrupt\u001b[0m                         Traceback (most recent call last)",
      "\u001b[1;32m<ipython-input-51-a3dd36bc83f8>\u001b[0m in \u001b[0;36m<module>\u001b[1;34m()\u001b[0m\n\u001b[1;32m----> 1\u001b[1;33m \u001b[0mmodel1a\u001b[0m\u001b[1;33m.\u001b[0m\u001b[0mfit\u001b[0m\u001b[1;33m(\u001b[0m\u001b[1;33m)\u001b[0m\u001b[1;33m\u001b[0m\u001b[1;33m\u001b[0m\u001b[0m\n\u001b[0m",
      "\u001b[1;32m<ipython-input-47-2c4338f45292>\u001b[0m in \u001b[0;36mfit\u001b[1;34m(self, epochs)\u001b[0m\n\u001b[0;32m     43\u001b[0m             \u001b[0mvalidation_data\u001b[0m\u001b[1;33m=\u001b[0m\u001b[1;33m(\u001b[0m\u001b[0mX_val\u001b[0m\u001b[1;33m,\u001b[0m \u001b[0my_val\u001b[0m\u001b[1;33m)\u001b[0m\u001b[1;33m,\u001b[0m\u001b[1;33m\u001b[0m\u001b[1;33m\u001b[0m\u001b[0m\n\u001b[0;32m     44\u001b[0m             \u001b[0mcallbacks\u001b[0m\u001b[1;33m=\u001b[0m\u001b[0mself\u001b[0m\u001b[1;33m.\u001b[0m\u001b[0mcallbacks\u001b[0m\u001b[1;33m,\u001b[0m\u001b[1;33m\u001b[0m\u001b[1;33m\u001b[0m\u001b[0m\n\u001b[1;32m---> 45\u001b[1;33m             \u001b[0mverbose\u001b[0m \u001b[1;33m=\u001b[0m \u001b[1;36m1\u001b[0m\u001b[1;33m\u001b[0m\u001b[1;33m\u001b[0m\u001b[0m\n\u001b[0m\u001b[0;32m     46\u001b[0m             )\n\u001b[0;32m     47\u001b[0m \u001b[1;33m\u001b[0m\u001b[0m\n",
      "\u001b[1;32mC:\\Anaconda3\\lib\\site-packages\\keras\\engine\\training.py\u001b[0m in \u001b[0;36mfit\u001b[1;34m(self, x, y, batch_size, epochs, verbose, callbacks, validation_split, validation_data, shuffle, class_weight, sample_weight, initial_epoch, steps_per_epoch, validation_steps, **kwargs)\u001b[0m\n\u001b[0;32m   1037\u001b[0m                                         \u001b[0minitial_epoch\u001b[0m\u001b[1;33m=\u001b[0m\u001b[0minitial_epoch\u001b[0m\u001b[1;33m,\u001b[0m\u001b[1;33m\u001b[0m\u001b[1;33m\u001b[0m\u001b[0m\n\u001b[0;32m   1038\u001b[0m                                         \u001b[0msteps_per_epoch\u001b[0m\u001b[1;33m=\u001b[0m\u001b[0msteps_per_epoch\u001b[0m\u001b[1;33m,\u001b[0m\u001b[1;33m\u001b[0m\u001b[1;33m\u001b[0m\u001b[0m\n\u001b[1;32m-> 1039\u001b[1;33m                                         validation_steps=validation_steps)\n\u001b[0m\u001b[0;32m   1040\u001b[0m \u001b[1;33m\u001b[0m\u001b[0m\n\u001b[0;32m   1041\u001b[0m     def evaluate(self, x=None, y=None,\n",
      "\u001b[1;32mC:\\Anaconda3\\lib\\site-packages\\keras\\engine\\training_arrays.py\u001b[0m in \u001b[0;36mfit_loop\u001b[1;34m(model, f, ins, out_labels, batch_size, epochs, verbose, callbacks, val_f, val_ins, shuffle, callback_metrics, initial_epoch, steps_per_epoch, validation_steps)\u001b[0m\n\u001b[0;32m    197\u001b[0m                     \u001b[0mins_batch\u001b[0m\u001b[1;33m[\u001b[0m\u001b[0mi\u001b[0m\u001b[1;33m]\u001b[0m \u001b[1;33m=\u001b[0m \u001b[0mins_batch\u001b[0m\u001b[1;33m[\u001b[0m\u001b[0mi\u001b[0m\u001b[1;33m]\u001b[0m\u001b[1;33m.\u001b[0m\u001b[0mtoarray\u001b[0m\u001b[1;33m(\u001b[0m\u001b[1;33m)\u001b[0m\u001b[1;33m\u001b[0m\u001b[1;33m\u001b[0m\u001b[0m\n\u001b[0;32m    198\u001b[0m \u001b[1;33m\u001b[0m\u001b[0m\n\u001b[1;32m--> 199\u001b[1;33m                 \u001b[0mouts\u001b[0m \u001b[1;33m=\u001b[0m \u001b[0mf\u001b[0m\u001b[1;33m(\u001b[0m\u001b[0mins_batch\u001b[0m\u001b[1;33m)\u001b[0m\u001b[1;33m\u001b[0m\u001b[1;33m\u001b[0m\u001b[0m\n\u001b[0m\u001b[0;32m    200\u001b[0m                 \u001b[0mouts\u001b[0m \u001b[1;33m=\u001b[0m \u001b[0mto_list\u001b[0m\u001b[1;33m(\u001b[0m\u001b[0mouts\u001b[0m\u001b[1;33m)\u001b[0m\u001b[1;33m\u001b[0m\u001b[1;33m\u001b[0m\u001b[0m\n\u001b[0;32m    201\u001b[0m                 \u001b[1;32mfor\u001b[0m \u001b[0ml\u001b[0m\u001b[1;33m,\u001b[0m \u001b[0mo\u001b[0m \u001b[1;32min\u001b[0m \u001b[0mzip\u001b[0m\u001b[1;33m(\u001b[0m\u001b[0mout_labels\u001b[0m\u001b[1;33m,\u001b[0m \u001b[0mouts\u001b[0m\u001b[1;33m)\u001b[0m\u001b[1;33m:\u001b[0m\u001b[1;33m\u001b[0m\u001b[1;33m\u001b[0m\u001b[0m\n",
      "\u001b[1;32mC:\\Anaconda3\\lib\\site-packages\\keras\\backend\\tensorflow_backend.py\u001b[0m in \u001b[0;36m__call__\u001b[1;34m(self, inputs)\u001b[0m\n\u001b[0;32m   2713\u001b[0m                 \u001b[1;32mreturn\u001b[0m \u001b[0mself\u001b[0m\u001b[1;33m.\u001b[0m\u001b[0m_legacy_call\u001b[0m\u001b[1;33m(\u001b[0m\u001b[0minputs\u001b[0m\u001b[1;33m)\u001b[0m\u001b[1;33m\u001b[0m\u001b[1;33m\u001b[0m\u001b[0m\n\u001b[0;32m   2714\u001b[0m \u001b[1;33m\u001b[0m\u001b[0m\n\u001b[1;32m-> 2715\u001b[1;33m             \u001b[1;32mreturn\u001b[0m \u001b[0mself\u001b[0m\u001b[1;33m.\u001b[0m\u001b[0m_call\u001b[0m\u001b[1;33m(\u001b[0m\u001b[0minputs\u001b[0m\u001b[1;33m)\u001b[0m\u001b[1;33m\u001b[0m\u001b[1;33m\u001b[0m\u001b[0m\n\u001b[0m\u001b[0;32m   2716\u001b[0m         \u001b[1;32melse\u001b[0m\u001b[1;33m:\u001b[0m\u001b[1;33m\u001b[0m\u001b[1;33m\u001b[0m\u001b[0m\n\u001b[0;32m   2717\u001b[0m             \u001b[1;32mif\u001b[0m \u001b[0mpy_any\u001b[0m\u001b[1;33m(\u001b[0m\u001b[0mis_tensor\u001b[0m\u001b[1;33m(\u001b[0m\u001b[0mx\u001b[0m\u001b[1;33m)\u001b[0m \u001b[1;32mfor\u001b[0m \u001b[0mx\u001b[0m \u001b[1;32min\u001b[0m \u001b[0minputs\u001b[0m\u001b[1;33m)\u001b[0m\u001b[1;33m:\u001b[0m\u001b[1;33m\u001b[0m\u001b[1;33m\u001b[0m\u001b[0m\n",
      "\u001b[1;32mC:\\Anaconda3\\lib\\site-packages\\keras\\backend\\tensorflow_backend.py\u001b[0m in \u001b[0;36m_call\u001b[1;34m(self, inputs)\u001b[0m\n\u001b[0;32m   2673\u001b[0m             \u001b[0mfetched\u001b[0m \u001b[1;33m=\u001b[0m \u001b[0mself\u001b[0m\u001b[1;33m.\u001b[0m\u001b[0m_callable_fn\u001b[0m\u001b[1;33m(\u001b[0m\u001b[1;33m*\u001b[0m\u001b[0marray_vals\u001b[0m\u001b[1;33m,\u001b[0m \u001b[0mrun_metadata\u001b[0m\u001b[1;33m=\u001b[0m\u001b[0mself\u001b[0m\u001b[1;33m.\u001b[0m\u001b[0mrun_metadata\u001b[0m\u001b[1;33m)\u001b[0m\u001b[1;33m\u001b[0m\u001b[1;33m\u001b[0m\u001b[0m\n\u001b[0;32m   2674\u001b[0m         \u001b[1;32melse\u001b[0m\u001b[1;33m:\u001b[0m\u001b[1;33m\u001b[0m\u001b[1;33m\u001b[0m\u001b[0m\n\u001b[1;32m-> 2675\u001b[1;33m             \u001b[0mfetched\u001b[0m \u001b[1;33m=\u001b[0m \u001b[0mself\u001b[0m\u001b[1;33m.\u001b[0m\u001b[0m_callable_fn\u001b[0m\u001b[1;33m(\u001b[0m\u001b[1;33m*\u001b[0m\u001b[0marray_vals\u001b[0m\u001b[1;33m)\u001b[0m\u001b[1;33m\u001b[0m\u001b[1;33m\u001b[0m\u001b[0m\n\u001b[0m\u001b[0;32m   2676\u001b[0m         \u001b[1;32mreturn\u001b[0m \u001b[0mfetched\u001b[0m\u001b[1;33m[\u001b[0m\u001b[1;33m:\u001b[0m\u001b[0mlen\u001b[0m\u001b[1;33m(\u001b[0m\u001b[0mself\u001b[0m\u001b[1;33m.\u001b[0m\u001b[0moutputs\u001b[0m\u001b[1;33m)\u001b[0m\u001b[1;33m]\u001b[0m\u001b[1;33m\u001b[0m\u001b[1;33m\u001b[0m\u001b[0m\n\u001b[0;32m   2677\u001b[0m \u001b[1;33m\u001b[0m\u001b[0m\n",
      "\u001b[1;32mC:\\Anaconda3\\lib\\site-packages\\tensorflow\\python\\client\\session.py\u001b[0m in \u001b[0;36m__call__\u001b[1;34m(self, *args, **kwargs)\u001b[0m\n\u001b[0;32m   1437\u001b[0m           ret = tf_session.TF_SessionRunCallable(\n\u001b[0;32m   1438\u001b[0m               \u001b[0mself\u001b[0m\u001b[1;33m.\u001b[0m\u001b[0m_session\u001b[0m\u001b[1;33m.\u001b[0m\u001b[0m_session\u001b[0m\u001b[1;33m,\u001b[0m \u001b[0mself\u001b[0m\u001b[1;33m.\u001b[0m\u001b[0m_handle\u001b[0m\u001b[1;33m,\u001b[0m \u001b[0margs\u001b[0m\u001b[1;33m,\u001b[0m \u001b[0mstatus\u001b[0m\u001b[1;33m,\u001b[0m\u001b[1;33m\u001b[0m\u001b[1;33m\u001b[0m\u001b[0m\n\u001b[1;32m-> 1439\u001b[1;33m               run_metadata_ptr)\n\u001b[0m\u001b[0;32m   1440\u001b[0m         \u001b[1;32mif\u001b[0m \u001b[0mrun_metadata\u001b[0m\u001b[1;33m:\u001b[0m\u001b[1;33m\u001b[0m\u001b[1;33m\u001b[0m\u001b[0m\n\u001b[0;32m   1441\u001b[0m           \u001b[0mproto_data\u001b[0m \u001b[1;33m=\u001b[0m \u001b[0mtf_session\u001b[0m\u001b[1;33m.\u001b[0m\u001b[0mTF_GetBuffer\u001b[0m\u001b[1;33m(\u001b[0m\u001b[0mrun_metadata_ptr\u001b[0m\u001b[1;33m)\u001b[0m\u001b[1;33m\u001b[0m\u001b[1;33m\u001b[0m\u001b[0m\n",
      "\u001b[1;31mKeyboardInterrupt\u001b[0m: "
     ]
    }
   ],
   "source": [
    "model1a.fit()"
   ]
  },
  {
   "cell_type": "code",
   "execution_count": null,
   "metadata": {},
   "outputs": [],
   "source": []
  },
  {
   "cell_type": "markdown",
   "metadata": {},
   "source": [
    "---"
   ]
  },
  {
   "cell_type": "markdown",
   "metadata": {},
   "source": [
    "### Convolutions"
   ]
  },
  {
   "cell_type": "code",
   "execution_count": 27,
   "metadata": {},
   "outputs": [
    {
     "name": "stdout",
     "output_type": "stream",
     "text": [
      "_________________________________________________________________\n",
      "Layer (type)                 Output Shape              Param #   \n",
      "=================================================================\n",
      "embedding_15 (Embedding)     (None, 679, 50)           13865200  \n",
      "_________________________________________________________________\n",
      "conv1d_15 (Conv1D)           (None, 676, 40)           8040      \n",
      "_________________________________________________________________\n",
      "max_pooling1d_22 (MaxPooling (None, 337, 40)           0         \n",
      "_________________________________________________________________\n",
      "dropout_27 (Dropout)         (None, 337, 40)           0         \n",
      "_________________________________________________________________\n",
      "conv1d_16 (Conv1D)           (None, 334, 40)           6440      \n",
      "_________________________________________________________________\n",
      "max_pooling1d_23 (MaxPooling (None, 166, 40)           0         \n",
      "_________________________________________________________________\n",
      "dropout_28 (Dropout)         (None, 166, 40)           0         \n",
      "_________________________________________________________________\n",
      "flatten_17 (Flatten)         (None, 6640)              0         \n",
      "_________________________________________________________________\n",
      "dense_33 (Dense)             (None, 6)                 39846     \n",
      "=================================================================\n",
      "Total params: 13,919,526\n",
      "Trainable params: 54,326\n",
      "Non-trainable params: 13,865,200\n",
      "_________________________________________________________________\n"
     ]
    }
   ],
   "source": [
    "# embedding: keras layer, trained\n",
    "# structure: convolution layers\n",
    "\n",
    "layers2a = [Conv1D(40, 4),\n",
    "            MaxPooling1D(4, 2),\n",
    "            Dropout(0.1),\n",
    "            Conv1D(40, 4),\n",
    "            MaxPooling1D(4, 2),\n",
    "            Dropout(0.1),\n",
    "            Flatten()\n",
    "           ]\n",
    "\n",
    "model2a = BlackBox(layers=layers2a, loss='categorical_crossentropy', metrics=my_metrics,\\\n",
    "                  embedd = \"my_embedd_weights_50dim_GlblAvg.p\",\\\n",
    "                  embedd_dims=[num_words, 50, padded_length])\n",
    "model2a.summary()"
   ]
  },
  {
   "cell_type": "code",
   "execution_count": null,
   "metadata": {},
   "outputs": [],
   "source": [
    "model2a.fit()"
   ]
  },
  {
   "cell_type": "markdown",
   "metadata": {},
   "source": [
    "---"
   ]
  },
  {
   "cell_type": "markdown",
   "metadata": {},
   "source": [
    "### Recurrent NNEts"
   ]
  },
  {
   "cell_type": "code",
   "execution_count": 42,
   "metadata": {},
   "outputs": [
    {
     "name": "stdout",
     "output_type": "stream",
     "text": [
      "_________________________________________________________________\n",
      "Layer (type)                 Output Shape              Param #   \n",
      "=================================================================\n",
      "embedding_30 (Embedding)     (None, 679, 50)           13865200  \n",
      "_________________________________________________________________\n",
      "bidirectional_15 (Bidirectio (None, 260)               47060     \n",
      "_________________________________________________________________\n",
      "dense_62 (Dense)             (None, 30)                7830      \n",
      "_________________________________________________________________\n",
      "dense_63 (Dense)             (None, 6)                 186       \n",
      "=================================================================\n",
      "Total params: 13,920,276\n",
      "Trainable params: 55,076\n",
      "Non-trainable params: 13,865,200\n",
      "_________________________________________________________________\n"
     ]
    }
   ],
   "source": [
    "# embedding: keras layer, trained\n",
    "# structure: birectional fully connected RNN layer + dense\n",
    "\n",
    "layers3a = [Bidirectional(SimpleRNN(130, dropout=0.1, recurrent_dropout=0.1)),\n",
    "            Dense(30, activation='relu')\n",
    "           ]\n",
    "\n",
    "model3a = BlackBox(layers=layers3a, loss='categorical_crossentropy', metrics=my_metrics,\\\n",
    "                  embedd = \"my_embedd_weights_50dim_GlblAvg.p\",\\\n",
    "                  embedd_dims=[num_words, 50, padded_length])\n",
    "model3a.summary()"
   ]
  },
  {
   "cell_type": "markdown",
   "metadata": {},
   "source": [
    "---"
   ]
  },
  {
   "cell_type": "markdown",
   "metadata": {},
   "source": [
    "### Short-Long-Term-Memory"
   ]
  },
  {
   "cell_type": "code",
   "execution_count": 38,
   "metadata": {},
   "outputs": [
    {
     "name": "stdout",
     "output_type": "stream",
     "text": [
      "_________________________________________________________________\n",
      "Layer (type)                 Output Shape              Param #   \n",
      "=================================================================\n",
      "embedding_26 (Embedding)     (None, 679, 50)           13865200  \n",
      "_________________________________________________________________\n",
      "bidirectional_11 (Bidirectio (None, 120)               53280     \n",
      "_________________________________________________________________\n",
      "dense_54 (Dense)             (None, 20)                2420      \n",
      "_________________________________________________________________\n",
      "dense_55 (Dense)             (None, 6)                 126       \n",
      "=================================================================\n",
      "Total params: 13,921,026\n",
      "Trainable params: 55,826\n",
      "Non-trainable params: 13,865,200\n",
      "_________________________________________________________________\n"
     ]
    }
   ],
   "source": [
    "# embedding: keras layer, trained\n",
    "# structure: birectional fully connected RNN layer + dense\n",
    "\n",
    "layers4a = [Bidirectional(LSTM(60, dropout=0.1, recurrent_dropout=0.1)),\n",
    "            Dense(20, activation='relu')\n",
    "           ]\n",
    "\n",
    "model4a = BlackBox(layers=layers4a, loss='categorical_crossentropy', metrics=my_metrics,\\\n",
    "                  embedd = \"my_embedd_weights_50dim_GlblAvg.p\",\\\n",
    "                  embedd_dims=[num_words, 50, padded_length])\n",
    "model4a.summary()"
   ]
  },
  {
   "cell_type": "markdown",
   "metadata": {},
   "source": [
    "---\n",
    "---"
   ]
  },
  {
   "cell_type": "markdown",
   "metadata": {},
   "source": [
    "# Loss = fuzzy_macroF1_flip"
   ]
  },
  {
   "cell_type": "markdown",
   "metadata": {},
   "source": [
    "---"
   ]
  },
  {
   "cell_type": "markdown",
   "metadata": {},
   "source": [
    "### Dense nets"
   ]
  },
  {
   "cell_type": "markdown",
   "metadata": {},
   "source": [
    "---"
   ]
  },
  {
   "cell_type": "markdown",
   "metadata": {},
   "source": [
    "---"
   ]
  },
  {
   "cell_type": "markdown",
   "metadata": {},
   "source": [
    "---"
   ]
  },
  {
   "cell_type": "code",
   "execution_count": null,
   "metadata": {},
   "outputs": [],
   "source": []
  },
  {
   "cell_type": "code",
   "execution_count": null,
   "metadata": {},
   "outputs": [],
   "source": []
  }
 ],
 "metadata": {
  "kernelspec": {
   "display_name": "Python 3",
   "language": "python",
   "name": "python3"
  },
  "language_info": {
   "codemirror_mode": {
    "name": "ipython",
    "version": 3
   },
   "file_extension": ".py",
   "mimetype": "text/x-python",
   "name": "python",
   "nbconvert_exporter": "python",
   "pygments_lexer": "ipython3",
   "version": "3.6.7"
  }
 },
 "nbformat": 4,
 "nbformat_minor": 2
}
