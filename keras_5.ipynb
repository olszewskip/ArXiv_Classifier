{
 "cells": [
  {
   "cell_type": "code",
   "execution_count": 2,
   "metadata": {},
   "outputs": [],
   "source": [
    "import os\n",
    "import pandas as pd\n",
    "import numpy as np\n",
    "import pickle\n",
    "\n",
    "from sklearn.utils.class_weight import compute_class_weight\n",
    "from keras.utils import to_categorical\n",
    "\n",
    "from keras.models import Sequential\n",
    "from keras.layers import *\n",
    "\n",
    "from keras import optimizers\n",
    "from keras.callbacks import ReduceLROnPlateau, EarlyStopping, Callback\n",
    "\n",
    "import matplotlib.pyplot as plt\n",
    "plt.style.use('seaborn')"
   ]
  },
  {
   "cell_type": "markdown",
   "metadata": {},
   "source": [
    "---"
   ]
  },
  {
   "cell_type": "markdown",
   "metadata": {},
   "source": [
    "### First, copy-paste the setup from the notebook that produced the pretrained classweights.\n",
    "This time we load also the test-data into memory\n",
    "(Note to self: learn how to make imports from other notebooks...)"
   ]
  },
  {
   "cell_type": "code",
   "execution_count": 6,
   "metadata": {},
   "outputs": [
    {
     "data": {
      "text/plain": [
       "{'unique_words': 277303,\n",
       " 'num_words': 277304,\n",
       " 'padded_length': 679,\n",
       " 'n_classes': 6,\n",
       " 'class_weights': array([ 1.26825655,  0.72736371,  0.27602776, 13.23801959, 30.29201502,\n",
       "         9.49559404])}"
      ]
     },
     "execution_count": 6,
     "metadata": {},
     "output_type": "execute_result"
    }
   ],
   "source": [
    "global_params = pickle.load(open(\"global_params.p\", \"rb\"))\n",
    "unique_words = global_params['unique_words']\n",
    "num_words = global_params['num_words']\n",
    "padded_length = global_params['padded_length']\n",
    "n_classes = global_params['n_classes']\n",
    "class_weights = global_params['class_weights']\n",
    "\n",
    "global_params"
   ]
  },
  {
   "cell_type": "code",
   "execution_count": 7,
   "metadata": {},
   "outputs": [],
   "source": [
    "X_train = np.load(os.path.join(\"data\", \"Kdata\", \"X_train.npy\"))\n",
    "y_train = np.load(os.path.join(\"data\", \"Kdata\", \"y_train.npy\"))\n",
    "X_val = np.load(os.path.join(\"data\", \"Kdata\", \"X_val.npy\"))\n",
    "y_val = np.load(os.path.join(\"data\", \"Kdata\", \"y_val.npy\"))\n",
    "X_test = np.load(os.path.join(\"data\", \"Kdata\", \"X_test.npy\"))\n",
    "y_test = np.load(os.path.join(\"data\", \"Kdata\", \"y_test.npy\"))"
   ]
  },
  {
   "cell_type": "code",
   "execution_count": 8,
   "metadata": {},
   "outputs": [],
   "source": [
    "from keras import backend as K\n",
    "\n",
    "# Custom metrics.\n",
    "# Note that any metric is computed per batch during training\n",
    "# (hence one needs large batches for it to make sense).\n",
    "# Also, there is the implicit 0.5 treshold in the K.round function below\n",
    "\n",
    "def macroPrec(y_true, y_pred):\n",
    "    \n",
    "    true_positives = K.sum(K.round(K.clip(y_true * y_pred, 0, 1)), axis=0)\n",
    "    positives = K.sum(K.round(y_pred), axis=0)\n",
    "    precision = true_positives / (positives + K.epsilon())\n",
    "\n",
    "    macroPrec = K.mean( precision )\n",
    "    \n",
    "    return macroPrec\n",
    "\n",
    "\n",
    "def macroRecall(y_true, y_pred):\n",
    "    \n",
    "    true_positives = K.sum(K.round(K.clip(y_true * y_pred, 0, 1)), axis=0)\n",
    "    actual_ones = K.sum(K.round(K.clip(y_true, 0, 1)), axis=0)\n",
    "    recall = true_positives / (actual_ones + K.epsilon())\n",
    "\n",
    "    macroRecall = K.mean( recall )\n",
    "    \n",
    "    return macroRecall\n",
    "\n",
    "\n",
    "def macroF1(y_true, y_pred):\n",
    "    \n",
    "    def recall(y_true, y_pred):\n",
    "\n",
    "        true_positives = K.sum(K.round(K.clip(y_true * y_pred, 0, 1)), axis=0)\n",
    "        actual_ones = K.sum(K.round(K.clip(y_true, 0, 1)), axis=0)\n",
    "        recall = true_positives / (actual_ones + K.epsilon())\n",
    "        return recall\n",
    "\n",
    "    \n",
    "    def precision(y_true, y_pred):\n",
    "        \n",
    "        true_positives = K.sum(K.round(K.clip(y_true * y_pred, 0, 1)), axis=0)\n",
    "        positives = K.sum(K.round(K.clip(y_pred, 0, 1)), axis=0)\n",
    "        precision = true_positives / (positives + K.epsilon())\n",
    "        return precision\n",
    "    \n",
    "    precision = precision(y_true, y_pred)\n",
    "    recall = recall(y_true, y_pred)\n",
    "    macroF1 = K.mean( 2*((precision*recall)/(precision+recall+K.epsilon())) )\n",
    "    \n",
    "    return macroF1\n",
    "\n",
    "\n",
    "\n",
    "# Custom loss functions\n",
    "# No clippping or rounding as those are not differentiable\n",
    "# Note to self: these functions are already taking into account class imbalances, so remeber\n",
    "# not to set the class_weight argument in fitting method when using them as the loss \n",
    "\n",
    "# # semi macroF1\n",
    "# def fuzzy_macroF1_flip(y_true, y_pred):\n",
    "\n",
    "#     true_positives = K.sum(y_true * y_pred, axis=0)\n",
    "    \n",
    "#     actual_ones = K.sum(y_true, axis=0)\n",
    "#     recall = true_positives / (actual_ones + K.epsilon())\n",
    "\n",
    "#     positives = K.sum(y_pred, axis=0)\n",
    "#     precision = true_positives / (positives + K.epsilon())\n",
    "    \n",
    "#     macroF1 = 2 * K.mean( precision*recall / (precision + recall + K.epsilon()) ) \n",
    "    \n",
    "#     return 1-macroF1\n",
    "\n",
    "\n",
    "# # weighted categorical crossentropy\n",
    "# def my_crossE(y_true, y_pred):\n",
    "    \n",
    "#     class_entropy = K.sum(y_true * K.log(y_pred+K.epsilon()), axis=0)\n",
    "#     weighted_entropy = K.mean(class_weights * class_entropy)\n",
    "#     return -4E-4 * weighted_entropy  # arbitrary coefficient to make it close to [0-1] interval\n",
    "\n",
    "\n",
    "# take average of the last two, because why not\n",
    "def my_loss(y_true, y_pred):\n",
    "    # return 0.5*(fuzzy_macroF1_flip(y_true, y_pred) + my_crossE(y_true, y_pred))\n",
    "    \n",
    "    true_positives = K.sum(y_true * y_pred, axis=0)\n",
    "    \n",
    "    actual_ones = K.sum(y_true, axis=0)\n",
    "    recall = true_positives / (actual_ones + K.epsilon())\n",
    "\n",
    "    positives = K.sum(y_pred, axis=0)\n",
    "    precision = true_positives / (positives + K.epsilon())\n",
    "    \n",
    "    macroF1p2 = K.mean( precision*recall / (precision + recall + K.epsilon()) )\n",
    "    \n",
    "    class_entropy = K.sum(y_true * K.log(y_pred+K.epsilon()), axis=0)\n",
    "    weighted_entropy = K.mean(class_weights * class_entropy)\n",
    "    \n",
    "    return 0.5 - macroF1p2 - 2E-4 * weighted_entropy"
   ]
  },
  {
   "cell_type": "code",
   "execution_count": 52,
   "metadata": {},
   "outputs": [],
   "source": [
    "# auxiliary functions\n",
    "    \n",
    "\n",
    "# to plot the learning history,\n",
    "# i.e. loss and metrics on each train_batch and validation_batch\n",
    "def plot_history(history):\n",
    "    \n",
    "    plt.figure(figsize=(12, 5))\n",
    "    \n",
    "    loss = history['loss']\n",
    "    val_loss = history['val_loss']\n",
    "    x = range(1, len(loss) + 1)\n",
    "    \n",
    "    plt.subplot(1, 3, 1)    \n",
    "    plt.plot(x, loss, 'ob', label='Training loss')\n",
    "    plt.plot(x, val_loss, '-b', label='Validation loss')\n",
    "    plt.title('Training and val losses') \n",
    "    plt.legend()\n",
    "    \n",
    "    all_metrics = np.array(list(set(history.keys()) - set(['loss', 'val_loss', 'lr'])))\n",
    "    metrics = all_metrics[[not metric.startswith('val_') for metric in all_metrics]]\n",
    "    plt.subplot(1, 3, 2)\n",
    "    markers = ['b', 'r',  'g', 'y', 'm', 'c', 'k']\n",
    "    marker = zip(markers, markers)\n",
    "    for metric in metrics:\n",
    "        results = history[metric]\n",
    "        val_results = history['val_'+metric]\n",
    "        mark1, mark2 = next(marker)\n",
    "        plt.plot(x, results, 'o'+mark1, label=metric)\n",
    "        plt.plot(x, val_results, '-'+mark2, label='Validation '+metric)\n",
    "        plt.title('Training and val metrics')\n",
    "    plt.legend()\n",
    "    \n",
    "    plt.subplot(1, 3, 3)\n",
    "    lr = history['lr'] # learning rate\n",
    "    plt.plot(x, lr, 'k', label='Learning rate')\n",
    "    plt.title('Learning rate')  \n",
    "    plt.legend()\n",
    "    \n",
    "\n",
    "# choose callbacks to be given in model.fit(...)\n",
    "class WakeEmbedding(Callback):\n",
    "    def __init__(self, rel_lr_treshold):\n",
    "        self.rel_lr_treshold = rel_lr_treshold\n",
    "    \n",
    "    def on_train_begin(self, logs={}):\n",
    "        self.init_lr =  K.eval(self.model.optimizer.lr)\n",
    "        \n",
    "    def on_epoch_begin(self, epoch, logs={}):\n",
    "        lr =  K.eval(self.model.optimizer.lr)\n",
    "        if (lr / self.init_lr) <= self.rel_lr_treshold:\n",
    "            self.model.layers[0].trainable = True\n",
    "        print(\"Embedding trainable:\", self.model.layers[0].trainable)\n",
    "\n",
    "        \n",
    "callbacks = [ReduceLROnPlateau(factor=0.9, patience = 1),\n",
    "             EarlyStopping(monitor='val_macroF1', mode='max', patience=2),\n",
    "            WakeEmbedding(0.9)\n",
    "           ]\n",
    "\n",
    "\n",
    "# some other global learning settings\n",
    "\n",
    "batch_size = 3000\n",
    "# defualt lr = 0.001\n",
    "optimizer = optimizers.Adam(lr=0.002, beta_1=0.9, beta_2=0.999,\\\n",
    "                            epsilon=None, decay=0.0, amsgrad=False)\n",
    "my_metrics = [macroPrec, macroF1, macroRecall] #, my_crossE, fuzzy_macroF1_flip, my_loss]"
   ]
  },
  {
   "cell_type": "markdown",
   "metadata": {},
   "source": [
    "---"
   ]
  },
  {
   "cell_type": "code",
   "execution_count": 53,
   "metadata": {},
   "outputs": [],
   "source": [
    "# the workhorse\n",
    "\n",
    "class BlackBox():\n",
    "    \n",
    "    def __init__(self, layers, loss, metrics, callbacks=callbacks, class_weight=class_weights, epochs=epochs,\\\n",
    "                 embedd = None, embedd_dims=[None]*3, train_weights=False):\n",
    "        \n",
    "        self.layers = layers\n",
    "        self.loss = loss\n",
    "        self.metrics = metrics\n",
    "        self.callbacks = callbacks\n",
    "        self.class_weight = class_weight\n",
    "        self.epochs = epochs\n",
    "        self.train_weigts = train_weights\n",
    "        self.history = None\n",
    "        self.test_results = None\n",
    "        \n",
    "        self.model = Sequential()\n",
    "        if embedd:\n",
    "            self.input_dim = embedd_dims[0] # num_words\n",
    "            self.output_dim = embedd_dims[1] # dimension of the embedding space\n",
    "            self.input_length = embedd_dims[2] # padded_length\n",
    "            with open(embedd, \"rb\") as f:\n",
    "                self.embedd_weights = pickle.load(f)\n",
    "            \n",
    "            self.model.add(Embedding(input_dim=self.input_dim,\\\n",
    "                                     output_dim=self.output_dim,\\\n",
    "                                     input_length=self.input_length,\\\n",
    "                                     weights=self.embedd_weights,\\\n",
    "                                     trainable=self.train_weigts))\n",
    "            self.model.layers[0].trainable = self.train_weigts  # szczeżonego panbug szczeże\n",
    "            \n",
    "        for layer in layers:\n",
    "            self.model.add(layer)\n",
    "            \n",
    "        self.model.add(Dense(n_classes, activation='softmax'))\n",
    "        self.model.compile(loss=self.loss, optimizer=optimizer, metrics=self.metrics)\n",
    "    \n",
    "    def summary(self):\n",
    "        return self.model.summary()\n",
    "    \n",
    "    def fit(self, epochs=50):\n",
    "        self.history = self.model.fit(\n",
    "            X_train, y_train,\n",
    "            class_weight=self.class_weight,\n",
    "            epochs=self.epochs,\n",
    "            batch_size=batch_size,\n",
    "            #validation_split=0.1,\n",
    "            validation_data=(X_val, y_val),\n",
    "            callbacks=self.callbacks,\n",
    "            verbose = 1        \n",
    "            )\n",
    "        \n",
    "    def reset(self):\n",
    "        \n",
    "        self.history = None\n",
    "        self.test_results = None\n",
    "        self.model.compile(loss=self.loss, optimizer=optimizer, metrics=self.metrics)\n",
    "        \n",
    "    def evaluate(self, X_test, y_test):\n",
    "        print(f'Loss function: {self.loss.__name__ if callable(self.loss) else self.loss}. Metrics: {[metric.__name__ if callable(metric) else metric for metric in self.metrics]}')\n",
    "        print(\"Predicting for X_test, comparing with y_test\")\n",
    "        self.test_results = self.model.evaluate(X_test, y_test)\n",
    "        return self.test_results\n",
    "    \n",
    "    def plot(self):\n",
    "        plot_history(self.history.history)\n",
    "        \n",
    "    def save_embedd(self, name):\n",
    "        file = os.path.join(\"my_embeddings\", f\"weights_{name}.p\")\n",
    "        with open(file, 'wb') as f:\n",
    "            pickle.dump(self.model.layers[0].get_weights(), f)\n",
    "        \n",
    "    def Ksave(self, name):\n",
    "        file = os.path.join(\"my_embeddings\", f\"Kmodel_from_{name}.h5\")\n",
    "        self.model.save(file)\n",
    "    \n",
    "    def save_hist(self, name):\n",
    "        file = os.path.join(\"my_embeddings\", f\"history_of_{name}.p\")\n",
    "        with open(file, 'w') as f:\n",
    "            json.dump(self.history.history, f) \n"
   ]
  },
  {
   "cell_type": "code",
   "execution_count": 54,
   "metadata": {},
   "outputs": [],
   "source": [
    "custom_objects={'macroPrec': macroPrec,\\\n",
    "                'macroF1': macroF1,\\\n",
    "                'macroRecall': macroRecall,\\\n",
    "#                 'my_crossE': my_crossE,\\\n",
    "#                 'fuzzy_macroF1_flip': fuzzy_macroF1_flip,\\\n",
    "                'my_loss': my_loss\n",
    "               }"
   ]
  },
  {
   "cell_type": "markdown",
   "metadata": {},
   "source": [
    "---\n",
    "---"
   ]
  },
  {
   "cell_type": "code",
   "execution_count": null,
   "metadata": {},
   "outputs": [],
   "source": [
    "embedd_file = os.path.join(\"my_embeddings\", \"weights_50dim_GlblAvg_MyLoss_10epochs.p\")"
   ]
  },
  {
   "cell_type": "markdown",
   "metadata": {},
   "source": [
    "---\n",
    "---"
   ]
  },
  {
   "cell_type": "markdown",
   "metadata": {},
   "source": [
    "# Loss = *my_loss*"
   ]
  },
  {
   "cell_type": "markdown",
   "metadata": {},
   "source": [
    "---"
   ]
  },
  {
   "cell_type": "markdown",
   "metadata": {},
   "source": [
    "### Dense nets"
   ]
  },
  {
   "cell_type": "code",
   "execution_count": 56,
   "metadata": {},
   "outputs": [
    {
     "name": "stdout",
     "output_type": "stream",
     "text": [
      "_________________________________________________________________\n",
      "Layer (type)                 Output Shape              Param #   \n",
      "=================================================================\n",
      "embedding_8 (Embedding)      (None, 679, 50)           13865200  \n",
      "_________________________________________________________________\n",
      "dense_26 (Dense)             (None, 679, 50)           2550      \n",
      "_________________________________________________________________\n",
      "max_pooling1d_19 (MaxPooling (None, 338, 50)           0         \n",
      "_________________________________________________________________\n",
      "dropout_19 (Dropout)         (None, 338, 50)           0         \n",
      "_________________________________________________________________\n",
      "dense_27 (Dense)             (None, 338, 50)           2550      \n",
      "_________________________________________________________________\n",
      "max_pooling1d_20 (MaxPooling (None, 168, 50)           0         \n",
      "_________________________________________________________________\n",
      "dropout_20 (Dropout)         (None, 168, 50)           0         \n",
      "_________________________________________________________________\n",
      "flatten_10 (Flatten)         (None, 8400)              0         \n",
      "_________________________________________________________________\n",
      "dense_28 (Dense)             (None, 6)                 50406     \n",
      "=================================================================\n",
      "Total params: 13,920,706\n",
      "Trainable params: 55,506\n",
      "Non-trainable params: 13,865,200\n",
      "_________________________________________________________________\n"
     ]
    }
   ],
   "source": [
    "# embedding: keras layer, trained\n",
    "# structure: dense layers\n",
    "\n",
    "layers1a = [Dense(50, activation='relu'),\n",
    "           MaxPooling1D(4, 2),\n",
    "           Dropout(0.1),\n",
    "           Dense(50, activation='relu'),\n",
    "            MaxPooling1D(4, 2),\n",
    "           Dropout(0.1),\n",
    "            Flatten()\n",
    "          ]\n",
    "\n",
    "model1a = BlackBox(layers=layers1a, loss=my_loss, metrics=my_metrics,\\\n",
    "                   epochs=20,\\\n",
    "                   embedd = embedd_file,\\\n",
    "                   embedd_dims=[num_words, 50, padded_length])\n",
    "model1a.summary()"
   ]
  },
  {
   "cell_type": "code",
   "execution_count": 57,
   "metadata": {
    "scrolled": false
   },
   "outputs": [
    {
     "name": "stdout",
     "output_type": "stream",
     "text": [
      "Train on 500000 samples, validate on 200000 samples\n",
      "Epoch 1/20\n",
      "Embedding trainable: False\n",
      "500000/500000 [==============================] - 937s 2ms/step - loss: 0.1930 - macroPrec: 0.7427 - macroF1: 0.7609 - macroRecall: 0.8095 - val_loss: 0.1822 - val_macroPrec: 0.7545 - val_macroF1: 0.7812 - val_macroRecall: 0.8259\n",
      "Epoch 2/20\n",
      "Embedding trainable: False\n",
      "500000/500000 [==============================] - 977s 2ms/step - loss: 0.1572 - macroPrec: 0.7711 - macroF1: 0.8062 - macroRecall: 0.8596 - val_loss: 0.1800 - val_macroPrec: 0.7573 - val_macroF1: 0.7855 - val_macroRecall: 0.8263\n",
      "Epoch 3/20\n",
      "Embedding trainable: False\n",
      "500000/500000 [==============================] - 978s 2ms/step - loss: 0.1508 - macroPrec: 0.7800 - macroF1: 0.8148 - macroRecall: 0.8662 - val_loss: 0.1852 - val_macroPrec: 0.7705 - val_macroF1: 0.7882 - val_macroRecall: 0.8158\n",
      "Epoch 4/20\n",
      "Embedding trainable: True\n",
      "500000/500000 [==============================] - 988s 2ms/step - loss: 0.1461 - macroPrec: 0.7878 - macroF1: 0.8216 - macroRecall: 0.8708 - val_loss: 0.1802 - val_macroPrec: 0.7685 - val_macroF1: 0.7903 - val_macroRecall: 0.8215\n",
      "Epoch 5/20\n",
      "Embedding trainable: True\n",
      "500000/500000 [==============================] - 984s 2ms/step - loss: 0.1447 - macroPrec: 0.7881 - macroF1: 0.8220 - macroRecall: 0.8727 - val_loss: 0.1800 - val_macroPrec: 0.7515 - val_macroF1: 0.7850 - val_macroRecall: 0.8334\n",
      "Epoch 6/20\n",
      "Embedding trainable: True\n",
      "500000/500000 [==============================] - 989s 2ms/step - loss: 0.1402 - macroPrec: 0.7933 - macroF1: 0.8278 - macroRecall: 0.8774 - val_loss: 0.1880 - val_macroPrec: 0.7809 - val_macroF1: 0.7910 - val_macroRecall: 0.8069\n",
      "Epoch 7/20\n",
      "Embedding trainable: True\n",
      "500000/500000 [==============================] - 984s 2ms/step - loss: 0.1386 - macroPrec: 0.7971 - macroF1: 0.8306 - macroRecall: 0.8787 - val_loss: 0.1806 - val_macroPrec: 0.7698 - val_macroF1: 0.7927 - val_macroRecall: 0.8247\n",
      "Epoch 8/20\n",
      "Embedding trainable: True\n",
      "500000/500000 [==============================] - 990s 2ms/step - loss: 0.1362 - macroPrec: 0.7998 - macroF1: 0.8336 - macroRecall: 0.8814 - val_loss: 0.1808 - val_macroPrec: 0.7633 - val_macroF1: 0.7899 - val_macroRecall: 0.8278\n",
      "Epoch 9/20\n",
      "Embedding trainable: True\n",
      "500000/500000 [==============================] - 984s 2ms/step - loss: 0.1350 - macroPrec: 0.8004 - macroF1: 0.8348 - macroRecall: 0.8832 - val_loss: 0.1831 - val_macroPrec: 0.7642 - val_macroF1: 0.7893 - val_macroRecall: 0.8279\n"
     ]
    }
   ],
   "source": [
    "model1a.fit() # my_loss"
   ]
  },
  {
   "cell_type": "code",
   "execution_count": 58,
   "metadata": {},
   "outputs": [
    {
     "data": {
      "image/png": "[encoded data removed]",
      "text/plain": [
       "<Figure size 864x360 with 3 Axes>"
      ]
     },
     "metadata": {},
     "output_type": "display_data"
    }
   ],
   "source": [
    "model1a.plot()"
   ]
  },
  {
   "cell_type": "markdown",
   "metadata": {},
   "source": [
    "---"
   ]
  },
  {
   "cell_type": "markdown",
   "metadata": {},
   "source": [
    "### Convolutions"
   ]
  },
  {
   "cell_type": "code",
   "execution_count": 59,
   "metadata": {},
   "outputs": [
    {
     "name": "stdout",
     "output_type": "stream",
     "text": [
      "_________________________________________________________________\n",
      "Layer (type)                 Output Shape              Param #   \n",
      "=================================================================\n",
      "embedding_9 (Embedding)      (None, 679, 50)           13865200  \n",
      "_________________________________________________________________\n",
      "conv1d_1 (Conv1D)            (None, 676, 40)           8040      \n",
      "_________________________________________________________________\n",
      "max_pooling1d_21 (MaxPooling (None, 337, 40)           0         \n",
      "_________________________________________________________________\n",
      "dropout_21 (Dropout)         (None, 337, 40)           0         \n",
      "_________________________________________________________________\n",
      "conv1d_2 (Conv1D)            (None, 334, 40)           6440      \n",
      "_________________________________________________________________\n",
      "max_pooling1d_22 (MaxPooling (None, 166, 40)           0         \n",
      "_________________________________________________________________\n",
      "dropout_22 (Dropout)         (None, 166, 40)           0         \n",
      "_________________________________________________________________\n",
      "flatten_11 (Flatten)         (None, 6640)              0         \n",
      "_________________________________________________________________\n",
      "dense_29 (Dense)             (None, 6)                 39846     \n",
      "=================================================================\n",
      "Total params: 13,919,526\n",
      "Trainable params: 54,326\n",
      "Non-trainable params: 13,865,200\n",
      "_________________________________________________________________\n"
     ]
    }
   ],
   "source": [
    "# embedding: keras layer, trained\n",
    "# structure: convolution layers\n",
    "\n",
    "layers2a = [Conv1D(40, 4),\n",
    "            MaxPooling1D(4, 2),\n",
    "            Dropout(0.1),\n",
    "            Conv1D(40, 4),\n",
    "            MaxPooling1D(4, 2),\n",
    "            Dropout(0.1),\n",
    "            Flatten()\n",
    "           ]\n",
    "\n",
    "model2a = BlackBox(layers=layers2a, loss=my_loss, metrics=my_metrics,\\\n",
    "                   epochs=20,\\\n",
    "                   embedd = embedd_file,\\\n",
    "                   embedd_dims=[num_words, 50, padded_length])\n",
    "model2a.summary()"
   ]
  },
  {
   "cell_type": "code",
   "execution_count": 60,
   "metadata": {},
   "outputs": [
    {
     "name": "stdout",
     "output_type": "stream",
     "text": [
      "Train on 500000 samples, validate on 200000 samples\n",
      "Epoch 1/20\n",
      "Embedding trainable: False\n",
      "500000/500000 [==============================] - 1408s 3ms/step - loss: 0.1783 - macroPrec: 0.7559 - macroF1: 0.7885 - macroRecall: 0.8485 - val_loss: 0.1853 - val_macroPrec: 0.7555 - val_macroF1: 0.7839 - val_macroRecall: 0.8267\n",
      "Epoch 2/20\n",
      "Embedding trainable: False\n",
      "500000/500000 [==============================] - 1407s 3ms/step - loss: 0.1466 - macroPrec: 0.7862 - macroF1: 0.8210 - macroRecall: 0.8737 - val_loss: 0.1819 - val_macroPrec: 0.7620 - val_macroF1: 0.7898 - val_macroRecall: 0.8350\n",
      "Epoch 3/20\n",
      "Embedding trainable: False\n",
      "500000/500000 [==============================] - 1405s 3ms/step - loss: 0.1407 - macroPrec: 0.7933 - macroF1: 0.8279 - macroRecall: 0.8780 - val_loss: 0.1946 - val_macroPrec: 0.7867 - val_macroF1: 0.7913 - val_macroRecall: 0.8055\n",
      "Epoch 4/20\n",
      "Embedding trainable: True\n",
      "500000/500000 [==============================] - 1407s 3ms/step - loss: 0.1368 - macroPrec: 0.7999 - macroF1: 0.8331 - macroRecall: 0.8809 - val_loss: 0.1868 - val_macroPrec: 0.7673 - val_macroF1: 0.7883 - val_macroRecall: 0.8295\n",
      "Epoch 5/20\n",
      "Embedding trainable: True\n",
      "500000/500000 [==============================] - 1406s 3ms/step - loss: 0.1336 - macroPrec: 0.8037 - macroF1: 0.8372 - macroRecall: 0.8846 - val_loss: 0.1865 - val_macroPrec: 0.7812 - val_macroF1: 0.7961 - val_macroRecall: 0.8166\n",
      "Epoch 6/20\n",
      "Embedding trainable: True\n",
      "500000/500000 [==============================] - 1406s 3ms/step - loss: 0.1315 - macroPrec: 0.8055 - macroF1: 0.8394 - macroRecall: 0.8873 - val_loss: 0.1882 - val_macroPrec: 0.7734 - val_macroF1: 0.7930 - val_macroRecall: 0.8190\n",
      "Epoch 7/20\n",
      "Embedding trainable: True\n",
      "500000/500000 [==============================] - 1408s 3ms/step - loss: 0.1295 - macroPrec: 0.8084 - macroF1: 0.8423 - macroRecall: 0.8894 - val_loss: 0.1824 - val_macroPrec: 0.7672 - val_macroF1: 0.7925 - val_macroRecall: 0.8272\n"
     ]
    }
   ],
   "source": [
    "model2a.fit()"
   ]
  },
  {
   "cell_type": "markdown",
   "metadata": {},
   "source": [
    "---"
   ]
  },
  {
   "cell_type": "markdown",
   "metadata": {},
   "source": [
    "### Recurrent NNEts"
   ]
  },
  {
   "cell_type": "code",
   "execution_count": 61,
   "metadata": {},
   "outputs": [
    {
     "name": "stdout",
     "output_type": "stream",
     "text": [
      "_________________________________________________________________\n",
      "Layer (type)                 Output Shape              Param #   \n",
      "=================================================================\n",
      "embedding_10 (Embedding)     (None, 679, 50)           13865200  \n",
      "_________________________________________________________________\n",
      "bidirectional_1 (Bidirection (None, 260)               47060     \n",
      "_________________________________________________________________\n",
      "dense_30 (Dense)             (None, 30)                7830      \n",
      "_________________________________________________________________\n",
      "dense_31 (Dense)             (None, 6)                 186       \n",
      "=================================================================\n",
      "Total params: 13,920,276\n",
      "Trainable params: 55,076\n",
      "Non-trainable params: 13,865,200\n",
      "_________________________________________________________________\n"
     ]
    }
   ],
   "source": [
    "# embedding: keras layer, trained\n",
    "# structure: birectional fully connected RNN layer + dense\n",
    "\n",
    "layers3a = [Bidirectional(SimpleRNN(130, dropout=0.1, recurrent_dropout=0.1)),\n",
    "            Dense(30, activation='relu')\n",
    "           ]\n",
    "\n",
    "model3a = BlackBox(layers=layers3a, loss=my_loss, metrics=my_metrics,\\\n",
    "                   epochs=20,\\\n",
    "                   embedd = embedd_file,\\\n",
    "                   embedd_dims=[num_words, 50, padded_length])\n",
    "model3a.summary()"
   ]
  },
  {
   "cell_type": "code",
   "execution_count": 62,
   "metadata": {},
   "outputs": [
    {
     "ename": "NameError",
     "evalue": "name 'model3' is not defined",
     "output_type": "error",
     "traceback": [
      "\u001b[1;31m---------------------------------------------------------------------------\u001b[0m",
      "\u001b[1;31mNameError\u001b[0m                                 Traceback (most recent call last)",
      "\u001b[1;32m<ipython-input-62-c5c515e83c19>\u001b[0m in \u001b[0;36m<module>\u001b[1;34m\u001b[0m\n\u001b[1;32m----> 1\u001b[1;33m \u001b[0mmodel3\u001b[0m\u001b[1;33m.\u001b[0m\u001b[0mplot\u001b[0m\u001b[1;33m(\u001b[0m\u001b[1;33m)\u001b[0m\u001b[1;33m\u001b[0m\u001b[1;33m\u001b[0m\u001b[0m\n\u001b[0m",
      "\u001b[1;31mNameError\u001b[0m: name 'model3' is not defined"
     ]
    }
   ],
   "source": [
    "model3.plot()"
   ]
  },
  {
   "cell_type": "markdown",
   "metadata": {},
   "source": [
    "---"
   ]
  },
  {
   "cell_type": "markdown",
   "metadata": {},
   "source": [
    "### Short-Long-Term-Memory"
   ]
  },
  {
   "cell_type": "code",
   "execution_count": null,
   "metadata": {},
   "outputs": [],
   "source": [
    "# embedding: keras layer, trained\n",
    "# structure: birectional fully connected RNN layer + dense\n",
    "\n",
    "layers4a = [Bidirectional(LSTM(60, dropout=0.1, recurrent_dropout=0.1)),\n",
    "            Dense(20, activation='relu')\n",
    "           ]\n",
    "\n",
    "model4a = BlackBox(layers=layers4a, loss=my_loss, metrics=my_metrics,\\\n",
    "                   epochs=20,\\\n",
    "                   embedd = embedd_file,\\\n",
    "                   embedd_dims=[num_words, 50, padded_length])\n",
    "model4a.summary()"
   ]
  },
  {
   "cell_type": "code",
   "execution_count": null,
   "metadata": {},
   "outputs": [],
   "source": [
    "model4.plot()"
   ]
  },
  {
   "cell_type": "markdown",
   "metadata": {},
   "source": [
    "---\n",
    "---"
   ]
  },
  {
   "cell_type": "markdown",
   "metadata": {},
   "source": [
    "# Loss = ..."
   ]
  },
  {
   "cell_type": "markdown",
   "metadata": {},
   "source": [
    "---"
   ]
  },
  {
   "cell_type": "markdown",
   "metadata": {},
   "source": [
    "### Dense nets"
   ]
  },
  {
   "cell_type": "markdown",
   "metadata": {},
   "source": [
    "---"
   ]
  },
  {
   "cell_type": "markdown",
   "metadata": {},
   "source": [
    "---"
   ]
  },
  {
   "cell_type": "markdown",
   "metadata": {},
   "source": [
    "---"
   ]
  },
  {
   "cell_type": "code",
   "execution_count": null,
   "metadata": {},
   "outputs": [],
   "source": []
  },
  {
   "cell_type": "code",
   "execution_count": null,
   "metadata": {},
   "outputs": [],
   "source": []
  }
 ],
 "metadata": {
  "kernelspec": {
   "display_name": "Python 3",
   "language": "python",
   "name": "python3"
  },
  "language_info": {
   "codemirror_mode": {
    "name": "ipython",
    "version": 3
   },
   "file_extension": ".py",
   "mimetype": "text/x-python",
   "name": "python",
   "nbconvert_exporter": "python",
   "pygments_lexer": "ipython3",
   "version": "3.6.7"
  }
 },
 "nbformat": 4,
 "nbformat_minor": 2
}
